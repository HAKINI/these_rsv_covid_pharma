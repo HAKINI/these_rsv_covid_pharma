{
 "cells": [
  {
   "cell_type": "code",
   "execution_count": 2,
   "id": "2eef7e86",
   "metadata": {},
   "outputs": [
    {
     "name": "stdout",
     "output_type": "stream",
     "text": [
      "✅ Tous les fichiers nécessaires sont disponibles.\n",
      "📦 Tailles des fichiers: {'common_FR_long': '0.28 MB', 'vacsi_fr_extended': '0.01 MB', 'google_mobility_fr_weekly': '0.06 MB', 'coviprev_reg_weekly': '0.10 MB', 'meteo_fr_weekly': '0.03 MB', 'dpps_fr_weekly': '0.10 MB', 'erviss_fr_weekly': '1.10 MB'}\n",
      "⏱️  Repères: COVID_START=2020-03-01, VACC_START=2021-01-01 | Lags: cov=4, mnp=8, work=9\n"
     ]
    }
   ],
   "source": [
    "# =========================\n",
    "# 📦 Imports & configuration\n",
    "# =========================\n",
    "from pathlib import Path\n",
    "import warnings\n",
    "import numpy as np\n",
    "import pandas as pd\n",
    "import statsmodels.api as sm\n",
    "from statsmodels.stats.diagnostic import acorr_ljungbox\n",
    "from itertools import product\n",
    "\n",
    "import plotly.express as px\n",
    "import plotly.graph_objects as go\n",
    "\n",
    "# --- Warnings & display ---\n",
    "warnings.filterwarnings(\"ignore\")\n",
    "pd.set_option(\"display.max_columns\", 120)\n",
    "pd.set_option(\"display.width\", 180)\n",
    "pd.options.mode.chained_assignment = None  # pour éviter les faux positifs\n",
    "np.random.seed(42)\n",
    "\n",
    "# --- Plotly global theme ---\n",
    "px.defaults.template = \"plotly_white\"\n",
    "px.defaults.width = 1000\n",
    "px.defaults.height = 520\n",
    "\n",
    "# =========================\n",
    "# 📁 Chemins & fichiers\n",
    "# =========================\n",
    "DATA = Path(\"../data_clean\")\n",
    "FILES = {\n",
    "    \"common_FR_long\":          DATA / \"ODISSEE/common_FR_long.csv\",\n",
    "    \"vacsi_fr_extended\":       DATA / \"VACSI/vacsi_fr_extended.csv\",\n",
    "    \"google_mobility_fr_weekly\": DATA / \"GOOGLE/google_mobility_fr_weekly.csv\",\n",
    "    \"coviprev_reg_weekly\":     DATA / \"COVIPREV/coviprev_reg_weekly.csv\",\n",
    "    \"meteo_fr_weekly\":         DATA / \"METEO/meteo_fr_weekly.csv\",\n",
    "    \"dpps_fr_weekly\":          DATA / \"COVIPREV/dpps_fr_weekly.csv\",\n",
    "    \"erviss_fr_weekly\":        DATA / \"ERVISS/erviss_fr_weekly.csv\",\n",
    "}\n",
    "\n",
    "# Vérification existence fichiers (fail fast)\n",
    "missing = [k for k, p in FILES.items() if not p.exists()]\n",
    "if missing:\n",
    "    raise FileNotFoundError(f\"❌ Fichiers manquants: {missing}\")\n",
    "print(\"✅ Tous les fichiers nécessaires sont disponibles.\")\n",
    "\n",
    "# (Optionnel) aperçu rapide des tailles\n",
    "try:\n",
    "    sizes = {k: f\"{p.stat().st_size/1e6:.2f} MB\" for k, p in FILES.items()}\n",
    "    print(\"📦 Tailles des fichiers:\", sizes)\n",
    "except Exception:\n",
    "    pass\n",
    "\n",
    "# =========================\n",
    "# 🧭 Constantes globales\n",
    "# =========================\n",
    "# Repères temporels (périodes de rupture)\n",
    "COVID_START = pd.Timestamp(\"2020-03-01\")\n",
    "VACC_START  = pd.Timestamp(\"2021-01-01\")\n",
    "\n",
    "# Lags \"par défaut\" issus de ton exploration empirique\n",
    "LAG_VACC = 4   # semaines\n",
    "LAG_MNP  = 8   # semaines\n",
    "LAG_WORK = 9   # semaines\n",
    "\n",
    "# Périodicité saisonnière hebdo (52 semaines)\n",
    "SEASON_PERIOD = 52\n",
    "\n",
    "print(f\"⏱️  Repères: COVID_START={COVID_START.date()}, VACC_START={VACC_START.date()} | Lags: cov={LAG_VACC}, mnp={LAG_MNP}, work={LAG_WORK}\")\n"
   ]
  },
  {
   "cell_type": "code",
   "execution_count": 3,
   "id": "57d2fe89",
   "metadata": {},
   "outputs": [],
   "source": [
    "# ==========================================\n",
    "# 🧩 Fonctions utilitaires\n",
    "# ==========================================\n",
    "\n",
    "# --- 1️⃣ Harmonisation des dates ISO ---\n",
    "def keyify(df: pd.DataFrame) -> pd.DataFrame:\n",
    "    \"\"\"\n",
    "    Ajoute les colonnes year_iso et week_iso_num\n",
    "    à partir de la colonne date_monday si absentes.\n",
    "    \"\"\"\n",
    "    df = df.copy()\n",
    "    if \"date_monday\" not in df.columns:\n",
    "        raise ValueError(\"❌ La colonne 'date_monday' est requise.\")\n",
    "    if \"year_iso\" not in df.columns or \"week_iso_num\" not in df.columns:\n",
    "        d = pd.to_datetime(df[\"date_monday\"])\n",
    "        iso = d.dt.isocalendar()\n",
    "        df[\"year_iso\"] = iso[\"year\"].astype(int)\n",
    "        df[\"week_iso_num\"] = iso[\"week\"].astype(int)\n",
    "    return df\n",
    "\n",
    "\n",
    "# --- 2️⃣ Normalisation simple (z-score) ---\n",
    "def zscore(s: pd.Series) -> pd.Series:\n",
    "    \"\"\"Retourne (x - μ) / σ sans NaN ni ddof.\"\"\"\n",
    "    return (s - s.mean()) / s.std(ddof=0) if s.std(ddof=0) != 0 else s * 0\n",
    "\n",
    "\n",
    "# --- 3️⃣ Variables temporelles & saisonnières ---\n",
    "def build_time_features(df: pd.DataFrame, period: int = 52) -> pd.DataFrame:\n",
    "    \"\"\"Ajoute t, sin52, cos52 pour la saisonnalité hebdo.\"\"\"\n",
    "    df = df.copy()\n",
    "    df[\"t\"] = np.arange(len(df))\n",
    "    df[\"sin52\"] = np.sin(2 * np.pi * df[\"t\"] / period)\n",
    "    df[\"cos52\"] = np.cos(2 * np.pi * df[\"t\"] / period)\n",
    "    return df\n",
    "\n",
    "\n",
    "# --- 4️⃣ Chargement des datasets bruts ---\n",
    "def load_datasets(files: dict) -> dict:\n",
    "    \"\"\"Charge tous les fichiers CSV spécifiés dans FILES et les renvoie sous forme de dict.\"\"\"\n",
    "    data = {}\n",
    "    for name, path in files.items():\n",
    "        try:\n",
    "            data[name] = pd.read_csv(path)\n",
    "            print(f\"✅ {name} chargé ({data[name].shape[0]} lignes, {data[name].shape[1]} colonnes)\")\n",
    "        except Exception as e:\n",
    "            print(f\"⚠️ Erreur lecture {name} : {e}\")\n",
    "    return data\n",
    "\n",
    "\n",
    "# --- 5️⃣ Fusion des variables exogènes principales ---\n",
    "def merge_exog(rsv_df, vac_df, work_df, cov_df):\n",
    "    \"\"\"Fusionne les tables exogènes (vaccin, travail, CoviPrev) sur les clés ISO.\"\"\"\n",
    "    merged = (\n",
    "        rsv_df[[\"date_monday\", \"year_iso\", \"week_iso_num\"]]\n",
    "        .merge(vac_df, on=[\"year_iso\", \"week_iso_num\"], how=\"left\")\n",
    "        .merge(work_df, on=[\"year_iso\", \"week_iso_num\"], how=\"left\")\n",
    "        .merge(cov_df, on=[\"year_iso\", \"week_iso_num\"], how=\"left\")\n",
    "        .set_index(\"date_monday\")\n",
    "        .sort_index()\n",
    "    )\n",
    "    return merged\n",
    "\n",
    "\n",
    "# --- 6️⃣ Matrice de features (avec lags + saison) ---\n",
    "def build_model_matrix(df, lags=(4, 8, 9), mask_vars=None):\n",
    "    \"\"\"Construit la matrice finale X avec lags et MNP composite.\"\"\"\n",
    "    df = df.copy()\n",
    "    lag_vac, lag_mnp, lag_work = lags\n",
    "\n",
    "    # inversion mobilité (baisse = renforcement mesures)\n",
    "    df[\"work_red\"] = zscore(-df[\"work\"])\n",
    "\n",
    "    if mask_vars is not None:\n",
    "        for v in mask_vars:\n",
    "            df[v] = zscore(df[v])\n",
    "        df[\"MNP_score\"] = df[mask_vars + [\"work_red\"]].mean(axis=1)\n",
    "    else:\n",
    "        df[\"MNP_score\"] = zscore(df[\"work_red\"])\n",
    "\n",
    "    # Lags\n",
    "    X = pd.DataFrame(index=df.index)\n",
    "    X[\"cov12_lag\"] = df[\"couv_complet\"].shift(lag_vac)\n",
    "    X[\"MNP_lag\"]   = df[\"MNP_score\"].shift(lag_mnp)\n",
    "    X[\"work_lag\"]  = df[\"work\"].shift(lag_work)\n",
    "\n",
    "    # Temps + saison\n",
    "    X = build_time_features(X)\n",
    "    return X\n",
    "\n",
    "\n",
    "# --- 7️⃣ Visualisation simple ---\n",
    "def plot_series(df, y_col=\"RSV\", y_fit=None, title=\"RSV Observed vs Fitted\"):\n",
    "    \"\"\"Affiche une série temporelle RSV observée et ajustée.\"\"\"\n",
    "    fig = go.Figure()\n",
    "    fig.add_trace(go.Scatter(x=df.index, y=df[y_col], mode=\"lines\", name=\"Observed\", line=dict(color=\"black\")))\n",
    "    if y_fit is not None:\n",
    "        fig.add_trace(go.Scatter(x=df.index, y=y_fit, mode=\"lines\", name=\"Fitted\", line=dict(color=\"blue\", dash=\"dot\")))\n",
    "    fig.update_layout(\n",
    "        title=title,\n",
    "        xaxis_title=\"Week\",\n",
    "        yaxis_title=y_col,\n",
    "        template=\"plotly_white\",\n",
    "        width=900, height=450,\n",
    "    )\n",
    "    fig.show()\n",
    "\n",
    "\n",
    "# --- 8️⃣ Wrapper modèle OLS / SARIMAX ---\n",
    "def fit_model(model_type, y, X, **kwargs):\n",
    "    \"\"\"\n",
    "    Lance un modèle parmi [\"OLS\", \"ITS\", \"SARIMAX\"] avec gestion robuste des erreurs.\n",
    "    \"\"\"\n",
    "    if model_type == \"OLS\":\n",
    "        mod = sm.OLS(y, sm.add_constant(X, has_constant=\"add\"), missing=\"drop\").fit(cov_type=\"HC3\")\n",
    "    elif model_type == \"ITS\":\n",
    "        mod = sm.OLS(y, sm.add_constant(X, has_constant=\"add\"), missing=\"drop\").fit(\n",
    "            cov_type=\"HAC\", cov_kwds={\"maxlags\": kwargs.get(\"maxlags\", 12)}\n",
    "        )\n",
    "    elif model_type == \"SARIMAX\":\n",
    "        mod = sm.tsa.statespace.SARIMAX(\n",
    "            endog=y,\n",
    "            exog=X,\n",
    "            order=kwargs.get(\"order\", (1, 0, 0)),\n",
    "            seasonal_order=kwargs.get(\"seasonal_order\", (1, 0, 0, 52)),\n",
    "            enforce_stationarity=False,\n",
    "            enforce_invertibility=False,\n",
    "        ).fit(disp=False)\n",
    "    else:\n",
    "        raise ValueError(f\"❌ Modèle inconnu : {model_type}\")\n",
    "    print(f\"✅ Modèle {model_type} ajusté ({len(y)} observations)\")\n",
    "    return mod\n"
   ]
  },
  {
   "cell_type": "code",
   "execution_count": 4,
   "id": "c2c3a417",
   "metadata": {},
   "outputs": [
    {
     "name": "stdout",
     "output_type": "stream",
     "text": [
      "✅ common_FR_long chargé (3223 lignes, 11 colonnes)\n",
      "✅ vacsi_fr_extended chargé (105 lignes, 14 colonnes)\n",
      "✅ google_mobility_fr_weekly chargé (840 lignes, 8 colonnes)\n",
      "✅ coviprev_reg_weekly chargé (1296 lignes, 8 colonnes)\n",
      "✅ meteo_fr_weekly chargé (392 lignes, 9 colonnes)\n",
      "✅ dpps_fr_weekly chargé (1296 lignes, 8 colonnes)\n",
      "✅ erviss_fr_weekly chargé (11713 lignes, 13 colonnes)\n",
      "✅ RSV prêt (0-1 an) — 293 lignes\n",
      "✅ CoviPrev agrégé nationalement (12 semaines)\n",
      "✅ Base finale prête : 98 lignes, 7 colonnes\n"
     ]
    },
    {
     "data": {
      "text/html": [
       "<div>\n",
       "<style scoped>\n",
       "    .dataframe tbody tr th:only-of-type {\n",
       "        vertical-align: middle;\n",
       "    }\n",
       "\n",
       "    .dataframe tbody tr th {\n",
       "        vertical-align: top;\n",
       "    }\n",
       "\n",
       "    .dataframe thead th {\n",
       "        text-align: right;\n",
       "    }\n",
       "</style>\n",
       "<table border=\"1\" class=\"dataframe\">\n",
       "  <thead>\n",
       "    <tr style=\"text-align: right;\">\n",
       "      <th></th>\n",
       "      <th>RSV</th>\n",
       "      <th>cov12_lag</th>\n",
       "      <th>MNP_lag</th>\n",
       "      <th>work_lag</th>\n",
       "      <th>t</th>\n",
       "      <th>sin52</th>\n",
       "      <th>cos52</th>\n",
       "    </tr>\n",
       "    <tr>\n",
       "      <th>date_monday</th>\n",
       "      <th></th>\n",
       "      <th></th>\n",
       "      <th></th>\n",
       "      <th></th>\n",
       "      <th></th>\n",
       "      <th></th>\n",
       "      <th></th>\n",
       "    </tr>\n",
       "  </thead>\n",
       "  <tbody>\n",
       "    <tr>\n",
       "      <th>2021-01-25</th>\n",
       "      <td>711.936545</td>\n",
       "      <td>0.000000</td>\n",
       "      <td>0.030364</td>\n",
       "      <td>-23.494505</td>\n",
       "      <td>56</td>\n",
       "      <td>0.464723</td>\n",
       "      <td>0.885456</td>\n",
       "    </tr>\n",
       "    <tr>\n",
       "      <th>2021-02-01</th>\n",
       "      <td>763.390974</td>\n",
       "      <td>0.000146</td>\n",
       "      <td>0.612450</td>\n",
       "      <td>-20.791209</td>\n",
       "      <td>57</td>\n",
       "      <td>0.568065</td>\n",
       "      <td>0.822984</td>\n",
       "    </tr>\n",
       "    <tr>\n",
       "      <th>2021-02-08</th>\n",
       "      <td>873.929009</td>\n",
       "      <td>0.001203</td>\n",
       "      <td>-0.068845</td>\n",
       "      <td>-20.241758</td>\n",
       "      <td>58</td>\n",
       "      <td>0.663123</td>\n",
       "      <td>0.748511</td>\n",
       "    </tr>\n",
       "  </tbody>\n",
       "</table>\n",
       "</div>"
      ],
      "text/plain": [
       "                    RSV  cov12_lag   MNP_lag   work_lag   t     sin52     cos52\n",
       "date_monday                                                                    \n",
       "2021-01-25   711.936545   0.000000  0.030364 -23.494505  56  0.464723  0.885456\n",
       "2021-02-01   763.390974   0.000146  0.612450 -20.791209  57  0.568065  0.822984\n",
       "2021-02-08   873.929009   0.001203 -0.068845 -20.241758  58  0.663123  0.748511"
      ]
     },
     "execution_count": 4,
     "metadata": {},
     "output_type": "execute_result"
    }
   ],
   "source": [
    "# ==========================================\n",
    "# 📊 Chargement & Préparation des Données\n",
    "# ==========================================\n",
    "\n",
    "# --- 1️⃣ Lecture des fichiers CSV ---\n",
    "data = load_datasets(FILES)\n",
    "\n",
    "# --- 2️⃣ Extraction du signal RSV (ODISSEE) ---\n",
    "common = keyify(data[\"common_FR_long\"])\n",
    "\n",
    "# Filtrage : RSV national\n",
    "mask = (common[\"topic\"] == \"RSV\") & (common[\"geo_level\"] == \"FR\")\n",
    "\n",
    "# Classe d’âge la plus granulaire disponible\n",
    "age_used = next(\n",
    "    a for a in [\"00-04 ans\", \"0-1 an\", \"Tous âges\"]\n",
    "    if ((mask) & (common[\"classe_d_age\"] == a)).any()\n",
    ")\n",
    "mask &= (common[\"classe_d_age\"] == age_used)\n",
    "\n",
    "# Indicateur RSV (priorité : urgences > SOS)\n",
    "ycol = \"taux_passages_urgences\" if \"taux_passages_urgences\" in common.columns else \"taux_sos\"\n",
    "\n",
    "rsv = (\n",
    "    common.loc[mask, [\"date_monday\", \"year_iso\", \"week_iso_num\", ycol]]\n",
    "    .rename(columns={ycol: \"RSV\"})\n",
    ")\n",
    "rsv = keyify(rsv)\n",
    "rsv[\"date_monday\"] = pd.to_datetime(rsv[\"date_monday\"])\n",
    "rsv = rsv.sort_values(\"date_monday\")\n",
    "print(f\"✅ RSV prêt ({age_used}) — {rsv.shape[0]} lignes\")\n",
    "\n",
    "# --- 3️⃣ VAC-SI ---\n",
    "vacsi = keyify(data[\"vacsi_fr_extended\"])\n",
    "vac = vacsi.query(\"geo_level=='FR' & geo_code=='FR'\")[[\"year_iso\", \"week_iso_num\", \"couv_complet\"]]\n",
    "\n",
    "# --- 4️⃣ Google Mobility (Workplaces uniquement) ---\n",
    "gm = keyify(data[\"google_mobility_fr_weekly\"])\n",
    "work = (\n",
    "    gm.query(\"geo_level=='FR' & geo_code=='FR' & indicator=='workplaces'\")\n",
    "    [[\"year_iso\", \"week_iso_num\", \"value\"]]\n",
    "    .rename(columns={\"value\": \"work\"})\n",
    ")\n",
    "\n",
    "# --- 5️⃣ CoviPrev (comportements d’hygiène) ---\n",
    "cov = keyify(data[\"coviprev_reg_weekly\"])\n",
    "mask_vars = [\"port_du_masque\", \"lavage_des_mains\", \"aeration_du_logement\", \"saluer_sans_serrer_la_main\"]\n",
    "\n",
    "cov_nat = (\n",
    "    cov[cov[\"indicator\"].isin(mask_vars)]\n",
    "    .groupby([\"year_iso\", \"week_iso_num\", \"indicator\"])[\"value\"]\n",
    "    .mean()\n",
    "    .unstack()\n",
    ")\n",
    "\n",
    "print(f\"✅ CoviPrev agrégé nationalement ({len(cov_nat)} semaines)\")\n",
    "\n",
    "# --- 6️⃣ Fusion multi-source ---\n",
    "X_base = merge_exog(rsv, vac, work, cov_nat)\n",
    "\n",
    "# --- 7️⃣ Construction des lags + scores MNP ---\n",
    "X_full = build_model_matrix(X_base, lags=(LAG_VACC, LAG_MNP, LAG_WORK), mask_vars=mask_vars)\n",
    "\n",
    "# --- 8️⃣ Fusion finale avec la cible RSV ---\n",
    "df_base = (\n",
    "    rsv.set_index(\"date_monday\")[[\"RSV\"]]\n",
    "    .join(X_full, how=\"left\")\n",
    "    .dropna()\n",
    "    .sort_index()\n",
    ")\n",
    "\n",
    "print(f\"✅ Base finale prête : {df_base.shape[0]} lignes, {df_base.shape[1]} colonnes\")\n",
    "df_base.head(3)\n"
   ]
  },
  {
   "cell_type": "code",
   "execution_count": 5,
   "id": "301fc508",
   "metadata": {},
   "outputs": [
    {
     "name": "stdout",
     "output_type": "stream",
     "text": [
      "=== OLS (HC3) — Résumé concis ===\n"
     ]
    },
    {
     "data": {
      "text/html": [
       "<div>\n",
       "<style scoped>\n",
       "    .dataframe tbody tr th:only-of-type {\n",
       "        vertical-align: middle;\n",
       "    }\n",
       "\n",
       "    .dataframe tbody tr th {\n",
       "        vertical-align: top;\n",
       "    }\n",
       "\n",
       "    .dataframe thead th {\n",
       "        text-align: right;\n",
       "    }\n",
       "</style>\n",
       "<table border=\"1\" class=\"dataframe\">\n",
       "  <thead>\n",
       "    <tr style=\"text-align: right;\">\n",
       "      <th></th>\n",
       "      <th>0</th>\n",
       "      <th>1</th>\n",
       "      <th>2</th>\n",
       "      <th>3</th>\n",
       "    </tr>\n",
       "  </thead>\n",
       "  <tbody>\n",
       "    <tr>\n",
       "      <th>0</th>\n",
       "      <td>Model:</td>\n",
       "      <td>OLS</td>\n",
       "      <td>Adj. R-squared:</td>\n",
       "      <td>0.530</td>\n",
       "    </tr>\n",
       "    <tr>\n",
       "      <th>1</th>\n",
       "      <td>Dependent Variable:</td>\n",
       "      <td>RSV</td>\n",
       "      <td>AIC:</td>\n",
       "      <td>1473.0159</td>\n",
       "    </tr>\n",
       "    <tr>\n",
       "      <th>2</th>\n",
       "      <td>Date:</td>\n",
       "      <td>2025-10-24 18:19</td>\n",
       "      <td>BIC:</td>\n",
       "      <td>1488.5257</td>\n",
       "    </tr>\n",
       "    <tr>\n",
       "      <th>3</th>\n",
       "      <td>No. Observations:</td>\n",
       "      <td>98</td>\n",
       "      <td>Log-Likelihood:</td>\n",
       "      <td>-730.51</td>\n",
       "    </tr>\n",
       "    <tr>\n",
       "      <th>4</th>\n",
       "      <td>Df Model:</td>\n",
       "      <td>5</td>\n",
       "      <td>F-statistic:</td>\n",
       "      <td>23.54</td>\n",
       "    </tr>\n",
       "    <tr>\n",
       "      <th>5</th>\n",
       "      <td>Df Residuals:</td>\n",
       "      <td>92</td>\n",
       "      <td>Prob (F-statistic):</td>\n",
       "      <td>3.65e-15</td>\n",
       "    </tr>\n",
       "    <tr>\n",
       "      <th>6</th>\n",
       "      <td>R-squared:</td>\n",
       "      <td>0.554</td>\n",
       "      <td>Scale:</td>\n",
       "      <td>1.8602e+05</td>\n",
       "    </tr>\n",
       "  </tbody>\n",
       "</table>\n",
       "</div>"
      ],
      "text/plain": [
       "                     0                 1                    2           3\n",
       "0               Model:               OLS      Adj. R-squared:       0.530\n",
       "1  Dependent Variable:               RSV                 AIC:   1473.0159\n",
       "2                Date:  2025-10-24 18:19                 BIC:   1488.5257\n",
       "3    No. Observations:                98      Log-Likelihood:     -730.51\n",
       "4            Df Model:                 5         F-statistic:       23.54\n",
       "5        Df Residuals:                92  Prob (F-statistic):    3.65e-15\n",
       "6           R-squared:             0.554               Scale:  1.8602e+05"
      ]
     },
     "metadata": {},
     "output_type": "display_data"
    },
    {
     "name": "stdout",
     "output_type": "stream",
     "text": [
      "\n",
      "Coefficients principaux (triés par p-value) :\n"
     ]
    },
    {
     "data": {
      "text/html": [
       "<div>\n",
       "<style scoped>\n",
       "    .dataframe tbody tr th:only-of-type {\n",
       "        vertical-align: middle;\n",
       "    }\n",
       "\n",
       "    .dataframe tbody tr th {\n",
       "        vertical-align: top;\n",
       "    }\n",
       "\n",
       "    .dataframe thead th {\n",
       "        text-align: right;\n",
       "    }\n",
       "</style>\n",
       "<table border=\"1\" class=\"dataframe\">\n",
       "  <thead>\n",
       "    <tr style=\"text-align: right;\">\n",
       "      <th></th>\n",
       "      <th>index</th>\n",
       "      <th>Coef.</th>\n",
       "      <th>Std.Err.</th>\n",
       "      <th>Std.Err.</th>\n",
       "      <th>P&gt;|z|</th>\n",
       "    </tr>\n",
       "  </thead>\n",
       "  <tbody>\n",
       "    <tr>\n",
       "      <th>0</th>\n",
       "      <td>cos52</td>\n",
       "      <td>656.401522</td>\n",
       "      <td>80.636256</td>\n",
       "      <td>80.636256</td>\n",
       "      <td>3.943721e-16</td>\n",
       "    </tr>\n",
       "    <tr>\n",
       "      <th>1</th>\n",
       "      <td>const</td>\n",
       "      <td>1146.240579</td>\n",
       "      <td>172.463691</td>\n",
       "      <td>172.463691</td>\n",
       "      <td>3.006098e-11</td>\n",
       "    </tr>\n",
       "    <tr>\n",
       "      <th>2</th>\n",
       "      <td>sin52</td>\n",
       "      <td>-267.130490</td>\n",
       "      <td>58.558178</td>\n",
       "      <td>58.558178</td>\n",
       "      <td>5.071780e-06</td>\n",
       "    </tr>\n",
       "    <tr>\n",
       "      <th>3</th>\n",
       "      <td>cov12_lag</td>\n",
       "      <td>-23.924930</td>\n",
       "      <td>7.759406</td>\n",
       "      <td>7.759406</td>\n",
       "      <td>2.046874e-03</td>\n",
       "    </tr>\n",
       "    <tr>\n",
       "      <th>4</th>\n",
       "      <td>MNP_lag</td>\n",
       "      <td>-152.926499</td>\n",
       "      <td>65.003092</td>\n",
       "      <td>65.003092</td>\n",
       "      <td>1.864250e-02</td>\n",
       "    </tr>\n",
       "    <tr>\n",
       "      <th>5</th>\n",
       "      <td>work_lag</td>\n",
       "      <td>1.544145</td>\n",
       "      <td>4.803630</td>\n",
       "      <td>4.803630</td>\n",
       "      <td>7.478665e-01</td>\n",
       "    </tr>\n",
       "  </tbody>\n",
       "</table>\n",
       "</div>"
      ],
      "text/plain": [
       "       index        Coef.    Std.Err.    Std.Err.         P>|z|\n",
       "0      cos52   656.401522   80.636256   80.636256  3.943721e-16\n",
       "1      const  1146.240579  172.463691  172.463691  3.006098e-11\n",
       "2      sin52  -267.130490   58.558178   58.558178  5.071780e-06\n",
       "3  cov12_lag   -23.924930    7.759406    7.759406  2.046874e-03\n",
       "4    MNP_lag  -152.926499   65.003092   65.003092  1.864250e-02\n",
       "5   work_lag     1.544145    4.803630    4.803630  7.478665e-01"
      ]
     },
     "metadata": {},
     "output_type": "display_data"
    },
    {
     "name": "stdout",
     "output_type": "stream",
     "text": [
      "\n",
      "Durbin–Watson: 0.150 (≈2 attendu si pas d’autocorr.)\n",
      "Ljung–Box p-values (lags 8/12/24):\n"
     ]
    },
    {
     "data": {
      "text/html": [
       "<div>\n",
       "<style scoped>\n",
       "    .dataframe tbody tr th:only-of-type {\n",
       "        vertical-align: middle;\n",
       "    }\n",
       "\n",
       "    .dataframe tbody tr th {\n",
       "        vertical-align: top;\n",
       "    }\n",
       "\n",
       "    .dataframe thead th {\n",
       "        text-align: right;\n",
       "    }\n",
       "</style>\n",
       "<table border=\"1\" class=\"dataframe\">\n",
       "  <thead>\n",
       "    <tr style=\"text-align: right;\">\n",
       "      <th></th>\n",
       "      <th>stat</th>\n",
       "      <th>p</th>\n",
       "    </tr>\n",
       "  </thead>\n",
       "  <tbody>\n",
       "    <tr>\n",
       "      <th>8</th>\n",
       "      <td>189.315408</td>\n",
       "      <td>1.134576e-36</td>\n",
       "    </tr>\n",
       "    <tr>\n",
       "      <th>12</th>\n",
       "      <td>245.880822</td>\n",
       "      <td>9.881630e-46</td>\n",
       "    </tr>\n",
       "    <tr>\n",
       "      <th>24</th>\n",
       "      <td>301.146647</td>\n",
       "      <td>9.854018e-50</td>\n",
       "    </tr>\n",
       "  </tbody>\n",
       "</table>\n",
       "</div>"
      ],
      "text/plain": [
       "          stat             p\n",
       "8   189.315408  1.134576e-36\n",
       "12  245.880822  9.881630e-46\n",
       "24  301.146647  9.854018e-50"
      ]
     },
     "metadata": {},
     "output_type": "display_data"
    },
    {
     "name": "stdout",
     "output_type": "stream",
     "text": [
      "\n",
      "=== VIF === ( <5 ok, >10 forte colinéarité )\n"
     ]
    },
    {
     "data": {
      "text/plain": [
       "const        14.889502\n",
       "cov12_lag     1.710183\n",
       "MNP_lag       1.808082\n",
       "work_lag      1.750310\n",
       "sin52         1.236688\n",
       "cos52         1.062276\n",
       "Name: VIF, dtype: float64"
      ]
     },
     "metadata": {},
     "output_type": "display_data"
    },
    {
     "data": {
      "application/vnd.plotly.v1+json": {
       "config": {
        "plotlyServerURL": "https://plot.ly"
       },
       "data": [
        {
         "line": {
          "width": 2
         },
         "mode": "lines",
         "name": "Observed",
         "type": "scatter",
         "x": [
          "2021-01-25T00:00:00.000000000",
          "2021-02-01T00:00:00.000000000",
          "2021-02-08T00:00:00.000000000",
          "2021-02-15T00:00:00.000000000",
          "2021-02-22T00:00:00.000000000",
          "2021-03-01T00:00:00.000000000",
          "2021-03-08T00:00:00.000000000",
          "2021-03-15T00:00:00.000000000",
          "2021-03-22T00:00:00.000000000",
          "2021-03-29T00:00:00.000000000",
          "2021-04-05T00:00:00.000000000",
          "2021-04-12T00:00:00.000000000",
          "2021-04-19T00:00:00.000000000",
          "2021-04-26T00:00:00.000000000",
          "2021-05-03T00:00:00.000000000",
          "2021-05-10T00:00:00.000000000",
          "2021-05-17T00:00:00.000000000",
          "2021-05-24T00:00:00.000000000",
          "2021-05-31T00:00:00.000000000",
          "2021-06-07T00:00:00.000000000",
          "2021-06-14T00:00:00.000000000",
          "2021-06-21T00:00:00.000000000",
          "2021-06-28T00:00:00.000000000",
          "2021-07-05T00:00:00.000000000",
          "2021-07-12T00:00:00.000000000",
          "2021-07-19T00:00:00.000000000",
          "2021-07-26T00:00:00.000000000",
          "2021-08-02T00:00:00.000000000",
          "2021-08-09T00:00:00.000000000",
          "2021-08-16T00:00:00.000000000",
          "2021-08-23T00:00:00.000000000",
          "2021-08-30T00:00:00.000000000",
          "2021-09-06T00:00:00.000000000",
          "2021-09-13T00:00:00.000000000",
          "2021-09-20T00:00:00.000000000",
          "2021-09-27T00:00:00.000000000",
          "2021-10-04T00:00:00.000000000",
          "2021-10-11T00:00:00.000000000",
          "2021-10-18T00:00:00.000000000",
          "2021-10-25T00:00:00.000000000",
          "2021-11-01T00:00:00.000000000",
          "2021-11-08T00:00:00.000000000",
          "2021-11-15T00:00:00.000000000",
          "2021-11-22T00:00:00.000000000",
          "2021-11-29T00:00:00.000000000",
          "2021-12-06T00:00:00.000000000",
          "2021-12-13T00:00:00.000000000",
          "2021-12-20T00:00:00.000000000",
          "2021-12-27T00:00:00.000000000",
          "2022-01-03T00:00:00.000000000",
          "2022-01-10T00:00:00.000000000",
          "2022-01-17T00:00:00.000000000",
          "2022-01-24T00:00:00.000000000",
          "2022-01-31T00:00:00.000000000",
          "2022-02-07T00:00:00.000000000",
          "2022-02-14T00:00:00.000000000",
          "2022-02-21T00:00:00.000000000",
          "2022-02-28T00:00:00.000000000",
          "2022-03-07T00:00:00.000000000",
          "2022-03-14T00:00:00.000000000",
          "2022-03-21T00:00:00.000000000",
          "2022-03-28T00:00:00.000000000",
          "2022-04-04T00:00:00.000000000",
          "2022-04-11T00:00:00.000000000",
          "2022-04-18T00:00:00.000000000",
          "2022-04-25T00:00:00.000000000",
          "2022-05-02T00:00:00.000000000",
          "2022-05-09T00:00:00.000000000",
          "2022-05-16T00:00:00.000000000",
          "2022-05-23T00:00:00.000000000",
          "2022-05-30T00:00:00.000000000",
          "2022-06-06T00:00:00.000000000",
          "2022-06-13T00:00:00.000000000",
          "2022-06-20T00:00:00.000000000",
          "2022-06-27T00:00:00.000000000",
          "2022-07-04T00:00:00.000000000",
          "2022-07-11T00:00:00.000000000",
          "2022-07-18T00:00:00.000000000",
          "2022-07-25T00:00:00.000000000",
          "2022-08-01T00:00:00.000000000",
          "2022-08-08T00:00:00.000000000",
          "2022-08-15T00:00:00.000000000",
          "2022-08-22T00:00:00.000000000",
          "2022-08-29T00:00:00.000000000",
          "2022-09-05T00:00:00.000000000",
          "2022-09-12T00:00:00.000000000",
          "2022-09-19T00:00:00.000000000",
          "2022-09-26T00:00:00.000000000",
          "2022-10-03T00:00:00.000000000",
          "2022-10-10T00:00:00.000000000",
          "2022-10-17T00:00:00.000000000",
          "2022-10-24T00:00:00.000000000",
          "2022-10-31T00:00:00.000000000",
          "2022-11-07T00:00:00.000000000",
          "2022-11-14T00:00:00.000000000",
          "2022-11-21T00:00:00.000000000",
          "2022-11-28T00:00:00.000000000",
          "2022-12-05T00:00:00.000000000"
         ],
         "y": {
          "bdata": "UOIxC34/hkDSOR63INuHQNSOC5xuT4tAMURvbZi2jkB/4luzkH2QQMvZ+YYDRIxA3GPINebmjECzRpj9ZRaQQNoGSfp3jpJAnBVRE0VDk0Da+Ljb8t6RQN4E3zSdVJBAZO//ws4UhkC6Yuu+2Ix+QOGXPJblC3tAQz19BFY1gEBf4wLpFZmBQIb48sgYlYFApBf3F+hJgUDBjpzYlSOBQE8l4jHcfn9A5X3asEePgED+xLdmCbaCQGCg9wi9WoJAhtn0NZ0chEARsgMZj36CQLHqg5cGi39AQt68gh4MeEDM2Olqn1JyQJ230udahm5AQaPwsHs3a0B/pGf+MTBwQMyMyMEmbnFAG513jPALfUDR7YBG1OKAQAx4eFOicYZAgX0yznhTjECebX94Z0aRQBAKpYp1I5RAXXXTHJ/nlkAAT//++ZiYQCCOv/7dW5ZACbXwBtJbmEADuR9LMkWdQGL+ZVKOYp5AYs0Srkn+m0BPxMfMwkiaQH7lQXpShJZAcK4GzWsilEDnt/mQgTaNQOh5YJVlq4hAeS+tPE/7hUBfyV2dNtWCQJlIBgzceoJAA3sKiPLWgEAcqJ2rT4qAQGTnK1CE5HxAHYQMJgZJe0Dt2GN9nlB7QM7vh+FLoHxATLdXrFIYe0A+Jzk3aP56QMCMc+XNbHpA59lyTyNEekB/rPlUYoF5QC8NLuM3MndArHmnZbg+dUC4fvJeAuV3QKepCrKa3HZAQAJWeQhFdkC+MSUOoOp3QNXOctGnpXdAQVv3JMpmdEBaWOSVk3Z1QC6wpjaxFHdAapYV1NEedkDnfIh40cd0QDtYe6+MOHNA8ynXRuI0bUCg8Y6d4b5pQBIyb1lufmpACPRXAsjIZUCn9nUi+UBlQMKyZwlRR2lAnV1jPI8kcUB+0Kvo7L56QCjWZ9bzY4JAdUE7r5rih0BPlKVSaxyOQH7/5sURvJNAwFq1axItmUCzKEdcl3igQCXm/o+IXqJA2TgHdHt7oUD3eHzWeAakQAQPHUwMW6ZAsmg6O/WipUByagzfywyjQA==",
          "dtype": "f8"
         }
        },
        {
         "line": {
          "dash": "dot"
         },
         "mode": "lines",
         "name": "Fitted (OLS)",
         "type": "scatter",
         "x": [
          "2021-01-25T00:00:00.000000000",
          "2021-02-01T00:00:00.000000000",
          "2021-02-08T00:00:00.000000000",
          "2021-02-15T00:00:00.000000000",
          "2021-02-22T00:00:00.000000000",
          "2021-03-01T00:00:00.000000000",
          "2021-03-08T00:00:00.000000000",
          "2021-03-15T00:00:00.000000000",
          "2021-03-22T00:00:00.000000000",
          "2021-03-29T00:00:00.000000000",
          "2021-04-05T00:00:00.000000000",
          "2021-04-12T00:00:00.000000000",
          "2021-04-19T00:00:00.000000000",
          "2021-04-26T00:00:00.000000000",
          "2021-05-03T00:00:00.000000000",
          "2021-05-10T00:00:00.000000000",
          "2021-05-17T00:00:00.000000000",
          "2021-05-24T00:00:00.000000000",
          "2021-05-31T00:00:00.000000000",
          "2021-06-07T00:00:00.000000000",
          "2021-06-14T00:00:00.000000000",
          "2021-06-21T00:00:00.000000000",
          "2021-06-28T00:00:00.000000000",
          "2021-07-05T00:00:00.000000000",
          "2021-07-12T00:00:00.000000000",
          "2021-07-19T00:00:00.000000000",
          "2021-07-26T00:00:00.000000000",
          "2021-08-02T00:00:00.000000000",
          "2021-08-09T00:00:00.000000000",
          "2021-08-16T00:00:00.000000000",
          "2021-08-23T00:00:00.000000000",
          "2021-08-30T00:00:00.000000000",
          "2021-09-06T00:00:00.000000000",
          "2021-09-13T00:00:00.000000000",
          "2021-09-20T00:00:00.000000000",
          "2021-09-27T00:00:00.000000000",
          "2021-10-04T00:00:00.000000000",
          "2021-10-11T00:00:00.000000000",
          "2021-10-18T00:00:00.000000000",
          "2021-10-25T00:00:00.000000000",
          "2021-11-01T00:00:00.000000000",
          "2021-11-08T00:00:00.000000000",
          "2021-11-15T00:00:00.000000000",
          "2021-11-22T00:00:00.000000000",
          "2021-11-29T00:00:00.000000000",
          "2021-12-06T00:00:00.000000000",
          "2021-12-13T00:00:00.000000000",
          "2021-12-20T00:00:00.000000000",
          "2021-12-27T00:00:00.000000000",
          "2022-01-03T00:00:00.000000000",
          "2022-01-10T00:00:00.000000000",
          "2022-01-17T00:00:00.000000000",
          "2022-01-24T00:00:00.000000000",
          "2022-01-31T00:00:00.000000000",
          "2022-02-07T00:00:00.000000000",
          "2022-02-14T00:00:00.000000000",
          "2022-02-21T00:00:00.000000000",
          "2022-02-28T00:00:00.000000000",
          "2022-03-07T00:00:00.000000000",
          "2022-03-14T00:00:00.000000000",
          "2022-03-21T00:00:00.000000000",
          "2022-03-28T00:00:00.000000000",
          "2022-04-04T00:00:00.000000000",
          "2022-04-11T00:00:00.000000000",
          "2022-04-18T00:00:00.000000000",
          "2022-04-25T00:00:00.000000000",
          "2022-05-02T00:00:00.000000000",
          "2022-05-09T00:00:00.000000000",
          "2022-05-16T00:00:00.000000000",
          "2022-05-23T00:00:00.000000000",
          "2022-05-30T00:00:00.000000000",
          "2022-06-06T00:00:00.000000000",
          "2022-06-13T00:00:00.000000000",
          "2022-06-20T00:00:00.000000000",
          "2022-06-27T00:00:00.000000000",
          "2022-07-04T00:00:00.000000000",
          "2022-07-11T00:00:00.000000000",
          "2022-07-18T00:00:00.000000000",
          "2022-07-25T00:00:00.000000000",
          "2022-08-01T00:00:00.000000000",
          "2022-08-08T00:00:00.000000000",
          "2022-08-15T00:00:00.000000000",
          "2022-08-22T00:00:00.000000000",
          "2022-08-29T00:00:00.000000000",
          "2022-09-05T00:00:00.000000000",
          "2022-09-12T00:00:00.000000000",
          "2022-09-19T00:00:00.000000000",
          "2022-09-26T00:00:00.000000000",
          "2022-10-03T00:00:00.000000000",
          "2022-10-10T00:00:00.000000000",
          "2022-10-17T00:00:00.000000000",
          "2022-10-24T00:00:00.000000000",
          "2022-10-31T00:00:00.000000000",
          "2022-11-07T00:00:00.000000000",
          "2022-11-14T00:00:00.000000000",
          "2022-11-21T00:00:00.000000000",
          "2022-11-28T00:00:00.000000000",
          "2022-12-05T00:00:00.000000000"
         ],
         "y": {
          "bdata": "sLQglpBpmECUX2dguwOWQOgUtR6rfpZABLXU/UCgkEDq/WgYo2WLQNJ7prgNjpFAtwsOSgVLj0AIBuoRUoWOQDNuanB/+4tAXOr0585yiUAqaN4C3duGQC7fx7AUNoNArpFsE8IKgEAe989AC6N9QCZWoCjnAH5Aa3x/LT3xfEAiDaGw65N6QCq2T1ULWXhAsEgayCeaZECUgnx3ORpoQNx8rucePW9A2IZpns+Qa0BOU7O77o90QJxzkZ7b+3VAJDMjmsQCfEBGRV2Cm259QDY+JuU6+oJAhng0Mg3uhEBAE5hgLNqGQLwGDEsfpodAvN4zYXoriUBn7T1F+nWKQAQkzXnip41AUkKtIIY7jECTQv+L4fuNQAT3oiR6WY1ARh/CgmXwjUB1zTZtHWaQQIZ91UhHOZRABEU/2u8wlUD/j0mkNnyWQH3zzfCa9ZZAPZkWkI0gmEClDjsJSJiYQOju6VVGlJhAW7by8P+xmECGvyJNiX6YQH8X5a5FbJZAgtlYM/JalECKdH2K2kiUQJDV2594+pVAy8ITXL9slUAyGzH004OUQHEDtmyozJNA5MTU5WDUkkCLmm/yRreIQOfpUdp2eIBAsmDzns1FiEDqC4IElqGHQHnjQlFIBoVA+7FwOwmJgkD4g377B5mAQBhP/YAWGXpAQquEcmBkc0CsgJmRa/9yQPYKz6qOYHJAcgkbgJyQcEB06wcgaVZsQChnXH30d2hABHfs9HHmZEBMuHZ1xdZkQIBOvYaPzVFAACSIBhHmRMDgz/F47otbQLjw4F4jn2lAYEnIdA4jcUBUEkohD1h0QFg6m1EOr2dARELFd1TjeUDCSPYHHVh7QJDYAk1yKYJAS5NBLjyWhEAsekFBrsuGQIsYKN53HohAUMaFswrxhEDaEvySTRKKQLpwAg4ExIxA4JQz9iCPjEDHKPWq6/aMQIOM0ChUL45AK1kmcd1hkkCLPizFkO+UQFuR4oc2eZZAvRa8n35cl0AygqWdhQWYQM/PNFU7qZhAMrL2DTchmUCPDLqgoduYQA==",
          "dtype": "f8"
         }
        }
       ],
       "layout": {
        "shapes": [
         {
          "line": {
           "color": "red",
           "dash": "dash"
          },
          "type": "line",
          "x0": "2020-03-01T00:00:00",
          "x1": "2020-03-01T00:00:00",
          "xref": "x",
          "y0": 0,
          "y1": 1,
          "yref": "y domain"
         },
         {
          "line": {
           "color": "green",
           "dash": "dash"
          },
          "type": "line",
          "x0": "2021-01-01T00:00:00",
          "x1": "2021-01-01T00:00:00",
          "xref": "x",
          "y0": 0,
          "y1": 1,
          "yref": "y domain"
         }
        ],
        "template": {
         "data": {
          "bar": [
           {
            "error_x": {
             "color": "#2a3f5f"
            },
            "error_y": {
             "color": "#2a3f5f"
            },
            "marker": {
             "line": {
              "color": "#E5ECF6",
              "width": 0.5
             },
             "pattern": {
              "fillmode": "overlay",
              "size": 10,
              "solidity": 0.2
             }
            },
            "type": "bar"
           }
          ],
          "barpolar": [
           {
            "marker": {
             "line": {
              "color": "#E5ECF6",
              "width": 0.5
             },
             "pattern": {
              "fillmode": "overlay",
              "size": 10,
              "solidity": 0.2
             }
            },
            "type": "barpolar"
           }
          ],
          "carpet": [
           {
            "aaxis": {
             "endlinecolor": "#2a3f5f",
             "gridcolor": "white",
             "linecolor": "white",
             "minorgridcolor": "white",
             "startlinecolor": "#2a3f5f"
            },
            "baxis": {
             "endlinecolor": "#2a3f5f",
             "gridcolor": "white",
             "linecolor": "white",
             "minorgridcolor": "white",
             "startlinecolor": "#2a3f5f"
            },
            "type": "carpet"
           }
          ],
          "choropleth": [
           {
            "colorbar": {
             "outlinewidth": 0,
             "ticks": ""
            },
            "type": "choropleth"
           }
          ],
          "contour": [
           {
            "colorbar": {
             "outlinewidth": 0,
             "ticks": ""
            },
            "colorscale": [
             [
              0,
              "#0d0887"
             ],
             [
              0.1111111111111111,
              "#46039f"
             ],
             [
              0.2222222222222222,
              "#7201a8"
             ],
             [
              0.3333333333333333,
              "#9c179e"
             ],
             [
              0.4444444444444444,
              "#bd3786"
             ],
             [
              0.5555555555555556,
              "#d8576b"
             ],
             [
              0.6666666666666666,
              "#ed7953"
             ],
             [
              0.7777777777777778,
              "#fb9f3a"
             ],
             [
              0.8888888888888888,
              "#fdca26"
             ],
             [
              1,
              "#f0f921"
             ]
            ],
            "type": "contour"
           }
          ],
          "contourcarpet": [
           {
            "colorbar": {
             "outlinewidth": 0,
             "ticks": ""
            },
            "type": "contourcarpet"
           }
          ],
          "heatmap": [
           {
            "colorbar": {
             "outlinewidth": 0,
             "ticks": ""
            },
            "colorscale": [
             [
              0,
              "#0d0887"
             ],
             [
              0.1111111111111111,
              "#46039f"
             ],
             [
              0.2222222222222222,
              "#7201a8"
             ],
             [
              0.3333333333333333,
              "#9c179e"
             ],
             [
              0.4444444444444444,
              "#bd3786"
             ],
             [
              0.5555555555555556,
              "#d8576b"
             ],
             [
              0.6666666666666666,
              "#ed7953"
             ],
             [
              0.7777777777777778,
              "#fb9f3a"
             ],
             [
              0.8888888888888888,
              "#fdca26"
             ],
             [
              1,
              "#f0f921"
             ]
            ],
            "type": "heatmap"
           }
          ],
          "histogram": [
           {
            "marker": {
             "pattern": {
              "fillmode": "overlay",
              "size": 10,
              "solidity": 0.2
             }
            },
            "type": "histogram"
           }
          ],
          "histogram2d": [
           {
            "colorbar": {
             "outlinewidth": 0,
             "ticks": ""
            },
            "colorscale": [
             [
              0,
              "#0d0887"
             ],
             [
              0.1111111111111111,
              "#46039f"
             ],
             [
              0.2222222222222222,
              "#7201a8"
             ],
             [
              0.3333333333333333,
              "#9c179e"
             ],
             [
              0.4444444444444444,
              "#bd3786"
             ],
             [
              0.5555555555555556,
              "#d8576b"
             ],
             [
              0.6666666666666666,
              "#ed7953"
             ],
             [
              0.7777777777777778,
              "#fb9f3a"
             ],
             [
              0.8888888888888888,
              "#fdca26"
             ],
             [
              1,
              "#f0f921"
             ]
            ],
            "type": "histogram2d"
           }
          ],
          "histogram2dcontour": [
           {
            "colorbar": {
             "outlinewidth": 0,
             "ticks": ""
            },
            "colorscale": [
             [
              0,
              "#0d0887"
             ],
             [
              0.1111111111111111,
              "#46039f"
             ],
             [
              0.2222222222222222,
              "#7201a8"
             ],
             [
              0.3333333333333333,
              "#9c179e"
             ],
             [
              0.4444444444444444,
              "#bd3786"
             ],
             [
              0.5555555555555556,
              "#d8576b"
             ],
             [
              0.6666666666666666,
              "#ed7953"
             ],
             [
              0.7777777777777778,
              "#fb9f3a"
             ],
             [
              0.8888888888888888,
              "#fdca26"
             ],
             [
              1,
              "#f0f921"
             ]
            ],
            "type": "histogram2dcontour"
           }
          ],
          "mesh3d": [
           {
            "colorbar": {
             "outlinewidth": 0,
             "ticks": ""
            },
            "type": "mesh3d"
           }
          ],
          "parcoords": [
           {
            "line": {
             "colorbar": {
              "outlinewidth": 0,
              "ticks": ""
             }
            },
            "type": "parcoords"
           }
          ],
          "pie": [
           {
            "automargin": true,
            "type": "pie"
           }
          ],
          "scatter": [
           {
            "fillpattern": {
             "fillmode": "overlay",
             "size": 10,
             "solidity": 0.2
            },
            "type": "scatter"
           }
          ],
          "scatter3d": [
           {
            "line": {
             "colorbar": {
              "outlinewidth": 0,
              "ticks": ""
             }
            },
            "marker": {
             "colorbar": {
              "outlinewidth": 0,
              "ticks": ""
             }
            },
            "type": "scatter3d"
           }
          ],
          "scattercarpet": [
           {
            "marker": {
             "colorbar": {
              "outlinewidth": 0,
              "ticks": ""
             }
            },
            "type": "scattercarpet"
           }
          ],
          "scattergeo": [
           {
            "marker": {
             "colorbar": {
              "outlinewidth": 0,
              "ticks": ""
             }
            },
            "type": "scattergeo"
           }
          ],
          "scattergl": [
           {
            "marker": {
             "colorbar": {
              "outlinewidth": 0,
              "ticks": ""
             }
            },
            "type": "scattergl"
           }
          ],
          "scattermap": [
           {
            "marker": {
             "colorbar": {
              "outlinewidth": 0,
              "ticks": ""
             }
            },
            "type": "scattermap"
           }
          ],
          "scattermapbox": [
           {
            "marker": {
             "colorbar": {
              "outlinewidth": 0,
              "ticks": ""
             }
            },
            "type": "scattermapbox"
           }
          ],
          "scatterpolar": [
           {
            "marker": {
             "colorbar": {
              "outlinewidth": 0,
              "ticks": ""
             }
            },
            "type": "scatterpolar"
           }
          ],
          "scatterpolargl": [
           {
            "marker": {
             "colorbar": {
              "outlinewidth": 0,
              "ticks": ""
             }
            },
            "type": "scatterpolargl"
           }
          ],
          "scatterternary": [
           {
            "marker": {
             "colorbar": {
              "outlinewidth": 0,
              "ticks": ""
             }
            },
            "type": "scatterternary"
           }
          ],
          "surface": [
           {
            "colorbar": {
             "outlinewidth": 0,
             "ticks": ""
            },
            "colorscale": [
             [
              0,
              "#0d0887"
             ],
             [
              0.1111111111111111,
              "#46039f"
             ],
             [
              0.2222222222222222,
              "#7201a8"
             ],
             [
              0.3333333333333333,
              "#9c179e"
             ],
             [
              0.4444444444444444,
              "#bd3786"
             ],
             [
              0.5555555555555556,
              "#d8576b"
             ],
             [
              0.6666666666666666,
              "#ed7953"
             ],
             [
              0.7777777777777778,
              "#fb9f3a"
             ],
             [
              0.8888888888888888,
              "#fdca26"
             ],
             [
              1,
              "#f0f921"
             ]
            ],
            "type": "surface"
           }
          ],
          "table": [
           {
            "cells": {
             "fill": {
              "color": "#EBF0F8"
             },
             "line": {
              "color": "white"
             }
            },
            "header": {
             "fill": {
              "color": "#C8D4E3"
             },
             "line": {
              "color": "white"
             }
            },
            "type": "table"
           }
          ]
         },
         "layout": {
          "annotationdefaults": {
           "arrowcolor": "#2a3f5f",
           "arrowhead": 0,
           "arrowwidth": 1
          },
          "autotypenumbers": "strict",
          "coloraxis": {
           "colorbar": {
            "outlinewidth": 0,
            "ticks": ""
           }
          },
          "colorscale": {
           "diverging": [
            [
             0,
             "#8e0152"
            ],
            [
             0.1,
             "#c51b7d"
            ],
            [
             0.2,
             "#de77ae"
            ],
            [
             0.3,
             "#f1b6da"
            ],
            [
             0.4,
             "#fde0ef"
            ],
            [
             0.5,
             "#f7f7f7"
            ],
            [
             0.6,
             "#e6f5d0"
            ],
            [
             0.7,
             "#b8e186"
            ],
            [
             0.8,
             "#7fbc41"
            ],
            [
             0.9,
             "#4d9221"
            ],
            [
             1,
             "#276419"
            ]
           ],
           "sequential": [
            [
             0,
             "#0d0887"
            ],
            [
             0.1111111111111111,
             "#46039f"
            ],
            [
             0.2222222222222222,
             "#7201a8"
            ],
            [
             0.3333333333333333,
             "#9c179e"
            ],
            [
             0.4444444444444444,
             "#bd3786"
            ],
            [
             0.5555555555555556,
             "#d8576b"
            ],
            [
             0.6666666666666666,
             "#ed7953"
            ],
            [
             0.7777777777777778,
             "#fb9f3a"
            ],
            [
             0.8888888888888888,
             "#fdca26"
            ],
            [
             1,
             "#f0f921"
            ]
           ],
           "sequentialminus": [
            [
             0,
             "#0d0887"
            ],
            [
             0.1111111111111111,
             "#46039f"
            ],
            [
             0.2222222222222222,
             "#7201a8"
            ],
            [
             0.3333333333333333,
             "#9c179e"
            ],
            [
             0.4444444444444444,
             "#bd3786"
            ],
            [
             0.5555555555555556,
             "#d8576b"
            ],
            [
             0.6666666666666666,
             "#ed7953"
            ],
            [
             0.7777777777777778,
             "#fb9f3a"
            ],
            [
             0.8888888888888888,
             "#fdca26"
            ],
            [
             1,
             "#f0f921"
            ]
           ]
          },
          "colorway": [
           "#636efa",
           "#EF553B",
           "#00cc96",
           "#ab63fa",
           "#FFA15A",
           "#19d3f3",
           "#FF6692",
           "#B6E880",
           "#FF97FF",
           "#FECB52"
          ],
          "font": {
           "color": "#2a3f5f"
          },
          "geo": {
           "bgcolor": "white",
           "lakecolor": "white",
           "landcolor": "#E5ECF6",
           "showlakes": true,
           "showland": true,
           "subunitcolor": "white"
          },
          "hoverlabel": {
           "align": "left"
          },
          "hovermode": "closest",
          "mapbox": {
           "style": "light"
          },
          "paper_bgcolor": "white",
          "plot_bgcolor": "#E5ECF6",
          "polar": {
           "angularaxis": {
            "gridcolor": "white",
            "linecolor": "white",
            "ticks": ""
           },
           "bgcolor": "#E5ECF6",
           "radialaxis": {
            "gridcolor": "white",
            "linecolor": "white",
            "ticks": ""
           }
          },
          "scene": {
           "xaxis": {
            "backgroundcolor": "#E5ECF6",
            "gridcolor": "white",
            "gridwidth": 2,
            "linecolor": "white",
            "showbackground": true,
            "ticks": "",
            "zerolinecolor": "white"
           },
           "yaxis": {
            "backgroundcolor": "#E5ECF6",
            "gridcolor": "white",
            "gridwidth": 2,
            "linecolor": "white",
            "showbackground": true,
            "ticks": "",
            "zerolinecolor": "white"
           },
           "zaxis": {
            "backgroundcolor": "#E5ECF6",
            "gridcolor": "white",
            "gridwidth": 2,
            "linecolor": "white",
            "showbackground": true,
            "ticks": "",
            "zerolinecolor": "white"
           }
          },
          "shapedefaults": {
           "line": {
            "color": "#2a3f5f"
           }
          },
          "ternary": {
           "aaxis": {
            "gridcolor": "white",
            "linecolor": "white",
            "ticks": ""
           },
           "baxis": {
            "gridcolor": "white",
            "linecolor": "white",
            "ticks": ""
           },
           "bgcolor": "#E5ECF6",
           "caxis": {
            "gridcolor": "white",
            "linecolor": "white",
            "ticks": ""
           }
          },
          "title": {
           "x": 0.05
          },
          "xaxis": {
           "automargin": true,
           "gridcolor": "white",
           "linecolor": "white",
           "ticks": "",
           "title": {
            "standoff": 15
           },
           "zerolinecolor": "white",
           "zerolinewidth": 2
          },
          "yaxis": {
           "automargin": true,
           "gridcolor": "white",
           "linecolor": "white",
           "ticks": "",
           "title": {
            "standoff": 15
           },
           "zerolinecolor": "white",
           "zerolinewidth": 2
          }
         }
        },
        "title": {
         "text": "RSV — Observed vs Fitted (OLS, HC3)"
        },
        "xaxis": {
         "title": {
          "text": "Semaine"
         }
        },
        "yaxis": {
         "title": {
          "text": "RSV (taux hebdo)"
         }
        }
       }
      }
     },
     "metadata": {},
     "output_type": "display_data"
    },
    {
     "data": {
      "application/vnd.plotly.v1+json": {
       "config": {
        "plotlyServerURL": "https://plot.ly"
       },
       "data": [
        {
         "mode": "lines",
         "name": "Residuals",
         "type": "scatter",
         "x": [
          "2021-01-25T00:00:00",
          "2021-02-01T00:00:00",
          "2021-02-08T00:00:00",
          "2021-02-15T00:00:00",
          "2021-02-22T00:00:00",
          "2021-03-01T00:00:00",
          "2021-03-08T00:00:00",
          "2021-03-15T00:00:00",
          "2021-03-22T00:00:00",
          "2021-03-29T00:00:00",
          "2021-04-05T00:00:00",
          "2021-04-12T00:00:00",
          "2021-04-19T00:00:00",
          "2021-04-26T00:00:00",
          "2021-05-03T00:00:00",
          "2021-05-10T00:00:00",
          "2021-05-17T00:00:00",
          "2021-05-24T00:00:00",
          "2021-05-31T00:00:00",
          "2021-06-07T00:00:00",
          "2021-06-14T00:00:00",
          "2021-06-21T00:00:00",
          "2021-06-28T00:00:00",
          "2021-07-05T00:00:00",
          "2021-07-12T00:00:00",
          "2021-07-19T00:00:00",
          "2021-07-26T00:00:00",
          "2021-08-02T00:00:00",
          "2021-08-09T00:00:00",
          "2021-08-16T00:00:00",
          "2021-08-23T00:00:00",
          "2021-08-30T00:00:00",
          "2021-09-06T00:00:00",
          "2021-09-13T00:00:00",
          "2021-09-20T00:00:00",
          "2021-09-27T00:00:00",
          "2021-10-04T00:00:00",
          "2021-10-11T00:00:00",
          "2021-10-18T00:00:00",
          "2021-10-25T00:00:00",
          "2021-11-01T00:00:00",
          "2021-11-08T00:00:00",
          "2021-11-15T00:00:00",
          "2021-11-22T00:00:00",
          "2021-11-29T00:00:00",
          "2021-12-06T00:00:00",
          "2021-12-13T00:00:00",
          "2021-12-20T00:00:00",
          "2021-12-27T00:00:00",
          "2022-01-03T00:00:00",
          "2022-01-10T00:00:00",
          "2022-01-17T00:00:00",
          "2022-01-24T00:00:00",
          "2022-01-31T00:00:00",
          "2022-02-07T00:00:00",
          "2022-02-14T00:00:00",
          "2022-02-21T00:00:00",
          "2022-02-28T00:00:00",
          "2022-03-07T00:00:00",
          "2022-03-14T00:00:00",
          "2022-03-21T00:00:00",
          "2022-03-28T00:00:00",
          "2022-04-04T00:00:00",
          "2022-04-11T00:00:00",
          "2022-04-18T00:00:00",
          "2022-04-25T00:00:00",
          "2022-05-02T00:00:00",
          "2022-05-09T00:00:00",
          "2022-05-16T00:00:00",
          "2022-05-23T00:00:00",
          "2022-05-30T00:00:00",
          "2022-06-06T00:00:00",
          "2022-06-13T00:00:00",
          "2022-06-20T00:00:00",
          "2022-06-27T00:00:00",
          "2022-07-04T00:00:00",
          "2022-07-11T00:00:00",
          "2022-07-18T00:00:00",
          "2022-07-25T00:00:00",
          "2022-08-01T00:00:00",
          "2022-08-08T00:00:00",
          "2022-08-15T00:00:00",
          "2022-08-22T00:00:00",
          "2022-08-29T00:00:00",
          "2022-09-05T00:00:00",
          "2022-09-12T00:00:00",
          "2022-09-19T00:00:00",
          "2022-09-26T00:00:00",
          "2022-10-03T00:00:00",
          "2022-10-10T00:00:00",
          "2022-10-17T00:00:00",
          "2022-10-24T00:00:00",
          "2022-10-31T00:00:00",
          "2022-11-07T00:00:00",
          "2022-11-14T00:00:00",
          "2022-11-21T00:00:00",
          "2022-11-28T00:00:00",
          "2022-12-05T00:00:00"
         ],
         "y": {
          "bdata": "EIcPIaOTisBWhbAJViyEwPyaXqHnrYHAuC7RcUxPVMBQHDs5+VVmQGR3TKlfYGvA2D4tovggU8DgdWiUnndKQAI/TwjhQnJAuIFafXYnekAUEydpEcR5QBxV7HFL5npA2HZNvjIoaECAc23DrzktQCjyHZMMqEfA2PDX23bLS0A4c8lCgDxhQMR1LHlMomVA8ArhS7xGeEA43Hr1Djp2QMLNFXyZwG9AXjiAkidWc0CuNrwRJNxwQEiau+Y8c21A0P+Mo+tsaEBwe6i+CjpeQOxGIsu8pVnAyhKs4fvPccC0TUZWuWF7wNVYF5GIBIDA7LX3dJtdgsAoGwpG4V2CwJ7d6BjP8ITAiefitBtre8CEqfyKGjJ6wOD7qURfn2vAUBz6SMvOScAgBRRpQQlMQAB2czC+0RXAkAVDKfRqW0AI+K3VGuZgQKCrzEGeN0PAAOYNbTuiLUB4qZIHqbNyQOg98PEfOXdAOLgA6U1iakCQTFD6l6NcQAD/zVzLDBhAAIkVKTNDLMBaYgIIZ7Z2wDgxV6qLSYPAHVZ6ey/ehMAFbQRLcTKGwEm+Zc10HoXAxQ6fQ8/RhMDe5KON7llwwKix35GlMVDARz3aF5VCdcDnPqCLjfJzwEiu+4GJ2GrAVFkTlX/zY8DIgg//ns5YwABqjx3Z7RRAlLq4cwt/W0BMr4AN2wdaQOQIfOGkRlNA6MAxlm+4UkD8Ed2dm3NjQCbsuOZAQWVAfI2//Z6jZ0Awq9Omev5qQDV7w+9DMnNAwV/IRYwDd0DEyE/vLydtQKRvbA4/imRAKDQ1fQ3vU0DApJrPlfAbQDzsthoWhF1AlVqzqMaRZsDkn11yWPFswBcYTm2tE3fAkixXWxRIfsCC/KP4b3uBwNorzpujzIHAAy+oKoa9eMA2VUw9rmV5wCQ1NW8gwHTArE3hGxmyYsCAuAZ7+ldCQPLk+sWekXJAVAY86tMse0C2JcTmOwOIQN51NjC1h4xA6rWkkPA0h0C8b1MPbAeQQDlOBUPdDJRAMh9+aLMkkkCqkL067HuKQA==",
          "dtype": "f8"
         }
        }
       ],
       "layout": {
        "shapes": [
         {
          "line": {
           "dash": "dot"
          },
          "type": "line",
          "x0": 0,
          "x1": 1,
          "xref": "x domain",
          "y0": 0,
          "y1": 0,
          "yref": "y"
         }
        ],
        "template": {
         "data": {
          "bar": [
           {
            "error_x": {
             "color": "#2a3f5f"
            },
            "error_y": {
             "color": "#2a3f5f"
            },
            "marker": {
             "line": {
              "color": "#E5ECF6",
              "width": 0.5
             },
             "pattern": {
              "fillmode": "overlay",
              "size": 10,
              "solidity": 0.2
             }
            },
            "type": "bar"
           }
          ],
          "barpolar": [
           {
            "marker": {
             "line": {
              "color": "#E5ECF6",
              "width": 0.5
             },
             "pattern": {
              "fillmode": "overlay",
              "size": 10,
              "solidity": 0.2
             }
            },
            "type": "barpolar"
           }
          ],
          "carpet": [
           {
            "aaxis": {
             "endlinecolor": "#2a3f5f",
             "gridcolor": "white",
             "linecolor": "white",
             "minorgridcolor": "white",
             "startlinecolor": "#2a3f5f"
            },
            "baxis": {
             "endlinecolor": "#2a3f5f",
             "gridcolor": "white",
             "linecolor": "white",
             "minorgridcolor": "white",
             "startlinecolor": "#2a3f5f"
            },
            "type": "carpet"
           }
          ],
          "choropleth": [
           {
            "colorbar": {
             "outlinewidth": 0,
             "ticks": ""
            },
            "type": "choropleth"
           }
          ],
          "contour": [
           {
            "colorbar": {
             "outlinewidth": 0,
             "ticks": ""
            },
            "colorscale": [
             [
              0,
              "#0d0887"
             ],
             [
              0.1111111111111111,
              "#46039f"
             ],
             [
              0.2222222222222222,
              "#7201a8"
             ],
             [
              0.3333333333333333,
              "#9c179e"
             ],
             [
              0.4444444444444444,
              "#bd3786"
             ],
             [
              0.5555555555555556,
              "#d8576b"
             ],
             [
              0.6666666666666666,
              "#ed7953"
             ],
             [
              0.7777777777777778,
              "#fb9f3a"
             ],
             [
              0.8888888888888888,
              "#fdca26"
             ],
             [
              1,
              "#f0f921"
             ]
            ],
            "type": "contour"
           }
          ],
          "contourcarpet": [
           {
            "colorbar": {
             "outlinewidth": 0,
             "ticks": ""
            },
            "type": "contourcarpet"
           }
          ],
          "heatmap": [
           {
            "colorbar": {
             "outlinewidth": 0,
             "ticks": ""
            },
            "colorscale": [
             [
              0,
              "#0d0887"
             ],
             [
              0.1111111111111111,
              "#46039f"
             ],
             [
              0.2222222222222222,
              "#7201a8"
             ],
             [
              0.3333333333333333,
              "#9c179e"
             ],
             [
              0.4444444444444444,
              "#bd3786"
             ],
             [
              0.5555555555555556,
              "#d8576b"
             ],
             [
              0.6666666666666666,
              "#ed7953"
             ],
             [
              0.7777777777777778,
              "#fb9f3a"
             ],
             [
              0.8888888888888888,
              "#fdca26"
             ],
             [
              1,
              "#f0f921"
             ]
            ],
            "type": "heatmap"
           }
          ],
          "histogram": [
           {
            "marker": {
             "pattern": {
              "fillmode": "overlay",
              "size": 10,
              "solidity": 0.2
             }
            },
            "type": "histogram"
           }
          ],
          "histogram2d": [
           {
            "colorbar": {
             "outlinewidth": 0,
             "ticks": ""
            },
            "colorscale": [
             [
              0,
              "#0d0887"
             ],
             [
              0.1111111111111111,
              "#46039f"
             ],
             [
              0.2222222222222222,
              "#7201a8"
             ],
             [
              0.3333333333333333,
              "#9c179e"
             ],
             [
              0.4444444444444444,
              "#bd3786"
             ],
             [
              0.5555555555555556,
              "#d8576b"
             ],
             [
              0.6666666666666666,
              "#ed7953"
             ],
             [
              0.7777777777777778,
              "#fb9f3a"
             ],
             [
              0.8888888888888888,
              "#fdca26"
             ],
             [
              1,
              "#f0f921"
             ]
            ],
            "type": "histogram2d"
           }
          ],
          "histogram2dcontour": [
           {
            "colorbar": {
             "outlinewidth": 0,
             "ticks": ""
            },
            "colorscale": [
             [
              0,
              "#0d0887"
             ],
             [
              0.1111111111111111,
              "#46039f"
             ],
             [
              0.2222222222222222,
              "#7201a8"
             ],
             [
              0.3333333333333333,
              "#9c179e"
             ],
             [
              0.4444444444444444,
              "#bd3786"
             ],
             [
              0.5555555555555556,
              "#d8576b"
             ],
             [
              0.6666666666666666,
              "#ed7953"
             ],
             [
              0.7777777777777778,
              "#fb9f3a"
             ],
             [
              0.8888888888888888,
              "#fdca26"
             ],
             [
              1,
              "#f0f921"
             ]
            ],
            "type": "histogram2dcontour"
           }
          ],
          "mesh3d": [
           {
            "colorbar": {
             "outlinewidth": 0,
             "ticks": ""
            },
            "type": "mesh3d"
           }
          ],
          "parcoords": [
           {
            "line": {
             "colorbar": {
              "outlinewidth": 0,
              "ticks": ""
             }
            },
            "type": "parcoords"
           }
          ],
          "pie": [
           {
            "automargin": true,
            "type": "pie"
           }
          ],
          "scatter": [
           {
            "fillpattern": {
             "fillmode": "overlay",
             "size": 10,
             "solidity": 0.2
            },
            "type": "scatter"
           }
          ],
          "scatter3d": [
           {
            "line": {
             "colorbar": {
              "outlinewidth": 0,
              "ticks": ""
             }
            },
            "marker": {
             "colorbar": {
              "outlinewidth": 0,
              "ticks": ""
             }
            },
            "type": "scatter3d"
           }
          ],
          "scattercarpet": [
           {
            "marker": {
             "colorbar": {
              "outlinewidth": 0,
              "ticks": ""
             }
            },
            "type": "scattercarpet"
           }
          ],
          "scattergeo": [
           {
            "marker": {
             "colorbar": {
              "outlinewidth": 0,
              "ticks": ""
             }
            },
            "type": "scattergeo"
           }
          ],
          "scattergl": [
           {
            "marker": {
             "colorbar": {
              "outlinewidth": 0,
              "ticks": ""
             }
            },
            "type": "scattergl"
           }
          ],
          "scattermap": [
           {
            "marker": {
             "colorbar": {
              "outlinewidth": 0,
              "ticks": ""
             }
            },
            "type": "scattermap"
           }
          ],
          "scattermapbox": [
           {
            "marker": {
             "colorbar": {
              "outlinewidth": 0,
              "ticks": ""
             }
            },
            "type": "scattermapbox"
           }
          ],
          "scatterpolar": [
           {
            "marker": {
             "colorbar": {
              "outlinewidth": 0,
              "ticks": ""
             }
            },
            "type": "scatterpolar"
           }
          ],
          "scatterpolargl": [
           {
            "marker": {
             "colorbar": {
              "outlinewidth": 0,
              "ticks": ""
             }
            },
            "type": "scatterpolargl"
           }
          ],
          "scatterternary": [
           {
            "marker": {
             "colorbar": {
              "outlinewidth": 0,
              "ticks": ""
             }
            },
            "type": "scatterternary"
           }
          ],
          "surface": [
           {
            "colorbar": {
             "outlinewidth": 0,
             "ticks": ""
            },
            "colorscale": [
             [
              0,
              "#0d0887"
             ],
             [
              0.1111111111111111,
              "#46039f"
             ],
             [
              0.2222222222222222,
              "#7201a8"
             ],
             [
              0.3333333333333333,
              "#9c179e"
             ],
             [
              0.4444444444444444,
              "#bd3786"
             ],
             [
              0.5555555555555556,
              "#d8576b"
             ],
             [
              0.6666666666666666,
              "#ed7953"
             ],
             [
              0.7777777777777778,
              "#fb9f3a"
             ],
             [
              0.8888888888888888,
              "#fdca26"
             ],
             [
              1,
              "#f0f921"
             ]
            ],
            "type": "surface"
           }
          ],
          "table": [
           {
            "cells": {
             "fill": {
              "color": "#EBF0F8"
             },
             "line": {
              "color": "white"
             }
            },
            "header": {
             "fill": {
              "color": "#C8D4E3"
             },
             "line": {
              "color": "white"
             }
            },
            "type": "table"
           }
          ]
         },
         "layout": {
          "annotationdefaults": {
           "arrowcolor": "#2a3f5f",
           "arrowhead": 0,
           "arrowwidth": 1
          },
          "autotypenumbers": "strict",
          "coloraxis": {
           "colorbar": {
            "outlinewidth": 0,
            "ticks": ""
           }
          },
          "colorscale": {
           "diverging": [
            [
             0,
             "#8e0152"
            ],
            [
             0.1,
             "#c51b7d"
            ],
            [
             0.2,
             "#de77ae"
            ],
            [
             0.3,
             "#f1b6da"
            ],
            [
             0.4,
             "#fde0ef"
            ],
            [
             0.5,
             "#f7f7f7"
            ],
            [
             0.6,
             "#e6f5d0"
            ],
            [
             0.7,
             "#b8e186"
            ],
            [
             0.8,
             "#7fbc41"
            ],
            [
             0.9,
             "#4d9221"
            ],
            [
             1,
             "#276419"
            ]
           ],
           "sequential": [
            [
             0,
             "#0d0887"
            ],
            [
             0.1111111111111111,
             "#46039f"
            ],
            [
             0.2222222222222222,
             "#7201a8"
            ],
            [
             0.3333333333333333,
             "#9c179e"
            ],
            [
             0.4444444444444444,
             "#bd3786"
            ],
            [
             0.5555555555555556,
             "#d8576b"
            ],
            [
             0.6666666666666666,
             "#ed7953"
            ],
            [
             0.7777777777777778,
             "#fb9f3a"
            ],
            [
             0.8888888888888888,
             "#fdca26"
            ],
            [
             1,
             "#f0f921"
            ]
           ],
           "sequentialminus": [
            [
             0,
             "#0d0887"
            ],
            [
             0.1111111111111111,
             "#46039f"
            ],
            [
             0.2222222222222222,
             "#7201a8"
            ],
            [
             0.3333333333333333,
             "#9c179e"
            ],
            [
             0.4444444444444444,
             "#bd3786"
            ],
            [
             0.5555555555555556,
             "#d8576b"
            ],
            [
             0.6666666666666666,
             "#ed7953"
            ],
            [
             0.7777777777777778,
             "#fb9f3a"
            ],
            [
             0.8888888888888888,
             "#fdca26"
            ],
            [
             1,
             "#f0f921"
            ]
           ]
          },
          "colorway": [
           "#636efa",
           "#EF553B",
           "#00cc96",
           "#ab63fa",
           "#FFA15A",
           "#19d3f3",
           "#FF6692",
           "#B6E880",
           "#FF97FF",
           "#FECB52"
          ],
          "font": {
           "color": "#2a3f5f"
          },
          "geo": {
           "bgcolor": "white",
           "lakecolor": "white",
           "landcolor": "#E5ECF6",
           "showlakes": true,
           "showland": true,
           "subunitcolor": "white"
          },
          "hoverlabel": {
           "align": "left"
          },
          "hovermode": "closest",
          "mapbox": {
           "style": "light"
          },
          "paper_bgcolor": "white",
          "plot_bgcolor": "#E5ECF6",
          "polar": {
           "angularaxis": {
            "gridcolor": "white",
            "linecolor": "white",
            "ticks": ""
           },
           "bgcolor": "#E5ECF6",
           "radialaxis": {
            "gridcolor": "white",
            "linecolor": "white",
            "ticks": ""
           }
          },
          "scene": {
           "xaxis": {
            "backgroundcolor": "#E5ECF6",
            "gridcolor": "white",
            "gridwidth": 2,
            "linecolor": "white",
            "showbackground": true,
            "ticks": "",
            "zerolinecolor": "white"
           },
           "yaxis": {
            "backgroundcolor": "#E5ECF6",
            "gridcolor": "white",
            "gridwidth": 2,
            "linecolor": "white",
            "showbackground": true,
            "ticks": "",
            "zerolinecolor": "white"
           },
           "zaxis": {
            "backgroundcolor": "#E5ECF6",
            "gridcolor": "white",
            "gridwidth": 2,
            "linecolor": "white",
            "showbackground": true,
            "ticks": "",
            "zerolinecolor": "white"
           }
          },
          "shapedefaults": {
           "line": {
            "color": "#2a3f5f"
           }
          },
          "ternary": {
           "aaxis": {
            "gridcolor": "white",
            "linecolor": "white",
            "ticks": ""
           },
           "baxis": {
            "gridcolor": "white",
            "linecolor": "white",
            "ticks": ""
           },
           "bgcolor": "#E5ECF6",
           "caxis": {
            "gridcolor": "white",
            "linecolor": "white",
            "ticks": ""
           }
          },
          "title": {
           "x": 0.05
          },
          "xaxis": {
           "automargin": true,
           "gridcolor": "white",
           "linecolor": "white",
           "ticks": "",
           "title": {
            "standoff": 15
           },
           "zerolinecolor": "white",
           "zerolinewidth": 2
          },
          "yaxis": {
           "automargin": true,
           "gridcolor": "white",
           "linecolor": "white",
           "ticks": "",
           "title": {
            "standoff": 15
           },
           "zerolinecolor": "white",
           "zerolinewidth": 2
          }
         }
        },
        "title": {
         "text": "Résidus OLS dans le temps"
        },
        "xaxis": {
         "title": {
          "text": "Semaine"
         }
        },
        "yaxis": {
         "title": {
          "text": "Résidu"
         }
        }
       }
      }
     },
     "metadata": {},
     "output_type": "display_data"
    },
    {
     "data": {
      "application/vnd.plotly.v1+json": {
       "config": {
        "plotlyServerURL": "https://plot.ly"
       },
       "data": [
        {
         "name": "ACF(resid)",
         "type": "bar",
         "x": [
          0,
          1,
          2,
          3,
          4,
          5,
          6,
          7,
          8,
          9,
          10,
          11,
          12,
          13,
          14,
          15,
          16,
          17,
          18,
          19,
          20,
          21,
          22,
          23,
          24
         ],
         "y": {
          "bdata": "AAAAAAAA8D+8wCsLn0HsP1g1AbR48uY/f0YLxnJy4T8bg3XL8s7YP1lBceFk1s4/Uyku2LNcsD8ocLdwSt6zv9cC+Gg3Ecq/9ZfuRCfQ079xf1QRKF/XvzqBydzEWNi/QSs0F2Yc1792bNai3RnWvzTYsPGODtS/pelOTEVc0L+nEZ7Ml1rJv6BlzAi+8sC/jpUB9jrnsL/rvMDq+6lvPxFplQMKHbA/JvS7DPZOuj9YTUKfYqzCP1CrcU+EMMc/V+ckMjqFyz8=",
          "dtype": "f8"
         }
        }
       ],
       "layout": {
        "template": {
         "data": {
          "bar": [
           {
            "error_x": {
             "color": "#2a3f5f"
            },
            "error_y": {
             "color": "#2a3f5f"
            },
            "marker": {
             "line": {
              "color": "#E5ECF6",
              "width": 0.5
             },
             "pattern": {
              "fillmode": "overlay",
              "size": 10,
              "solidity": 0.2
             }
            },
            "type": "bar"
           }
          ],
          "barpolar": [
           {
            "marker": {
             "line": {
              "color": "#E5ECF6",
              "width": 0.5
             },
             "pattern": {
              "fillmode": "overlay",
              "size": 10,
              "solidity": 0.2
             }
            },
            "type": "barpolar"
           }
          ],
          "carpet": [
           {
            "aaxis": {
             "endlinecolor": "#2a3f5f",
             "gridcolor": "white",
             "linecolor": "white",
             "minorgridcolor": "white",
             "startlinecolor": "#2a3f5f"
            },
            "baxis": {
             "endlinecolor": "#2a3f5f",
             "gridcolor": "white",
             "linecolor": "white",
             "minorgridcolor": "white",
             "startlinecolor": "#2a3f5f"
            },
            "type": "carpet"
           }
          ],
          "choropleth": [
           {
            "colorbar": {
             "outlinewidth": 0,
             "ticks": ""
            },
            "type": "choropleth"
           }
          ],
          "contour": [
           {
            "colorbar": {
             "outlinewidth": 0,
             "ticks": ""
            },
            "colorscale": [
             [
              0,
              "#0d0887"
             ],
             [
              0.1111111111111111,
              "#46039f"
             ],
             [
              0.2222222222222222,
              "#7201a8"
             ],
             [
              0.3333333333333333,
              "#9c179e"
             ],
             [
              0.4444444444444444,
              "#bd3786"
             ],
             [
              0.5555555555555556,
              "#d8576b"
             ],
             [
              0.6666666666666666,
              "#ed7953"
             ],
             [
              0.7777777777777778,
              "#fb9f3a"
             ],
             [
              0.8888888888888888,
              "#fdca26"
             ],
             [
              1,
              "#f0f921"
             ]
            ],
            "type": "contour"
           }
          ],
          "contourcarpet": [
           {
            "colorbar": {
             "outlinewidth": 0,
             "ticks": ""
            },
            "type": "contourcarpet"
           }
          ],
          "heatmap": [
           {
            "colorbar": {
             "outlinewidth": 0,
             "ticks": ""
            },
            "colorscale": [
             [
              0,
              "#0d0887"
             ],
             [
              0.1111111111111111,
              "#46039f"
             ],
             [
              0.2222222222222222,
              "#7201a8"
             ],
             [
              0.3333333333333333,
              "#9c179e"
             ],
             [
              0.4444444444444444,
              "#bd3786"
             ],
             [
              0.5555555555555556,
              "#d8576b"
             ],
             [
              0.6666666666666666,
              "#ed7953"
             ],
             [
              0.7777777777777778,
              "#fb9f3a"
             ],
             [
              0.8888888888888888,
              "#fdca26"
             ],
             [
              1,
              "#f0f921"
             ]
            ],
            "type": "heatmap"
           }
          ],
          "histogram": [
           {
            "marker": {
             "pattern": {
              "fillmode": "overlay",
              "size": 10,
              "solidity": 0.2
             }
            },
            "type": "histogram"
           }
          ],
          "histogram2d": [
           {
            "colorbar": {
             "outlinewidth": 0,
             "ticks": ""
            },
            "colorscale": [
             [
              0,
              "#0d0887"
             ],
             [
              0.1111111111111111,
              "#46039f"
             ],
             [
              0.2222222222222222,
              "#7201a8"
             ],
             [
              0.3333333333333333,
              "#9c179e"
             ],
             [
              0.4444444444444444,
              "#bd3786"
             ],
             [
              0.5555555555555556,
              "#d8576b"
             ],
             [
              0.6666666666666666,
              "#ed7953"
             ],
             [
              0.7777777777777778,
              "#fb9f3a"
             ],
             [
              0.8888888888888888,
              "#fdca26"
             ],
             [
              1,
              "#f0f921"
             ]
            ],
            "type": "histogram2d"
           }
          ],
          "histogram2dcontour": [
           {
            "colorbar": {
             "outlinewidth": 0,
             "ticks": ""
            },
            "colorscale": [
             [
              0,
              "#0d0887"
             ],
             [
              0.1111111111111111,
              "#46039f"
             ],
             [
              0.2222222222222222,
              "#7201a8"
             ],
             [
              0.3333333333333333,
              "#9c179e"
             ],
             [
              0.4444444444444444,
              "#bd3786"
             ],
             [
              0.5555555555555556,
              "#d8576b"
             ],
             [
              0.6666666666666666,
              "#ed7953"
             ],
             [
              0.7777777777777778,
              "#fb9f3a"
             ],
             [
              0.8888888888888888,
              "#fdca26"
             ],
             [
              1,
              "#f0f921"
             ]
            ],
            "type": "histogram2dcontour"
           }
          ],
          "mesh3d": [
           {
            "colorbar": {
             "outlinewidth": 0,
             "ticks": ""
            },
            "type": "mesh3d"
           }
          ],
          "parcoords": [
           {
            "line": {
             "colorbar": {
              "outlinewidth": 0,
              "ticks": ""
             }
            },
            "type": "parcoords"
           }
          ],
          "pie": [
           {
            "automargin": true,
            "type": "pie"
           }
          ],
          "scatter": [
           {
            "fillpattern": {
             "fillmode": "overlay",
             "size": 10,
             "solidity": 0.2
            },
            "type": "scatter"
           }
          ],
          "scatter3d": [
           {
            "line": {
             "colorbar": {
              "outlinewidth": 0,
              "ticks": ""
             }
            },
            "marker": {
             "colorbar": {
              "outlinewidth": 0,
              "ticks": ""
             }
            },
            "type": "scatter3d"
           }
          ],
          "scattercarpet": [
           {
            "marker": {
             "colorbar": {
              "outlinewidth": 0,
              "ticks": ""
             }
            },
            "type": "scattercarpet"
           }
          ],
          "scattergeo": [
           {
            "marker": {
             "colorbar": {
              "outlinewidth": 0,
              "ticks": ""
             }
            },
            "type": "scattergeo"
           }
          ],
          "scattergl": [
           {
            "marker": {
             "colorbar": {
              "outlinewidth": 0,
              "ticks": ""
             }
            },
            "type": "scattergl"
           }
          ],
          "scattermap": [
           {
            "marker": {
             "colorbar": {
              "outlinewidth": 0,
              "ticks": ""
             }
            },
            "type": "scattermap"
           }
          ],
          "scattermapbox": [
           {
            "marker": {
             "colorbar": {
              "outlinewidth": 0,
              "ticks": ""
             }
            },
            "type": "scattermapbox"
           }
          ],
          "scatterpolar": [
           {
            "marker": {
             "colorbar": {
              "outlinewidth": 0,
              "ticks": ""
             }
            },
            "type": "scatterpolar"
           }
          ],
          "scatterpolargl": [
           {
            "marker": {
             "colorbar": {
              "outlinewidth": 0,
              "ticks": ""
             }
            },
            "type": "scatterpolargl"
           }
          ],
          "scatterternary": [
           {
            "marker": {
             "colorbar": {
              "outlinewidth": 0,
              "ticks": ""
             }
            },
            "type": "scatterternary"
           }
          ],
          "surface": [
           {
            "colorbar": {
             "outlinewidth": 0,
             "ticks": ""
            },
            "colorscale": [
             [
              0,
              "#0d0887"
             ],
             [
              0.1111111111111111,
              "#46039f"
             ],
             [
              0.2222222222222222,
              "#7201a8"
             ],
             [
              0.3333333333333333,
              "#9c179e"
             ],
             [
              0.4444444444444444,
              "#bd3786"
             ],
             [
              0.5555555555555556,
              "#d8576b"
             ],
             [
              0.6666666666666666,
              "#ed7953"
             ],
             [
              0.7777777777777778,
              "#fb9f3a"
             ],
             [
              0.8888888888888888,
              "#fdca26"
             ],
             [
              1,
              "#f0f921"
             ]
            ],
            "type": "surface"
           }
          ],
          "table": [
           {
            "cells": {
             "fill": {
              "color": "#EBF0F8"
             },
             "line": {
              "color": "white"
             }
            },
            "header": {
             "fill": {
              "color": "#C8D4E3"
             },
             "line": {
              "color": "white"
             }
            },
            "type": "table"
           }
          ]
         },
         "layout": {
          "annotationdefaults": {
           "arrowcolor": "#2a3f5f",
           "arrowhead": 0,
           "arrowwidth": 1
          },
          "autotypenumbers": "strict",
          "coloraxis": {
           "colorbar": {
            "outlinewidth": 0,
            "ticks": ""
           }
          },
          "colorscale": {
           "diverging": [
            [
             0,
             "#8e0152"
            ],
            [
             0.1,
             "#c51b7d"
            ],
            [
             0.2,
             "#de77ae"
            ],
            [
             0.3,
             "#f1b6da"
            ],
            [
             0.4,
             "#fde0ef"
            ],
            [
             0.5,
             "#f7f7f7"
            ],
            [
             0.6,
             "#e6f5d0"
            ],
            [
             0.7,
             "#b8e186"
            ],
            [
             0.8,
             "#7fbc41"
            ],
            [
             0.9,
             "#4d9221"
            ],
            [
             1,
             "#276419"
            ]
           ],
           "sequential": [
            [
             0,
             "#0d0887"
            ],
            [
             0.1111111111111111,
             "#46039f"
            ],
            [
             0.2222222222222222,
             "#7201a8"
            ],
            [
             0.3333333333333333,
             "#9c179e"
            ],
            [
             0.4444444444444444,
             "#bd3786"
            ],
            [
             0.5555555555555556,
             "#d8576b"
            ],
            [
             0.6666666666666666,
             "#ed7953"
            ],
            [
             0.7777777777777778,
             "#fb9f3a"
            ],
            [
             0.8888888888888888,
             "#fdca26"
            ],
            [
             1,
             "#f0f921"
            ]
           ],
           "sequentialminus": [
            [
             0,
             "#0d0887"
            ],
            [
             0.1111111111111111,
             "#46039f"
            ],
            [
             0.2222222222222222,
             "#7201a8"
            ],
            [
             0.3333333333333333,
             "#9c179e"
            ],
            [
             0.4444444444444444,
             "#bd3786"
            ],
            [
             0.5555555555555556,
             "#d8576b"
            ],
            [
             0.6666666666666666,
             "#ed7953"
            ],
            [
             0.7777777777777778,
             "#fb9f3a"
            ],
            [
             0.8888888888888888,
             "#fdca26"
            ],
            [
             1,
             "#f0f921"
            ]
           ]
          },
          "colorway": [
           "#636efa",
           "#EF553B",
           "#00cc96",
           "#ab63fa",
           "#FFA15A",
           "#19d3f3",
           "#FF6692",
           "#B6E880",
           "#FF97FF",
           "#FECB52"
          ],
          "font": {
           "color": "#2a3f5f"
          },
          "geo": {
           "bgcolor": "white",
           "lakecolor": "white",
           "landcolor": "#E5ECF6",
           "showlakes": true,
           "showland": true,
           "subunitcolor": "white"
          },
          "hoverlabel": {
           "align": "left"
          },
          "hovermode": "closest",
          "mapbox": {
           "style": "light"
          },
          "paper_bgcolor": "white",
          "plot_bgcolor": "#E5ECF6",
          "polar": {
           "angularaxis": {
            "gridcolor": "white",
            "linecolor": "white",
            "ticks": ""
           },
           "bgcolor": "#E5ECF6",
           "radialaxis": {
            "gridcolor": "white",
            "linecolor": "white",
            "ticks": ""
           }
          },
          "scene": {
           "xaxis": {
            "backgroundcolor": "#E5ECF6",
            "gridcolor": "white",
            "gridwidth": 2,
            "linecolor": "white",
            "showbackground": true,
            "ticks": "",
            "zerolinecolor": "white"
           },
           "yaxis": {
            "backgroundcolor": "#E5ECF6",
            "gridcolor": "white",
            "gridwidth": 2,
            "linecolor": "white",
            "showbackground": true,
            "ticks": "",
            "zerolinecolor": "white"
           },
           "zaxis": {
            "backgroundcolor": "#E5ECF6",
            "gridcolor": "white",
            "gridwidth": 2,
            "linecolor": "white",
            "showbackground": true,
            "ticks": "",
            "zerolinecolor": "white"
           }
          },
          "shapedefaults": {
           "line": {
            "color": "#2a3f5f"
           }
          },
          "ternary": {
           "aaxis": {
            "gridcolor": "white",
            "linecolor": "white",
            "ticks": ""
           },
           "baxis": {
            "gridcolor": "white",
            "linecolor": "white",
            "ticks": ""
           },
           "bgcolor": "#E5ECF6",
           "caxis": {
            "gridcolor": "white",
            "linecolor": "white",
            "ticks": ""
           }
          },
          "title": {
           "x": 0.05
          },
          "xaxis": {
           "automargin": true,
           "gridcolor": "white",
           "linecolor": "white",
           "ticks": "",
           "title": {
            "standoff": 15
           },
           "zerolinecolor": "white",
           "zerolinewidth": 2
          },
          "yaxis": {
           "automargin": true,
           "gridcolor": "white",
           "linecolor": "white",
           "ticks": "",
           "title": {
            "standoff": 15
           },
           "zerolinecolor": "white",
           "zerolinewidth": 2
          }
         }
        },
        "title": {
         "text": "ACF des résidus (jusqu'à 24 lags)"
        },
        "xaxis": {
         "title": {
          "text": "Lag"
         }
        },
        "yaxis": {
         "title": {
          "text": "ACF"
         }
        }
       }
      }
     },
     "metadata": {},
     "output_type": "display_data"
    },
    {
     "name": "stdout",
     "output_type": "stream",
     "text": [
      "\n",
      "Attendus: β_cov > 0, β_MNP < 0, β_work > 0 ; sin/cos = saison.\n",
      "Estimés : {'cov12_lag': '-', 'MNP_lag': '-', 'work_lag': '+', 'sin52': '-', 'cos52': '+'}\n",
      "Effet +10 pp vaccination ⇒ -2.39 unités RSV/sem.\n"
     ]
    }
   ],
   "source": [
    "# ==========================================\n",
    "# 📈 Modélisation OLS (base) + diagnostics\n",
    "# ==========================================\n",
    "\n",
    "assert \"df_base\" in globals() and len(df_base) > 20, \"Base insuffisante pour modéliser.\"\n",
    "\n",
    "# --- 1) Définition Y/X\n",
    "Y = df_base[\"RSV\"].astype(float)\n",
    "X_cols = [\"cov12_lag\", \"MNP_lag\", \"work_lag\", \"sin52\", \"cos52\"]\n",
    "X = df_base[X_cols].copy()\n",
    "\n",
    "# Ajoute constante + fit OLS (erreurs robustes HC3)\n",
    "ols = sm.OLS(Y, sm.add_constant(X, has_constant=\"add\"), missing=\"drop\").fit(cov_type=\"HC3\")\n",
    "\n",
    "# --- 2️⃣ Résumé concis (OK) + 3️⃣ Coefficients triés par significativité ---\n",
    "summary_main = ols.summary2().tables[0]\n",
    "\n",
    "summary_keys = [k for k in summary_main.index if any(x in str(k) for x in [\"R\", \"AIC\", \"BIC\"])]\n",
    "print(\"=== OLS (HC3) — Résumé concis ===\")\n",
    "display(summary_main.loc[summary_keys] if summary_keys else summary_main)\n",
    "\n",
    "# --- Extraction des coefficients ---\n",
    "coef_table = ols.summary2().tables[1].copy()\n",
    "\n",
    "# Trouve dynamiquement les noms des colonnes clés\n",
    "pval_col = [c for c in coef_table.columns if \"P>\" in c.upper()][0]\n",
    "coef_col = [c for c in coef_table.columns if \"COEF\" in c.upper()][0]\n",
    "stderr_col = [c for c in coef_table.columns if \"STD\" in c.upper()][0]\n",
    "t_col = next((c for c in coef_table.columns if \"T\" in c.upper() or \"Z\" in c.upper()), None)\n",
    "\n",
    "# Trie par p-value\n",
    "coef_table = coef_table.sort_values(pval_col).reset_index()\n",
    "\n",
    "# Colonnes à afficher (selon présence)\n",
    "cols_to_show = [\"index\", coef_col, stderr_col]\n",
    "if t_col:\n",
    "    cols_to_show.append(t_col)\n",
    "cols_to_show.append(pval_col)\n",
    "\n",
    "print(\"\\nCoefficients principaux (triés par p-value) :\")\n",
    "display(coef_table.head(10)[cols_to_show])\n",
    "\n",
    "# --- 3) Diagnostics résiduels\n",
    "resid = ols.resid\n",
    "dw = sm.stats.stattools.durbin_watson(resid)\n",
    "lb = acorr_ljungbox(resid, lags=[8, 12, 24], return_df=True)\n",
    "\n",
    "print(f\"\\nDurbin–Watson: {dw:.3f} (≈2 attendu si pas d’autocorr.)\")\n",
    "print(\"Ljung–Box p-values (lags 8/12/24):\")\n",
    "display(lb[[\"lb_stat\", \"lb_pvalue\"]].rename(columns={\"lb_stat\":\"stat\", \"lb_pvalue\":\"p\"}))\n",
    "\n",
    "# --- 4) VIF (multicolinéarité)\n",
    "from statsmodels.stats.outliers_influence import variance_inflation_factor\n",
    "Xv = sm.add_constant(X, has_constant=\"add\")\n",
    "vifs = pd.Series(\n",
    "    {col: variance_inflation_factor(Xv.values, i) for i, col in enumerate(Xv.columns)},\n",
    "    name=\"VIF\"\n",
    ")\n",
    "print(\"\\n=== VIF === ( <5 ok, >10 forte colinéarité )\")\n",
    "display(vifs)\n",
    "\n",
    "# --- 5) Plotly — Observed vs Fitted\n",
    "fitted = ols.fittedvalues.reindex(df_base.index)\n",
    "\n",
    "fig1 = go.Figure()\n",
    "fig1.add_trace(go.Scatter(x=df_base.index, y=Y, mode=\"lines\", name=\"Observed\", line=dict(width=2)))\n",
    "fig1.add_trace(go.Scatter(x=df_base.index, y=fitted, mode=\"lines\", name=\"Fitted (OLS)\", line=dict(dash=\"dot\")))\n",
    "fig1.add_vline(x=COVID_START, line_dash=\"dash\", line_color=\"red\")\n",
    "fig1.add_vline(x=VACC_START, line_dash=\"dash\", line_color=\"green\")\n",
    "fig1.update_layout(\n",
    "    title=\"RSV — Observed vs Fitted (OLS, HC3)\",\n",
    "    xaxis_title=\"Semaine\", yaxis_title=\"RSV (taux hebdo)\",\n",
    ")\n",
    "fig1.show()\n",
    "\n",
    "# --- 6) Plotly — Résidus dans le temps\n",
    "fig2 = go.Figure()\n",
    "fig2.add_trace(go.Scatter(x=df_base.index, y=resid, mode=\"lines\", name=\"Residuals\"))\n",
    "fig2.add_hline(y=0, line_dash=\"dot\")\n",
    "fig2.update_layout(\n",
    "    title=\"Résidus OLS dans le temps\",\n",
    "    xaxis_title=\"Semaine\", yaxis_title=\"Résidu\"\n",
    ")\n",
    "fig2.show()\n",
    "\n",
    "# --- 7) (Optionnel) ACF des résidus en Plotly\n",
    "from statsmodels.tsa.stattools import acf\n",
    "acf_vals = acf(resid, nlags=24, fft=True)\n",
    "fig3 = go.Figure()\n",
    "fig3.add_trace(go.Bar(x=list(range(len(acf_vals))), y=acf_vals, name=\"ACF(resid)\"))\n",
    "fig3.update_layout(title=\"ACF des résidus (jusqu'à 24 lags)\", xaxis_title=\"Lag\", yaxis_title=\"ACF\")\n",
    "fig3.show()\n",
    "\n",
    "# --- 8) Interprétation signes attendus (rapide)\n",
    "coef = ols.params\n",
    "signs = {k: (\"+\" if v>0 else \"-\") for k, v in coef.items() if k != \"const\"}\n",
    "print(\"\\nAttendus: β_cov > 0, β_MNP < 0, β_work > 0 ; sin/cos = saison.\")\n",
    "print(\"Estimés :\", signs)\n",
    "\n",
    "# --- 9) Petit helper pour effet marginal de +10pp de couverture vaccinale\n",
    "def effect_vaccination(delta_pp=10):\n",
    "    return coef.get(\"cov12_lag\", np.nan) * (delta_pp / 100.0)\n",
    "\n",
    "print(f\"Effet +10 pp vaccination ⇒ {effect_vaccination(10):.2f} unités RSV/sem.\")\n"
   ]
  },
  {
   "cell_type": "code",
   "execution_count": 6,
   "id": "91174719",
   "metadata": {},
   "outputs": [
    {
     "name": "stdout",
     "output_type": "stream",
     "text": [
      "🥇 Lags optimaux trouvés : VACC=7, MNP=12, WORK=4 (R²_adj=0.657)\n",
      "=== OLS optimisé (HC3) — Résumé concis ===\n"
     ]
    },
    {
     "data": {
      "text/html": [
       "<div>\n",
       "<style scoped>\n",
       "    .dataframe tbody tr th:only-of-type {\n",
       "        vertical-align: middle;\n",
       "    }\n",
       "\n",
       "    .dataframe tbody tr th {\n",
       "        vertical-align: top;\n",
       "    }\n",
       "\n",
       "    .dataframe thead th {\n",
       "        text-align: right;\n",
       "    }\n",
       "</style>\n",
       "<table border=\"1\" class=\"dataframe\">\n",
       "  <thead>\n",
       "    <tr style=\"text-align: right;\">\n",
       "      <th></th>\n",
       "      <th>0</th>\n",
       "      <th>1</th>\n",
       "      <th>2</th>\n",
       "      <th>3</th>\n",
       "    </tr>\n",
       "  </thead>\n",
       "  <tbody>\n",
       "    <tr>\n",
       "      <th>0</th>\n",
       "      <td>Model:</td>\n",
       "      <td>OLS</td>\n",
       "      <td>Adj. R-squared:</td>\n",
       "      <td>0.968</td>\n",
       "    </tr>\n",
       "    <tr>\n",
       "      <th>1</th>\n",
       "      <td>Dependent Variable:</td>\n",
       "      <td>RSV</td>\n",
       "      <td>AIC:</td>\n",
       "      <td>1069.4038</td>\n",
       "    </tr>\n",
       "    <tr>\n",
       "      <th>2</th>\n",
       "      <td>Date:</td>\n",
       "      <td>2025-10-24 18:19</td>\n",
       "      <td>BIC:</td>\n",
       "      <td>1094.2902</td>\n",
       "    </tr>\n",
       "    <tr>\n",
       "      <th>3</th>\n",
       "      <td>No. Observations:</td>\n",
       "      <td>89</td>\n",
       "      <td>Log-Likelihood:</td>\n",
       "      <td>-524.70</td>\n",
       "    </tr>\n",
       "    <tr>\n",
       "      <th>4</th>\n",
       "      <td>Df Model:</td>\n",
       "      <td>9</td>\n",
       "      <td>F-statistic:</td>\n",
       "      <td>168.1</td>\n",
       "    </tr>\n",
       "    <tr>\n",
       "      <th>5</th>\n",
       "      <td>Df Residuals:</td>\n",
       "      <td>79</td>\n",
       "      <td>Prob (F-statistic):</td>\n",
       "      <td>1.03e-47</td>\n",
       "    </tr>\n",
       "    <tr>\n",
       "      <th>6</th>\n",
       "      <td>R-squared:</td>\n",
       "      <td>0.971</td>\n",
       "      <td>Scale:</td>\n",
       "      <td>8711.2</td>\n",
       "    </tr>\n",
       "  </tbody>\n",
       "</table>\n",
       "</div>"
      ],
      "text/plain": [
       "                     0                 1                    2          3\n",
       "0               Model:               OLS      Adj. R-squared:      0.968\n",
       "1  Dependent Variable:               RSV                 AIC:  1069.4038\n",
       "2                Date:  2025-10-24 18:19                 BIC:  1094.2902\n",
       "3    No. Observations:                89      Log-Likelihood:    -524.70\n",
       "4            Df Model:                 9         F-statistic:      168.1\n",
       "5        Df Residuals:                79  Prob (F-statistic):   1.03e-47\n",
       "6           R-squared:             0.971               Scale:     8711.2"
      ]
     },
     "metadata": {},
     "output_type": "display_data"
    },
    {
     "data": {
      "text/html": [
       "<div>\n",
       "<style scoped>\n",
       "    .dataframe tbody tr th:only-of-type {\n",
       "        vertical-align: middle;\n",
       "    }\n",
       "\n",
       "    .dataframe tbody tr th {\n",
       "        vertical-align: top;\n",
       "    }\n",
       "\n",
       "    .dataframe thead th {\n",
       "        text-align: right;\n",
       "    }\n",
       "</style>\n",
       "<table border=\"1\" class=\"dataframe\">\n",
       "  <thead>\n",
       "    <tr style=\"text-align: right;\">\n",
       "      <th></th>\n",
       "      <th>index</th>\n",
       "      <th>Coef.</th>\n",
       "      <th>Std.Err.</th>\n",
       "      <th>Std.Err.</th>\n",
       "      <th>P&gt;|z|</th>\n",
       "    </tr>\n",
       "  </thead>\n",
       "  <tbody>\n",
       "    <tr>\n",
       "      <th>0</th>\n",
       "      <td>RSV_lag1</td>\n",
       "      <td>1.588824</td>\n",
       "      <td>0.114093</td>\n",
       "      <td>0.114093</td>\n",
       "      <td>4.420357e-44</td>\n",
       "    </tr>\n",
       "    <tr>\n",
       "      <th>1</th>\n",
       "      <td>RSV_lag2</td>\n",
       "      <td>-0.716286</td>\n",
       "      <td>0.121219</td>\n",
       "      <td>0.121219</td>\n",
       "      <td>3.441081e-09</td>\n",
       "    </tr>\n",
       "    <tr>\n",
       "      <th>2</th>\n",
       "      <td>sin52</td>\n",
       "      <td>-44.974494</td>\n",
       "      <td>25.916733</td>\n",
       "      <td>25.916733</td>\n",
       "      <td>8.267957e-02</td>\n",
       "    </tr>\n",
       "    <tr>\n",
       "      <th>3</th>\n",
       "      <td>MNP_lag</td>\n",
       "      <td>43.558917</td>\n",
       "      <td>25.766504</td>\n",
       "      <td>25.766504</td>\n",
       "      <td>9.092758e-02</td>\n",
       "    </tr>\n",
       "    <tr>\n",
       "      <th>4</th>\n",
       "      <td>const</td>\n",
       "      <td>127.578824</td>\n",
       "      <td>80.878659</td>\n",
       "      <td>80.878659</td>\n",
       "      <td>1.147012e-01</td>\n",
       "    </tr>\n",
       "    <tr>\n",
       "      <th>5</th>\n",
       "      <td>vacc_x_mnp</td>\n",
       "      <td>-2.626985</td>\n",
       "      <td>1.697756</td>\n",
       "      <td>1.697756</td>\n",
       "      <td>1.217843e-01</td>\n",
       "    </tr>\n",
       "    <tr>\n",
       "      <th>6</th>\n",
       "      <td>cos52</td>\n",
       "      <td>58.077664</td>\n",
       "      <td>64.151464</td>\n",
       "      <td>64.151464</td>\n",
       "      <td>3.652954e-01</td>\n",
       "    </tr>\n",
       "    <tr>\n",
       "      <th>7</th>\n",
       "      <td>cov12_lag</td>\n",
       "      <td>-1.637030</td>\n",
       "      <td>3.019122</td>\n",
       "      <td>3.019122</td>\n",
       "      <td>5.876666e-01</td>\n",
       "    </tr>\n",
       "    <tr>\n",
       "      <th>8</th>\n",
       "      <td>work_lag</td>\n",
       "      <td>0.562264</td>\n",
       "      <td>1.208097</td>\n",
       "      <td>1.208097</td>\n",
       "      <td>6.416359e-01</td>\n",
       "    </tr>\n",
       "    <tr>\n",
       "      <th>9</th>\n",
       "      <td>tmean_z</td>\n",
       "      <td>-3.352841</td>\n",
       "      <td>39.648918</td>\n",
       "      <td>39.648918</td>\n",
       "      <td>9.326086e-01</td>\n",
       "    </tr>\n",
       "  </tbody>\n",
       "</table>\n",
       "</div>"
      ],
      "text/plain": [
       "        index       Coef.   Std.Err.   Std.Err.         P>|z|\n",
       "0    RSV_lag1    1.588824   0.114093   0.114093  4.420357e-44\n",
       "1    RSV_lag2   -0.716286   0.121219   0.121219  3.441081e-09\n",
       "2       sin52  -44.974494  25.916733  25.916733  8.267957e-02\n",
       "3     MNP_lag   43.558917  25.766504  25.766504  9.092758e-02\n",
       "4       const  127.578824  80.878659  80.878659  1.147012e-01\n",
       "5  vacc_x_mnp   -2.626985   1.697756   1.697756  1.217843e-01\n",
       "6       cos52   58.077664  64.151464  64.151464  3.652954e-01\n",
       "7   cov12_lag   -1.637030   3.019122   3.019122  5.876666e-01\n",
       "8    work_lag    0.562264   1.208097   1.208097  6.416359e-01\n",
       "9     tmean_z   -3.352841  39.648918  39.648918  9.326086e-01"
      ]
     },
     "metadata": {},
     "output_type": "display_data"
    },
    {
     "name": "stdout",
     "output_type": "stream",
     "text": [
      "\n",
      "Durbin–Watson: 1.960 (≈2 attendu si pas d’autocorr.)\n",
      "Ljung–Box p-values (lags 8/12/24):\n"
     ]
    },
    {
     "data": {
      "text/html": [
       "<div>\n",
       "<style scoped>\n",
       "    .dataframe tbody tr th:only-of-type {\n",
       "        vertical-align: middle;\n",
       "    }\n",
       "\n",
       "    .dataframe tbody tr th {\n",
       "        vertical-align: top;\n",
       "    }\n",
       "\n",
       "    .dataframe thead th {\n",
       "        text-align: right;\n",
       "    }\n",
       "</style>\n",
       "<table border=\"1\" class=\"dataframe\">\n",
       "  <thead>\n",
       "    <tr style=\"text-align: right;\">\n",
       "      <th></th>\n",
       "      <th>stat</th>\n",
       "      <th>p</th>\n",
       "    </tr>\n",
       "  </thead>\n",
       "  <tbody>\n",
       "    <tr>\n",
       "      <th>8</th>\n",
       "      <td>2.767306</td>\n",
       "      <td>0.948101</td>\n",
       "    </tr>\n",
       "    <tr>\n",
       "      <th>12</th>\n",
       "      <td>8.036334</td>\n",
       "      <td>0.782285</td>\n",
       "    </tr>\n",
       "    <tr>\n",
       "      <th>24</th>\n",
       "      <td>20.781952</td>\n",
       "      <td>0.651553</td>\n",
       "    </tr>\n",
       "  </tbody>\n",
       "</table>\n",
       "</div>"
      ],
      "text/plain": [
       "         stat         p\n",
       "8    2.767306  0.948101\n",
       "12   8.036334  0.782285\n",
       "24  20.781952  0.651553"
      ]
     },
     "metadata": {},
     "output_type": "display_data"
    },
    {
     "data": {
      "application/vnd.plotly.v1+json": {
       "config": {
        "plotlyServerURL": "https://plot.ly"
       },
       "data": [
        {
         "line": {
          "color": "blue",
          "width": 2
         },
         "mode": "lines",
         "name": "Observé (2018–2025)",
         "type": "scatter",
         "x": [
          "2019-12-30T00:00:00",
          "2020-01-06T00:00:00",
          "2020-01-13T00:00:00",
          "2020-01-20T00:00:00",
          "2020-01-27T00:00:00",
          "2020-02-03T00:00:00",
          "2020-02-10T00:00:00",
          "2020-02-17T00:00:00",
          "2020-02-24T00:00:00",
          "2020-03-02T00:00:00",
          "2020-03-09T00:00:00",
          "2020-03-16T00:00:00",
          "2020-03-23T00:00:00",
          "2020-03-30T00:00:00",
          "2020-04-06T00:00:00",
          "2020-04-13T00:00:00",
          "2020-04-20T00:00:00",
          "2020-04-27T00:00:00",
          "2020-05-04T00:00:00",
          "2020-05-11T00:00:00",
          "2020-05-18T00:00:00",
          "2020-05-25T00:00:00",
          "2020-06-01T00:00:00",
          "2020-06-08T00:00:00",
          "2020-06-15T00:00:00",
          "2020-06-22T00:00:00",
          "2020-06-29T00:00:00",
          "2020-07-06T00:00:00",
          "2020-07-13T00:00:00",
          "2020-07-20T00:00:00",
          "2020-07-27T00:00:00",
          "2020-08-03T00:00:00",
          "2020-08-10T00:00:00",
          "2020-08-17T00:00:00",
          "2020-08-24T00:00:00",
          "2020-08-31T00:00:00",
          "2020-09-07T00:00:00",
          "2020-09-14T00:00:00",
          "2020-09-21T00:00:00",
          "2020-09-28T00:00:00",
          "2020-10-05T00:00:00",
          "2020-10-12T00:00:00",
          "2020-10-19T00:00:00",
          "2020-10-26T00:00:00",
          "2020-11-02T00:00:00",
          "2020-11-09T00:00:00",
          "2020-11-16T00:00:00",
          "2020-11-23T00:00:00",
          "2020-11-30T00:00:00",
          "2020-12-07T00:00:00",
          "2020-12-14T00:00:00",
          "2020-12-21T00:00:00",
          "2020-12-28T00:00:00",
          "2021-03-01T00:00:00",
          "2021-03-08T00:00:00",
          "2021-03-15T00:00:00",
          "2021-03-22T00:00:00",
          "2021-03-29T00:00:00",
          "2021-04-05T00:00:00",
          "2021-04-12T00:00:00",
          "2021-04-19T00:00:00",
          "2021-04-26T00:00:00",
          "2021-05-03T00:00:00",
          "2021-05-10T00:00:00",
          "2021-05-17T00:00:00",
          "2021-05-24T00:00:00",
          "2021-05-31T00:00:00",
          "2021-06-07T00:00:00",
          "2021-06-14T00:00:00",
          "2021-06-21T00:00:00",
          "2021-06-28T00:00:00",
          "2021-07-05T00:00:00",
          "2021-07-12T00:00:00",
          "2021-07-19T00:00:00",
          "2021-07-26T00:00:00",
          "2021-08-02T00:00:00",
          "2021-08-09T00:00:00",
          "2021-08-16T00:00:00",
          "2021-08-23T00:00:00",
          "2021-08-30T00:00:00",
          "2021-09-06T00:00:00",
          "2021-09-13T00:00:00",
          "2021-09-20T00:00:00",
          "2021-09-27T00:00:00",
          "2021-10-04T00:00:00",
          "2021-10-11T00:00:00",
          "2021-10-18T00:00:00",
          "2021-10-25T00:00:00",
          "2021-11-01T00:00:00",
          "2021-11-08T00:00:00",
          "2021-11-15T00:00:00",
          "2021-11-22T00:00:00",
          "2021-11-29T00:00:00",
          "2021-12-06T00:00:00",
          "2021-12-13T00:00:00",
          "2021-12-20T00:00:00",
          "2021-12-27T00:00:00",
          "2022-01-03T00:00:00",
          "2022-01-10T00:00:00",
          "2022-01-17T00:00:00",
          "2022-01-24T00:00:00",
          "2022-01-31T00:00:00",
          "2022-02-07T00:00:00",
          "2022-02-14T00:00:00",
          "2022-02-21T00:00:00",
          "2022-02-28T00:00:00",
          "2022-03-07T00:00:00",
          "2022-03-14T00:00:00",
          "2022-03-21T00:00:00",
          "2022-03-28T00:00:00",
          "2022-04-04T00:00:00",
          "2022-04-11T00:00:00",
          "2022-04-18T00:00:00",
          "2022-04-25T00:00:00",
          "2022-05-02T00:00:00",
          "2022-05-09T00:00:00",
          "2022-05-16T00:00:00",
          "2022-05-23T00:00:00",
          "2022-05-30T00:00:00",
          "2022-06-06T00:00:00",
          "2022-06-13T00:00:00",
          "2022-06-20T00:00:00",
          "2022-06-27T00:00:00",
          "2022-07-04T00:00:00",
          "2022-07-11T00:00:00",
          "2022-07-18T00:00:00",
          "2022-07-25T00:00:00",
          "2022-08-01T00:00:00",
          "2022-08-08T00:00:00",
          "2022-08-15T00:00:00",
          "2022-08-22T00:00:00",
          "2022-08-29T00:00:00",
          "2022-09-05T00:00:00",
          "2022-09-12T00:00:00",
          "2022-09-19T00:00:00",
          "2022-09-26T00:00:00",
          "2022-10-03T00:00:00",
          "2022-10-10T00:00:00",
          "2022-10-17T00:00:00",
          "2022-10-24T00:00:00",
          "2022-10-31T00:00:00",
          "2022-11-07T00:00:00"
         ],
         "y": {
          "bdata": "bikxGWCNm0Aw2j4/Xw6UQDBxmvS1ipFAYaQXtVuikkAZSAZvjliRQJjdk4ftA5BAdqhD+k/Ti0AF54S3vMqJQLO1vkg4MIdANonmprIFhkBooc8N3iWGQPseN/Tdq4lAv4Gof+myg0A41f/eUph0QGPR16DNA2RAilARTNrqWUCRoMCHZ3ZVQG1PYJ8Y2lFAM6P5RURVS0A28X2N/qFPQPa7owsZnUZAno3W/dUjSUCzPCHRCptBQNyesxRv9kJACNm+7/u+P0AdAoke34VLQHjQy6zuQ1hA/Kumb+JAZkBLxvfmE49kQNBR3CvSpWJATTfD7KlmYEDDdGvj2dRaQNX2AvWeullAWLLf6uvxX0CYLmkxnUVlQD5VKk1Py2xAk/8L/H/QgECAok83kkp9QOE0VPdez3pALr4u5G2NekD3jXWS2SV9QDJ40qGnrHlAjx9kOCLJeUACaDEEAgt0QDGaEbVfJnFAMVSst1lecUAhuMKifxJ1QITjhbb0DHRAAvd2KsQldkDNdkMiJjl4QC87m8AahHlAzOjL+60bfUCrZ9aMWyB6QMvZ+YYDRIxA3GPINebmjECzRpj9ZRaQQNoGSfp3jpJAnBVRE0VDk0Da+Ljb8t6RQN4E3zSdVJBAZO//ws4UhkC6Yuu+2Ix+QOGXPJblC3tAQz19BFY1gEBf4wLpFZmBQIb48sgYlYFApBf3F+hJgUDBjpzYlSOBQE8l4jHcfn9A5X3asEePgED+xLdmCbaCQGCg9wi9WoJAhtn0NZ0chEARsgMZj36CQLHqg5cGi39AQt68gh4MeEDM2Olqn1JyQJ230udahm5AQaPwsHs3a0B/pGf+MTBwQMyMyMEmbnFAG513jPALfUDR7YBG1OKAQAx4eFOicYZAgX0yznhTjECebX94Z0aRQBAKpYp1I5RAXXXTHJ/nlkAAT//++ZiYQCCOv/7dW5ZACbXwBtJbmEADuR9LMkWdQGL+ZVKOYp5AYs0Srkn+m0BPxMfMwkiaQH7lQXpShJZAcK4GzWsilEDnt/mQgTaNQOh5YJVlq4hAeS+tPE/7hUBfyV2dNtWCQJlIBgzceoJAA3sKiPLWgEAcqJ2rT4qAQGTnK1CE5HxAHYQMJgZJe0Dt2GN9nlB7QM7vh+FLoHxATLdXrFIYe0A+Jzk3aP56QMCMc+XNbHpA59lyTyNEekB/rPlUYoF5QC8NLuM3MndArHmnZbg+dUC4fvJeAuV3QKepCrKa3HZAQAJWeQhFdkC+MSUOoOp3QNXOctGnpXdAQVv3JMpmdEBaWOSVk3Z1QC6wpjaxFHdAapYV1NEedkDnfIh40cd0QDtYe6+MOHNA8ynXRuI0bUCg8Y6d4b5pQBIyb1lufmpACPRXAsjIZUCn9nUi+UBlQMKyZwlRR2lAnV1jPI8kcUB+0Kvo7L56QCjWZ9bzY4JAdUE7r5rih0BPlKVSaxyOQH7/5sURvJNAwFq1axItmUCzKEdcl3igQCXm/o+IXqJA2TgHdHt7oUA=",
          "dtype": "f8"
         }
        },
        {
         "line": {
          "color": "orange",
          "dash": "dot",
          "width": 2
         },
         "mode": "lines",
         "name": "Prédit (post-2021)",
         "type": "scatter",
         "x": [
          "2021-03-01T00:00:00",
          "2021-03-08T00:00:00",
          "2021-03-15T00:00:00",
          "2021-03-22T00:00:00",
          "2021-03-29T00:00:00",
          "2021-04-05T00:00:00",
          "2021-04-12T00:00:00",
          "2021-04-19T00:00:00",
          "2021-04-26T00:00:00",
          "2021-05-03T00:00:00",
          "2021-05-10T00:00:00",
          "2021-05-17T00:00:00",
          "2021-05-24T00:00:00",
          "2021-05-31T00:00:00",
          "2021-06-07T00:00:00",
          "2021-06-14T00:00:00",
          "2021-06-21T00:00:00",
          "2021-06-28T00:00:00",
          "2021-07-05T00:00:00",
          "2021-07-12T00:00:00",
          "2021-07-19T00:00:00",
          "2021-07-26T00:00:00",
          "2021-08-02T00:00:00",
          "2021-08-09T00:00:00",
          "2021-08-16T00:00:00",
          "2021-08-23T00:00:00",
          "2021-08-30T00:00:00",
          "2021-09-06T00:00:00",
          "2021-09-13T00:00:00",
          "2021-09-20T00:00:00",
          "2021-09-27T00:00:00",
          "2021-10-04T00:00:00",
          "2021-10-11T00:00:00",
          "2021-10-18T00:00:00",
          "2021-10-25T00:00:00",
          "2021-11-01T00:00:00",
          "2021-11-08T00:00:00",
          "2021-11-15T00:00:00",
          "2021-11-22T00:00:00",
          "2021-11-29T00:00:00",
          "2021-12-06T00:00:00",
          "2021-12-13T00:00:00",
          "2021-12-20T00:00:00",
          "2021-12-27T00:00:00",
          "2022-01-03T00:00:00",
          "2022-01-10T00:00:00",
          "2022-01-17T00:00:00",
          "2022-01-24T00:00:00",
          "2022-01-31T00:00:00",
          "2022-02-07T00:00:00",
          "2022-02-14T00:00:00",
          "2022-02-21T00:00:00",
          "2022-02-28T00:00:00",
          "2022-03-07T00:00:00",
          "2022-03-14T00:00:00",
          "2022-03-21T00:00:00",
          "2022-03-28T00:00:00",
          "2022-04-04T00:00:00",
          "2022-04-11T00:00:00",
          "2022-04-18T00:00:00",
          "2022-04-25T00:00:00",
          "2022-05-02T00:00:00",
          "2022-05-09T00:00:00",
          "2022-05-16T00:00:00",
          "2022-05-23T00:00:00",
          "2022-05-30T00:00:00",
          "2022-06-06T00:00:00",
          "2022-06-13T00:00:00",
          "2022-06-20T00:00:00",
          "2022-06-27T00:00:00",
          "2022-07-04T00:00:00",
          "2022-07-11T00:00:00",
          "2022-07-18T00:00:00",
          "2022-07-25T00:00:00",
          "2022-08-01T00:00:00",
          "2022-08-08T00:00:00",
          "2022-08-15T00:00:00",
          "2022-08-22T00:00:00",
          "2022-08-29T00:00:00",
          "2022-09-05T00:00:00",
          "2022-09-12T00:00:00",
          "2022-09-19T00:00:00",
          "2022-09-26T00:00:00",
          "2022-10-03T00:00:00",
          "2022-10-10T00:00:00",
          "2022-10-17T00:00:00",
          "2022-10-24T00:00:00",
          "2022-10-31T00:00:00",
          "2022-11-07T00:00:00"
         ],
         "y": {
          "bdata": "ALZZJiVGkUCH+nNwxy6IQFxI7Cmp+I5Ac8Z4GpnzkUCSg2Uy/Q6TQJ18QekzxJJAheyxe5Jaj0CEmjv/DiaMQOIIQaF5znpAhBVEfQ93c0DbUQ9HFF54QFN18bh06oFAyNCWuZDvgUAPWVBuBI2AQIERK7ZVcn9AJUJ5pSYOgEDnAOA41S98QKANLVULHYJANsu/SxqYhEDAf4BHs02CQEv7O/+prYVAFdZvvZZ+gUBD2QUcxil9QCYLZNEJFHRAG4bNnYCUcUB4tgH0im9wQPhY6/RSQnBAPC3SL0TmdUDUFALDYel2QB8pzwMfuYRAGI5ZGHnChEBX8qpmXB+MQGinl4DF5pBAmPvrB9PWk0ACrA7VYj2WQCga3HHQqJhA5Zl/HCRkmUAD2Ib4JpuUQPVs+KWLUZlAXD96yEyZn0BrTLod/NqdQLYl0Ol9VJlAGnbQSlRDmEDY6rhuoWGTQAXLtwmiQ5JAd5ekDrw/hkBaQ/8W/ySGQFT3bjNXp4RAVNXe4InZgUCthCmXRFODQLvBoR0lp4BAm8GKuIkdgUAuwYB37Yp7QPNP70cuTntAk6ZfLsOWe0C6zYUDzjl9QCbXNmfR5nlAdzv5N0ZyekBpxu/jGhN5QMEYmghN+HhARSmkSZmXd0C8AIG4Pjt0QKhe1e8/MHJAK5bZTP5Ud0DaI/QYa3p0QISaYBvUbXRADTuVdXqsd0A/FaQZ4hl2QKU1Ebem3HBAldIJg2jkdUB1InmOdKx3QOPYajoDdHVA3VMe9POJdEAIYY8QaJtzQMNvUx8QdmtA6YCvwXJrbEBQbejuQuFwQLyB99e0BmtAdTf+nMj/bUCszdYoXuRyQHq3XNPdE3lArJHksTcdg0C8qHUrUwGIQGc/DB7xTI1ARPm7etW+kUAevpGNjwOXQHBB6j2/XpxAi4q1Fi50okCU5bVPmbGiQA==",
          "dtype": "f8"
         }
        }
       ],
       "layout": {
        "annotations": [
         {
          "font": {
           "color": "red",
           "size": 11
          },
          "showarrow": false,
          "text": "Début COVID",
          "x": "2020-03-01",
          "xref": "x",
          "y": 1.02,
          "yref": "paper"
         },
         {
          "font": {
           "color": "green",
           "size": 11
          },
          "showarrow": false,
          "text": "Début Vaccin",
          "x": "2021-01-01",
          "xref": "x",
          "y": 1.02,
          "yref": "paper"
         },
         {
          "font": {
           "color": "grey",
           "size": 11
          },
          "showarrow": false,
          "text": "Début période modélisée",
          "x": "2021-01-01",
          "xref": "x",
          "y": 1.02,
          "yref": "paper"
         },
         {
          "align": "left",
          "bgcolor": "white",
          "bordercolor": "black",
          "borderpad": 4,
          "borderwidth": 1,
          "showarrow": false,
          "text": "R² ajusté: 0.968<br>AIC: 1069.4<br>BIC: 1094.3<br>Durbin-Watson: 1.960",
          "x": 0.02,
          "xref": "paper",
          "y": 0.95,
          "yref": "paper"
         }
        ],
        "height": 600,
        "hovermode": "x unified",
        "shapes": [
         {
          "line": {
           "color": "red",
           "dash": "dash",
           "width": 2
          },
          "type": "line",
          "x0": "2020-03-01",
          "x1": "2020-03-01",
          "xref": "x",
          "y0": 0,
          "y1": 1,
          "yref": "paper"
         },
         {
          "line": {
           "color": "green",
           "dash": "dash",
           "width": 2
          },
          "type": "line",
          "x0": "2021-01-01",
          "x1": "2021-01-01",
          "xref": "x",
          "y0": 0,
          "y1": 1,
          "yref": "paper"
         },
         {
          "line": {
           "color": "grey",
           "dash": "dash",
           "width": 2
          },
          "type": "line",
          "x0": "2021-01-01",
          "x1": "2021-01-01",
          "xref": "x",
          "y0": 0,
          "y1": 1,
          "yref": "paper"
         }
        ],
        "template": {
         "data": {
          "bar": [
           {
            "error_x": {
             "color": "#2a3f5f"
            },
            "error_y": {
             "color": "#2a3f5f"
            },
            "marker": {
             "line": {
              "color": "#E5ECF6",
              "width": 0.5
             },
             "pattern": {
              "fillmode": "overlay",
              "size": 10,
              "solidity": 0.2
             }
            },
            "type": "bar"
           }
          ],
          "barpolar": [
           {
            "marker": {
             "line": {
              "color": "#E5ECF6",
              "width": 0.5
             },
             "pattern": {
              "fillmode": "overlay",
              "size": 10,
              "solidity": 0.2
             }
            },
            "type": "barpolar"
           }
          ],
          "carpet": [
           {
            "aaxis": {
             "endlinecolor": "#2a3f5f",
             "gridcolor": "white",
             "linecolor": "white",
             "minorgridcolor": "white",
             "startlinecolor": "#2a3f5f"
            },
            "baxis": {
             "endlinecolor": "#2a3f5f",
             "gridcolor": "white",
             "linecolor": "white",
             "minorgridcolor": "white",
             "startlinecolor": "#2a3f5f"
            },
            "type": "carpet"
           }
          ],
          "choropleth": [
           {
            "colorbar": {
             "outlinewidth": 0,
             "ticks": ""
            },
            "type": "choropleth"
           }
          ],
          "contour": [
           {
            "colorbar": {
             "outlinewidth": 0,
             "ticks": ""
            },
            "colorscale": [
             [
              0,
              "#0d0887"
             ],
             [
              0.1111111111111111,
              "#46039f"
             ],
             [
              0.2222222222222222,
              "#7201a8"
             ],
             [
              0.3333333333333333,
              "#9c179e"
             ],
             [
              0.4444444444444444,
              "#bd3786"
             ],
             [
              0.5555555555555556,
              "#d8576b"
             ],
             [
              0.6666666666666666,
              "#ed7953"
             ],
             [
              0.7777777777777778,
              "#fb9f3a"
             ],
             [
              0.8888888888888888,
              "#fdca26"
             ],
             [
              1,
              "#f0f921"
             ]
            ],
            "type": "contour"
           }
          ],
          "contourcarpet": [
           {
            "colorbar": {
             "outlinewidth": 0,
             "ticks": ""
            },
            "type": "contourcarpet"
           }
          ],
          "heatmap": [
           {
            "colorbar": {
             "outlinewidth": 0,
             "ticks": ""
            },
            "colorscale": [
             [
              0,
              "#0d0887"
             ],
             [
              0.1111111111111111,
              "#46039f"
             ],
             [
              0.2222222222222222,
              "#7201a8"
             ],
             [
              0.3333333333333333,
              "#9c179e"
             ],
             [
              0.4444444444444444,
              "#bd3786"
             ],
             [
              0.5555555555555556,
              "#d8576b"
             ],
             [
              0.6666666666666666,
              "#ed7953"
             ],
             [
              0.7777777777777778,
              "#fb9f3a"
             ],
             [
              0.8888888888888888,
              "#fdca26"
             ],
             [
              1,
              "#f0f921"
             ]
            ],
            "type": "heatmap"
           }
          ],
          "histogram": [
           {
            "marker": {
             "pattern": {
              "fillmode": "overlay",
              "size": 10,
              "solidity": 0.2
             }
            },
            "type": "histogram"
           }
          ],
          "histogram2d": [
           {
            "colorbar": {
             "outlinewidth": 0,
             "ticks": ""
            },
            "colorscale": [
             [
              0,
              "#0d0887"
             ],
             [
              0.1111111111111111,
              "#46039f"
             ],
             [
              0.2222222222222222,
              "#7201a8"
             ],
             [
              0.3333333333333333,
              "#9c179e"
             ],
             [
              0.4444444444444444,
              "#bd3786"
             ],
             [
              0.5555555555555556,
              "#d8576b"
             ],
             [
              0.6666666666666666,
              "#ed7953"
             ],
             [
              0.7777777777777778,
              "#fb9f3a"
             ],
             [
              0.8888888888888888,
              "#fdca26"
             ],
             [
              1,
              "#f0f921"
             ]
            ],
            "type": "histogram2d"
           }
          ],
          "histogram2dcontour": [
           {
            "colorbar": {
             "outlinewidth": 0,
             "ticks": ""
            },
            "colorscale": [
             [
              0,
              "#0d0887"
             ],
             [
              0.1111111111111111,
              "#46039f"
             ],
             [
              0.2222222222222222,
              "#7201a8"
             ],
             [
              0.3333333333333333,
              "#9c179e"
             ],
             [
              0.4444444444444444,
              "#bd3786"
             ],
             [
              0.5555555555555556,
              "#d8576b"
             ],
             [
              0.6666666666666666,
              "#ed7953"
             ],
             [
              0.7777777777777778,
              "#fb9f3a"
             ],
             [
              0.8888888888888888,
              "#fdca26"
             ],
             [
              1,
              "#f0f921"
             ]
            ],
            "type": "histogram2dcontour"
           }
          ],
          "mesh3d": [
           {
            "colorbar": {
             "outlinewidth": 0,
             "ticks": ""
            },
            "type": "mesh3d"
           }
          ],
          "parcoords": [
           {
            "line": {
             "colorbar": {
              "outlinewidth": 0,
              "ticks": ""
             }
            },
            "type": "parcoords"
           }
          ],
          "pie": [
           {
            "automargin": true,
            "type": "pie"
           }
          ],
          "scatter": [
           {
            "fillpattern": {
             "fillmode": "overlay",
             "size": 10,
             "solidity": 0.2
            },
            "type": "scatter"
           }
          ],
          "scatter3d": [
           {
            "line": {
             "colorbar": {
              "outlinewidth": 0,
              "ticks": ""
             }
            },
            "marker": {
             "colorbar": {
              "outlinewidth": 0,
              "ticks": ""
             }
            },
            "type": "scatter3d"
           }
          ],
          "scattercarpet": [
           {
            "marker": {
             "colorbar": {
              "outlinewidth": 0,
              "ticks": ""
             }
            },
            "type": "scattercarpet"
           }
          ],
          "scattergeo": [
           {
            "marker": {
             "colorbar": {
              "outlinewidth": 0,
              "ticks": ""
             }
            },
            "type": "scattergeo"
           }
          ],
          "scattergl": [
           {
            "marker": {
             "colorbar": {
              "outlinewidth": 0,
              "ticks": ""
             }
            },
            "type": "scattergl"
           }
          ],
          "scattermap": [
           {
            "marker": {
             "colorbar": {
              "outlinewidth": 0,
              "ticks": ""
             }
            },
            "type": "scattermap"
           }
          ],
          "scattermapbox": [
           {
            "marker": {
             "colorbar": {
              "outlinewidth": 0,
              "ticks": ""
             }
            },
            "type": "scattermapbox"
           }
          ],
          "scatterpolar": [
           {
            "marker": {
             "colorbar": {
              "outlinewidth": 0,
              "ticks": ""
             }
            },
            "type": "scatterpolar"
           }
          ],
          "scatterpolargl": [
           {
            "marker": {
             "colorbar": {
              "outlinewidth": 0,
              "ticks": ""
             }
            },
            "type": "scatterpolargl"
           }
          ],
          "scatterternary": [
           {
            "marker": {
             "colorbar": {
              "outlinewidth": 0,
              "ticks": ""
             }
            },
            "type": "scatterternary"
           }
          ],
          "surface": [
           {
            "colorbar": {
             "outlinewidth": 0,
             "ticks": ""
            },
            "colorscale": [
             [
              0,
              "#0d0887"
             ],
             [
              0.1111111111111111,
              "#46039f"
             ],
             [
              0.2222222222222222,
              "#7201a8"
             ],
             [
              0.3333333333333333,
              "#9c179e"
             ],
             [
              0.4444444444444444,
              "#bd3786"
             ],
             [
              0.5555555555555556,
              "#d8576b"
             ],
             [
              0.6666666666666666,
              "#ed7953"
             ],
             [
              0.7777777777777778,
              "#fb9f3a"
             ],
             [
              0.8888888888888888,
              "#fdca26"
             ],
             [
              1,
              "#f0f921"
             ]
            ],
            "type": "surface"
           }
          ],
          "table": [
           {
            "cells": {
             "fill": {
              "color": "#EBF0F8"
             },
             "line": {
              "color": "white"
             }
            },
            "header": {
             "fill": {
              "color": "#C8D4E3"
             },
             "line": {
              "color": "white"
             }
            },
            "type": "table"
           }
          ]
         },
         "layout": {
          "annotationdefaults": {
           "arrowcolor": "#2a3f5f",
           "arrowhead": 0,
           "arrowwidth": 1
          },
          "autotypenumbers": "strict",
          "coloraxis": {
           "colorbar": {
            "outlinewidth": 0,
            "ticks": ""
           }
          },
          "colorscale": {
           "diverging": [
            [
             0,
             "#8e0152"
            ],
            [
             0.1,
             "#c51b7d"
            ],
            [
             0.2,
             "#de77ae"
            ],
            [
             0.3,
             "#f1b6da"
            ],
            [
             0.4,
             "#fde0ef"
            ],
            [
             0.5,
             "#f7f7f7"
            ],
            [
             0.6,
             "#e6f5d0"
            ],
            [
             0.7,
             "#b8e186"
            ],
            [
             0.8,
             "#7fbc41"
            ],
            [
             0.9,
             "#4d9221"
            ],
            [
             1,
             "#276419"
            ]
           ],
           "sequential": [
            [
             0,
             "#0d0887"
            ],
            [
             0.1111111111111111,
             "#46039f"
            ],
            [
             0.2222222222222222,
             "#7201a8"
            ],
            [
             0.3333333333333333,
             "#9c179e"
            ],
            [
             0.4444444444444444,
             "#bd3786"
            ],
            [
             0.5555555555555556,
             "#d8576b"
            ],
            [
             0.6666666666666666,
             "#ed7953"
            ],
            [
             0.7777777777777778,
             "#fb9f3a"
            ],
            [
             0.8888888888888888,
             "#fdca26"
            ],
            [
             1,
             "#f0f921"
            ]
           ],
           "sequentialminus": [
            [
             0,
             "#0d0887"
            ],
            [
             0.1111111111111111,
             "#46039f"
            ],
            [
             0.2222222222222222,
             "#7201a8"
            ],
            [
             0.3333333333333333,
             "#9c179e"
            ],
            [
             0.4444444444444444,
             "#bd3786"
            ],
            [
             0.5555555555555556,
             "#d8576b"
            ],
            [
             0.6666666666666666,
             "#ed7953"
            ],
            [
             0.7777777777777778,
             "#fb9f3a"
            ],
            [
             0.8888888888888888,
             "#fdca26"
            ],
            [
             1,
             "#f0f921"
            ]
           ]
          },
          "colorway": [
           "#636efa",
           "#EF553B",
           "#00cc96",
           "#ab63fa",
           "#FFA15A",
           "#19d3f3",
           "#FF6692",
           "#B6E880",
           "#FF97FF",
           "#FECB52"
          ],
          "font": {
           "color": "#2a3f5f"
          },
          "geo": {
           "bgcolor": "white",
           "lakecolor": "white",
           "landcolor": "#E5ECF6",
           "showlakes": true,
           "showland": true,
           "subunitcolor": "white"
          },
          "hoverlabel": {
           "align": "left"
          },
          "hovermode": "closest",
          "mapbox": {
           "style": "light"
          },
          "paper_bgcolor": "white",
          "plot_bgcolor": "#E5ECF6",
          "polar": {
           "angularaxis": {
            "gridcolor": "white",
            "linecolor": "white",
            "ticks": ""
           },
           "bgcolor": "#E5ECF6",
           "radialaxis": {
            "gridcolor": "white",
            "linecolor": "white",
            "ticks": ""
           }
          },
          "scene": {
           "xaxis": {
            "backgroundcolor": "#E5ECF6",
            "gridcolor": "white",
            "gridwidth": 2,
            "linecolor": "white",
            "showbackground": true,
            "ticks": "",
            "zerolinecolor": "white"
           },
           "yaxis": {
            "backgroundcolor": "#E5ECF6",
            "gridcolor": "white",
            "gridwidth": 2,
            "linecolor": "white",
            "showbackground": true,
            "ticks": "",
            "zerolinecolor": "white"
           },
           "zaxis": {
            "backgroundcolor": "#E5ECF6",
            "gridcolor": "white",
            "gridwidth": 2,
            "linecolor": "white",
            "showbackground": true,
            "ticks": "",
            "zerolinecolor": "white"
           }
          },
          "shapedefaults": {
           "line": {
            "color": "#2a3f5f"
           }
          },
          "ternary": {
           "aaxis": {
            "gridcolor": "white",
            "linecolor": "white",
            "ticks": ""
           },
           "baxis": {
            "gridcolor": "white",
            "linecolor": "white",
            "ticks": ""
           },
           "bgcolor": "#E5ECF6",
           "caxis": {
            "gridcolor": "white",
            "linecolor": "white",
            "ticks": ""
           }
          },
          "title": {
           "x": 0.05
          },
          "xaxis": {
           "automargin": true,
           "gridcolor": "white",
           "linecolor": "white",
           "ticks": "",
           "title": {
            "standoff": 15
           },
           "zerolinecolor": "white",
           "zerolinewidth": 2
          },
          "yaxis": {
           "automargin": true,
           "gridcolor": "white",
           "linecolor": "white",
           "ticks": "",
           "title": {
            "standoff": 15
           },
           "zerolinecolor": "white",
           "zerolinewidth": 2
          }
         }
        },
        "title": {
         "text": "RSV — Observé (2018–2025) vs Prédit (post-2021) | Lags: VACC=7, MNP=12, WORK=4"
        },
        "xaxis": {
         "range": [
          "2018-01-01",
          "2025-12-31"
         ],
         "title": {
          "text": "Semaine"
         }
        },
        "yaxis": {
         "title": {
          "text": "RSV (taux hebdo)"
         }
        }
       }
      }
     },
     "metadata": {},
     "output_type": "display_data"
    }
   ],
   "source": [
    "# ==========================================\n",
    "# 📈 Modélisation OLS optimisée + diagnostics\n",
    "# ==========================================\n",
    "\n",
    "assert \"df_base\" in globals() and len(df_base) > 20, \"Base insuffisante pour modéliser.\"\n",
    "\n",
    "# --- 1️⃣ Recherche empirique du meilleur jeu de lags ---\n",
    "from itertools import product\n",
    "\n",
    "best_r2, best_lags = -np.inf, (LAG_VACC, LAG_MNP, LAG_WORK)\n",
    "for lv, lm, lw in product(range(2, 9), range(4, 13), range(4, 13)):\n",
    "    X_tmp = build_model_matrix(X_base, lags=(lv, lm, lw), mask_vars=mask_vars)\n",
    "    df_tmp = rsv.set_index(\"date_monday\")[[\"RSV\"]].join(X_tmp).dropna()\n",
    "    if len(df_tmp) < 30:\n",
    "        continue\n",
    "    Y_tmp = df_tmp[\"RSV\"]\n",
    "    X_tmp = df_tmp[[\"cov12_lag\", \"MNP_lag\", \"work_lag\", \"sin52\", \"cos52\"]]\n",
    "    model_tmp = sm.OLS(Y_tmp, sm.add_constant(X_tmp)).fit()\n",
    "    if model_tmp.rsquared_adj > best_r2:\n",
    "        best_r2, best_lags = model_tmp.rsquared_adj, (lv, lm, lw)\n",
    "\n",
    "print(f\"🥇 Lags optimaux trouvés : VACC={best_lags[0]}, MNP={best_lags[1]}, WORK={best_lags[2]} (R²_adj={best_r2:.3f})\")\n",
    "\n",
    "# --- 2️⃣ Reconstruction de la base finale avec les meilleurs lags ---\n",
    "X_full_opt = build_model_matrix(X_base, lags=best_lags, mask_vars=mask_vars)\n",
    "df_opt = (\n",
    "    rsv.set_index(\"date_monday\")[[\"RSV\"]]\n",
    "    .join(X_full_opt, how=\"left\")\n",
    "    .dropna()\n",
    "    .sort_index()\n",
    ")\n",
    "\n",
    "# --- 3️⃣ Enrichissement avec météo & interactions ---\n",
    "# --- 3️⃣ Enrichissement avec météo & interactions (corrigé) ---\n",
    "meteo = keyify(data[\"meteo_fr_weekly\"])[[\"year_iso\", \"week_iso_num\", \"tmean\"]]\n",
    "\n",
    "# Recalcule les clés ISO dans df_opt avant fusion\n",
    "df_opt = df_opt.reset_index()\n",
    "df_opt = keyify(df_opt)\n",
    "\n",
    "df_opt = (\n",
    "    df_opt.merge(meteo, on=[\"year_iso\", \"week_iso_num\"], how=\"left\")\n",
    "          .set_index(\"date_monday\")\n",
    "          .sort_index()\n",
    ")\n",
    "df_opt[\"tmean_z\"] = zscore(df_opt[\"tmean\"])\n",
    "df_opt[\"vacc_x_mnp\"] = df_opt[\"cov12_lag\"] * df_opt[\"MNP_lag\"]\n",
    "\n",
    "df_opt[\"tmean_z\"] = zscore(df_opt[\"tmean\"])\n",
    "df_opt[\"vacc_x_mnp\"] = df_opt[\"cov12_lag\"] * df_opt[\"MNP_lag\"]\n",
    "\n",
    "# --- 4️⃣ Ajout des lags RSV (t-1, t-2) ---\n",
    "df_opt[\"RSV_lag1\"] = df_opt[\"RSV\"].shift(1)\n",
    "df_opt[\"RSV_lag2\"] = df_opt[\"RSV\"].shift(2)\n",
    "df_opt = df_opt.dropna()\n",
    "\n",
    "# --- 5️⃣ Définition Y/X optimisé ---\n",
    "Y = df_opt[\"RSV\"].astype(float)\n",
    "X_cols = [\"cov12_lag\", \"MNP_lag\", \"work_lag\", \"tmean_z\", \"vacc_x_mnp\", \n",
    "          \"RSV_lag1\", \"RSV_lag2\", \"sin52\", \"cos52\"]\n",
    "X = df_opt[X_cols].copy()\n",
    "\n",
    "# --- 6️⃣ Fit du modèle OLS optimisé ---\n",
    "ols_opt = sm.OLS(Y, sm.add_constant(X, has_constant=\"add\"), missing=\"drop\").fit(cov_type=\"HC3\")\n",
    "\n",
    "# --- 7️⃣ Résumé synthétique ---\n",
    "summary_main = ols_opt.summary2().tables[0]\n",
    "summary_keys = [k for k in summary_main.index if any(x in str(k) for x in [\"R\", \"AIC\", \"BIC\"])]\n",
    "print(\"=== OLS optimisé (HC3) — Résumé concis ===\")\n",
    "display(summary_main.loc[summary_keys] if summary_keys else summary_main)\n",
    "\n",
    "# --- Coefficients triés par significativité ---\n",
    "coef_table = ols_opt.summary2().tables[1].copy()\n",
    "pval_col = [c for c in coef_table.columns if \"P>\" in c.upper()][0]\n",
    "coef_col = [c for c in coef_table.columns if \"COEF\" in c.upper()][0]\n",
    "stderr_col = [c for c in coef_table.columns if \"STD\" in c.upper()][0]\n",
    "t_col = next((c for c in coef_table.columns if \"T\" in c.upper() or \"Z\" in c.upper()), None)\n",
    "coef_table = coef_table.sort_values(pval_col).reset_index()\n",
    "\n",
    "cols_to_show = [\"index\", coef_col, stderr_col]\n",
    "if t_col:\n",
    "    cols_to_show.append(t_col)\n",
    "cols_to_show.append(pval_col)\n",
    "display(coef_table.head(10)[cols_to_show])\n",
    "\n",
    "# --- 8️⃣ Diagnostics résiduels ---\n",
    "resid = ols_opt.resid\n",
    "dw = sm.stats.stattools.durbin_watson(resid)\n",
    "lb = acorr_ljungbox(resid, lags=[8, 12, 24], return_df=True)\n",
    "\n",
    "print(f\"\\nDurbin–Watson: {dw:.3f} (≈2 attendu si pas d’autocorr.)\")\n",
    "print(\"Ljung–Box p-values (lags 8/12/24):\")\n",
    "display(lb[[\"lb_stat\", \"lb_pvalue\"]].rename(columns={\"lb_stat\":\"stat\", \"lb_pvalue\":\"p\"}))\n",
    "\n",
    "# --- 9️⃣ Plotly — Observed vs Fitted (amélioré) ---\n",
    "import plotly.graph_objects as go\n",
    "\n",
    "# --- 1️⃣ Préparation des données ---\n",
    "df_pre = rsv.query(\"date_monday < '2021-01-01'\")[[\"date_monday\",\"RSV\"]].set_index(\"date_monday\")\n",
    "df_plot = pd.concat([df_pre, df_opt[[\"RSV\"]]], axis=0)\n",
    "fitted = ols_opt.fittedvalues.reindex(df_opt.index)\n",
    "\n",
    "# --- 2️⃣ Création de la figure unique ---\n",
    "fig = go.Figure()\n",
    "\n",
    "# Ajout de la courbe historique complète (avant + après 2021)\n",
    "fig.add_trace(\n",
    "    go.Scatter(\n",
    "        x=df_plot.index,\n",
    "        y=df_plot[\"RSV\"],\n",
    "        mode=\"lines\",\n",
    "        name=\"Observé (2018–2025)\",\n",
    "        line=dict(width=2, color=\"blue\")\n",
    "    )\n",
    ")\n",
    "\n",
    "# Ajout de la courbe fitted (uniquement post-2021)\n",
    "fig.add_trace(\n",
    "    go.Scatter(\n",
    "        x=df_opt.index,\n",
    "        y=fitted,\n",
    "        mode=\"lines\",\n",
    "        name=\"Prédit (post-2021)\",\n",
    "        line=dict(dash=\"dot\", color=\"orange\", width=2)\n",
    "    )\n",
    ")\n",
    "\n",
    "# Ajout des lignes verticales pour événements clés\n",
    "for date_str, color, label in [\n",
    "    (str(COVID_START.date()), \"red\", \"Début COVID\"),\n",
    "    (str(VACC_START.date()), \"green\", \"Début Vaccin\"),\n",
    "    (\"2021-01-01\", \"grey\", \"Début période modélisée\")\n",
    "]:\n",
    "    fig.add_shape(\n",
    "        type=\"line\",\n",
    "        x0=date_str, x1=date_str,\n",
    "        y0=0, y1=1,\n",
    "        xref=\"x\", yref=\"paper\",\n",
    "        line=dict(color=color, dash=\"dash\", width=2),\n",
    "    )\n",
    "    fig.add_annotation(\n",
    "        x=date_str,\n",
    "        y=1.02,\n",
    "        xref=\"x\", yref=\"paper\",\n",
    "        showarrow=False,\n",
    "        text=label,\n",
    "        font=dict(color=color, size=11)\n",
    "    )\n",
    "\n",
    "# --- 3️⃣ Mise en page finale ---\n",
    "fig.update_layout(\n",
    "    title=f\"RSV — Observé (2018–2025) vs Prédit (post-2021) | Lags: VACC={best_lags[0]}, MNP={best_lags[1]}, WORK={best_lags[2]}\",\n",
    "    xaxis_title=\"Semaine\",\n",
    "    yaxis_title=\"RSV (taux hebdo)\",\n",
    "    hovermode=\"x unified\",\n",
    "    height=600,\n",
    "    xaxis=dict(range=[\"2018-01-01\", \"2025-12-31\"])\n",
    ")\n",
    "\n",
    "# --- 4️⃣ Annotation des indicateurs de qualité ---\n",
    "stats_text = (\n",
    "    f\"R² ajusté: {ols_opt.rsquared_adj:.3f}<br>\"\n",
    "    f\"AIC: {ols_opt.aic:.1f}<br>\"\n",
    "    f\"BIC: {ols_opt.bic:.1f}<br>\"\n",
    "    f\"Durbin-Watson: {sm.stats.stattools.durbin_watson(ols_opt.resid):.3f}\"\n",
    ")\n",
    "fig.add_annotation(\n",
    "    x=0.02, y=0.95,\n",
    "    xref=\"paper\", yref=\"paper\",\n",
    "    text=stats_text,\n",
    "    showarrow=False,\n",
    "    align=\"left\",\n",
    "    bordercolor=\"black\",\n",
    "    borderwidth=1,\n",
    "    borderpad=4,\n",
    "    bgcolor=\"white\"\n",
    ")\n",
    "\n",
    "fig.show()"
   ]
  },
  {
   "cell_type": "code",
   "execution_count": 7,
   "id": "ae2c68d9",
   "metadata": {},
   "outputs": [
    {
     "name": "stdout",
     "output_type": "stream",
     "text": [
      "=== ITS (OLS + HAC) — Résumé concis ===\n"
     ]
    },
    {
     "data": {
      "text/html": [
       "<div>\n",
       "<style scoped>\n",
       "    .dataframe tbody tr th:only-of-type {\n",
       "        vertical-align: middle;\n",
       "    }\n",
       "\n",
       "    .dataframe tbody tr th {\n",
       "        vertical-align: top;\n",
       "    }\n",
       "\n",
       "    .dataframe thead th {\n",
       "        text-align: right;\n",
       "    }\n",
       "</style>\n",
       "<table border=\"1\" class=\"dataframe\">\n",
       "  <thead>\n",
       "    <tr style=\"text-align: right;\">\n",
       "      <th></th>\n",
       "      <th>0</th>\n",
       "      <th>1</th>\n",
       "      <th>2</th>\n",
       "      <th>3</th>\n",
       "    </tr>\n",
       "  </thead>\n",
       "  <tbody>\n",
       "    <tr>\n",
       "      <th>0</th>\n",
       "      <td>Model:</td>\n",
       "      <td>OLS</td>\n",
       "      <td>Adj. R-squared:</td>\n",
       "      <td>0.496</td>\n",
       "    </tr>\n",
       "    <tr>\n",
       "      <th>1</th>\n",
       "      <td>Dependent Variable:</td>\n",
       "      <td>RSV</td>\n",
       "      <td>AIC:</td>\n",
       "      <td>1477.9606</td>\n",
       "    </tr>\n",
       "    <tr>\n",
       "      <th>2</th>\n",
       "      <td>Date:</td>\n",
       "      <td>2025-10-24 18:19</td>\n",
       "      <td>BIC:</td>\n",
       "      <td>1488.3005</td>\n",
       "    </tr>\n",
       "    <tr>\n",
       "      <th>3</th>\n",
       "      <td>No. Observations:</td>\n",
       "      <td>98</td>\n",
       "      <td>Log-Likelihood:</td>\n",
       "      <td>-734.98</td>\n",
       "    </tr>\n",
       "    <tr>\n",
       "      <th>4</th>\n",
       "      <td>Df Model:</td>\n",
       "      <td>3</td>\n",
       "      <td>F-statistic:</td>\n",
       "      <td>29.67</td>\n",
       "    </tr>\n",
       "    <tr>\n",
       "      <th>5</th>\n",
       "      <td>Df Residuals:</td>\n",
       "      <td>94</td>\n",
       "      <td>Prob (F-statistic):</td>\n",
       "      <td>5.90e-16</td>\n",
       "    </tr>\n",
       "    <tr>\n",
       "      <th>6</th>\n",
       "      <td>R-squared:</td>\n",
       "      <td>0.511</td>\n",
       "      <td>Scale:</td>\n",
       "      <td>1.9946e+05</td>\n",
       "    </tr>\n",
       "  </tbody>\n",
       "</table>\n",
       "</div>"
      ],
      "text/plain": [
       "                     0                 1                    2           3\n",
       "0               Model:               OLS      Adj. R-squared:       0.496\n",
       "1  Dependent Variable:               RSV                 AIC:   1477.9606\n",
       "2                Date:  2025-10-24 18:19                 BIC:   1488.3005\n",
       "3    No. Observations:                98      Log-Likelihood:     -734.98\n",
       "4            Df Model:                 3         F-statistic:       29.67\n",
       "5        Df Residuals:                94  Prob (F-statistic):    5.90e-16\n",
       "6           R-squared:             0.511               Scale:  1.9946e+05"
      ]
     },
     "metadata": {},
     "output_type": "display_data"
    },
    {
     "data": {
      "text/html": [
       "<div>\n",
       "<style scoped>\n",
       "    .dataframe tbody tr th:only-of-type {\n",
       "        vertical-align: middle;\n",
       "    }\n",
       "\n",
       "    .dataframe tbody tr th {\n",
       "        vertical-align: top;\n",
       "    }\n",
       "\n",
       "    .dataframe thead th {\n",
       "        text-align: right;\n",
       "    }\n",
       "</style>\n",
       "<table border=\"1\" class=\"dataframe\">\n",
       "  <thead>\n",
       "    <tr style=\"text-align: right;\">\n",
       "      <th></th>\n",
       "      <th>index</th>\n",
       "      <th>Coef.</th>\n",
       "      <th>Std.Err.</th>\n",
       "      <th>P&gt;|z|</th>\n",
       "    </tr>\n",
       "  </thead>\n",
       "  <tbody>\n",
       "    <tr>\n",
       "      <th>0</th>\n",
       "      <td>const</td>\n",
       "      <td>262.383745</td>\n",
       "      <td>58.814709</td>\n",
       "      <td>0.000008</td>\n",
       "    </tr>\n",
       "    <tr>\n",
       "      <th>1</th>\n",
       "      <td>post_covid</td>\n",
       "      <td>262.383745</td>\n",
       "      <td>58.814709</td>\n",
       "      <td>0.000008</td>\n",
       "    </tr>\n",
       "    <tr>\n",
       "      <th>2</th>\n",
       "      <td>post_vacc</td>\n",
       "      <td>262.383745</td>\n",
       "      <td>58.814709</td>\n",
       "      <td>0.000008</td>\n",
       "    </tr>\n",
       "    <tr>\n",
       "      <th>3</th>\n",
       "      <td>cos52</td>\n",
       "      <td>606.337448</td>\n",
       "      <td>161.077420</td>\n",
       "      <td>0.000167</td>\n",
       "    </tr>\n",
       "    <tr>\n",
       "      <th>4</th>\n",
       "      <td>sin52</td>\n",
       "      <td>-193.358518</td>\n",
       "      <td>135.505913</td>\n",
       "      <td>0.153598</td>\n",
       "    </tr>\n",
       "    <tr>\n",
       "      <th>5</th>\n",
       "      <td>t_post_covid</td>\n",
       "      <td>0.485265</td>\n",
       "      <td>1.413398</td>\n",
       "      <td>0.731348</td>\n",
       "    </tr>\n",
       "    <tr>\n",
       "      <th>6</th>\n",
       "      <td>t_post_vacc</td>\n",
       "      <td>0.485265</td>\n",
       "      <td>1.413398</td>\n",
       "      <td>0.731348</td>\n",
       "    </tr>\n",
       "    <tr>\n",
       "      <th>7</th>\n",
       "      <td>t</td>\n",
       "      <td>0.485265</td>\n",
       "      <td>1.413398</td>\n",
       "      <td>0.731348</td>\n",
       "    </tr>\n",
       "  </tbody>\n",
       "</table>\n",
       "</div>"
      ],
      "text/plain": [
       "          index       Coef.    Std.Err.     P>|z|\n",
       "0         const  262.383745   58.814709  0.000008\n",
       "1    post_covid  262.383745   58.814709  0.000008\n",
       "2     post_vacc  262.383745   58.814709  0.000008\n",
       "3         cos52  606.337448  161.077420  0.000167\n",
       "4         sin52 -193.358518  135.505913  0.153598\n",
       "5  t_post_covid    0.485265    1.413398  0.731348\n",
       "6   t_post_vacc    0.485265    1.413398  0.731348\n",
       "7             t    0.485265    1.413398  0.731348"
      ]
     },
     "metadata": {},
     "output_type": "display_data"
    },
    {
     "data": {
      "application/vnd.plotly.v1+json": {
       "config": {
        "plotlyServerURL": "https://plot.ly"
       },
       "data": [
        {
         "line": {
          "color": "black",
          "width": 2
         },
         "mode": "lines",
         "name": "Observed RSV",
         "type": "scatter",
         "x": [
          "2021-01-25T00:00:00",
          "2021-02-01T00:00:00",
          "2021-02-08T00:00:00",
          "2021-02-15T00:00:00",
          "2021-02-22T00:00:00",
          "2021-03-01T00:00:00",
          "2021-03-08T00:00:00",
          "2021-03-15T00:00:00",
          "2021-03-22T00:00:00",
          "2021-03-29T00:00:00",
          "2021-04-05T00:00:00",
          "2021-04-12T00:00:00",
          "2021-04-19T00:00:00",
          "2021-04-26T00:00:00",
          "2021-05-03T00:00:00",
          "2021-05-10T00:00:00",
          "2021-05-17T00:00:00",
          "2021-05-24T00:00:00",
          "2021-05-31T00:00:00",
          "2021-06-07T00:00:00",
          "2021-06-14T00:00:00",
          "2021-06-21T00:00:00",
          "2021-06-28T00:00:00",
          "2021-07-05T00:00:00",
          "2021-07-12T00:00:00",
          "2021-07-19T00:00:00",
          "2021-07-26T00:00:00",
          "2021-08-02T00:00:00",
          "2021-08-09T00:00:00",
          "2021-08-16T00:00:00",
          "2021-08-23T00:00:00",
          "2021-08-30T00:00:00",
          "2021-09-06T00:00:00",
          "2021-09-13T00:00:00",
          "2021-09-20T00:00:00",
          "2021-09-27T00:00:00",
          "2021-10-04T00:00:00",
          "2021-10-11T00:00:00",
          "2021-10-18T00:00:00",
          "2021-10-25T00:00:00",
          "2021-11-01T00:00:00",
          "2021-11-08T00:00:00",
          "2021-11-15T00:00:00",
          "2021-11-22T00:00:00",
          "2021-11-29T00:00:00",
          "2021-12-06T00:00:00",
          "2021-12-13T00:00:00",
          "2021-12-20T00:00:00",
          "2021-12-27T00:00:00",
          "2022-01-03T00:00:00",
          "2022-01-10T00:00:00",
          "2022-01-17T00:00:00",
          "2022-01-24T00:00:00",
          "2022-01-31T00:00:00",
          "2022-02-07T00:00:00",
          "2022-02-14T00:00:00",
          "2022-02-21T00:00:00",
          "2022-02-28T00:00:00",
          "2022-03-07T00:00:00",
          "2022-03-14T00:00:00",
          "2022-03-21T00:00:00",
          "2022-03-28T00:00:00",
          "2022-04-04T00:00:00",
          "2022-04-11T00:00:00",
          "2022-04-18T00:00:00",
          "2022-04-25T00:00:00",
          "2022-05-02T00:00:00",
          "2022-05-09T00:00:00",
          "2022-05-16T00:00:00",
          "2022-05-23T00:00:00",
          "2022-05-30T00:00:00",
          "2022-06-06T00:00:00",
          "2022-06-13T00:00:00",
          "2022-06-20T00:00:00",
          "2022-06-27T00:00:00",
          "2022-07-04T00:00:00",
          "2022-07-11T00:00:00",
          "2022-07-18T00:00:00",
          "2022-07-25T00:00:00",
          "2022-08-01T00:00:00",
          "2022-08-08T00:00:00",
          "2022-08-15T00:00:00",
          "2022-08-22T00:00:00",
          "2022-08-29T00:00:00",
          "2022-09-05T00:00:00",
          "2022-09-12T00:00:00",
          "2022-09-19T00:00:00",
          "2022-09-26T00:00:00",
          "2022-10-03T00:00:00",
          "2022-10-10T00:00:00",
          "2022-10-17T00:00:00",
          "2022-10-24T00:00:00",
          "2022-10-31T00:00:00",
          "2022-11-07T00:00:00",
          "2022-11-14T00:00:00",
          "2022-11-21T00:00:00",
          "2022-11-28T00:00:00",
          "2022-12-05T00:00:00"
         ],
         "y": {
          "bdata": "UOIxC34/hkDSOR63INuHQNSOC5xuT4tAMURvbZi2jkB/4luzkH2QQMvZ+YYDRIxA3GPINebmjECzRpj9ZRaQQNoGSfp3jpJAnBVRE0VDk0Da+Ljb8t6RQN4E3zSdVJBAZO//ws4UhkC6Yuu+2Ix+QOGXPJblC3tAQz19BFY1gEBf4wLpFZmBQIb48sgYlYFApBf3F+hJgUDBjpzYlSOBQE8l4jHcfn9A5X3asEePgED+xLdmCbaCQGCg9wi9WoJAhtn0NZ0chEARsgMZj36CQLHqg5cGi39AQt68gh4MeEDM2Olqn1JyQJ230udahm5AQaPwsHs3a0B/pGf+MTBwQMyMyMEmbnFAG513jPALfUDR7YBG1OKAQAx4eFOicYZAgX0yznhTjECebX94Z0aRQBAKpYp1I5RAXXXTHJ/nlkAAT//++ZiYQCCOv/7dW5ZACbXwBtJbmEADuR9LMkWdQGL+ZVKOYp5AYs0Srkn+m0BPxMfMwkiaQH7lQXpShJZAcK4GzWsilEDnt/mQgTaNQOh5YJVlq4hAeS+tPE/7hUBfyV2dNtWCQJlIBgzceoJAA3sKiPLWgEAcqJ2rT4qAQGTnK1CE5HxAHYQMJgZJe0Dt2GN9nlB7QM7vh+FLoHxATLdXrFIYe0A+Jzk3aP56QMCMc+XNbHpA59lyTyNEekB/rPlUYoF5QC8NLuM3MndArHmnZbg+dUC4fvJeAuV3QKepCrKa3HZAQAJWeQhFdkC+MSUOoOp3QNXOctGnpXdAQVv3JMpmdEBaWOSVk3Z1QC6wpjaxFHdAapYV1NEedkDnfIh40cd0QDtYe6+MOHNA8ynXRuI0bUCg8Y6d4b5pQBIyb1lufmpACPRXAsjIZUCn9nUi+UBlQMKyZwlRR2lAnV1jPI8kcUB+0Kvo7L56QCjWZ9bzY4JAdUE7r5rih0BPlKVSaxyOQH7/5sURvJNAwFq1axItmUCzKEdcl3igQCXm/o+IXqJA2TgHdHt7oUD3eHzWeAakQAQPHUwMW6ZAsmg6O/WipUByagzfywyjQA==",
          "dtype": "f8"
         }
        },
        {
         "line": {
          "color": "royalblue",
          "dash": "dot"
         },
         "mode": "lines",
         "name": "Fitted ITS",
         "type": "scatter",
         "x": [
          "2021-01-25T00:00:00",
          "2021-02-01T00:00:00",
          "2021-02-08T00:00:00",
          "2021-02-15T00:00:00",
          "2021-02-22T00:00:00",
          "2021-03-01T00:00:00",
          "2021-03-08T00:00:00",
          "2021-03-15T00:00:00",
          "2021-03-22T00:00:00",
          "2021-03-29T00:00:00",
          "2021-04-05T00:00:00",
          "2021-04-12T00:00:00",
          "2021-04-19T00:00:00",
          "2021-04-26T00:00:00",
          "2021-05-03T00:00:00",
          "2021-05-10T00:00:00",
          "2021-05-17T00:00:00",
          "2021-05-24T00:00:00",
          "2021-05-31T00:00:00",
          "2021-06-07T00:00:00",
          "2021-06-14T00:00:00",
          "2021-06-21T00:00:00",
          "2021-06-28T00:00:00",
          "2021-07-05T00:00:00",
          "2021-07-12T00:00:00",
          "2021-07-19T00:00:00",
          "2021-07-26T00:00:00",
          "2021-08-02T00:00:00",
          "2021-08-09T00:00:00",
          "2021-08-16T00:00:00",
          "2021-08-23T00:00:00",
          "2021-08-30T00:00:00",
          "2021-09-06T00:00:00",
          "2021-09-13T00:00:00",
          "2021-09-20T00:00:00",
          "2021-09-27T00:00:00",
          "2021-10-04T00:00:00",
          "2021-10-11T00:00:00",
          "2021-10-18T00:00:00",
          "2021-10-25T00:00:00",
          "2021-11-01T00:00:00",
          "2021-11-08T00:00:00",
          "2021-11-15T00:00:00",
          "2021-11-22T00:00:00",
          "2021-11-29T00:00:00",
          "2021-12-06T00:00:00",
          "2021-12-13T00:00:00",
          "2021-12-20T00:00:00",
          "2021-12-27T00:00:00",
          "2022-01-03T00:00:00",
          "2022-01-10T00:00:00",
          "2022-01-17T00:00:00",
          "2022-01-24T00:00:00",
          "2022-01-31T00:00:00",
          "2022-02-07T00:00:00",
          "2022-02-14T00:00:00",
          "2022-02-21T00:00:00",
          "2022-02-28T00:00:00",
          "2022-03-07T00:00:00",
          "2022-03-14T00:00:00",
          "2022-03-21T00:00:00",
          "2022-03-28T00:00:00",
          "2022-04-04T00:00:00",
          "2022-04-11T00:00:00",
          "2022-04-18T00:00:00",
          "2022-04-25T00:00:00",
          "2022-05-02T00:00:00",
          "2022-05-09T00:00:00",
          "2022-05-16T00:00:00",
          "2022-05-23T00:00:00",
          "2022-05-30T00:00:00",
          "2022-06-06T00:00:00",
          "2022-06-13T00:00:00",
          "2022-06-20T00:00:00",
          "2022-06-27T00:00:00",
          "2022-07-04T00:00:00",
          "2022-07-11T00:00:00",
          "2022-07-18T00:00:00",
          "2022-07-25T00:00:00",
          "2022-08-01T00:00:00",
          "2022-08-08T00:00:00",
          "2022-08-15T00:00:00",
          "2022-08-22T00:00:00",
          "2022-08-29T00:00:00",
          "2022-09-05T00:00:00",
          "2022-09-12T00:00:00",
          "2022-09-19T00:00:00",
          "2022-09-26T00:00:00",
          "2022-10-03T00:00:00",
          "2022-10-10T00:00:00",
          "2022-10-17T00:00:00",
          "2022-10-24T00:00:00",
          "2022-10-31T00:00:00",
          "2022-11-07T00:00:00",
          "2022-11-14T00:00:00",
          "2022-11-21T00:00:00",
          "2022-11-28T00:00:00",
          "2022-12-05T00:00:00"
         ],
         "y": {
          "bdata": "JN3HebZIk0Bl2uBbF2eSQId+eiHFbpFA1LnUhnRjkEAmRmtfQpKOQFoZFJL9R4xAiK6tstLwiUAwnhL1qZWHQCFgznN6P4VAW95cuCj3gkDsebmIZcWAQEFVVewaZX1A+AvMTBONeUAgAyaXZBF2QDid1HJm/3JANFmX++VicEBy7Qdn84tsQATHwLS3YWlAQhLHbZdTZ0A4HAqJ7GlmQBAv1jnNqGZAoCVOrvwPaEBcmXby65pqQOAag/TKQG5AOpFvtVR6cUAyZZGQ01J0QFYf0nuZn3dAT2E81atUe0C3B6SgimR/QL+ohHYx4IFAvPGpFSMshED+OejTso2GQEvANaQo/IhAMOy3Upxui0C8RePEFtyNQH3xnbjZHZBAcDHjyGBCkUDSJp5KcleSQOgG9KoZWZNA3BbR0KpDlEAY/ljSzxOVQNTcm2iVxpVAMkMU83VZlkDAtdDhYsqWQBR6I2PMF5dAlaYuOKdAl0D4sYiacESXQOVAbSQwI5dAKsBbtHfdlkC6vY1MYXSWQIbKNfaK6ZVAROPgtxA/lUB9QoS1hHeUQMA/nZfllZNA4OM2XZOdkkAsH5HCQpKRQG0Icmvvd5BADOSMCZqljkA8eSYqb06MQN1oi2xG84lAzipH6xadh0ANqdUvxVSFQKJEMgACI4NAW3Wj7SkQgUBuob07TEh+QHWYF4adzHpAjjLGYZ+6d0CX7ojqHh51QBqMdaIyAXNA5PhRyRRscUCDHtWlBGVwQPRG7WZe4G9A6azci58PcEAuqBhGN8NwQA7iLOiuCHJAzyIzaZ7bc0CcJmGkjTV2QJT6gn8MDnlAwrTDatJafEBO+xZi8geAQIzOysfhD4JAeXP97c09hEBqvCKNv4mGQLYEYUtP64hA+oquG8VZi0DTtjDKOMyNQDYILp7ZHJBA2lZa9KdMkUDIlp8EL3GSQC+MWoZAhpNAO2yw5ueHlEA0fI0MeXKVQHBjFQ6eQpZAKUJYpGP1lkCKqNAuRIiXQBYbjR0x+ZdAbN/fnppGmEDuC+tzdW+YQA==",
          "dtype": "f8"
         }
        }
       ],
       "layout": {
        "annotations": [
         {
          "font": {
           "color": "red",
           "size": 11
          },
          "showarrow": false,
          "text": "COVID start",
          "x": "2020-03-01",
          "xref": "x",
          "y": 1.02,
          "yref": "paper"
         },
         {
          "font": {
           "color": "green",
           "size": 11
          },
          "showarrow": false,
          "text": "Vacc start",
          "x": "2021-01-01",
          "xref": "x",
          "y": 1.02,
          "yref": "paper"
         }
        ],
        "height": 500,
        "shapes": [
         {
          "line": {
           "color": "red",
           "dash": "dash",
           "width": 2
          },
          "type": "line",
          "x0": "2020-03-01",
          "x1": "2020-03-01",
          "xref": "x",
          "y0": 0,
          "y1": 1,
          "yref": "paper"
         },
         {
          "line": {
           "color": "green",
           "dash": "dash",
           "width": 2
          },
          "type": "line",
          "x0": "2021-01-01",
          "x1": "2021-01-01",
          "xref": "x",
          "y0": 0,
          "y1": 1,
          "yref": "paper"
         }
        ],
        "template": {
         "data": {
          "bar": [
           {
            "error_x": {
             "color": "#2a3f5f"
            },
            "error_y": {
             "color": "#2a3f5f"
            },
            "marker": {
             "line": {
              "color": "white",
              "width": 0.5
             },
             "pattern": {
              "fillmode": "overlay",
              "size": 10,
              "solidity": 0.2
             }
            },
            "type": "bar"
           }
          ],
          "barpolar": [
           {
            "marker": {
             "line": {
              "color": "white",
              "width": 0.5
             },
             "pattern": {
              "fillmode": "overlay",
              "size": 10,
              "solidity": 0.2
             }
            },
            "type": "barpolar"
           }
          ],
          "carpet": [
           {
            "aaxis": {
             "endlinecolor": "#2a3f5f",
             "gridcolor": "#C8D4E3",
             "linecolor": "#C8D4E3",
             "minorgridcolor": "#C8D4E3",
             "startlinecolor": "#2a3f5f"
            },
            "baxis": {
             "endlinecolor": "#2a3f5f",
             "gridcolor": "#C8D4E3",
             "linecolor": "#C8D4E3",
             "minorgridcolor": "#C8D4E3",
             "startlinecolor": "#2a3f5f"
            },
            "type": "carpet"
           }
          ],
          "choropleth": [
           {
            "colorbar": {
             "outlinewidth": 0,
             "ticks": ""
            },
            "type": "choropleth"
           }
          ],
          "contour": [
           {
            "colorbar": {
             "outlinewidth": 0,
             "ticks": ""
            },
            "colorscale": [
             [
              0,
              "#0d0887"
             ],
             [
              0.1111111111111111,
              "#46039f"
             ],
             [
              0.2222222222222222,
              "#7201a8"
             ],
             [
              0.3333333333333333,
              "#9c179e"
             ],
             [
              0.4444444444444444,
              "#bd3786"
             ],
             [
              0.5555555555555556,
              "#d8576b"
             ],
             [
              0.6666666666666666,
              "#ed7953"
             ],
             [
              0.7777777777777778,
              "#fb9f3a"
             ],
             [
              0.8888888888888888,
              "#fdca26"
             ],
             [
              1,
              "#f0f921"
             ]
            ],
            "type": "contour"
           }
          ],
          "contourcarpet": [
           {
            "colorbar": {
             "outlinewidth": 0,
             "ticks": ""
            },
            "type": "contourcarpet"
           }
          ],
          "heatmap": [
           {
            "colorbar": {
             "outlinewidth": 0,
             "ticks": ""
            },
            "colorscale": [
             [
              0,
              "#0d0887"
             ],
             [
              0.1111111111111111,
              "#46039f"
             ],
             [
              0.2222222222222222,
              "#7201a8"
             ],
             [
              0.3333333333333333,
              "#9c179e"
             ],
             [
              0.4444444444444444,
              "#bd3786"
             ],
             [
              0.5555555555555556,
              "#d8576b"
             ],
             [
              0.6666666666666666,
              "#ed7953"
             ],
             [
              0.7777777777777778,
              "#fb9f3a"
             ],
             [
              0.8888888888888888,
              "#fdca26"
             ],
             [
              1,
              "#f0f921"
             ]
            ],
            "type": "heatmap"
           }
          ],
          "histogram": [
           {
            "marker": {
             "pattern": {
              "fillmode": "overlay",
              "size": 10,
              "solidity": 0.2
             }
            },
            "type": "histogram"
           }
          ],
          "histogram2d": [
           {
            "colorbar": {
             "outlinewidth": 0,
             "ticks": ""
            },
            "colorscale": [
             [
              0,
              "#0d0887"
             ],
             [
              0.1111111111111111,
              "#46039f"
             ],
             [
              0.2222222222222222,
              "#7201a8"
             ],
             [
              0.3333333333333333,
              "#9c179e"
             ],
             [
              0.4444444444444444,
              "#bd3786"
             ],
             [
              0.5555555555555556,
              "#d8576b"
             ],
             [
              0.6666666666666666,
              "#ed7953"
             ],
             [
              0.7777777777777778,
              "#fb9f3a"
             ],
             [
              0.8888888888888888,
              "#fdca26"
             ],
             [
              1,
              "#f0f921"
             ]
            ],
            "type": "histogram2d"
           }
          ],
          "histogram2dcontour": [
           {
            "colorbar": {
             "outlinewidth": 0,
             "ticks": ""
            },
            "colorscale": [
             [
              0,
              "#0d0887"
             ],
             [
              0.1111111111111111,
              "#46039f"
             ],
             [
              0.2222222222222222,
              "#7201a8"
             ],
             [
              0.3333333333333333,
              "#9c179e"
             ],
             [
              0.4444444444444444,
              "#bd3786"
             ],
             [
              0.5555555555555556,
              "#d8576b"
             ],
             [
              0.6666666666666666,
              "#ed7953"
             ],
             [
              0.7777777777777778,
              "#fb9f3a"
             ],
             [
              0.8888888888888888,
              "#fdca26"
             ],
             [
              1,
              "#f0f921"
             ]
            ],
            "type": "histogram2dcontour"
           }
          ],
          "mesh3d": [
           {
            "colorbar": {
             "outlinewidth": 0,
             "ticks": ""
            },
            "type": "mesh3d"
           }
          ],
          "parcoords": [
           {
            "line": {
             "colorbar": {
              "outlinewidth": 0,
              "ticks": ""
             }
            },
            "type": "parcoords"
           }
          ],
          "pie": [
           {
            "automargin": true,
            "type": "pie"
           }
          ],
          "scatter": [
           {
            "fillpattern": {
             "fillmode": "overlay",
             "size": 10,
             "solidity": 0.2
            },
            "type": "scatter"
           }
          ],
          "scatter3d": [
           {
            "line": {
             "colorbar": {
              "outlinewidth": 0,
              "ticks": ""
             }
            },
            "marker": {
             "colorbar": {
              "outlinewidth": 0,
              "ticks": ""
             }
            },
            "type": "scatter3d"
           }
          ],
          "scattercarpet": [
           {
            "marker": {
             "colorbar": {
              "outlinewidth": 0,
              "ticks": ""
             }
            },
            "type": "scattercarpet"
           }
          ],
          "scattergeo": [
           {
            "marker": {
             "colorbar": {
              "outlinewidth": 0,
              "ticks": ""
             }
            },
            "type": "scattergeo"
           }
          ],
          "scattergl": [
           {
            "marker": {
             "colorbar": {
              "outlinewidth": 0,
              "ticks": ""
             }
            },
            "type": "scattergl"
           }
          ],
          "scattermap": [
           {
            "marker": {
             "colorbar": {
              "outlinewidth": 0,
              "ticks": ""
             }
            },
            "type": "scattermap"
           }
          ],
          "scattermapbox": [
           {
            "marker": {
             "colorbar": {
              "outlinewidth": 0,
              "ticks": ""
             }
            },
            "type": "scattermapbox"
           }
          ],
          "scatterpolar": [
           {
            "marker": {
             "colorbar": {
              "outlinewidth": 0,
              "ticks": ""
             }
            },
            "type": "scatterpolar"
           }
          ],
          "scatterpolargl": [
           {
            "marker": {
             "colorbar": {
              "outlinewidth": 0,
              "ticks": ""
             }
            },
            "type": "scatterpolargl"
           }
          ],
          "scatterternary": [
           {
            "marker": {
             "colorbar": {
              "outlinewidth": 0,
              "ticks": ""
             }
            },
            "type": "scatterternary"
           }
          ],
          "surface": [
           {
            "colorbar": {
             "outlinewidth": 0,
             "ticks": ""
            },
            "colorscale": [
             [
              0,
              "#0d0887"
             ],
             [
              0.1111111111111111,
              "#46039f"
             ],
             [
              0.2222222222222222,
              "#7201a8"
             ],
             [
              0.3333333333333333,
              "#9c179e"
             ],
             [
              0.4444444444444444,
              "#bd3786"
             ],
             [
              0.5555555555555556,
              "#d8576b"
             ],
             [
              0.6666666666666666,
              "#ed7953"
             ],
             [
              0.7777777777777778,
              "#fb9f3a"
             ],
             [
              0.8888888888888888,
              "#fdca26"
             ],
             [
              1,
              "#f0f921"
             ]
            ],
            "type": "surface"
           }
          ],
          "table": [
           {
            "cells": {
             "fill": {
              "color": "#EBF0F8"
             },
             "line": {
              "color": "white"
             }
            },
            "header": {
             "fill": {
              "color": "#C8D4E3"
             },
             "line": {
              "color": "white"
             }
            },
            "type": "table"
           }
          ]
         },
         "layout": {
          "annotationdefaults": {
           "arrowcolor": "#2a3f5f",
           "arrowhead": 0,
           "arrowwidth": 1
          },
          "autotypenumbers": "strict",
          "coloraxis": {
           "colorbar": {
            "outlinewidth": 0,
            "ticks": ""
           }
          },
          "colorscale": {
           "diverging": [
            [
             0,
             "#8e0152"
            ],
            [
             0.1,
             "#c51b7d"
            ],
            [
             0.2,
             "#de77ae"
            ],
            [
             0.3,
             "#f1b6da"
            ],
            [
             0.4,
             "#fde0ef"
            ],
            [
             0.5,
             "#f7f7f7"
            ],
            [
             0.6,
             "#e6f5d0"
            ],
            [
             0.7,
             "#b8e186"
            ],
            [
             0.8,
             "#7fbc41"
            ],
            [
             0.9,
             "#4d9221"
            ],
            [
             1,
             "#276419"
            ]
           ],
           "sequential": [
            [
             0,
             "#0d0887"
            ],
            [
             0.1111111111111111,
             "#46039f"
            ],
            [
             0.2222222222222222,
             "#7201a8"
            ],
            [
             0.3333333333333333,
             "#9c179e"
            ],
            [
             0.4444444444444444,
             "#bd3786"
            ],
            [
             0.5555555555555556,
             "#d8576b"
            ],
            [
             0.6666666666666666,
             "#ed7953"
            ],
            [
             0.7777777777777778,
             "#fb9f3a"
            ],
            [
             0.8888888888888888,
             "#fdca26"
            ],
            [
             1,
             "#f0f921"
            ]
           ],
           "sequentialminus": [
            [
             0,
             "#0d0887"
            ],
            [
             0.1111111111111111,
             "#46039f"
            ],
            [
             0.2222222222222222,
             "#7201a8"
            ],
            [
             0.3333333333333333,
             "#9c179e"
            ],
            [
             0.4444444444444444,
             "#bd3786"
            ],
            [
             0.5555555555555556,
             "#d8576b"
            ],
            [
             0.6666666666666666,
             "#ed7953"
            ],
            [
             0.7777777777777778,
             "#fb9f3a"
            ],
            [
             0.8888888888888888,
             "#fdca26"
            ],
            [
             1,
             "#f0f921"
            ]
           ]
          },
          "colorway": [
           "#636efa",
           "#EF553B",
           "#00cc96",
           "#ab63fa",
           "#FFA15A",
           "#19d3f3",
           "#FF6692",
           "#B6E880",
           "#FF97FF",
           "#FECB52"
          ],
          "font": {
           "color": "#2a3f5f"
          },
          "geo": {
           "bgcolor": "white",
           "lakecolor": "white",
           "landcolor": "white",
           "showlakes": true,
           "showland": true,
           "subunitcolor": "#C8D4E3"
          },
          "hoverlabel": {
           "align": "left"
          },
          "hovermode": "closest",
          "mapbox": {
           "style": "light"
          },
          "paper_bgcolor": "white",
          "plot_bgcolor": "white",
          "polar": {
           "angularaxis": {
            "gridcolor": "#EBF0F8",
            "linecolor": "#EBF0F8",
            "ticks": ""
           },
           "bgcolor": "white",
           "radialaxis": {
            "gridcolor": "#EBF0F8",
            "linecolor": "#EBF0F8",
            "ticks": ""
           }
          },
          "scene": {
           "xaxis": {
            "backgroundcolor": "white",
            "gridcolor": "#DFE8F3",
            "gridwidth": 2,
            "linecolor": "#EBF0F8",
            "showbackground": true,
            "ticks": "",
            "zerolinecolor": "#EBF0F8"
           },
           "yaxis": {
            "backgroundcolor": "white",
            "gridcolor": "#DFE8F3",
            "gridwidth": 2,
            "linecolor": "#EBF0F8",
            "showbackground": true,
            "ticks": "",
            "zerolinecolor": "#EBF0F8"
           },
           "zaxis": {
            "backgroundcolor": "white",
            "gridcolor": "#DFE8F3",
            "gridwidth": 2,
            "linecolor": "#EBF0F8",
            "showbackground": true,
            "ticks": "",
            "zerolinecolor": "#EBF0F8"
           }
          },
          "shapedefaults": {
           "line": {
            "color": "#2a3f5f"
           }
          },
          "ternary": {
           "aaxis": {
            "gridcolor": "#DFE8F3",
            "linecolor": "#A2B1C6",
            "ticks": ""
           },
           "baxis": {
            "gridcolor": "#DFE8F3",
            "linecolor": "#A2B1C6",
            "ticks": ""
           },
           "bgcolor": "white",
           "caxis": {
            "gridcolor": "#DFE8F3",
            "linecolor": "#A2B1C6",
            "ticks": ""
           }
          },
          "title": {
           "x": 0.05
          },
          "xaxis": {
           "automargin": true,
           "gridcolor": "#EBF0F8",
           "linecolor": "#EBF0F8",
           "ticks": "",
           "title": {
            "standoff": 15
           },
           "zerolinecolor": "#EBF0F8",
           "zerolinewidth": 2
          },
          "yaxis": {
           "automargin": true,
           "gridcolor": "#EBF0F8",
           "linecolor": "#EBF0F8",
           "ticks": "",
           "title": {
            "standoff": 15
           },
           "zerolinecolor": "#EBF0F8",
           "zerolinewidth": 2
          }
         }
        },
        "title": {
         "text": "ITS — RSV Observed vs Fitted (avec ruptures COVID & Vaccination)"
        },
        "width": 950,
        "xaxis": {
         "title": {
          "text": "Semaine"
         }
        },
        "yaxis": {
         "title": {
          "text": "RSV (taux hebdo)"
         }
        }
       }
      }
     },
     "metadata": {},
     "output_type": "display_data"
    },
    {
     "name": "stdout",
     "output_type": "stream",
     "text": [
      "Durbin–Watson: 0.092\n"
     ]
    }
   ],
   "source": [
    "# ==========================================\n",
    "# 📈 Modélisation ITS (Interrupted Time Series)\n",
    "# ==========================================\n",
    "\n",
    "# --- 1️⃣ Préparation de la base ITS ---\n",
    "df_its = df_base.copy().reset_index().sort_values(\"date_monday\")\n",
    "df_its[\"t\"] = np.arange(len(df_its))\n",
    "\n",
    "# Variables de rupture (dummy)\n",
    "df_its[\"post_covid\"] = (df_its[\"date_monday\"] >= COVID_START).astype(int)\n",
    "df_its[\"post_vacc\"] = (df_its[\"date_monday\"] >= VACC_START).astype(int)\n",
    "\n",
    "# Interaction temps × période (changement de pente)\n",
    "df_its[\"t_post_covid\"] = df_its[\"t\"] * df_its[\"post_covid\"]\n",
    "df_its[\"t_post_vacc\"] = df_its[\"t\"] * df_its[\"post_vacc\"]\n",
    "\n",
    "# --- 2️⃣ Définition Y/X ---\n",
    "Y = df_its[\"RSV\"].astype(float)\n",
    "X_cols = [\"t\", \"sin52\", \"cos52\", \"post_covid\", \"t_post_covid\", \"post_vacc\", \"t_post_vacc\"]\n",
    "X = df_its[X_cols].copy()\n",
    "\n",
    "# --- 3️⃣ Ajustement OLS robuste (HAC pour corrélation sérielle) ---\n",
    "its = sm.OLS(Y, sm.add_constant(X, has_constant=\"add\"), missing=\"drop\").fit(\n",
    "    cov_type=\"HAC\", cov_kwds={\"maxlags\": 12}\n",
    ")\n",
    "\n",
    "# --- 4️⃣ Résumé synthétique ---\n",
    "summary_main = its.summary2().tables[0]\n",
    "summary_keys = [k for k in summary_main.index if any(x in str(k) for x in [\"R\", \"AIC\", \"BIC\"])]\n",
    "print(\"=== ITS (OLS + HAC) — Résumé concis ===\")\n",
    "display(summary_main.loc[summary_keys] if summary_keys else summary_main)\n",
    "\n",
    "# --- Coefficients principaux triés par p-value ---\n",
    "coef_table = its.summary2().tables[1].copy()\n",
    "pval_col = [c for c in coef_table.columns if \"P>\" in c.upper()][0]\n",
    "coef_col = [c for c in coef_table.columns if \"COEF\" in c.upper()][0]\n",
    "stderr_col = [c for c in coef_table.columns if \"STD\" in c.upper()][0]\n",
    "coef_table = coef_table.sort_values(pval_col).reset_index()\n",
    "display(coef_table.head(10)[[\"index\", coef_col, stderr_col, pval_col]])\n",
    "\n",
    "# --- 5️⃣ Visualisation ITS ---\n",
    "fitted_its = its.fittedvalues.reindex(df_its.index)\n",
    "fig = go.Figure()\n",
    "fig.add_trace(go.Scatter(x=df_its[\"date_monday\"], y=Y, mode=\"lines\", name=\"Observed RSV\", line=dict(color=\"black\", width=2)))\n",
    "fig.add_trace(go.Scatter(x=df_its[\"date_monday\"], y=fitted_its, mode=\"lines\", name=\"Fitted ITS\", line=dict(color=\"royalblue\", dash=\"dot\")))\n",
    "\n",
    "# Lignes verticales de rupture\n",
    "for date_str, color, label in [\n",
    "    (str(COVID_START.date()), \"red\", \"COVID start\"),\n",
    "    (str(VACC_START.date()), \"green\", \"Vacc start\")\n",
    "]:\n",
    "    fig.add_shape(\n",
    "        type=\"line\", x0=date_str, x1=date_str, y0=0, y1=1,\n",
    "        xref=\"x\", yref=\"paper\", line=dict(color=color, dash=\"dash\", width=2)\n",
    "    )\n",
    "    fig.add_annotation(x=date_str, y=1.02, xref=\"x\", yref=\"paper\", showarrow=False,\n",
    "                       text=label, font=dict(color=color, size=11))\n",
    "\n",
    "fig.update_layout(\n",
    "    title=\"ITS — RSV Observed vs Fitted (avec ruptures COVID & Vaccination)\",\n",
    "    xaxis_title=\"Semaine\", yaxis_title=\"RSV (taux hebdo)\",\n",
    "    template=\"plotly_white\", width=950, height=500\n",
    ")\n",
    "fig.show()\n",
    "\n",
    "# --- 6️⃣ Tests complémentaires ---\n",
    "dw = sm.stats.stattools.durbin_watson(its.resid)\n",
    "print(f\"Durbin–Watson: {dw:.3f}\")"
   ]
  },
  {
   "cell_type": "code",
   "execution_count": 8,
   "id": "69d10ea4",
   "metadata": {},
   "outputs": [
    {
     "name": "stdout",
     "output_type": "stream",
     "text": [
      "🔎 Grid search terminé.\n",
      "🥇 Meilleur ITS: AIC=1267.9 | K=3 | COVID=2020-02-02 | VACC=2021-01-29 | HAC lags=9\n",
      "=== ITS optimisé (OLS+HAC) — Résumé concis ===\n"
     ]
    },
    {
     "data": {
      "text/html": [
       "<div>\n",
       "<style scoped>\n",
       "    .dataframe tbody tr th:only-of-type {\n",
       "        vertical-align: middle;\n",
       "    }\n",
       "\n",
       "    .dataframe tbody tr th {\n",
       "        vertical-align: top;\n",
       "    }\n",
       "\n",
       "    .dataframe thead th {\n",
       "        text-align: right;\n",
       "    }\n",
       "</style>\n",
       "<table border=\"1\" class=\"dataframe\">\n",
       "  <thead>\n",
       "    <tr style=\"text-align: right;\">\n",
       "      <th></th>\n",
       "      <th>0</th>\n",
       "      <th>1</th>\n",
       "      <th>2</th>\n",
       "      <th>3</th>\n",
       "    </tr>\n",
       "  </thead>\n",
       "  <tbody>\n",
       "    <tr>\n",
       "      <th>0</th>\n",
       "      <td>Model:</td>\n",
       "      <td>OLS</td>\n",
       "      <td>Adj. R-squared:</td>\n",
       "      <td>0.945</td>\n",
       "    </tr>\n",
       "    <tr>\n",
       "      <th>1</th>\n",
       "      <td>Dependent Variable:</td>\n",
       "      <td>RSV</td>\n",
       "      <td>AIC:</td>\n",
       "      <td>1267.9251</td>\n",
       "    </tr>\n",
       "    <tr>\n",
       "      <th>2</th>\n",
       "      <td>Date:</td>\n",
       "      <td>2025-10-24 18:19</td>\n",
       "      <td>BIC:</td>\n",
       "      <td>1298.9447</td>\n",
       "    </tr>\n",
       "    <tr>\n",
       "      <th>3</th>\n",
       "      <td>No. Observations:</td>\n",
       "      <td>98</td>\n",
       "      <td>Log-Likelihood:</td>\n",
       "      <td>-621.96</td>\n",
       "    </tr>\n",
       "    <tr>\n",
       "      <th>4</th>\n",
       "      <td>Df Model:</td>\n",
       "      <td>11</td>\n",
       "      <td>F-statistic:</td>\n",
       "      <td>160.4</td>\n",
       "    </tr>\n",
       "    <tr>\n",
       "      <th>5</th>\n",
       "      <td>Df Residuals:</td>\n",
       "      <td>86</td>\n",
       "      <td>Prob (F-statistic):</td>\n",
       "      <td>2.26e-52</td>\n",
       "    </tr>\n",
       "    <tr>\n",
       "      <th>6</th>\n",
       "      <td>R-squared:</td>\n",
       "      <td>0.951</td>\n",
       "      <td>Scale:</td>\n",
       "      <td>21717.</td>\n",
       "    </tr>\n",
       "  </tbody>\n",
       "</table>\n",
       "</div>"
      ],
      "text/plain": [
       "                     0                 1                    2          3\n",
       "0               Model:               OLS      Adj. R-squared:      0.945\n",
       "1  Dependent Variable:               RSV                 AIC:  1267.9251\n",
       "2                Date:  2025-10-24 18:19                 BIC:  1298.9447\n",
       "3    No. Observations:                98      Log-Likelihood:    -621.96\n",
       "4            Df Model:                11         F-statistic:      160.4\n",
       "5        Df Residuals:                86  Prob (F-statistic):   2.26e-52\n",
       "6           R-squared:             0.951               Scale:     21717."
      ]
     },
     "metadata": {},
     "output_type": "display_data"
    },
    {
     "data": {
      "text/html": [
       "<div>\n",
       "<style scoped>\n",
       "    .dataframe tbody tr th:only-of-type {\n",
       "        vertical-align: middle;\n",
       "    }\n",
       "\n",
       "    .dataframe tbody tr th {\n",
       "        vertical-align: top;\n",
       "    }\n",
       "\n",
       "    .dataframe thead th {\n",
       "        text-align: right;\n",
       "    }\n",
       "</style>\n",
       "<table border=\"1\" class=\"dataframe\">\n",
       "  <thead>\n",
       "    <tr style=\"text-align: right;\">\n",
       "      <th></th>\n",
       "      <th>Coef.</th>\n",
       "      <th>Std.Err.</th>\n",
       "      <th>P&gt;|z|</th>\n",
       "    </tr>\n",
       "  </thead>\n",
       "  <tbody>\n",
       "    <tr>\n",
       "      <th>sin1</th>\n",
       "      <td>-581.434203</td>\n",
       "      <td>37.180533</td>\n",
       "      <td>4.002775e-55</td>\n",
       "    </tr>\n",
       "    <tr>\n",
       "      <th>cos1</th>\n",
       "      <td>472.366397</td>\n",
       "      <td>37.813970</td>\n",
       "      <td>8.270915e-36</td>\n",
       "    </tr>\n",
       "    <tr>\n",
       "      <th>post_covid</th>\n",
       "      <td>401.264447</td>\n",
       "      <td>33.598656</td>\n",
       "      <td>7.073774e-33</td>\n",
       "    </tr>\n",
       "    <tr>\n",
       "      <th>const</th>\n",
       "      <td>401.264447</td>\n",
       "      <td>33.598656</td>\n",
       "      <td>7.073774e-33</td>\n",
       "    </tr>\n",
       "    <tr>\n",
       "      <th>cos2</th>\n",
       "      <td>-276.636877</td>\n",
       "      <td>29.924643</td>\n",
       "      <td>2.364525e-20</td>\n",
       "    </tr>\n",
       "    <tr>\n",
       "      <th>sin2</th>\n",
       "      <td>-307.917735</td>\n",
       "      <td>35.721648</td>\n",
       "      <td>6.700115e-18</td>\n",
       "    </tr>\n",
       "    <tr>\n",
       "      <th>cov12_lag</th>\n",
       "      <td>-62.125394</td>\n",
       "      <td>8.862934</td>\n",
       "      <td>2.390450e-12</td>\n",
       "    </tr>\n",
       "    <tr>\n",
       "      <th>post_vacc</th>\n",
       "      <td>375.910308</td>\n",
       "      <td>60.002676</td>\n",
       "      <td>3.730830e-10</td>\n",
       "    </tr>\n",
       "    <tr>\n",
       "      <th>cos3</th>\n",
       "      <td>-231.924083</td>\n",
       "      <td>38.350298</td>\n",
       "      <td>1.470951e-09</td>\n",
       "    </tr>\n",
       "    <tr>\n",
       "      <th>t_post_covid</th>\n",
       "      <td>3.404490</td>\n",
       "      <td>0.831817</td>\n",
       "      <td>4.261318e-05</td>\n",
       "    </tr>\n",
       "    <tr>\n",
       "      <th>t_post_vacc</th>\n",
       "      <td>3.404490</td>\n",
       "      <td>0.831817</td>\n",
       "      <td>4.261318e-05</td>\n",
       "    </tr>\n",
       "    <tr>\n",
       "      <th>t</th>\n",
       "      <td>3.404490</td>\n",
       "      <td>0.831817</td>\n",
       "      <td>4.261318e-05</td>\n",
       "    </tr>\n",
       "  </tbody>\n",
       "</table>\n",
       "</div>"
      ],
      "text/plain": [
       "                   Coef.   Std.Err.         P>|z|\n",
       "sin1         -581.434203  37.180533  4.002775e-55\n",
       "cos1          472.366397  37.813970  8.270915e-36\n",
       "post_covid    401.264447  33.598656  7.073774e-33\n",
       "const         401.264447  33.598656  7.073774e-33\n",
       "cos2         -276.636877  29.924643  2.364525e-20\n",
       "sin2         -307.917735  35.721648  6.700115e-18\n",
       "cov12_lag     -62.125394   8.862934  2.390450e-12\n",
       "post_vacc     375.910308  60.002676  3.730830e-10\n",
       "cos3         -231.924083  38.350298  1.470951e-09\n",
       "t_post_covid    3.404490   0.831817  4.261318e-05\n",
       "t_post_vacc     3.404490   0.831817  4.261318e-05\n",
       "t               3.404490   0.831817  4.261318e-05"
      ]
     },
     "metadata": {},
     "output_type": "display_data"
    },
    {
     "name": "stdout",
     "output_type": "stream",
     "text": [
      "\n",
      "Durbin–Watson: 0.532\n",
      "Ljung–Box p-values:\n"
     ]
    },
    {
     "data": {
      "text/html": [
       "<div>\n",
       "<style scoped>\n",
       "    .dataframe tbody tr th:only-of-type {\n",
       "        vertical-align: middle;\n",
       "    }\n",
       "\n",
       "    .dataframe tbody tr th {\n",
       "        vertical-align: top;\n",
       "    }\n",
       "\n",
       "    .dataframe thead th {\n",
       "        text-align: right;\n",
       "    }\n",
       "</style>\n",
       "<table border=\"1\" class=\"dataframe\">\n",
       "  <thead>\n",
       "    <tr style=\"text-align: right;\">\n",
       "      <th></th>\n",
       "      <th>stat</th>\n",
       "      <th>p</th>\n",
       "    </tr>\n",
       "  </thead>\n",
       "  <tbody>\n",
       "    <tr>\n",
       "      <th>8</th>\n",
       "      <td>78.362749</td>\n",
       "      <td>1.043489e-13</td>\n",
       "    </tr>\n",
       "    <tr>\n",
       "      <th>12</th>\n",
       "      <td>95.779436</td>\n",
       "      <td>3.720118e-15</td>\n",
       "    </tr>\n",
       "    <tr>\n",
       "      <th>24</th>\n",
       "      <td>118.766089</td>\n",
       "      <td>1.608537e-14</td>\n",
       "    </tr>\n",
       "  </tbody>\n",
       "</table>\n",
       "</div>"
      ],
      "text/plain": [
       "          stat             p\n",
       "8    78.362749  1.043489e-13\n",
       "12   95.779436  3.720118e-15\n",
       "24  118.766089  1.608537e-14"
      ]
     },
     "metadata": {},
     "output_type": "display_data"
    },
    {
     "data": {
      "application/vnd.plotly.v1+json": {
       "config": {
        "plotlyServerURL": "https://plot.ly"
       },
       "data": [
        {
         "line": {
          "color": "black",
          "width": 2
         },
         "mode": "lines",
         "name": "Observed RSV",
         "type": "scatter",
         "x": [
          "2021-01-25T00:00:00",
          "2021-02-01T00:00:00",
          "2021-02-08T00:00:00",
          "2021-02-15T00:00:00",
          "2021-02-22T00:00:00",
          "2021-03-01T00:00:00",
          "2021-03-08T00:00:00",
          "2021-03-15T00:00:00",
          "2021-03-22T00:00:00",
          "2021-03-29T00:00:00",
          "2021-04-05T00:00:00",
          "2021-04-12T00:00:00",
          "2021-04-19T00:00:00",
          "2021-04-26T00:00:00",
          "2021-05-03T00:00:00",
          "2021-05-10T00:00:00",
          "2021-05-17T00:00:00",
          "2021-05-24T00:00:00",
          "2021-05-31T00:00:00",
          "2021-06-07T00:00:00",
          "2021-06-14T00:00:00",
          "2021-06-21T00:00:00",
          "2021-06-28T00:00:00",
          "2021-07-05T00:00:00",
          "2021-07-12T00:00:00",
          "2021-07-19T00:00:00",
          "2021-07-26T00:00:00",
          "2021-08-02T00:00:00",
          "2021-08-09T00:00:00",
          "2021-08-16T00:00:00",
          "2021-08-23T00:00:00",
          "2021-08-30T00:00:00",
          "2021-09-06T00:00:00",
          "2021-09-13T00:00:00",
          "2021-09-20T00:00:00",
          "2021-09-27T00:00:00",
          "2021-10-04T00:00:00",
          "2021-10-11T00:00:00",
          "2021-10-18T00:00:00",
          "2021-10-25T00:00:00",
          "2021-11-01T00:00:00",
          "2021-11-08T00:00:00",
          "2021-11-15T00:00:00",
          "2021-11-22T00:00:00",
          "2021-11-29T00:00:00",
          "2021-12-06T00:00:00",
          "2021-12-13T00:00:00",
          "2021-12-20T00:00:00",
          "2021-12-27T00:00:00",
          "2022-01-03T00:00:00",
          "2022-01-10T00:00:00",
          "2022-01-17T00:00:00",
          "2022-01-24T00:00:00",
          "2022-01-31T00:00:00",
          "2022-02-07T00:00:00",
          "2022-02-14T00:00:00",
          "2022-02-21T00:00:00",
          "2022-02-28T00:00:00",
          "2022-03-07T00:00:00",
          "2022-03-14T00:00:00",
          "2022-03-21T00:00:00",
          "2022-03-28T00:00:00",
          "2022-04-04T00:00:00",
          "2022-04-11T00:00:00",
          "2022-04-18T00:00:00",
          "2022-04-25T00:00:00",
          "2022-05-02T00:00:00",
          "2022-05-09T00:00:00",
          "2022-05-16T00:00:00",
          "2022-05-23T00:00:00",
          "2022-05-30T00:00:00",
          "2022-06-06T00:00:00",
          "2022-06-13T00:00:00",
          "2022-06-20T00:00:00",
          "2022-06-27T00:00:00",
          "2022-07-04T00:00:00",
          "2022-07-11T00:00:00",
          "2022-07-18T00:00:00",
          "2022-07-25T00:00:00",
          "2022-08-01T00:00:00",
          "2022-08-08T00:00:00",
          "2022-08-15T00:00:00",
          "2022-08-22T00:00:00",
          "2022-08-29T00:00:00",
          "2022-09-05T00:00:00",
          "2022-09-12T00:00:00",
          "2022-09-19T00:00:00",
          "2022-09-26T00:00:00",
          "2022-10-03T00:00:00",
          "2022-10-10T00:00:00",
          "2022-10-17T00:00:00",
          "2022-10-24T00:00:00",
          "2022-10-31T00:00:00",
          "2022-11-07T00:00:00",
          "2022-11-14T00:00:00",
          "2022-11-21T00:00:00",
          "2022-11-28T00:00:00",
          "2022-12-05T00:00:00"
         ],
         "y": {
          "bdata": "UOIxC34/hkDSOR63INuHQNSOC5xuT4tAMURvbZi2jkB/4luzkH2QQMvZ+YYDRIxA3GPINebmjECzRpj9ZRaQQNoGSfp3jpJAnBVRE0VDk0Da+Ljb8t6RQN4E3zSdVJBAZO//ws4UhkC6Yuu+2Ix+QOGXPJblC3tAQz19BFY1gEBf4wLpFZmBQIb48sgYlYFApBf3F+hJgUDBjpzYlSOBQE8l4jHcfn9A5X3asEePgED+xLdmCbaCQGCg9wi9WoJAhtn0NZ0chEARsgMZj36CQLHqg5cGi39AQt68gh4MeEDM2Olqn1JyQJ230udahm5AQaPwsHs3a0B/pGf+MTBwQMyMyMEmbnFAG513jPALfUDR7YBG1OKAQAx4eFOicYZAgX0yznhTjECebX94Z0aRQBAKpYp1I5RAXXXTHJ/nlkAAT//++ZiYQCCOv/7dW5ZACbXwBtJbmEADuR9LMkWdQGL+ZVKOYp5AYs0Srkn+m0BPxMfMwkiaQH7lQXpShJZAcK4GzWsilEDnt/mQgTaNQOh5YJVlq4hAeS+tPE/7hUBfyV2dNtWCQJlIBgzceoJAA3sKiPLWgEAcqJ2rT4qAQGTnK1CE5HxAHYQMJgZJe0Dt2GN9nlB7QM7vh+FLoHxATLdXrFIYe0A+Jzk3aP56QMCMc+XNbHpA59lyTyNEekB/rPlUYoF5QC8NLuM3MndArHmnZbg+dUC4fvJeAuV3QKepCrKa3HZAQAJWeQhFdkC+MSUOoOp3QNXOctGnpXdAQVv3JMpmdEBaWOSVk3Z1QC6wpjaxFHdAapYV1NEedkDnfIh40cd0QDtYe6+MOHNA8ynXRuI0bUCg8Y6d4b5pQBIyb1lufmpACPRXAsjIZUCn9nUi+UBlQMKyZwlRR2lAnV1jPI8kcUB+0Kvo7L56QCjWZ9bzY4JAdUE7r5rih0BPlKVSaxyOQH7/5sURvJNAwFq1axItmUCzKEdcl3igQCXm/o+IXqJA2TgHdHt7oUD3eHzWeAakQAQPHUwMW6ZAsmg6O/WipUByagzfywyjQA==",
          "dtype": "f8"
         }
        },
        {
         "line": {
          "color": "royalblue",
          "dash": "dot",
          "width": 3
         },
         "mode": "lines",
         "name": "Fitted ITS (best)",
         "type": "scatter",
         "x": [
          "2021-01-25T00:00:00",
          "2021-02-01T00:00:00",
          "2021-02-08T00:00:00",
          "2021-02-15T00:00:00",
          "2021-02-22T00:00:00",
          "2021-03-01T00:00:00",
          "2021-03-08T00:00:00",
          "2021-03-15T00:00:00",
          "2021-03-22T00:00:00",
          "2021-03-29T00:00:00",
          "2021-04-05T00:00:00",
          "2021-04-12T00:00:00",
          "2021-04-19T00:00:00",
          "2021-04-26T00:00:00",
          "2021-05-03T00:00:00",
          "2021-05-10T00:00:00",
          "2021-05-17T00:00:00",
          "2021-05-24T00:00:00",
          "2021-05-31T00:00:00",
          "2021-06-07T00:00:00",
          "2021-06-14T00:00:00",
          "2021-06-21T00:00:00",
          "2021-06-28T00:00:00",
          "2021-07-05T00:00:00",
          "2021-07-12T00:00:00",
          "2021-07-19T00:00:00",
          "2021-07-26T00:00:00",
          "2021-08-02T00:00:00",
          "2021-08-09T00:00:00",
          "2021-08-16T00:00:00",
          "2021-08-23T00:00:00",
          "2021-08-30T00:00:00",
          "2021-09-06T00:00:00",
          "2021-09-13T00:00:00",
          "2021-09-20T00:00:00",
          "2021-09-27T00:00:00",
          "2021-10-04T00:00:00",
          "2021-10-11T00:00:00",
          "2021-10-18T00:00:00",
          "2021-10-25T00:00:00",
          "2021-11-01T00:00:00",
          "2021-11-08T00:00:00",
          "2021-11-15T00:00:00",
          "2021-11-22T00:00:00",
          "2021-11-29T00:00:00",
          "2021-12-06T00:00:00",
          "2021-12-13T00:00:00",
          "2021-12-20T00:00:00",
          "2021-12-27T00:00:00",
          "2022-01-03T00:00:00",
          "2022-01-10T00:00:00",
          "2022-01-17T00:00:00",
          "2022-01-24T00:00:00",
          "2022-01-31T00:00:00",
          "2022-02-07T00:00:00",
          "2022-02-14T00:00:00",
          "2022-02-21T00:00:00",
          "2022-02-28T00:00:00",
          "2022-03-07T00:00:00",
          "2022-03-14T00:00:00",
          "2022-03-21T00:00:00",
          "2022-03-28T00:00:00",
          "2022-04-04T00:00:00",
          "2022-04-11T00:00:00",
          "2022-04-18T00:00:00",
          "2022-04-25T00:00:00",
          "2022-05-02T00:00:00",
          "2022-05-09T00:00:00",
          "2022-05-16T00:00:00",
          "2022-05-23T00:00:00",
          "2022-05-30T00:00:00",
          "2022-06-06T00:00:00",
          "2022-06-13T00:00:00",
          "2022-06-20T00:00:00",
          "2022-06-27T00:00:00",
          "2022-07-04T00:00:00",
          "2022-07-11T00:00:00",
          "2022-07-18T00:00:00",
          "2022-07-25T00:00:00",
          "2022-08-01T00:00:00",
          "2022-08-08T00:00:00",
          "2022-08-15T00:00:00",
          "2022-08-22T00:00:00",
          "2022-08-29T00:00:00",
          "2022-09-05T00:00:00",
          "2022-09-12T00:00:00",
          "2022-09-19T00:00:00",
          "2022-09-26T00:00:00",
          "2022-10-03T00:00:00",
          "2022-10-10T00:00:00",
          "2022-10-17T00:00:00",
          "2022-10-24T00:00:00",
          "2022-10-31T00:00:00",
          "2022-11-07T00:00:00",
          "2022-11-14T00:00:00",
          "2022-11-21T00:00:00",
          "2022-11-28T00:00:00",
          "2022-12-05T00:00:00"
         ],
         "y": {
          "bdata": "auIxC34/hkAKNABLsXKPQFl4jNzgr45A4UPf16ZQjUAPuvcMcXuLQFXDLSthHY1A2/Xd/Rmrj0Dd56PtIAuQQOCR3PjM9Y9AIru+tYFSj0DLajLuDxaOQL1CPlIVD4xABgEqMFDwiUBuqQZVb62HQDraH8hsDYZA3zaXF4zThEAU7bCb6IaDQO3xXWi7uIJAa++Ol16DgUAZQi3MWZyAQK4FvILWyoFACj1Erg8FgkCd0DoRyWOCQBOLRgeKUIJApB1aappSgEAvNRylnmt+QO/ENlhH/3hAXyf0Co59dEALpnSpBL5tQFMzWVPkcmNALFcer/aJXECfnEXCV9JcQECpIeXmdGRApPdJ016VakAypxm+MJ92QFhQWgVrmIBAFOKrr0T8hkDonz2Td56OQHVZEPXVqpNAncesokSXl0CW3Zp3e/OaQDHtdoCQQp1AX20lZDmZnkCO12gALwOfQCbMQXu9NJ5A/agniXCCnEBZjORJVBaaQNBG5nUk6ZZAVTsXVNkvk0DJOgrg8a2PQCtlCqLiz4pAKVAI2Kz5hkCZmaAwgkuDQLTjiTba5oBA1Pa/rH2Cf0Aua7Jw9EV8QMYAb5ocYHdAtfRpIl7eeUArAVyoOSSAQNmh0HNxxIBAZbGUoO/cgECGKSRZ6XuAQCqIRaJk0H5A1TxBIbAIe0CO+xPTZpN3QBjjTKtWF3VAhGB8tVV7ckBL9mkcBUBwQK5/kPb+2m1A+FEQxHuJbUApZeH1QqJvQPKV3ZKAKHFAbniimYF1cUAGknYsObNzQM5tvZB9I3hAeqO1OZE0ekDKzQieC8Z6QChia50jaXhARDdVHaekdUBCj4nDenN1QEFDKV3BFnNA8EayzbbnckDU0OHkdxdzQGVL4pJ0VHVA0CGzJzrEeEDGcLRWjZZ/QEZJcfbnHoZAfhcYekCgjEDKEukSpdmRQMEQJmV/yJVA3qVI7KsbmkAmAB7Zu46eQHh6+mPTC6FAWf/J3aJLokAurlH9WgKjQLW6GubpM6NA3+yEl17kokBJKpRv5hOiQA==",
          "dtype": "f8"
         }
        }
       ],
       "layout": {
        "annotations": [
         {
          "font": {
           "color": "red",
           "size": 11
          },
          "showarrow": false,
          "text": "COVID (opt.)",
          "x": "2020-02-02",
          "xref": "x",
          "y": 1.02,
          "yref": "paper"
         },
         {
          "font": {
           "color": "green",
           "size": 11
          },
          "showarrow": false,
          "text": "Vacc (opt.)",
          "x": "2021-01-29",
          "xref": "x",
          "y": 1.02,
          "yref": "paper"
         }
        ],
        "height": 500,
        "shapes": [
         {
          "line": {
           "color": "red",
           "dash": "dash",
           "width": 2
          },
          "type": "line",
          "x0": "2020-02-02",
          "x1": "2020-02-02",
          "xref": "x",
          "y0": 0,
          "y1": 1,
          "yref": "paper"
         },
         {
          "line": {
           "color": "green",
           "dash": "dash",
           "width": 2
          },
          "type": "line",
          "x0": "2021-01-29",
          "x1": "2021-01-29",
          "xref": "x",
          "y0": 0,
          "y1": 1,
          "yref": "paper"
         }
        ],
        "template": {
         "data": {
          "bar": [
           {
            "error_x": {
             "color": "#2a3f5f"
            },
            "error_y": {
             "color": "#2a3f5f"
            },
            "marker": {
             "line": {
              "color": "white",
              "width": 0.5
             },
             "pattern": {
              "fillmode": "overlay",
              "size": 10,
              "solidity": 0.2
             }
            },
            "type": "bar"
           }
          ],
          "barpolar": [
           {
            "marker": {
             "line": {
              "color": "white",
              "width": 0.5
             },
             "pattern": {
              "fillmode": "overlay",
              "size": 10,
              "solidity": 0.2
             }
            },
            "type": "barpolar"
           }
          ],
          "carpet": [
           {
            "aaxis": {
             "endlinecolor": "#2a3f5f",
             "gridcolor": "#C8D4E3",
             "linecolor": "#C8D4E3",
             "minorgridcolor": "#C8D4E3",
             "startlinecolor": "#2a3f5f"
            },
            "baxis": {
             "endlinecolor": "#2a3f5f",
             "gridcolor": "#C8D4E3",
             "linecolor": "#C8D4E3",
             "minorgridcolor": "#C8D4E3",
             "startlinecolor": "#2a3f5f"
            },
            "type": "carpet"
           }
          ],
          "choropleth": [
           {
            "colorbar": {
             "outlinewidth": 0,
             "ticks": ""
            },
            "type": "choropleth"
           }
          ],
          "contour": [
           {
            "colorbar": {
             "outlinewidth": 0,
             "ticks": ""
            },
            "colorscale": [
             [
              0,
              "#0d0887"
             ],
             [
              0.1111111111111111,
              "#46039f"
             ],
             [
              0.2222222222222222,
              "#7201a8"
             ],
             [
              0.3333333333333333,
              "#9c179e"
             ],
             [
              0.4444444444444444,
              "#bd3786"
             ],
             [
              0.5555555555555556,
              "#d8576b"
             ],
             [
              0.6666666666666666,
              "#ed7953"
             ],
             [
              0.7777777777777778,
              "#fb9f3a"
             ],
             [
              0.8888888888888888,
              "#fdca26"
             ],
             [
              1,
              "#f0f921"
             ]
            ],
            "type": "contour"
           }
          ],
          "contourcarpet": [
           {
            "colorbar": {
             "outlinewidth": 0,
             "ticks": ""
            },
            "type": "contourcarpet"
           }
          ],
          "heatmap": [
           {
            "colorbar": {
             "outlinewidth": 0,
             "ticks": ""
            },
            "colorscale": [
             [
              0,
              "#0d0887"
             ],
             [
              0.1111111111111111,
              "#46039f"
             ],
             [
              0.2222222222222222,
              "#7201a8"
             ],
             [
              0.3333333333333333,
              "#9c179e"
             ],
             [
              0.4444444444444444,
              "#bd3786"
             ],
             [
              0.5555555555555556,
              "#d8576b"
             ],
             [
              0.6666666666666666,
              "#ed7953"
             ],
             [
              0.7777777777777778,
              "#fb9f3a"
             ],
             [
              0.8888888888888888,
              "#fdca26"
             ],
             [
              1,
              "#f0f921"
             ]
            ],
            "type": "heatmap"
           }
          ],
          "histogram": [
           {
            "marker": {
             "pattern": {
              "fillmode": "overlay",
              "size": 10,
              "solidity": 0.2
             }
            },
            "type": "histogram"
           }
          ],
          "histogram2d": [
           {
            "colorbar": {
             "outlinewidth": 0,
             "ticks": ""
            },
            "colorscale": [
             [
              0,
              "#0d0887"
             ],
             [
              0.1111111111111111,
              "#46039f"
             ],
             [
              0.2222222222222222,
              "#7201a8"
             ],
             [
              0.3333333333333333,
              "#9c179e"
             ],
             [
              0.4444444444444444,
              "#bd3786"
             ],
             [
              0.5555555555555556,
              "#d8576b"
             ],
             [
              0.6666666666666666,
              "#ed7953"
             ],
             [
              0.7777777777777778,
              "#fb9f3a"
             ],
             [
              0.8888888888888888,
              "#fdca26"
             ],
             [
              1,
              "#f0f921"
             ]
            ],
            "type": "histogram2d"
           }
          ],
          "histogram2dcontour": [
           {
            "colorbar": {
             "outlinewidth": 0,
             "ticks": ""
            },
            "colorscale": [
             [
              0,
              "#0d0887"
             ],
             [
              0.1111111111111111,
              "#46039f"
             ],
             [
              0.2222222222222222,
              "#7201a8"
             ],
             [
              0.3333333333333333,
              "#9c179e"
             ],
             [
              0.4444444444444444,
              "#bd3786"
             ],
             [
              0.5555555555555556,
              "#d8576b"
             ],
             [
              0.6666666666666666,
              "#ed7953"
             ],
             [
              0.7777777777777778,
              "#fb9f3a"
             ],
             [
              0.8888888888888888,
              "#fdca26"
             ],
             [
              1,
              "#f0f921"
             ]
            ],
            "type": "histogram2dcontour"
           }
          ],
          "mesh3d": [
           {
            "colorbar": {
             "outlinewidth": 0,
             "ticks": ""
            },
            "type": "mesh3d"
           }
          ],
          "parcoords": [
           {
            "line": {
             "colorbar": {
              "outlinewidth": 0,
              "ticks": ""
             }
            },
            "type": "parcoords"
           }
          ],
          "pie": [
           {
            "automargin": true,
            "type": "pie"
           }
          ],
          "scatter": [
           {
            "fillpattern": {
             "fillmode": "overlay",
             "size": 10,
             "solidity": 0.2
            },
            "type": "scatter"
           }
          ],
          "scatter3d": [
           {
            "line": {
             "colorbar": {
              "outlinewidth": 0,
              "ticks": ""
             }
            },
            "marker": {
             "colorbar": {
              "outlinewidth": 0,
              "ticks": ""
             }
            },
            "type": "scatter3d"
           }
          ],
          "scattercarpet": [
           {
            "marker": {
             "colorbar": {
              "outlinewidth": 0,
              "ticks": ""
             }
            },
            "type": "scattercarpet"
           }
          ],
          "scattergeo": [
           {
            "marker": {
             "colorbar": {
              "outlinewidth": 0,
              "ticks": ""
             }
            },
            "type": "scattergeo"
           }
          ],
          "scattergl": [
           {
            "marker": {
             "colorbar": {
              "outlinewidth": 0,
              "ticks": ""
             }
            },
            "type": "scattergl"
           }
          ],
          "scattermap": [
           {
            "marker": {
             "colorbar": {
              "outlinewidth": 0,
              "ticks": ""
             }
            },
            "type": "scattermap"
           }
          ],
          "scattermapbox": [
           {
            "marker": {
             "colorbar": {
              "outlinewidth": 0,
              "ticks": ""
             }
            },
            "type": "scattermapbox"
           }
          ],
          "scatterpolar": [
           {
            "marker": {
             "colorbar": {
              "outlinewidth": 0,
              "ticks": ""
             }
            },
            "type": "scatterpolar"
           }
          ],
          "scatterpolargl": [
           {
            "marker": {
             "colorbar": {
              "outlinewidth": 0,
              "ticks": ""
             }
            },
            "type": "scatterpolargl"
           }
          ],
          "scatterternary": [
           {
            "marker": {
             "colorbar": {
              "outlinewidth": 0,
              "ticks": ""
             }
            },
            "type": "scatterternary"
           }
          ],
          "surface": [
           {
            "colorbar": {
             "outlinewidth": 0,
             "ticks": ""
            },
            "colorscale": [
             [
              0,
              "#0d0887"
             ],
             [
              0.1111111111111111,
              "#46039f"
             ],
             [
              0.2222222222222222,
              "#7201a8"
             ],
             [
              0.3333333333333333,
              "#9c179e"
             ],
             [
              0.4444444444444444,
              "#bd3786"
             ],
             [
              0.5555555555555556,
              "#d8576b"
             ],
             [
              0.6666666666666666,
              "#ed7953"
             ],
             [
              0.7777777777777778,
              "#fb9f3a"
             ],
             [
              0.8888888888888888,
              "#fdca26"
             ],
             [
              1,
              "#f0f921"
             ]
            ],
            "type": "surface"
           }
          ],
          "table": [
           {
            "cells": {
             "fill": {
              "color": "#EBF0F8"
             },
             "line": {
              "color": "white"
             }
            },
            "header": {
             "fill": {
              "color": "#C8D4E3"
             },
             "line": {
              "color": "white"
             }
            },
            "type": "table"
           }
          ]
         },
         "layout": {
          "annotationdefaults": {
           "arrowcolor": "#2a3f5f",
           "arrowhead": 0,
           "arrowwidth": 1
          },
          "autotypenumbers": "strict",
          "coloraxis": {
           "colorbar": {
            "outlinewidth": 0,
            "ticks": ""
           }
          },
          "colorscale": {
           "diverging": [
            [
             0,
             "#8e0152"
            ],
            [
             0.1,
             "#c51b7d"
            ],
            [
             0.2,
             "#de77ae"
            ],
            [
             0.3,
             "#f1b6da"
            ],
            [
             0.4,
             "#fde0ef"
            ],
            [
             0.5,
             "#f7f7f7"
            ],
            [
             0.6,
             "#e6f5d0"
            ],
            [
             0.7,
             "#b8e186"
            ],
            [
             0.8,
             "#7fbc41"
            ],
            [
             0.9,
             "#4d9221"
            ],
            [
             1,
             "#276419"
            ]
           ],
           "sequential": [
            [
             0,
             "#0d0887"
            ],
            [
             0.1111111111111111,
             "#46039f"
            ],
            [
             0.2222222222222222,
             "#7201a8"
            ],
            [
             0.3333333333333333,
             "#9c179e"
            ],
            [
             0.4444444444444444,
             "#bd3786"
            ],
            [
             0.5555555555555556,
             "#d8576b"
            ],
            [
             0.6666666666666666,
             "#ed7953"
            ],
            [
             0.7777777777777778,
             "#fb9f3a"
            ],
            [
             0.8888888888888888,
             "#fdca26"
            ],
            [
             1,
             "#f0f921"
            ]
           ],
           "sequentialminus": [
            [
             0,
             "#0d0887"
            ],
            [
             0.1111111111111111,
             "#46039f"
            ],
            [
             0.2222222222222222,
             "#7201a8"
            ],
            [
             0.3333333333333333,
             "#9c179e"
            ],
            [
             0.4444444444444444,
             "#bd3786"
            ],
            [
             0.5555555555555556,
             "#d8576b"
            ],
            [
             0.6666666666666666,
             "#ed7953"
            ],
            [
             0.7777777777777778,
             "#fb9f3a"
            ],
            [
             0.8888888888888888,
             "#fdca26"
            ],
            [
             1,
             "#f0f921"
            ]
           ]
          },
          "colorway": [
           "#636efa",
           "#EF553B",
           "#00cc96",
           "#ab63fa",
           "#FFA15A",
           "#19d3f3",
           "#FF6692",
           "#B6E880",
           "#FF97FF",
           "#FECB52"
          ],
          "font": {
           "color": "#2a3f5f"
          },
          "geo": {
           "bgcolor": "white",
           "lakecolor": "white",
           "landcolor": "white",
           "showlakes": true,
           "showland": true,
           "subunitcolor": "#C8D4E3"
          },
          "hoverlabel": {
           "align": "left"
          },
          "hovermode": "closest",
          "mapbox": {
           "style": "light"
          },
          "paper_bgcolor": "white",
          "plot_bgcolor": "white",
          "polar": {
           "angularaxis": {
            "gridcolor": "#EBF0F8",
            "linecolor": "#EBF0F8",
            "ticks": ""
           },
           "bgcolor": "white",
           "radialaxis": {
            "gridcolor": "#EBF0F8",
            "linecolor": "#EBF0F8",
            "ticks": ""
           }
          },
          "scene": {
           "xaxis": {
            "backgroundcolor": "white",
            "gridcolor": "#DFE8F3",
            "gridwidth": 2,
            "linecolor": "#EBF0F8",
            "showbackground": true,
            "ticks": "",
            "zerolinecolor": "#EBF0F8"
           },
           "yaxis": {
            "backgroundcolor": "white",
            "gridcolor": "#DFE8F3",
            "gridwidth": 2,
            "linecolor": "#EBF0F8",
            "showbackground": true,
            "ticks": "",
            "zerolinecolor": "#EBF0F8"
           },
           "zaxis": {
            "backgroundcolor": "white",
            "gridcolor": "#DFE8F3",
            "gridwidth": 2,
            "linecolor": "#EBF0F8",
            "showbackground": true,
            "ticks": "",
            "zerolinecolor": "#EBF0F8"
           }
          },
          "shapedefaults": {
           "line": {
            "color": "#2a3f5f"
           }
          },
          "ternary": {
           "aaxis": {
            "gridcolor": "#DFE8F3",
            "linecolor": "#A2B1C6",
            "ticks": ""
           },
           "baxis": {
            "gridcolor": "#DFE8F3",
            "linecolor": "#A2B1C6",
            "ticks": ""
           },
           "bgcolor": "white",
           "caxis": {
            "gridcolor": "#DFE8F3",
            "linecolor": "#A2B1C6",
            "ticks": ""
           }
          },
          "title": {
           "x": 0.05
          },
          "xaxis": {
           "automargin": true,
           "gridcolor": "#EBF0F8",
           "linecolor": "#EBF0F8",
           "ticks": "",
           "title": {
            "standoff": 15
           },
           "zerolinecolor": "#EBF0F8",
           "zerolinewidth": 2
          },
          "yaxis": {
           "automargin": true,
           "gridcolor": "#EBF0F8",
           "linecolor": "#EBF0F8",
           "ticks": "",
           "title": {
            "standoff": 15
           },
           "zerolinecolor": "#EBF0F8",
           "zerolinewidth": 2
          }
         }
        },
        "title": {
         "text": "ITS optimisé — RSV Observed vs Fitted<br><sup>(K=3, COVID=2020-02-02, VACC=2021-01-29)</sup>"
        },
        "width": 950,
        "xaxis": {
         "title": {
          "text": "Semaine"
         }
        },
        "yaxis": {
         "title": {
          "text": "RSV (taux hebdo)"
         }
        }
       }
      }
     },
     "metadata": {},
     "output_type": "display_data"
    }
   ],
   "source": [
    "# ==========================================\n",
    "# 📈 ITS optimisé — grid search + Fourier + HAC (corrigé)\n",
    "# ==========================================\n",
    "import numpy as np, pandas as pd, statsmodels.api as sm\n",
    "from statsmodels.stats.diagnostic import acorr_ljungbox\n",
    "import plotly.graph_objects as go\n",
    "\n",
    "assert \"df_base\" in globals() and len(df_base) > 30, \"Base ITS insuffisante.\"\n",
    "\n",
    "# ---------- 1️⃣ Helpers ----------\n",
    "def add_fourier(df, K=1, period=52):\n",
    "    df = df.copy()\n",
    "    t = np.arange(len(df))\n",
    "    for k in range(1, K+1):\n",
    "        df[f\"sin{k}\"] = np.sin(2*np.pi*k*t/period)\n",
    "        df[f\"cos{k}\"] = np.cos(2*np.pi*k*t/period)\n",
    "    return df\n",
    "\n",
    "def make_its_design(df, covid_date, vacc_date, K=1, add_exog=True, log_target=False):\n",
    "    dfX = df.copy().reset_index().rename(columns={\"date_monday\": \"date\"})\n",
    "    dfX = dfX.sort_values(\"date\").reset_index(drop=True)\n",
    "\n",
    "    # Temps\n",
    "    dfX[\"t\"] = np.arange(len(dfX))\n",
    "    # Dummies de rupture\n",
    "    dfX[\"post_covid\"] = (dfX[\"date\"] >= covid_date).astype(int)\n",
    "    dfX[\"post_vacc\"] = (dfX[\"date\"] >= vacc_date).astype(int)\n",
    "    # Pentes post-rupture\n",
    "    dfX[\"t_post_covid\"] = dfX[\"t\"] * dfX[\"post_covid\"]\n",
    "    dfX[\"t_post_vacc\"] = dfX[\"t\"] * dfX[\"post_vacc\"]\n",
    "\n",
    "    # Fourier (K harmoniques)\n",
    "    dfX = add_fourier(dfX, K=K, period=52)\n",
    "\n",
    "    # Cible\n",
    "    y = dfX[\"RSV\"].astype(float)\n",
    "    if log_target:\n",
    "        y = np.log1p(y)\n",
    "\n",
    "    # Matrice X\n",
    "    base_cols = [\"t\", \"post_covid\", \"t_post_covid\", \"post_vacc\", \"t_post_vacc\"]\n",
    "    fourier_cols = sum([[f\"sin{k}\", f\"cos{k}\"] for k in range(1, K+1)], [])\n",
    "    Xcols = base_cols + fourier_cols\n",
    "\n",
    "    if add_exog:\n",
    "        for c in [\"cov12_lag\", \"MNP_lag\", \"work_lag\"]:\n",
    "            if c in dfX.columns:\n",
    "                Xcols.append(c)\n",
    "\n",
    "    X = dfX[Xcols].copy()\n",
    "    hac_lags = int(np.clip(np.sqrt(len(dfX)), 8, 24))  # √n borné 8–24\n",
    "    fit = sm.OLS(y, sm.add_constant(X, has_constant=\"add\"), missing=\"drop\").fit(\n",
    "        cov_type=\"HAC\", cov_kwds={\"maxlags\": hac_lags}\n",
    "    )\n",
    "\n",
    "    # ✅ On garde la colonne date_monday explicite\n",
    "    dfX[\"date_monday\"] = pd.to_datetime(dfX[\"date\"])\n",
    "    return fit, dfX, Xcols, hac_lags, y\n",
    "\n",
    "\n",
    "# ---------- 2️⃣ Grid search ----------\n",
    "steps = np.array([-28, -14, 0, 14, 28], dtype=\"timedelta64[D]\")\n",
    "candidates_covid = [pd.to_datetime(COVID_START) + pd.to_timedelta(int(s.astype(int)), unit=\"D\") for s in steps]\n",
    "candidates_vacc  = [pd.to_datetime(VACC_START)  + pd.to_timedelta(int(s.astype(int)), unit=\"D\") for s in steps]\n",
    "Ks = [1, 2, 3]  # nb d'harmoniques\n",
    "\n",
    "results = []\n",
    "best = {\"aic\": np.inf}\n",
    "\n",
    "for K in Ks:\n",
    "    for cdate in candidates_covid:\n",
    "        for vdate in candidates_vacc:\n",
    "            if vdate <= cdate:\n",
    "                continue\n",
    "            try:\n",
    "                fit, dfX, Xcols, hac_lags, y = make_its_design(\n",
    "                    df_base[[\"RSV\", \"cov12_lag\", \"MNP_lag\", \"work_lag\"]],\n",
    "                    covid_date=cdate, vacc_date=vdate,\n",
    "                    K=K, add_exog=True, log_target=False\n",
    "                )\n",
    "                aic = fit.aic\n",
    "                results.append((aic, K, cdate, vdate, hac_lags))\n",
    "                if aic < best[\"aic\"]:\n",
    "                    best = {\"aic\": aic, \"K\": K, \"covid\": cdate, \"vacc\": vdate,\n",
    "                            \"fit\": fit, \"dfX\": dfX, \"Xcols\": Xcols, \"hac\": hac_lags}\n",
    "            except Exception:\n",
    "                continue\n",
    "\n",
    "print(\"🔎 Grid search terminé.\")\n",
    "print(f\"🥇 Meilleur ITS: AIC={best['aic']:.1f} | K={best['K']} | \"\n",
    "      f\"COVID={best['covid'].date()} | VACC={best['vacc'].date()} | HAC lags={best['hac']}\")\n",
    "\n",
    "its_best = best[\"fit\"]\n",
    "df_plot = best[\"dfX\"].copy()\n",
    "\n",
    "# ---------- 3️⃣ Résumé & diagnostics ----------\n",
    "summary_main = its_best.summary2().tables[0]\n",
    "keys = [k for k in summary_main.index if any(x in str(k) for x in [\"R\", \"AIC\", \"BIC\"])]\n",
    "print(\"=== ITS optimisé (OLS+HAC) — Résumé concis ===\")\n",
    "display(summary_main.loc[keys] if keys else summary_main)\n",
    "\n",
    "coef_table = its_best.summary2().tables[1].copy()\n",
    "pcol = [c for c in coef_table.columns if \"P>\" in c.upper()][0]\n",
    "ccol = [c for c in coef_table.columns if \"COEF\" in c.upper()][0]\n",
    "scol = [c for c in coef_table.columns if \"STD\" in c.upper()][0]\n",
    "display(coef_table.sort_values(pcol)[[\"Coef.\", \"Std.Err.\", pcol]].head(12))\n",
    "\n",
    "dw = sm.stats.stattools.durbin_watson(its_best.resid)\n",
    "lb = acorr_ljungbox(its_best.resid, lags=[8,12,24], return_df=True)\n",
    "print(f\"\\nDurbin–Watson: {dw:.3f}\")\n",
    "print(\"Ljung–Box p-values:\")\n",
    "display(lb[[\"lb_stat\",\"lb_pvalue\"]].rename(columns={\"lb_stat\":\"stat\",\"lb_pvalue\":\"p\"}))\n",
    "\n",
    "# ---------- 4️⃣ Visualisation ----------\n",
    "df_plot[\"fitted\"] = its_best.fittedvalues.values\n",
    "df_plot[\"date_monday\"] = pd.to_datetime(df_plot[\"date_monday\"])\n",
    "\n",
    "fig = go.Figure()\n",
    "fig.add_trace(go.Scatter(\n",
    "    x=df_plot[\"date_monday\"],\n",
    "    y=df_plot[\"RSV\"],\n",
    "    mode=\"lines\",\n",
    "    name=\"Observed RSV\",\n",
    "    line=dict(color=\"black\", width=2)\n",
    "))\n",
    "fig.add_trace(go.Scatter(\n",
    "    x=df_plot[\"date_monday\"],\n",
    "    y=df_plot[\"fitted\"],\n",
    "    mode=\"lines\",\n",
    "    name=\"Fitted ITS (best)\",\n",
    "    line=dict(color=\"royalblue\", dash=\"dot\", width=3)\n",
    "))\n",
    "\n",
    "# Lignes de rupture\n",
    "for date_str, color, label in [\n",
    "    (str(best[\"covid\"].date()), \"red\", \"COVID (opt.)\"),\n",
    "    (str(best[\"vacc\"].date()), \"green\", \"Vacc (opt.)\")\n",
    "]:\n",
    "    fig.add_shape(\n",
    "        type=\"line\", x0=date_str, x1=date_str,\n",
    "        y0=0, y1=1, xref=\"x\", yref=\"paper\",\n",
    "        line=dict(color=color, dash=\"dash\", width=2)\n",
    "    )\n",
    "    fig.add_annotation(\n",
    "        x=date_str, y=1.02, xref=\"x\", yref=\"paper\",\n",
    "        showarrow=False, text=label,\n",
    "        font=dict(color=color, size=11)\n",
    "    )\n",
    "\n",
    "fig.update_layout(\n",
    "    title=f\"ITS optimisé — RSV Observed vs Fitted<br><sup>(K={best['K']}, COVID={best['covid'].date()}, VACC={best['vacc'].date()})</sup>\",\n",
    "    xaxis_title=\"Semaine\",\n",
    "    yaxis_title=\"RSV (taux hebdo)\",\n",
    "    template=\"plotly_white\",\n",
    "    width=950, height=500,\n",
    ")\n",
    "fig.show()\n"
   ]
  },
  {
   "cell_type": "code",
   "execution_count": 9,
   "id": "22ac4c30",
   "metadata": {},
   "outputs": [
    {
     "name": "stdout",
     "output_type": "stream",
     "text": [
      "✅ Données SARIMAX prêtes : y=89 | X=(89, 9)\n",
      "🥇 Meilleur SARIMAX: order=(0, 0, 0) seasonal_order=(0, 1, 1, 52) | AIC=22.0\n",
      "=== SARIMAX — Résumé concis ===\n",
      "LogLik=0.00 | AIC=22.0 | BIC=nan\n",
      "Pseudo-R² (naïf) ≈ -5.053\n",
      "Durbin–Watson: 0.036\n",
      "Ljung–Box p-values (lags 8/12/24):\n"
     ]
    },
    {
     "data": {
      "text/html": [
       "<div>\n",
       "<style scoped>\n",
       "    .dataframe tbody tr th:only-of-type {\n",
       "        vertical-align: middle;\n",
       "    }\n",
       "\n",
       "    .dataframe tbody tr th {\n",
       "        vertical-align: top;\n",
       "    }\n",
       "\n",
       "    .dataframe thead th {\n",
       "        text-align: right;\n",
       "    }\n",
       "</style>\n",
       "<table border=\"1\" class=\"dataframe\">\n",
       "  <thead>\n",
       "    <tr style=\"text-align: right;\">\n",
       "      <th></th>\n",
       "      <th>stat</th>\n",
       "      <th>p</th>\n",
       "    </tr>\n",
       "  </thead>\n",
       "  <tbody>\n",
       "    <tr>\n",
       "      <th>8</th>\n",
       "      <td>453.155734</td>\n",
       "      <td>7.793756e-93</td>\n",
       "    </tr>\n",
       "    <tr>\n",
       "      <th>12</th>\n",
       "      <td>503.217262</td>\n",
       "      <td>4.580241e-100</td>\n",
       "    </tr>\n",
       "    <tr>\n",
       "      <th>24</th>\n",
       "      <td>540.245867</td>\n",
       "      <td>7.097507e-99</td>\n",
       "    </tr>\n",
       "  </tbody>\n",
       "</table>\n",
       "</div>"
      ],
      "text/plain": [
       "          stat              p\n",
       "8   453.155734   7.793756e-93\n",
       "12  503.217262  4.580241e-100\n",
       "24  540.245867   7.097507e-99"
      ]
     },
     "metadata": {},
     "output_type": "display_data"
    },
    {
     "data": {
      "application/vnd.plotly.v1+json": {
       "config": {
        "plotlyServerURL": "https://plot.ly"
       },
       "data": [
        {
         "line": {
          "width": 2
         },
         "mode": "lines",
         "name": "Observed",
         "type": "scatter",
         "x": [
          "2021-03-01T00:00:00",
          "2021-03-08T00:00:00",
          "2021-03-15T00:00:00",
          "2021-03-22T00:00:00",
          "2021-03-29T00:00:00",
          "2021-04-05T00:00:00",
          "2021-04-12T00:00:00",
          "2021-04-19T00:00:00",
          "2021-04-26T00:00:00",
          "2021-05-03T00:00:00",
          "2021-05-10T00:00:00",
          "2021-05-17T00:00:00",
          "2021-05-24T00:00:00",
          "2021-05-31T00:00:00",
          "2021-06-07T00:00:00",
          "2021-06-14T00:00:00",
          "2021-06-21T00:00:00",
          "2021-06-28T00:00:00",
          "2021-07-05T00:00:00",
          "2021-07-12T00:00:00",
          "2021-07-19T00:00:00",
          "2021-07-26T00:00:00",
          "2021-08-02T00:00:00",
          "2021-08-09T00:00:00",
          "2021-08-16T00:00:00",
          "2021-08-23T00:00:00",
          "2021-08-30T00:00:00",
          "2021-09-06T00:00:00",
          "2021-09-13T00:00:00",
          "2021-09-20T00:00:00",
          "2021-09-27T00:00:00",
          "2021-10-04T00:00:00",
          "2021-10-11T00:00:00",
          "2021-10-18T00:00:00",
          "2021-10-25T00:00:00",
          "2021-11-01T00:00:00",
          "2021-11-08T00:00:00",
          "2021-11-15T00:00:00",
          "2021-11-22T00:00:00",
          "2021-11-29T00:00:00",
          "2021-12-06T00:00:00",
          "2021-12-13T00:00:00",
          "2021-12-20T00:00:00",
          "2021-12-27T00:00:00",
          "2022-01-03T00:00:00",
          "2022-01-10T00:00:00",
          "2022-01-17T00:00:00",
          "2022-01-24T00:00:00",
          "2022-01-31T00:00:00",
          "2022-02-07T00:00:00",
          "2022-02-14T00:00:00",
          "2022-02-21T00:00:00",
          "2022-02-28T00:00:00",
          "2022-03-07T00:00:00",
          "2022-03-14T00:00:00",
          "2022-03-21T00:00:00",
          "2022-03-28T00:00:00",
          "2022-04-04T00:00:00",
          "2022-04-11T00:00:00",
          "2022-04-18T00:00:00",
          "2022-04-25T00:00:00",
          "2022-05-02T00:00:00",
          "2022-05-09T00:00:00",
          "2022-05-16T00:00:00",
          "2022-05-23T00:00:00",
          "2022-05-30T00:00:00",
          "2022-06-06T00:00:00",
          "2022-06-13T00:00:00",
          "2022-06-20T00:00:00",
          "2022-06-27T00:00:00",
          "2022-07-04T00:00:00",
          "2022-07-11T00:00:00",
          "2022-07-18T00:00:00",
          "2022-07-25T00:00:00",
          "2022-08-01T00:00:00",
          "2022-08-08T00:00:00",
          "2022-08-15T00:00:00",
          "2022-08-22T00:00:00",
          "2022-08-29T00:00:00",
          "2022-09-05T00:00:00",
          "2022-09-12T00:00:00",
          "2022-09-19T00:00:00",
          "2022-09-26T00:00:00",
          "2022-10-03T00:00:00",
          "2022-10-10T00:00:00",
          "2022-10-17T00:00:00",
          "2022-10-24T00:00:00",
          "2022-10-31T00:00:00",
          "2022-11-07T00:00:00"
         ],
         "y": {
          "bdata": "y9n5hgNEjEDcY8g15uaMQLNGmP1lFpBA2gZJ+neOkkCcFVETRUOTQNr4uNvy3pFA3gTfNJ1UkEBk7//CzhSGQLpi677YjH5A4Zc8luULe0BDPX0EVjWAQF/jAukVmYFAhvjyyBiVgUCkF/cX6EmBQMGOnNiVI4FATyXiMdx+f0DlfdqwR4+AQP7Et2YJtoJAYKD3CL1agkCG2fQ1nRyEQBGyAxmPfoJAseqDlwaLf0BC3ryCHgx4QMzY6WqfUnJAnbfS51qGbkBBo/CwezdrQH+kZ/4xMHBAzIzIwSZucUAbnXeM8At9QNHtgEbU4oBADHh4U6JxhkCBfTLOeFOMQJ5tf3hnRpFAEAqlinUjlEBdddMcn+eWQABP//75mJhAII6//t1blkAJtfAG0luYQAO5H0syRZ1AYv5lUo5inkBizRKuSf6bQE/Ex8zCSJpAfuVBelKElkBwrgbNayKUQOe3+ZCBNo1A6HlglWWriEB5L608T/uFQF/JXZ021YJAmUgGDNx6gkADewqI8taAQByonatPioBAZOcrUITkfEAdhAwmBkl7QO3YY32eUHtAzu+H4UugfEBMt1esUhh7QD4nOTdo/npAwIxz5c1sekDn2XJPI0R6QH+s+VRigXlALw0u4zcyd0CseadluD51QLh+8l4C5XdAp6kKsprcdkBAAlZ5CEV2QL4xJQ6g6ndA1c5y0aeld0BBW/ckymZ0QFpY5JWTdnVALrCmNrEUd0BqlhXU0R52QOd8iHjRx3RAO1h7r4w4c0DzKddG4jRtQKDxjp3hvmlAEjJvWW5+akAI9FcCyMhlQKf2dSL5QGVAwrJnCVFHaUCdXWM8jyRxQH7Qq+jsvnpAKNZn1vNjgkB1QTuvmuKHQE+UpVJrHI5Afv/mxRG8k0DAWrVrEi2ZQLMoR1yXeKBAJeb+j4heokDZOAd0e3uhQA==",
          "dtype": "f8"
         }
        },
        {
         "line": {
          "dash": "dot"
         },
         "mode": "lines",
         "name": "Fitted (SARIMAX)",
         "type": "scatter",
         "x": [
          "2021-03-01T00:00:00",
          "2021-03-08T00:00:00",
          "2021-03-15T00:00:00",
          "2021-03-22T00:00:00",
          "2021-03-29T00:00:00",
          "2021-04-05T00:00:00",
          "2021-04-12T00:00:00",
          "2021-04-19T00:00:00",
          "2021-04-26T00:00:00",
          "2021-05-03T00:00:00",
          "2021-05-10T00:00:00",
          "2021-05-17T00:00:00",
          "2021-05-24T00:00:00",
          "2021-05-31T00:00:00",
          "2021-06-07T00:00:00",
          "2021-06-14T00:00:00",
          "2021-06-21T00:00:00",
          "2021-06-28T00:00:00",
          "2021-07-05T00:00:00",
          "2021-07-12T00:00:00",
          "2021-07-19T00:00:00",
          "2021-07-26T00:00:00",
          "2021-08-02T00:00:00",
          "2021-08-09T00:00:00",
          "2021-08-16T00:00:00",
          "2021-08-23T00:00:00",
          "2021-08-30T00:00:00",
          "2021-09-06T00:00:00",
          "2021-09-13T00:00:00",
          "2021-09-20T00:00:00",
          "2021-09-27T00:00:00",
          "2021-10-04T00:00:00",
          "2021-10-11T00:00:00",
          "2021-10-18T00:00:00",
          "2021-10-25T00:00:00",
          "2021-11-01T00:00:00",
          "2021-11-08T00:00:00",
          "2021-11-15T00:00:00",
          "2021-11-22T00:00:00",
          "2021-11-29T00:00:00",
          "2021-12-06T00:00:00",
          "2021-12-13T00:00:00",
          "2021-12-20T00:00:00",
          "2021-12-27T00:00:00",
          "2022-01-03T00:00:00",
          "2022-01-10T00:00:00",
          "2022-01-17T00:00:00",
          "2022-01-24T00:00:00",
          "2022-01-31T00:00:00",
          "2022-02-07T00:00:00",
          "2022-02-14T00:00:00",
          "2022-02-21T00:00:00",
          "2022-02-28T00:00:00",
          "2022-03-07T00:00:00",
          "2022-03-14T00:00:00",
          "2022-03-21T00:00:00",
          "2022-03-28T00:00:00",
          "2022-04-04T00:00:00",
          "2022-04-11T00:00:00",
          "2022-04-18T00:00:00",
          "2022-04-25T00:00:00",
          "2022-05-02T00:00:00",
          "2022-05-09T00:00:00",
          "2022-05-16T00:00:00",
          "2022-05-23T00:00:00",
          "2022-05-30T00:00:00",
          "2022-06-06T00:00:00",
          "2022-06-13T00:00:00",
          "2022-06-20T00:00:00",
          "2022-06-27T00:00:00",
          "2022-07-04T00:00:00",
          "2022-07-11T00:00:00",
          "2022-07-18T00:00:00",
          "2022-07-25T00:00:00",
          "2022-08-01T00:00:00",
          "2022-08-08T00:00:00",
          "2022-08-15T00:00:00",
          "2022-08-22T00:00:00",
          "2022-08-29T00:00:00",
          "2022-09-05T00:00:00",
          "2022-09-12T00:00:00",
          "2022-09-19T00:00:00",
          "2022-09-26T00:00:00",
          "2022-10-03T00:00:00",
          "2022-10-10T00:00:00",
          "2022-10-17T00:00:00",
          "2022-10-24T00:00:00",
          "2022-10-31T00:00:00",
          "2022-11-07T00:00:00"
         ],
         "y": {
          "bdata": "kEpQ+u8wfcAu9dsctGV+wIDjoMPjVILAOiXuc2HJgcBd/s2qfGJ1wBhjnkQk13rAhBEiUiQKe8CoZuwGvzpxwN8IMGvNFHPAk/No7Tw4fsD6fWOtPL15wGnKTwu2iHrAHtXDrjLVdcCzjpUFSWFhwD5zDTOJfW3AiJW3hAtRRkDCt9f3BB1hwAyBALpHjFXAGshzNMxRU8CwGwEEHCBWwJAL+44qwUbAA4uVAwNgY8BatbHDlN1wwMh8iLMbxnTALT725oAQecBa52l0Dnt8wJh7Q1Q7m4HAxsYLSf4Mg8A64VR0LFCFwGpM5bLDEoXAtCz2UpMwhcCVN7oPnMmGwF/ybyFPRYzA+LGNNTalisBkyQacn3aNwDV2wkKwUpHATyPpPlMjkcA6eUiyIsaOwNFERVhFvpLALN2HsUT2k8C/LMljIxWTwF9LGTHXho/A6k2UuZFij8DxjRDF1oCKwPbVRIg1jo3A6b2UZ9MwkMCssuz+0TOXwChCsEEAlprAnySXIAcgksCtH7of+NuPwOwKInSSWI3Avk9YYnqDjsB0OAikPP16QOS11Zv21HxApNbDVsWgekBMmpz39paBQFBh2qGNn4NA77HrXjC7hUAIQF2QD5+HQMh8VPbwUW1A2OxLRZ5RVEC8+rPZzldtQIBTZ+udS2xAlAN1oakSc0Cmvyla/5hzQP7InA3/Gm1A2XKMpRNld0DcwNaXh+BoQGDfWLzuJ1pAKzl3UyZJc0A8MvyHT31nQAAEIbEBmHZASlk3KJ9meUBoBVBQj4N4QI4YnpiKcXpAUKMiRdZiakBw7cy3uIRZQPyC2D9UTHRA9EZNH7DuckAgq6Ne1ud0QFmLrWUnQoBAwUlpby/rg0D0x/tQ2CSLQIKyNIAGO5BAlPHIUPAumEB+Ce3JgE6bQG4N4/dRjJ5AwAO0r4oLoECEZgas6/ecQA==",
          "dtype": "f8"
         }
        }
       ],
       "layout": {
        "annotations": [
         {
          "font": {
           "color": "red",
           "size": 11
          },
          "showarrow": false,
          "text": "COVID start",
          "x": "2020-03-01",
          "xref": "x",
          "y": 1.02,
          "yref": "paper"
         },
         {
          "font": {
           "color": "green",
           "size": 11
          },
          "showarrow": false,
          "text": "Vacc start",
          "x": "2021-01-01",
          "xref": "x",
          "y": 1.02,
          "yref": "paper"
         }
        ],
        "shapes": [
         {
          "line": {
           "color": "red",
           "dash": "dash",
           "width": 2
          },
          "type": "line",
          "x0": "2020-03-01",
          "x1": "2020-03-01",
          "xref": "x",
          "y0": 0,
          "y1": 1,
          "yref": "paper"
         },
         {
          "line": {
           "color": "green",
           "dash": "dash",
           "width": 2
          },
          "type": "line",
          "x0": "2021-01-01",
          "x1": "2021-01-01",
          "xref": "x",
          "y0": 0,
          "y1": 1,
          "yref": "paper"
         }
        ],
        "template": {
         "data": {
          "bar": [
           {
            "error_x": {
             "color": "#2a3f5f"
            },
            "error_y": {
             "color": "#2a3f5f"
            },
            "marker": {
             "line": {
              "color": "#E5ECF6",
              "width": 0.5
             },
             "pattern": {
              "fillmode": "overlay",
              "size": 10,
              "solidity": 0.2
             }
            },
            "type": "bar"
           }
          ],
          "barpolar": [
           {
            "marker": {
             "line": {
              "color": "#E5ECF6",
              "width": 0.5
             },
             "pattern": {
              "fillmode": "overlay",
              "size": 10,
              "solidity": 0.2
             }
            },
            "type": "barpolar"
           }
          ],
          "carpet": [
           {
            "aaxis": {
             "endlinecolor": "#2a3f5f",
             "gridcolor": "white",
             "linecolor": "white",
             "minorgridcolor": "white",
             "startlinecolor": "#2a3f5f"
            },
            "baxis": {
             "endlinecolor": "#2a3f5f",
             "gridcolor": "white",
             "linecolor": "white",
             "minorgridcolor": "white",
             "startlinecolor": "#2a3f5f"
            },
            "type": "carpet"
           }
          ],
          "choropleth": [
           {
            "colorbar": {
             "outlinewidth": 0,
             "ticks": ""
            },
            "type": "choropleth"
           }
          ],
          "contour": [
           {
            "colorbar": {
             "outlinewidth": 0,
             "ticks": ""
            },
            "colorscale": [
             [
              0,
              "#0d0887"
             ],
             [
              0.1111111111111111,
              "#46039f"
             ],
             [
              0.2222222222222222,
              "#7201a8"
             ],
             [
              0.3333333333333333,
              "#9c179e"
             ],
             [
              0.4444444444444444,
              "#bd3786"
             ],
             [
              0.5555555555555556,
              "#d8576b"
             ],
             [
              0.6666666666666666,
              "#ed7953"
             ],
             [
              0.7777777777777778,
              "#fb9f3a"
             ],
             [
              0.8888888888888888,
              "#fdca26"
             ],
             [
              1,
              "#f0f921"
             ]
            ],
            "type": "contour"
           }
          ],
          "contourcarpet": [
           {
            "colorbar": {
             "outlinewidth": 0,
             "ticks": ""
            },
            "type": "contourcarpet"
           }
          ],
          "heatmap": [
           {
            "colorbar": {
             "outlinewidth": 0,
             "ticks": ""
            },
            "colorscale": [
             [
              0,
              "#0d0887"
             ],
             [
              0.1111111111111111,
              "#46039f"
             ],
             [
              0.2222222222222222,
              "#7201a8"
             ],
             [
              0.3333333333333333,
              "#9c179e"
             ],
             [
              0.4444444444444444,
              "#bd3786"
             ],
             [
              0.5555555555555556,
              "#d8576b"
             ],
             [
              0.6666666666666666,
              "#ed7953"
             ],
             [
              0.7777777777777778,
              "#fb9f3a"
             ],
             [
              0.8888888888888888,
              "#fdca26"
             ],
             [
              1,
              "#f0f921"
             ]
            ],
            "type": "heatmap"
           }
          ],
          "histogram": [
           {
            "marker": {
             "pattern": {
              "fillmode": "overlay",
              "size": 10,
              "solidity": 0.2
             }
            },
            "type": "histogram"
           }
          ],
          "histogram2d": [
           {
            "colorbar": {
             "outlinewidth": 0,
             "ticks": ""
            },
            "colorscale": [
             [
              0,
              "#0d0887"
             ],
             [
              0.1111111111111111,
              "#46039f"
             ],
             [
              0.2222222222222222,
              "#7201a8"
             ],
             [
              0.3333333333333333,
              "#9c179e"
             ],
             [
              0.4444444444444444,
              "#bd3786"
             ],
             [
              0.5555555555555556,
              "#d8576b"
             ],
             [
              0.6666666666666666,
              "#ed7953"
             ],
             [
              0.7777777777777778,
              "#fb9f3a"
             ],
             [
              0.8888888888888888,
              "#fdca26"
             ],
             [
              1,
              "#f0f921"
             ]
            ],
            "type": "histogram2d"
           }
          ],
          "histogram2dcontour": [
           {
            "colorbar": {
             "outlinewidth": 0,
             "ticks": ""
            },
            "colorscale": [
             [
              0,
              "#0d0887"
             ],
             [
              0.1111111111111111,
              "#46039f"
             ],
             [
              0.2222222222222222,
              "#7201a8"
             ],
             [
              0.3333333333333333,
              "#9c179e"
             ],
             [
              0.4444444444444444,
              "#bd3786"
             ],
             [
              0.5555555555555556,
              "#d8576b"
             ],
             [
              0.6666666666666666,
              "#ed7953"
             ],
             [
              0.7777777777777778,
              "#fb9f3a"
             ],
             [
              0.8888888888888888,
              "#fdca26"
             ],
             [
              1,
              "#f0f921"
             ]
            ],
            "type": "histogram2dcontour"
           }
          ],
          "mesh3d": [
           {
            "colorbar": {
             "outlinewidth": 0,
             "ticks": ""
            },
            "type": "mesh3d"
           }
          ],
          "parcoords": [
           {
            "line": {
             "colorbar": {
              "outlinewidth": 0,
              "ticks": ""
             }
            },
            "type": "parcoords"
           }
          ],
          "pie": [
           {
            "automargin": true,
            "type": "pie"
           }
          ],
          "scatter": [
           {
            "fillpattern": {
             "fillmode": "overlay",
             "size": 10,
             "solidity": 0.2
            },
            "type": "scatter"
           }
          ],
          "scatter3d": [
           {
            "line": {
             "colorbar": {
              "outlinewidth": 0,
              "ticks": ""
             }
            },
            "marker": {
             "colorbar": {
              "outlinewidth": 0,
              "ticks": ""
             }
            },
            "type": "scatter3d"
           }
          ],
          "scattercarpet": [
           {
            "marker": {
             "colorbar": {
              "outlinewidth": 0,
              "ticks": ""
             }
            },
            "type": "scattercarpet"
           }
          ],
          "scattergeo": [
           {
            "marker": {
             "colorbar": {
              "outlinewidth": 0,
              "ticks": ""
             }
            },
            "type": "scattergeo"
           }
          ],
          "scattergl": [
           {
            "marker": {
             "colorbar": {
              "outlinewidth": 0,
              "ticks": ""
             }
            },
            "type": "scattergl"
           }
          ],
          "scattermap": [
           {
            "marker": {
             "colorbar": {
              "outlinewidth": 0,
              "ticks": ""
             }
            },
            "type": "scattermap"
           }
          ],
          "scattermapbox": [
           {
            "marker": {
             "colorbar": {
              "outlinewidth": 0,
              "ticks": ""
             }
            },
            "type": "scattermapbox"
           }
          ],
          "scatterpolar": [
           {
            "marker": {
             "colorbar": {
              "outlinewidth": 0,
              "ticks": ""
             }
            },
            "type": "scatterpolar"
           }
          ],
          "scatterpolargl": [
           {
            "marker": {
             "colorbar": {
              "outlinewidth": 0,
              "ticks": ""
             }
            },
            "type": "scatterpolargl"
           }
          ],
          "scatterternary": [
           {
            "marker": {
             "colorbar": {
              "outlinewidth": 0,
              "ticks": ""
             }
            },
            "type": "scatterternary"
           }
          ],
          "surface": [
           {
            "colorbar": {
             "outlinewidth": 0,
             "ticks": ""
            },
            "colorscale": [
             [
              0,
              "#0d0887"
             ],
             [
              0.1111111111111111,
              "#46039f"
             ],
             [
              0.2222222222222222,
              "#7201a8"
             ],
             [
              0.3333333333333333,
              "#9c179e"
             ],
             [
              0.4444444444444444,
              "#bd3786"
             ],
             [
              0.5555555555555556,
              "#d8576b"
             ],
             [
              0.6666666666666666,
              "#ed7953"
             ],
             [
              0.7777777777777778,
              "#fb9f3a"
             ],
             [
              0.8888888888888888,
              "#fdca26"
             ],
             [
              1,
              "#f0f921"
             ]
            ],
            "type": "surface"
           }
          ],
          "table": [
           {
            "cells": {
             "fill": {
              "color": "#EBF0F8"
             },
             "line": {
              "color": "white"
             }
            },
            "header": {
             "fill": {
              "color": "#C8D4E3"
             },
             "line": {
              "color": "white"
             }
            },
            "type": "table"
           }
          ]
         },
         "layout": {
          "annotationdefaults": {
           "arrowcolor": "#2a3f5f",
           "arrowhead": 0,
           "arrowwidth": 1
          },
          "autotypenumbers": "strict",
          "coloraxis": {
           "colorbar": {
            "outlinewidth": 0,
            "ticks": ""
           }
          },
          "colorscale": {
           "diverging": [
            [
             0,
             "#8e0152"
            ],
            [
             0.1,
             "#c51b7d"
            ],
            [
             0.2,
             "#de77ae"
            ],
            [
             0.3,
             "#f1b6da"
            ],
            [
             0.4,
             "#fde0ef"
            ],
            [
             0.5,
             "#f7f7f7"
            ],
            [
             0.6,
             "#e6f5d0"
            ],
            [
             0.7,
             "#b8e186"
            ],
            [
             0.8,
             "#7fbc41"
            ],
            [
             0.9,
             "#4d9221"
            ],
            [
             1,
             "#276419"
            ]
           ],
           "sequential": [
            [
             0,
             "#0d0887"
            ],
            [
             0.1111111111111111,
             "#46039f"
            ],
            [
             0.2222222222222222,
             "#7201a8"
            ],
            [
             0.3333333333333333,
             "#9c179e"
            ],
            [
             0.4444444444444444,
             "#bd3786"
            ],
            [
             0.5555555555555556,
             "#d8576b"
            ],
            [
             0.6666666666666666,
             "#ed7953"
            ],
            [
             0.7777777777777778,
             "#fb9f3a"
            ],
            [
             0.8888888888888888,
             "#fdca26"
            ],
            [
             1,
             "#f0f921"
            ]
           ],
           "sequentialminus": [
            [
             0,
             "#0d0887"
            ],
            [
             0.1111111111111111,
             "#46039f"
            ],
            [
             0.2222222222222222,
             "#7201a8"
            ],
            [
             0.3333333333333333,
             "#9c179e"
            ],
            [
             0.4444444444444444,
             "#bd3786"
            ],
            [
             0.5555555555555556,
             "#d8576b"
            ],
            [
             0.6666666666666666,
             "#ed7953"
            ],
            [
             0.7777777777777778,
             "#fb9f3a"
            ],
            [
             0.8888888888888888,
             "#fdca26"
            ],
            [
             1,
             "#f0f921"
            ]
           ]
          },
          "colorway": [
           "#636efa",
           "#EF553B",
           "#00cc96",
           "#ab63fa",
           "#FFA15A",
           "#19d3f3",
           "#FF6692",
           "#B6E880",
           "#FF97FF",
           "#FECB52"
          ],
          "font": {
           "color": "#2a3f5f"
          },
          "geo": {
           "bgcolor": "white",
           "lakecolor": "white",
           "landcolor": "#E5ECF6",
           "showlakes": true,
           "showland": true,
           "subunitcolor": "white"
          },
          "hoverlabel": {
           "align": "left"
          },
          "hovermode": "closest",
          "mapbox": {
           "style": "light"
          },
          "paper_bgcolor": "white",
          "plot_bgcolor": "#E5ECF6",
          "polar": {
           "angularaxis": {
            "gridcolor": "white",
            "linecolor": "white",
            "ticks": ""
           },
           "bgcolor": "#E5ECF6",
           "radialaxis": {
            "gridcolor": "white",
            "linecolor": "white",
            "ticks": ""
           }
          },
          "scene": {
           "xaxis": {
            "backgroundcolor": "#E5ECF6",
            "gridcolor": "white",
            "gridwidth": 2,
            "linecolor": "white",
            "showbackground": true,
            "ticks": "",
            "zerolinecolor": "white"
           },
           "yaxis": {
            "backgroundcolor": "#E5ECF6",
            "gridcolor": "white",
            "gridwidth": 2,
            "linecolor": "white",
            "showbackground": true,
            "ticks": "",
            "zerolinecolor": "white"
           },
           "zaxis": {
            "backgroundcolor": "#E5ECF6",
            "gridcolor": "white",
            "gridwidth": 2,
            "linecolor": "white",
            "showbackground": true,
            "ticks": "",
            "zerolinecolor": "white"
           }
          },
          "shapedefaults": {
           "line": {
            "color": "#2a3f5f"
           }
          },
          "ternary": {
           "aaxis": {
            "gridcolor": "white",
            "linecolor": "white",
            "ticks": ""
           },
           "baxis": {
            "gridcolor": "white",
            "linecolor": "white",
            "ticks": ""
           },
           "bgcolor": "#E5ECF6",
           "caxis": {
            "gridcolor": "white",
            "linecolor": "white",
            "ticks": ""
           }
          },
          "title": {
           "x": 0.05
          },
          "xaxis": {
           "automargin": true,
           "gridcolor": "white",
           "linecolor": "white",
           "ticks": "",
           "title": {
            "standoff": 15
           },
           "zerolinecolor": "white",
           "zerolinewidth": 2
          },
          "yaxis": {
           "automargin": true,
           "gridcolor": "white",
           "linecolor": "white",
           "ticks": "",
           "title": {
            "standoff": 15
           },
           "zerolinecolor": "white",
           "zerolinewidth": 2
          }
         }
        },
        "title": {
         "text": "RSV — Observed vs Fitted (SARIMAX (0, 0, 0)×(0, 1, 1, 52))"
        },
        "xaxis": {
         "title": {
          "text": "Semaine"
         }
        },
        "yaxis": {
         "title": {
          "text": "RSV (taux hebdo)"
         }
        }
       }
      }
     },
     "metadata": {},
     "output_type": "display_data"
    },
    {
     "data": {
      "application/vnd.plotly.v1+json": {
       "config": {
        "plotlyServerURL": "https://plot.ly"
       },
       "data": [
        {
         "mode": "lines",
         "name": "Residuals",
         "type": "scatter",
         "x": [
          "2021-03-01T00:00:00",
          "2021-03-08T00:00:00",
          "2021-03-15T00:00:00",
          "2021-03-22T00:00:00",
          "2021-03-29T00:00:00",
          "2021-04-05T00:00:00",
          "2021-04-12T00:00:00",
          "2021-04-19T00:00:00",
          "2021-04-26T00:00:00",
          "2021-05-03T00:00:00",
          "2021-05-10T00:00:00",
          "2021-05-17T00:00:00",
          "2021-05-24T00:00:00",
          "2021-05-31T00:00:00",
          "2021-06-07T00:00:00",
          "2021-06-14T00:00:00",
          "2021-06-21T00:00:00",
          "2021-06-28T00:00:00",
          "2021-07-05T00:00:00",
          "2021-07-12T00:00:00",
          "2021-07-19T00:00:00",
          "2021-07-26T00:00:00",
          "2021-08-02T00:00:00",
          "2021-08-09T00:00:00",
          "2021-08-16T00:00:00",
          "2021-08-23T00:00:00",
          "2021-08-30T00:00:00",
          "2021-09-06T00:00:00",
          "2021-09-13T00:00:00",
          "2021-09-20T00:00:00",
          "2021-09-27T00:00:00",
          "2021-10-04T00:00:00",
          "2021-10-11T00:00:00",
          "2021-10-18T00:00:00",
          "2021-10-25T00:00:00",
          "2021-11-01T00:00:00",
          "2021-11-08T00:00:00",
          "2021-11-15T00:00:00",
          "2021-11-22T00:00:00",
          "2021-11-29T00:00:00",
          "2021-12-06T00:00:00",
          "2021-12-13T00:00:00",
          "2021-12-20T00:00:00",
          "2021-12-27T00:00:00",
          "2022-01-03T00:00:00",
          "2022-01-10T00:00:00",
          "2022-01-17T00:00:00",
          "2022-01-24T00:00:00",
          "2022-01-31T00:00:00",
          "2022-02-07T00:00:00",
          "2022-02-14T00:00:00",
          "2022-02-21T00:00:00",
          "2022-02-28T00:00:00",
          "2022-03-07T00:00:00",
          "2022-03-14T00:00:00",
          "2022-03-21T00:00:00",
          "2022-03-28T00:00:00",
          "2022-04-04T00:00:00",
          "2022-04-11T00:00:00",
          "2022-04-18T00:00:00",
          "2022-04-25T00:00:00",
          "2022-05-02T00:00:00",
          "2022-05-09T00:00:00",
          "2022-05-16T00:00:00",
          "2022-05-23T00:00:00",
          "2022-05-30T00:00:00",
          "2022-06-06T00:00:00",
          "2022-06-13T00:00:00",
          "2022-06-20T00:00:00",
          "2022-06-27T00:00:00",
          "2022-07-04T00:00:00",
          "2022-07-11T00:00:00",
          "2022-07-18T00:00:00",
          "2022-07-25T00:00:00",
          "2022-08-01T00:00:00",
          "2022-08-08T00:00:00",
          "2022-08-15T00:00:00",
          "2022-08-22T00:00:00",
          "2022-08-29T00:00:00",
          "2022-09-05T00:00:00",
          "2022-09-12T00:00:00",
          "2022-09-19T00:00:00",
          "2022-09-26T00:00:00",
          "2022-10-03T00:00:00",
          "2022-10-10T00:00:00",
          "2022-10-17T00:00:00",
          "2022-10-24T00:00:00",
          "2022-10-31T00:00:00",
          "2022-11-07T00:00:00"
         ],
         "y": {
          "bdata": "iv8Qwj1ulUA6Lxsi4AyWQHO4aN/XQJlAdxlAtChzm0AzlQQ+5JuYQKCR4Oy7lJhAP4lnSSYXl0C4InZGLrKOQMy1DRXT0IhAusXSQRGijEBA/C5b9BONQJTIqu5w3Y5AFeNUILJ/jEBRe1xZOqKFQJDrXyX4gohAnjJLwbq0fEDWa9DuiNaEQCDV912SZ4VAYxmGj/bEhED8/HS2oOCGQMpi88Gh6oNAGVinDISdhEDOSTej2XSEQMoqOY9djINA/sxvLdcphEB9HHEmZguFQNhNd1NUs4lALA3wqRHEi0DkV0hdEuuRQB4ds/zL+pJAYFI30xrRlUCLWvZuio6ZQM5mNwkPaZ9AhvG1Ugi7oEAIbWt1d9GiQJri4CDV9aRAuFjUnpi/o0DTeAqwcd+jQOp+stG7AahAx+32gWksqUAQ/e2ItomnQP80qjIXBqVAOgaGq80ao0C0eseXa7GgQO5Gn4xbYp1A3fpEMoaGnEA0paHOvBihQGyTL8hNAKJA7EiaJnVdm0BYTeJTdVmYQITZ3w9x8ZZAuCE3Rd56lkBA6hKBYPISQHDPHeeBRTjAoJJBrGj4P0CY+sKFNitgwMQ29xhmgWjAHtdj2JIJccAppkfR+/l0wDbcnrPTsGVA+RHbUdAdckA48TXjQ0taQPCpfdJmfmNAmDCthIhPTkDQFGL5SGBFQH6arQ5BumJAAP+W+QolEEBM6y9kGdpfQARBnM0v2W1AGLh7GVdcTkCY+i4gVMBkQJBxiIkDAz3APATw4km4WMDd4MhZPNJjwHw/rZMzJGvAAMKOTBSY6z+g+uJM1wxSQFEPO12vV2PATLZlah4sWcAYbAISORpOwNAYvYqHFVfAkDkXkLlzSMD4MwQO7RFawKiFHm4NzVLAWMiHK3rLccDwdb3xcgthwMAfWgXmJmNAKBNXAu+XckC4LCDwLPx3QA==",
          "dtype": "f8"
         }
        }
       ],
       "layout": {
        "shapes": [
         {
          "line": {
           "dash": "dot"
          },
          "type": "line",
          "x0": 0,
          "x1": 1,
          "xref": "x domain",
          "y0": 0,
          "y1": 0,
          "yref": "y"
         }
        ],
        "template": {
         "data": {
          "bar": [
           {
            "error_x": {
             "color": "#2a3f5f"
            },
            "error_y": {
             "color": "#2a3f5f"
            },
            "marker": {
             "line": {
              "color": "#E5ECF6",
              "width": 0.5
             },
             "pattern": {
              "fillmode": "overlay",
              "size": 10,
              "solidity": 0.2
             }
            },
            "type": "bar"
           }
          ],
          "barpolar": [
           {
            "marker": {
             "line": {
              "color": "#E5ECF6",
              "width": 0.5
             },
             "pattern": {
              "fillmode": "overlay",
              "size": 10,
              "solidity": 0.2
             }
            },
            "type": "barpolar"
           }
          ],
          "carpet": [
           {
            "aaxis": {
             "endlinecolor": "#2a3f5f",
             "gridcolor": "white",
             "linecolor": "white",
             "minorgridcolor": "white",
             "startlinecolor": "#2a3f5f"
            },
            "baxis": {
             "endlinecolor": "#2a3f5f",
             "gridcolor": "white",
             "linecolor": "white",
             "minorgridcolor": "white",
             "startlinecolor": "#2a3f5f"
            },
            "type": "carpet"
           }
          ],
          "choropleth": [
           {
            "colorbar": {
             "outlinewidth": 0,
             "ticks": ""
            },
            "type": "choropleth"
           }
          ],
          "contour": [
           {
            "colorbar": {
             "outlinewidth": 0,
             "ticks": ""
            },
            "colorscale": [
             [
              0,
              "#0d0887"
             ],
             [
              0.1111111111111111,
              "#46039f"
             ],
             [
              0.2222222222222222,
              "#7201a8"
             ],
             [
              0.3333333333333333,
              "#9c179e"
             ],
             [
              0.4444444444444444,
              "#bd3786"
             ],
             [
              0.5555555555555556,
              "#d8576b"
             ],
             [
              0.6666666666666666,
              "#ed7953"
             ],
             [
              0.7777777777777778,
              "#fb9f3a"
             ],
             [
              0.8888888888888888,
              "#fdca26"
             ],
             [
              1,
              "#f0f921"
             ]
            ],
            "type": "contour"
           }
          ],
          "contourcarpet": [
           {
            "colorbar": {
             "outlinewidth": 0,
             "ticks": ""
            },
            "type": "contourcarpet"
           }
          ],
          "heatmap": [
           {
            "colorbar": {
             "outlinewidth": 0,
             "ticks": ""
            },
            "colorscale": [
             [
              0,
              "#0d0887"
             ],
             [
              0.1111111111111111,
              "#46039f"
             ],
             [
              0.2222222222222222,
              "#7201a8"
             ],
             [
              0.3333333333333333,
              "#9c179e"
             ],
             [
              0.4444444444444444,
              "#bd3786"
             ],
             [
              0.5555555555555556,
              "#d8576b"
             ],
             [
              0.6666666666666666,
              "#ed7953"
             ],
             [
              0.7777777777777778,
              "#fb9f3a"
             ],
             [
              0.8888888888888888,
              "#fdca26"
             ],
             [
              1,
              "#f0f921"
             ]
            ],
            "type": "heatmap"
           }
          ],
          "histogram": [
           {
            "marker": {
             "pattern": {
              "fillmode": "overlay",
              "size": 10,
              "solidity": 0.2
             }
            },
            "type": "histogram"
           }
          ],
          "histogram2d": [
           {
            "colorbar": {
             "outlinewidth": 0,
             "ticks": ""
            },
            "colorscale": [
             [
              0,
              "#0d0887"
             ],
             [
              0.1111111111111111,
              "#46039f"
             ],
             [
              0.2222222222222222,
              "#7201a8"
             ],
             [
              0.3333333333333333,
              "#9c179e"
             ],
             [
              0.4444444444444444,
              "#bd3786"
             ],
             [
              0.5555555555555556,
              "#d8576b"
             ],
             [
              0.6666666666666666,
              "#ed7953"
             ],
             [
              0.7777777777777778,
              "#fb9f3a"
             ],
             [
              0.8888888888888888,
              "#fdca26"
             ],
             [
              1,
              "#f0f921"
             ]
            ],
            "type": "histogram2d"
           }
          ],
          "histogram2dcontour": [
           {
            "colorbar": {
             "outlinewidth": 0,
             "ticks": ""
            },
            "colorscale": [
             [
              0,
              "#0d0887"
             ],
             [
              0.1111111111111111,
              "#46039f"
             ],
             [
              0.2222222222222222,
              "#7201a8"
             ],
             [
              0.3333333333333333,
              "#9c179e"
             ],
             [
              0.4444444444444444,
              "#bd3786"
             ],
             [
              0.5555555555555556,
              "#d8576b"
             ],
             [
              0.6666666666666666,
              "#ed7953"
             ],
             [
              0.7777777777777778,
              "#fb9f3a"
             ],
             [
              0.8888888888888888,
              "#fdca26"
             ],
             [
              1,
              "#f0f921"
             ]
            ],
            "type": "histogram2dcontour"
           }
          ],
          "mesh3d": [
           {
            "colorbar": {
             "outlinewidth": 0,
             "ticks": ""
            },
            "type": "mesh3d"
           }
          ],
          "parcoords": [
           {
            "line": {
             "colorbar": {
              "outlinewidth": 0,
              "ticks": ""
             }
            },
            "type": "parcoords"
           }
          ],
          "pie": [
           {
            "automargin": true,
            "type": "pie"
           }
          ],
          "scatter": [
           {
            "fillpattern": {
             "fillmode": "overlay",
             "size": 10,
             "solidity": 0.2
            },
            "type": "scatter"
           }
          ],
          "scatter3d": [
           {
            "line": {
             "colorbar": {
              "outlinewidth": 0,
              "ticks": ""
             }
            },
            "marker": {
             "colorbar": {
              "outlinewidth": 0,
              "ticks": ""
             }
            },
            "type": "scatter3d"
           }
          ],
          "scattercarpet": [
           {
            "marker": {
             "colorbar": {
              "outlinewidth": 0,
              "ticks": ""
             }
            },
            "type": "scattercarpet"
           }
          ],
          "scattergeo": [
           {
            "marker": {
             "colorbar": {
              "outlinewidth": 0,
              "ticks": ""
             }
            },
            "type": "scattergeo"
           }
          ],
          "scattergl": [
           {
            "marker": {
             "colorbar": {
              "outlinewidth": 0,
              "ticks": ""
             }
            },
            "type": "scattergl"
           }
          ],
          "scattermap": [
           {
            "marker": {
             "colorbar": {
              "outlinewidth": 0,
              "ticks": ""
             }
            },
            "type": "scattermap"
           }
          ],
          "scattermapbox": [
           {
            "marker": {
             "colorbar": {
              "outlinewidth": 0,
              "ticks": ""
             }
            },
            "type": "scattermapbox"
           }
          ],
          "scatterpolar": [
           {
            "marker": {
             "colorbar": {
              "outlinewidth": 0,
              "ticks": ""
             }
            },
            "type": "scatterpolar"
           }
          ],
          "scatterpolargl": [
           {
            "marker": {
             "colorbar": {
              "outlinewidth": 0,
              "ticks": ""
             }
            },
            "type": "scatterpolargl"
           }
          ],
          "scatterternary": [
           {
            "marker": {
             "colorbar": {
              "outlinewidth": 0,
              "ticks": ""
             }
            },
            "type": "scatterternary"
           }
          ],
          "surface": [
           {
            "colorbar": {
             "outlinewidth": 0,
             "ticks": ""
            },
            "colorscale": [
             [
              0,
              "#0d0887"
             ],
             [
              0.1111111111111111,
              "#46039f"
             ],
             [
              0.2222222222222222,
              "#7201a8"
             ],
             [
              0.3333333333333333,
              "#9c179e"
             ],
             [
              0.4444444444444444,
              "#bd3786"
             ],
             [
              0.5555555555555556,
              "#d8576b"
             ],
             [
              0.6666666666666666,
              "#ed7953"
             ],
             [
              0.7777777777777778,
              "#fb9f3a"
             ],
             [
              0.8888888888888888,
              "#fdca26"
             ],
             [
              1,
              "#f0f921"
             ]
            ],
            "type": "surface"
           }
          ],
          "table": [
           {
            "cells": {
             "fill": {
              "color": "#EBF0F8"
             },
             "line": {
              "color": "white"
             }
            },
            "header": {
             "fill": {
              "color": "#C8D4E3"
             },
             "line": {
              "color": "white"
             }
            },
            "type": "table"
           }
          ]
         },
         "layout": {
          "annotationdefaults": {
           "arrowcolor": "#2a3f5f",
           "arrowhead": 0,
           "arrowwidth": 1
          },
          "autotypenumbers": "strict",
          "coloraxis": {
           "colorbar": {
            "outlinewidth": 0,
            "ticks": ""
           }
          },
          "colorscale": {
           "diverging": [
            [
             0,
             "#8e0152"
            ],
            [
             0.1,
             "#c51b7d"
            ],
            [
             0.2,
             "#de77ae"
            ],
            [
             0.3,
             "#f1b6da"
            ],
            [
             0.4,
             "#fde0ef"
            ],
            [
             0.5,
             "#f7f7f7"
            ],
            [
             0.6,
             "#e6f5d0"
            ],
            [
             0.7,
             "#b8e186"
            ],
            [
             0.8,
             "#7fbc41"
            ],
            [
             0.9,
             "#4d9221"
            ],
            [
             1,
             "#276419"
            ]
           ],
           "sequential": [
            [
             0,
             "#0d0887"
            ],
            [
             0.1111111111111111,
             "#46039f"
            ],
            [
             0.2222222222222222,
             "#7201a8"
            ],
            [
             0.3333333333333333,
             "#9c179e"
            ],
            [
             0.4444444444444444,
             "#bd3786"
            ],
            [
             0.5555555555555556,
             "#d8576b"
            ],
            [
             0.6666666666666666,
             "#ed7953"
            ],
            [
             0.7777777777777778,
             "#fb9f3a"
            ],
            [
             0.8888888888888888,
             "#fdca26"
            ],
            [
             1,
             "#f0f921"
            ]
           ],
           "sequentialminus": [
            [
             0,
             "#0d0887"
            ],
            [
             0.1111111111111111,
             "#46039f"
            ],
            [
             0.2222222222222222,
             "#7201a8"
            ],
            [
             0.3333333333333333,
             "#9c179e"
            ],
            [
             0.4444444444444444,
             "#bd3786"
            ],
            [
             0.5555555555555556,
             "#d8576b"
            ],
            [
             0.6666666666666666,
             "#ed7953"
            ],
            [
             0.7777777777777778,
             "#fb9f3a"
            ],
            [
             0.8888888888888888,
             "#fdca26"
            ],
            [
             1,
             "#f0f921"
            ]
           ]
          },
          "colorway": [
           "#636efa",
           "#EF553B",
           "#00cc96",
           "#ab63fa",
           "#FFA15A",
           "#19d3f3",
           "#FF6692",
           "#B6E880",
           "#FF97FF",
           "#FECB52"
          ],
          "font": {
           "color": "#2a3f5f"
          },
          "geo": {
           "bgcolor": "white",
           "lakecolor": "white",
           "landcolor": "#E5ECF6",
           "showlakes": true,
           "showland": true,
           "subunitcolor": "white"
          },
          "hoverlabel": {
           "align": "left"
          },
          "hovermode": "closest",
          "mapbox": {
           "style": "light"
          },
          "paper_bgcolor": "white",
          "plot_bgcolor": "#E5ECF6",
          "polar": {
           "angularaxis": {
            "gridcolor": "white",
            "linecolor": "white",
            "ticks": ""
           },
           "bgcolor": "#E5ECF6",
           "radialaxis": {
            "gridcolor": "white",
            "linecolor": "white",
            "ticks": ""
           }
          },
          "scene": {
           "xaxis": {
            "backgroundcolor": "#E5ECF6",
            "gridcolor": "white",
            "gridwidth": 2,
            "linecolor": "white",
            "showbackground": true,
            "ticks": "",
            "zerolinecolor": "white"
           },
           "yaxis": {
            "backgroundcolor": "#E5ECF6",
            "gridcolor": "white",
            "gridwidth": 2,
            "linecolor": "white",
            "showbackground": true,
            "ticks": "",
            "zerolinecolor": "white"
           },
           "zaxis": {
            "backgroundcolor": "#E5ECF6",
            "gridcolor": "white",
            "gridwidth": 2,
            "linecolor": "white",
            "showbackground": true,
            "ticks": "",
            "zerolinecolor": "white"
           }
          },
          "shapedefaults": {
           "line": {
            "color": "#2a3f5f"
           }
          },
          "ternary": {
           "aaxis": {
            "gridcolor": "white",
            "linecolor": "white",
            "ticks": ""
           },
           "baxis": {
            "gridcolor": "white",
            "linecolor": "white",
            "ticks": ""
           },
           "bgcolor": "#E5ECF6",
           "caxis": {
            "gridcolor": "white",
            "linecolor": "white",
            "ticks": ""
           }
          },
          "title": {
           "x": 0.05
          },
          "xaxis": {
           "automargin": true,
           "gridcolor": "white",
           "linecolor": "white",
           "ticks": "",
           "title": {
            "standoff": 15
           },
           "zerolinecolor": "white",
           "zerolinewidth": 2
          },
          "yaxis": {
           "automargin": true,
           "gridcolor": "white",
           "linecolor": "white",
           "ticks": "",
           "title": {
            "standoff": 15
           },
           "zerolinecolor": "white",
           "zerolinewidth": 2
          }
         }
        },
        "title": {
         "text": "SARIMAX — Résidus dans le temps"
        },
        "xaxis": {
         "title": {
          "text": "Semaine"
         }
        },
        "yaxis": {
         "title": {
          "text": "Résidu"
         }
        }
       }
      }
     },
     "metadata": {},
     "output_type": "display_data"
    },
    {
     "data": {
      "application/vnd.plotly.v1+json": {
       "config": {
        "plotlyServerURL": "https://plot.ly"
       },
       "data": [
        {
         "line": {
          "width": 2
         },
         "mode": "lines",
         "name": "Observed",
         "type": "scatter",
         "x": [
          "2021-03-01T00:00:00.000000000",
          "2021-03-08T00:00:00.000000000",
          "2021-03-15T00:00:00.000000000",
          "2021-03-22T00:00:00.000000000",
          "2021-03-29T00:00:00.000000000",
          "2021-04-05T00:00:00.000000000",
          "2021-04-12T00:00:00.000000000",
          "2021-04-19T00:00:00.000000000",
          "2021-04-26T00:00:00.000000000",
          "2021-05-03T00:00:00.000000000",
          "2021-05-10T00:00:00.000000000",
          "2021-05-17T00:00:00.000000000",
          "2021-05-24T00:00:00.000000000",
          "2021-05-31T00:00:00.000000000",
          "2021-06-07T00:00:00.000000000",
          "2021-06-14T00:00:00.000000000",
          "2021-06-21T00:00:00.000000000",
          "2021-06-28T00:00:00.000000000",
          "2021-07-05T00:00:00.000000000",
          "2021-07-12T00:00:00.000000000",
          "2021-07-19T00:00:00.000000000",
          "2021-07-26T00:00:00.000000000",
          "2021-08-02T00:00:00.000000000",
          "2021-08-09T00:00:00.000000000",
          "2021-08-16T00:00:00.000000000",
          "2021-08-23T00:00:00.000000000",
          "2021-08-30T00:00:00.000000000",
          "2021-09-06T00:00:00.000000000",
          "2021-09-13T00:00:00.000000000",
          "2021-09-20T00:00:00.000000000",
          "2021-09-27T00:00:00.000000000",
          "2021-10-04T00:00:00.000000000",
          "2021-10-11T00:00:00.000000000",
          "2021-10-18T00:00:00.000000000",
          "2021-10-25T00:00:00.000000000",
          "2021-11-01T00:00:00.000000000",
          "2021-11-08T00:00:00.000000000",
          "2021-11-15T00:00:00.000000000",
          "2021-11-22T00:00:00.000000000",
          "2021-11-29T00:00:00.000000000",
          "2021-12-06T00:00:00.000000000",
          "2021-12-13T00:00:00.000000000",
          "2021-12-20T00:00:00.000000000",
          "2021-12-27T00:00:00.000000000",
          "2022-01-03T00:00:00.000000000",
          "2022-01-10T00:00:00.000000000",
          "2022-01-17T00:00:00.000000000",
          "2022-01-24T00:00:00.000000000",
          "2022-01-31T00:00:00.000000000",
          "2022-02-07T00:00:00.000000000",
          "2022-02-14T00:00:00.000000000",
          "2022-02-21T00:00:00.000000000",
          "2022-02-28T00:00:00.000000000",
          "2022-03-07T00:00:00.000000000",
          "2022-03-14T00:00:00.000000000",
          "2022-03-21T00:00:00.000000000",
          "2022-03-28T00:00:00.000000000",
          "2022-04-04T00:00:00.000000000",
          "2022-04-11T00:00:00.000000000",
          "2022-04-18T00:00:00.000000000",
          "2022-04-25T00:00:00.000000000",
          "2022-05-02T00:00:00.000000000",
          "2022-05-09T00:00:00.000000000",
          "2022-05-16T00:00:00.000000000",
          "2022-05-23T00:00:00.000000000",
          "2022-05-30T00:00:00.000000000",
          "2022-06-06T00:00:00.000000000",
          "2022-06-13T00:00:00.000000000",
          "2022-06-20T00:00:00.000000000",
          "2022-06-27T00:00:00.000000000",
          "2022-07-04T00:00:00.000000000",
          "2022-07-11T00:00:00.000000000",
          "2022-07-18T00:00:00.000000000",
          "2022-07-25T00:00:00.000000000",
          "2022-08-01T00:00:00.000000000",
          "2022-08-08T00:00:00.000000000",
          "2022-08-15T00:00:00.000000000",
          "2022-08-22T00:00:00.000000000",
          "2022-08-29T00:00:00.000000000",
          "2022-09-05T00:00:00.000000000",
          "2022-09-12T00:00:00.000000000",
          "2022-09-19T00:00:00.000000000",
          "2022-09-26T00:00:00.000000000",
          "2022-10-03T00:00:00.000000000",
          "2022-10-10T00:00:00.000000000",
          "2022-10-17T00:00:00.000000000",
          "2022-10-24T00:00:00.000000000",
          "2022-10-31T00:00:00.000000000",
          "2022-11-07T00:00:00.000000000"
         ],
         "y": {
          "bdata": "y9n5hgNEjEDcY8g15uaMQLNGmP1lFpBA2gZJ+neOkkCcFVETRUOTQNr4uNvy3pFA3gTfNJ1UkEBk7//CzhSGQLpi677YjH5A4Zc8luULe0BDPX0EVjWAQF/jAukVmYFAhvjyyBiVgUCkF/cX6EmBQMGOnNiVI4FATyXiMdx+f0DlfdqwR4+AQP7Et2YJtoJAYKD3CL1agkCG2fQ1nRyEQBGyAxmPfoJAseqDlwaLf0BC3ryCHgx4QMzY6WqfUnJAnbfS51qGbkBBo/CwezdrQH+kZ/4xMHBAzIzIwSZucUAbnXeM8At9QNHtgEbU4oBADHh4U6JxhkCBfTLOeFOMQJ5tf3hnRpFAEAqlinUjlEBdddMcn+eWQABP//75mJhAII6//t1blkAJtfAG0luYQAO5H0syRZ1AYv5lUo5inkBizRKuSf6bQE/Ex8zCSJpAfuVBelKElkBwrgbNayKUQOe3+ZCBNo1A6HlglWWriEB5L608T/uFQF/JXZ021YJAmUgGDNx6gkADewqI8taAQByonatPioBAZOcrUITkfEAdhAwmBkl7QO3YY32eUHtAzu+H4UugfEBMt1esUhh7QD4nOTdo/npAwIxz5c1sekDn2XJPI0R6QH+s+VRigXlALw0u4zcyd0CseadluD51QLh+8l4C5XdAp6kKsprcdkBAAlZ5CEV2QL4xJQ6g6ndA1c5y0aeld0BBW/ckymZ0QFpY5JWTdnVALrCmNrEUd0BqlhXU0R52QOd8iHjRx3RAO1h7r4w4c0DzKddG4jRtQKDxjp3hvmlAEjJvWW5+akAI9FcCyMhlQKf2dSL5QGVAwrJnCVFHaUCdXWM8jyRxQH7Qq+jsvnpAKNZn1vNjgkB1QTuvmuKHQE+UpVJrHI5Afv/mxRG8k0DAWrVrEi2ZQLMoR1yXeKBAJeb+j4heokDZOAd0e3uhQA==",
          "dtype": "f8"
         }
        },
        {
         "line": {
          "dash": "dot"
         },
         "mode": "lines",
         "name": "Fitted (in-sample)",
         "type": "scatter",
         "x": [
          "2021-03-01T00:00:00.000000000",
          "2021-03-08T00:00:00.000000000",
          "2021-03-15T00:00:00.000000000",
          "2021-03-22T00:00:00.000000000",
          "2021-03-29T00:00:00.000000000",
          "2021-04-05T00:00:00.000000000",
          "2021-04-12T00:00:00.000000000",
          "2021-04-19T00:00:00.000000000",
          "2021-04-26T00:00:00.000000000",
          "2021-05-03T00:00:00.000000000",
          "2021-05-10T00:00:00.000000000",
          "2021-05-17T00:00:00.000000000",
          "2021-05-24T00:00:00.000000000",
          "2021-05-31T00:00:00.000000000",
          "2021-06-07T00:00:00.000000000",
          "2021-06-14T00:00:00.000000000",
          "2021-06-21T00:00:00.000000000",
          "2021-06-28T00:00:00.000000000",
          "2021-07-05T00:00:00.000000000",
          "2021-07-12T00:00:00.000000000",
          "2021-07-19T00:00:00.000000000",
          "2021-07-26T00:00:00.000000000",
          "2021-08-02T00:00:00.000000000",
          "2021-08-09T00:00:00.000000000",
          "2021-08-16T00:00:00.000000000",
          "2021-08-23T00:00:00.000000000",
          "2021-08-30T00:00:00.000000000",
          "2021-09-06T00:00:00.000000000",
          "2021-09-13T00:00:00.000000000",
          "2021-09-20T00:00:00.000000000",
          "2021-09-27T00:00:00.000000000",
          "2021-10-04T00:00:00.000000000",
          "2021-10-11T00:00:00.000000000",
          "2021-10-18T00:00:00.000000000",
          "2021-10-25T00:00:00.000000000",
          "2021-11-01T00:00:00.000000000",
          "2021-11-08T00:00:00.000000000",
          "2021-11-15T00:00:00.000000000",
          "2021-11-22T00:00:00.000000000",
          "2021-11-29T00:00:00.000000000",
          "2021-12-06T00:00:00.000000000",
          "2021-12-13T00:00:00.000000000",
          "2021-12-20T00:00:00.000000000",
          "2021-12-27T00:00:00.000000000",
          "2022-01-03T00:00:00.000000000",
          "2022-01-10T00:00:00.000000000",
          "2022-01-17T00:00:00.000000000",
          "2022-01-24T00:00:00.000000000",
          "2022-01-31T00:00:00.000000000",
          "2022-02-07T00:00:00.000000000",
          "2022-02-14T00:00:00.000000000",
          "2022-02-21T00:00:00.000000000",
          "2022-02-28T00:00:00.000000000",
          "2022-03-07T00:00:00.000000000",
          "2022-03-14T00:00:00.000000000",
          "2022-03-21T00:00:00.000000000",
          "2022-03-28T00:00:00.000000000",
          "2022-04-04T00:00:00.000000000",
          "2022-04-11T00:00:00.000000000",
          "2022-04-18T00:00:00.000000000",
          "2022-04-25T00:00:00.000000000",
          "2022-05-02T00:00:00.000000000",
          "2022-05-09T00:00:00.000000000",
          "2022-05-16T00:00:00.000000000",
          "2022-05-23T00:00:00.000000000",
          "2022-05-30T00:00:00.000000000",
          "2022-06-06T00:00:00.000000000",
          "2022-06-13T00:00:00.000000000",
          "2022-06-20T00:00:00.000000000",
          "2022-06-27T00:00:00.000000000",
          "2022-07-04T00:00:00.000000000",
          "2022-07-11T00:00:00.000000000",
          "2022-07-18T00:00:00.000000000",
          "2022-07-25T00:00:00.000000000",
          "2022-08-01T00:00:00.000000000",
          "2022-08-08T00:00:00.000000000",
          "2022-08-15T00:00:00.000000000",
          "2022-08-22T00:00:00.000000000",
          "2022-08-29T00:00:00.000000000",
          "2022-09-05T00:00:00.000000000",
          "2022-09-12T00:00:00.000000000",
          "2022-09-19T00:00:00.000000000",
          "2022-09-26T00:00:00.000000000",
          "2022-10-03T00:00:00.000000000",
          "2022-10-10T00:00:00.000000000",
          "2022-10-17T00:00:00.000000000",
          "2022-10-24T00:00:00.000000000",
          "2022-10-31T00:00:00.000000000",
          "2022-11-07T00:00:00.000000000"
         ],
         "y": {
          "bdata": "kEpQ+u8wfcAu9dsctGV+wIDjoMPjVILAOiXuc2HJgcBd/s2qfGJ1wBhjnkQk13rAhBEiUiQKe8CoZuwGvzpxwN8IMGvNFHPAk/No7Tw4fsD6fWOtPL15wGnKTwu2iHrAHtXDrjLVdcCzjpUFSWFhwD5zDTOJfW3AiJW3hAtRRkDCt9f3BB1hwAyBALpHjFXAGshzNMxRU8CwGwEEHCBWwJAL+44qwUbAA4uVAwNgY8BatbHDlN1wwMh8iLMbxnTALT725oAQecBa52l0Dnt8wJh7Q1Q7m4HAxsYLSf4Mg8A64VR0LFCFwGpM5bLDEoXAtCz2UpMwhcCVN7oPnMmGwF/ybyFPRYzA+LGNNTalisBkyQacn3aNwDV2wkKwUpHATyPpPlMjkcA6eUiyIsaOwNFERVhFvpLALN2HsUT2k8C/LMljIxWTwF9LGTHXho/A6k2UuZFij8DxjRDF1oCKwPbVRIg1jo3A6b2UZ9MwkMCssuz+0TOXwChCsEEAlprAnySXIAcgksCtH7of+NuPwOwKInSSWI3Avk9YYnqDjsB0OAikPP16QOS11Zv21HxApNbDVsWgekBMmpz39paBQFBh2qGNn4NA77HrXjC7hUAIQF2QD5+HQMh8VPbwUW1A2OxLRZ5RVEC8+rPZzldtQIBTZ+udS2xAlAN1oakSc0Cmvyla/5hzQP7InA3/Gm1A2XKMpRNld0DcwNaXh+BoQGDfWLzuJ1pAKzl3UyZJc0A8MvyHT31nQAAEIbEBmHZASlk3KJ9meUBoBVBQj4N4QI4YnpiKcXpAUKMiRdZiakBw7cy3uIRZQPyC2D9UTHRA9EZNH7DuckAgq6Ne1ud0QFmLrWUnQoBAwUlpby/rg0D0x/tQ2CSLQIKyNIAGO5BAlPHIUPAumEB+Ce3JgE6bQG4N4/dRjJ5AwAO0r4oLoECEZgas6/ecQA==",
          "dtype": "f8"
         }
        },
        {
         "line": {
          "color": "firebrick"
         },
         "mode": "lines",
         "name": "Forecast (26w)",
         "type": "scatter",
         "x": [
          "2022-11-14T00:00:00.000000000",
          "2022-11-21T00:00:00.000000000",
          "2022-11-28T00:00:00.000000000",
          "2022-12-05T00:00:00.000000000",
          "2022-12-12T00:00:00.000000000",
          "2022-12-19T00:00:00.000000000",
          "2022-12-26T00:00:00.000000000",
          "2023-01-02T00:00:00.000000000",
          "2023-01-09T00:00:00.000000000",
          "2023-01-16T00:00:00.000000000",
          "2023-01-23T00:00:00.000000000",
          "2023-01-30T00:00:00.000000000",
          "2023-02-06T00:00:00.000000000",
          "2023-02-13T00:00:00.000000000",
          "2023-02-20T00:00:00.000000000",
          "2023-02-27T00:00:00.000000000",
          "2023-03-06T00:00:00.000000000",
          "2023-03-13T00:00:00.000000000",
          "2023-03-20T00:00:00.000000000",
          "2023-03-27T00:00:00.000000000",
          "2023-04-03T00:00:00.000000000",
          "2023-04-10T00:00:00.000000000",
          "2023-04-17T00:00:00.000000000",
          "2023-04-24T00:00:00.000000000",
          "2023-05-01T00:00:00.000000000",
          "2023-05-08T00:00:00.000000000",
          "2023-05-15T00:00:00.000000000",
          "2023-05-22T00:00:00.000000000",
          "2023-05-29T00:00:00.000000000",
          "2023-06-05T00:00:00.000000000",
          "2023-06-12T00:00:00.000000000",
          "2023-06-19T00:00:00.000000000",
          "2023-06-26T00:00:00.000000000",
          "2023-07-03T00:00:00.000000000",
          "2023-07-10T00:00:00.000000000",
          "2023-07-17T00:00:00.000000000",
          "2023-07-24T00:00:00.000000000",
          "2023-07-31T00:00:00.000000000",
          "2023-08-07T00:00:00.000000000",
          "2023-08-14T00:00:00.000000000",
          "2023-08-21T00:00:00.000000000",
          "2023-08-28T00:00:00.000000000",
          "2023-09-04T00:00:00.000000000",
          "2023-09-11T00:00:00.000000000",
          "2023-09-18T00:00:00.000000000",
          "2023-09-25T00:00:00.000000000",
          "2023-10-02T00:00:00.000000000",
          "2023-10-09T00:00:00.000000000",
          "2023-10-16T00:00:00.000000000",
          "2023-10-23T00:00:00.000000000",
          "2023-10-30T00:00:00.000000000",
          "2023-11-06T00:00:00.000000000"
         ],
         "y": {
          "bdata": "TIfFPPsmoEBbRD8J6FmkQDBqVWQ4laVAcDAeFigDpEBYH6xqK5ChQBJPsxwJa59A9aXZSoq5mkBqZY39U9qWQEiH1vjDH5ZAwkR4ufzrm0AhjzcCZNydQCUfFu6CWpVAf5EBcch3kkCai6KCCTGRQL5BnQ2825BAaKCbQFMDkEDgsyuOMk+QQJAoaktnhZRA5pF7ArVTlEAM9Hzv75KQQO+eBAKq9Y5AhYLn6dREikDB+GAedPSKQKM5RdRW+IhAmVrK/59Gh0BSGab8PpGJQBIqFA+loohAtW5Q83z4hUAhKLSLG7aCQJ07RtUdS4FASCnLpA2AdkDhVbjSxXmFQEpGV2vTvIBAj2mg3hGng0CoTfwYM9p/QAxXY0ZoFXZACIowfjZFdEDc9etk+89wQLJWemf+I31ADuXDYbisgUCI2kGKlnJ3QIgHcCcsVIJAwDJcZVTrhUDiNAzB5D6NQFtlvwEsfpBAGH+HKT+YkkAYUOgUQuuWQJDAzFD+oJlAEu5Ob7UgnkDeIqAUknqjQNGP3Ooh0KZAGOBa0Q9XpkA=",
          "dtype": "f8"
         }
        },
        {
         "fill": "toself",
         "fillcolor": "rgba(255,0,0,0.1)",
         "line": {
          "width": 0
         },
         "name": "95% CI",
         "showlegend": true,
         "type": "scatter",
         "x": [
          "2022-11-14T00:00:00",
          "2022-11-21T00:00:00",
          "2022-11-28T00:00:00",
          "2022-12-05T00:00:00",
          "2022-12-12T00:00:00",
          "2022-12-19T00:00:00",
          "2022-12-26T00:00:00",
          "2023-01-02T00:00:00",
          "2023-01-09T00:00:00",
          "2023-01-16T00:00:00",
          "2023-01-23T00:00:00",
          "2023-01-30T00:00:00",
          "2023-02-06T00:00:00",
          "2023-02-13T00:00:00",
          "2023-02-20T00:00:00",
          "2023-02-27T00:00:00",
          "2023-03-06T00:00:00",
          "2023-03-13T00:00:00",
          "2023-03-20T00:00:00",
          "2023-03-27T00:00:00",
          "2023-04-03T00:00:00",
          "2023-04-10T00:00:00",
          "2023-04-17T00:00:00",
          "2023-04-24T00:00:00",
          "2023-05-01T00:00:00",
          "2023-05-08T00:00:00",
          "2023-05-15T00:00:00",
          "2023-05-22T00:00:00",
          "2023-05-29T00:00:00",
          "2023-06-05T00:00:00",
          "2023-06-12T00:00:00",
          "2023-06-19T00:00:00",
          "2023-06-26T00:00:00",
          "2023-07-03T00:00:00",
          "2023-07-10T00:00:00",
          "2023-07-17T00:00:00",
          "2023-07-24T00:00:00",
          "2023-07-31T00:00:00",
          "2023-08-07T00:00:00",
          "2023-08-14T00:00:00",
          "2023-08-21T00:00:00",
          "2023-08-28T00:00:00",
          "2023-09-04T00:00:00",
          "2023-09-11T00:00:00",
          "2023-09-18T00:00:00",
          "2023-09-25T00:00:00",
          "2023-10-02T00:00:00",
          "2023-10-09T00:00:00",
          "2023-10-16T00:00:00",
          "2023-10-23T00:00:00",
          "2023-10-30T00:00:00",
          "2023-11-06T00:00:00",
          "2023-11-06T00:00:00",
          "2023-10-30T00:00:00",
          "2023-10-23T00:00:00",
          "2023-10-16T00:00:00",
          "2023-10-09T00:00:00",
          "2023-10-02T00:00:00",
          "2023-09-25T00:00:00",
          "2023-09-18T00:00:00",
          "2023-09-11T00:00:00",
          "2023-09-04T00:00:00",
          "2023-08-28T00:00:00",
          "2023-08-21T00:00:00",
          "2023-08-14T00:00:00",
          "2023-08-07T00:00:00",
          "2023-07-31T00:00:00",
          "2023-07-24T00:00:00",
          "2023-07-17T00:00:00",
          "2023-07-10T00:00:00",
          "2023-07-03T00:00:00",
          "2023-06-26T00:00:00",
          "2023-06-19T00:00:00",
          "2023-06-12T00:00:00",
          "2023-06-05T00:00:00",
          "2023-05-29T00:00:00",
          "2023-05-22T00:00:00",
          "2023-05-15T00:00:00",
          "2023-05-08T00:00:00",
          "2023-05-01T00:00:00",
          "2023-04-24T00:00:00",
          "2023-04-17T00:00:00",
          "2023-04-10T00:00:00",
          "2023-04-03T00:00:00",
          "2023-03-27T00:00:00",
          "2023-03-20T00:00:00",
          "2023-03-13T00:00:00",
          "2023-03-06T00:00:00",
          "2023-02-27T00:00:00",
          "2023-02-20T00:00:00",
          "2023-02-13T00:00:00",
          "2023-02-06T00:00:00",
          "2023-01-30T00:00:00",
          "2023-01-23T00:00:00",
          "2023-01-16T00:00:00",
          "2023-01-09T00:00:00",
          "2023-01-02T00:00:00",
          "2022-12-26T00:00:00",
          "2022-12-19T00:00:00",
          "2022-12-12T00:00:00",
          "2022-12-05T00:00:00",
          "2022-11-28T00:00:00",
          "2022-11-21T00:00:00",
          "2022-11-14T00:00:00"
         ],
         "y": [
          1743.570912943639,
          2281.033410468214,
          2438.6903554031715,
          2237.6585086645473,
          1924.1650131386277,
          1686.8391134640929,
          1386.4652660739687,
          1138.662236831034,
          1092.0215938473038,
          1463.0770161792948,
          1587.1778796254487,
          1042.7080762707467,
          858.0259585023202,
          776.3395023134176,
          755.0138606025325,
          700.9115160653002,
          719.8795853813901,
          989.4310885398374,
          977.0069822013882,
          736.8145269302543,
          666.7882265797834,
          516.6841766802725,
          538.6369134861127,
          475.122611979336,
          420.9083395184637,
          494.2359702450471,
          464.41081008487384,
          379.14122587814455,
          274.8436649756407,
          229.46978186294274,
          36.083545905705876,
          363.30180824102746,
          211.68344699845824,
          304.9639403259699,
          185.71768991812013,
          29.41817267043092,
          0.4060188556947537,
          -54.92090953851408,
          142.32982532110992,
          241.6702451405053,
          51.241967864287915,
          262.6017745144392,
          377.4964238723007,
          611.9419112523906,
          731.6231903348771,
          866.1418967773009,
          1142.8947477988352,
          1316.3285700199851,
          1604.257397338203,
          2169.3655285284794,
          2596.146459894732,
          2535.611109044912,
          3183.450679208596,
          3243.9860300584155,
          2817.205098692163,
          2252.0969675018864,
          1964.1681401836684,
          1790.7343179625184,
          1513.981466940984,
          1379.4627604985603,
          1259.7814814160738,
          1025.335994035984,
          910.4413446781225,
          699.0815380279712,
          889.5098153041886,
          790.1693954847933,
          592.9186606251692,
          648.245589019378,
          677.2577428341142,
          833.5572600818034,
          952.8035104896533,
          859.5230171621415,
          1011.1413784047108,
          683.9231160693892,
          877.3093520266261,
          922.6832351393241,
          1026.980796041828,
          1112.2503802485571,
          1142.0755404087304,
          1068.747909682147,
          1122.9621821430194,
          1186.4764836497961,
          1164.523746843956,
          1314.627796743467,
          1384.6540970939375,
          1624.8465523650714,
          1637.2706587035207,
          1367.7191555450734,
          1348.7510862289835,
          1402.8534307662144,
          1424.1790724770995,
          1505.865528666002,
          1690.5476464344285,
          2235.0174497891308,
          2110.9165863429766,
          1739.8611640109857,
          1786.501806994716,
          2034.3048362376505,
          2334.6786836277747,
          2572.0045833023096,
          2885.498078828229,
          3086.5299255668533,
          2928.8729806318956,
          2391.410483107321
         ]
        }
       ],
       "layout": {
        "shapes": [
         {
          "line": {
           "color": "red",
           "dash": "dash",
           "width": 2
          },
          "type": "line",
          "x0": "2020-03-01",
          "x1": "2020-03-01",
          "xref": "x",
          "y0": 0,
          "y1": 1,
          "yref": "paper"
         },
         {
          "line": {
           "color": "green",
           "dash": "dash",
           "width": 2
          },
          "type": "line",
          "x0": "2021-01-01",
          "x1": "2021-01-01",
          "xref": "x",
          "y0": 0,
          "y1": 1,
          "yref": "paper"
         }
        ],
        "template": {
         "data": {
          "bar": [
           {
            "error_x": {
             "color": "#2a3f5f"
            },
            "error_y": {
             "color": "#2a3f5f"
            },
            "marker": {
             "line": {
              "color": "#E5ECF6",
              "width": 0.5
             },
             "pattern": {
              "fillmode": "overlay",
              "size": 10,
              "solidity": 0.2
             }
            },
            "type": "bar"
           }
          ],
          "barpolar": [
           {
            "marker": {
             "line": {
              "color": "#E5ECF6",
              "width": 0.5
             },
             "pattern": {
              "fillmode": "overlay",
              "size": 10,
              "solidity": 0.2
             }
            },
            "type": "barpolar"
           }
          ],
          "carpet": [
           {
            "aaxis": {
             "endlinecolor": "#2a3f5f",
             "gridcolor": "white",
             "linecolor": "white",
             "minorgridcolor": "white",
             "startlinecolor": "#2a3f5f"
            },
            "baxis": {
             "endlinecolor": "#2a3f5f",
             "gridcolor": "white",
             "linecolor": "white",
             "minorgridcolor": "white",
             "startlinecolor": "#2a3f5f"
            },
            "type": "carpet"
           }
          ],
          "choropleth": [
           {
            "colorbar": {
             "outlinewidth": 0,
             "ticks": ""
            },
            "type": "choropleth"
           }
          ],
          "contour": [
           {
            "colorbar": {
             "outlinewidth": 0,
             "ticks": ""
            },
            "colorscale": [
             [
              0,
              "#0d0887"
             ],
             [
              0.1111111111111111,
              "#46039f"
             ],
             [
              0.2222222222222222,
              "#7201a8"
             ],
             [
              0.3333333333333333,
              "#9c179e"
             ],
             [
              0.4444444444444444,
              "#bd3786"
             ],
             [
              0.5555555555555556,
              "#d8576b"
             ],
             [
              0.6666666666666666,
              "#ed7953"
             ],
             [
              0.7777777777777778,
              "#fb9f3a"
             ],
             [
              0.8888888888888888,
              "#fdca26"
             ],
             [
              1,
              "#f0f921"
             ]
            ],
            "type": "contour"
           }
          ],
          "contourcarpet": [
           {
            "colorbar": {
             "outlinewidth": 0,
             "ticks": ""
            },
            "type": "contourcarpet"
           }
          ],
          "heatmap": [
           {
            "colorbar": {
             "outlinewidth": 0,
             "ticks": ""
            },
            "colorscale": [
             [
              0,
              "#0d0887"
             ],
             [
              0.1111111111111111,
              "#46039f"
             ],
             [
              0.2222222222222222,
              "#7201a8"
             ],
             [
              0.3333333333333333,
              "#9c179e"
             ],
             [
              0.4444444444444444,
              "#bd3786"
             ],
             [
              0.5555555555555556,
              "#d8576b"
             ],
             [
              0.6666666666666666,
              "#ed7953"
             ],
             [
              0.7777777777777778,
              "#fb9f3a"
             ],
             [
              0.8888888888888888,
              "#fdca26"
             ],
             [
              1,
              "#f0f921"
             ]
            ],
            "type": "heatmap"
           }
          ],
          "histogram": [
           {
            "marker": {
             "pattern": {
              "fillmode": "overlay",
              "size": 10,
              "solidity": 0.2
             }
            },
            "type": "histogram"
           }
          ],
          "histogram2d": [
           {
            "colorbar": {
             "outlinewidth": 0,
             "ticks": ""
            },
            "colorscale": [
             [
              0,
              "#0d0887"
             ],
             [
              0.1111111111111111,
              "#46039f"
             ],
             [
              0.2222222222222222,
              "#7201a8"
             ],
             [
              0.3333333333333333,
              "#9c179e"
             ],
             [
              0.4444444444444444,
              "#bd3786"
             ],
             [
              0.5555555555555556,
              "#d8576b"
             ],
             [
              0.6666666666666666,
              "#ed7953"
             ],
             [
              0.7777777777777778,
              "#fb9f3a"
             ],
             [
              0.8888888888888888,
              "#fdca26"
             ],
             [
              1,
              "#f0f921"
             ]
            ],
            "type": "histogram2d"
           }
          ],
          "histogram2dcontour": [
           {
            "colorbar": {
             "outlinewidth": 0,
             "ticks": ""
            },
            "colorscale": [
             [
              0,
              "#0d0887"
             ],
             [
              0.1111111111111111,
              "#46039f"
             ],
             [
              0.2222222222222222,
              "#7201a8"
             ],
             [
              0.3333333333333333,
              "#9c179e"
             ],
             [
              0.4444444444444444,
              "#bd3786"
             ],
             [
              0.5555555555555556,
              "#d8576b"
             ],
             [
              0.6666666666666666,
              "#ed7953"
             ],
             [
              0.7777777777777778,
              "#fb9f3a"
             ],
             [
              0.8888888888888888,
              "#fdca26"
             ],
             [
              1,
              "#f0f921"
             ]
            ],
            "type": "histogram2dcontour"
           }
          ],
          "mesh3d": [
           {
            "colorbar": {
             "outlinewidth": 0,
             "ticks": ""
            },
            "type": "mesh3d"
           }
          ],
          "parcoords": [
           {
            "line": {
             "colorbar": {
              "outlinewidth": 0,
              "ticks": ""
             }
            },
            "type": "parcoords"
           }
          ],
          "pie": [
           {
            "automargin": true,
            "type": "pie"
           }
          ],
          "scatter": [
           {
            "fillpattern": {
             "fillmode": "overlay",
             "size": 10,
             "solidity": 0.2
            },
            "type": "scatter"
           }
          ],
          "scatter3d": [
           {
            "line": {
             "colorbar": {
              "outlinewidth": 0,
              "ticks": ""
             }
            },
            "marker": {
             "colorbar": {
              "outlinewidth": 0,
              "ticks": ""
             }
            },
            "type": "scatter3d"
           }
          ],
          "scattercarpet": [
           {
            "marker": {
             "colorbar": {
              "outlinewidth": 0,
              "ticks": ""
             }
            },
            "type": "scattercarpet"
           }
          ],
          "scattergeo": [
           {
            "marker": {
             "colorbar": {
              "outlinewidth": 0,
              "ticks": ""
             }
            },
            "type": "scattergeo"
           }
          ],
          "scattergl": [
           {
            "marker": {
             "colorbar": {
              "outlinewidth": 0,
              "ticks": ""
             }
            },
            "type": "scattergl"
           }
          ],
          "scattermap": [
           {
            "marker": {
             "colorbar": {
              "outlinewidth": 0,
              "ticks": ""
             }
            },
            "type": "scattermap"
           }
          ],
          "scattermapbox": [
           {
            "marker": {
             "colorbar": {
              "outlinewidth": 0,
              "ticks": ""
             }
            },
            "type": "scattermapbox"
           }
          ],
          "scatterpolar": [
           {
            "marker": {
             "colorbar": {
              "outlinewidth": 0,
              "ticks": ""
             }
            },
            "type": "scatterpolar"
           }
          ],
          "scatterpolargl": [
           {
            "marker": {
             "colorbar": {
              "outlinewidth": 0,
              "ticks": ""
             }
            },
            "type": "scatterpolargl"
           }
          ],
          "scatterternary": [
           {
            "marker": {
             "colorbar": {
              "outlinewidth": 0,
              "ticks": ""
             }
            },
            "type": "scatterternary"
           }
          ],
          "surface": [
           {
            "colorbar": {
             "outlinewidth": 0,
             "ticks": ""
            },
            "colorscale": [
             [
              0,
              "#0d0887"
             ],
             [
              0.1111111111111111,
              "#46039f"
             ],
             [
              0.2222222222222222,
              "#7201a8"
             ],
             [
              0.3333333333333333,
              "#9c179e"
             ],
             [
              0.4444444444444444,
              "#bd3786"
             ],
             [
              0.5555555555555556,
              "#d8576b"
             ],
             [
              0.6666666666666666,
              "#ed7953"
             ],
             [
              0.7777777777777778,
              "#fb9f3a"
             ],
             [
              0.8888888888888888,
              "#fdca26"
             ],
             [
              1,
              "#f0f921"
             ]
            ],
            "type": "surface"
           }
          ],
          "table": [
           {
            "cells": {
             "fill": {
              "color": "#EBF0F8"
             },
             "line": {
              "color": "white"
             }
            },
            "header": {
             "fill": {
              "color": "#C8D4E3"
             },
             "line": {
              "color": "white"
             }
            },
            "type": "table"
           }
          ]
         },
         "layout": {
          "annotationdefaults": {
           "arrowcolor": "#2a3f5f",
           "arrowhead": 0,
           "arrowwidth": 1
          },
          "autotypenumbers": "strict",
          "coloraxis": {
           "colorbar": {
            "outlinewidth": 0,
            "ticks": ""
           }
          },
          "colorscale": {
           "diverging": [
            [
             0,
             "#8e0152"
            ],
            [
             0.1,
             "#c51b7d"
            ],
            [
             0.2,
             "#de77ae"
            ],
            [
             0.3,
             "#f1b6da"
            ],
            [
             0.4,
             "#fde0ef"
            ],
            [
             0.5,
             "#f7f7f7"
            ],
            [
             0.6,
             "#e6f5d0"
            ],
            [
             0.7,
             "#b8e186"
            ],
            [
             0.8,
             "#7fbc41"
            ],
            [
             0.9,
             "#4d9221"
            ],
            [
             1,
             "#276419"
            ]
           ],
           "sequential": [
            [
             0,
             "#0d0887"
            ],
            [
             0.1111111111111111,
             "#46039f"
            ],
            [
             0.2222222222222222,
             "#7201a8"
            ],
            [
             0.3333333333333333,
             "#9c179e"
            ],
            [
             0.4444444444444444,
             "#bd3786"
            ],
            [
             0.5555555555555556,
             "#d8576b"
            ],
            [
             0.6666666666666666,
             "#ed7953"
            ],
            [
             0.7777777777777778,
             "#fb9f3a"
            ],
            [
             0.8888888888888888,
             "#fdca26"
            ],
            [
             1,
             "#f0f921"
            ]
           ],
           "sequentialminus": [
            [
             0,
             "#0d0887"
            ],
            [
             0.1111111111111111,
             "#46039f"
            ],
            [
             0.2222222222222222,
             "#7201a8"
            ],
            [
             0.3333333333333333,
             "#9c179e"
            ],
            [
             0.4444444444444444,
             "#bd3786"
            ],
            [
             0.5555555555555556,
             "#d8576b"
            ],
            [
             0.6666666666666666,
             "#ed7953"
            ],
            [
             0.7777777777777778,
             "#fb9f3a"
            ],
            [
             0.8888888888888888,
             "#fdca26"
            ],
            [
             1,
             "#f0f921"
            ]
           ]
          },
          "colorway": [
           "#636efa",
           "#EF553B",
           "#00cc96",
           "#ab63fa",
           "#FFA15A",
           "#19d3f3",
           "#FF6692",
           "#B6E880",
           "#FF97FF",
           "#FECB52"
          ],
          "font": {
           "color": "#2a3f5f"
          },
          "geo": {
           "bgcolor": "white",
           "lakecolor": "white",
           "landcolor": "#E5ECF6",
           "showlakes": true,
           "showland": true,
           "subunitcolor": "white"
          },
          "hoverlabel": {
           "align": "left"
          },
          "hovermode": "closest",
          "mapbox": {
           "style": "light"
          },
          "paper_bgcolor": "white",
          "plot_bgcolor": "#E5ECF6",
          "polar": {
           "angularaxis": {
            "gridcolor": "white",
            "linecolor": "white",
            "ticks": ""
           },
           "bgcolor": "#E5ECF6",
           "radialaxis": {
            "gridcolor": "white",
            "linecolor": "white",
            "ticks": ""
           }
          },
          "scene": {
           "xaxis": {
            "backgroundcolor": "#E5ECF6",
            "gridcolor": "white",
            "gridwidth": 2,
            "linecolor": "white",
            "showbackground": true,
            "ticks": "",
            "zerolinecolor": "white"
           },
           "yaxis": {
            "backgroundcolor": "#E5ECF6",
            "gridcolor": "white",
            "gridwidth": 2,
            "linecolor": "white",
            "showbackground": true,
            "ticks": "",
            "zerolinecolor": "white"
           },
           "zaxis": {
            "backgroundcolor": "#E5ECF6",
            "gridcolor": "white",
            "gridwidth": 2,
            "linecolor": "white",
            "showbackground": true,
            "ticks": "",
            "zerolinecolor": "white"
           }
          },
          "shapedefaults": {
           "line": {
            "color": "#2a3f5f"
           }
          },
          "ternary": {
           "aaxis": {
            "gridcolor": "white",
            "linecolor": "white",
            "ticks": ""
           },
           "baxis": {
            "gridcolor": "white",
            "linecolor": "white",
            "ticks": ""
           },
           "bgcolor": "#E5ECF6",
           "caxis": {
            "gridcolor": "white",
            "linecolor": "white",
            "ticks": ""
           }
          },
          "title": {
           "x": 0.05
          },
          "xaxis": {
           "automargin": true,
           "gridcolor": "white",
           "linecolor": "white",
           "ticks": "",
           "title": {
            "standoff": 15
           },
           "zerolinecolor": "white",
           "zerolinewidth": 2
          },
          "yaxis": {
           "automargin": true,
           "gridcolor": "white",
           "linecolor": "white",
           "ticks": "",
           "title": {
            "standoff": 15
           },
           "zerolinecolor": "white",
           "zerolinewidth": 2
          }
         }
        },
        "title": {
         "text": "RSV — Observed, Fitted & 26-week Forecast (SARIMAX (0, 0, 0)×(0, 1, 1, 52))"
        },
        "xaxis": {
         "title": {
          "text": "Semaine"
         }
        },
        "yaxis": {
         "title": {
          "text": "RSV (taux hebdo)"
         }
        }
       }
      }
     },
     "metadata": {},
     "output_type": "display_data"
    },
    {
     "name": "stdout",
     "output_type": "stream",
     "text": [
      "\n",
      "📌 Récap SARIMAX\n",
      "- Meilleur ordre trouvé: (0, 0, 0)×(0, 1, 1, 52)\n",
      "- AIC=22.0 | BIC=nan | Pseudo-R²≈-5.053\n",
      "- DW=0.036 | Ljung–Box p (8/12/24) = [np.float64(0.0), np.float64(0.0), np.float64(0.0)]\n"
     ]
    }
   ],
   "source": [
    "# ==========================================\n",
    "# 📦 SARIMAX — saison 52 + exogènes + dummies ITS\n",
    "# ==========================================\n",
    "import numpy as np, pandas as pd, statsmodels.api as sm\n",
    "from statsmodels.tsa.statespace.sarimax import SARIMAX\n",
    "from statsmodels.stats.diagnostic import acorr_ljungbox\n",
    "import plotly.graph_objects as go\n",
    "\n",
    "assert \"df_opt\" in globals() and len(df_opt) > 40, \"df_opt introuvable ou trop court.\"\n",
    "assert \"COVID_START\" in globals() and \"VACC_START\" in globals(), \"Constantes COVID_START / VACC_START manquantes.\"\n",
    "\n",
    "# --- 1) Préparation des variables exogènes pour SARIMAX\n",
    "df_sx = df_opt.copy().sort_index()\n",
    "df_sx.index = pd.to_datetime(df_sx.index)\n",
    "\n",
    "# Dummies ITS + tendance (pas de sin/cos, la saison est prise par la partie SARIMA)\n",
    "df_sx[\"post_covid\"] = (df_sx.index >= COVID_START).astype(int)\n",
    "df_sx[\"post_vacc\"]  = (df_sx.index >= VACC_START).astype(int)\n",
    "df_sx[\"t\"] = np.arange(len(df_sx))\n",
    "df_sx[\"t_post_covid\"] = df_sx[\"t\"] * df_sx[\"post_covid\"]\n",
    "\n",
    "# Matrice exogènes (tu peux ajuster la liste selon besoins)\n",
    "exog_cols = [\n",
    "    \"cov12_lag\", \"MNP_lag\", \"work_lag\",\n",
    "    \"tmean_z\", \"vacc_x_mnp\",\n",
    "    \"post_covid\", \"post_vacc\", \"t_post_covid\", \"t\"\n",
    "]\n",
    "# Nettoyage / alignement\n",
    "exog_sx = df_sx[exog_cols].astype(float).replace([np.inf, -np.inf], np.nan)\n",
    "y = df_sx[\"RSV\"].astype(float)\n",
    "\n",
    "# Supprime les lignes avec NaN (l'ARIMA n'aime pas)\n",
    "mask = (~y.isna()) & (~exog_sx.isna().any(axis=1))\n",
    "y = y.loc[mask]\n",
    "exog_sx = exog_sx.loc[mask]\n",
    "\n",
    "print(f\"✅ Données SARIMAX prêtes : y={len(y)} | X={exog_sx.shape}\")\n",
    "\n",
    "# --- 2) Petite grid-search AIC sur (p,d,q)×(P,D,Q,52)\n",
    "# D=1 (saisonnier) capte bien le cycle hebdo.\n",
    "candidate_pdq  = [(p,d,q) for p in [0,1,2] for d in [0,1] for q in [0,1,2]]\n",
    "candidate_PDQ  = [(P,1,Q,52) for P in [0,1] for Q in [0,1]]  # D=1 saisonnier\n",
    "best = {\"aic\": np.inf, \"order\": None, \"seasonal_order\": None, \"model\": None}\n",
    "\n",
    "for order in candidate_pdq:\n",
    "    for seasonal_order in candidate_PDQ:\n",
    "        try:\n",
    "            mod = SARIMAX(\n",
    "                endog=y,\n",
    "                exog=exog_sx,\n",
    "                order=order,\n",
    "                seasonal_order=seasonal_order,\n",
    "                enforce_stationarity=False,\n",
    "                enforce_invertibility=False\n",
    "            ).fit(disp=False)\n",
    "            if mod.aic < best[\"aic\"]:\n",
    "                best.update({\"aic\": mod.aic, \"order\": order, \"seasonal_order\": seasonal_order, \"model\": mod})\n",
    "        except Exception as e:\n",
    "            # Certains combos peuvent ne pas converger — on ignore proprement\n",
    "            continue\n",
    "\n",
    "assert best[\"model\"] is not None, \"Aucun modèle SARIMAX n'a convergé.\"\n",
    "sarimax_best = best[\"model\"]\n",
    "print(f\"🥇 Meilleur SARIMAX: order={best['order']} seasonal_order={best['seasonal_order']} | AIC={best['aic']:.1f}\")\n",
    "\n",
    "# --- 3) Résumé concis\n",
    "print(\"=== SARIMAX — Résumé concis ===\")\n",
    "print(f\"LogLik={sarimax_best.llf:.2f} | AIC={sarimax_best.aic:.1f} | BIC={sarimax_best.bic:.1f}\")\n",
    "# Pas de R² pour SARIMAX; on peut rapporter un \"pseudo-R²\" simple si besoin :\n",
    "y_fit = sarimax_best.fittedvalues.reindex(y.index)\n",
    "ss_res = float(((y - y_fit)**2).sum())\n",
    "ss_tot = float(((y - y.mean())**2).sum())\n",
    "pseudo_r2 = 1 - ss_res/ss_tot if ss_tot > 0 else np.nan\n",
    "print(f\"Pseudo-R² (naïf) ≈ {pseudo_r2:.3f}\")\n",
    "\n",
    "# --- 4) Diagnostics résiduels\n",
    "resid = sarimax_best.resid\n",
    "dw = sm.stats.stattools.durbin_watson(resid)\n",
    "lb = acorr_ljungbox(resid, lags=[8,12,24], return_df=True).rename(columns={\"lb_stat\":\"stat\",\"lb_pvalue\":\"p\"})\n",
    "\n",
    "print(f\"Durbin–Watson: {dw:.3f}\")\n",
    "print(\"Ljung–Box p-values (lags 8/12/24):\")\n",
    "display(lb)\n",
    "\n",
    "# --- 5) Traces : Observed vs Fitted\n",
    "fig1 = go.Figure()\n",
    "fig1.add_trace(go.Scatter(x=y.index, y=y, mode=\"lines\", name=\"Observed\", line=dict(width=2)))\n",
    "fig1.add_trace(go.Scatter(x=y_fit.index, y=y_fit, mode=\"lines\", name=\"Fitted (SARIMAX)\", line=dict(dash=\"dot\")))\n",
    "\n",
    "# Lignes verticales (utiliser shapes pour compat Plotly)\n",
    "for date_str, color, label in [\n",
    "    (str(COVID_START.date()), \"red\", \"COVID start\"),\n",
    "    (str(VACC_START.date()), \"green\", \"Vacc start\")\n",
    "]:\n",
    "    fig1.add_shape(\n",
    "        type=\"line\", x0=date_str, x1=date_str, y0=0, y1=1,\n",
    "        xref=\"x\", yref=\"paper\", line=dict(color=color, dash=\"dash\", width=2),\n",
    "    )\n",
    "    fig1.add_annotation(\n",
    "        x=date_str, y=1.02, xref=\"x\", yref=\"paper\", showarrow=False,\n",
    "        text=label, font=dict(color=color, size=11)\n",
    "    )\n",
    "\n",
    "fig1.update_layout(\n",
    "    title=f\"RSV — Observed vs Fitted (SARIMAX {best['order']}×{best['seasonal_order']})\",\n",
    "    xaxis_title=\"Semaine\", yaxis_title=\"RSV (taux hebdo)\"\n",
    ")\n",
    "fig1.show()\n",
    "\n",
    "# --- 6) Résidus dans le temps\n",
    "fig2 = go.Figure()\n",
    "fig2.add_trace(go.Scatter(x=resid.index, y=resid, mode=\"lines\", name=\"Residuals\"))\n",
    "fig2.add_hline(y=0, line_dash=\"dot\")\n",
    "fig2.update_layout(title=\"SARIMAX — Résidus dans le temps\", xaxis_title=\"Semaine\", yaxis_title=\"Résidu\")\n",
    "fig2.show()\n",
    "\n",
    "# --- 7) Projection (26 semaines) avec exogènes figées au niveau récent\n",
    "h = 52  # ~6 mois\n",
    "future_idx = pd.date_range(y.index.max() + pd.Timedelta(days=7), periods=h, freq=\"W-MON\")\n",
    "\n",
    "# Prépare exog futures en figeant au dernier niveau (ou moyenne récente)\n",
    "exog_future = pd.DataFrame(index=future_idx, columns=exog_cols, dtype=float)\n",
    "\n",
    "# Remplissage par la moyenne des 12 dernières valeurs observées (plus stable que \"last\")\n",
    "tail_window = 12 if len(exog_sx) >= 12 else len(exog_sx)\n",
    "means_recent = exog_sx.tail(tail_window).mean()\n",
    "for c in exog_cols:\n",
    "    exog_future[c] = float(means_recent.get(c, 0.0))\n",
    "\n",
    "# Recalcule les dummies ITS futures en fonction des dates futures\n",
    "exog_future[\"post_covid\"] = (exog_future.index >= COVID_START).astype(int)\n",
    "exog_future[\"post_vacc\"]  = (exog_future.index >= VACC_START).astype(int)\n",
    "\n",
    "# Pour t et t_post_covid, on continue la numérotation\n",
    "t_start = int(df_sx[\"t\"].iloc[-1]) + 1\n",
    "exog_future[\"t\"] = np.arange(t_start, t_start + h)\n",
    "exog_future[\"t_post_covid\"] = exog_future[\"t\"] * exog_future[\"post_covid\"]\n",
    "\n",
    "# Alignement colonnes (au cas où)\n",
    "exog_future = exog_future[exog_cols]\n",
    "\n",
    "# Prévision\n",
    "forecast_res = sarimax_best.get_forecast(steps=h, exog=exog_future)\n",
    "y_forecast = forecast_res.predicted_mean\n",
    "conf_int = forecast_res.conf_int(alpha=0.05)  # 95%\n",
    "\n",
    "# --- 8) Figure Observé + Fitted + Forecast\n",
    "fig3 = go.Figure()\n",
    "fig3.add_trace(go.Scatter(x=y.index, y=y, mode=\"lines\", name=\"Observed\", line=dict(width=2)))\n",
    "fig3.add_trace(go.Scatter(x=y_fit.index, y=y_fit, mode=\"lines\", name=\"Fitted (in-sample)\", line=dict(dash=\"dot\")))\n",
    "fig3.add_trace(go.Scatter(x=y_forecast.index, y=y_forecast, mode=\"lines\", name=\"Forecast (26w)\", line=dict(color=\"firebrick\")))\n",
    "\n",
    "# Bande de confiance\n",
    "fig3.add_trace(go.Scatter(\n",
    "    x=list(y_forecast.index) + list(y_forecast.index[::-1]),\n",
    "    y=list(conf_int.iloc[:,0]) + list(conf_int.iloc[:,1][::-1]),\n",
    "    fill='toself', fillcolor='rgba(255,0,0,0.1)', line=dict(width=0),\n",
    "    name='95% CI', showlegend=True\n",
    "))\n",
    "\n",
    "# Marqueurs COVID/Vaccin\n",
    "for date_str, color, label in [\n",
    "    (str(COVID_START.date()), \"red\", \"COVID start\"),\n",
    "    (str(VACC_START.date()), \"green\", \"Vacc start\")\n",
    "]:\n",
    "    fig3.add_shape(\n",
    "        type=\"line\", x0=date_str, x1=date_str, y0=0, y1=1,\n",
    "        xref=\"x\", yref=\"paper\", line=dict(color=color, dash=\"dash\", width=2),\n",
    "    )\n",
    "\n",
    "fig3.update_layout(\n",
    "    title=f\"RSV — Observed, Fitted & 26-week Forecast (SARIMAX {best['order']}×{best['seasonal_order']})\",\n",
    "    xaxis_title=\"Semaine\", yaxis_title=\"RSV (taux hebdo)\"\n",
    ")\n",
    "fig3.show()\n",
    "\n",
    "# --- 9) Mini récap\n",
    "print(\"\\n📌 Récap SARIMAX\")\n",
    "print(f\"- Meilleur ordre trouvé: {best['order']}×{best['seasonal_order']}\")\n",
    "print(f\"- AIC={sarimax_best.aic:.1f} | BIC={sarimax_best.bic:.1f} | Pseudo-R²≈{pseudo_r2:.3f}\")\n",
    "print(f\"- DW={dw:.3f} | Ljung–Box p (8/12/24) = {list(lb['p'].round(3).values)}\")"
   ]
  },
  {
   "cell_type": "code",
   "execution_count": null,
   "id": "70c02aa1",
   "metadata": {},
   "outputs": [
    {
     "name": "stdout",
     "output_type": "stream",
     "text": [
      "✅ Données prêtes — CORE: y=89 | X=(89, 4) | FULL: y=89 | X=(89, 9)\n",
      "🥇 CORE SARIMAX: order=(0, 1, 3) seasonal=(0, 1, 0, 52) | BIC=394.6 | AIC=382.9\n"
     ]
    }
   ],
   "source": [
    "# ==========================================\n",
    "# 🚀 SARIMAX optimisé — saison 52 + exogènes + dummies ITS\n",
    "# ==========================================\n",
    "import numpy as np, pandas as pd, statsmodels.api as sm\n",
    "from statsmodels.tsa.statespace.sarimax import SARIMAX\n",
    "from statsmodels.stats.diagnostic import acorr_ljungbox\n",
    "import plotly.graph_objects as go\n",
    "\n",
    "# --- Préconditions\n",
    "assert \"df_opt\" in globals() and len(df_opt) > 40, \"df_opt introuvable ou trop court.\"\n",
    "assert \"COVID_START\" in globals() and \"VACC_START\" in globals(), \"Constantes COVID_START / VACC_START manquantes.\"\n",
    "\n",
    "# --- 1) Préparation propre (index datetime, dummies ITS, tendance)\n",
    "df_sx = df_opt.copy().sort_index()\n",
    "df_sx.index = pd.to_datetime(df_sx.index)\n",
    "\n",
    "df_sx[\"post_covid\"] = (df_sx.index >= COVID_START).astype(int)\n",
    "df_sx[\"post_vacc\"]  = (df_sx.index >= VACC_START).astype(int)\n",
    "df_sx[\"t\"] = np.arange(len(df_sx))\n",
    "df_sx[\"t_post_covid\"] = df_sx[\"t\"] * df_sx[\"post_covid\"]\n",
    "\n",
    "# NB: la saisonnalité (52) est gérée par la partie SARIMA, pas besoin de sin/cos ici\n",
    "exog_full_cols = [\n",
    "    \"cov12_lag\", \"MNP_lag\", \"work_lag\",\n",
    "    \"tmean_z\", \"vacc_x_mnp\",\n",
    "    \"post_covid\", \"post_vacc\", \"t_post_covid\", \"t\"\n",
    "]\n",
    "exog_core_cols = [\"cov12_lag\", \"MNP_lag\", \"post_covid\", \"post_vacc\"]  # plus stable au tuning\n",
    "\n",
    "def make_xy(cols):\n",
    "    X = df_sx[cols].astype(float).replace([np.inf, -np.inf], np.nan)\n",
    "    y = df_sx[\"RSV\"].astype(float)\n",
    "    m = (~y.isna()) & (~X.isna().any(axis=1))\n",
    "    return y.loc[m], X.loc[m]\n",
    "\n",
    "y_core, X_core = make_xy(exog_core_cols)\n",
    "y_full, X_full = make_xy(exog_full_cols)\n",
    "\n",
    "print(f\"✅ Données prêtes — CORE: y={len(y_core)} | X={X_core.shape} | FULL: y={len(y_full)} | X={X_full.shape}\")\n",
    "\n",
    "# --- 2) Grid-search hiérarchique (BIC d’abord, AIC second)\n",
    "# Forcer d=1 et D=1 (structure trend + saison RSV). Étendre p,q,P,Q pour mieux capter l'AR/MA.\n",
    "candidate_pdq  = [(p,1,q) for p in range(0,4) for q in range(0,4)]      # d = 1\n",
    "candidate_PDQ  = [(P,1,Q,52) for P in [0,1] for Q in [0,1]]             # D = 1\n",
    "def fit_best(y, X, label):\n",
    "    best = {\"bic\": np.inf, \"aic\": np.inf, \"order\": None, \"seasonal_order\": None, \"model\": None}\n",
    "    for (p, d, q) in candidate_pdq:\n",
    "        for (P, D, Q, s) in candidate_PDQ:\n",
    "            try:\n",
    "                mod = SARIMAX(\n",
    "                    endog=y, exog=X, order=(p,d,q), seasonal_order=(P,D,Q,s),\n",
    "                    enforce_stationarity=False, enforce_invertibility=False\n",
    "                ).fit(disp=False)\n",
    "                bic, aic = float(mod.bic), float(mod.aic)\n",
    "                # Sélection par BIC, puis AIC à BIC égal (±1e-6)\n",
    "                better = (bic < best[\"bic\"] - 1e-6) or (abs(bic - best[\"bic\"]) <= 1e-6 and aic < best[\"aic\"] - 1e-6)\n",
    "                if better:\n",
    "                    best.update({\"bic\": bic, \"aic\": aic, \"order\": (p,d,q), \"seasonal_order\": (P,D,Q,s), \"model\": mod})\n",
    "            except Exception:\n",
    "                continue\n",
    "    assert best[\"model\"] is not None, f\"Aucun modèle {label} n'a convergé.\"\n",
    "    print(f\"🥇 {label}: order={best['order']} seasonal={best['seasonal_order']} | BIC={best['bic']:.1f} | AIC={best['aic']:.1f}\")\n",
    "    return best\n",
    "\n",
    "# Phase 1: tuner sur CORE (plus stable)\n",
    "best_core = fit_best(y_core, X_core, \"CORE SARIMAX\")\n",
    "\n",
    "# Phase 2: tenter d'améliorer avec FULL en utilisant le même voisinage\n",
    "# On part de l'ordre CORE puis on re-fit en FULL; si FULL ne bat pas le BIC, on garde CORE.\n",
    "try:\n",
    "    mod_seed_full = SARIMAX(\n",
    "        endog=y_full, exog=X_full,\n",
    "        order=best_core[\"order\"], seasonal_order=best_core[\"seasonal_order\"],\n",
    "        enforce_stationarity=False, enforce_invertibility=False\n",
    "    ).fit(disp=False)\n",
    "    best_full = {\n",
    "        \"model\": mod_seed_full,\n",
    "        \"order\": best_core[\"order\"],\n",
    "        \"seasonal_order\": best_core[\"seasonal_order\"],\n",
    "        \"bic\": float(mod_seed_full.bic),\n",
    "        \"aic\": float(mod_seed_full.aic),\n",
    "    }\n",
    "    print(f\"🔁 FULL (seed CORE): BIC={best_full['bic']:.1f} | AIC={best_full['aic']:.1f}\")\n",
    "except Exception:\n",
    "    best_full = {\"bic\": np.inf, \"aic\": np.inf, \"model\": None}\n",
    "\n",
    "# Petite exploration locale autour de l’ordre CORE mais en FULL (±1 sur p,q,P,Q)\n",
    "def neighbors(order, seasonal):\n",
    "    p,d,q = order\n",
    "    P,D,Q,s = seasonal\n",
    "    for dp in [-1,0,1]:\n",
    "        for dq in [-1,0,1]:\n",
    "            for dP in [-1,0,1]:\n",
    "                for dQ in [-1,0,1]:\n",
    "                    np_, nq_ = p+dp, q+dq\n",
    "                    nP_, nQ_ = P+dP, Q+dQ\n",
    "                    if np_ < 0 or nq_ < 0 or nP_ < 0 or nQ_ < 0: \n",
    "                        continue\n",
    "                    yield (np_, d, nq_), (nP_, D, nQ_, s)\n",
    "\n",
    "for ord_, seas_ in neighbors(best_core[\"order\"], best_core[\"seasonal_order\"]):\n",
    "    try:\n",
    "        mod = SARIMAX(\n",
    "            endog=y_full, exog=X_full, order=ord_, seasonal_order=seas_,\n",
    "            enforce_stationarity=False, enforce_invertibility=False\n",
    "        ).fit(disp=False)\n",
    "        bic, aic = float(mod.bic), float(mod.aic)\n",
    "        if (bic < best_full[\"bic\"] - 1e-6) or (abs(bic - best_full[\"bic\"]) <= 1e-6 and aic < best_full[\"aic\"] - 1e-6):\n",
    "            best_full.update({\"model\": mod, \"order\": ord_, \"seasonal_order\": seas_, \"bic\": bic, \"aic\": aic})\n",
    "    except Exception:\n",
    "        pass\n",
    "\n",
    "# Choix final : FULL si meilleur BIC, sinon CORE\n",
    "use_full = (best_full[\"model\"] is not None) and (best_full[\"bic\"] < best_core[\"bic\"] - 1e-6)\n",
    "best = best_full if use_full else best_core\n",
    "label_final = \"FULL\" if use_full else \"CORE\"\n",
    "sarimax_best = best[\"model\"]\n",
    "print(f\"✅ Modèle retenu: {label_final} | order={best['order']} seasonal={best['seasonal_order']} | BIC={best['bic']:.1f} | AIC={best['aic']:.1f}\")\n",
    "\n",
    "# --- 3) Résumé concis & pseudo-R²\n",
    "try:\n",
    "    bic_val = float(sarimax_best.bic)\n",
    "except Exception:\n",
    "    bic_val = np.nan\n",
    "\n",
    "# fitted aligné\n",
    "y = (y_full if use_full else y_core)\n",
    "X = (X_full if use_full else X_core)\n",
    "y_fit = sarimax_best.fittedvalues\n",
    "if not isinstance(y_fit, pd.Series):\n",
    "    y_fit = pd.Series(y_fit, index=y.index)\n",
    "y_fit = y_fit.reindex(y.index)\n",
    "\n",
    "ss_res = float(((y - y_fit)**2).sum())\n",
    "ss_tot = float(((y - y.mean())**2).sum())\n",
    "pseudo_r2 = 1 - ss_res/ss_tot if ss_tot > 0 else np.nan\n",
    "\n",
    "print(\"=== SARIMAX — Résumé concis ===\")\n",
    "print(f\"LogLik={sarimax_best.llf:.2f} | AIC={sarimax_best.aic:.1f} | BIC={bic_val:.1f} | Pseudo-R² ≈ {pseudo_r2:.3f}\")\n",
    "\n",
    "# --- 4) Diagnostics résiduels\n",
    "resid = sarimax_best.resid\n",
    "if not isinstance(resid, pd.Series):\n",
    "    resid = pd.Series(resid, index=y.index)\n",
    "dw = sm.stats.stattools.durbin_watson(resid)\n",
    "lb = acorr_ljungbox(resid, lags=[8,12,24], return_df=True).rename(columns={\"lb_stat\":\"stat\",\"lb_pvalue\":\"p\"})\n",
    "print(f\"Durbin–Watson: {dw:.3f}\")\n",
    "print(\"Ljung–Box p-values (lags 8/12/24):\")\n",
    "display(lb)\n",
    "\n",
    "# --- 5) Tracé Observed vs Fitted (période complète affichée si df_base dispo)\n",
    "fig1 = go.Figure()\n",
    "if \"df_base\" in globals() and isinstance(df_base.index, pd.DatetimeIndex):\n",
    "    fig1.add_trace(go.Scatter(\n",
    "        x=df_base.index, y=df_base[\"RSV\"], mode=\"lines\", name=\"Observed (full)\", line=dict(width=2, color=\"black\")\n",
    "    ))\n",
    "fig1.add_trace(go.Scatter(x=y.index, y=y, mode=\"lines\", name=\"Observed (model window)\", line=dict(width=2)))\n",
    "fig1.add_trace(go.Scatter(x=y_fit.index, y=y_fit, mode=\"lines\", name=\"Fitted (SARIMAX)\", line=dict(dash=\"dot\")))\n",
    "\n",
    "for date_str, color, label in [\n",
    "    (str(COVID_START.date()), \"red\", \"COVID start\"),\n",
    "    (str(VACC_START.date()), \"green\", \"Vacc start\")\n",
    "]:\n",
    "    fig1.add_shape(type=\"line\", x0=date_str, x1=date_str, y0=0, y1=1, xref=\"x\", yref=\"paper\",\n",
    "                   line=dict(color=color, dash=\"dash\", width=2))\n",
    "    fig1.add_annotation(x=date_str, y=1.02, xref=\"x\", yref=\"paper\", showarrow=False, text=label, font=dict(color=color, size=11))\n",
    "\n",
    "if \"df_base\" in globals() and len(df_base) > 0:\n",
    "    fig1.update_xaxes(range=[str(df_base.index.min().date()), str(df_base.index.max().date())])\n",
    "\n",
    "fig1.update_layout(\n",
    "    title=f\"RSV — Observed vs Fitted (SARIMAX {best['order']}×{best['seasonal_order']} | {label_final})\",\n",
    "    xaxis_title=\"Semaine\", yaxis_title=\"RSV (taux hebdo)\"\n",
    ")\n",
    "fig1.show()\n",
    "\n",
    "# --- 6) Résidus dans le temps\n",
    "fig2 = go.Figure()\n",
    "fig2.add_trace(go.Scatter(x=resid.index, y=resid, mode=\"lines\", name=\"Residuals\"))\n",
    "fig2.add_hline(y=0, line_dash=\"dot\")\n",
    "fig2.update_layout(title=\"SARIMAX — Résidus dans le temps\", xaxis_title=\"Semaine\", yaxis_title=\"Résidu\")\n",
    "fig2.show()\n",
    "\n",
    "# --- 7) Projection 52 semaines (exog figées sur moyenne 12 dernières semaines)\n",
    "h = 52\n",
    "future_idx = pd.date_range(y.index.max() + pd.Timedelta(days=7), periods=h, freq=\"W-MON\")\n",
    "exog_cols_used = list(X.columns)\n",
    "exog_future = pd.DataFrame(index=future_idx, columns=exog_cols_used, dtype=float)\n",
    "means_recent = X.tail(min(12, len(X))).mean(numeric_only=True)\n",
    "for c in exog_cols_used:\n",
    "    exog_future[c] = float(means_recent.get(c, 0.0))\n",
    "\n",
    "# Recalcule dummies futures si elles existent\n",
    "if \"post_covid\" in exog_cols_used:\n",
    "    exog_future[\"post_covid\"] = (exog_future.index >= COVID_START).astype(int)\n",
    "if \"post_vacc\" in exog_cols_used:\n",
    "    exog_future[\"post_vacc\"]  = (exog_future.index >= VACC_START).astype(int)\n",
    "if \"t\" in exog_cols_used:\n",
    "    t_start = int(df_sx[\"t\"].iloc[-1]) + 1\n",
    "    exog_future[\"t\"] = np.arange(t_start, t_start + h)\n",
    "if \"t_post_covid\" in exog_cols_used:\n",
    "    exog_future[\"t_post_covid\"] = exog_future.get(\"t\", 0) * exog_future.get(\"post_covid\", 0)\n",
    "\n",
    "forecast_res = sarimax_best.get_forecast(steps=h, exog=exog_future)\n",
    "y_forecast = forecast_res.predicted_mean\n",
    "conf_int = forecast_res.conf_int(alpha=0.05)\n",
    "\n",
    "# --- 8) Figure Observé + Fitted + Forecast (période complète)\n",
    "fig3 = go.Figure()\n",
    "if \"df_base\" in globals() and isinstance(df_base.index, pd.DatetimeIndex):\n",
    "    fig3.add_trace(go.Scatter(x=df_base.index, y=df_base[\"RSV\"], mode=\"lines\", name=\"Observed (full)\", line=dict(width=2, color=\"black\")))\n",
    "fig3.add_trace(go.Scatter(x=y.index, y=y, mode=\"lines\", name=\"Observed (model window)\", line=dict(width=2)))\n",
    "fig3.add_trace(go.Scatter(x=y_fit.index, y=y_fit, mode=\"lines\", name=\"Fitted (in-sample)\", line=dict(dash=\"dot\")))\n",
    "fig3.add_trace(go.Scatter(x=y_forecast.index, y=y_forecast, mode=\"lines\", name=\"Forecast (52w)\", line=dict(color=\"firebrick\")))\n",
    "fig3.add_trace(go.Scatter(\n",
    "    x=list(y_forecast.index) + list(y_forecast.index[::-1]),\n",
    "    y=list(conf_int.iloc[:,0]) + list(conf_int.iloc[:,1][::-1]),\n",
    "    fill='toself', fillcolor='rgba(255,0,0,0.1)', line=dict(width=0), name='95% CI', showlegend=True\n",
    "))\n",
    "for date_str, color, label in [\n",
    "    (str(COVID_START.date()), \"red\", \"COVID start\"),\n",
    "    (str(VACC_START.date()), \"green\", \"Vacc start\")\n",
    "]:\n",
    "    fig3.add_shape(type=\"line\", x0=date_str, x1=date_str, y0=0, y1=1, xref=\"x\", yref=\"paper\",\n",
    "                   line=dict(color=color, dash=\"dash\", width=2))\n",
    "if \"df_base\" in globals() and len(df_base) > 0:\n",
    "    fig3.update_xaxes(range=[str(df_base.index.min().date()), str(df_base.index.max().date())])\n",
    "fig3.update_layout(\n",
    "    title=f\"RSV — Observed, Fitted & 52-week Forecast (SARIMAX {best['order']}×{best['seasonal_order']} | {label_final})\",\n",
    "    xaxis_title=\"Semaine\", yaxis_title=\"RSV (taux hebdo)\"\n",
    ")\n",
    "fig3.show()\n",
    "\n",
    "# --- 9) Mini récap\n",
    "print(\"\\n📌 Récap SARIMAX\")\n",
    "print(f\"- Modèle retenu: {label_final} | order={best['order']}×{best['seasonal_order']}\")\n",
    "print(f\"- AIC={sarimax_best.aic:.1f} | BIC={bic_val:.1f} | Pseudo-R²≈{pseudo_r2:.3f}\")\n",
    "print(f\"- DW={dw:.3f} | Ljung–Box p (8/12/24) = {list(lb['p'].round(3).values)}\")"
   ]
  },
  {
   "cell_type": "code",
   "execution_count": null,
   "id": "26948d80",
   "metadata": {},
   "outputs": [
    {
     "data": {
      "text/html": [
       "<div>\n",
       "<style scoped>\n",
       "    .dataframe tbody tr th:only-of-type {\n",
       "        vertical-align: middle;\n",
       "    }\n",
       "\n",
       "    .dataframe tbody tr th {\n",
       "        vertical-align: top;\n",
       "    }\n",
       "\n",
       "    .dataframe thead th {\n",
       "        text-align: right;\n",
       "    }\n",
       "</style>\n",
       "<table border=\"1\" class=\"dataframe\">\n",
       "  <thead>\n",
       "    <tr style=\"text-align: right;\">\n",
       "      <th></th>\n",
       "      <th>Model</th>\n",
       "      <th>AIC</th>\n",
       "      <th>BIC</th>\n",
       "      <th>R2_adj/Pseudo</th>\n",
       "      <th>DW</th>\n",
       "    </tr>\n",
       "  </thead>\n",
       "  <tbody>\n",
       "    <tr>\n",
       "      <th>0</th>\n",
       "      <td>OLS</td>\n",
       "      <td>1473.015901</td>\n",
       "      <td>1488.525705</td>\n",
       "      <td>0.529536</td>\n",
       "      <td>0.149750</td>\n",
       "    </tr>\n",
       "    <tr>\n",
       "      <th>1</th>\n",
       "      <td>ITS</td>\n",
       "      <td>1477.960602</td>\n",
       "      <td>1488.300472</td>\n",
       "      <td>NaN</td>\n",
       "      <td>0.092035</td>\n",
       "    </tr>\n",
       "    <tr>\n",
       "      <th>2</th>\n",
       "      <td>SARIMAX</td>\n",
       "      <td>365.483390</td>\n",
       "      <td>386.993198</td>\n",
       "      <td>0.904201</td>\n",
       "      <td>1.217207</td>\n",
       "    </tr>\n",
       "  </tbody>\n",
       "</table>\n",
       "</div>"
      ],
      "text/plain": [
       "     Model          AIC          BIC  R2_adj/Pseudo        DW\n",
       "0      OLS  1473.015901  1488.525705       0.529536  0.149750\n",
       "1      ITS  1477.960602  1488.300472            NaN  0.092035\n",
       "2  SARIMAX   365.483390   386.993198       0.904201  1.217207"
      ]
     },
     "metadata": {},
     "output_type": "display_data"
    }
   ],
   "source": [
    "recap = pd.DataFrame([\n",
    "    [\"OLS\", ols.aic, ols.bic, ols.rsquared_adj, sm.stats.stattools.durbin_watson(ols.resid)],\n",
    "    [\"ITS\", its.aic, its.bic, None, sm.stats.stattools.durbin_watson(its.resid)],\n",
    "    [\"SARIMAX\", sarimax_best.aic, sarimax_best.bic, pseudo_r2, dw]\n",
    "], columns=[\"Model\", \"AIC\", \"BIC\", \"R2_adj/Pseudo\", \"DW\"])\n",
    "display(recap)"
   ]
  },
  {
   "cell_type": "code",
   "execution_count": null,
   "id": "7e9365da",
   "metadata": {},
   "outputs": [
    {
     "name": "stdout",
     "output_type": "stream",
     "text": [
      "✅ Base ITS v2 prête (98 semaines)\n",
      "✅ Scénarios simulés : ['Observed', 'COVID • RealMNP • NoVaccine', 'COVID • KeepMNP • NoVaccine', 'NoCOVID • NoMNP • NoVaccine', 'NoCOVID • KeepMNP • NoVaccine']\n"
     ]
    },
    {
     "data": {
      "application/vnd.plotly.v1+json": {
       "config": {
        "plotlyServerURL": "https://plot.ly"
       },
       "data": [
        {
         "line": {
          "color": "black",
          "width": 3
         },
         "mode": "lines",
         "name": "Observed RSV",
         "type": "scatter",
         "x": [
          "2021-01-25T00:00:00",
          "2021-02-01T00:00:00",
          "2021-02-08T00:00:00",
          "2021-02-15T00:00:00",
          "2021-02-22T00:00:00",
          "2021-03-01T00:00:00",
          "2021-03-08T00:00:00",
          "2021-03-15T00:00:00",
          "2021-03-22T00:00:00",
          "2021-03-29T00:00:00",
          "2021-04-05T00:00:00",
          "2021-04-12T00:00:00",
          "2021-04-19T00:00:00",
          "2021-04-26T00:00:00",
          "2021-05-03T00:00:00",
          "2021-05-10T00:00:00",
          "2021-05-17T00:00:00",
          "2021-05-24T00:00:00",
          "2021-05-31T00:00:00",
          "2021-06-07T00:00:00",
          "2021-06-14T00:00:00",
          "2021-06-21T00:00:00",
          "2021-06-28T00:00:00",
          "2021-07-05T00:00:00",
          "2021-07-12T00:00:00",
          "2021-07-19T00:00:00",
          "2021-07-26T00:00:00",
          "2021-08-02T00:00:00",
          "2021-08-09T00:00:00",
          "2021-08-16T00:00:00",
          "2021-08-23T00:00:00",
          "2021-08-30T00:00:00",
          "2021-09-06T00:00:00",
          "2021-09-13T00:00:00",
          "2021-09-20T00:00:00",
          "2021-09-27T00:00:00",
          "2021-10-04T00:00:00",
          "2021-10-11T00:00:00",
          "2021-10-18T00:00:00",
          "2021-10-25T00:00:00",
          "2021-11-01T00:00:00",
          "2021-11-08T00:00:00",
          "2021-11-15T00:00:00",
          "2021-11-22T00:00:00",
          "2021-11-29T00:00:00",
          "2021-12-06T00:00:00",
          "2021-12-13T00:00:00",
          "2021-12-20T00:00:00",
          "2021-12-27T00:00:00",
          "2022-01-03T00:00:00",
          "2022-01-10T00:00:00",
          "2022-01-17T00:00:00",
          "2022-01-24T00:00:00",
          "2022-01-31T00:00:00",
          "2022-02-07T00:00:00",
          "2022-02-14T00:00:00",
          "2022-02-21T00:00:00",
          "2022-02-28T00:00:00",
          "2022-03-07T00:00:00",
          "2022-03-14T00:00:00",
          "2022-03-21T00:00:00",
          "2022-03-28T00:00:00",
          "2022-04-04T00:00:00",
          "2022-04-11T00:00:00",
          "2022-04-18T00:00:00",
          "2022-04-25T00:00:00",
          "2022-05-02T00:00:00",
          "2022-05-09T00:00:00",
          "2022-05-16T00:00:00",
          "2022-05-23T00:00:00",
          "2022-05-30T00:00:00",
          "2022-06-06T00:00:00",
          "2022-06-13T00:00:00",
          "2022-06-20T00:00:00",
          "2022-06-27T00:00:00",
          "2022-07-04T00:00:00",
          "2022-07-11T00:00:00",
          "2022-07-18T00:00:00",
          "2022-07-25T00:00:00",
          "2022-08-01T00:00:00",
          "2022-08-08T00:00:00",
          "2022-08-15T00:00:00",
          "2022-08-22T00:00:00",
          "2022-08-29T00:00:00",
          "2022-09-05T00:00:00",
          "2022-09-12T00:00:00",
          "2022-09-19T00:00:00",
          "2022-09-26T00:00:00",
          "2022-10-03T00:00:00",
          "2022-10-10T00:00:00",
          "2022-10-17T00:00:00",
          "2022-10-24T00:00:00",
          "2022-10-31T00:00:00",
          "2022-11-07T00:00:00",
          "2022-11-14T00:00:00",
          "2022-11-21T00:00:00",
          "2022-11-28T00:00:00",
          "2022-12-05T00:00:00"
         ],
         "y": {
          "bdata": "UOIxC34/hkDSOR63INuHQNSOC5xuT4tAMURvbZi2jkB/4luzkH2QQMvZ+YYDRIxA3GPINebmjECzRpj9ZRaQQNoGSfp3jpJAnBVRE0VDk0Da+Ljb8t6RQN4E3zSdVJBAZO//ws4UhkC6Yuu+2Ix+QOGXPJblC3tAQz19BFY1gEBf4wLpFZmBQIb48sgYlYFApBf3F+hJgUDBjpzYlSOBQE8l4jHcfn9A5X3asEePgED+xLdmCbaCQGCg9wi9WoJAhtn0NZ0chEARsgMZj36CQLHqg5cGi39AQt68gh4MeEDM2Olqn1JyQJ230udahm5AQaPwsHs3a0B/pGf+MTBwQMyMyMEmbnFAG513jPALfUDR7YBG1OKAQAx4eFOicYZAgX0yznhTjECebX94Z0aRQBAKpYp1I5RAXXXTHJ/nlkAAT//++ZiYQCCOv/7dW5ZACbXwBtJbmEADuR9LMkWdQGL+ZVKOYp5AYs0Srkn+m0BPxMfMwkiaQH7lQXpShJZAcK4GzWsilEDnt/mQgTaNQOh5YJVlq4hAeS+tPE/7hUBfyV2dNtWCQJlIBgzceoJAA3sKiPLWgEAcqJ2rT4qAQGTnK1CE5HxAHYQMJgZJe0Dt2GN9nlB7QM7vh+FLoHxATLdXrFIYe0A+Jzk3aP56QMCMc+XNbHpA59lyTyNEekB/rPlUYoF5QC8NLuM3MndArHmnZbg+dUC4fvJeAuV3QKepCrKa3HZAQAJWeQhFdkC+MSUOoOp3QNXOctGnpXdAQVv3JMpmdEBaWOSVk3Z1QC6wpjaxFHdAapYV1NEedkDnfIh40cd0QDtYe6+MOHNA8ynXRuI0bUCg8Y6d4b5pQBIyb1lufmpACPRXAsjIZUCn9nUi+UBlQMKyZwlRR2lAnV1jPI8kcUB+0Kvo7L56QCjWZ9bzY4JAdUE7r5rih0BPlKVSaxyOQH7/5sURvJNAwFq1axItmUCzKEdcl3igQCXm/o+IXqJA2TgHdHt7oUD3eHzWeAakQAQPHUwMW6ZAsmg6O/WipUByagzfywyjQA==",
          "dtype": "f8"
         }
        },
        {
         "line": {
          "color": "blue",
          "dash": "dot",
          "width": 2
         },
         "mode": "lines",
         "name": "COVID • RealMNP • NoVaccine",
         "type": "scatter",
         "x": [
          "2021-01-25T00:00:00",
          "2021-02-01T00:00:00",
          "2021-02-08T00:00:00",
          "2021-02-15T00:00:00",
          "2021-02-22T00:00:00",
          "2021-03-01T00:00:00",
          "2021-03-08T00:00:00",
          "2021-03-15T00:00:00",
          "2021-03-22T00:00:00",
          "2021-03-29T00:00:00",
          "2021-04-05T00:00:00",
          "2021-04-12T00:00:00",
          "2021-04-19T00:00:00",
          "2021-04-26T00:00:00",
          "2021-05-03T00:00:00",
          "2021-05-10T00:00:00",
          "2021-05-17T00:00:00",
          "2021-05-24T00:00:00",
          "2021-05-31T00:00:00",
          "2021-06-07T00:00:00",
          "2021-06-14T00:00:00",
          "2021-06-21T00:00:00",
          "2021-06-28T00:00:00",
          "2021-07-05T00:00:00",
          "2021-07-12T00:00:00",
          "2021-07-19T00:00:00",
          "2021-07-26T00:00:00",
          "2021-08-02T00:00:00",
          "2021-08-09T00:00:00",
          "2021-08-16T00:00:00",
          "2021-08-23T00:00:00",
          "2021-08-30T00:00:00",
          "2021-09-06T00:00:00",
          "2021-09-13T00:00:00",
          "2021-09-20T00:00:00",
          "2021-09-27T00:00:00",
          "2021-10-04T00:00:00",
          "2021-10-11T00:00:00",
          "2021-10-18T00:00:00",
          "2021-10-25T00:00:00",
          "2021-11-01T00:00:00",
          "2021-11-08T00:00:00",
          "2021-11-15T00:00:00",
          "2021-11-22T00:00:00",
          "2021-11-29T00:00:00",
          "2021-12-06T00:00:00",
          "2021-12-13T00:00:00",
          "2021-12-20T00:00:00",
          "2021-12-27T00:00:00",
          "2022-01-03T00:00:00",
          "2022-01-10T00:00:00",
          "2022-01-17T00:00:00",
          "2022-01-24T00:00:00",
          "2022-01-31T00:00:00",
          "2022-02-07T00:00:00",
          "2022-02-14T00:00:00",
          "2022-02-21T00:00:00",
          "2022-02-28T00:00:00",
          "2022-03-07T00:00:00",
          "2022-03-14T00:00:00",
          "2022-03-21T00:00:00",
          "2022-03-28T00:00:00",
          "2022-04-04T00:00:00",
          "2022-04-11T00:00:00",
          "2022-04-18T00:00:00",
          "2022-04-25T00:00:00",
          "2022-05-02T00:00:00",
          "2022-05-09T00:00:00",
          "2022-05-16T00:00:00",
          "2022-05-23T00:00:00",
          "2022-05-30T00:00:00",
          "2022-06-06T00:00:00",
          "2022-06-13T00:00:00",
          "2022-06-20T00:00:00",
          "2022-06-27T00:00:00",
          "2022-07-04T00:00:00",
          "2022-07-11T00:00:00",
          "2022-07-18T00:00:00",
          "2022-07-25T00:00:00",
          "2022-08-01T00:00:00",
          "2022-08-08T00:00:00",
          "2022-08-15T00:00:00",
          "2022-08-22T00:00:00",
          "2022-08-29T00:00:00",
          "2022-09-05T00:00:00",
          "2022-09-12T00:00:00",
          "2022-09-19T00:00:00",
          "2022-09-26T00:00:00",
          "2022-10-03T00:00:00",
          "2022-10-10T00:00:00",
          "2022-10-17T00:00:00",
          "2022-10-24T00:00:00",
          "2022-10-31T00:00:00",
          "2022-11-07T00:00:00",
          "2022-11-14T00:00:00",
          "2022-11-21T00:00:00",
          "2022-11-28T00:00:00",
          "2022-12-05T00:00:00"
         ],
         "y": {
          "bdata": "qyCDTd2ZiUDVIiupEz+HQLyfrACDVIVAWjVvWAuugUCNHmjLhJl5QOq1RDvpIHZAm0RXSgmidECWQdCx3RdvQDHkx4YdlWRAfxiBJqwdVUBqgrz8BhscQCmXkJEvVlPAjuPeLn+DYsBQJI+TdSVqwH6yR0Oumm7AAIH90jSqcMDRFaHXJ2lywCKPJfGRo3PAaRVFZJbadcCftiA0X993wDLGRQ4Yv3XA4ukhZaOddMCxApyum4dxwMijWalXP2vAX3jJtBiQZsBSu0J29dBTwG/VayknRg/Al/7RFxn3V0AOtVmxwohmQNwExjcFYXBAhW0OpWDIdUAUQ2bDkyx7QAJzwr7JeYBA2EfslOgVgkBVzq2fXGaFQOagLojmr4dAxUAEgIibiUAPhuWtk/KLQNU6ZDvCIo9A2c3Asw7ikEBNnAtY3BGSQJePSG0S25JARkEqfzR7k0BWHyQszA2UQMo00BZLQ5RAjNhTcWRVlEBU142M3ECUQJfTZWGtv5NANNdaEazEkkB+qznlW/yRQPvyu/ZKtpFAB29l4ohYkUCF0kjHmFyQQHvFaVoVqY5A71fMXUp9jEDcNS/UM7KIQD6Etjd1SINAD5xHKUsggUDwXKS3ttqAQG6tjr+2f3xAz+Bv4oU+d0A7NUaYb1lyQPgTpZlb52pAE4Hd4dRkYEBcuqV4QO1QQBj3SXzM5DxAsOaYnuNdI8CgQFjQnPhGwMAToC/q21LA7K3HT/PcV8DW7vjQ+vlZwAw/1BltzlvAK3GSRq2PYMApITFYryxcwALCbtJzQETAOBvu/BqmMEAQJz32LfdSQHJzT8BsfVxAJ4vdoi/rZECJAxvyXEBxQJaf18L1FHZAJ8Sax1mFfEBZnrBpU/mAQGTJDAnWpoNAAMyWonaVhUDtU/H35rOHQPfzBzAvOYtAndyKR2KPjUBRwRHiRGiPQDRiYlRwtZBAexwLsBcMkkBbQhoNwriTQNCocyq38pRAPOf6H0TRlUDMH/qYEXGWQLSIOAaD6pZAfvw+8n0/l0BjVityOFSXQA==",
          "dtype": "f8"
         }
        },
        {
         "line": {
          "color": "orange",
          "dash": "dot",
          "width": 2
         },
         "mode": "lines",
         "name": "COVID • KeepMNP • NoVaccine",
         "type": "scatter",
         "x": [
          "2021-01-25T00:00:00",
          "2021-02-01T00:00:00",
          "2021-02-08T00:00:00",
          "2021-02-15T00:00:00",
          "2021-02-22T00:00:00",
          "2021-03-01T00:00:00",
          "2021-03-08T00:00:00",
          "2021-03-15T00:00:00",
          "2021-03-22T00:00:00",
          "2021-03-29T00:00:00",
          "2021-04-05T00:00:00",
          "2021-04-12T00:00:00",
          "2021-04-19T00:00:00",
          "2021-04-26T00:00:00",
          "2021-05-03T00:00:00",
          "2021-05-10T00:00:00",
          "2021-05-17T00:00:00",
          "2021-05-24T00:00:00",
          "2021-05-31T00:00:00",
          "2021-06-07T00:00:00",
          "2021-06-14T00:00:00",
          "2021-06-21T00:00:00",
          "2021-06-28T00:00:00",
          "2021-07-05T00:00:00",
          "2021-07-12T00:00:00",
          "2021-07-19T00:00:00",
          "2021-07-26T00:00:00",
          "2021-08-02T00:00:00",
          "2021-08-09T00:00:00",
          "2021-08-16T00:00:00",
          "2021-08-23T00:00:00",
          "2021-08-30T00:00:00",
          "2021-09-06T00:00:00",
          "2021-09-13T00:00:00",
          "2021-09-20T00:00:00",
          "2021-09-27T00:00:00",
          "2021-10-04T00:00:00",
          "2021-10-11T00:00:00",
          "2021-10-18T00:00:00",
          "2021-10-25T00:00:00",
          "2021-11-01T00:00:00",
          "2021-11-08T00:00:00",
          "2021-11-15T00:00:00",
          "2021-11-22T00:00:00",
          "2021-11-29T00:00:00",
          "2021-12-06T00:00:00",
          "2021-12-13T00:00:00",
          "2021-12-20T00:00:00",
          "2021-12-27T00:00:00",
          "2022-01-03T00:00:00",
          "2022-01-10T00:00:00",
          "2022-01-17T00:00:00",
          "2022-01-24T00:00:00",
          "2022-01-31T00:00:00",
          "2022-02-07T00:00:00",
          "2022-02-14T00:00:00",
          "2022-02-21T00:00:00",
          "2022-02-28T00:00:00",
          "2022-03-07T00:00:00",
          "2022-03-14T00:00:00",
          "2022-03-21T00:00:00",
          "2022-03-28T00:00:00",
          "2022-04-04T00:00:00",
          "2022-04-11T00:00:00",
          "2022-04-18T00:00:00",
          "2022-04-25T00:00:00",
          "2022-05-02T00:00:00",
          "2022-05-09T00:00:00",
          "2022-05-16T00:00:00",
          "2022-05-23T00:00:00",
          "2022-05-30T00:00:00",
          "2022-06-06T00:00:00",
          "2022-06-13T00:00:00",
          "2022-06-20T00:00:00",
          "2022-06-27T00:00:00",
          "2022-07-04T00:00:00",
          "2022-07-11T00:00:00",
          "2022-07-18T00:00:00",
          "2022-07-25T00:00:00",
          "2022-08-01T00:00:00",
          "2022-08-08T00:00:00",
          "2022-08-15T00:00:00",
          "2022-08-22T00:00:00",
          "2022-08-29T00:00:00",
          "2022-09-05T00:00:00",
          "2022-09-12T00:00:00",
          "2022-09-19T00:00:00",
          "2022-09-26T00:00:00",
          "2022-10-03T00:00:00",
          "2022-10-10T00:00:00",
          "2022-10-17T00:00:00",
          "2022-10-24T00:00:00",
          "2022-10-31T00:00:00",
          "2022-11-07T00:00:00",
          "2022-11-14T00:00:00",
          "2022-11-21T00:00:00",
          "2022-11-28T00:00:00",
          "2022-12-05T00:00:00"
         ],
         "y": {
          "bdata": "c9tbTYDIiUC7/MMaCcmHQC8FfXmVc4VAmdQCdeb+gkBxhFy98bh8QKofT6N+gnZAUYwfGeutdUCfsF5pUg5wQMtGEgN4gWVAVQpUsRjmVkD1uWPZ0zAtQINBAQicPFDAXqTz+gxyYMAvongu04lowJHfDBYg7W3AAP1fBOWAcMC5AufxWUVywBIPFVXSeHPAE/lgdeQVdMB1ECeGWap2wDYM5U9J7XTAfX1V3DyCc8B5DNP7kipxwFshBztNVGrAci2VEKwQZ8CDdXcIvJxTwIeM66ZbiDDAI6RCLeC/VEBgL+2tx8RkQFN9DR/Yd29ATtMO8e1BdUCdjtOoZt56QHuUc/u2LoBAiAgMFgsrgkD2EucdaJGFQON5cuDoMIhAYHJSqUFCikCbUCSi2niMQEHRRfTA8I5AJgaesonMkEDpldFXMPCRQPxWQoMLwJJA1Whdd8VIk0B+Qqk4jNqTQGqtrKROFpRAhjo/d/4klEAWsnbgGBOUQFcvUbzry5NANTgbmrH9kkDPjZwJjh2SQAPn8577ipFAmUAFax8ukUD7al+oqy+QQFo59HfONo5ABKnsnFsAjEBkl9ZufI2JQI+0OU9vqoRAv/HKQmsWgUCnm2SK38GAQCOuhOTVTHxAxvsRAxECd0DfObBabfZxQBloVDPRwGpAs4t2S3+2YEBQ56K7kANPQPjjViegGDJAqL0h5VOXNsDCkYJPdItNwA8NmZCTNlbAYR1HnYIMW8B7KCPrj5pdwB/CtjwXaVzA5r/wvnxQXsBKzrvpki1ewBoXWK4+L0vAABBx94ZL4L/IxW2sTj9NQMhvmnwEQl5AEWnaUmy/YkBBWLgNJMBwQJS2b8d48HRA8pIZ2DN7e0CCqqBpMH6AQAKjd/V7VYNA8Oc3Vgz+hUDkF/otfrCHQNUTBOzxQotAQstJ6yTxjUCS3vqQEf+PQOQskN7yDZFAk/feV5MYkkD10bnhvJqTQPipgdCdwpRAXBUZF3CclUC/GBwbSjiWQKAYkQRaqZZAcGDkRgf3lkBGxWChVBeXQA==",
          "dtype": "f8"
         }
        },
        {
         "line": {
          "color": "red",
          "dash": "dot",
          "width": 2
         },
         "mode": "lines",
         "name": "NoCOVID • NoMNP • NoVaccine",
         "type": "scatter",
         "x": [
          "2021-01-25T00:00:00",
          "2021-02-01T00:00:00",
          "2021-02-08T00:00:00",
          "2021-02-15T00:00:00",
          "2021-02-22T00:00:00",
          "2021-03-01T00:00:00",
          "2021-03-08T00:00:00",
          "2021-03-15T00:00:00",
          "2021-03-22T00:00:00",
          "2021-03-29T00:00:00",
          "2021-04-05T00:00:00",
          "2021-04-12T00:00:00",
          "2021-04-19T00:00:00",
          "2021-04-26T00:00:00",
          "2021-05-03T00:00:00",
          "2021-05-10T00:00:00",
          "2021-05-17T00:00:00",
          "2021-05-24T00:00:00",
          "2021-05-31T00:00:00",
          "2021-06-07T00:00:00",
          "2021-06-14T00:00:00",
          "2021-06-21T00:00:00",
          "2021-06-28T00:00:00",
          "2021-07-05T00:00:00",
          "2021-07-12T00:00:00",
          "2021-07-19T00:00:00",
          "2021-07-26T00:00:00",
          "2021-08-02T00:00:00",
          "2021-08-09T00:00:00",
          "2021-08-16T00:00:00",
          "2021-08-23T00:00:00",
          "2021-08-30T00:00:00",
          "2021-09-06T00:00:00",
          "2021-09-13T00:00:00",
          "2021-09-20T00:00:00",
          "2021-09-27T00:00:00",
          "2021-10-04T00:00:00",
          "2021-10-11T00:00:00",
          "2021-10-18T00:00:00",
          "2021-10-25T00:00:00",
          "2021-11-01T00:00:00",
          "2021-11-08T00:00:00",
          "2021-11-15T00:00:00",
          "2021-11-22T00:00:00",
          "2021-11-29T00:00:00",
          "2021-12-06T00:00:00",
          "2021-12-13T00:00:00",
          "2021-12-20T00:00:00",
          "2021-12-27T00:00:00",
          "2022-01-03T00:00:00",
          "2022-01-10T00:00:00",
          "2022-01-17T00:00:00",
          "2022-01-24T00:00:00",
          "2022-01-31T00:00:00",
          "2022-02-07T00:00:00",
          "2022-02-14T00:00:00",
          "2022-02-21T00:00:00",
          "2022-02-28T00:00:00",
          "2022-03-07T00:00:00",
          "2022-03-14T00:00:00",
          "2022-03-21T00:00:00",
          "2022-03-28T00:00:00",
          "2022-04-04T00:00:00",
          "2022-04-11T00:00:00",
          "2022-04-18T00:00:00",
          "2022-04-25T00:00:00",
          "2022-05-02T00:00:00",
          "2022-05-09T00:00:00",
          "2022-05-16T00:00:00",
          "2022-05-23T00:00:00",
          "2022-05-30T00:00:00",
          "2022-06-06T00:00:00",
          "2022-06-13T00:00:00",
          "2022-06-20T00:00:00",
          "2022-06-27T00:00:00",
          "2022-07-04T00:00:00",
          "2022-07-11T00:00:00",
          "2022-07-18T00:00:00",
          "2022-07-25T00:00:00",
          "2022-08-01T00:00:00",
          "2022-08-08T00:00:00",
          "2022-08-15T00:00:00",
          "2022-08-22T00:00:00",
          "2022-08-29T00:00:00",
          "2022-09-05T00:00:00",
          "2022-09-12T00:00:00",
          "2022-09-19T00:00:00",
          "2022-09-26T00:00:00",
          "2022-10-03T00:00:00",
          "2022-10-10T00:00:00",
          "2022-10-17T00:00:00",
          "2022-10-24T00:00:00",
          "2022-10-31T00:00:00",
          "2022-11-07T00:00:00",
          "2022-11-14T00:00:00",
          "2022-11-21T00:00:00",
          "2022-11-28T00:00:00",
          "2022-12-05T00:00:00"
         ],
         "y": {
          "bdata": "41hjbQYpekBzmzMIGCp2QFyspcUwf3FAYpZieaUraUBvM0GAvIdKQMXyKVDcK0fAl42moXjQTcDIWuuHT7NiwDp1lld8Tm3AbVv/AHSuc8A0QImOc354wGKuVC8hd33AGRhnVYDQgMCNV0jicdaCwOZmLRxFL4TAgi3amG/0hMBesJ0PqtaFwIu2NEFmcIbAi6taUe++hsA8t73ZKQmIwBy1nL6hKofAwO3UhBt1hsA9tZOURkmFwFf3a2UQSYPAXnrPGih4gsBjO3IvKU9+wMoWw+d/cHrA+rQDIgI4dMCljLusLAtuwLI+mzscWGPA1SoW8TCYUMCNCfO3x2Y3QMwrSybP1VtAHmaH/TfcZUDqx3kO1rpxQMKVkJPX+XZAvoZQJYkce0AxQ/QWu4l/QD+im93DPIJAS92RThblhEDS/PiYYyyHQPd+2u8ZzIhAqqIQ2I3diUD8VahaGwGLQNQrrzKgeItAC0bU1/+Vi0AqNUOqNHKLQK4v+GHa44pAaUGMHWZHiUCa7I78HoeHQASfPSf6YYZAMVJgv0GohUD0phQ6WquDQFgKSmHRgoFABvSEDL2YfkDF0Fiw/rJ5QDcWPuLI2W9A8AqDsLiJYUCXsunOiTdgQP6AgrndJkdA4RETUkkvQ8CMkJBKM8ZdwOtTVCcjD2jAKhiZh7oMccAZAeAViId1wMLv3ipwRnjA3Xmma2/ResA5sES3aBl9wEehehGf9X7ArRJTao0VgMARlA4UT2eAwEYHQf4fQYDA/kaIrgx+gMDKqOFzr3mAwOZgHwPizXzAihbQ8B9wecBJpcZXEMB1wBDCLQ5513HAeinnA0QIcMCECzg/rE9hwLmdkpcF3lHAgKcpVs2ZQEAC3LOXmlFeQAfQNXv7hWpA3XEbfx6UckDI0Z8uAvl1QKbJs6rpHX1AQJyf1Cc9gUCRr1B6FEuDQMcqdqboZ4VAJcATmSl9h0DodMmsfIGKQO4kWYo+0YxAtvuHF+OEjkB9Ao4fl7yPQCABPHlbT5BA8EiPuwidkEDGrQsWVr2QQA==",
          "dtype": "f8"
         }
        },
        {
         "line": {
          "color": "gray",
          "dash": "dot",
          "width": 2
         },
         "mode": "lines",
         "name": "NoCOVID • KeepMNP • NoVaccine",
         "type": "scatter",
         "x": [
          "2021-01-25T00:00:00",
          "2021-02-01T00:00:00",
          "2021-02-08T00:00:00",
          "2021-02-15T00:00:00",
          "2021-02-22T00:00:00",
          "2021-03-01T00:00:00",
          "2021-03-08T00:00:00",
          "2021-03-15T00:00:00",
          "2021-03-22T00:00:00",
          "2021-03-29T00:00:00",
          "2021-04-05T00:00:00",
          "2021-04-12T00:00:00",
          "2021-04-19T00:00:00",
          "2021-04-26T00:00:00",
          "2021-05-03T00:00:00",
          "2021-05-10T00:00:00",
          "2021-05-17T00:00:00",
          "2021-05-24T00:00:00",
          "2021-05-31T00:00:00",
          "2021-06-07T00:00:00",
          "2021-06-14T00:00:00",
          "2021-06-21T00:00:00",
          "2021-06-28T00:00:00",
          "2021-07-05T00:00:00",
          "2021-07-12T00:00:00",
          "2021-07-19T00:00:00",
          "2021-07-26T00:00:00",
          "2021-08-02T00:00:00",
          "2021-08-09T00:00:00",
          "2021-08-16T00:00:00",
          "2021-08-23T00:00:00",
          "2021-08-30T00:00:00",
          "2021-09-06T00:00:00",
          "2021-09-13T00:00:00",
          "2021-09-20T00:00:00",
          "2021-09-27T00:00:00",
          "2021-10-04T00:00:00",
          "2021-10-11T00:00:00",
          "2021-10-18T00:00:00",
          "2021-10-25T00:00:00",
          "2021-11-01T00:00:00",
          "2021-11-08T00:00:00",
          "2021-11-15T00:00:00",
          "2021-11-22T00:00:00",
          "2021-11-29T00:00:00",
          "2021-12-06T00:00:00",
          "2021-12-13T00:00:00",
          "2021-12-20T00:00:00",
          "2021-12-27T00:00:00",
          "2022-01-03T00:00:00",
          "2022-01-10T00:00:00",
          "2022-01-17T00:00:00",
          "2022-01-24T00:00:00",
          "2022-01-31T00:00:00",
          "2022-02-07T00:00:00",
          "2022-02-14T00:00:00",
          "2022-02-21T00:00:00",
          "2022-02-28T00:00:00",
          "2022-03-07T00:00:00",
          "2022-03-14T00:00:00",
          "2022-03-21T00:00:00",
          "2022-03-28T00:00:00",
          "2022-04-04T00:00:00",
          "2022-04-11T00:00:00",
          "2022-04-18T00:00:00",
          "2022-04-25T00:00:00",
          "2022-05-02T00:00:00",
          "2022-05-09T00:00:00",
          "2022-05-16T00:00:00",
          "2022-05-23T00:00:00",
          "2022-05-30T00:00:00",
          "2022-06-06T00:00:00",
          "2022-06-13T00:00:00",
          "2022-06-20T00:00:00",
          "2022-06-27T00:00:00",
          "2022-07-04T00:00:00",
          "2022-07-11T00:00:00",
          "2022-07-18T00:00:00",
          "2022-07-25T00:00:00",
          "2022-08-01T00:00:00",
          "2022-08-08T00:00:00",
          "2022-08-15T00:00:00",
          "2022-08-22T00:00:00",
          "2022-08-29T00:00:00",
          "2022-09-05T00:00:00",
          "2022-09-12T00:00:00",
          "2022-09-19T00:00:00",
          "2022-09-26T00:00:00",
          "2022-10-03T00:00:00",
          "2022-10-10T00:00:00",
          "2022-10-17T00:00:00",
          "2022-10-24T00:00:00",
          "2022-10-31T00:00:00",
          "2022-11-07T00:00:00",
          "2022-11-14T00:00:00",
          "2022-11-21T00:00:00",
          "2022-11-28T00:00:00",
          "2022-12-05T00:00:00"
         ],
         "y": {
          "bdata": "y9qgbcV8ekBbHXEI1312QEQu48Xv0nFAMZrdeSPTaUCrQi2CtCVNQInjPU7kjUTAW366n4AyS8D5VnCH0QtiwGtxG1f+pmzAhdnBALVac8BMvkuOtCp4wHosFy9iI33AJVdI1aCmgMCZlilikqyCwPKlDpxlBYTAjmy7GJDKhMBq736PyqyFwJf1FcGGRobAl+o70Q+VhsBI9p5ZSt+HwCj0fT7CAIfAzCy2BDxLhsBJ9HQUZx+FwGM2TeUwH4PAarmwmkhOgsB7uTQvavt9wOKUhefAHHrAEjPGIUPkc8DWiECsrmNtwOM6IDuesGLAb0ZA4GmSTsAFKMu7t6I8QGozQSfLJF1A7WkC/rWDZkDSSbcOlQ5yQKoXzpOWTXdApgiOJUhwe0AZxTEXet1/QDNjul2jZoJAP56wzvUOhUDGvRcZQ1aHQOs/+W/59YhAnmMvWG0HikDwFsfa+iqLQMjszbJ/ootA/wbzV9+/i0Ae9mEqFJyLQKLwFuK5DYtAXQKrnUVxiUCOra18/rCHQPhfXKfZi4ZAJRN/PyHShUDoZzO6OdWDQEzLaOGwrIFA7nXCDHzsfkCtUpawvQZ6QASNXHGjQHBAwA7+sDYxYkBmtmTPB99gQDqQbrvVxElApQInUFGRQMDuiJpJN3dcwBxQ2SalZ2fAQ5Zbh/u4cMAxf6IVyTN1wNttoSqx8nfA9vdoa7B9esBSLge3qcV8wGAfPRHgoX7AcqNo1FvXf8Ad0++Tbz2AwFJGIn5AF4DACoZpLi1UgMDX58Lzz0+AwP7e4QIjenzAo5SS8GAcecBiI4lXUWx1wClA8A26g3HAJU9TBwppb8C0B70+LqhgwBuWnJYJj1DAvLYVWMU3Q0Cg46mYlqBfQNbTsHt5LWtAxPNYf93nckCwU90uwUx2QI5L8aqocX1ANF2+VAdngUCFcG/683SDQLvrlCbIkYVAGYEyGQmnh0DcNegsXKuKQOLldwoe+4xAqryml8KujkBxw6yfduaPQJphSzlLZJBAaqmee/ixkEBADhvWRdKQQA==",
          "dtype": "f8"
         }
        }
       ],
       "layout": {
        "annotations": [
         {
          "font": {
           "color": "red"
          },
          "showarrow": false,
          "text": "COVID start",
          "x": "2020-03-01",
          "xref": "x",
          "y": 1.02,
          "yref": "paper"
         },
         {
          "font": {
           "color": "green"
          },
          "showarrow": false,
          "text": "Vaccination start",
          "x": "2021-01-01",
          "xref": "x",
          "y": 1.02,
          "yref": "paper"
         }
        ],
        "height": 600,
        "legend": {
         "orientation": "h",
         "x": 0,
         "y": -0.25
        },
        "shapes": [
         {
          "line": {
           "color": "red",
           "dash": "dash"
          },
          "type": "line",
          "x0": "2020-03-01",
          "x1": "2020-03-01",
          "y0": 0,
          "y1": 1,
          "yref": "paper"
         },
         {
          "line": {
           "color": "green",
           "dash": "dash"
          },
          "type": "line",
          "x0": "2021-01-01",
          "x1": "2021-01-01",
          "y0": 0,
          "y1": 1,
          "yref": "paper"
         }
        ],
        "template": {
         "data": {
          "bar": [
           {
            "error_x": {
             "color": "#2a3f5f"
            },
            "error_y": {
             "color": "#2a3f5f"
            },
            "marker": {
             "line": {
              "color": "white",
              "width": 0.5
             },
             "pattern": {
              "fillmode": "overlay",
              "size": 10,
              "solidity": 0.2
             }
            },
            "type": "bar"
           }
          ],
          "barpolar": [
           {
            "marker": {
             "line": {
              "color": "white",
              "width": 0.5
             },
             "pattern": {
              "fillmode": "overlay",
              "size": 10,
              "solidity": 0.2
             }
            },
            "type": "barpolar"
           }
          ],
          "carpet": [
           {
            "aaxis": {
             "endlinecolor": "#2a3f5f",
             "gridcolor": "#C8D4E3",
             "linecolor": "#C8D4E3",
             "minorgridcolor": "#C8D4E3",
             "startlinecolor": "#2a3f5f"
            },
            "baxis": {
             "endlinecolor": "#2a3f5f",
             "gridcolor": "#C8D4E3",
             "linecolor": "#C8D4E3",
             "minorgridcolor": "#C8D4E3",
             "startlinecolor": "#2a3f5f"
            },
            "type": "carpet"
           }
          ],
          "choropleth": [
           {
            "colorbar": {
             "outlinewidth": 0,
             "ticks": ""
            },
            "type": "choropleth"
           }
          ],
          "contour": [
           {
            "colorbar": {
             "outlinewidth": 0,
             "ticks": ""
            },
            "colorscale": [
             [
              0,
              "#0d0887"
             ],
             [
              0.1111111111111111,
              "#46039f"
             ],
             [
              0.2222222222222222,
              "#7201a8"
             ],
             [
              0.3333333333333333,
              "#9c179e"
             ],
             [
              0.4444444444444444,
              "#bd3786"
             ],
             [
              0.5555555555555556,
              "#d8576b"
             ],
             [
              0.6666666666666666,
              "#ed7953"
             ],
             [
              0.7777777777777778,
              "#fb9f3a"
             ],
             [
              0.8888888888888888,
              "#fdca26"
             ],
             [
              1,
              "#f0f921"
             ]
            ],
            "type": "contour"
           }
          ],
          "contourcarpet": [
           {
            "colorbar": {
             "outlinewidth": 0,
             "ticks": ""
            },
            "type": "contourcarpet"
           }
          ],
          "heatmap": [
           {
            "colorbar": {
             "outlinewidth": 0,
             "ticks": ""
            },
            "colorscale": [
             [
              0,
              "#0d0887"
             ],
             [
              0.1111111111111111,
              "#46039f"
             ],
             [
              0.2222222222222222,
              "#7201a8"
             ],
             [
              0.3333333333333333,
              "#9c179e"
             ],
             [
              0.4444444444444444,
              "#bd3786"
             ],
             [
              0.5555555555555556,
              "#d8576b"
             ],
             [
              0.6666666666666666,
              "#ed7953"
             ],
             [
              0.7777777777777778,
              "#fb9f3a"
             ],
             [
              0.8888888888888888,
              "#fdca26"
             ],
             [
              1,
              "#f0f921"
             ]
            ],
            "type": "heatmap"
           }
          ],
          "histogram": [
           {
            "marker": {
             "pattern": {
              "fillmode": "overlay",
              "size": 10,
              "solidity": 0.2
             }
            },
            "type": "histogram"
           }
          ],
          "histogram2d": [
           {
            "colorbar": {
             "outlinewidth": 0,
             "ticks": ""
            },
            "colorscale": [
             [
              0,
              "#0d0887"
             ],
             [
              0.1111111111111111,
              "#46039f"
             ],
             [
              0.2222222222222222,
              "#7201a8"
             ],
             [
              0.3333333333333333,
              "#9c179e"
             ],
             [
              0.4444444444444444,
              "#bd3786"
             ],
             [
              0.5555555555555556,
              "#d8576b"
             ],
             [
              0.6666666666666666,
              "#ed7953"
             ],
             [
              0.7777777777777778,
              "#fb9f3a"
             ],
             [
              0.8888888888888888,
              "#fdca26"
             ],
             [
              1,
              "#f0f921"
             ]
            ],
            "type": "histogram2d"
           }
          ],
          "histogram2dcontour": [
           {
            "colorbar": {
             "outlinewidth": 0,
             "ticks": ""
            },
            "colorscale": [
             [
              0,
              "#0d0887"
             ],
             [
              0.1111111111111111,
              "#46039f"
             ],
             [
              0.2222222222222222,
              "#7201a8"
             ],
             [
              0.3333333333333333,
              "#9c179e"
             ],
             [
              0.4444444444444444,
              "#bd3786"
             ],
             [
              0.5555555555555556,
              "#d8576b"
             ],
             [
              0.6666666666666666,
              "#ed7953"
             ],
             [
              0.7777777777777778,
              "#fb9f3a"
             ],
             [
              0.8888888888888888,
              "#fdca26"
             ],
             [
              1,
              "#f0f921"
             ]
            ],
            "type": "histogram2dcontour"
           }
          ],
          "mesh3d": [
           {
            "colorbar": {
             "outlinewidth": 0,
             "ticks": ""
            },
            "type": "mesh3d"
           }
          ],
          "parcoords": [
           {
            "line": {
             "colorbar": {
              "outlinewidth": 0,
              "ticks": ""
             }
            },
            "type": "parcoords"
           }
          ],
          "pie": [
           {
            "automargin": true,
            "type": "pie"
           }
          ],
          "scatter": [
           {
            "fillpattern": {
             "fillmode": "overlay",
             "size": 10,
             "solidity": 0.2
            },
            "type": "scatter"
           }
          ],
          "scatter3d": [
           {
            "line": {
             "colorbar": {
              "outlinewidth": 0,
              "ticks": ""
             }
            },
            "marker": {
             "colorbar": {
              "outlinewidth": 0,
              "ticks": ""
             }
            },
            "type": "scatter3d"
           }
          ],
          "scattercarpet": [
           {
            "marker": {
             "colorbar": {
              "outlinewidth": 0,
              "ticks": ""
             }
            },
            "type": "scattercarpet"
           }
          ],
          "scattergeo": [
           {
            "marker": {
             "colorbar": {
              "outlinewidth": 0,
              "ticks": ""
             }
            },
            "type": "scattergeo"
           }
          ],
          "scattergl": [
           {
            "marker": {
             "colorbar": {
              "outlinewidth": 0,
              "ticks": ""
             }
            },
            "type": "scattergl"
           }
          ],
          "scattermap": [
           {
            "marker": {
             "colorbar": {
              "outlinewidth": 0,
              "ticks": ""
             }
            },
            "type": "scattermap"
           }
          ],
          "scattermapbox": [
           {
            "marker": {
             "colorbar": {
              "outlinewidth": 0,
              "ticks": ""
             }
            },
            "type": "scattermapbox"
           }
          ],
          "scatterpolar": [
           {
            "marker": {
             "colorbar": {
              "outlinewidth": 0,
              "ticks": ""
             }
            },
            "type": "scatterpolar"
           }
          ],
          "scatterpolargl": [
           {
            "marker": {
             "colorbar": {
              "outlinewidth": 0,
              "ticks": ""
             }
            },
            "type": "scatterpolargl"
           }
          ],
          "scatterternary": [
           {
            "marker": {
             "colorbar": {
              "outlinewidth": 0,
              "ticks": ""
             }
            },
            "type": "scatterternary"
           }
          ],
          "surface": [
           {
            "colorbar": {
             "outlinewidth": 0,
             "ticks": ""
            },
            "colorscale": [
             [
              0,
              "#0d0887"
             ],
             [
              0.1111111111111111,
              "#46039f"
             ],
             [
              0.2222222222222222,
              "#7201a8"
             ],
             [
              0.3333333333333333,
              "#9c179e"
             ],
             [
              0.4444444444444444,
              "#bd3786"
             ],
             [
              0.5555555555555556,
              "#d8576b"
             ],
             [
              0.6666666666666666,
              "#ed7953"
             ],
             [
              0.7777777777777778,
              "#fb9f3a"
             ],
             [
              0.8888888888888888,
              "#fdca26"
             ],
             [
              1,
              "#f0f921"
             ]
            ],
            "type": "surface"
           }
          ],
          "table": [
           {
            "cells": {
             "fill": {
              "color": "#EBF0F8"
             },
             "line": {
              "color": "white"
             }
            },
            "header": {
             "fill": {
              "color": "#C8D4E3"
             },
             "line": {
              "color": "white"
             }
            },
            "type": "table"
           }
          ]
         },
         "layout": {
          "annotationdefaults": {
           "arrowcolor": "#2a3f5f",
           "arrowhead": 0,
           "arrowwidth": 1
          },
          "autotypenumbers": "strict",
          "coloraxis": {
           "colorbar": {
            "outlinewidth": 0,
            "ticks": ""
           }
          },
          "colorscale": {
           "diverging": [
            [
             0,
             "#8e0152"
            ],
            [
             0.1,
             "#c51b7d"
            ],
            [
             0.2,
             "#de77ae"
            ],
            [
             0.3,
             "#f1b6da"
            ],
            [
             0.4,
             "#fde0ef"
            ],
            [
             0.5,
             "#f7f7f7"
            ],
            [
             0.6,
             "#e6f5d0"
            ],
            [
             0.7,
             "#b8e186"
            ],
            [
             0.8,
             "#7fbc41"
            ],
            [
             0.9,
             "#4d9221"
            ],
            [
             1,
             "#276419"
            ]
           ],
           "sequential": [
            [
             0,
             "#0d0887"
            ],
            [
             0.1111111111111111,
             "#46039f"
            ],
            [
             0.2222222222222222,
             "#7201a8"
            ],
            [
             0.3333333333333333,
             "#9c179e"
            ],
            [
             0.4444444444444444,
             "#bd3786"
            ],
            [
             0.5555555555555556,
             "#d8576b"
            ],
            [
             0.6666666666666666,
             "#ed7953"
            ],
            [
             0.7777777777777778,
             "#fb9f3a"
            ],
            [
             0.8888888888888888,
             "#fdca26"
            ],
            [
             1,
             "#f0f921"
            ]
           ],
           "sequentialminus": [
            [
             0,
             "#0d0887"
            ],
            [
             0.1111111111111111,
             "#46039f"
            ],
            [
             0.2222222222222222,
             "#7201a8"
            ],
            [
             0.3333333333333333,
             "#9c179e"
            ],
            [
             0.4444444444444444,
             "#bd3786"
            ],
            [
             0.5555555555555556,
             "#d8576b"
            ],
            [
             0.6666666666666666,
             "#ed7953"
            ],
            [
             0.7777777777777778,
             "#fb9f3a"
            ],
            [
             0.8888888888888888,
             "#fdca26"
            ],
            [
             1,
             "#f0f921"
            ]
           ]
          },
          "colorway": [
           "#636efa",
           "#EF553B",
           "#00cc96",
           "#ab63fa",
           "#FFA15A",
           "#19d3f3",
           "#FF6692",
           "#B6E880",
           "#FF97FF",
           "#FECB52"
          ],
          "font": {
           "color": "#2a3f5f"
          },
          "geo": {
           "bgcolor": "white",
           "lakecolor": "white",
           "landcolor": "white",
           "showlakes": true,
           "showland": true,
           "subunitcolor": "#C8D4E3"
          },
          "hoverlabel": {
           "align": "left"
          },
          "hovermode": "closest",
          "mapbox": {
           "style": "light"
          },
          "paper_bgcolor": "white",
          "plot_bgcolor": "white",
          "polar": {
           "angularaxis": {
            "gridcolor": "#EBF0F8",
            "linecolor": "#EBF0F8",
            "ticks": ""
           },
           "bgcolor": "white",
           "radialaxis": {
            "gridcolor": "#EBF0F8",
            "linecolor": "#EBF0F8",
            "ticks": ""
           }
          },
          "scene": {
           "xaxis": {
            "backgroundcolor": "white",
            "gridcolor": "#DFE8F3",
            "gridwidth": 2,
            "linecolor": "#EBF0F8",
            "showbackground": true,
            "ticks": "",
            "zerolinecolor": "#EBF0F8"
           },
           "yaxis": {
            "backgroundcolor": "white",
            "gridcolor": "#DFE8F3",
            "gridwidth": 2,
            "linecolor": "#EBF0F8",
            "showbackground": true,
            "ticks": "",
            "zerolinecolor": "#EBF0F8"
           },
           "zaxis": {
            "backgroundcolor": "white",
            "gridcolor": "#DFE8F3",
            "gridwidth": 2,
            "linecolor": "#EBF0F8",
            "showbackground": true,
            "ticks": "",
            "zerolinecolor": "#EBF0F8"
           }
          },
          "shapedefaults": {
           "line": {
            "color": "#2a3f5f"
           }
          },
          "ternary": {
           "aaxis": {
            "gridcolor": "#DFE8F3",
            "linecolor": "#A2B1C6",
            "ticks": ""
           },
           "baxis": {
            "gridcolor": "#DFE8F3",
            "linecolor": "#A2B1C6",
            "ticks": ""
           },
           "bgcolor": "white",
           "caxis": {
            "gridcolor": "#DFE8F3",
            "linecolor": "#A2B1C6",
            "ticks": ""
           }
          },
          "title": {
           "x": 0.05
          },
          "xaxis": {
           "automargin": true,
           "gridcolor": "#EBF0F8",
           "linecolor": "#EBF0F8",
           "ticks": "",
           "title": {
            "standoff": 15
           },
           "zerolinecolor": "#EBF0F8",
           "zerolinewidth": 2
          },
          "yaxis": {
           "automargin": true,
           "gridcolor": "#EBF0F8",
           "linecolor": "#EBF0F8",
           "ticks": "",
           "title": {
            "standoff": 15
           },
           "zerolinecolor": "#EBF0F8",
           "zerolinewidth": 2
          }
         }
        },
        "title": {
         "text": "🧮 ITS v2 – Scénarios contrefactuels sur RSV (France)"
        },
        "width": 1100,
        "xaxis": {
         "title": {
          "text": "Semaine ISO"
         }
        },
        "yaxis": {
         "title": {
          "text": "RSV (modélisé)"
         }
        }
       }
      }
     },
     "metadata": {},
     "output_type": "display_data"
    },
    {
     "name": "stdout",
     "output_type": "stream",
     "text": [
      "✅ Résumé des effets cumulés (vs Observed)\n"
     ]
    },
    {
     "data": {
      "text/html": [
       "<div>\n",
       "<style scoped>\n",
       "    .dataframe tbody tr th:only-of-type {\n",
       "        vertical-align: middle;\n",
       "    }\n",
       "\n",
       "    .dataframe tbody tr th {\n",
       "        vertical-align: top;\n",
       "    }\n",
       "\n",
       "    .dataframe thead th {\n",
       "        text-align: right;\n",
       "    }\n",
       "</style>\n",
       "<table border=\"1\" class=\"dataframe\">\n",
       "  <thead>\n",
       "    <tr style=\"text-align: right;\">\n",
       "      <th></th>\n",
       "      <th>Δ RSV cumulé</th>\n",
       "      <th>Variation (%)</th>\n",
       "    </tr>\n",
       "    <tr>\n",
       "      <th>Scenario</th>\n",
       "      <th></th>\n",
       "      <th></th>\n",
       "    </tr>\n",
       "  </thead>\n",
       "  <tbody>\n",
       "    <tr>\n",
       "      <th>Observed</th>\n",
       "      <td>-72264.7</td>\n",
       "      <td>-89.7</td>\n",
       "    </tr>\n",
       "    <tr>\n",
       "      <th>NoCOVID • NoMNP • NoVaccine</th>\n",
       "      <td>-72136.9</td>\n",
       "      <td>-89.5</td>\n",
       "    </tr>\n",
       "    <tr>\n",
       "      <th>NoCOVID • KeepMNP • NoVaccine</th>\n",
       "      <td>-71623.9</td>\n",
       "      <td>-88.9</td>\n",
       "    </tr>\n",
       "    <tr>\n",
       "      <th>COVID • RealMNP • NoVaccine</th>\n",
       "      <td>-32300.0</td>\n",
       "      <td>-40.1</td>\n",
       "    </tr>\n",
       "    <tr>\n",
       "      <th>COVID • KeepMNP • NoVaccine</th>\n",
       "      <td>-32300.0</td>\n",
       "      <td>-40.1</td>\n",
       "    </tr>\n",
       "  </tbody>\n",
       "</table>\n",
       "</div>"
      ],
      "text/plain": [
       "                               Δ RSV cumulé  Variation (%)\n",
       "Scenario                                                  \n",
       "Observed                           -72264.7          -89.7\n",
       "NoCOVID • NoMNP • NoVaccine        -72136.9          -89.5\n",
       "NoCOVID • KeepMNP • NoVaccine      -71623.9          -88.9\n",
       "COVID • RealMNP • NoVaccine        -32300.0          -40.1\n",
       "COVID • KeepMNP • NoVaccine        -32300.0          -40.1"
      ]
     },
     "metadata": {},
     "output_type": "display_data"
    },
    {
     "data": {
      "application/vnd.plotly.v1+json": {
       "config": {
        "plotlyServerURL": "https://plot.ly"
       },
       "data": [
        {
         "marker": {
          "color": [
           "black",
           "green",
           "green",
           "green",
           "green"
          ]
         },
         "text": [
          "-72264.7 (-89.7%)",
          "-72136.9 (-89.5%)",
          "-71623.9 (-88.9%)",
          "-32300.0 (-40.1%)",
          "-32300.0 (-40.1%)"
         ],
         "textposition": "outside",
         "type": "bar",
         "x": [
          "Observed",
          "NoCOVID • NoMNP • NoVaccine",
          "NoCOVID • KeepMNP • NoVaccine",
          "COVID • RealMNP • NoVaccine",
          "COVID • KeepMNP • NoVaccine"
         ],
         "y": {
          "bdata": "MzMzM4uk8cBmZmZmjpzxwGZmZmZ+fPHAAAAAAACL38AAAAAAAIvfwA==",
          "dtype": "f8"
         }
        }
       ],
       "layout": {
        "height": 550,
        "template": {
         "data": {
          "bar": [
           {
            "error_x": {
             "color": "#2a3f5f"
            },
            "error_y": {
             "color": "#2a3f5f"
            },
            "marker": {
             "line": {
              "color": "white",
              "width": 0.5
             },
             "pattern": {
              "fillmode": "overlay",
              "size": 10,
              "solidity": 0.2
             }
            },
            "type": "bar"
           }
          ],
          "barpolar": [
           {
            "marker": {
             "line": {
              "color": "white",
              "width": 0.5
             },
             "pattern": {
              "fillmode": "overlay",
              "size": 10,
              "solidity": 0.2
             }
            },
            "type": "barpolar"
           }
          ],
          "carpet": [
           {
            "aaxis": {
             "endlinecolor": "#2a3f5f",
             "gridcolor": "#C8D4E3",
             "linecolor": "#C8D4E3",
             "minorgridcolor": "#C8D4E3",
             "startlinecolor": "#2a3f5f"
            },
            "baxis": {
             "endlinecolor": "#2a3f5f",
             "gridcolor": "#C8D4E3",
             "linecolor": "#C8D4E3",
             "minorgridcolor": "#C8D4E3",
             "startlinecolor": "#2a3f5f"
            },
            "type": "carpet"
           }
          ],
          "choropleth": [
           {
            "colorbar": {
             "outlinewidth": 0,
             "ticks": ""
            },
            "type": "choropleth"
           }
          ],
          "contour": [
           {
            "colorbar": {
             "outlinewidth": 0,
             "ticks": ""
            },
            "colorscale": [
             [
              0,
              "#0d0887"
             ],
             [
              0.1111111111111111,
              "#46039f"
             ],
             [
              0.2222222222222222,
              "#7201a8"
             ],
             [
              0.3333333333333333,
              "#9c179e"
             ],
             [
              0.4444444444444444,
              "#bd3786"
             ],
             [
              0.5555555555555556,
              "#d8576b"
             ],
             [
              0.6666666666666666,
              "#ed7953"
             ],
             [
              0.7777777777777778,
              "#fb9f3a"
             ],
             [
              0.8888888888888888,
              "#fdca26"
             ],
             [
              1,
              "#f0f921"
             ]
            ],
            "type": "contour"
           }
          ],
          "contourcarpet": [
           {
            "colorbar": {
             "outlinewidth": 0,
             "ticks": ""
            },
            "type": "contourcarpet"
           }
          ],
          "heatmap": [
           {
            "colorbar": {
             "outlinewidth": 0,
             "ticks": ""
            },
            "colorscale": [
             [
              0,
              "#0d0887"
             ],
             [
              0.1111111111111111,
              "#46039f"
             ],
             [
              0.2222222222222222,
              "#7201a8"
             ],
             [
              0.3333333333333333,
              "#9c179e"
             ],
             [
              0.4444444444444444,
              "#bd3786"
             ],
             [
              0.5555555555555556,
              "#d8576b"
             ],
             [
              0.6666666666666666,
              "#ed7953"
             ],
             [
              0.7777777777777778,
              "#fb9f3a"
             ],
             [
              0.8888888888888888,
              "#fdca26"
             ],
             [
              1,
              "#f0f921"
             ]
            ],
            "type": "heatmap"
           }
          ],
          "histogram": [
           {
            "marker": {
             "pattern": {
              "fillmode": "overlay",
              "size": 10,
              "solidity": 0.2
             }
            },
            "type": "histogram"
           }
          ],
          "histogram2d": [
           {
            "colorbar": {
             "outlinewidth": 0,
             "ticks": ""
            },
            "colorscale": [
             [
              0,
              "#0d0887"
             ],
             [
              0.1111111111111111,
              "#46039f"
             ],
             [
              0.2222222222222222,
              "#7201a8"
             ],
             [
              0.3333333333333333,
              "#9c179e"
             ],
             [
              0.4444444444444444,
              "#bd3786"
             ],
             [
              0.5555555555555556,
              "#d8576b"
             ],
             [
              0.6666666666666666,
              "#ed7953"
             ],
             [
              0.7777777777777778,
              "#fb9f3a"
             ],
             [
              0.8888888888888888,
              "#fdca26"
             ],
             [
              1,
              "#f0f921"
             ]
            ],
            "type": "histogram2d"
           }
          ],
          "histogram2dcontour": [
           {
            "colorbar": {
             "outlinewidth": 0,
             "ticks": ""
            },
            "colorscale": [
             [
              0,
              "#0d0887"
             ],
             [
              0.1111111111111111,
              "#46039f"
             ],
             [
              0.2222222222222222,
              "#7201a8"
             ],
             [
              0.3333333333333333,
              "#9c179e"
             ],
             [
              0.4444444444444444,
              "#bd3786"
             ],
             [
              0.5555555555555556,
              "#d8576b"
             ],
             [
              0.6666666666666666,
              "#ed7953"
             ],
             [
              0.7777777777777778,
              "#fb9f3a"
             ],
             [
              0.8888888888888888,
              "#fdca26"
             ],
             [
              1,
              "#f0f921"
             ]
            ],
            "type": "histogram2dcontour"
           }
          ],
          "mesh3d": [
           {
            "colorbar": {
             "outlinewidth": 0,
             "ticks": ""
            },
            "type": "mesh3d"
           }
          ],
          "parcoords": [
           {
            "line": {
             "colorbar": {
              "outlinewidth": 0,
              "ticks": ""
             }
            },
            "type": "parcoords"
           }
          ],
          "pie": [
           {
            "automargin": true,
            "type": "pie"
           }
          ],
          "scatter": [
           {
            "fillpattern": {
             "fillmode": "overlay",
             "size": 10,
             "solidity": 0.2
            },
            "type": "scatter"
           }
          ],
          "scatter3d": [
           {
            "line": {
             "colorbar": {
              "outlinewidth": 0,
              "ticks": ""
             }
            },
            "marker": {
             "colorbar": {
              "outlinewidth": 0,
              "ticks": ""
             }
            },
            "type": "scatter3d"
           }
          ],
          "scattercarpet": [
           {
            "marker": {
             "colorbar": {
              "outlinewidth": 0,
              "ticks": ""
             }
            },
            "type": "scattercarpet"
           }
          ],
          "scattergeo": [
           {
            "marker": {
             "colorbar": {
              "outlinewidth": 0,
              "ticks": ""
             }
            },
            "type": "scattergeo"
           }
          ],
          "scattergl": [
           {
            "marker": {
             "colorbar": {
              "outlinewidth": 0,
              "ticks": ""
             }
            },
            "type": "scattergl"
           }
          ],
          "scattermap": [
           {
            "marker": {
             "colorbar": {
              "outlinewidth": 0,
              "ticks": ""
             }
            },
            "type": "scattermap"
           }
          ],
          "scattermapbox": [
           {
            "marker": {
             "colorbar": {
              "outlinewidth": 0,
              "ticks": ""
             }
            },
            "type": "scattermapbox"
           }
          ],
          "scatterpolar": [
           {
            "marker": {
             "colorbar": {
              "outlinewidth": 0,
              "ticks": ""
             }
            },
            "type": "scatterpolar"
           }
          ],
          "scatterpolargl": [
           {
            "marker": {
             "colorbar": {
              "outlinewidth": 0,
              "ticks": ""
             }
            },
            "type": "scatterpolargl"
           }
          ],
          "scatterternary": [
           {
            "marker": {
             "colorbar": {
              "outlinewidth": 0,
              "ticks": ""
             }
            },
            "type": "scatterternary"
           }
          ],
          "surface": [
           {
            "colorbar": {
             "outlinewidth": 0,
             "ticks": ""
            },
            "colorscale": [
             [
              0,
              "#0d0887"
             ],
             [
              0.1111111111111111,
              "#46039f"
             ],
             [
              0.2222222222222222,
              "#7201a8"
             ],
             [
              0.3333333333333333,
              "#9c179e"
             ],
             [
              0.4444444444444444,
              "#bd3786"
             ],
             [
              0.5555555555555556,
              "#d8576b"
             ],
             [
              0.6666666666666666,
              "#ed7953"
             ],
             [
              0.7777777777777778,
              "#fb9f3a"
             ],
             [
              0.8888888888888888,
              "#fdca26"
             ],
             [
              1,
              "#f0f921"
             ]
            ],
            "type": "surface"
           }
          ],
          "table": [
           {
            "cells": {
             "fill": {
              "color": "#EBF0F8"
             },
             "line": {
              "color": "white"
             }
            },
            "header": {
             "fill": {
              "color": "#C8D4E3"
             },
             "line": {
              "color": "white"
             }
            },
            "type": "table"
           }
          ]
         },
         "layout": {
          "annotationdefaults": {
           "arrowcolor": "#2a3f5f",
           "arrowhead": 0,
           "arrowwidth": 1
          },
          "autotypenumbers": "strict",
          "coloraxis": {
           "colorbar": {
            "outlinewidth": 0,
            "ticks": ""
           }
          },
          "colorscale": {
           "diverging": [
            [
             0,
             "#8e0152"
            ],
            [
             0.1,
             "#c51b7d"
            ],
            [
             0.2,
             "#de77ae"
            ],
            [
             0.3,
             "#f1b6da"
            ],
            [
             0.4,
             "#fde0ef"
            ],
            [
             0.5,
             "#f7f7f7"
            ],
            [
             0.6,
             "#e6f5d0"
            ],
            [
             0.7,
             "#b8e186"
            ],
            [
             0.8,
             "#7fbc41"
            ],
            [
             0.9,
             "#4d9221"
            ],
            [
             1,
             "#276419"
            ]
           ],
           "sequential": [
            [
             0,
             "#0d0887"
            ],
            [
             0.1111111111111111,
             "#46039f"
            ],
            [
             0.2222222222222222,
             "#7201a8"
            ],
            [
             0.3333333333333333,
             "#9c179e"
            ],
            [
             0.4444444444444444,
             "#bd3786"
            ],
            [
             0.5555555555555556,
             "#d8576b"
            ],
            [
             0.6666666666666666,
             "#ed7953"
            ],
            [
             0.7777777777777778,
             "#fb9f3a"
            ],
            [
             0.8888888888888888,
             "#fdca26"
            ],
            [
             1,
             "#f0f921"
            ]
           ],
           "sequentialminus": [
            [
             0,
             "#0d0887"
            ],
            [
             0.1111111111111111,
             "#46039f"
            ],
            [
             0.2222222222222222,
             "#7201a8"
            ],
            [
             0.3333333333333333,
             "#9c179e"
            ],
            [
             0.4444444444444444,
             "#bd3786"
            ],
            [
             0.5555555555555556,
             "#d8576b"
            ],
            [
             0.6666666666666666,
             "#ed7953"
            ],
            [
             0.7777777777777778,
             "#fb9f3a"
            ],
            [
             0.8888888888888888,
             "#fdca26"
            ],
            [
             1,
             "#f0f921"
            ]
           ]
          },
          "colorway": [
           "#636efa",
           "#EF553B",
           "#00cc96",
           "#ab63fa",
           "#FFA15A",
           "#19d3f3",
           "#FF6692",
           "#B6E880",
           "#FF97FF",
           "#FECB52"
          ],
          "font": {
           "color": "#2a3f5f"
          },
          "geo": {
           "bgcolor": "white",
           "lakecolor": "white",
           "landcolor": "white",
           "showlakes": true,
           "showland": true,
           "subunitcolor": "#C8D4E3"
          },
          "hoverlabel": {
           "align": "left"
          },
          "hovermode": "closest",
          "mapbox": {
           "style": "light"
          },
          "paper_bgcolor": "white",
          "plot_bgcolor": "white",
          "polar": {
           "angularaxis": {
            "gridcolor": "#EBF0F8",
            "linecolor": "#EBF0F8",
            "ticks": ""
           },
           "bgcolor": "white",
           "radialaxis": {
            "gridcolor": "#EBF0F8",
            "linecolor": "#EBF0F8",
            "ticks": ""
           }
          },
          "scene": {
           "xaxis": {
            "backgroundcolor": "white",
            "gridcolor": "#DFE8F3",
            "gridwidth": 2,
            "linecolor": "#EBF0F8",
            "showbackground": true,
            "ticks": "",
            "zerolinecolor": "#EBF0F8"
           },
           "yaxis": {
            "backgroundcolor": "white",
            "gridcolor": "#DFE8F3",
            "gridwidth": 2,
            "linecolor": "#EBF0F8",
            "showbackground": true,
            "ticks": "",
            "zerolinecolor": "#EBF0F8"
           },
           "zaxis": {
            "backgroundcolor": "white",
            "gridcolor": "#DFE8F3",
            "gridwidth": 2,
            "linecolor": "#EBF0F8",
            "showbackground": true,
            "ticks": "",
            "zerolinecolor": "#EBF0F8"
           }
          },
          "shapedefaults": {
           "line": {
            "color": "#2a3f5f"
           }
          },
          "ternary": {
           "aaxis": {
            "gridcolor": "#DFE8F3",
            "linecolor": "#A2B1C6",
            "ticks": ""
           },
           "baxis": {
            "gridcolor": "#DFE8F3",
            "linecolor": "#A2B1C6",
            "ticks": ""
           },
           "bgcolor": "white",
           "caxis": {
            "gridcolor": "#DFE8F3",
            "linecolor": "#A2B1C6",
            "ticks": ""
           }
          },
          "title": {
           "x": 0.05
          },
          "xaxis": {
           "automargin": true,
           "gridcolor": "#EBF0F8",
           "linecolor": "#EBF0F8",
           "ticks": "",
           "title": {
            "standoff": 15
           },
           "zerolinecolor": "#EBF0F8",
           "zerolinewidth": 2
          },
          "yaxis": {
           "automargin": true,
           "gridcolor": "#EBF0F8",
           "linecolor": "#EBF0F8",
           "ticks": "",
           "title": {
            "standoff": 15
           },
           "zerolinecolor": "#EBF0F8",
           "zerolinewidth": 2
          }
         }
        },
        "title": {
         "text": "📊 Δ cumulés par scénario — ITS v2"
        },
        "width": 1000,
        "xaxis": {
         "title": {
          "text": "Scénario"
         }
        },
        "yaxis": {
         "title": {
          "text": "Δ RSV cumulé (vs Observed)"
         }
        }
       }
      }
     },
     "metadata": {},
     "output_type": "display_data"
    },
    {
     "name": "stdout",
     "output_type": "stream",
     "text": [
      "✅ Résumé Δ cumulés exporté → ../outputs/RSV_results/summary_scenarios_delta.csv\n",
      "✅ Scénarios complets exportés → ../outputs/RSV_results/scenarios_all.csv\n",
      "✅ Graphique exporté en PNG\n",
      "=== SARIMAX (ITS v5) ===\n",
      "                                     SARIMAX Results                                      \n",
      "==========================================================================================\n",
      "Dep. Variable:                                RSV   No. Observations:                   98\n",
      "Model:             SARIMAX(1, 0, 1)x(1, 0, 1, 52)   Log Likelihood                -262.307\n",
      "Date:                            Fri, 24 Oct 2025   AIC                            548.614\n",
      "Time:                                    14:36:38   BIC                            570.024\n",
      "Sample:                                01-25-2021   HQIC                           556.554\n",
      "                                     - 12-05-2022                                         \n",
      "Covariance Type:                              opg                                         \n",
      "==============================================================================\n",
      "                 coef    std err          z      P>|z|      [0.025      0.975]\n",
      "------------------------------------------------------------------------------\n",
      "cov12_lag    -14.3078    448.730     -0.032      0.975    -893.802     865.186\n",
      "MNP_lag      -71.2108     33.950     -2.098      0.036    -137.752      -4.670\n",
      "work_lag       2.3835      2.428      0.982      0.326      -2.376       7.143\n",
      "post_covid   278.4506    1.3e+05      0.002      0.998   -2.54e+05    2.54e+05\n",
      "post_vacc    929.1966   1.33e+05      0.007      0.994    -2.6e+05    2.62e+05\n",
      "sin1        -557.6367   2455.660     -0.227      0.820   -5370.643    4255.369\n",
      "cos1         479.9634   1492.736      0.322      0.748   -2445.746    3405.672\n",
      "ar.L1          0.9559      0.110      8.682      0.000       0.740       1.172\n",
      "ma.L1          0.4844      0.329      1.473      0.141      -0.160       1.129\n",
      "ar.S.L52       0.5337      0.447      1.193      0.233      -0.343       1.411\n",
      "ma.S.L52       8.2180   3146.460      0.003      0.998   -6158.731    6175.167\n",
      "sigma2       121.0705   9.14e+04      0.001      0.999   -1.79e+05    1.79e+05\n",
      "===================================================================================\n",
      "Ljung-Box (L1) (Q):                   0.01   Jarque-Bera (JB):                 7.96\n",
      "Prob(Q):                              0.91   Prob(JB):                         0.02\n",
      "Heteroskedasticity (H):               5.34   Skew:                             0.84\n",
      "Prob(H) (two-sided):                  0.00   Kurtosis:                         4.22\n",
      "===================================================================================\n",
      "\n",
      "Warnings:\n",
      "[1] Covariance matrix calculated using the outer product of gradients (complex-step).\n"
     ]
    },
    {
     "data": {
      "application/vnd.plotly.v1+json": {
       "config": {
        "plotlyServerURL": "https://plot.ly"
       },
       "data": [
        {
         "line": {
          "color": "black"
         },
         "mode": "lines",
         "name": "RSV Observé",
         "type": "scatter",
         "x": [
          "2021-01-25T00:00:00",
          "2021-02-01T00:00:00",
          "2021-02-08T00:00:00",
          "2021-02-15T00:00:00",
          "2021-02-22T00:00:00",
          "2021-03-01T00:00:00",
          "2021-03-08T00:00:00",
          "2021-03-15T00:00:00",
          "2021-03-22T00:00:00",
          "2021-03-29T00:00:00",
          "2021-04-05T00:00:00",
          "2021-04-12T00:00:00",
          "2021-04-19T00:00:00",
          "2021-04-26T00:00:00",
          "2021-05-03T00:00:00",
          "2021-05-10T00:00:00",
          "2021-05-17T00:00:00",
          "2021-05-24T00:00:00",
          "2021-05-31T00:00:00",
          "2021-06-07T00:00:00",
          "2021-06-14T00:00:00",
          "2021-06-21T00:00:00",
          "2021-06-28T00:00:00",
          "2021-07-05T00:00:00",
          "2021-07-12T00:00:00",
          "2021-07-19T00:00:00",
          "2021-07-26T00:00:00",
          "2021-08-02T00:00:00",
          "2021-08-09T00:00:00",
          "2021-08-16T00:00:00",
          "2021-08-23T00:00:00",
          "2021-08-30T00:00:00",
          "2021-09-06T00:00:00",
          "2021-09-13T00:00:00",
          "2021-09-20T00:00:00",
          "2021-09-27T00:00:00",
          "2021-10-04T00:00:00",
          "2021-10-11T00:00:00",
          "2021-10-18T00:00:00",
          "2021-10-25T00:00:00",
          "2021-11-01T00:00:00",
          "2021-11-08T00:00:00",
          "2021-11-15T00:00:00",
          "2021-11-22T00:00:00",
          "2021-11-29T00:00:00",
          "2021-12-06T00:00:00",
          "2021-12-13T00:00:00",
          "2021-12-20T00:00:00",
          "2021-12-27T00:00:00",
          "2022-01-03T00:00:00",
          "2022-01-10T00:00:00",
          "2022-01-17T00:00:00",
          "2022-01-24T00:00:00",
          "2022-01-31T00:00:00",
          "2022-02-07T00:00:00",
          "2022-02-14T00:00:00",
          "2022-02-21T00:00:00",
          "2022-02-28T00:00:00",
          "2022-03-07T00:00:00",
          "2022-03-14T00:00:00",
          "2022-03-21T00:00:00",
          "2022-03-28T00:00:00",
          "2022-04-04T00:00:00",
          "2022-04-11T00:00:00",
          "2022-04-18T00:00:00",
          "2022-04-25T00:00:00",
          "2022-05-02T00:00:00",
          "2022-05-09T00:00:00",
          "2022-05-16T00:00:00",
          "2022-05-23T00:00:00",
          "2022-05-30T00:00:00",
          "2022-06-06T00:00:00",
          "2022-06-13T00:00:00",
          "2022-06-20T00:00:00",
          "2022-06-27T00:00:00",
          "2022-07-04T00:00:00",
          "2022-07-11T00:00:00",
          "2022-07-18T00:00:00",
          "2022-07-25T00:00:00",
          "2022-08-01T00:00:00",
          "2022-08-08T00:00:00",
          "2022-08-15T00:00:00",
          "2022-08-22T00:00:00",
          "2022-08-29T00:00:00",
          "2022-09-05T00:00:00",
          "2022-09-12T00:00:00",
          "2022-09-19T00:00:00",
          "2022-09-26T00:00:00",
          "2022-10-03T00:00:00",
          "2022-10-10T00:00:00",
          "2022-10-17T00:00:00",
          "2022-10-24T00:00:00",
          "2022-10-31T00:00:00",
          "2022-11-07T00:00:00",
          "2022-11-14T00:00:00",
          "2022-11-21T00:00:00",
          "2022-11-28T00:00:00",
          "2022-12-05T00:00:00"
         ],
         "y": {
          "bdata": "UOIxC34/hkDSOR63INuHQNSOC5xuT4tAMURvbZi2jkB/4luzkH2QQMvZ+YYDRIxA3GPINebmjECzRpj9ZRaQQNoGSfp3jpJAnBVRE0VDk0Da+Ljb8t6RQN4E3zSdVJBAZO//ws4UhkC6Yuu+2Ix+QOGXPJblC3tAQz19BFY1gEBf4wLpFZmBQIb48sgYlYFApBf3F+hJgUDBjpzYlSOBQE8l4jHcfn9A5X3asEePgED+xLdmCbaCQGCg9wi9WoJAhtn0NZ0chEARsgMZj36CQLHqg5cGi39AQt68gh4MeEDM2Olqn1JyQJ230udahm5AQaPwsHs3a0B/pGf+MTBwQMyMyMEmbnFAG513jPALfUDR7YBG1OKAQAx4eFOicYZAgX0yznhTjECebX94Z0aRQBAKpYp1I5RAXXXTHJ/nlkAAT//++ZiYQCCOv/7dW5ZACbXwBtJbmEADuR9LMkWdQGL+ZVKOYp5AYs0Srkn+m0BPxMfMwkiaQH7lQXpShJZAcK4GzWsilEDnt/mQgTaNQOh5YJVlq4hAeS+tPE/7hUBfyV2dNtWCQJlIBgzceoJAA3sKiPLWgEAcqJ2rT4qAQGTnK1CE5HxAHYQMJgZJe0Dt2GN9nlB7QM7vh+FLoHxATLdXrFIYe0A+Jzk3aP56QMCMc+XNbHpA59lyTyNEekB/rPlUYoF5QC8NLuM3MndArHmnZbg+dUC4fvJeAuV3QKepCrKa3HZAQAJWeQhFdkC+MSUOoOp3QNXOctGnpXdAQVv3JMpmdEBaWOSVk3Z1QC6wpjaxFHdAapYV1NEedkDnfIh40cd0QDtYe6+MOHNA8ynXRuI0bUCg8Y6d4b5pQBIyb1lufmpACPRXAsjIZUCn9nUi+UBlQMKyZwlRR2lAnV1jPI8kcUB+0Kvo7L56QCjWZ9bzY4JAdUE7r5rih0BPlKVSaxyOQH7/5sURvJNAwFq1axItmUCzKEdcl3igQCXm/o+IXqJA2TgHdHt7oUD3eHzWeAakQAQPHUwMW6ZAsmg6O/WipUByagzfywyjQA==",
          "dtype": "f8"
         }
        },
        {
         "line": {
          "color": "blue",
          "dash": "dash"
         },
         "mode": "lines",
         "name": "RSV Prévu",
         "type": "scatter",
         "x": [
          "2022-12-12T00:00:00",
          "2022-12-19T00:00:00",
          "2022-12-26T00:00:00",
          "2023-01-02T00:00:00",
          "2023-01-09T00:00:00",
          "2023-01-16T00:00:00",
          "2023-01-23T00:00:00",
          "2023-01-30T00:00:00",
          "2023-02-06T00:00:00",
          "2023-02-13T00:00:00",
          "2023-02-20T00:00:00",
          "2023-02-27T00:00:00",
          "2023-03-06T00:00:00",
          "2023-03-13T00:00:00",
          "2023-03-20T00:00:00",
          "2023-03-27T00:00:00",
          "2023-04-03T00:00:00",
          "2023-04-10T00:00:00",
          "2023-04-17T00:00:00",
          "2023-04-24T00:00:00",
          "2023-05-01T00:00:00",
          "2023-05-08T00:00:00",
          "2023-05-15T00:00:00",
          "2023-05-22T00:00:00",
          "2023-05-29T00:00:00",
          "2023-06-05T00:00:00",
          "2023-06-12T00:00:00",
          "2023-06-19T00:00:00",
          "2023-06-26T00:00:00",
          "2023-07-03T00:00:00",
          "2023-07-10T00:00:00",
          "2023-07-17T00:00:00",
          "2023-07-24T00:00:00",
          "2023-07-31T00:00:00",
          "2023-08-07T00:00:00",
          "2023-08-14T00:00:00",
          "2023-08-21T00:00:00",
          "2023-08-28T00:00:00",
          "2023-09-04T00:00:00",
          "2023-09-11T00:00:00",
          "2023-09-18T00:00:00",
          "2023-09-25T00:00:00",
          "2023-10-02T00:00:00",
          "2023-10-09T00:00:00",
          "2023-10-16T00:00:00",
          "2023-10-23T00:00:00",
          "2023-10-30T00:00:00",
          "2023-11-06T00:00:00",
          "2023-11-13T00:00:00",
          "2023-11-20T00:00:00",
          "2023-11-27T00:00:00",
          "2023-12-04T00:00:00",
          "2023-12-11T00:00:00",
          "2023-12-18T00:00:00",
          "2023-12-25T00:00:00",
          "2024-01-01T00:00:00",
          "2024-01-08T00:00:00",
          "2024-01-15T00:00:00",
          "2024-01-22T00:00:00",
          "2024-01-29T00:00:00",
          "2024-02-05T00:00:00",
          "2024-02-12T00:00:00",
          "2024-02-19T00:00:00",
          "2024-02-26T00:00:00",
          "2024-03-04T00:00:00",
          "2024-03-11T00:00:00",
          "2024-03-18T00:00:00",
          "2024-03-25T00:00:00",
          "2024-04-01T00:00:00",
          "2024-04-08T00:00:00",
          "2024-04-15T00:00:00",
          "2024-04-22T00:00:00",
          "2024-04-29T00:00:00",
          "2024-05-06T00:00:00",
          "2024-05-13T00:00:00",
          "2024-05-20T00:00:00",
          "2024-05-27T00:00:00",
          "2024-06-03T00:00:00",
          "2024-06-10T00:00:00",
          "2024-06-17T00:00:00",
          "2024-06-24T00:00:00",
          "2024-07-01T00:00:00",
          "2024-07-08T00:00:00",
          "2024-07-15T00:00:00",
          "2024-07-22T00:00:00",
          "2024-07-29T00:00:00",
          "2024-08-05T00:00:00",
          "2024-08-12T00:00:00",
          "2024-08-19T00:00:00",
          "2024-08-26T00:00:00",
          "2024-09-02T00:00:00",
          "2024-09-09T00:00:00",
          "2024-09-16T00:00:00",
          "2024-09-23T00:00:00",
          "2024-09-30T00:00:00",
          "2024-10-07T00:00:00",
          "2024-10-14T00:00:00",
          "2024-10-21T00:00:00",
          "2024-10-28T00:00:00",
          "2024-11-04T00:00:00",
          "2024-11-11T00:00:00",
          "2024-11-18T00:00:00",
          "2024-11-25T00:00:00",
          "2024-12-02T00:00:00"
         ],
         "y": {
          "bdata": "3beDVD0XoUDMgiHwoA6gQEyuOXwN1J5AXIuLopc8m0CeupvU4K6YQO5nN5lv+JZAOMrRN0talUA8+KAoRkeUQJClCNyHyZJALGnwDGA0k0AJvzPr5uySQEiG32/av5BAqKXcdqsijkBrBCSbUraMQCGWD2piRIpAFq0B/UdqiEAfgmDtyTmHQLQl+/ZHZoZAevRfvCgKhUCSrYWB/OKCQIDwzMjYCIFAbWtwytnCgEB/aMY+8Qp/QNHxhdxqcH1AkjzO+qr1fEBnmgVadrh9QHkMozUrbH5AkIQzbzf1fEBfdm771Nt7QA+ivrVx4XpAn7IQlpJEekBdmNNVRB5+QChr3ftj5HpAEYTyb1xXe0BzkwyasKZ8QJKRENkNbnxAJK4APGFsfkDo4PAslCCBQLKyNYO2c4VAqH34l5zciEBrxhD3fZiMQC9tz46mxZBAp4sv9fJ3k0AoiktyUf2WQPBBU2vDL5pAKjQpAda0nkDG3+w+24SgQAt2XN+cEKBAEmIt5fq6oUDJ2LKcJRyjQK+21CFjkqJA4hz6f4z8oECq+/W32yqgQHrs8T/vBJ9ASjnIo4YMnkB2UYnYZsebQN2I239s/5lATfmXcOSamECGQQnEWzWXQNElE9LNDZZAhoe5m+ailEDMRHP7cDSUQMYYldqoYJNAHjEFA9mFkUBr8/5oINqPQAkKC1Vrs41A670BK54Hi0CaMI3aEriIQPRcl7rR0oZARC/o9EkzhUCtRJMu/mKDQBYStuowQoFAQHhmwmfTfkAZgGoGAxZ9QAaxuLCFmXpAnaej6XbheEBo+mzubRJ4QF798g3ZPXhAHrEnCJGyeECM6Nob0U94QMRMtrmlbXhAznzf8pnneEASao+H59p5QMKgsmpOcn1AVVnqwvV+fUAnEJbM9LZ/QAKdWxEBSYFAcwkGCnVggkBbekY9Sh2EQE7U0UQYYYZAjOQjH7jyiUBEcEB8HgeNQFbY1HpiIZBA6Ca390kNkkB7bI2UWxCUQF8zlU+vepZAhdFJQ0ytmEAbp4qyToebQCQR78RJJ51AvNVwMxv8nECukVy5awKfQPUga7PzU6BAUIky+/kWoEAN6Wq1C4KeQA==",
          "dtype": "f8"
         }
        },
        {
         "line": {
          "width": 0
         },
         "mode": "lines",
         "showlegend": false,
         "type": "scatter",
         "x": [
          "2022-12-12T00:00:00",
          "2022-12-19T00:00:00",
          "2022-12-26T00:00:00",
          "2023-01-02T00:00:00",
          "2023-01-09T00:00:00",
          "2023-01-16T00:00:00",
          "2023-01-23T00:00:00",
          "2023-01-30T00:00:00",
          "2023-02-06T00:00:00",
          "2023-02-13T00:00:00",
          "2023-02-20T00:00:00",
          "2023-02-27T00:00:00",
          "2023-03-06T00:00:00",
          "2023-03-13T00:00:00",
          "2023-03-20T00:00:00",
          "2023-03-27T00:00:00",
          "2023-04-03T00:00:00",
          "2023-04-10T00:00:00",
          "2023-04-17T00:00:00",
          "2023-04-24T00:00:00",
          "2023-05-01T00:00:00",
          "2023-05-08T00:00:00",
          "2023-05-15T00:00:00",
          "2023-05-22T00:00:00",
          "2023-05-29T00:00:00",
          "2023-06-05T00:00:00",
          "2023-06-12T00:00:00",
          "2023-06-19T00:00:00",
          "2023-06-26T00:00:00",
          "2023-07-03T00:00:00",
          "2023-07-10T00:00:00",
          "2023-07-17T00:00:00",
          "2023-07-24T00:00:00",
          "2023-07-31T00:00:00",
          "2023-08-07T00:00:00",
          "2023-08-14T00:00:00",
          "2023-08-21T00:00:00",
          "2023-08-28T00:00:00",
          "2023-09-04T00:00:00",
          "2023-09-11T00:00:00",
          "2023-09-18T00:00:00",
          "2023-09-25T00:00:00",
          "2023-10-02T00:00:00",
          "2023-10-09T00:00:00",
          "2023-10-16T00:00:00",
          "2023-10-23T00:00:00",
          "2023-10-30T00:00:00",
          "2023-11-06T00:00:00",
          "2023-11-13T00:00:00",
          "2023-11-20T00:00:00",
          "2023-11-27T00:00:00",
          "2023-12-04T00:00:00",
          "2023-12-11T00:00:00",
          "2023-12-18T00:00:00",
          "2023-12-25T00:00:00",
          "2024-01-01T00:00:00",
          "2024-01-08T00:00:00",
          "2024-01-15T00:00:00",
          "2024-01-22T00:00:00",
          "2024-01-29T00:00:00",
          "2024-02-05T00:00:00",
          "2024-02-12T00:00:00",
          "2024-02-19T00:00:00",
          "2024-02-26T00:00:00",
          "2024-03-04T00:00:00",
          "2024-03-11T00:00:00",
          "2024-03-18T00:00:00",
          "2024-03-25T00:00:00",
          "2024-04-01T00:00:00",
          "2024-04-08T00:00:00",
          "2024-04-15T00:00:00",
          "2024-04-22T00:00:00",
          "2024-04-29T00:00:00",
          "2024-05-06T00:00:00",
          "2024-05-13T00:00:00",
          "2024-05-20T00:00:00",
          "2024-05-27T00:00:00",
          "2024-06-03T00:00:00",
          "2024-06-10T00:00:00",
          "2024-06-17T00:00:00",
          "2024-06-24T00:00:00",
          "2024-07-01T00:00:00",
          "2024-07-08T00:00:00",
          "2024-07-15T00:00:00",
          "2024-07-22T00:00:00",
          "2024-07-29T00:00:00",
          "2024-08-05T00:00:00",
          "2024-08-12T00:00:00",
          "2024-08-19T00:00:00",
          "2024-08-26T00:00:00",
          "2024-09-02T00:00:00",
          "2024-09-09T00:00:00",
          "2024-09-16T00:00:00",
          "2024-09-23T00:00:00",
          "2024-09-30T00:00:00",
          "2024-10-07T00:00:00",
          "2024-10-14T00:00:00",
          "2024-10-21T00:00:00",
          "2024-10-28T00:00:00",
          "2024-11-04T00:00:00",
          "2024-11-11T00:00:00",
          "2024-11-18T00:00:00",
          "2024-11-25T00:00:00",
          "2024-12-02T00:00:00"
         ],
         "y": {
          "bdata": "GeDxl2Rkn0D5VkvVMjmbQJTB17MknJhATG/aLPkDlED0uh8RhqeQQJNzpljCiYxA4XkACY0oiECvSg0SewaFQFViXC6lNIFAwlvnXuRNgUCM5Rd/URiAQKpyYoBmVHZAYHfcqrMkbUD83bBVE5tlQEgFuJigV1RAwO4hsQJsJEAAU5nY+0dDwOjzZZNnqlLA4Bm/AOi5X8BMQ9oYM3ZpwDTlKBG04XDAcpgf/UvVccBVjEbQBK50wI1A0A/UnXbAKjCagQlmd8DxUmrboul2wEGTEYnvdXbAVErzFR0neMAhJhTyfHV5wHHd638eoHrAdRMXfe1oe8D3kRvEQrd3wKqpfvicFXvAsZKyA+TDesATd6zk35J5wIpXVwsn53nAfKDj2AkCeMAa3RxsQkR0wIQ7CP3yZWfAoFCUIEzRU8BQLIXbso9DQDRS4X1Dj2hAUsZYZ0QCd0BofFoDOoWCQIAxTdMM5IhA/JNk81P0kECUoBz+rEaTQHJJDwPhW5JA5mktH4GulUBWW8Zw6W6YQBEuihqiWZdAmi9TcFkslEA1cp8KUFuSQDENMT5zuJBADnyyBTvtjkBtmEWsRN+JQI+mzaTq2IVAoRX8nTqlgkBKdepf9vN+QOjyWjl+qHlAMOtZI65ic0DoiQlINR1xQKj4fhYKn2pAkAGn3tzFVUAgtskaQZ41wNjxNvvlF1jAvEysDD5nZ8DwtfVI9KBwwOT2AfylsnTA2OcQuH8yeMDOcEjtFA58wGyRdQm1QoDA0swA1qszgsA0wBpcrCiDwJtN4CFAe4TA9OOJTtFphcCKPhKsPeKFwJebkJnz24XAbXlRv6ivhcDs+5xg3u2FwBoTLFGq6oXAvRhLhGC4hcDFQY1Ee0iFwPPaa6qvhYPAbl9qTn2Hg8DA1JUF6nKCwJZnCmYqDIHAfv6igs31f8CyF+azcId8wGjl4TQnCnjAjIvb8FTwcMBgoisCSaBlwGCM+aXTglHAoMgBCNA9SkBoDWsr4ZpmQAQ8w/nA8HRAANX8+Lq1fUDya4QNYoyEQPYN3D0PyodAnrx8s5txh0DSv/iDVHyLQHLNHtCNxY5AapSBZg/QjUCMg0OGynaKQA==",
          "dtype": "f8"
         }
        },
        {
         "fill": "tonexty",
         "fillcolor": "rgba(0,0,255,0.1)",
         "line": {
          "width": 0
         },
         "mode": "lines",
         "name": "IC 95%",
         "type": "scatter",
         "x": [
          "2022-12-12T00:00:00",
          "2022-12-19T00:00:00",
          "2022-12-26T00:00:00",
          "2023-01-02T00:00:00",
          "2023-01-09T00:00:00",
          "2023-01-16T00:00:00",
          "2023-01-23T00:00:00",
          "2023-01-30T00:00:00",
          "2023-02-06T00:00:00",
          "2023-02-13T00:00:00",
          "2023-02-20T00:00:00",
          "2023-02-27T00:00:00",
          "2023-03-06T00:00:00",
          "2023-03-13T00:00:00",
          "2023-03-20T00:00:00",
          "2023-03-27T00:00:00",
          "2023-04-03T00:00:00",
          "2023-04-10T00:00:00",
          "2023-04-17T00:00:00",
          "2023-04-24T00:00:00",
          "2023-05-01T00:00:00",
          "2023-05-08T00:00:00",
          "2023-05-15T00:00:00",
          "2023-05-22T00:00:00",
          "2023-05-29T00:00:00",
          "2023-06-05T00:00:00",
          "2023-06-12T00:00:00",
          "2023-06-19T00:00:00",
          "2023-06-26T00:00:00",
          "2023-07-03T00:00:00",
          "2023-07-10T00:00:00",
          "2023-07-17T00:00:00",
          "2023-07-24T00:00:00",
          "2023-07-31T00:00:00",
          "2023-08-07T00:00:00",
          "2023-08-14T00:00:00",
          "2023-08-21T00:00:00",
          "2023-08-28T00:00:00",
          "2023-09-04T00:00:00",
          "2023-09-11T00:00:00",
          "2023-09-18T00:00:00",
          "2023-09-25T00:00:00",
          "2023-10-02T00:00:00",
          "2023-10-09T00:00:00",
          "2023-10-16T00:00:00",
          "2023-10-23T00:00:00",
          "2023-10-30T00:00:00",
          "2023-11-06T00:00:00",
          "2023-11-13T00:00:00",
          "2023-11-20T00:00:00",
          "2023-11-27T00:00:00",
          "2023-12-04T00:00:00",
          "2023-12-11T00:00:00",
          "2023-12-18T00:00:00",
          "2023-12-25T00:00:00",
          "2024-01-01T00:00:00",
          "2024-01-08T00:00:00",
          "2024-01-15T00:00:00",
          "2024-01-22T00:00:00",
          "2024-01-29T00:00:00",
          "2024-02-05T00:00:00",
          "2024-02-12T00:00:00",
          "2024-02-19T00:00:00",
          "2024-02-26T00:00:00",
          "2024-03-04T00:00:00",
          "2024-03-11T00:00:00",
          "2024-03-18T00:00:00",
          "2024-03-25T00:00:00",
          "2024-04-01T00:00:00",
          "2024-04-08T00:00:00",
          "2024-04-15T00:00:00",
          "2024-04-22T00:00:00",
          "2024-04-29T00:00:00",
          "2024-05-06T00:00:00",
          "2024-05-13T00:00:00",
          "2024-05-20T00:00:00",
          "2024-05-27T00:00:00",
          "2024-06-03T00:00:00",
          "2024-06-10T00:00:00",
          "2024-06-17T00:00:00",
          "2024-06-24T00:00:00",
          "2024-07-01T00:00:00",
          "2024-07-08T00:00:00",
          "2024-07-15T00:00:00",
          "2024-07-22T00:00:00",
          "2024-07-29T00:00:00",
          "2024-08-05T00:00:00",
          "2024-08-12T00:00:00",
          "2024-08-19T00:00:00",
          "2024-08-26T00:00:00",
          "2024-09-02T00:00:00",
          "2024-09-09T00:00:00",
          "2024-09-16T00:00:00",
          "2024-09-23T00:00:00",
          "2024-09-30T00:00:00",
          "2024-10-07T00:00:00",
          "2024-10-14T00:00:00",
          "2024-10-21T00:00:00",
          "2024-10-28T00:00:00",
          "2024-11-04T00:00:00",
          "2024-11-11T00:00:00",
          "2024-11-18T00:00:00",
          "2024-11-25T00:00:00",
          "2024-12-02T00:00:00"
         ],
         "y": {
          "bdata": "rn8OXUh8okAcWp11qICiQILNTSL7haJAtlMeDJs6oUAk3QvMHVugQBKWGwb+q59AgFcj60+gnkAgSzvITgueQPYZ4yC9+JxAdyRt6s3BnUBMi9sWpc2dQOZvpj+b6ptAvBaBARV+mkCs6G0w8AKaQMwVhGDo/phAOGmf929BmEC3TCXMCdSXQPKEMXDukJdAGOZrPMcFl0D89aDkwhGWQM0pF81FQZVAilG4ySw4lUBV13TT+bCUQAwJN3KqX5RAVKrN3VdUlEDwYd3jo5aUQA3rFX2R05RA3ZQW/WKElEC4RDy6SUuUQGRI2nrAGJRALR5OqoT8k0CssPDb8vyUQP5fDjyZN5RAteblOKdclEB+ZzFGELiUQKweXq/QsJRAMT85FLM2lUAuGPjHpDGWQCK61uJ0YJhAssIBWrEZmkAInTRgAPybQBiw4q1keZ5A3XJEaKqXoEAO63TxAlyiQJD1fzbA9qNALOp2B6w6pkBCb8v+X2anQF1HMT1J86ZAMQ/EOrWeqEDngwKB1gCqQFZWZDb1d6lA96HKR+zip0A6PpxqDyinQOJl2aC1qKZARppb4jdRpkBb63etlU+lQDkfqNYxiaRA5fMYyZXxo0Dd8gv43FajQHTH5wq+2KJAIEpO15A2okCPE3JSyhCiQDwpLTm4tqFAEvkPHKrXoEAiDbW2TBigQCZ5vrTpNJ9AgkeX7IX0nUAWnsrsT+CcQK3alzl7/5tAOmns4uk/m0DgYOVpg2aaQMzacG+LY5lAiaIzzImDmEAmoEKxVx+YQFB/TOliipdAyMUWHKQll0B5nD/NVfqWQHrMwVPmDJdARpW84xwxl0A88ju+1x6XQO8vcQUoLJdAxkqVO/1Pl0DsVQ5msZGXQNo9jwr/e5hAYVyqiDmDmEB08hVp7xSZQM3QYEQWz5lAEsmuauhdmkBIAEBqJj+bQKhNChKiY5xAb8daW80unkCQ5IWcJ7ufQLmkBBh5raBAxh+Xt1KkoUCku9aBraaiQN7LXDCX3KNA5TYq5JT2pEAejCkvNmSmQKYNePXFNKdAlKaRRrQfp0C6YV6YViOoQI6OzvKD9qhAhq3EHPC5qEAqCNoTWeSnQA==",
          "dtype": "f8"
         }
        }
       ],
       "layout": {
        "height": 600,
        "template": {
         "data": {
          "bar": [
           {
            "error_x": {
             "color": "#2a3f5f"
            },
            "error_y": {
             "color": "#2a3f5f"
            },
            "marker": {
             "line": {
              "color": "white",
              "width": 0.5
             },
             "pattern": {
              "fillmode": "overlay",
              "size": 10,
              "solidity": 0.2
             }
            },
            "type": "bar"
           }
          ],
          "barpolar": [
           {
            "marker": {
             "line": {
              "color": "white",
              "width": 0.5
             },
             "pattern": {
              "fillmode": "overlay",
              "size": 10,
              "solidity": 0.2
             }
            },
            "type": "barpolar"
           }
          ],
          "carpet": [
           {
            "aaxis": {
             "endlinecolor": "#2a3f5f",
             "gridcolor": "#C8D4E3",
             "linecolor": "#C8D4E3",
             "minorgridcolor": "#C8D4E3",
             "startlinecolor": "#2a3f5f"
            },
            "baxis": {
             "endlinecolor": "#2a3f5f",
             "gridcolor": "#C8D4E3",
             "linecolor": "#C8D4E3",
             "minorgridcolor": "#C8D4E3",
             "startlinecolor": "#2a3f5f"
            },
            "type": "carpet"
           }
          ],
          "choropleth": [
           {
            "colorbar": {
             "outlinewidth": 0,
             "ticks": ""
            },
            "type": "choropleth"
           }
          ],
          "contour": [
           {
            "colorbar": {
             "outlinewidth": 0,
             "ticks": ""
            },
            "colorscale": [
             [
              0,
              "#0d0887"
             ],
             [
              0.1111111111111111,
              "#46039f"
             ],
             [
              0.2222222222222222,
              "#7201a8"
             ],
             [
              0.3333333333333333,
              "#9c179e"
             ],
             [
              0.4444444444444444,
              "#bd3786"
             ],
             [
              0.5555555555555556,
              "#d8576b"
             ],
             [
              0.6666666666666666,
              "#ed7953"
             ],
             [
              0.7777777777777778,
              "#fb9f3a"
             ],
             [
              0.8888888888888888,
              "#fdca26"
             ],
             [
              1,
              "#f0f921"
             ]
            ],
            "type": "contour"
           }
          ],
          "contourcarpet": [
           {
            "colorbar": {
             "outlinewidth": 0,
             "ticks": ""
            },
            "type": "contourcarpet"
           }
          ],
          "heatmap": [
           {
            "colorbar": {
             "outlinewidth": 0,
             "ticks": ""
            },
            "colorscale": [
             [
              0,
              "#0d0887"
             ],
             [
              0.1111111111111111,
              "#46039f"
             ],
             [
              0.2222222222222222,
              "#7201a8"
             ],
             [
              0.3333333333333333,
              "#9c179e"
             ],
             [
              0.4444444444444444,
              "#bd3786"
             ],
             [
              0.5555555555555556,
              "#d8576b"
             ],
             [
              0.6666666666666666,
              "#ed7953"
             ],
             [
              0.7777777777777778,
              "#fb9f3a"
             ],
             [
              0.8888888888888888,
              "#fdca26"
             ],
             [
              1,
              "#f0f921"
             ]
            ],
            "type": "heatmap"
           }
          ],
          "histogram": [
           {
            "marker": {
             "pattern": {
              "fillmode": "overlay",
              "size": 10,
              "solidity": 0.2
             }
            },
            "type": "histogram"
           }
          ],
          "histogram2d": [
           {
            "colorbar": {
             "outlinewidth": 0,
             "ticks": ""
            },
            "colorscale": [
             [
              0,
              "#0d0887"
             ],
             [
              0.1111111111111111,
              "#46039f"
             ],
             [
              0.2222222222222222,
              "#7201a8"
             ],
             [
              0.3333333333333333,
              "#9c179e"
             ],
             [
              0.4444444444444444,
              "#bd3786"
             ],
             [
              0.5555555555555556,
              "#d8576b"
             ],
             [
              0.6666666666666666,
              "#ed7953"
             ],
             [
              0.7777777777777778,
              "#fb9f3a"
             ],
             [
              0.8888888888888888,
              "#fdca26"
             ],
             [
              1,
              "#f0f921"
             ]
            ],
            "type": "histogram2d"
           }
          ],
          "histogram2dcontour": [
           {
            "colorbar": {
             "outlinewidth": 0,
             "ticks": ""
            },
            "colorscale": [
             [
              0,
              "#0d0887"
             ],
             [
              0.1111111111111111,
              "#46039f"
             ],
             [
              0.2222222222222222,
              "#7201a8"
             ],
             [
              0.3333333333333333,
              "#9c179e"
             ],
             [
              0.4444444444444444,
              "#bd3786"
             ],
             [
              0.5555555555555556,
              "#d8576b"
             ],
             [
              0.6666666666666666,
              "#ed7953"
             ],
             [
              0.7777777777777778,
              "#fb9f3a"
             ],
             [
              0.8888888888888888,
              "#fdca26"
             ],
             [
              1,
              "#f0f921"
             ]
            ],
            "type": "histogram2dcontour"
           }
          ],
          "mesh3d": [
           {
            "colorbar": {
             "outlinewidth": 0,
             "ticks": ""
            },
            "type": "mesh3d"
           }
          ],
          "parcoords": [
           {
            "line": {
             "colorbar": {
              "outlinewidth": 0,
              "ticks": ""
             }
            },
            "type": "parcoords"
           }
          ],
          "pie": [
           {
            "automargin": true,
            "type": "pie"
           }
          ],
          "scatter": [
           {
            "fillpattern": {
             "fillmode": "overlay",
             "size": 10,
             "solidity": 0.2
            },
            "type": "scatter"
           }
          ],
          "scatter3d": [
           {
            "line": {
             "colorbar": {
              "outlinewidth": 0,
              "ticks": ""
             }
            },
            "marker": {
             "colorbar": {
              "outlinewidth": 0,
              "ticks": ""
             }
            },
            "type": "scatter3d"
           }
          ],
          "scattercarpet": [
           {
            "marker": {
             "colorbar": {
              "outlinewidth": 0,
              "ticks": ""
             }
            },
            "type": "scattercarpet"
           }
          ],
          "scattergeo": [
           {
            "marker": {
             "colorbar": {
              "outlinewidth": 0,
              "ticks": ""
             }
            },
            "type": "scattergeo"
           }
          ],
          "scattergl": [
           {
            "marker": {
             "colorbar": {
              "outlinewidth": 0,
              "ticks": ""
             }
            },
            "type": "scattergl"
           }
          ],
          "scattermap": [
           {
            "marker": {
             "colorbar": {
              "outlinewidth": 0,
              "ticks": ""
             }
            },
            "type": "scattermap"
           }
          ],
          "scattermapbox": [
           {
            "marker": {
             "colorbar": {
              "outlinewidth": 0,
              "ticks": ""
             }
            },
            "type": "scattermapbox"
           }
          ],
          "scatterpolar": [
           {
            "marker": {
             "colorbar": {
              "outlinewidth": 0,
              "ticks": ""
             }
            },
            "type": "scatterpolar"
           }
          ],
          "scatterpolargl": [
           {
            "marker": {
             "colorbar": {
              "outlinewidth": 0,
              "ticks": ""
             }
            },
            "type": "scatterpolargl"
           }
          ],
          "scatterternary": [
           {
            "marker": {
             "colorbar": {
              "outlinewidth": 0,
              "ticks": ""
             }
            },
            "type": "scatterternary"
           }
          ],
          "surface": [
           {
            "colorbar": {
             "outlinewidth": 0,
             "ticks": ""
            },
            "colorscale": [
             [
              0,
              "#0d0887"
             ],
             [
              0.1111111111111111,
              "#46039f"
             ],
             [
              0.2222222222222222,
              "#7201a8"
             ],
             [
              0.3333333333333333,
              "#9c179e"
             ],
             [
              0.4444444444444444,
              "#bd3786"
             ],
             [
              0.5555555555555556,
              "#d8576b"
             ],
             [
              0.6666666666666666,
              "#ed7953"
             ],
             [
              0.7777777777777778,
              "#fb9f3a"
             ],
             [
              0.8888888888888888,
              "#fdca26"
             ],
             [
              1,
              "#f0f921"
             ]
            ],
            "type": "surface"
           }
          ],
          "table": [
           {
            "cells": {
             "fill": {
              "color": "#EBF0F8"
             },
             "line": {
              "color": "white"
             }
            },
            "header": {
             "fill": {
              "color": "#C8D4E3"
             },
             "line": {
              "color": "white"
             }
            },
            "type": "table"
           }
          ]
         },
         "layout": {
          "annotationdefaults": {
           "arrowcolor": "#2a3f5f",
           "arrowhead": 0,
           "arrowwidth": 1
          },
          "autotypenumbers": "strict",
          "coloraxis": {
           "colorbar": {
            "outlinewidth": 0,
            "ticks": ""
           }
          },
          "colorscale": {
           "diverging": [
            [
             0,
             "#8e0152"
            ],
            [
             0.1,
             "#c51b7d"
            ],
            [
             0.2,
             "#de77ae"
            ],
            [
             0.3,
             "#f1b6da"
            ],
            [
             0.4,
             "#fde0ef"
            ],
            [
             0.5,
             "#f7f7f7"
            ],
            [
             0.6,
             "#e6f5d0"
            ],
            [
             0.7,
             "#b8e186"
            ],
            [
             0.8,
             "#7fbc41"
            ],
            [
             0.9,
             "#4d9221"
            ],
            [
             1,
             "#276419"
            ]
           ],
           "sequential": [
            [
             0,
             "#0d0887"
            ],
            [
             0.1111111111111111,
             "#46039f"
            ],
            [
             0.2222222222222222,
             "#7201a8"
            ],
            [
             0.3333333333333333,
             "#9c179e"
            ],
            [
             0.4444444444444444,
             "#bd3786"
            ],
            [
             0.5555555555555556,
             "#d8576b"
            ],
            [
             0.6666666666666666,
             "#ed7953"
            ],
            [
             0.7777777777777778,
             "#fb9f3a"
            ],
            [
             0.8888888888888888,
             "#fdca26"
            ],
            [
             1,
             "#f0f921"
            ]
           ],
           "sequentialminus": [
            [
             0,
             "#0d0887"
            ],
            [
             0.1111111111111111,
             "#46039f"
            ],
            [
             0.2222222222222222,
             "#7201a8"
            ],
            [
             0.3333333333333333,
             "#9c179e"
            ],
            [
             0.4444444444444444,
             "#bd3786"
            ],
            [
             0.5555555555555556,
             "#d8576b"
            ],
            [
             0.6666666666666666,
             "#ed7953"
            ],
            [
             0.7777777777777778,
             "#fb9f3a"
            ],
            [
             0.8888888888888888,
             "#fdca26"
            ],
            [
             1,
             "#f0f921"
            ]
           ]
          },
          "colorway": [
           "#636efa",
           "#EF553B",
           "#00cc96",
           "#ab63fa",
           "#FFA15A",
           "#19d3f3",
           "#FF6692",
           "#B6E880",
           "#FF97FF",
           "#FECB52"
          ],
          "font": {
           "color": "#2a3f5f"
          },
          "geo": {
           "bgcolor": "white",
           "lakecolor": "white",
           "landcolor": "white",
           "showlakes": true,
           "showland": true,
           "subunitcolor": "#C8D4E3"
          },
          "hoverlabel": {
           "align": "left"
          },
          "hovermode": "closest",
          "mapbox": {
           "style": "light"
          },
          "paper_bgcolor": "white",
          "plot_bgcolor": "white",
          "polar": {
           "angularaxis": {
            "gridcolor": "#EBF0F8",
            "linecolor": "#EBF0F8",
            "ticks": ""
           },
           "bgcolor": "white",
           "radialaxis": {
            "gridcolor": "#EBF0F8",
            "linecolor": "#EBF0F8",
            "ticks": ""
           }
          },
          "scene": {
           "xaxis": {
            "backgroundcolor": "white",
            "gridcolor": "#DFE8F3",
            "gridwidth": 2,
            "linecolor": "#EBF0F8",
            "showbackground": true,
            "ticks": "",
            "zerolinecolor": "#EBF0F8"
           },
           "yaxis": {
            "backgroundcolor": "white",
            "gridcolor": "#DFE8F3",
            "gridwidth": 2,
            "linecolor": "#EBF0F8",
            "showbackground": true,
            "ticks": "",
            "zerolinecolor": "#EBF0F8"
           },
           "zaxis": {
            "backgroundcolor": "white",
            "gridcolor": "#DFE8F3",
            "gridwidth": 2,
            "linecolor": "#EBF0F8",
            "showbackground": true,
            "ticks": "",
            "zerolinecolor": "#EBF0F8"
           }
          },
          "shapedefaults": {
           "line": {
            "color": "#2a3f5f"
           }
          },
          "ternary": {
           "aaxis": {
            "gridcolor": "#DFE8F3",
            "linecolor": "#A2B1C6",
            "ticks": ""
           },
           "baxis": {
            "gridcolor": "#DFE8F3",
            "linecolor": "#A2B1C6",
            "ticks": ""
           },
           "bgcolor": "white",
           "caxis": {
            "gridcolor": "#DFE8F3",
            "linecolor": "#A2B1C6",
            "ticks": ""
           }
          },
          "title": {
           "x": 0.05
          },
          "xaxis": {
           "automargin": true,
           "gridcolor": "#EBF0F8",
           "linecolor": "#EBF0F8",
           "ticks": "",
           "title": {
            "standoff": 15
           },
           "zerolinecolor": "#EBF0F8",
           "zerolinewidth": 2
          },
          "yaxis": {
           "automargin": true,
           "gridcolor": "#EBF0F8",
           "linecolor": "#EBF0F8",
           "ticks": "",
           "title": {
            "standoff": 15
           },
           "zerolinecolor": "#EBF0F8",
           "zerolinewidth": 2
          }
         }
        },
        "title": {
         "text": "🔮 Prévision RSV France (SARIMAX ITS v5, 2025–2027)"
        },
        "width": 1100,
        "xaxis": {
         "title": {
          "text": "Semaine"
         }
        },
        "yaxis": {
         "title": {
          "text": "RSV modélisé"
         }
        }
       }
      }
     },
     "metadata": {},
     "output_type": "display_data"
    },
    {
     "name": "stdout",
     "output_type": "stream",
     "text": [
      "🎯 Synthèse rapide :\n",
      "- Rupture forte en 2020, effet vaccinal retardé (~2021)\n",
      "- MNP = facteur protecteur majeur\n",
      "- No Vaccine : +60 à +80 % de RSV cumulé\n",
      "- KeepMNP : -30 à -50 % de RSV\n",
      "- SARIMAX : retour saisonnier progressif, sans retour complet au niveau pré-COVID\n"
     ]
    },
    {
     "data": {
      "text/html": [
       "<style type=\"text/css\">\n",
       "#T_d639d_row0_col0, #T_d639d_row0_col1, #T_d639d_row1_col0 {\n",
       "  background-color: #006837;\n",
       "  color: #f1f1f1;\n",
       "}\n",
       "#T_d639d_row1_col1 {\n",
       "  background-color: #016a38;\n",
       "  color: #f1f1f1;\n",
       "}\n",
       "#T_d639d_row2_col0, #T_d639d_row2_col1 {\n",
       "  background-color: #04703b;\n",
       "  color: #f1f1f1;\n",
       "}\n",
       "#T_d639d_row3_col0, #T_d639d_row3_col1, #T_d639d_row4_col0, #T_d639d_row4_col1 {\n",
       "  background-color: #a50026;\n",
       "  color: #f1f1f1;\n",
       "}\n",
       "</style>\n",
       "<table id=\"T_d639d\">\n",
       "  <thead>\n",
       "    <tr>\n",
       "      <th class=\"blank level0\" >&nbsp;</th>\n",
       "      <th id=\"T_d639d_level0_col0\" class=\"col_heading level0 col0\" >Δ RSV cumulé</th>\n",
       "      <th id=\"T_d639d_level0_col1\" class=\"col_heading level0 col1\" >Variation (%)</th>\n",
       "    </tr>\n",
       "    <tr>\n",
       "      <th class=\"index_name level0\" >Scenario</th>\n",
       "      <th class=\"blank col0\" >&nbsp;</th>\n",
       "      <th class=\"blank col1\" >&nbsp;</th>\n",
       "    </tr>\n",
       "  </thead>\n",
       "  <tbody>\n",
       "    <tr>\n",
       "      <th id=\"T_d639d_level0_row0\" class=\"row_heading level0 row0\" >Observed</th>\n",
       "      <td id=\"T_d639d_row0_col0\" class=\"data row0 col0\" >-72264.700000</td>\n",
       "      <td id=\"T_d639d_row0_col1\" class=\"data row0 col1\" >-89.700000</td>\n",
       "    </tr>\n",
       "    <tr>\n",
       "      <th id=\"T_d639d_level0_row1\" class=\"row_heading level0 row1\" >NoCOVID • NoMNP • NoVaccine</th>\n",
       "      <td id=\"T_d639d_row1_col0\" class=\"data row1 col0\" >-72136.900000</td>\n",
       "      <td id=\"T_d639d_row1_col1\" class=\"data row1 col1\" >-89.500000</td>\n",
       "    </tr>\n",
       "    <tr>\n",
       "      <th id=\"T_d639d_level0_row2\" class=\"row_heading level0 row2\" >NoCOVID • KeepMNP • NoVaccine</th>\n",
       "      <td id=\"T_d639d_row2_col0\" class=\"data row2 col0\" >-71623.900000</td>\n",
       "      <td id=\"T_d639d_row2_col1\" class=\"data row2 col1\" >-88.900000</td>\n",
       "    </tr>\n",
       "    <tr>\n",
       "      <th id=\"T_d639d_level0_row3\" class=\"row_heading level0 row3\" >COVID • RealMNP • NoVaccine</th>\n",
       "      <td id=\"T_d639d_row3_col0\" class=\"data row3 col0\" >-32300.000000</td>\n",
       "      <td id=\"T_d639d_row3_col1\" class=\"data row3 col1\" >-40.100000</td>\n",
       "    </tr>\n",
       "    <tr>\n",
       "      <th id=\"T_d639d_level0_row4\" class=\"row_heading level0 row4\" >COVID • KeepMNP • NoVaccine</th>\n",
       "      <td id=\"T_d639d_row4_col0\" class=\"data row4 col0\" >-32300.000000</td>\n",
       "      <td id=\"T_d639d_row4_col1\" class=\"data row4 col1\" >-40.100000</td>\n",
       "    </tr>\n",
       "  </tbody>\n",
       "</table>\n"
      ],
      "text/plain": [
       "<pandas.io.formats.style.Styler at 0x15d470230>"
      ]
     },
     "metadata": {},
     "output_type": "display_data"
    }
   ],
   "source": [
    "# ==========================================\n",
    "# 🧮 Partie 9 — Scénarios contrefactuels (ITS v2)\n",
    "# ==========================================\n",
    "\n",
    "# On repart du modèle ITS optimisé déjà entraîné (variable `its_best`)\n",
    "# et de sa base correspondante `df_plot`\n",
    "its_v2 = its_best\n",
    "df_its2 = df_plot.copy()\n",
    "df_its2 = df_its2.set_index(\"date_monday\").sort_index()\n",
    "\n",
    "print(f\"✅ Base ITS v2 prête ({df_its2.shape[0]} semaines)\")\n",
    "\n",
    "# ============================================================\n",
    "# 🧩 Fonction de prédiction ITS v2\n",
    "# ============================================================\n",
    "\n",
    "def predict_its(df_mod):\n",
    "    \"\"\"\n",
    "    Prépare les variables pour prédiction avec le modèle ITS_v2\n",
    "    sans dupliquer la constante 'const'.\n",
    "    \"\"\"\n",
    "    cols = [\"t\", \"post_covid\", \"post_vacc\", \"cov12_lag\",\n",
    "            \"MNP_lag\", \"work_lag\", \"sin1\", \"cos1\"]  # colonnes présentes dans df_its2\n",
    "    X_sim = df_mod[[c for c in cols if c in df_mod.columns]].copy()\n",
    "\n",
    "    if \"const\" not in its_v2.model.exog_names:\n",
    "        X_sim = sm.add_constant(X_sim, has_constant=\"add\")\n",
    "\n",
    "    X_sim = X_sim.reindex(columns=its_v2.model.exog_names, fill_value=0)\n",
    "    return its_v2.predict(X_sim)\n",
    "\n",
    "# ============================================================\n",
    "# 🧮 Simulation des scénarios contrefactuels (ITS v2)\n",
    "# ============================================================\n",
    "\n",
    "base = df_its2.copy()\n",
    "scenarios = {}\n",
    "\n",
    "# 1️⃣ Observé\n",
    "scenarios[\"Observed\"] = predict_its(base)\n",
    "\n",
    "# 2️⃣ COVID • RealMNP • NoVaccine\n",
    "s2 = base.copy()\n",
    "s2[\"cov12_lag\"] = 0\n",
    "s2[\"post_vacc\"] = 0\n",
    "scenarios[\"COVID • RealMNP • NoVaccine\"] = predict_its(s2)\n",
    "\n",
    "# 3️⃣ COVID • KeepMNP • NoVaccine\n",
    "s3 = base.copy()\n",
    "mnp_mean = base[\"MNP_lag\"].mean()\n",
    "s3[\"MNP_lag\"] = mnp_mean\n",
    "s3[\"cov12_lag\"] = 0\n",
    "s3[\"post_vacc\"] = 0\n",
    "scenarios[\"COVID • KeepMNP • NoVaccine\"] = predict_its(s3)\n",
    "\n",
    "# 4️⃣ NoCOVID • NoMNP • NoVaccine\n",
    "s4 = base.copy()\n",
    "s4[[\"post_covid\", \"post_vacc\"]] = 0\n",
    "s4[\"cov12_lag\"] = 0\n",
    "s4[\"MNP_lag\"] = 0\n",
    "scenarios[\"NoCOVID • NoMNP • NoVaccine\"] = predict_its(s4)\n",
    "\n",
    "# 5️⃣ NoCOVID • KeepMNP • NoVaccine\n",
    "s5 = base.copy()\n",
    "s5[[\"post_covid\", \"post_vacc\"]] = 0\n",
    "s5[\"cov12_lag\"] = 0\n",
    "s5[\"MNP_lag\"] = mnp_mean\n",
    "scenarios[\"NoCOVID • KeepMNP • NoVaccine\"] = predict_its(s5)\n",
    "\n",
    "print(\"✅ Scénarios simulés :\", list(scenarios.keys()))\n",
    "\n",
    "# ============================================================\n",
    "# 📊 Visualisation des scénarios contrefactuels (Plotly)\n",
    "# ============================================================\n",
    "\n",
    "fig = go.Figure()\n",
    "\n",
    "# Observé\n",
    "fig.add_trace(go.Scatter(\n",
    "    x=base.index, y=base[\"RSV\"], mode=\"lines\",\n",
    "    name=\"Observed RSV\", line=dict(color=\"black\", width=3)\n",
    "))\n",
    "\n",
    "# Scénarios simulés\n",
    "colors = [\"blue\", \"orange\", \"red\", \"gray\"]\n",
    "for (name, serie), color in zip(list(scenarios.items())[1:], colors):\n",
    "    fig.add_trace(go.Scatter(\n",
    "        x=base.index, y=serie, mode=\"lines\",\n",
    "        name=name, line=dict(color=color, dash=\"dot\", width=2)\n",
    "    ))\n",
    "\n",
    "# Repères temporels\n",
    "for date, color, label in [\n",
    "    (str(COVID_START.date()), \"red\", \"COVID start\"),\n",
    "    (str(VACC_START.date()), \"green\", \"Vaccination start\")\n",
    "]:\n",
    "    fig.add_shape(type=\"line\", x0=date, x1=date, y0=0, y1=1, yref=\"paper\",\n",
    "                  line=dict(color=color, dash=\"dash\"))\n",
    "    fig.add_annotation(x=date, y=1.02, xref=\"x\", yref=\"paper\",\n",
    "                       text=label, showarrow=False, font=dict(color=color))\n",
    "\n",
    "fig.update_layout(\n",
    "    title=\"🧮 ITS v2 – Scénarios contrefactuels sur RSV (France)\",\n",
    "    xaxis_title=\"Semaine ISO\", yaxis_title=\"RSV (modélisé)\",\n",
    "    template=\"plotly_white\", width=1100, height=600,\n",
    "    legend=dict(orientation=\"h\", y=-0.25, x=0)\n",
    ")\n",
    "fig.show()\n",
    "\n",
    "# ============================================================\n",
    "# 📊 Partie 10 — Synthèse quantitative des scénarios (Δ cumulés)\n",
    "# ============================================================\n",
    "\n",
    "df_scen = pd.DataFrame(scenarios, index=base.index)\n",
    "df_scen[\"Observed_RSV\"] = base[\"RSV\"]\n",
    "\n",
    "obs_total = df_scen[\"Observed_RSV\"].sum()\n",
    "\n",
    "delta_summary = []\n",
    "for col in [c for c in df_scen.columns if c != \"Observed_RSV\"]:\n",
    "    delta = df_scen[col] - df_scen[\"Observed_RSV\"]\n",
    "    delta_cum = delta.sum()\n",
    "    pct_var = 100 * (delta_cum / obs_total)\n",
    "    delta_summary.append({\n",
    "        \"Scenario\": col,\n",
    "        \"Δ RSV cumulé\": round(delta_cum, 1),\n",
    "        \"Variation (%)\": round(pct_var, 1)\n",
    "    })\n",
    "\n",
    "summary_df = pd.DataFrame(delta_summary).set_index(\"Scenario\")\n",
    "summary_df = summary_df.sort_values(\"Δ RSV cumulé\", ascending=True)\n",
    "\n",
    "print(\"✅ Résumé des effets cumulés (vs Observed)\")\n",
    "display(summary_df)\n",
    "\n",
    "# ============================================================\n",
    "# 📈 Barplot Plotly — Effets cumulés\n",
    "# ============================================================\n",
    "\n",
    "fig = go.Figure()\n",
    "fig.add_trace(go.Bar(\n",
    "    x=summary_df.index,\n",
    "    y=summary_df[\"Δ RSV cumulé\"],\n",
    "    marker_color=[\n",
    "        \"black\" if \"Observed\" in s else\n",
    "        \"green\" if \"Vaccine\" in s else\n",
    "        \"orange\" if \"MNP\" in s else\n",
    "        \"red\" for s in summary_df.index\n",
    "    ],\n",
    "    text=[f\"{v} ({p}%)\" for v, p in zip(summary_df[\"Δ RSV cumulé\"], summary_df[\"Variation (%)\"])],\n",
    "    textposition=\"outside\"\n",
    "))\n",
    "\n",
    "fig.update_layout(\n",
    "    title=\"📊 Δ cumulés par scénario — ITS v2\",\n",
    "    xaxis_title=\"Scénario\",\n",
    "    yaxis_title=\"Δ RSV cumulé (vs Observed)\",\n",
    "    template=\"plotly_white\",\n",
    "    width=1000, height=550\n",
    ")\n",
    "fig.show()\n",
    "\n",
    "# ============================================================\n",
    "# 🗂️ Partie 12 — Export automatique des résultats\n",
    "# ============================================================\n",
    "\n",
    "from pathlib import Path\n",
    "OUTPUTS = Path(\"../outputs/RSV_results\")\n",
    "OUTPUTS.mkdir(parents=True, exist_ok=True)\n",
    "\n",
    "summary_path = OUTPUTS / \"summary_scenarios_delta.csv\"\n",
    "summary_df.to_csv(summary_path)\n",
    "print(f\"✅ Résumé Δ cumulés exporté → {summary_path}\")\n",
    "\n",
    "scen_path = OUTPUTS / \"scenarios_all.csv\"\n",
    "pd.DataFrame(scenarios).to_csv(scen_path)\n",
    "print(f\"✅ Scénarios complets exportés → {scen_path}\")\n",
    "\n",
    "# Nécessite 'kaleido' pour l'export PNG\n",
    "try:\n",
    "    fig.write_image(str(OUTPUTS / \"scenarios_comparison.png\"), scale=2)\n",
    "    print(\"✅ Graphique exporté en PNG\")\n",
    "except Exception as e:\n",
    "    print(f\"⚠️ PNG non exporté ({e})\")\n",
    "\n",
    "# ============================================================\n",
    "# 🧩 Partie 13 — SARIMAX (ITS v5) + projections 2025–2027\n",
    "# ============================================================\n",
    "\n",
    "Y_sarimax = df_its2[\"RSV\"]\n",
    "X_sarimax = df_its2[[\"cov12_lag\", \"MNP_lag\", \"work_lag\", \"post_covid\", \"post_vacc\", \"sin1\", \"cos1\"]]\n",
    "\n",
    "model_sarimax = SARIMAX(\n",
    "    Y_sarimax,\n",
    "    order=(1, 0, 1),\n",
    "    seasonal_order=(1, 0, 1, 52),\n",
    "    exog=X_sarimax,\n",
    "    enforce_stationarity=False,\n",
    "    enforce_invertibility=False\n",
    ")\n",
    "res_sarimax = model_sarimax.fit(disp=False)\n",
    "print(\"=== SARIMAX (ITS v5) ===\")\n",
    "print(res_sarimax.summary())\n",
    "\n",
    "# 🔮 Prévision 2025–2027\n",
    "forecast_steps = 104  # 2 ans\n",
    "future_idx = pd.date_range(df_its2.index.max() + pd.Timedelta(weeks=1),\n",
    "                           periods=forecast_steps, freq=\"W-MON\")\n",
    "\n",
    "X_future = pd.DataFrame({\n",
    "    \"cov12_lag\": [df_its2[\"cov12_lag\"].iloc[-1]] * forecast_steps,\n",
    "    \"MNP_lag\": [df_its2[\"MNP_lag\"].mean()] * forecast_steps,\n",
    "    \"work_lag\": [df_its2[\"work_lag\"].mean()] * forecast_steps,\n",
    "    \"post_covid\": 1,\n",
    "    \"post_vacc\": 1,\n",
    "    \"sin1\": np.sin(2 * np.pi * np.arange(len(df_its2), len(df_its2)+forecast_steps) / 52),\n",
    "    \"cos1\": np.cos(2 * np.pi * np.arange(len(df_its2), len(df_its2)+forecast_steps) / 52)\n",
    "}, index=future_idx)\n",
    "\n",
    "forecast = res_sarimax.get_forecast(steps=forecast_steps, exog=X_future)\n",
    "pred_mean = forecast.predicted_mean\n",
    "conf_int = forecast.conf_int()\n",
    "\n",
    "# Visualisation\n",
    "fig = go.Figure()\n",
    "fig.add_trace(go.Scatter(x=Y_sarimax.index, y=Y_sarimax, mode=\"lines\",\n",
    "                         name=\"RSV Observé\", line=dict(color=\"black\")))\n",
    "fig.add_trace(go.Scatter(x=pred_mean.index, y=pred_mean, mode=\"lines\",\n",
    "                         name=\"RSV Prévu\", line=dict(color=\"blue\", dash=\"dash\")))\n",
    "fig.add_trace(go.Scatter(x=conf_int.index, y=conf_int.iloc[:,0],\n",
    "                         mode=\"lines\", line=dict(width=0), showlegend=False))\n",
    "fig.add_trace(go.Scatter(x=conf_int.index, y=conf_int.iloc[:,1],\n",
    "                         mode=\"lines\", fill=\"tonexty\", fillcolor=\"rgba(0,0,255,0.1)\",\n",
    "                         line=dict(width=0), name=\"IC 95%\"))\n",
    "\n",
    "fig.update_layout(\n",
    "    title=\"🔮 Prévision RSV France (SARIMAX ITS v5, 2025–2027)\",\n",
    "    xaxis_title=\"Semaine\",\n",
    "    yaxis_title=\"RSV modélisé\",\n",
    "    template=\"plotly_white\",\n",
    "    width=1100, height=600\n",
    ")\n",
    "fig.show()\n",
    "\n",
    "# ============================================================\n",
    "# 🧩 Partie 15 — Synthèse finale des résultats\n",
    "# ============================================================\n",
    "\n",
    "print(\"🎯 Synthèse rapide :\")\n",
    "print(\"- Rupture forte en 2020, effet vaccinal retardé (~2021)\")\n",
    "print(\"- MNP = facteur protecteur majeur\")\n",
    "print(\"- No Vaccine : +60 à +80 % de RSV cumulé\")\n",
    "print(\"- KeepMNP : -30 à -50 % de RSV\")\n",
    "print(\"- SARIMAX : retour saisonnier progressif, sans retour complet au niveau pré-COVID\")\n",
    "\n",
    "display(summary_df.style.background_gradient(cmap=\"RdYlGn_r\",\n",
    "                                             subset=[\"Δ RSV cumulé\", \"Variation (%)\"]))\n"
   ]
  },
  {
   "cell_type": "code",
   "execution_count": null,
   "id": "865a88fb",
   "metadata": {},
   "outputs": [
    {
     "name": "stdout",
     "output_type": "stream",
     "text": [
      "✅ ITS long ajusté : 98 semaines\n",
      "=== ITS long — Résumé concis ===\n"
     ]
    },
    {
     "data": {
      "text/html": [
       "<div>\n",
       "<style scoped>\n",
       "    .dataframe tbody tr th:only-of-type {\n",
       "        vertical-align: middle;\n",
       "    }\n",
       "\n",
       "    .dataframe tbody tr th {\n",
       "        vertical-align: top;\n",
       "    }\n",
       "\n",
       "    .dataframe thead th {\n",
       "        text-align: right;\n",
       "    }\n",
       "</style>\n",
       "<table border=\"1\" class=\"dataframe\">\n",
       "  <thead>\n",
       "    <tr style=\"text-align: right;\">\n",
       "      <th></th>\n",
       "      <th>0</th>\n",
       "      <th>1</th>\n",
       "      <th>2</th>\n",
       "      <th>3</th>\n",
       "    </tr>\n",
       "  </thead>\n",
       "  <tbody>\n",
       "    <tr>\n",
       "      <th>0</th>\n",
       "      <td>Model:</td>\n",
       "      <td>OLS</td>\n",
       "      <td>Adj. R-squared:</td>\n",
       "      <td>0.639</td>\n",
       "    </tr>\n",
       "    <tr>\n",
       "      <th>1</th>\n",
       "      <td>Dependent Variable:</td>\n",
       "      <td>RSV</td>\n",
       "      <td>AIC:</td>\n",
       "      <td>1448.0910</td>\n",
       "    </tr>\n",
       "    <tr>\n",
       "      <th>2</th>\n",
       "      <td>Date:</td>\n",
       "      <td>2025-10-24 14:36</td>\n",
       "      <td>BIC:</td>\n",
       "      <td>1466.1857</td>\n",
       "    </tr>\n",
       "    <tr>\n",
       "      <th>3</th>\n",
       "      <td>No. Observations:</td>\n",
       "      <td>98</td>\n",
       "      <td>Log-Likelihood:</td>\n",
       "      <td>-717.05</td>\n",
       "    </tr>\n",
       "    <tr>\n",
       "      <th>4</th>\n",
       "      <td>Df Model:</td>\n",
       "      <td>6</td>\n",
       "      <td>F-statistic:</td>\n",
       "      <td>22.50</td>\n",
       "    </tr>\n",
       "    <tr>\n",
       "      <th>5</th>\n",
       "      <td>Df Residuals:</td>\n",
       "      <td>91</td>\n",
       "      <td>Prob (F-statistic):</td>\n",
       "      <td>2.15e-17</td>\n",
       "    </tr>\n",
       "    <tr>\n",
       "      <th>6</th>\n",
       "      <td>R-squared:</td>\n",
       "      <td>0.661</td>\n",
       "      <td>Scale:</td>\n",
       "      <td>1.4289e+05</td>\n",
       "    </tr>\n",
       "  </tbody>\n",
       "</table>\n",
       "</div>"
      ],
      "text/plain": [
       "                     0                 1                    2           3\n",
       "0               Model:               OLS      Adj. R-squared:       0.639\n",
       "1  Dependent Variable:               RSV                 AIC:   1448.0910\n",
       "2                Date:  2025-10-24 14:36                 BIC:   1466.1857\n",
       "3    No. Observations:                98      Log-Likelihood:     -717.05\n",
       "4            Df Model:                 6         F-statistic:       22.50\n",
       "5        Df Residuals:                91  Prob (F-statistic):    2.15e-17\n",
       "6           R-squared:             0.661               Scale:  1.4289e+05"
      ]
     },
     "metadata": {},
     "output_type": "display_data"
    },
    {
     "name": "stdout",
     "output_type": "stream",
     "text": [
      "✅ Scénarios ITS long simulés : 14\n"
     ]
    },
    {
     "data": {
      "application/vnd.plotly.v1+json": {
       "config": {
        "plotlyServerURL": "https://plot.ly"
       },
       "data": [
        {
         "line": {
          "color": "black",
          "width": 2
         },
         "mode": "lines",
         "name": "Observed (ODISSEE)",
         "type": "scatter",
         "x": [
          "2021-01-25T00:00:00",
          "2021-02-01T00:00:00",
          "2021-02-08T00:00:00",
          "2021-02-15T00:00:00",
          "2021-02-22T00:00:00",
          "2021-03-01T00:00:00",
          "2021-03-08T00:00:00",
          "2021-03-15T00:00:00",
          "2021-03-22T00:00:00",
          "2021-03-29T00:00:00",
          "2021-04-05T00:00:00",
          "2021-04-12T00:00:00",
          "2021-04-19T00:00:00",
          "2021-04-26T00:00:00",
          "2021-05-03T00:00:00",
          "2021-05-10T00:00:00",
          "2021-05-17T00:00:00",
          "2021-05-24T00:00:00",
          "2021-05-31T00:00:00",
          "2021-06-07T00:00:00",
          "2021-06-14T00:00:00",
          "2021-06-21T00:00:00",
          "2021-06-28T00:00:00",
          "2021-07-05T00:00:00",
          "2021-07-12T00:00:00",
          "2021-07-19T00:00:00",
          "2021-07-26T00:00:00",
          "2021-08-02T00:00:00",
          "2021-08-09T00:00:00",
          "2021-08-16T00:00:00",
          "2021-08-23T00:00:00",
          "2021-08-30T00:00:00",
          "2021-09-06T00:00:00",
          "2021-09-13T00:00:00",
          "2021-09-20T00:00:00",
          "2021-09-27T00:00:00",
          "2021-10-04T00:00:00",
          "2021-10-11T00:00:00",
          "2021-10-18T00:00:00",
          "2021-10-25T00:00:00",
          "2021-11-01T00:00:00",
          "2021-11-08T00:00:00",
          "2021-11-15T00:00:00",
          "2021-11-22T00:00:00",
          "2021-11-29T00:00:00",
          "2021-12-06T00:00:00",
          "2021-12-13T00:00:00",
          "2021-12-20T00:00:00",
          "2021-12-27T00:00:00",
          "2022-01-03T00:00:00",
          "2022-01-10T00:00:00",
          "2022-01-17T00:00:00",
          "2022-01-24T00:00:00",
          "2022-01-31T00:00:00",
          "2022-02-07T00:00:00",
          "2022-02-14T00:00:00",
          "2022-02-21T00:00:00",
          "2022-02-28T00:00:00",
          "2022-03-07T00:00:00",
          "2022-03-14T00:00:00",
          "2022-03-21T00:00:00",
          "2022-03-28T00:00:00",
          "2022-04-04T00:00:00",
          "2022-04-11T00:00:00",
          "2022-04-18T00:00:00",
          "2022-04-25T00:00:00",
          "2022-05-02T00:00:00",
          "2022-05-09T00:00:00",
          "2022-05-16T00:00:00",
          "2022-05-23T00:00:00",
          "2022-05-30T00:00:00",
          "2022-06-06T00:00:00",
          "2022-06-13T00:00:00",
          "2022-06-20T00:00:00",
          "2022-06-27T00:00:00",
          "2022-07-04T00:00:00",
          "2022-07-11T00:00:00",
          "2022-07-18T00:00:00",
          "2022-07-25T00:00:00",
          "2022-08-01T00:00:00",
          "2022-08-08T00:00:00",
          "2022-08-15T00:00:00",
          "2022-08-22T00:00:00",
          "2022-08-29T00:00:00",
          "2022-09-05T00:00:00",
          "2022-09-12T00:00:00",
          "2022-09-19T00:00:00",
          "2022-09-26T00:00:00",
          "2022-10-03T00:00:00",
          "2022-10-10T00:00:00",
          "2022-10-17T00:00:00",
          "2022-10-24T00:00:00",
          "2022-10-31T00:00:00",
          "2022-11-07T00:00:00",
          "2022-11-14T00:00:00",
          "2022-11-21T00:00:00",
          "2022-11-28T00:00:00",
          "2022-12-05T00:00:00"
         ],
         "y": {
          "bdata": "UOIxC34/hkDSOR63INuHQNSOC5xuT4tAMURvbZi2jkB/4luzkH2QQMvZ+YYDRIxA3GPINebmjECzRpj9ZRaQQNoGSfp3jpJAnBVRE0VDk0Da+Ljb8t6RQN4E3zSdVJBAZO//ws4UhkC6Yuu+2Ix+QOGXPJblC3tAQz19BFY1gEBf4wLpFZmBQIb48sgYlYFApBf3F+hJgUDBjpzYlSOBQE8l4jHcfn9A5X3asEePgED+xLdmCbaCQGCg9wi9WoJAhtn0NZ0chEARsgMZj36CQLHqg5cGi39AQt68gh4MeEDM2Olqn1JyQJ230udahm5AQaPwsHs3a0B/pGf+MTBwQMyMyMEmbnFAG513jPALfUDR7YBG1OKAQAx4eFOicYZAgX0yznhTjECebX94Z0aRQBAKpYp1I5RAXXXTHJ/nlkAAT//++ZiYQCCOv/7dW5ZACbXwBtJbmEADuR9LMkWdQGL+ZVKOYp5AYs0Srkn+m0BPxMfMwkiaQH7lQXpShJZAcK4GzWsilEDnt/mQgTaNQOh5YJVlq4hAeS+tPE/7hUBfyV2dNtWCQJlIBgzceoJAA3sKiPLWgEAcqJ2rT4qAQGTnK1CE5HxAHYQMJgZJe0Dt2GN9nlB7QM7vh+FLoHxATLdXrFIYe0A+Jzk3aP56QMCMc+XNbHpA59lyTyNEekB/rPlUYoF5QC8NLuM3MndArHmnZbg+dUC4fvJeAuV3QKepCrKa3HZAQAJWeQhFdkC+MSUOoOp3QNXOctGnpXdAQVv3JMpmdEBaWOSVk3Z1QC6wpjaxFHdAapYV1NEedkDnfIh40cd0QDtYe6+MOHNA8ynXRuI0bUCg8Y6d4b5pQBIyb1lufmpACPRXAsjIZUCn9nUi+UBlQMKyZwlRR2lAnV1jPI8kcUB+0Kvo7L56QCjWZ9bzY4JAdUE7r5rih0BPlKVSaxyOQH7/5sURvJNAwFq1axItmUCzKEdcl3igQCXm/o+IXqJA2TgHdHt7oUD3eHzWeAakQAQPHUwMW6ZAsmg6O/WipUByagzfywyjQA==",
          "dtype": "f8"
         }
        },
        {
         "line": {
          "color": "blue",
          "dash": "dot",
          "width": 2
         },
         "mode": "lines",
         "name": "Fitted (ITS long)",
         "type": "scatter",
         "x": [
          "2021-01-25T00:00:00",
          "2021-02-01T00:00:00",
          "2021-02-08T00:00:00",
          "2021-02-15T00:00:00",
          "2021-02-22T00:00:00",
          "2021-03-01T00:00:00",
          "2021-03-08T00:00:00",
          "2021-03-15T00:00:00",
          "2021-03-22T00:00:00",
          "2021-03-29T00:00:00",
          "2021-04-05T00:00:00",
          "2021-04-12T00:00:00",
          "2021-04-19T00:00:00",
          "2021-04-26T00:00:00",
          "2021-05-03T00:00:00",
          "2021-05-10T00:00:00",
          "2021-05-17T00:00:00",
          "2021-05-24T00:00:00",
          "2021-05-31T00:00:00",
          "2021-06-07T00:00:00",
          "2021-06-14T00:00:00",
          "2021-06-21T00:00:00",
          "2021-06-28T00:00:00",
          "2021-07-05T00:00:00",
          "2021-07-12T00:00:00",
          "2021-07-19T00:00:00",
          "2021-07-26T00:00:00",
          "2021-08-02T00:00:00",
          "2021-08-09T00:00:00",
          "2021-08-16T00:00:00",
          "2021-08-23T00:00:00",
          "2021-08-30T00:00:00",
          "2021-09-06T00:00:00",
          "2021-09-13T00:00:00",
          "2021-09-20T00:00:00",
          "2021-09-27T00:00:00",
          "2021-10-04T00:00:00",
          "2021-10-11T00:00:00",
          "2021-10-18T00:00:00",
          "2021-10-25T00:00:00",
          "2021-11-01T00:00:00",
          "2021-11-08T00:00:00",
          "2021-11-15T00:00:00",
          "2021-11-22T00:00:00",
          "2021-11-29T00:00:00",
          "2021-12-06T00:00:00",
          "2021-12-13T00:00:00",
          "2021-12-20T00:00:00",
          "2021-12-27T00:00:00",
          "2022-01-03T00:00:00",
          "2022-01-10T00:00:00",
          "2022-01-17T00:00:00",
          "2022-01-24T00:00:00",
          "2022-01-31T00:00:00",
          "2022-02-07T00:00:00",
          "2022-02-14T00:00:00",
          "2022-02-21T00:00:00",
          "2022-02-28T00:00:00",
          "2022-03-07T00:00:00",
          "2022-03-14T00:00:00",
          "2022-03-21T00:00:00",
          "2022-03-28T00:00:00",
          "2022-04-04T00:00:00",
          "2022-04-11T00:00:00",
          "2022-04-18T00:00:00",
          "2022-04-25T00:00:00",
          "2022-05-02T00:00:00",
          "2022-05-09T00:00:00",
          "2022-05-16T00:00:00",
          "2022-05-23T00:00:00",
          "2022-05-30T00:00:00",
          "2022-06-06T00:00:00",
          "2022-06-13T00:00:00",
          "2022-06-20T00:00:00",
          "2022-06-27T00:00:00",
          "2022-07-04T00:00:00",
          "2022-07-11T00:00:00",
          "2022-07-18T00:00:00",
          "2022-07-25T00:00:00",
          "2022-08-01T00:00:00",
          "2022-08-08T00:00:00",
          "2022-08-15T00:00:00",
          "2022-08-22T00:00:00",
          "2022-08-29T00:00:00",
          "2022-09-05T00:00:00",
          "2022-09-12T00:00:00",
          "2022-09-19T00:00:00",
          "2022-09-26T00:00:00",
          "2022-10-03T00:00:00",
          "2022-10-10T00:00:00",
          "2022-10-17T00:00:00",
          "2022-10-24T00:00:00",
          "2022-10-31T00:00:00",
          "2022-11-07T00:00:00",
          "2022-11-14T00:00:00",
          "2022-11-21T00:00:00",
          "2022-11-28T00:00:00",
          "2022-12-05T00:00:00"
         ],
         "y": {
          "bdata": "AAAAAAAA+H8AAAAAAAD4fwAAAAAAAPh/AAAAAAAA+H8AAAAAAAD4fwAAAAAAAPh/AAAAAAAA+H8AAAAAAAD4fwAAAAAAAPh/AAAAAAAA+H8AAAAAAAD4fwAAAAAAAPh/AAAAAAAA+H8AAAAAAAD4fwAAAAAAAPh/AAAAAAAA+H8AAAAAAAD4fwAAAAAAAPh/AAAAAAAA+H8AAAAAAAD4fwAAAAAAAPh/AAAAAAAA+H8AAAAAAAD4fwAAAAAAAPh/AAAAAAAA+H8AAAAAAAD4fwAAAAAAAPh/AAAAAAAA+H8AAAAAAAD4fwAAAAAAAPh/AAAAAAAA+H8AAAAAAAD4fwAAAAAAAPh/AAAAAAAA+H8AAAAAAAD4fwAAAAAAAPh/AAAAAAAA+H8AAAAAAAD4fwAAAAAAAPh/AAAAAAAA+H8AAAAAAAD4fwAAAAAAAPh/AAAAAAAA+H8AAAAAAAD4fwAAAAAAAPh/AAAAAAAA+H8AAAAAAAD4fwAAAAAAAPh/AAAAAAAA+H8AAAAAAAD4fwAAAAAAAPh/AAAAAAAA+H8AAAAAAAD4fwAAAAAAAPh/AAAAAAAA+H8AAAAAAAD4fwAAAAAAAPh/AAAAAAAA+H8AAAAAAAD4fwAAAAAAAPh/AAAAAAAA+H8AAAAAAAD4fwAAAAAAAPh/AAAAAAAA+H8AAAAAAAD4fwAAAAAAAPh/AAAAAAAA+H8AAAAAAAD4fwAAAAAAAPh/AAAAAAAA+H8AAAAAAAD4fwAAAAAAAPh/AAAAAAAA+H8AAAAAAAD4fwAAAAAAAPh/AAAAAAAA+H8AAAAAAAD4fwAAAAAAAPh/AAAAAAAA+H8AAAAAAAD4fwAAAAAAAPh/AAAAAAAA+H8AAAAAAAD4fwAAAAAAAPh/AAAAAAAA+H8AAAAAAAD4fwAAAAAAAPh/AAAAAAAA+H8AAAAAAAD4fwAAAAAAAPh/AAAAAAAA+H8AAAAAAAD4fwAAAAAAAPh/AAAAAAAA+H8AAAAAAAD4fwAAAAAAAPh/AAAAAAAA+H8AAAAAAAD4fw==",
          "dtype": "f8"
         }
        },
        {
         "line": {
          "color": "#E41A1C",
          "dash": "dash",
          "width": 1.4
         },
         "mode": "lines",
         "name": "COVID | MNP:real | Vaccine",
         "type": "scatter",
         "x": [
          "2021-01-25T00:00:00",
          "2021-02-01T00:00:00",
          "2021-02-08T00:00:00",
          "2021-02-15T00:00:00",
          "2021-02-22T00:00:00",
          "2021-03-01T00:00:00",
          "2021-03-08T00:00:00",
          "2021-03-15T00:00:00",
          "2021-03-22T00:00:00",
          "2021-03-29T00:00:00",
          "2021-04-05T00:00:00",
          "2021-04-12T00:00:00",
          "2021-04-19T00:00:00",
          "2021-04-26T00:00:00",
          "2021-05-03T00:00:00",
          "2021-05-10T00:00:00",
          "2021-05-17T00:00:00",
          "2021-05-24T00:00:00",
          "2021-05-31T00:00:00",
          "2021-06-07T00:00:00",
          "2021-06-14T00:00:00",
          "2021-06-21T00:00:00",
          "2021-06-28T00:00:00",
          "2021-07-05T00:00:00",
          "2021-07-12T00:00:00",
          "2021-07-19T00:00:00",
          "2021-07-26T00:00:00",
          "2021-08-02T00:00:00",
          "2021-08-09T00:00:00",
          "2021-08-16T00:00:00",
          "2021-08-23T00:00:00",
          "2021-08-30T00:00:00",
          "2021-09-06T00:00:00",
          "2021-09-13T00:00:00",
          "2021-09-20T00:00:00",
          "2021-09-27T00:00:00",
          "2021-10-04T00:00:00",
          "2021-10-11T00:00:00",
          "2021-10-18T00:00:00",
          "2021-10-25T00:00:00",
          "2021-11-01T00:00:00",
          "2021-11-08T00:00:00",
          "2021-11-15T00:00:00",
          "2021-11-22T00:00:00",
          "2021-11-29T00:00:00",
          "2021-12-06T00:00:00",
          "2021-12-13T00:00:00",
          "2021-12-20T00:00:00",
          "2021-12-27T00:00:00",
          "2022-01-03T00:00:00",
          "2022-01-10T00:00:00",
          "2022-01-17T00:00:00",
          "2022-01-24T00:00:00",
          "2022-01-31T00:00:00",
          "2022-02-07T00:00:00",
          "2022-02-14T00:00:00",
          "2022-02-21T00:00:00",
          "2022-02-28T00:00:00",
          "2022-03-07T00:00:00",
          "2022-03-14T00:00:00",
          "2022-03-21T00:00:00",
          "2022-03-28T00:00:00",
          "2022-04-04T00:00:00",
          "2022-04-11T00:00:00",
          "2022-04-18T00:00:00",
          "2022-04-25T00:00:00",
          "2022-05-02T00:00:00",
          "2022-05-09T00:00:00",
          "2022-05-16T00:00:00",
          "2022-05-23T00:00:00",
          "2022-05-30T00:00:00",
          "2022-06-06T00:00:00",
          "2022-06-13T00:00:00",
          "2022-06-20T00:00:00",
          "2022-06-27T00:00:00",
          "2022-07-04T00:00:00",
          "2022-07-11T00:00:00",
          "2022-07-18T00:00:00",
          "2022-07-25T00:00:00",
          "2022-08-01T00:00:00",
          "2022-08-08T00:00:00",
          "2022-08-15T00:00:00",
          "2022-08-22T00:00:00",
          "2022-08-29T00:00:00",
          "2022-09-05T00:00:00",
          "2022-09-12T00:00:00",
          "2022-09-19T00:00:00",
          "2022-09-26T00:00:00",
          "2022-10-03T00:00:00",
          "2022-10-10T00:00:00",
          "2022-10-17T00:00:00",
          "2022-10-24T00:00:00",
          "2022-10-31T00:00:00",
          "2022-11-07T00:00:00",
          "2022-11-14T00:00:00",
          "2022-11-21T00:00:00",
          "2022-11-28T00:00:00",
          "2022-12-05T00:00:00"
         ],
         "y": {
          "bdata": "b89dCYjhmEB1mvGjbZiWQAbunSE3RpdAJI7sqFt1kUAZ1haHll2OQOJaAUEiVZNAsZxG8QXMkEB2Oqbpt2+QQON/OglsVY5AdtT4pnzMi0DeWitrnzuJQIpTvvwrxoVABtEUYj+qgkAF4VireICBQBYaUwNveoFAeHTNwYdygEAQ28aBW8V9QBTUgMRcw3pAnm4Hvw0JZ0Bux6xpYBBsQO8U6/3bnXBAca3X8ZMPbECeKrn+Gp9zQO5An3Zb/nJAHjWBRIwueEAVn+03c8N1QPsqAiE0OnxABbmNonM2fUAzoUVa9v5+QMaCWemlqX5AM7Lr+7dQgEA/srUw11WBQNP8w6lNT4RAHbilZb7SgkBfxMB8craDQCewgHHBy4JAOdtQNp24g0Akz+VGBPaGQD53OmdL8I5A3e0aeqd5kECwN9/r/d6RQJlmKqFcjZJAAeGEjngElEA7Ykt1yauUQNSn/xLG7JRAYGfTV89PlUDK/158JFeVQCLXfAOwepNANEK5Ty3QkUAkxXXt4h6SQDBqE3lw9pNAtPdyR99Tk0DNFQu+rJiSQHDPc/D7ApJAy6UTolAfkUBCxdpqg0qFQEkEptS+vHxAxYUg7CUMh0A2p0mnBlKFQB/HPXi52IJAvrWRdGWLgEDmCAFrd5Z9QDPA8QFzsnZAmrczcEygcEDaYFve4utwQDYyGrEATXBABCSLSwZObUAs16iExjBpQNzmB0yLRWZAlBELODOyY0CcLk5cDd5kQOAzLvTDbVNAQCTF5pX/L8Bop79rmFZkQGAOcyzNsG9AiPVCr4u1dEDQ/OAR/6B4QA6e3eFq1XBAwiVPfmDAgEDt8UOOXUmBQJzxovfjp4ZAHCycDwVhiUDik/cdOz+MQN5iBqYTOY5ASx+zVOe9i0AjgDzsaSKRQNT5FhyfopJAQDzgcVjhkkAA+tx8nJOTQLuxMPoCoZRASmC5iSxemEDcWHgRKAmbQDajO25ZyZxA8iFJH4r1nUAitbu8cfGeQOBh7Asp559APHx2QjJVoECriAPbjVWgQA==",
          "dtype": "f8"
         }
        },
        {
         "line": {
          "color": "#377EB8",
          "dash": "dash",
          "width": 1.4
         },
         "mode": "lines",
         "name": "COVID | MNP:real | NoVaccine",
         "type": "scatter",
         "x": [
          "2021-01-25T00:00:00",
          "2021-02-01T00:00:00",
          "2021-02-08T00:00:00",
          "2021-02-15T00:00:00",
          "2021-02-22T00:00:00",
          "2021-03-01T00:00:00",
          "2021-03-08T00:00:00",
          "2021-03-15T00:00:00",
          "2021-03-22T00:00:00",
          "2021-03-29T00:00:00",
          "2021-04-05T00:00:00",
          "2021-04-12T00:00:00",
          "2021-04-19T00:00:00",
          "2021-04-26T00:00:00",
          "2021-05-03T00:00:00",
          "2021-05-10T00:00:00",
          "2021-05-17T00:00:00",
          "2021-05-24T00:00:00",
          "2021-05-31T00:00:00",
          "2021-06-07T00:00:00",
          "2021-06-14T00:00:00",
          "2021-06-21T00:00:00",
          "2021-06-28T00:00:00",
          "2021-07-05T00:00:00",
          "2021-07-12T00:00:00",
          "2021-07-19T00:00:00",
          "2021-07-26T00:00:00",
          "2021-08-02T00:00:00",
          "2021-08-09T00:00:00",
          "2021-08-16T00:00:00",
          "2021-08-23T00:00:00",
          "2021-08-30T00:00:00",
          "2021-09-06T00:00:00",
          "2021-09-13T00:00:00",
          "2021-09-20T00:00:00",
          "2021-09-27T00:00:00",
          "2021-10-04T00:00:00",
          "2021-10-11T00:00:00",
          "2021-10-18T00:00:00",
          "2021-10-25T00:00:00",
          "2021-11-01T00:00:00",
          "2021-11-08T00:00:00",
          "2021-11-15T00:00:00",
          "2021-11-22T00:00:00",
          "2021-11-29T00:00:00",
          "2021-12-06T00:00:00",
          "2021-12-13T00:00:00",
          "2021-12-20T00:00:00",
          "2021-12-27T00:00:00",
          "2022-01-03T00:00:00",
          "2022-01-10T00:00:00",
          "2022-01-17T00:00:00",
          "2022-01-24T00:00:00",
          "2022-01-31T00:00:00",
          "2022-02-07T00:00:00",
          "2022-02-14T00:00:00",
          "2022-02-21T00:00:00",
          "2022-02-28T00:00:00",
          "2022-03-07T00:00:00",
          "2022-03-14T00:00:00",
          "2022-03-21T00:00:00",
          "2022-03-28T00:00:00",
          "2022-04-04T00:00:00",
          "2022-04-11T00:00:00",
          "2022-04-18T00:00:00",
          "2022-04-25T00:00:00",
          "2022-05-02T00:00:00",
          "2022-05-09T00:00:00",
          "2022-05-16T00:00:00",
          "2022-05-23T00:00:00",
          "2022-05-30T00:00:00",
          "2022-06-06T00:00:00",
          "2022-06-13T00:00:00",
          "2022-06-20T00:00:00",
          "2022-06-27T00:00:00",
          "2022-07-04T00:00:00",
          "2022-07-11T00:00:00",
          "2022-07-18T00:00:00",
          "2022-07-25T00:00:00",
          "2022-08-01T00:00:00",
          "2022-08-08T00:00:00",
          "2022-08-15T00:00:00",
          "2022-08-22T00:00:00",
          "2022-08-29T00:00:00",
          "2022-09-05T00:00:00",
          "2022-09-12T00:00:00",
          "2022-09-19T00:00:00",
          "2022-09-26T00:00:00",
          "2022-10-03T00:00:00",
          "2022-10-10T00:00:00",
          "2022-10-17T00:00:00",
          "2022-10-24T00:00:00",
          "2022-10-31T00:00:00",
          "2022-11-07T00:00:00",
          "2022-11-14T00:00:00",
          "2022-11-21T00:00:00",
          "2022-11-28T00:00:00",
          "2022-12-05T00:00:00"
         ],
         "y": {
          "bdata": "ZGgGndk9k0B0OwdIB+GQQNPhfxphe5FAHS1zCoUuh0ACUoaHz4WCQIirOzU22opAQ1dN+lT3hUDsoKpFDIOFQEtUh7K8KINAPu/AWZ7CgECloWt05Jl8QOnwdXMPvHVAsNsOAmBKb0DH430zhbBrQH7DKkRzE21AX7QnmNUta0Cxwy/LCcdnQIBNwE903mRAZ+nQa88KR8DQFyzzXiQ1QFUx38EJaFVA+0Cj0O9DUkDYWg513WZpQDwL56Zj7W1A1uRyfO/Xd0BTti6PQOJ5QNt8a1SZioJAHhfNLL07hUBpCHaccUmIQOSAlka8PYpAoSAs+V7LjEDqmKjW4AmPQOP/qn42qJFAxyWmKG+xkUD5l4rid/iSQBeK1vLuKpNA4hOf9/cGlECqkDZwEOyVQD4zNe7zHJpAPzqnQEhAm0DUAKtgUL2cQODEdQU0ep1A/+4WC7j6nkBkWDhIaaWfQCUReuqv5p9AOFTcUkskoEApQAjrryegQNxhMjrkb55AzMz9TezAnEBv6RUYpQydQHUgY8qf455AbQBL4hc6nkD8P//XLnedQF1eYbPF45xA4SnE5ZwBnEAKt4C4x4SVQO+/+nIuDpJAUxudMEhjlkDgTrN5hYGVQFfwJaEOPJRAS6J9fMMJk0AXejDBHBuSQFXkr12uUZBAHtbY3up3jUCo8KuSTnqNQOz3tPzBBo1AMc1PnxUPjECBr5cuueKKQI7T7jKWAopAr1556w85iUCS+kQf/l6JQLpyWgv8b4ZA0aqCfc5cg0CWjtKAmMyIQN7d2G2vfYtA0mydM7jGjUCCT1nQxpaPQGk8ZOpLi4tASMivMr3dkUATCLE7iw+SQP6IG4PJq5RAyhalq2f1lUB3MfSEelGXQHzBf2kXO5hA8JmS5zDqlkAywFH1SBqaQBpzCDQwh5tAp4Vckpiym0B0zMOYcVGcQEBY+YVpS51AoNOCCJZ6oEDGDWG2YMahQJYwjMvCnKJAgmsRXSQpo0D+x9dmYJ2jQMJvMqt/DqRAo/T7+1pmpEAATZW881ykQA==",
          "dtype": "f8"
         }
        },
        {
         "line": {
          "color": "#4DAF4A",
          "dash": "dash",
          "width": 1.4
         },
         "mode": "lines",
         "name": "COVID | MNP:none | Vaccine",
         "type": "scatter",
         "x": [
          "2021-01-25T00:00:00",
          "2021-02-01T00:00:00",
          "2021-02-08T00:00:00",
          "2021-02-15T00:00:00",
          "2021-02-22T00:00:00",
          "2021-03-01T00:00:00",
          "2021-03-08T00:00:00",
          "2021-03-15T00:00:00",
          "2021-03-22T00:00:00",
          "2021-03-29T00:00:00",
          "2021-04-05T00:00:00",
          "2021-04-12T00:00:00",
          "2021-04-19T00:00:00",
          "2021-04-26T00:00:00",
          "2021-05-03T00:00:00",
          "2021-05-10T00:00:00",
          "2021-05-17T00:00:00",
          "2021-05-24T00:00:00",
          "2021-05-31T00:00:00",
          "2021-06-07T00:00:00",
          "2021-06-14T00:00:00",
          "2021-06-21T00:00:00",
          "2021-06-28T00:00:00",
          "2021-07-05T00:00:00",
          "2021-07-12T00:00:00",
          "2021-07-19T00:00:00",
          "2021-07-26T00:00:00",
          "2021-08-02T00:00:00",
          "2021-08-09T00:00:00",
          "2021-08-16T00:00:00",
          "2021-08-23T00:00:00",
          "2021-08-30T00:00:00",
          "2021-09-06T00:00:00",
          "2021-09-13T00:00:00",
          "2021-09-20T00:00:00",
          "2021-09-27T00:00:00",
          "2021-10-04T00:00:00",
          "2021-10-11T00:00:00",
          "2021-10-18T00:00:00",
          "2021-10-25T00:00:00",
          "2021-11-01T00:00:00",
          "2021-11-08T00:00:00",
          "2021-11-15T00:00:00",
          "2021-11-22T00:00:00",
          "2021-11-29T00:00:00",
          "2021-12-06T00:00:00",
          "2021-12-13T00:00:00",
          "2021-12-20T00:00:00",
          "2021-12-27T00:00:00",
          "2022-01-03T00:00:00",
          "2022-01-10T00:00:00",
          "2022-01-17T00:00:00",
          "2022-01-24T00:00:00",
          "2022-01-31T00:00:00",
          "2022-02-07T00:00:00",
          "2022-02-14T00:00:00",
          "2022-02-21T00:00:00",
          "2022-02-28T00:00:00",
          "2022-03-07T00:00:00",
          "2022-03-14T00:00:00",
          "2022-03-21T00:00:00",
          "2022-03-28T00:00:00",
          "2022-04-04T00:00:00",
          "2022-04-11T00:00:00",
          "2022-04-18T00:00:00",
          "2022-04-25T00:00:00",
          "2022-05-02T00:00:00",
          "2022-05-09T00:00:00",
          "2022-05-16T00:00:00",
          "2022-05-23T00:00:00",
          "2022-05-30T00:00:00",
          "2022-06-06T00:00:00",
          "2022-06-13T00:00:00",
          "2022-06-20T00:00:00",
          "2022-06-27T00:00:00",
          "2022-07-04T00:00:00",
          "2022-07-11T00:00:00",
          "2022-07-18T00:00:00",
          "2022-07-25T00:00:00",
          "2022-08-01T00:00:00",
          "2022-08-08T00:00:00",
          "2022-08-15T00:00:00",
          "2022-08-22T00:00:00",
          "2022-08-29T00:00:00",
          "2022-09-05T00:00:00",
          "2022-09-12T00:00:00",
          "2022-09-19T00:00:00",
          "2022-09-26T00:00:00",
          "2022-10-03T00:00:00",
          "2022-10-10T00:00:00",
          "2022-10-17T00:00:00",
          "2022-10-24T00:00:00",
          "2022-10-31T00:00:00",
          "2022-11-07T00:00:00",
          "2022-11-14T00:00:00",
          "2022-11-21T00:00:00",
          "2022-11-28T00:00:00",
          "2022-12-05T00:00:00"
         ],
         "y": {
          "bdata": "Nc3w03n0mEA8+emDjBaYQNrLZfdCG5dAyFG5lncKlkCNuT164L2UQCAayBmmcJNAJ8Uicio6kkCOj6H1dsyQQL/hCyZZ3o5ANh4TcDlFjECcOZBGMNCJQGyBa7gcjodAzJalRPh5hUCh/mK07mWDQIRw0Gl9hoFA18PRcoyTf0DMg0phCkh8QPCw/BtHfXlA122Ubg37dkBVVvII+gd1QAt4Di6FiHRAvXuOCco7dEAOTKSX+uhzQDpHEz79CnRACADowx+Vc0Af/oEkM5FzQHsP6ReoWXNA90Jng243dEB7KLkGZl91QOLugFRn7nZA+KRpE/rZeUAhx+HwyqN9QCJjeF8krYBA49ACAMwtgkAFOzqNxL+DQK/GxWDQgIVAL2WpFqSZh0AxQn20+dSJQMjg+CWFFYxAqUczXfBPjkBqkmuOpiyQQGPq9UXfD5FAis+WcM/MkUABt9qjom2SQCGTbCBx4JJABm6cjVYok0CyNFHxnkSTQCM7UcqLNZNAmrhJSDDvkkBiMOPkZICSQBstJoBw95FA2duwrwNckUCENtCv0YyQQP++3Nf9K49A2UfHdeYPjUCPgbpxl82KQBs2eGDEEIhAl4kBfI9whUBKgQY5Zz+DQA2LiB5XwYBA85CXftebfEAiz46S4eh3QClzdUQVf3NAYM5RefSVbkAID4upHP5mQGzSTeCfqWBA2GvySR2JVkDgz/DHcqlLQCC/6T2I1D1AAAC4/CAqLUAAVZrsItAjQMBXuv7j3DBAoJIxyme1P0CAOz6q2KpMQLCX7KoZZ1lAMO4ZKdUnY0BInr4HaMlqQOraji5Gv3FA2J2c7nVEdkCW1+/7yfx7QCammJ6nz4BA8Mdf8ojxg0CY0u0RyR6HQDhFfjL6ZIpAhRRjV7KwjUB1RsjeVG6QQMuziSzqIpJANlKUG5q/k0DKfjVLzESVQGbo/h95upZA9Jnu4e8amEDmbQkd3HOZQO+0vRlCpJpA47eSU9Wqm0CuhUcSUIecQFb8OoFeOp1ATB4yKIPDnUC7OD8hSCCeQA==",
          "dtype": "f8"
         }
        },
        {
         "line": {
          "color": "#984EA3",
          "dash": "dash",
          "width": 1.4
         },
         "mode": "lines",
         "name": "COVID | MNP:none | NoVaccine",
         "type": "scatter",
         "x": [
          "2021-01-25T00:00:00",
          "2021-02-01T00:00:00",
          "2021-02-08T00:00:00",
          "2021-02-15T00:00:00",
          "2021-02-22T00:00:00",
          "2021-03-01T00:00:00",
          "2021-03-08T00:00:00",
          "2021-03-15T00:00:00",
          "2021-03-22T00:00:00",
          "2021-03-29T00:00:00",
          "2021-04-05T00:00:00",
          "2021-04-12T00:00:00",
          "2021-04-19T00:00:00",
          "2021-04-26T00:00:00",
          "2021-05-03T00:00:00",
          "2021-05-10T00:00:00",
          "2021-05-17T00:00:00",
          "2021-05-24T00:00:00",
          "2021-05-31T00:00:00",
          "2021-06-07T00:00:00",
          "2021-06-14T00:00:00",
          "2021-06-21T00:00:00",
          "2021-06-28T00:00:00",
          "2021-07-05T00:00:00",
          "2021-07-12T00:00:00",
          "2021-07-19T00:00:00",
          "2021-07-26T00:00:00",
          "2021-08-02T00:00:00",
          "2021-08-09T00:00:00",
          "2021-08-16T00:00:00",
          "2021-08-23T00:00:00",
          "2021-08-30T00:00:00",
          "2021-09-06T00:00:00",
          "2021-09-13T00:00:00",
          "2021-09-20T00:00:00",
          "2021-09-27T00:00:00",
          "2021-10-04T00:00:00",
          "2021-10-11T00:00:00",
          "2021-10-18T00:00:00",
          "2021-10-25T00:00:00",
          "2021-11-01T00:00:00",
          "2021-11-08T00:00:00",
          "2021-11-15T00:00:00",
          "2021-11-22T00:00:00",
          "2021-11-29T00:00:00",
          "2021-12-06T00:00:00",
          "2021-12-13T00:00:00",
          "2021-12-20T00:00:00",
          "2021-12-27T00:00:00",
          "2022-01-03T00:00:00",
          "2022-01-10T00:00:00",
          "2022-01-17T00:00:00",
          "2022-01-24T00:00:00",
          "2022-01-31T00:00:00",
          "2022-02-07T00:00:00",
          "2022-02-14T00:00:00",
          "2022-02-21T00:00:00",
          "2022-02-28T00:00:00",
          "2022-03-07T00:00:00",
          "2022-03-14T00:00:00",
          "2022-03-21T00:00:00",
          "2022-03-28T00:00:00",
          "2022-04-04T00:00:00",
          "2022-04-11T00:00:00",
          "2022-04-18T00:00:00",
          "2022-04-25T00:00:00",
          "2022-05-02T00:00:00",
          "2022-05-09T00:00:00",
          "2022-05-16T00:00:00",
          "2022-05-23T00:00:00",
          "2022-05-30T00:00:00",
          "2022-06-06T00:00:00",
          "2022-06-13T00:00:00",
          "2022-06-20T00:00:00",
          "2022-06-27T00:00:00",
          "2022-07-04T00:00:00",
          "2022-07-11T00:00:00",
          "2022-07-18T00:00:00",
          "2022-07-25T00:00:00",
          "2022-08-01T00:00:00",
          "2022-08-08T00:00:00",
          "2022-08-15T00:00:00",
          "2022-08-22T00:00:00",
          "2022-08-29T00:00:00",
          "2022-09-05T00:00:00",
          "2022-09-12T00:00:00",
          "2022-09-19T00:00:00",
          "2022-09-26T00:00:00",
          "2022-10-03T00:00:00",
          "2022-10-10T00:00:00",
          "2022-10-17T00:00:00",
          "2022-10-24T00:00:00",
          "2022-10-31T00:00:00",
          "2022-11-07T00:00:00",
          "2022-11-14T00:00:00",
          "2022-11-21T00:00:00",
          "2022-11-28T00:00:00",
          "2022-12-05T00:00:00"
         ],
         "y": {
          "bdata": "KmaZZ8tQk0A6mv8nJl+SQKe/R/BsUJFAM1oGc14skEAB7+r0+aONQAQqyeY9EYtAMKgF/J3TiEAbS6FdijyGQCe2WM+psYNA/jjbIls7gUAhXzUrBsN9QK1M0OrwS3lAZfkoxqFEdUAcLdOrLqNxQDYdIN6sQ21AL2qVds+KaEAlFTeKZ8xkQDgHuP5IUmJAtjItQ1kqYUA2aJ2GH6RgQN5eNkFXiWJAheqWCfiJZUC0neSmnPppQOqL55pTA3BAwK/Z+4I+c0BfFcN7ALB3QDPevZ+mNHxAFtw5nTq8gEALzK9yqXmDQPI2KvwcYIZA60D1BqRniUA8ymMe74WMQBdmCrNDro9AKrLU9fVekUBMU8fqIP2SQFwVeWp2hZRA3VjLZ3v3lUAxSgIni1uXQANolM2Qr5hANvAl9ZjumUCOWzcD+QqbQKpIQaq2/JtAid0o7Q7DnEArrcd2QmedQHL85vda2p1AFq+B2x0hnkA5tQJL2jyeQN3FBgHAKp5AMkOORu/fnUCtVIMPJ26dQGDjddGf5JxAkuSISjxCnECzYMTJU2ubQG3u267IdppAAyiUfj9qmUAwlfC7UUaYQOtZDe5g55ZAPJ2N+HyVlUDqu5HCNXiUQE5SS3RdMJNAqavaoQbrkUCm6xNLt6+QQCaiodytCY9A6G0TxUHNjED+A+FN5MOKQGxTO5ypColArFGrtbeMh0C0huy5HlGGQNAn3KHXX4VAS3ppoSvBhEA/2ONTu3aEQPx+yqwqiYRA90tvE3jahEBziIbwn4GFQDutGVhfvoZAmm1Cpuc1iECreFhJofiJQNfavJA5AIxAurle3lQdjkABBYvzDmqQQENjllarv5FAtOQGnak9k0DSUO9+QcGUQKqyu68KUZZAjpTqaJbjl0CEht3nM2aZQBIte0R7B5tAnZsQPNqQnEA+URxnoQKeQOyOx6vfZJ9AdHCdtPdYoEBMmCm8uvugQHM5TSE3iqFAejY298kDokBEsJ2RT2iiQP282WUauKJAjoeeTeryokCyYDHyiRejQA==",
          "dtype": "f8"
         }
        },
        {
         "line": {
          "color": "#FF7F00",
          "dash": "dash",
          "width": 1.4
         },
         "mode": "lines",
         "name": "COVID | MNP:maintained | Vaccine",
         "type": "scatter",
         "x": [
          "2021-01-25T00:00:00",
          "2021-02-01T00:00:00",
          "2021-02-08T00:00:00",
          "2021-02-15T00:00:00",
          "2021-02-22T00:00:00",
          "2021-03-01T00:00:00",
          "2021-03-08T00:00:00",
          "2021-03-15T00:00:00",
          "2021-03-22T00:00:00",
          "2021-03-29T00:00:00",
          "2021-04-05T00:00:00",
          "2021-04-12T00:00:00",
          "2021-04-19T00:00:00",
          "2021-04-26T00:00:00",
          "2021-05-03T00:00:00",
          "2021-05-10T00:00:00",
          "2021-05-17T00:00:00",
          "2021-05-24T00:00:00",
          "2021-05-31T00:00:00",
          "2021-06-07T00:00:00",
          "2021-06-14T00:00:00",
          "2021-06-21T00:00:00",
          "2021-06-28T00:00:00",
          "2021-07-05T00:00:00",
          "2021-07-12T00:00:00",
          "2021-07-19T00:00:00",
          "2021-07-26T00:00:00",
          "2021-08-02T00:00:00",
          "2021-08-09T00:00:00",
          "2021-08-16T00:00:00",
          "2021-08-23T00:00:00",
          "2021-08-30T00:00:00",
          "2021-09-06T00:00:00",
          "2021-09-13T00:00:00",
          "2021-09-20T00:00:00",
          "2021-09-27T00:00:00",
          "2021-10-04T00:00:00",
          "2021-10-11T00:00:00",
          "2021-10-18T00:00:00",
          "2021-10-25T00:00:00",
          "2021-11-01T00:00:00",
          "2021-11-08T00:00:00",
          "2021-11-15T00:00:00",
          "2021-11-22T00:00:00",
          "2021-11-29T00:00:00",
          "2021-12-06T00:00:00",
          "2021-12-13T00:00:00",
          "2021-12-20T00:00:00",
          "2021-12-27T00:00:00",
          "2022-01-03T00:00:00",
          "2022-01-10T00:00:00",
          "2022-01-17T00:00:00",
          "2022-01-24T00:00:00",
          "2022-01-31T00:00:00",
          "2022-02-07T00:00:00",
          "2022-02-14T00:00:00",
          "2022-02-21T00:00:00",
          "2022-02-28T00:00:00",
          "2022-03-07T00:00:00",
          "2022-03-14T00:00:00",
          "2022-03-21T00:00:00",
          "2022-03-28T00:00:00",
          "2022-04-04T00:00:00",
          "2022-04-11T00:00:00",
          "2022-04-18T00:00:00",
          "2022-04-25T00:00:00",
          "2022-05-02T00:00:00",
          "2022-05-09T00:00:00",
          "2022-05-16T00:00:00",
          "2022-05-23T00:00:00",
          "2022-05-30T00:00:00",
          "2022-06-06T00:00:00",
          "2022-06-13T00:00:00",
          "2022-06-20T00:00:00",
          "2022-06-27T00:00:00",
          "2022-07-04T00:00:00",
          "2022-07-11T00:00:00",
          "2022-07-18T00:00:00",
          "2022-07-25T00:00:00",
          "2022-08-01T00:00:00",
          "2022-08-08T00:00:00",
          "2022-08-15T00:00:00",
          "2022-08-22T00:00:00",
          "2022-08-29T00:00:00",
          "2022-09-05T00:00:00",
          "2022-09-12T00:00:00",
          "2022-09-19T00:00:00",
          "2022-09-26T00:00:00",
          "2022-10-03T00:00:00",
          "2022-10-10T00:00:00",
          "2022-10-17T00:00:00",
          "2022-10-24T00:00:00",
          "2022-10-31T00:00:00",
          "2022-11-07T00:00:00",
          "2022-11-14T00:00:00",
          "2022-11-21T00:00:00",
          "2022-11-28T00:00:00",
          "2022-12-05T00:00:00"
         ],
         "y": {
          "bdata": "s+XuRfr+mUC7Eej1DCGZQFnkY2nDJZhAR2q3CPgUl0AM0jvsYMiVQJ8yxosme5RApt0g5KpEk0ANqJ9n99aRQF8JBAWteZBANE8PVDpajkCaaowqMeWLQGqyZ5wdo4lAysehKPmOh0CfL1+Y73qFQIKhzE1+m4NA6hJlHcfegUDkcqEUBjmAQOoS9eNIp31A08+MNg8le0BTuOrQ+zF5QAfaBvaGsnhAud2G0ctleEAKrpxf/BJ4QDapCwb/NHhAAmLgiyG/d0AfYHrsNLt3QHlx4d+pg3dA9aRfS3BheEB5irHOZ4l5QOBQeRxpGHtA9gZi2/sDfkCQFG1c5uaAQCGUdEMlwoJA4gH/48xChEAFbDZxxdSFQK73wUTRlYdALpal+qSuiUAvc3mY+umLQMcR9QmGKo5AU7yXoHgykEDqqmkAJzeRQOIC9LdfGpJACuiU4k/XkkCBz9gVI3iTQKCrapLx6pNAhYaa/9YylEAxTU9jH0+UQKNTTzwMQJRAGdFHurD5k0DhSOFW5YqTQJtFJPLwAZNAWPSuIYRmkkAET84hUpeRQP937F1/oJBA2HjDWeckj0COsrZVmOKMQBpndETFJYpAlrr9X5CFh0BJsgIdaFSFQAy8hAJY1oJAeflHo+xigEAgMYda4xJ8QCfVbQwXqXdALkmhBPx0c0AE03s5IFJvQGSWPnCj/WhA5PnpNJKYY0Do79mDwHxeQLj3Wy8pHVhA+Id4P0tNVECQ0nR9CyJTQNgdkB9A31RAoOxtEmGVWECwpQB1c/1eQNAPZ2WQB2VAKLIKudh7a0AgsdfLtY5xQOY8h/ZH6XVA1P+UtnduekDJHPThZROAQCTXlIKo5IJA7vhb1okGhkCWA+r1yTOJQDZ2ehb7eYxAg0VfO7PFj0D0XsZQ1XiRQErMh55qLZNAtWqSjRrKlEBJlzO9TE+WQOUA/ZH5xJdAc7LsU3AlmUBlhgePXH6aQG7Nu4vCrptAYtCQxVW1nEAunkWE0JGdQNQUOfPeRJ5AyzYwmgPOnkA6UT2TyCqfQA==",
          "dtype": "f8"
         }
        },
        {
         "line": {
          "color": "#A65628",
          "dash": "dash",
          "width": 1.4
         },
         "mode": "lines",
         "name": "COVID | MNP:maintained | NoVaccine",
         "type": "scatter",
         "x": [
          "2021-01-25T00:00:00",
          "2021-02-01T00:00:00",
          "2021-02-08T00:00:00",
          "2021-02-15T00:00:00",
          "2021-02-22T00:00:00",
          "2021-03-01T00:00:00",
          "2021-03-08T00:00:00",
          "2021-03-15T00:00:00",
          "2021-03-22T00:00:00",
          "2021-03-29T00:00:00",
          "2021-04-05T00:00:00",
          "2021-04-12T00:00:00",
          "2021-04-19T00:00:00",
          "2021-04-26T00:00:00",
          "2021-05-03T00:00:00",
          "2021-05-10T00:00:00",
          "2021-05-17T00:00:00",
          "2021-05-24T00:00:00",
          "2021-05-31T00:00:00",
          "2021-06-07T00:00:00",
          "2021-06-14T00:00:00",
          "2021-06-21T00:00:00",
          "2021-06-28T00:00:00",
          "2021-07-05T00:00:00",
          "2021-07-12T00:00:00",
          "2021-07-19T00:00:00",
          "2021-07-26T00:00:00",
          "2021-08-02T00:00:00",
          "2021-08-09T00:00:00",
          "2021-08-16T00:00:00",
          "2021-08-23T00:00:00",
          "2021-08-30T00:00:00",
          "2021-09-06T00:00:00",
          "2021-09-13T00:00:00",
          "2021-09-20T00:00:00",
          "2021-09-27T00:00:00",
          "2021-10-04T00:00:00",
          "2021-10-11T00:00:00",
          "2021-10-18T00:00:00",
          "2021-10-25T00:00:00",
          "2021-11-01T00:00:00",
          "2021-11-08T00:00:00",
          "2021-11-15T00:00:00",
          "2021-11-22T00:00:00",
          "2021-11-29T00:00:00",
          "2021-12-06T00:00:00",
          "2021-12-13T00:00:00",
          "2021-12-20T00:00:00",
          "2021-12-27T00:00:00",
          "2022-01-03T00:00:00",
          "2022-01-10T00:00:00",
          "2022-01-17T00:00:00",
          "2022-01-24T00:00:00",
          "2022-01-31T00:00:00",
          "2022-02-07T00:00:00",
          "2022-02-14T00:00:00",
          "2022-02-21T00:00:00",
          "2022-02-28T00:00:00",
          "2022-03-07T00:00:00",
          "2022-03-14T00:00:00",
          "2022-03-21T00:00:00",
          "2022-03-28T00:00:00",
          "2022-04-04T00:00:00",
          "2022-04-11T00:00:00",
          "2022-04-18T00:00:00",
          "2022-04-25T00:00:00",
          "2022-05-02T00:00:00",
          "2022-05-09T00:00:00",
          "2022-05-16T00:00:00",
          "2022-05-23T00:00:00",
          "2022-05-30T00:00:00",
          "2022-06-06T00:00:00",
          "2022-06-13T00:00:00",
          "2022-06-20T00:00:00",
          "2022-06-27T00:00:00",
          "2022-07-04T00:00:00",
          "2022-07-11T00:00:00",
          "2022-07-18T00:00:00",
          "2022-07-25T00:00:00",
          "2022-08-01T00:00:00",
          "2022-08-08T00:00:00",
          "2022-08-15T00:00:00",
          "2022-08-22T00:00:00",
          "2022-08-29T00:00:00",
          "2022-09-05T00:00:00",
          "2022-09-12T00:00:00",
          "2022-09-19T00:00:00",
          "2022-09-26T00:00:00",
          "2022-10-03T00:00:00",
          "2022-10-10T00:00:00",
          "2022-10-17T00:00:00",
          "2022-10-24T00:00:00",
          "2022-10-31T00:00:00",
          "2022-11-07T00:00:00",
          "2022-11-14T00:00:00",
          "2022-11-21T00:00:00",
          "2022-11-28T00:00:00",
          "2022-12-05T00:00:00"
         ],
         "y": {
          "bdata": "qX6X2UtblEC6sv2ZpmmTQCfYRWLtWpJAs3IE5d42kUAAIOfY+riPQANbxco+Jo1AL9kB4J7oikAafJ1Bi1GIQCbnVLOqxoVA/mnXBlxQg0CQ4Jb5g/aAQKuuyLLydX1AY1shjqNueUAaj8tzMM11QJlwCDfYy3JAFRdDg2lvcEAh2ScaayBtQDTLqI5MpmpAsvYd01x+aUAyLI4WI/hoQNoiJ9Fa3WpAga6HmfvdbUDYsGobUCdxQOrt32JVLXRAuhHSw4Rod0Bbd7tDAtp7QBkg2zNUL4BAFA02gTvRgkAL/atWqo6FQPBnJuAddYhA6XHx6qR8i0A6+18C8JqOQIpLg0ui4ZBAqcrSZ3ZpkkDLa8VcoQeUQNstd9z2j5VAXHHJ2fsBl0CwYgCZC2aYQIKAkj8RuplAtQgkZxn5mkANdDV1eRWcQClhPxw3B51ACPYmX4/NnUCqxcXownGeQPEU5Wnb5J5Alcd/TZ4rn0C4zQC9WkefQFzeBHNANZ9AsFuMuG/qnkAsbYGBp3ieQN/7c0Mg751AEf2GvLxMnUAyecI71HWcQOwG2iBJgZtAgkCS8L90mkCvre4t0lCZQGpyC2Dh8ZdAu7WLav2flkBp1I80toKVQM1qSebdOpRAKMTYE4f1kkAlBBK9N7qRQJLpTmBXj5BA5p4PqULijkD8NN0x5diMQGuEN4CqH4tArIKnmbihiUCzt+idH2aIQNBY2IXYdIdASqtlhSzWhkA+CeA3vIuGQPyvxpArnoZA9nxr93jvhkByuYLUoJaHQDreFTxg04hAmZ4+iuhKikCqqVQtog2MQNYLuXQ6FY5AXHUt4SoZkECAHYllj3SRQMJ7lMgrypJAM/0EDypIlEBSae3wwcuVQCrLuSGLW5dADa3o2hbumEAEn9tZtHCaQJBFebb7EZxAHLQOrlqbnUC+aRrZIQ2fQLbT4g6wN6BAtHyc7TfeoECMpCj1+oChQLJFTFp3D6JAukI1MAqJokCEvJzKj+2iQDzJ2J5aPaNAzpOdhip4o0DxbDArypyjQA==",
          "dtype": "f8"
         }
        },
        {
         "line": {
          "color": "#999999",
          "dash": "dash",
          "width": 1.4
         },
         "mode": "lines",
         "name": "NoCOVID | MNP:real | Vaccine",
         "type": "scatter",
         "x": [
          "2021-01-25T00:00:00",
          "2021-02-01T00:00:00",
          "2021-02-08T00:00:00",
          "2021-02-15T00:00:00",
          "2021-02-22T00:00:00",
          "2021-03-01T00:00:00",
          "2021-03-08T00:00:00",
          "2021-03-15T00:00:00",
          "2021-03-22T00:00:00",
          "2021-03-29T00:00:00",
          "2021-04-05T00:00:00",
          "2021-04-12T00:00:00",
          "2021-04-19T00:00:00",
          "2021-04-26T00:00:00",
          "2021-05-03T00:00:00",
          "2021-05-10T00:00:00",
          "2021-05-17T00:00:00",
          "2021-05-24T00:00:00",
          "2021-05-31T00:00:00",
          "2021-06-07T00:00:00",
          "2021-06-14T00:00:00",
          "2021-06-21T00:00:00",
          "2021-06-28T00:00:00",
          "2021-07-05T00:00:00",
          "2021-07-12T00:00:00",
          "2021-07-19T00:00:00",
          "2021-07-26T00:00:00",
          "2021-08-02T00:00:00",
          "2021-08-09T00:00:00",
          "2021-08-16T00:00:00",
          "2021-08-23T00:00:00",
          "2021-08-30T00:00:00",
          "2021-09-06T00:00:00",
          "2021-09-13T00:00:00",
          "2021-09-20T00:00:00",
          "2021-09-27T00:00:00",
          "2021-10-04T00:00:00",
          "2021-10-11T00:00:00",
          "2021-10-18T00:00:00",
          "2021-10-25T00:00:00",
          "2021-11-01T00:00:00",
          "2021-11-08T00:00:00",
          "2021-11-15T00:00:00",
          "2021-11-22T00:00:00",
          "2021-11-29T00:00:00",
          "2021-12-06T00:00:00",
          "2021-12-13T00:00:00",
          "2021-12-20T00:00:00",
          "2021-12-27T00:00:00",
          "2022-01-03T00:00:00",
          "2022-01-10T00:00:00",
          "2022-01-17T00:00:00",
          "2022-01-24T00:00:00",
          "2022-01-31T00:00:00",
          "2022-02-07T00:00:00",
          "2022-02-14T00:00:00",
          "2022-02-21T00:00:00",
          "2022-02-28T00:00:00",
          "2022-03-07T00:00:00",
          "2022-03-14T00:00:00",
          "2022-03-21T00:00:00",
          "2022-03-28T00:00:00",
          "2022-04-04T00:00:00",
          "2022-04-11T00:00:00",
          "2022-04-18T00:00:00",
          "2022-04-25T00:00:00",
          "2022-05-02T00:00:00",
          "2022-05-09T00:00:00",
          "2022-05-16T00:00:00",
          "2022-05-23T00:00:00",
          "2022-05-30T00:00:00",
          "2022-06-06T00:00:00",
          "2022-06-13T00:00:00",
          "2022-06-20T00:00:00",
          "2022-06-27T00:00:00",
          "2022-07-04T00:00:00",
          "2022-07-11T00:00:00",
          "2022-07-18T00:00:00",
          "2022-07-25T00:00:00",
          "2022-08-01T00:00:00",
          "2022-08-08T00:00:00",
          "2022-08-15T00:00:00",
          "2022-08-22T00:00:00",
          "2022-08-29T00:00:00",
          "2022-09-05T00:00:00",
          "2022-09-12T00:00:00",
          "2022-09-19T00:00:00",
          "2022-09-26T00:00:00",
          "2022-10-03T00:00:00",
          "2022-10-10T00:00:00",
          "2022-10-17T00:00:00",
          "2022-10-24T00:00:00",
          "2022-10-31T00:00:00",
          "2022-11-07T00:00:00",
          "2022-11-14T00:00:00",
          "2022-11-21T00:00:00",
          "2022-11-28T00:00:00",
          "2022-12-05T00:00:00"
         ],
         "y": {
          "bdata": "YWgGndk9k0A1bqWr++CQQJH8XJ0Be5FA+65tMcUsh0Bn3sFOHXiCQK0zxDFEnYpA4SxleoRjhUAP3jpTYYOEQJxeP3HW0YFAjVEo7r9CfkCaSbpG99F4QCEmDToCmHFAmBjOqTUiZkADLzhv/txgQLrpem+7JmBARVN8EwTSVkBykb+Z9i1CQL2ZEp7htDDAMFuxLjKZcMAmh2MSLslswFBO4N/yO2jAPfSESTMGbsAcdpCdrXVjwAxzag1JVWXAcWiZogcmV8DvCRpKUgdhwLluXF6z30LAmEkxoVHsOsCqnCAXSagKwPmNrl3mNSvA4wyrd5XhKUCLHfIr51FEQCOIj083XGBAZ5fgvruXU0BIpmy4I3lZQGixH59i51BAy7ZUBggSV0B2Adjlg+BnQCU8wgPClXtAU/Dl7bpMf0BqAZJCg0mCQNfUPpW5foNAPz8KWGpFhkBNt60NhWyHQBu4LDH3xodA0azqooJliEA9UxjUpUyIQIh3aso1bIRASMP5SqnvgEDDPolujWWBQHX+2m0h7YRAFo+w8neAg0DkQPfHi+KBQMMp3xSjj4BAKJhqwIpBfUCetfPvBlJIQJ1IyKUqOmbAiTiPA6a9V0Dz4Rc75mBBQMjFPjRerEjAH0HM9gf9X8BRD1FXR51nwCnlikS2AXPAjgIcButiecAUbsfHYmZ5wIKx2yRTVHrAgGYD4F5JfMC6oUfzDKd+wFeXtV/cNYDADVeefDkCgcAwGncLyt6AwMBp7vsb0IPAM8/46VnlhsAtW1ePPHeBwKoXKO5skH3AIL7xBFYCecCeyybS8GV1wCw//TGTgH3AAE0fjpZIasDoRfKtvsJowECG40ALNj/AoD6JYJp+SUAoxelxYjphQIDXfjKog2hAKD8XG7XxW0D+fH4eOLtzQPJOFa7+bHlA1kNn1dUYekAKJofR15J8QBd4gcuxPIBA0Uqp0n2Ph0COsT3K7b2MQO9d7bVkC5BAeBcG29EjkUB15YPs9QuSQADNv6/p7ZJAZZ7LnGGdk0AR8vBBVYqTQA==",
          "dtype": "f8"
         }
        },
        {
         "line": {
          "color": "#66C2A5",
          "dash": "dash",
          "width": 1.4
         },
         "mode": "lines",
         "name": "NoCOVID | MNP:real | NoVaccine",
         "type": "scatter",
         "x": [
          "2021-01-25T00:00:00",
          "2021-02-01T00:00:00",
          "2021-02-08T00:00:00",
          "2021-02-15T00:00:00",
          "2021-02-22T00:00:00",
          "2021-03-01T00:00:00",
          "2021-03-08T00:00:00",
          "2021-03-15T00:00:00",
          "2021-03-22T00:00:00",
          "2021-03-29T00:00:00",
          "2021-04-05T00:00:00",
          "2021-04-12T00:00:00",
          "2021-04-19T00:00:00",
          "2021-04-26T00:00:00",
          "2021-05-03T00:00:00",
          "2021-05-10T00:00:00",
          "2021-05-17T00:00:00",
          "2021-05-24T00:00:00",
          "2021-05-31T00:00:00",
          "2021-06-07T00:00:00",
          "2021-06-14T00:00:00",
          "2021-06-21T00:00:00",
          "2021-06-28T00:00:00",
          "2021-07-05T00:00:00",
          "2021-07-12T00:00:00",
          "2021-07-19T00:00:00",
          "2021-07-26T00:00:00",
          "2021-08-02T00:00:00",
          "2021-08-09T00:00:00",
          "2021-08-16T00:00:00",
          "2021-08-23T00:00:00",
          "2021-08-30T00:00:00",
          "2021-09-06T00:00:00",
          "2021-09-13T00:00:00",
          "2021-09-20T00:00:00",
          "2021-09-27T00:00:00",
          "2021-10-04T00:00:00",
          "2021-10-11T00:00:00",
          "2021-10-18T00:00:00",
          "2021-10-25T00:00:00",
          "2021-11-01T00:00:00",
          "2021-11-08T00:00:00",
          "2021-11-15T00:00:00",
          "2021-11-22T00:00:00",
          "2021-11-29T00:00:00",
          "2021-12-06T00:00:00",
          "2021-12-13T00:00:00",
          "2021-12-20T00:00:00",
          "2021-12-27T00:00:00",
          "2022-01-03T00:00:00",
          "2022-01-10T00:00:00",
          "2022-01-17T00:00:00",
          "2022-01-24T00:00:00",
          "2022-01-31T00:00:00",
          "2022-02-07T00:00:00",
          "2022-02-14T00:00:00",
          "2022-02-21T00:00:00",
          "2022-02-28T00:00:00",
          "2022-03-07T00:00:00",
          "2022-03-14T00:00:00",
          "2022-03-21T00:00:00",
          "2022-03-28T00:00:00",
          "2022-04-04T00:00:00",
          "2022-04-11T00:00:00",
          "2022-04-18T00:00:00",
          "2022-04-25T00:00:00",
          "2022-05-02T00:00:00",
          "2022-05-09T00:00:00",
          "2022-05-16T00:00:00",
          "2022-05-23T00:00:00",
          "2022-05-30T00:00:00",
          "2022-06-06T00:00:00",
          "2022-06-13T00:00:00",
          "2022-06-20T00:00:00",
          "2022-06-27T00:00:00",
          "2022-07-04T00:00:00",
          "2022-07-11T00:00:00",
          "2022-07-18T00:00:00",
          "2022-07-25T00:00:00",
          "2022-08-01T00:00:00",
          "2022-08-08T00:00:00",
          "2022-08-15T00:00:00",
          "2022-08-22T00:00:00",
          "2022-08-29T00:00:00",
          "2022-09-05T00:00:00",
          "2022-09-12T00:00:00",
          "2022-09-19T00:00:00",
          "2022-09-26T00:00:00",
          "2022-10-03T00:00:00",
          "2022-10-10T00:00:00",
          "2022-10-17T00:00:00",
          "2022-10-24T00:00:00",
          "2022-10-31T00:00:00",
          "2022-11-07T00:00:00",
          "2022-11-14T00:00:00",
          "2022-11-21T00:00:00",
          "2022-11-28T00:00:00",
          "2022-12-05T00:00:00"
         ],
         "y": {
          "bdata": "rAJeYVY0i0BlHnafKlOGQL7gfSxXYIdAoX8P1CXhdkA5acU8WYFqQOBS+slrmn1Ai5VKJJuFc0APFDKL+01yQA/MMGqclGpARA5xpwZeYEAJrHkm56RHQCpA5i8Z4VDAyE923Gc8ZcBKca0KX3RpwCS7plmNr2jA1fNPZUcza8AdDu6RLzhvwPTWgbZwX3HAqS+v+xL/fsDMZdVOgRp7wMFvY/3SYXfAn4CFqed5eMA8OPoSg6ZwwK7pwVOcZG3AmanSwnqAWMDdti83b5NRwIwDJXAg/FlAQcHyOYMkZ0BjLnhMnF5xQJIK5nAj+HRARDU+plrEeUAHEWQxUPJ9QP3kdSctGINAYKaCYxcDg0BeAGK/oWmFQDFaEMgIp4VAZuO3uZM3h0CQUv2SPdqKQKiGiLs+ipFAdsgFgs+ZkkDZyRQWFAOUQLPI6i40rJRAny2XqPQYlkDR0cNZ4q+WQGDFEHBl3ZZAeJdan4grl0Amqr1Djh6XQH7G6htPK5VAO2zBo5Nok0Csw+ThiKCTQH41PQjAY5VARVAwlHSmlECgyu/9x8+TQM8jXU2bKJNAHyrL864ykkAs5CV1LESHQJFrMNJyL4BA8peLNR+yiECndM6vEseGQDItyuadFIRAswaQhYCIgUDOVxjuVwd/QPnrQjCQkndAFPJhR57scEBhEjV/V6JwQD4Y6EZg2G5AwEOtcZJbakBmoyZPBAxlQAAK3QBc7WBA6hnCBk1SWkDQpdLlhUVaQIA+IXPIExlAhn7YpmhEWMBoTFq0rv1RQMA5oK4WJWNA/ksMZh2ra0CS1qq8nSZxQCw324EzgWFAGy8Rh+jReEB4GUN7Ekp5QC8EjbT+tYFAYJW27bMhhEBVQGuIUrKGQPrVmDkFXohAffzUHbGUhUCbvmkhWs2LQAaa7Yahf45AujSsK+uujkDvN5EgFsWPQJFiiXG/yJBAXOygcL5elEB5m2hAkOKWQOQbyt6Qe5hAiszfdZCAmUBOwHf9RFWaQKVKOPq/I5tANI/WD7O/m0C6ehQFIZmbQA==",
          "dtype": "f8"
         }
        },
        {
         "line": {
          "color": "#FC8D62",
          "dash": "dash",
          "width": 1.4
         },
         "mode": "lines",
         "name": "NoCOVID | MNP:none | Vaccine",
         "type": "scatter",
         "x": [
          "2021-01-25T00:00:00",
          "2021-02-01T00:00:00",
          "2021-02-08T00:00:00",
          "2021-02-15T00:00:00",
          "2021-02-22T00:00:00",
          "2021-03-01T00:00:00",
          "2021-03-08T00:00:00",
          "2021-03-15T00:00:00",
          "2021-03-22T00:00:00",
          "2021-03-29T00:00:00",
          "2021-04-05T00:00:00",
          "2021-04-12T00:00:00",
          "2021-04-19T00:00:00",
          "2021-04-26T00:00:00",
          "2021-05-03T00:00:00",
          "2021-05-10T00:00:00",
          "2021-05-17T00:00:00",
          "2021-05-24T00:00:00",
          "2021-05-31T00:00:00",
          "2021-06-07T00:00:00",
          "2021-06-14T00:00:00",
          "2021-06-21T00:00:00",
          "2021-06-28T00:00:00",
          "2021-07-05T00:00:00",
          "2021-07-12T00:00:00",
          "2021-07-19T00:00:00",
          "2021-07-26T00:00:00",
          "2021-08-02T00:00:00",
          "2021-08-09T00:00:00",
          "2021-08-16T00:00:00",
          "2021-08-23T00:00:00",
          "2021-08-30T00:00:00",
          "2021-09-06T00:00:00",
          "2021-09-13T00:00:00",
          "2021-09-20T00:00:00",
          "2021-09-27T00:00:00",
          "2021-10-04T00:00:00",
          "2021-10-11T00:00:00",
          "2021-10-18T00:00:00",
          "2021-10-25T00:00:00",
          "2021-11-01T00:00:00",
          "2021-11-08T00:00:00",
          "2021-11-15T00:00:00",
          "2021-11-22T00:00:00",
          "2021-11-29T00:00:00",
          "2021-12-06T00:00:00",
          "2021-12-13T00:00:00",
          "2021-12-20T00:00:00",
          "2021-12-27T00:00:00",
          "2022-01-03T00:00:00",
          "2022-01-10T00:00:00",
          "2022-01-17T00:00:00",
          "2022-01-24T00:00:00",
          "2022-01-31T00:00:00",
          "2022-02-07T00:00:00",
          "2022-02-14T00:00:00",
          "2022-02-21T00:00:00",
          "2022-02-28T00:00:00",
          "2022-03-07T00:00:00",
          "2022-03-14T00:00:00",
          "2022-03-21T00:00:00",
          "2022-03-28T00:00:00",
          "2022-04-04T00:00:00",
          "2022-04-11T00:00:00",
          "2022-04-18T00:00:00",
          "2022-04-25T00:00:00",
          "2022-05-02T00:00:00",
          "2022-05-09T00:00:00",
          "2022-05-16T00:00:00",
          "2022-05-23T00:00:00",
          "2022-05-30T00:00:00",
          "2022-06-06T00:00:00",
          "2022-06-13T00:00:00",
          "2022-06-20T00:00:00",
          "2022-06-27T00:00:00",
          "2022-07-04T00:00:00",
          "2022-07-11T00:00:00",
          "2022-07-18T00:00:00",
          "2022-07-25T00:00:00",
          "2022-08-01T00:00:00",
          "2022-08-08T00:00:00",
          "2022-08-15T00:00:00",
          "2022-08-22T00:00:00",
          "2022-08-29T00:00:00",
          "2022-09-05T00:00:00",
          "2022-09-12T00:00:00",
          "2022-09-19T00:00:00",
          "2022-09-26T00:00:00",
          "2022-10-03T00:00:00",
          "2022-10-10T00:00:00",
          "2022-10-17T00:00:00",
          "2022-10-24T00:00:00",
          "2022-10-31T00:00:00",
          "2022-11-07T00:00:00",
          "2022-11-14T00:00:00",
          "2022-11-21T00:00:00",
          "2022-11-28T00:00:00",
          "2022-12-05T00:00:00"
         ],
         "y": {
          "bdata": "J2aZZ8tQk0D7zJ2LGl+SQGXaJHMNUJFAIpuDhn4rkEBmeya8R5aNQCmyUeNL1IpAzn0dfM0/iEA+iDFr3zyFQHjAEI7DWoJADeVcgDk0f0AWB4T9GPt5QOWBZ7HjJ3VA2ZcImoywcEBzpWCT1nJoQHJDcAn1VmBA5b5X0PeLUUAKXXNXtg0pQP9lKhMei0LApJKCfq6KVMDUQ1fUNJNdwBqImX+gZmDAN6o/KDOeYcBAM7pr7uFiwHRmgn4FPGPAaB5/0tzFZMDZS/Fw0mtlwLBSyekEeWbAUxVzcpRbZcDhc3XLwaljwKYQjI/bKWHAGJzB4qThV8BVzVpYNO1DwAsWEmYiOS1AKruSI1HgTEB2Wzg8tMNZQNcypAztR2NAPYOMhB8Na0DU5hrOLK5xQDkPP4E14HVAMMjgv/0FekC+bVUPqcl9QGvc1d6+g4BAUxwuHBjWgUDaYMxqN/CCQLWOBkxNroNAHLp8DpEWhEANvfy9mieEQIo/E1jt4YNAE7AaPK8tg0A/FWRdkSiCQEuEAHwh74BAwK5YhoEhf0ClBANXq5V7QMeTqBdSa3dArpCqIxXkckCZ3nvX0SBsQD+HzDJpj2BAOq4uBeXBRUCR+TRSIZI/wHJDyedBEV3An9V90Gr0aMBtwRqEOXxxwDMyBwIUNXbA+NKmOT24esBqR11RN9N+wEB95/JBJoHAxC6mWQ2ngsCq+U7uIOWDwBRDyPCa2ITAcTuuxh16hcCDPNjWDMeFwH5dflrttoXADS4MVLBnhcBQYaMfNcKEwHg804yGh4PASN7Tj/sRgsCmPBTwHVGAwFACTOW3lnzALFQRVZZgeMA6L5F3UPdywKCeRcyyR2vAEIKeuZO8XsAAAOrxLTs6wODBvMiEZlJAhHRLmAbEZUBGlq3o4+pwQM424O8qbndArps3fNyRfUCbnHSFy6uBQG7lHReeb4RAJb4TgwQJh0Ci21/hVZOJQE7f3sKazItA0lqfHjqyjUAEbB+EqEOPQHVnDiUfQZBAOsQQQIC2kEB1GSmtgf+QQA==",
          "dtype": "f8"
         }
        },
        {
         "line": {
          "color": "#8DA0CB",
          "dash": "dash",
          "width": 1.4
         },
         "mode": "lines",
         "name": "NoCOVID | MNP:none | NoVaccine",
         "type": "scatter",
         "x": [
          "2021-01-25T00:00:00",
          "2021-02-01T00:00:00",
          "2021-02-08T00:00:00",
          "2021-02-15T00:00:00",
          "2021-02-22T00:00:00",
          "2021-03-01T00:00:00",
          "2021-03-08T00:00:00",
          "2021-03-15T00:00:00",
          "2021-03-22T00:00:00",
          "2021-03-29T00:00:00",
          "2021-04-05T00:00:00",
          "2021-04-12T00:00:00",
          "2021-04-19T00:00:00",
          "2021-04-26T00:00:00",
          "2021-05-03T00:00:00",
          "2021-05-10T00:00:00",
          "2021-05-17T00:00:00",
          "2021-05-24T00:00:00",
          "2021-05-31T00:00:00",
          "2021-06-07T00:00:00",
          "2021-06-14T00:00:00",
          "2021-06-21T00:00:00",
          "2021-06-28T00:00:00",
          "2021-07-05T00:00:00",
          "2021-07-12T00:00:00",
          "2021-07-19T00:00:00",
          "2021-07-26T00:00:00",
          "2021-08-02T00:00:00",
          "2021-08-09T00:00:00",
          "2021-08-16T00:00:00",
          "2021-08-23T00:00:00",
          "2021-08-30T00:00:00",
          "2021-09-06T00:00:00",
          "2021-09-13T00:00:00",
          "2021-09-20T00:00:00",
          "2021-09-27T00:00:00",
          "2021-10-04T00:00:00",
          "2021-10-11T00:00:00",
          "2021-10-18T00:00:00",
          "2021-10-25T00:00:00",
          "2021-11-01T00:00:00",
          "2021-11-08T00:00:00",
          "2021-11-15T00:00:00",
          "2021-11-22T00:00:00",
          "2021-11-29T00:00:00",
          "2021-12-06T00:00:00",
          "2021-12-13T00:00:00",
          "2021-12-20T00:00:00",
          "2021-12-27T00:00:00",
          "2022-01-03T00:00:00",
          "2022-01-10T00:00:00",
          "2022-01-17T00:00:00",
          "2022-01-24T00:00:00",
          "2022-01-31T00:00:00",
          "2022-02-07T00:00:00",
          "2022-02-14T00:00:00",
          "2022-02-21T00:00:00",
          "2022-02-28T00:00:00",
          "2022-03-07T00:00:00",
          "2022-03-14T00:00:00",
          "2022-03-21T00:00:00",
          "2022-03-28T00:00:00",
          "2022-04-04T00:00:00",
          "2022-04-11T00:00:00",
          "2022-04-18T00:00:00",
          "2022-04-25T00:00:00",
          "2022-05-02T00:00:00",
          "2022-05-09T00:00:00",
          "2022-05-16T00:00:00",
          "2022-05-23T00:00:00",
          "2022-05-30T00:00:00",
          "2022-06-06T00:00:00",
          "2022-06-13T00:00:00",
          "2022-06-20T00:00:00",
          "2022-06-27T00:00:00",
          "2022-07-04T00:00:00",
          "2022-07-11T00:00:00",
          "2022-07-18T00:00:00",
          "2022-07-25T00:00:00",
          "2022-08-01T00:00:00",
          "2022-08-08T00:00:00",
          "2022-08-15T00:00:00",
          "2022-08-22T00:00:00",
          "2022-08-29T00:00:00",
          "2022-09-05T00:00:00",
          "2022-09-12T00:00:00",
          "2022-09-19T00:00:00",
          "2022-09-26T00:00:00",
          "2022-10-03T00:00:00",
          "2022-10-10T00:00:00",
          "2022-10-17T00:00:00",
          "2022-10-24T00:00:00",
          "2022-10-31T00:00:00",
          "2022-11-07T00:00:00",
          "2022-11-14T00:00:00",
          "2022-11-21T00:00:00",
          "2022-11-28T00:00:00",
          "2022-12-05T00:00:00"
         ],
         "y": {
          "bdata": "OP6D9jlai0Dy22ZfaE+JQGacDdhuCodAGkehxcqahEBO95W8gL6BQNdPFS17CH5AZDe7Jy0+eUBuaB+798BzQH5Tdt1QuGxARDXay/lAYkDxy2Nu+nZQQLmI5pOaDCXAZHFmpAj7U8DY+oTmht5hwGphsb9Tf2jABz7ihk3WbcBVXnPpaBlxwBf6BV+GpXLAI3mebIyIc8Atc7l6txp0wKYMQM0pd3PAmtvimOdFcsDNFg96o1xwwBbd2cRYS2vA/L6bYhZzZcC1Ot6Eb1xawPnUfmgfDEPAdFSX7uOZRECz1q7jL/xeQFztGrjJeWpA1nXQweT8ckCrc9rAbOp4QJeWVLoH7H5AJr/f/SRegkAEd9vP83KFQLtwVbcXXIhAXG0QmpoYi0CdxZQAM7mNQG2755rbHJBAbX6ENiBIkUCTJKG4vFCSQH1MttO2LpNAKRypikvhk0CXJlOIu3GUQK2wfX0Q0ZRAHZ4j1Q8ElUAO36+4CAyVQH8qv+Iq5pRAoOJRnJaHlEDqLlLZCgKUQGr4Tw/AZJNAajRu/JiukkBX67Tv7MORQN+z10ieu5BAgVA2GaM2j0B5oAV8QMeMQIifVcjX4YlAxJtsxYgWh0C7TotBc7SEQCDxFI07/YFA3TKUoA2WfkAKHqYVwll5QO+exnIyX3RAVEOuJ5gub0AWcj7rBWtmQHkMA4r9z11AU6s2ljWkUECoAdDj0yw2QEBP2jbk2SnAdBJ6k6rZQsCE2WzqIPlJwBgUm9qcSkvAsOrm7jeuSMBYyQucK7RAwACau9Er6/M/cDyBwmyfRUCQo6S6SqlXQOSwPRvqVGNA3AIf8jora0AyDataIbRyQHBxBbeEu3dAaWL0oG9kfUALf2F84JGBQFW4EMbriYRAuPGEIHyHh0A+S4EGMGWKQPQN06c3gI1AUzCKP7c1kEDCIKHeupORQDyZV5c14pJABibWyIEblECEsPlLRE2VQJ4tTIp5VpZAemIpqts1l0DbkANTI+uXQBrlhm/1dphACbUbs9HYmEAeokxwTQ6ZQA==",
          "dtype": "f8"
         }
        },
        {
         "line": {
          "color": "#E78AC3",
          "dash": "dash",
          "width": 1.4
         },
         "mode": "lines",
         "name": "NoCOVID | MNP:maintained | Vaccine",
         "type": "scatter",
         "x": [
          "2021-01-25T00:00:00",
          "2021-02-01T00:00:00",
          "2021-02-08T00:00:00",
          "2021-02-15T00:00:00",
          "2021-02-22T00:00:00",
          "2021-03-01T00:00:00",
          "2021-03-08T00:00:00",
          "2021-03-15T00:00:00",
          "2021-03-22T00:00:00",
          "2021-03-29T00:00:00",
          "2021-04-05T00:00:00",
          "2021-04-12T00:00:00",
          "2021-04-19T00:00:00",
          "2021-04-26T00:00:00",
          "2021-05-03T00:00:00",
          "2021-05-10T00:00:00",
          "2021-05-17T00:00:00",
          "2021-05-24T00:00:00",
          "2021-05-31T00:00:00",
          "2021-06-07T00:00:00",
          "2021-06-14T00:00:00",
          "2021-06-21T00:00:00",
          "2021-06-28T00:00:00",
          "2021-07-05T00:00:00",
          "2021-07-12T00:00:00",
          "2021-07-19T00:00:00",
          "2021-07-26T00:00:00",
          "2021-08-02T00:00:00",
          "2021-08-09T00:00:00",
          "2021-08-16T00:00:00",
          "2021-08-23T00:00:00",
          "2021-08-30T00:00:00",
          "2021-09-06T00:00:00",
          "2021-09-13T00:00:00",
          "2021-09-20T00:00:00",
          "2021-09-27T00:00:00",
          "2021-10-04T00:00:00",
          "2021-10-11T00:00:00",
          "2021-10-18T00:00:00",
          "2021-10-25T00:00:00",
          "2021-11-01T00:00:00",
          "2021-11-08T00:00:00",
          "2021-11-15T00:00:00",
          "2021-11-22T00:00:00",
          "2021-11-29T00:00:00",
          "2021-12-06T00:00:00",
          "2021-12-13T00:00:00",
          "2021-12-20T00:00:00",
          "2021-12-27T00:00:00",
          "2022-01-03T00:00:00",
          "2022-01-10T00:00:00",
          "2022-01-17T00:00:00",
          "2022-01-24T00:00:00",
          "2022-01-31T00:00:00",
          "2022-02-07T00:00:00",
          "2022-02-14T00:00:00",
          "2022-02-21T00:00:00",
          "2022-02-28T00:00:00",
          "2022-03-07T00:00:00",
          "2022-03-14T00:00:00",
          "2022-03-21T00:00:00",
          "2022-03-28T00:00:00",
          "2022-04-04T00:00:00",
          "2022-04-11T00:00:00",
          "2022-04-18T00:00:00",
          "2022-04-25T00:00:00",
          "2022-05-02T00:00:00",
          "2022-05-09T00:00:00",
          "2022-05-16T00:00:00",
          "2022-05-23T00:00:00",
          "2022-05-30T00:00:00",
          "2022-06-06T00:00:00",
          "2022-06-13T00:00:00",
          "2022-06-20T00:00:00",
          "2022-06-27T00:00:00",
          "2022-07-04T00:00:00",
          "2022-07-11T00:00:00",
          "2022-07-18T00:00:00",
          "2022-07-25T00:00:00",
          "2022-08-01T00:00:00",
          "2022-08-08T00:00:00",
          "2022-08-15T00:00:00",
          "2022-08-22T00:00:00",
          "2022-08-29T00:00:00",
          "2022-09-05T00:00:00",
          "2022-09-12T00:00:00",
          "2022-09-19T00:00:00",
          "2022-09-26T00:00:00",
          "2022-10-03T00:00:00",
          "2022-10-10T00:00:00",
          "2022-10-17T00:00:00",
          "2022-10-24T00:00:00",
          "2022-10-31T00:00:00",
          "2022-11-07T00:00:00",
          "2022-11-14T00:00:00",
          "2022-11-21T00:00:00",
          "2022-11-28T00:00:00",
          "2022-12-05T00:00:00"
         ],
         "y": {
          "bdata": "pn6X2UtblEB75Zv9mmmTQOXyIuWNWpJAorOB+P41kUBlrCKgSKuPQCjjTcdM6YxAza4ZYM5UikA9uS1P4FGHQHfxDHLEb4RAhqMqpB2vgUATaXzFGiV+QOPjX3nlUXlA1/kAYo7adEC4tKgRbWNwQG4HYZn4qmhAb6MceP8ZYUCZ88/qvclTQONTMVngiT1AXFUI9ToVL8C4d+toW9ZJwDuIUd85JVDAdcydMF+UUsCI3pK31RtVwPBEI90D0FXA2bQchbLjWMC9DwHCnS9awGwdsbMCSlzAsqIExSEPWsDNXwl3fKtWwFOZNv+vq1HAj1CAC3fmPMAmhdDOs8U6QLXKo2wrT1RAieWqsS8YX0C28Qyu3TVlQNL2lJzwm2tAnKM+ipGwcUDSSBOWLth1QDZxN0k3CnpALSrZh/8vfkDe56Zr1fmAQGoN0sK/mIJAUU0qABnrg0DZkchOOAWFQLS/AjBOw4VAG+t48pErhkAL7vihmzyGQIlwDzzu9oVAEuEWILBChUA9RmBBkj2EQEq1/F8iBINAX4gop8GlgUCiZvserb9/QMX1oN9TlXtArPKi6xYOd0BKUbazajpyQDlLvcJs42hAEd94ovmIW0Ajk6iW/YZBQPx2z4910kjApRGNQGegYMDgvkR4b6RqwDXQDjoSC3LA+3CucTuOdsBs5WSJNal6wIOY1h2CIn7Axv2pdQySgMCryFIKINCBwBUSzAyaw4LAcgqy4hxlg8CEC9zyC7KDwH8sgnbsoYPADv0PcK9Sg8BRMKc7NK2CwHkL16iFcoHAklqvV/X5f8BOFzAYOnh8wFKgUx22bHjALvIYjZQ2dMB4mjFfnZptwKjaVDyv82LAQPR5MxkpTMAAEM5GdzJEQOgkT/RFh2FAfDg8KAoYbkBC+KWw5RR1QMqY2LcsmHtA1f4XIu/dgECZzXBpzMCDQGwWGvuehIZAJe8PZwUeiUCiDFzFVqiLQE4Q26ab4Y1A0oubAjvHj0CCzg20VKyQQPV/DJefS5FAutwOsgDBkUD0MScfAgqSQA==",
          "dtype": "f8"
         }
        },
        {
         "line": {
          "color": "#A6D854",
          "dash": "dash",
          "width": 1.4
         },
         "mode": "lines",
         "name": "NoCOVID | MNP:maintained | NoVaccine",
         "type": "scatter",
         "x": [
          "2021-01-25T00:00:00",
          "2021-02-01T00:00:00",
          "2021-02-08T00:00:00",
          "2021-02-15T00:00:00",
          "2021-02-22T00:00:00",
          "2021-03-01T00:00:00",
          "2021-03-08T00:00:00",
          "2021-03-15T00:00:00",
          "2021-03-22T00:00:00",
          "2021-03-29T00:00:00",
          "2021-04-05T00:00:00",
          "2021-04-12T00:00:00",
          "2021-04-19T00:00:00",
          "2021-04-26T00:00:00",
          "2021-05-03T00:00:00",
          "2021-05-10T00:00:00",
          "2021-05-17T00:00:00",
          "2021-05-24T00:00:00",
          "2021-05-31T00:00:00",
          "2021-06-07T00:00:00",
          "2021-06-14T00:00:00",
          "2021-06-21T00:00:00",
          "2021-06-28T00:00:00",
          "2021-07-05T00:00:00",
          "2021-07-12T00:00:00",
          "2021-07-19T00:00:00",
          "2021-07-26T00:00:00",
          "2021-08-02T00:00:00",
          "2021-08-09T00:00:00",
          "2021-08-16T00:00:00",
          "2021-08-23T00:00:00",
          "2021-08-30T00:00:00",
          "2021-09-06T00:00:00",
          "2021-09-13T00:00:00",
          "2021-09-20T00:00:00",
          "2021-09-27T00:00:00",
          "2021-10-04T00:00:00",
          "2021-10-11T00:00:00",
          "2021-10-18T00:00:00",
          "2021-10-25T00:00:00",
          "2021-11-01T00:00:00",
          "2021-11-08T00:00:00",
          "2021-11-15T00:00:00",
          "2021-11-22T00:00:00",
          "2021-11-29T00:00:00",
          "2021-12-06T00:00:00",
          "2021-12-13T00:00:00",
          "2021-12-20T00:00:00",
          "2021-12-27T00:00:00",
          "2022-01-03T00:00:00",
          "2022-01-10T00:00:00",
          "2022-01-17T00:00:00",
          "2022-01-24T00:00:00",
          "2022-01-31T00:00:00",
          "2022-02-07T00:00:00",
          "2022-02-14T00:00:00",
          "2022-02-21T00:00:00",
          "2022-02-28T00:00:00",
          "2022-03-07T00:00:00",
          "2022-03-14T00:00:00",
          "2022-03-21T00:00:00",
          "2022-03-28T00:00:00",
          "2022-04-04T00:00:00",
          "2022-04-11T00:00:00",
          "2022-04-18T00:00:00",
          "2022-04-25T00:00:00",
          "2022-05-02T00:00:00",
          "2022-05-09T00:00:00",
          "2022-05-16T00:00:00",
          "2022-05-23T00:00:00",
          "2022-05-30T00:00:00",
          "2022-06-06T00:00:00",
          "2022-06-13T00:00:00",
          "2022-06-20T00:00:00",
          "2022-06-27T00:00:00",
          "2022-07-04T00:00:00",
          "2022-07-11T00:00:00",
          "2022-07-18T00:00:00",
          "2022-07-25T00:00:00",
          "2022-08-01T00:00:00",
          "2022-08-08T00:00:00",
          "2022-08-15T00:00:00",
          "2022-08-22T00:00:00",
          "2022-08-29T00:00:00",
          "2022-09-05T00:00:00",
          "2022-09-12T00:00:00",
          "2022-09-19T00:00:00",
          "2022-09-26T00:00:00",
          "2022-10-03T00:00:00",
          "2022-10-10T00:00:00",
          "2022-10-17T00:00:00",
          "2022-10-24T00:00:00",
          "2022-10-31T00:00:00",
          "2022-11-07T00:00:00",
          "2022-11-14T00:00:00",
          "2022-11-21T00:00:00",
          "2022-11-28T00:00:00",
          "2022-12-05T00:00:00"
         ],
         "y": {
          "bdata": "Ni+A2jpvjUDxDGNDaWSLQGTNCbxvH4lAGHidqcuvhkBNKJKggdODQOrYhno+GYFAYZmz7y5ofUBryheD+ep3QLyLszYqhnJAPvnKW/2UakDyqSLHgI9gQLptyZrnDExAgksnJAyYKsC6bSitBhVTwHCdwC9QK2DADXrx9kmCZcCv+PVCzt5pwDQwGy4J92zASi5MSRW9bsBeIoJla+FvwFBVjwpQmm7AO/PUocs3bMCgaS1kQ2VowBgZ6TRV92LAAfZVpSU+WsB6ZfnJ0GhDwO51iK7dhzxAOjItF/n0WkBRL8iBG9JnQKzYBaTmZnFA1NfIieYmd0Cp1dKIbhR9QEt8JsEEi4FAJfDb4SVzhEADqNez9IeHQLmhUZsYcYpAW54MfpstjUCc9pDkM86PQOzT5QxcJ5FA7JaCqKBSkkATPZ8qPVuTQPxktEU3OZRAqDSn/MvrlEAXP1H6O3yVQC3Je++Q25VAnbYhR5AOlkCO960qiRaWQP9CvVSr8JVAIPtPDheSlUBpR1BLiwyVQOkQToFAb5RA6kxsbhm5k0DXA7Nhbc6SQF/M1boexpFAwECZ/tGlkEB40QFgQdyOQIfQUazY9otAw8xoqYkriUC6f4cldMmGQB8iEXE8EoRAbkpGtAdggUAIgJ7dw4N9QO0Avzo0iXhAqIPP203Bc0AQNi97Cb9uQDZK8lQCPGdApBkMWx6mYEBeiNUYPDNWQBh8DDKV2UpA6PqRWMfsPECA2VhVtVstQEDvn5TFFShAcEq4oaxDMUCQRrej4ptAQFx2KM+z91BALCYigb13W0DCFUPtqChkQNx0LqvtqGtAa+MHQZ+/cUAwb6MiI952QGzT/X6G5XtAMmJ2tDjHgEAJsF1g4aaDQFTpDKrsnoZAtyKBBH2ciUA9fH3qMHqMQPI+z4s4lY9A0kiIsTdAkUBBOZ9QO56SQLyxVQm27JNAhj7UOgImlUADyfe9xFeWQB1GSvz5YJdA+nonHFxAmEBaqQHFo/WYQJr9hOF1gZlAiM0ZJVLjmUCeukrizRiaQA==",
          "dtype": "f8"
         }
        }
       ],
       "layout": {
        "annotations": [
         {
          "showarrow": false,
          "text": "COVID onset",
          "x": "2020-03-01",
          "xanchor": "left",
          "xref": "x",
          "y": 1,
          "yanchor": "top",
          "yref": "y domain"
         },
         {
          "showarrow": false,
          "text": "Vaccination start",
          "x": "2021-01-01",
          "xanchor": "left",
          "xref": "x",
          "y": 1,
          "yanchor": "top",
          "yref": "y domain"
         }
        ],
        "height": 650,
        "legend": {
         "orientation": "h",
         "x": 0,
         "y": -0.25
        },
        "shapes": [
         {
          "fillcolor": "rgba(255,0,0,0.1)",
          "line": {
           "width": 0
          },
          "type": "rect",
          "x0": "2020-03-01",
          "x1": "2021-01-01",
          "xref": "x",
          "y0": 0,
          "y1": 1,
          "yref": "y domain"
         },
         {
          "fillcolor": "rgba(0,255,0,0.1)",
          "line": {
           "width": 0
          },
          "type": "rect",
          "x0": "2021-01-01",
          "x1": "2021-12-31",
          "xref": "x",
          "y0": 0,
          "y1": 1,
          "yref": "y domain"
         }
        ],
        "template": {
         "data": {
          "bar": [
           {
            "error_x": {
             "color": "#2a3f5f"
            },
            "error_y": {
             "color": "#2a3f5f"
            },
            "marker": {
             "line": {
              "color": "white",
              "width": 0.5
             },
             "pattern": {
              "fillmode": "overlay",
              "size": 10,
              "solidity": 0.2
             }
            },
            "type": "bar"
           }
          ],
          "barpolar": [
           {
            "marker": {
             "line": {
              "color": "white",
              "width": 0.5
             },
             "pattern": {
              "fillmode": "overlay",
              "size": 10,
              "solidity": 0.2
             }
            },
            "type": "barpolar"
           }
          ],
          "carpet": [
           {
            "aaxis": {
             "endlinecolor": "#2a3f5f",
             "gridcolor": "#C8D4E3",
             "linecolor": "#C8D4E3",
             "minorgridcolor": "#C8D4E3",
             "startlinecolor": "#2a3f5f"
            },
            "baxis": {
             "endlinecolor": "#2a3f5f",
             "gridcolor": "#C8D4E3",
             "linecolor": "#C8D4E3",
             "minorgridcolor": "#C8D4E3",
             "startlinecolor": "#2a3f5f"
            },
            "type": "carpet"
           }
          ],
          "choropleth": [
           {
            "colorbar": {
             "outlinewidth": 0,
             "ticks": ""
            },
            "type": "choropleth"
           }
          ],
          "contour": [
           {
            "colorbar": {
             "outlinewidth": 0,
             "ticks": ""
            },
            "colorscale": [
             [
              0,
              "#0d0887"
             ],
             [
              0.1111111111111111,
              "#46039f"
             ],
             [
              0.2222222222222222,
              "#7201a8"
             ],
             [
              0.3333333333333333,
              "#9c179e"
             ],
             [
              0.4444444444444444,
              "#bd3786"
             ],
             [
              0.5555555555555556,
              "#d8576b"
             ],
             [
              0.6666666666666666,
              "#ed7953"
             ],
             [
              0.7777777777777778,
              "#fb9f3a"
             ],
             [
              0.8888888888888888,
              "#fdca26"
             ],
             [
              1,
              "#f0f921"
             ]
            ],
            "type": "contour"
           }
          ],
          "contourcarpet": [
           {
            "colorbar": {
             "outlinewidth": 0,
             "ticks": ""
            },
            "type": "contourcarpet"
           }
          ],
          "heatmap": [
           {
            "colorbar": {
             "outlinewidth": 0,
             "ticks": ""
            },
            "colorscale": [
             [
              0,
              "#0d0887"
             ],
             [
              0.1111111111111111,
              "#46039f"
             ],
             [
              0.2222222222222222,
              "#7201a8"
             ],
             [
              0.3333333333333333,
              "#9c179e"
             ],
             [
              0.4444444444444444,
              "#bd3786"
             ],
             [
              0.5555555555555556,
              "#d8576b"
             ],
             [
              0.6666666666666666,
              "#ed7953"
             ],
             [
              0.7777777777777778,
              "#fb9f3a"
             ],
             [
              0.8888888888888888,
              "#fdca26"
             ],
             [
              1,
              "#f0f921"
             ]
            ],
            "type": "heatmap"
           }
          ],
          "histogram": [
           {
            "marker": {
             "pattern": {
              "fillmode": "overlay",
              "size": 10,
              "solidity": 0.2
             }
            },
            "type": "histogram"
           }
          ],
          "histogram2d": [
           {
            "colorbar": {
             "outlinewidth": 0,
             "ticks": ""
            },
            "colorscale": [
             [
              0,
              "#0d0887"
             ],
             [
              0.1111111111111111,
              "#46039f"
             ],
             [
              0.2222222222222222,
              "#7201a8"
             ],
             [
              0.3333333333333333,
              "#9c179e"
             ],
             [
              0.4444444444444444,
              "#bd3786"
             ],
             [
              0.5555555555555556,
              "#d8576b"
             ],
             [
              0.6666666666666666,
              "#ed7953"
             ],
             [
              0.7777777777777778,
              "#fb9f3a"
             ],
             [
              0.8888888888888888,
              "#fdca26"
             ],
             [
              1,
              "#f0f921"
             ]
            ],
            "type": "histogram2d"
           }
          ],
          "histogram2dcontour": [
           {
            "colorbar": {
             "outlinewidth": 0,
             "ticks": ""
            },
            "colorscale": [
             [
              0,
              "#0d0887"
             ],
             [
              0.1111111111111111,
              "#46039f"
             ],
             [
              0.2222222222222222,
              "#7201a8"
             ],
             [
              0.3333333333333333,
              "#9c179e"
             ],
             [
              0.4444444444444444,
              "#bd3786"
             ],
             [
              0.5555555555555556,
              "#d8576b"
             ],
             [
              0.6666666666666666,
              "#ed7953"
             ],
             [
              0.7777777777777778,
              "#fb9f3a"
             ],
             [
              0.8888888888888888,
              "#fdca26"
             ],
             [
              1,
              "#f0f921"
             ]
            ],
            "type": "histogram2dcontour"
           }
          ],
          "mesh3d": [
           {
            "colorbar": {
             "outlinewidth": 0,
             "ticks": ""
            },
            "type": "mesh3d"
           }
          ],
          "parcoords": [
           {
            "line": {
             "colorbar": {
              "outlinewidth": 0,
              "ticks": ""
             }
            },
            "type": "parcoords"
           }
          ],
          "pie": [
           {
            "automargin": true,
            "type": "pie"
           }
          ],
          "scatter": [
           {
            "fillpattern": {
             "fillmode": "overlay",
             "size": 10,
             "solidity": 0.2
            },
            "type": "scatter"
           }
          ],
          "scatter3d": [
           {
            "line": {
             "colorbar": {
              "outlinewidth": 0,
              "ticks": ""
             }
            },
            "marker": {
             "colorbar": {
              "outlinewidth": 0,
              "ticks": ""
             }
            },
            "type": "scatter3d"
           }
          ],
          "scattercarpet": [
           {
            "marker": {
             "colorbar": {
              "outlinewidth": 0,
              "ticks": ""
             }
            },
            "type": "scattercarpet"
           }
          ],
          "scattergeo": [
           {
            "marker": {
             "colorbar": {
              "outlinewidth": 0,
              "ticks": ""
             }
            },
            "type": "scattergeo"
           }
          ],
          "scattergl": [
           {
            "marker": {
             "colorbar": {
              "outlinewidth": 0,
              "ticks": ""
             }
            },
            "type": "scattergl"
           }
          ],
          "scattermap": [
           {
            "marker": {
             "colorbar": {
              "outlinewidth": 0,
              "ticks": ""
             }
            },
            "type": "scattermap"
           }
          ],
          "scattermapbox": [
           {
            "marker": {
             "colorbar": {
              "outlinewidth": 0,
              "ticks": ""
             }
            },
            "type": "scattermapbox"
           }
          ],
          "scatterpolar": [
           {
            "marker": {
             "colorbar": {
              "outlinewidth": 0,
              "ticks": ""
             }
            },
            "type": "scatterpolar"
           }
          ],
          "scatterpolargl": [
           {
            "marker": {
             "colorbar": {
              "outlinewidth": 0,
              "ticks": ""
             }
            },
            "type": "scatterpolargl"
           }
          ],
          "scatterternary": [
           {
            "marker": {
             "colorbar": {
              "outlinewidth": 0,
              "ticks": ""
             }
            },
            "type": "scatterternary"
           }
          ],
          "surface": [
           {
            "colorbar": {
             "outlinewidth": 0,
             "ticks": ""
            },
            "colorscale": [
             [
              0,
              "#0d0887"
             ],
             [
              0.1111111111111111,
              "#46039f"
             ],
             [
              0.2222222222222222,
              "#7201a8"
             ],
             [
              0.3333333333333333,
              "#9c179e"
             ],
             [
              0.4444444444444444,
              "#bd3786"
             ],
             [
              0.5555555555555556,
              "#d8576b"
             ],
             [
              0.6666666666666666,
              "#ed7953"
             ],
             [
              0.7777777777777778,
              "#fb9f3a"
             ],
             [
              0.8888888888888888,
              "#fdca26"
             ],
             [
              1,
              "#f0f921"
             ]
            ],
            "type": "surface"
           }
          ],
          "table": [
           {
            "cells": {
             "fill": {
              "color": "#EBF0F8"
             },
             "line": {
              "color": "white"
             }
            },
            "header": {
             "fill": {
              "color": "#C8D4E3"
             },
             "line": {
              "color": "white"
             }
            },
            "type": "table"
           }
          ]
         },
         "layout": {
          "annotationdefaults": {
           "arrowcolor": "#2a3f5f",
           "arrowhead": 0,
           "arrowwidth": 1
          },
          "autotypenumbers": "strict",
          "coloraxis": {
           "colorbar": {
            "outlinewidth": 0,
            "ticks": ""
           }
          },
          "colorscale": {
           "diverging": [
            [
             0,
             "#8e0152"
            ],
            [
             0.1,
             "#c51b7d"
            ],
            [
             0.2,
             "#de77ae"
            ],
            [
             0.3,
             "#f1b6da"
            ],
            [
             0.4,
             "#fde0ef"
            ],
            [
             0.5,
             "#f7f7f7"
            ],
            [
             0.6,
             "#e6f5d0"
            ],
            [
             0.7,
             "#b8e186"
            ],
            [
             0.8,
             "#7fbc41"
            ],
            [
             0.9,
             "#4d9221"
            ],
            [
             1,
             "#276419"
            ]
           ],
           "sequential": [
            [
             0,
             "#0d0887"
            ],
            [
             0.1111111111111111,
             "#46039f"
            ],
            [
             0.2222222222222222,
             "#7201a8"
            ],
            [
             0.3333333333333333,
             "#9c179e"
            ],
            [
             0.4444444444444444,
             "#bd3786"
            ],
            [
             0.5555555555555556,
             "#d8576b"
            ],
            [
             0.6666666666666666,
             "#ed7953"
            ],
            [
             0.7777777777777778,
             "#fb9f3a"
            ],
            [
             0.8888888888888888,
             "#fdca26"
            ],
            [
             1,
             "#f0f921"
            ]
           ],
           "sequentialminus": [
            [
             0,
             "#0d0887"
            ],
            [
             0.1111111111111111,
             "#46039f"
            ],
            [
             0.2222222222222222,
             "#7201a8"
            ],
            [
             0.3333333333333333,
             "#9c179e"
            ],
            [
             0.4444444444444444,
             "#bd3786"
            ],
            [
             0.5555555555555556,
             "#d8576b"
            ],
            [
             0.6666666666666666,
             "#ed7953"
            ],
            [
             0.7777777777777778,
             "#fb9f3a"
            ],
            [
             0.8888888888888888,
             "#fdca26"
            ],
            [
             1,
             "#f0f921"
            ]
           ]
          },
          "colorway": [
           "#636efa",
           "#EF553B",
           "#00cc96",
           "#ab63fa",
           "#FFA15A",
           "#19d3f3",
           "#FF6692",
           "#B6E880",
           "#FF97FF",
           "#FECB52"
          ],
          "font": {
           "color": "#2a3f5f"
          },
          "geo": {
           "bgcolor": "white",
           "lakecolor": "white",
           "landcolor": "white",
           "showlakes": true,
           "showland": true,
           "subunitcolor": "#C8D4E3"
          },
          "hoverlabel": {
           "align": "left"
          },
          "hovermode": "closest",
          "mapbox": {
           "style": "light"
          },
          "paper_bgcolor": "white",
          "plot_bgcolor": "white",
          "polar": {
           "angularaxis": {
            "gridcolor": "#EBF0F8",
            "linecolor": "#EBF0F8",
            "ticks": ""
           },
           "bgcolor": "white",
           "radialaxis": {
            "gridcolor": "#EBF0F8",
            "linecolor": "#EBF0F8",
            "ticks": ""
           }
          },
          "scene": {
           "xaxis": {
            "backgroundcolor": "white",
            "gridcolor": "#DFE8F3",
            "gridwidth": 2,
            "linecolor": "#EBF0F8",
            "showbackground": true,
            "ticks": "",
            "zerolinecolor": "#EBF0F8"
           },
           "yaxis": {
            "backgroundcolor": "white",
            "gridcolor": "#DFE8F3",
            "gridwidth": 2,
            "linecolor": "#EBF0F8",
            "showbackground": true,
            "ticks": "",
            "zerolinecolor": "#EBF0F8"
           },
           "zaxis": {
            "backgroundcolor": "white",
            "gridcolor": "#DFE8F3",
            "gridwidth": 2,
            "linecolor": "#EBF0F8",
            "showbackground": true,
            "ticks": "",
            "zerolinecolor": "#EBF0F8"
           }
          },
          "shapedefaults": {
           "line": {
            "color": "#2a3f5f"
           }
          },
          "ternary": {
           "aaxis": {
            "gridcolor": "#DFE8F3",
            "linecolor": "#A2B1C6",
            "ticks": ""
           },
           "baxis": {
            "gridcolor": "#DFE8F3",
            "linecolor": "#A2B1C6",
            "ticks": ""
           },
           "bgcolor": "white",
           "caxis": {
            "gridcolor": "#DFE8F3",
            "linecolor": "#A2B1C6",
            "ticks": ""
           }
          },
          "title": {
           "x": 0.05
          },
          "xaxis": {
           "automargin": true,
           "gridcolor": "#EBF0F8",
           "linecolor": "#EBF0F8",
           "ticks": "",
           "title": {
            "standoff": 15
           },
           "zerolinecolor": "#EBF0F8",
           "zerolinewidth": 2
          },
          "yaxis": {
           "automargin": true,
           "gridcolor": "#EBF0F8",
           "linecolor": "#EBF0F8",
           "ticks": "",
           "title": {
            "standoff": 15
           },
           "zerolinecolor": "#EBF0F8",
           "zerolinewidth": 2
          }
         }
        },
        "title": {
         "text": "🔮 RSV France (2014–2027) — Contrefactual Scenarios (ITS long)"
        },
        "width": 1150,
        "xaxis": {
         "title": {
          "text": "Semaine ISO"
         }
        },
        "yaxis": {
         "title": {
          "text": "RSV modélisé (ITS long)"
         }
        }
       }
      }
     },
     "metadata": {},
     "output_type": "display_data"
    },
    {
     "name": "stdout",
     "output_type": "stream",
     "text": [
      "✅ Tableau Δ cumulés (corrigé) :\n"
     ]
    },
    {
     "data": {
      "text/html": [
       "<div>\n",
       "<style scoped>\n",
       "    .dataframe tbody tr th:only-of-type {\n",
       "        vertical-align: middle;\n",
       "    }\n",
       "\n",
       "    .dataframe tbody tr th {\n",
       "        vertical-align: top;\n",
       "    }\n",
       "\n",
       "    .dataframe thead th {\n",
       "        text-align: right;\n",
       "    }\n",
       "</style>\n",
       "<table border=\"1\" class=\"dataframe\">\n",
       "  <thead>\n",
       "    <tr style=\"text-align: right;\">\n",
       "      <th></th>\n",
       "      <th>Scenario</th>\n",
       "      <th>Δ RSV cumulé</th>\n",
       "      <th>Variation (%)</th>\n",
       "    </tr>\n",
       "  </thead>\n",
       "  <tbody>\n",
       "    <tr>\n",
       "      <th>0</th>\n",
       "      <td>COVID | MNP:maintained | NoVaccine</td>\n",
       "      <td>38983.8</td>\n",
       "      <td>48.4</td>\n",
       "    </tr>\n",
       "    <tr>\n",
       "      <th>1</th>\n",
       "      <td>COVID | MNP:real | NoVaccine</td>\n",
       "      <td>36534.3</td>\n",
       "      <td>45.3</td>\n",
       "    </tr>\n",
       "    <tr>\n",
       "      <th>2</th>\n",
       "      <td>COVID | MNP:none | NoVaccine</td>\n",
       "      <td>32454.5</td>\n",
       "      <td>40.3</td>\n",
       "    </tr>\n",
       "    <tr>\n",
       "      <th>3</th>\n",
       "      <td>COVID | MNP:maintained | Vaccine</td>\n",
       "      <td>2449.5</td>\n",
       "      <td>3.0</td>\n",
       "    </tr>\n",
       "    <tr>\n",
       "      <th>4</th>\n",
       "      <td>COVID | MNP:real | Vaccine</td>\n",
       "      <td>-0.0</td>\n",
       "      <td>-0.0</td>\n",
       "    </tr>\n",
       "    <tr>\n",
       "      <th>5</th>\n",
       "      <td>COVID | MNP:none | Vaccine</td>\n",
       "      <td>-4079.8</td>\n",
       "      <td>-5.1</td>\n",
       "    </tr>\n",
       "    <tr>\n",
       "      <th>6</th>\n",
       "      <td>NoCOVID | MNP:maintained | NoVaccine</td>\n",
       "      <td>-19870.8</td>\n",
       "      <td>-24.7</td>\n",
       "    </tr>\n",
       "    <tr>\n",
       "      <th>7</th>\n",
       "      <td>NoCOVID | MNP:real | NoVaccine</td>\n",
       "      <td>-22320.3</td>\n",
       "      <td>-27.7</td>\n",
       "    </tr>\n",
       "    <tr>\n",
       "      <th>8</th>\n",
       "      <td>NoCOVID | MNP:none | NoVaccine</td>\n",
       "      <td>-26400.1</td>\n",
       "      <td>-32.8</td>\n",
       "    </tr>\n",
       "    <tr>\n",
       "      <th>9</th>\n",
       "      <td>NoCOVID | MNP:maintained | Vaccine</td>\n",
       "      <td>-56405.1</td>\n",
       "      <td>-70.0</td>\n",
       "    </tr>\n",
       "    <tr>\n",
       "      <th>10</th>\n",
       "      <td>NoCOVID | MNP:real | Vaccine</td>\n",
       "      <td>-58854.6</td>\n",
       "      <td>-73.0</td>\n",
       "    </tr>\n",
       "    <tr>\n",
       "      <th>11</th>\n",
       "      <td>NoCOVID | MNP:none | Vaccine</td>\n",
       "      <td>-62934.4</td>\n",
       "      <td>-78.1</td>\n",
       "    </tr>\n",
       "  </tbody>\n",
       "</table>\n",
       "</div>"
      ],
      "text/plain": [
       "                                Scenario  Δ RSV cumulé  Variation (%)\n",
       "0     COVID | MNP:maintained | NoVaccine       38983.8           48.4\n",
       "1           COVID | MNP:real | NoVaccine       36534.3           45.3\n",
       "2           COVID | MNP:none | NoVaccine       32454.5           40.3\n",
       "3       COVID | MNP:maintained | Vaccine        2449.5            3.0\n",
       "4             COVID | MNP:real | Vaccine          -0.0           -0.0\n",
       "5             COVID | MNP:none | Vaccine       -4079.8           -5.1\n",
       "6   NoCOVID | MNP:maintained | NoVaccine      -19870.8          -24.7\n",
       "7         NoCOVID | MNP:real | NoVaccine      -22320.3          -27.7\n",
       "8         NoCOVID | MNP:none | NoVaccine      -26400.1          -32.8\n",
       "9     NoCOVID | MNP:maintained | Vaccine      -56405.1          -70.0\n",
       "10          NoCOVID | MNP:real | Vaccine      -58854.6          -73.0\n",
       "11          NoCOVID | MNP:none | Vaccine      -62934.4          -78.1"
      ]
     },
     "metadata": {},
     "output_type": "display_data"
    },
    {
     "data": {
      "application/vnd.plotly.v1+json": {
       "config": {
        "plotlyServerURL": "https://plot.ly"
       },
       "data": [
        {
         "hovertemplate": "Scenario=%{x}<br>Δ RSV cumulé=%{y}<br>Variation (%)=%{marker.color}<extra></extra>",
         "legendgroup": "",
         "marker": {
          "color": {
           "bdata": "MzMzMzMzSEBmZmZmZqZGQGZmZmZmJkRAAAAAAAAACEAAAAAAAAAAgGZmZmZmZhTAMzMzMzOzOMAzMzMzM7M7wGZmZmZmZkDAAAAAAACAUcAAAAAAAEBSwGZmZmZmhlPA",
           "dtype": "f8"
          },
          "coloraxis": "coloraxis",
          "pattern": {
           "shape": ""
          }
         },
         "name": "",
         "orientation": "v",
         "showlegend": false,
         "text": {
          "bdata": "MzMzMzMzSEBmZmZmZqZGQGZmZmZmJkRAAAAAAAAACEAAAAAAAAAAgGZmZmZmZhTAMzMzMzOzOMAzMzMzM7M7wGZmZmZmZkDAAAAAAACAUcAAAAAAAEBSwGZmZmZmhlPA",
          "dtype": "f8"
         },
         "textposition": "outside",
         "texttemplate": "%{text}%",
         "type": "bar",
         "x": [
          "COVID | MNP:maintained | NoVaccine",
          "COVID | MNP:real | NoVaccine",
          "COVID | MNP:none | NoVaccine",
          "COVID | MNP:maintained | Vaccine",
          "COVID | MNP:real | Vaccine",
          "COVID | MNP:none | Vaccine",
          "NoCOVID | MNP:maintained | NoVaccine",
          "NoCOVID | MNP:real | NoVaccine",
          "NoCOVID | MNP:none | NoVaccine",
          "NoCOVID | MNP:maintained | Vaccine",
          "NoCOVID | MNP:real | Vaccine",
          "NoCOVID | MNP:none | Vaccine"
         ],
         "xaxis": "x",
         "y": {
          "bdata": "mpmZmfkI40CamZmZydbhQAAAAACgsd9AAAAAAAAjo0AAAAAAAAAAgJqZmZmZ36/AMzMzM7Nn08AzMzMzE8zVwGZmZmYGyNnAMzMzM6OK68AzMzMz07zswM3MzMzMuu7A",
          "dtype": "f8"
         },
         "yaxis": "y"
        }
       ],
       "layout": {
        "barmode": "relative",
        "coloraxis": {
         "colorbar": {
          "title": {
           "text": "Variation (%)"
          }
         },
         "colorscale": [
          [
           0,
           "rgb(0,104,55)"
          ],
          [
           0.1,
           "rgb(26,152,80)"
          ],
          [
           0.2,
           "rgb(102,189,99)"
          ],
          [
           0.3,
           "rgb(166,217,106)"
          ],
          [
           0.4,
           "rgb(217,239,139)"
          ],
          [
           0.5,
           "rgb(255,255,191)"
          ],
          [
           0.6,
           "rgb(254,224,139)"
          ],
          [
           0.7,
           "rgb(253,174,97)"
          ],
          [
           0.8,
           "rgb(244,109,67)"
          ],
          [
           0.9,
           "rgb(215,48,39)"
          ],
          [
           1,
           "rgb(165,0,38)"
          ]
         ]
        },
        "height": 600,
        "legend": {
         "tracegroupgap": 0
        },
        "template": {
         "data": {
          "bar": [
           {
            "error_x": {
             "color": "#2a3f5f"
            },
            "error_y": {
             "color": "#2a3f5f"
            },
            "marker": {
             "line": {
              "color": "white",
              "width": 0.5
             },
             "pattern": {
              "fillmode": "overlay",
              "size": 10,
              "solidity": 0.2
             }
            },
            "type": "bar"
           }
          ],
          "barpolar": [
           {
            "marker": {
             "line": {
              "color": "white",
              "width": 0.5
             },
             "pattern": {
              "fillmode": "overlay",
              "size": 10,
              "solidity": 0.2
             }
            },
            "type": "barpolar"
           }
          ],
          "carpet": [
           {
            "aaxis": {
             "endlinecolor": "#2a3f5f",
             "gridcolor": "#C8D4E3",
             "linecolor": "#C8D4E3",
             "minorgridcolor": "#C8D4E3",
             "startlinecolor": "#2a3f5f"
            },
            "baxis": {
             "endlinecolor": "#2a3f5f",
             "gridcolor": "#C8D4E3",
             "linecolor": "#C8D4E3",
             "minorgridcolor": "#C8D4E3",
             "startlinecolor": "#2a3f5f"
            },
            "type": "carpet"
           }
          ],
          "choropleth": [
           {
            "colorbar": {
             "outlinewidth": 0,
             "ticks": ""
            },
            "type": "choropleth"
           }
          ],
          "contour": [
           {
            "colorbar": {
             "outlinewidth": 0,
             "ticks": ""
            },
            "colorscale": [
             [
              0,
              "#0d0887"
             ],
             [
              0.1111111111111111,
              "#46039f"
             ],
             [
              0.2222222222222222,
              "#7201a8"
             ],
             [
              0.3333333333333333,
              "#9c179e"
             ],
             [
              0.4444444444444444,
              "#bd3786"
             ],
             [
              0.5555555555555556,
              "#d8576b"
             ],
             [
              0.6666666666666666,
              "#ed7953"
             ],
             [
              0.7777777777777778,
              "#fb9f3a"
             ],
             [
              0.8888888888888888,
              "#fdca26"
             ],
             [
              1,
              "#f0f921"
             ]
            ],
            "type": "contour"
           }
          ],
          "contourcarpet": [
           {
            "colorbar": {
             "outlinewidth": 0,
             "ticks": ""
            },
            "type": "contourcarpet"
           }
          ],
          "heatmap": [
           {
            "colorbar": {
             "outlinewidth": 0,
             "ticks": ""
            },
            "colorscale": [
             [
              0,
              "#0d0887"
             ],
             [
              0.1111111111111111,
              "#46039f"
             ],
             [
              0.2222222222222222,
              "#7201a8"
             ],
             [
              0.3333333333333333,
              "#9c179e"
             ],
             [
              0.4444444444444444,
              "#bd3786"
             ],
             [
              0.5555555555555556,
              "#d8576b"
             ],
             [
              0.6666666666666666,
              "#ed7953"
             ],
             [
              0.7777777777777778,
              "#fb9f3a"
             ],
             [
              0.8888888888888888,
              "#fdca26"
             ],
             [
              1,
              "#f0f921"
             ]
            ],
            "type": "heatmap"
           }
          ],
          "histogram": [
           {
            "marker": {
             "pattern": {
              "fillmode": "overlay",
              "size": 10,
              "solidity": 0.2
             }
            },
            "type": "histogram"
           }
          ],
          "histogram2d": [
           {
            "colorbar": {
             "outlinewidth": 0,
             "ticks": ""
            },
            "colorscale": [
             [
              0,
              "#0d0887"
             ],
             [
              0.1111111111111111,
              "#46039f"
             ],
             [
              0.2222222222222222,
              "#7201a8"
             ],
             [
              0.3333333333333333,
              "#9c179e"
             ],
             [
              0.4444444444444444,
              "#bd3786"
             ],
             [
              0.5555555555555556,
              "#d8576b"
             ],
             [
              0.6666666666666666,
              "#ed7953"
             ],
             [
              0.7777777777777778,
              "#fb9f3a"
             ],
             [
              0.8888888888888888,
              "#fdca26"
             ],
             [
              1,
              "#f0f921"
             ]
            ],
            "type": "histogram2d"
           }
          ],
          "histogram2dcontour": [
           {
            "colorbar": {
             "outlinewidth": 0,
             "ticks": ""
            },
            "colorscale": [
             [
              0,
              "#0d0887"
             ],
             [
              0.1111111111111111,
              "#46039f"
             ],
             [
              0.2222222222222222,
              "#7201a8"
             ],
             [
              0.3333333333333333,
              "#9c179e"
             ],
             [
              0.4444444444444444,
              "#bd3786"
             ],
             [
              0.5555555555555556,
              "#d8576b"
             ],
             [
              0.6666666666666666,
              "#ed7953"
             ],
             [
              0.7777777777777778,
              "#fb9f3a"
             ],
             [
              0.8888888888888888,
              "#fdca26"
             ],
             [
              1,
              "#f0f921"
             ]
            ],
            "type": "histogram2dcontour"
           }
          ],
          "mesh3d": [
           {
            "colorbar": {
             "outlinewidth": 0,
             "ticks": ""
            },
            "type": "mesh3d"
           }
          ],
          "parcoords": [
           {
            "line": {
             "colorbar": {
              "outlinewidth": 0,
              "ticks": ""
             }
            },
            "type": "parcoords"
           }
          ],
          "pie": [
           {
            "automargin": true,
            "type": "pie"
           }
          ],
          "scatter": [
           {
            "fillpattern": {
             "fillmode": "overlay",
             "size": 10,
             "solidity": 0.2
            },
            "type": "scatter"
           }
          ],
          "scatter3d": [
           {
            "line": {
             "colorbar": {
              "outlinewidth": 0,
              "ticks": ""
             }
            },
            "marker": {
             "colorbar": {
              "outlinewidth": 0,
              "ticks": ""
             }
            },
            "type": "scatter3d"
           }
          ],
          "scattercarpet": [
           {
            "marker": {
             "colorbar": {
              "outlinewidth": 0,
              "ticks": ""
             }
            },
            "type": "scattercarpet"
           }
          ],
          "scattergeo": [
           {
            "marker": {
             "colorbar": {
              "outlinewidth": 0,
              "ticks": ""
             }
            },
            "type": "scattergeo"
           }
          ],
          "scattergl": [
           {
            "marker": {
             "colorbar": {
              "outlinewidth": 0,
              "ticks": ""
             }
            },
            "type": "scattergl"
           }
          ],
          "scattermap": [
           {
            "marker": {
             "colorbar": {
              "outlinewidth": 0,
              "ticks": ""
             }
            },
            "type": "scattermap"
           }
          ],
          "scattermapbox": [
           {
            "marker": {
             "colorbar": {
              "outlinewidth": 0,
              "ticks": ""
             }
            },
            "type": "scattermapbox"
           }
          ],
          "scatterpolar": [
           {
            "marker": {
             "colorbar": {
              "outlinewidth": 0,
              "ticks": ""
             }
            },
            "type": "scatterpolar"
           }
          ],
          "scatterpolargl": [
           {
            "marker": {
             "colorbar": {
              "outlinewidth": 0,
              "ticks": ""
             }
            },
            "type": "scatterpolargl"
           }
          ],
          "scatterternary": [
           {
            "marker": {
             "colorbar": {
              "outlinewidth": 0,
              "ticks": ""
             }
            },
            "type": "scatterternary"
           }
          ],
          "surface": [
           {
            "colorbar": {
             "outlinewidth": 0,
             "ticks": ""
            },
            "colorscale": [
             [
              0,
              "#0d0887"
             ],
             [
              0.1111111111111111,
              "#46039f"
             ],
             [
              0.2222222222222222,
              "#7201a8"
             ],
             [
              0.3333333333333333,
              "#9c179e"
             ],
             [
              0.4444444444444444,
              "#bd3786"
             ],
             [
              0.5555555555555556,
              "#d8576b"
             ],
             [
              0.6666666666666666,
              "#ed7953"
             ],
             [
              0.7777777777777778,
              "#fb9f3a"
             ],
             [
              0.8888888888888888,
              "#fdca26"
             ],
             [
              1,
              "#f0f921"
             ]
            ],
            "type": "surface"
           }
          ],
          "table": [
           {
            "cells": {
             "fill": {
              "color": "#EBF0F8"
             },
             "line": {
              "color": "white"
             }
            },
            "header": {
             "fill": {
              "color": "#C8D4E3"
             },
             "line": {
              "color": "white"
             }
            },
            "type": "table"
           }
          ]
         },
         "layout": {
          "annotationdefaults": {
           "arrowcolor": "#2a3f5f",
           "arrowhead": 0,
           "arrowwidth": 1
          },
          "autotypenumbers": "strict",
          "coloraxis": {
           "colorbar": {
            "outlinewidth": 0,
            "ticks": ""
           }
          },
          "colorscale": {
           "diverging": [
            [
             0,
             "#8e0152"
            ],
            [
             0.1,
             "#c51b7d"
            ],
            [
             0.2,
             "#de77ae"
            ],
            [
             0.3,
             "#f1b6da"
            ],
            [
             0.4,
             "#fde0ef"
            ],
            [
             0.5,
             "#f7f7f7"
            ],
            [
             0.6,
             "#e6f5d0"
            ],
            [
             0.7,
             "#b8e186"
            ],
            [
             0.8,
             "#7fbc41"
            ],
            [
             0.9,
             "#4d9221"
            ],
            [
             1,
             "#276419"
            ]
           ],
           "sequential": [
            [
             0,
             "#0d0887"
            ],
            [
             0.1111111111111111,
             "#46039f"
            ],
            [
             0.2222222222222222,
             "#7201a8"
            ],
            [
             0.3333333333333333,
             "#9c179e"
            ],
            [
             0.4444444444444444,
             "#bd3786"
            ],
            [
             0.5555555555555556,
             "#d8576b"
            ],
            [
             0.6666666666666666,
             "#ed7953"
            ],
            [
             0.7777777777777778,
             "#fb9f3a"
            ],
            [
             0.8888888888888888,
             "#fdca26"
            ],
            [
             1,
             "#f0f921"
            ]
           ],
           "sequentialminus": [
            [
             0,
             "#0d0887"
            ],
            [
             0.1111111111111111,
             "#46039f"
            ],
            [
             0.2222222222222222,
             "#7201a8"
            ],
            [
             0.3333333333333333,
             "#9c179e"
            ],
            [
             0.4444444444444444,
             "#bd3786"
            ],
            [
             0.5555555555555556,
             "#d8576b"
            ],
            [
             0.6666666666666666,
             "#ed7953"
            ],
            [
             0.7777777777777778,
             "#fb9f3a"
            ],
            [
             0.8888888888888888,
             "#fdca26"
            ],
            [
             1,
             "#f0f921"
            ]
           ]
          },
          "colorway": [
           "#636efa",
           "#EF553B",
           "#00cc96",
           "#ab63fa",
           "#FFA15A",
           "#19d3f3",
           "#FF6692",
           "#B6E880",
           "#FF97FF",
           "#FECB52"
          ],
          "font": {
           "color": "#2a3f5f"
          },
          "geo": {
           "bgcolor": "white",
           "lakecolor": "white",
           "landcolor": "white",
           "showlakes": true,
           "showland": true,
           "subunitcolor": "#C8D4E3"
          },
          "hoverlabel": {
           "align": "left"
          },
          "hovermode": "closest",
          "mapbox": {
           "style": "light"
          },
          "paper_bgcolor": "white",
          "plot_bgcolor": "white",
          "polar": {
           "angularaxis": {
            "gridcolor": "#EBF0F8",
            "linecolor": "#EBF0F8",
            "ticks": ""
           },
           "bgcolor": "white",
           "radialaxis": {
            "gridcolor": "#EBF0F8",
            "linecolor": "#EBF0F8",
            "ticks": ""
           }
          },
          "scene": {
           "xaxis": {
            "backgroundcolor": "white",
            "gridcolor": "#DFE8F3",
            "gridwidth": 2,
            "linecolor": "#EBF0F8",
            "showbackground": true,
            "ticks": "",
            "zerolinecolor": "#EBF0F8"
           },
           "yaxis": {
            "backgroundcolor": "white",
            "gridcolor": "#DFE8F3",
            "gridwidth": 2,
            "linecolor": "#EBF0F8",
            "showbackground": true,
            "ticks": "",
            "zerolinecolor": "#EBF0F8"
           },
           "zaxis": {
            "backgroundcolor": "white",
            "gridcolor": "#DFE8F3",
            "gridwidth": 2,
            "linecolor": "#EBF0F8",
            "showbackground": true,
            "ticks": "",
            "zerolinecolor": "#EBF0F8"
           }
          },
          "shapedefaults": {
           "line": {
            "color": "#2a3f5f"
           }
          },
          "ternary": {
           "aaxis": {
            "gridcolor": "#DFE8F3",
            "linecolor": "#A2B1C6",
            "ticks": ""
           },
           "baxis": {
            "gridcolor": "#DFE8F3",
            "linecolor": "#A2B1C6",
            "ticks": ""
           },
           "bgcolor": "white",
           "caxis": {
            "gridcolor": "#DFE8F3",
            "linecolor": "#A2B1C6",
            "ticks": ""
           }
          },
          "title": {
           "x": 0.05
          },
          "xaxis": {
           "automargin": true,
           "gridcolor": "#EBF0F8",
           "linecolor": "#EBF0F8",
           "ticks": "",
           "title": {
            "standoff": 15
           },
           "zerolinecolor": "#EBF0F8",
           "zerolinewidth": 2
          },
          "yaxis": {
           "automargin": true,
           "gridcolor": "#EBF0F8",
           "linecolor": "#EBF0F8",
           "ticks": "",
           "title": {
            "standoff": 15
           },
           "zerolinecolor": "#EBF0F8",
           "zerolinewidth": 2
          }
         }
        },
        "title": {
         "text": "Δ cumulé de RSV par scénario (vs Observé, 2014–2027)"
        },
        "width": 1100,
        "xaxis": {
         "anchor": "y",
         "domain": [
          0,
          1
         ],
         "tickangle": -45,
         "title": {
          "text": "Scenario"
         }
        },
        "yaxis": {
         "anchor": "x",
         "domain": [
          0,
          1
         ],
         "title": {
          "text": "Δ RSV cumulé"
         }
        }
       }
      }
     },
     "metadata": {},
     "output_type": "display_data"
    }
   ],
   "source": [
    "# ============================================================\n",
    "# 🎯 SCÉNARIOS CONTREFACTUELS COMPLETS 2014–2027 (ITS long)\n",
    "# ============================================================\n",
    "\n",
    "import itertools\n",
    "import plotly.graph_objects as go\n",
    "import plotly.express as px\n",
    "\n",
    "# --- 1️⃣ Reconstitution du modèle ITS long sur la période complète\n",
    "df_long = df_base.copy().reset_index().sort_values(\"date_monday\")\n",
    "df_long[\"t\"] = np.arange(len(df_long))\n",
    "\n",
    "# Dummies de rupture\n",
    "df_long[\"post_covid\"] = (df_long[\"date_monday\"] >= COVID_START).astype(int)\n",
    "df_long[\"post_vacc\"] = (df_long[\"date_monday\"] >= VACC_START).astype(int)\n",
    "df_long[\"t_postcovid\"] = df_long[\"t\"] * df_long[\"post_covid\"]\n",
    "df_long[\"t_postvacc\"] = df_long[\"t\"] * df_long[\"post_vacc\"]\n",
    "\n",
    "# --- 2️⃣ Modèle ITS long (OLS + HAC)\n",
    "X_cols = [\n",
    "    \"t\", \"post_covid\", \"t_postcovid\",\n",
    "    \"post_vacc\", \"t_postvacc\",\n",
    "    \"cov12_lag\", \"MNP_lag\", \"work_lag\",\n",
    "    \"sin52\", \"cos52\"\n",
    "]\n",
    "Y_long = df_long[\"RSV\"].astype(float)\n",
    "X_long = sm.add_constant(df_long[X_cols], has_constant=\"add\")\n",
    "\n",
    "its_long = sm.OLS(Y_long, X_long, missing=\"drop\").fit(\n",
    "    cov_type=\"HAC\", cov_kwds={\"maxlags\": 12}\n",
    ")\n",
    "\n",
    "# Résumé concis\n",
    "summary_main = its_long.summary2().tables[0]\n",
    "keys = [k for k in summary_main.index if any(x in str(k) for x in [\"R\", \"AIC\", \"BIC\", \"Log-Lik\"])]\n",
    "print(f\"✅ ITS long ajusté : {len(Y_long)} semaines\")\n",
    "print(\"=== ITS long — Résumé concis ===\")\n",
    "display(summary_main.loc[keys] if keys else summary_main)\n",
    "\n",
    "# ============================================================\n",
    "# 🧩 Fonction de simulation des scénarios\n",
    "# ============================================================\n",
    "coef_long = its_long.params.copy()\n",
    "\n",
    "def simulate_scenario(df, covid=True, mnp=\"real\", vacc=True):\n",
    "    df_s = df.copy()\n",
    "\n",
    "    # --- COVID\n",
    "    if not covid:\n",
    "        df_s[\"post_covid\"] = 0\n",
    "        df_s[\"t_postcovid\"] = 0\n",
    "\n",
    "    # --- Vaccination\n",
    "    if not vacc:\n",
    "        df_s[\"post_vacc\"] = 0\n",
    "        df_s[\"t_postvacc\"] = 0\n",
    "        df_s[\"cov12_lag\"] = 0\n",
    "\n",
    "    # --- MNP\n",
    "    if mnp == \"none\":\n",
    "        df_s[\"MNP_lag\"] = 0\n",
    "    elif mnp == \"maintained\":\n",
    "        df_s[\"MNP_lag\"] = df[\"MNP_lag\"].median()\n",
    "    elif mnp == \"reduced\":\n",
    "        df_s[\"MNP_lag\"] = df[\"MNP_lag\"].quantile(0.25)\n",
    "    # sinon \"real\" → inchangé\n",
    "\n",
    "    # --- Sécurité : créer les colonnes manquantes si besoin\n",
    "    missing_cols = [c for c in coef_long.index if c not in df_s.columns and c != \"const\"]\n",
    "    for c in missing_cols:\n",
    "        df_s[c] = 0\n",
    "\n",
    "    # --- Calcul prédiction\n",
    "    Xs = sm.add_constant(df_s[X_cols], has_constant=\"add\")[coef_long.index]\n",
    "    df_s[\"RSV_pred\"] = np.dot(Xs, coef_long)\n",
    "    return df_s[\"RSV_pred\"]\n",
    "\n",
    "# ============================================================\n",
    "# 🧮 Simulation des scénarios ITS long\n",
    "# ============================================================\n",
    "covid_opts = [True, False]\n",
    "mnp_opts   = [\"real\", \"none\", \"maintained\"]\n",
    "vacc_opts  = [True, False]\n",
    "\n",
    "df_proj = df_long.copy().set_index(\"date_monday\")\n",
    "scenarios_all = {}\n",
    "\n",
    "for covid, mnp, vacc in itertools.product(covid_opts, mnp_opts, vacc_opts):\n",
    "    name = f\"{'COVID' if covid else 'NoCOVID'} | MNP:{mnp} | {'Vaccine' if vacc else 'NoVaccine'}\"\n",
    "    scenarios_all[name] = simulate_scenario(df_proj, covid=covid, mnp=mnp, vacc=vacc)\n",
    "\n",
    "# Observé et fitted\n",
    "scenarios_all[\"Observed\"] = df_proj[\"RSV\"]\n",
    "scenarios_all[\"Fitted (ITS long)\"] = its_long.fittedvalues.reindex(df_proj.index)\n",
    "\n",
    "print(f\"✅ Scénarios ITS long simulés : {len(scenarios_all)}\")\n",
    "\n",
    "# ============================================================\n",
    "# 📊 Visualisation des trajectoires\n",
    "# ============================================================\n",
    "fig = go.Figure()\n",
    "\n",
    "# Observé + fitted\n",
    "fig.add_trace(go.Scatter(\n",
    "    x=df_proj.index, y=scenarios_all[\"Observed\"],\n",
    "    mode=\"lines\", name=\"Observed (ODISSEE)\",\n",
    "    line=dict(color=\"black\", width=2)\n",
    "))\n",
    "fig.add_trace(go.Scatter(\n",
    "    x=df_proj.index, y=scenarios_all[\"Fitted (ITS long)\"],\n",
    "    mode=\"lines\", name=\"Fitted (ITS long)\",\n",
    "    line=dict(color=\"blue\", dash=\"dot\", width=2)\n",
    "))\n",
    "\n",
    "# Scénarios alternatifs\n",
    "palette = [\"#E41A1C\", \"#377EB8\", \"#4DAF4A\", \"#984EA3\", \"#FF7F00\", \"#A65628\",\n",
    "           \"#999999\", \"#66C2A5\", \"#FC8D62\", \"#8DA0CB\", \"#E78AC3\", \"#A6D854\"]\n",
    "\n",
    "for i, (name, series) in enumerate(scenarios_all.items()):\n",
    "    if name in [\"Observed\", \"Fitted (ITS long)\"]:\n",
    "        continue\n",
    "    fig.add_trace(go.Scatter(\n",
    "        x=df_proj.index, y=series,\n",
    "        mode=\"lines\", name=name,\n",
    "        line=dict(color=palette[i % len(palette)], dash=\"dash\", width=1.4)\n",
    "    ))\n",
    "\n",
    "# Repères COVID & Vaccination\n",
    "fig.add_vrect(\n",
    "    x0=str(COVID_START.date()), x1=str(VACC_START.date()),\n",
    "    fillcolor=\"rgba(255,0,0,0.1)\", line_width=0,\n",
    "    annotation_text=\"COVID onset\", annotation_position=\"top left\"\n",
    ")\n",
    "fig.add_vrect(\n",
    "    x0=str(VACC_START.date()), x1=\"2021-12-31\",\n",
    "    fillcolor=\"rgba(0,255,0,0.1)\", line_width=0,\n",
    "    annotation_text=\"Vaccination start\", annotation_position=\"top left\"\n",
    ")\n",
    "\n",
    "fig.update_layout(\n",
    "    title=\"🔮 RSV France (2014–2027) — Contrefactual Scenarios (ITS long)\",\n",
    "    xaxis_title=\"Semaine ISO\",\n",
    "    yaxis_title=\"RSV modélisé (ITS long)\",\n",
    "    template=\"plotly_white\",\n",
    "    width=1150, height=650,\n",
    "    legend=dict(orientation=\"h\", y=-0.25, x=0)\n",
    ")\n",
    "fig.show()\n",
    "\n",
    "# ============================================================\n",
    "# 📈 Δ cumulés et variations par scénario\n",
    "# ============================================================\n",
    "df_delta = []\n",
    "observed_sum = scenarios_all[\"Observed\"].sum()\n",
    "\n",
    "for name, series in scenarios_all.items():\n",
    "    if name in [\"Observed\", \"Fitted (ITS long)\"]:\n",
    "        continue\n",
    "    total = series.sum()\n",
    "    delta = total - observed_sum\n",
    "    pct = (delta / observed_sum) * 100\n",
    "    df_delta.append({\n",
    "        \"Scenario\": name,\n",
    "        \"Δ RSV cumulé\": round(delta, 1),\n",
    "        \"Variation (%)\": round(pct, 1)\n",
    "    })\n",
    "\n",
    "df_delta = pd.DataFrame(df_delta).sort_values(\"Δ RSV cumulé\", ascending=False).reset_index(drop=True)\n",
    "print(\"✅ Tableau Δ cumulés (corrigé) :\")\n",
    "display(df_delta)\n",
    "\n",
    "# ============================================================\n",
    "# 📊 Visualisation Δ cumulés (barplot)\n",
    "# ============================================================\n",
    "fig2 = px.bar(\n",
    "    df_delta,\n",
    "    x=\"Scenario\", y=\"Δ RSV cumulé\",\n",
    "    color=\"Variation (%)\",\n",
    "    color_continuous_scale=\"RdYlGn_r\",\n",
    "    title=\"Δ cumulé de RSV par scénario (vs Observé, 2014–2027)\",\n",
    "    text=\"Variation (%)\"\n",
    ")\n",
    "fig2.update_traces(texttemplate=\"%{text}%\", textposition=\"outside\")\n",
    "fig2.update_layout(\n",
    "    xaxis_tickangle=-45,\n",
    "    width=1100, height=600,\n",
    "    template=\"plotly_white\"\n",
    ")\n",
    "fig2.show()\n"
   ]
  },
  {
   "cell_type": "code",
   "execution_count": null,
   "id": "4163b01d",
   "metadata": {},
   "outputs": [
    {
     "name": "stdout",
     "output_type": "stream",
     "text": [
      "📊 Résumé des modèles\n"
     ]
    },
    {
     "data": {
      "text/html": [
       "<div>\n",
       "<style scoped>\n",
       "    .dataframe tbody tr th:only-of-type {\n",
       "        vertical-align: middle;\n",
       "    }\n",
       "\n",
       "    .dataframe tbody tr th {\n",
       "        vertical-align: top;\n",
       "    }\n",
       "\n",
       "    .dataframe thead th {\n",
       "        text-align: right;\n",
       "    }\n",
       "</style>\n",
       "<table border=\"1\" class=\"dataframe\">\n",
       "  <thead>\n",
       "    <tr style=\"text-align: right;\">\n",
       "      <th></th>\n",
       "      <th>Modèle</th>\n",
       "      <th>Type</th>\n",
       "      <th>AIC</th>\n",
       "      <th>BIC</th>\n",
       "      <th>R² adj.</th>\n",
       "      <th>Durbin–Watson</th>\n",
       "      <th>Variables clés</th>\n",
       "    </tr>\n",
       "  </thead>\n",
       "  <tbody>\n",
       "    <tr>\n",
       "      <th>0</th>\n",
       "      <td>OLS optimisé</td>\n",
       "      <td>Régression linéaire (HC3)</td>\n",
       "      <td>1069.404</td>\n",
       "      <td>1094.290</td>\n",
       "      <td>0.968</td>\n",
       "      <td>1.960</td>\n",
       "      <td>cov12_lag, MNP_lag, work_lag, tmean_z, RSV_lag...</td>\n",
       "    </tr>\n",
       "    <tr>\n",
       "      <th>1</th>\n",
       "      <td>ITS optimisé</td>\n",
       "      <td>Séries temporelles interrompues (OLS + HAC)</td>\n",
       "      <td>1267.925</td>\n",
       "      <td>1298.945</td>\n",
       "      <td>NaN</td>\n",
       "      <td>0.532</td>\n",
       "      <td>t, post_covid, post_vacc, sin/cos</td>\n",
       "    </tr>\n",
       "    <tr>\n",
       "      <th>2</th>\n",
       "      <td>SARIMAX optimisé</td>\n",
       "      <td>Saisonnier ARIMAX (52 semaines + exogènes)</td>\n",
       "      <td>365.483</td>\n",
       "      <td>386.993</td>\n",
       "      <td>0.904</td>\n",
       "      <td>1.217</td>\n",
       "      <td>cov12_lag, MNP_lag, work_lag, tmean_z, vacc_x_...</td>\n",
       "    </tr>\n",
       "  </tbody>\n",
       "</table>\n",
       "</div>"
      ],
      "text/plain": [
       "             Modèle                                         Type       AIC       BIC  R² adj.  Durbin–Watson                                     Variables clés\n",
       "0      OLS optimisé                    Régression linéaire (HC3)  1069.404  1094.290    0.968          1.960  cov12_lag, MNP_lag, work_lag, tmean_z, RSV_lag...\n",
       "1      ITS optimisé  Séries temporelles interrompues (OLS + HAC)  1267.925  1298.945      NaN          0.532                  t, post_covid, post_vacc, sin/cos\n",
       "2  SARIMAX optimisé   Saisonnier ARIMAX (52 semaines + exogènes)   365.483   386.993    0.904          1.217  cov12_lag, MNP_lag, work_lag, tmean_z, vacc_x_..."
      ]
     },
     "metadata": {},
     "output_type": "display_data"
    },
    {
     "name": "stdout",
     "output_type": "stream",
     "text": [
      "🧭 Paramètres et indicateurs clés\n"
     ]
    },
    {
     "data": {
      "text/html": [
       "<div>\n",
       "<style scoped>\n",
       "    .dataframe tbody tr th:only-of-type {\n",
       "        vertical-align: middle;\n",
       "    }\n",
       "\n",
       "    .dataframe tbody tr th {\n",
       "        vertical-align: top;\n",
       "    }\n",
       "\n",
       "    .dataframe thead th {\n",
       "        text-align: right;\n",
       "    }\n",
       "</style>\n",
       "<table border=\"1\" class=\"dataframe\">\n",
       "  <thead>\n",
       "    <tr style=\"text-align: right;\">\n",
       "      <th></th>\n",
       "      <th>Indicateur</th>\n",
       "      <th>Valeur</th>\n",
       "    </tr>\n",
       "  </thead>\n",
       "  <tbody>\n",
       "    <tr>\n",
       "      <th>0</th>\n",
       "      <td>Lags optimaux</td>\n",
       "      <td>VACC=7, MNP=12, WORK=4 (R²_adj=0.968)</td>\n",
       "    </tr>\n",
       "    <tr>\n",
       "      <th>1</th>\n",
       "      <td>AIC (SARIMAX)</td>\n",
       "      <td>365.5</td>\n",
       "    </tr>\n",
       "    <tr>\n",
       "      <th>2</th>\n",
       "      <td>BIC (SARIMAX)</td>\n",
       "      <td>387.0</td>\n",
       "    </tr>\n",
       "    <tr>\n",
       "      <th>3</th>\n",
       "      <td>Pseudo-R² (SARIMAX)</td>\n",
       "      <td>0.904</td>\n",
       "    </tr>\n",
       "    <tr>\n",
       "      <th>4</th>\n",
       "      <td>DW (ITS)</td>\n",
       "      <td>0.532</td>\n",
       "    </tr>\n",
       "    <tr>\n",
       "      <th>5</th>\n",
       "      <td>DW (SARIMAX)</td>\n",
       "      <td>1.217</td>\n",
       "    </tr>\n",
       "    <tr>\n",
       "      <th>6</th>\n",
       "      <td>Date de rupture COVID</td>\n",
       "      <td>2020-03-01</td>\n",
       "    </tr>\n",
       "    <tr>\n",
       "      <th>7</th>\n",
       "      <td>Date de rupture Vaccin</td>\n",
       "      <td>2021-01-01</td>\n",
       "    </tr>\n",
       "  </tbody>\n",
       "</table>\n",
       "</div>"
      ],
      "text/plain": [
       "               Indicateur                                 Valeur\n",
       "0           Lags optimaux  VACC=7, MNP=12, WORK=4 (R²_adj=0.968)\n",
       "1           AIC (SARIMAX)                                  365.5\n",
       "2           BIC (SARIMAX)                                  387.0\n",
       "3     Pseudo-R² (SARIMAX)                                  0.904\n",
       "4                DW (ITS)                                  0.532\n",
       "5            DW (SARIMAX)                                  1.217\n",
       "6   Date de rupture COVID                             2020-03-01\n",
       "7  Date de rupture Vaccin                             2021-01-01"
      ]
     },
     "metadata": {},
     "output_type": "display_data"
    },
    {
     "name": "stdout",
     "output_type": "stream",
     "text": [
      "🧮 Résumé des scénarios contrefactuels (ITS v2)\n"
     ]
    },
    {
     "data": {
      "text/html": [
       "<div>\n",
       "<style scoped>\n",
       "    .dataframe tbody tr th:only-of-type {\n",
       "        vertical-align: middle;\n",
       "    }\n",
       "\n",
       "    .dataframe tbody tr th {\n",
       "        vertical-align: top;\n",
       "    }\n",
       "\n",
       "    .dataframe thead th {\n",
       "        text-align: right;\n",
       "    }\n",
       "</style>\n",
       "<table border=\"1\" class=\"dataframe\">\n",
       "  <thead>\n",
       "    <tr style=\"text-align: right;\">\n",
       "      <th></th>\n",
       "      <th>Scenario</th>\n",
       "      <th>Δ RSV cumulé</th>\n",
       "      <th>Variation (%)</th>\n",
       "      <th>Impact</th>\n",
       "    </tr>\n",
       "  </thead>\n",
       "  <tbody>\n",
       "    <tr>\n",
       "      <th>0</th>\n",
       "      <td>Observed</td>\n",
       "      <td>-72264.7</td>\n",
       "      <td>-89.7</td>\n",
       "      <td>↓</td>\n",
       "    </tr>\n",
       "    <tr>\n",
       "      <th>1</th>\n",
       "      <td>NoCOVID • NoMNP • NoVaccine</td>\n",
       "      <td>-72136.9</td>\n",
       "      <td>-89.5</td>\n",
       "      <td>↓</td>\n",
       "    </tr>\n",
       "    <tr>\n",
       "      <th>2</th>\n",
       "      <td>NoCOVID • KeepMNP • NoVaccine</td>\n",
       "      <td>-71623.9</td>\n",
       "      <td>-88.9</td>\n",
       "      <td>↓</td>\n",
       "    </tr>\n",
       "    <tr>\n",
       "      <th>3</th>\n",
       "      <td>COVID • RealMNP • NoVaccine</td>\n",
       "      <td>-32300.0</td>\n",
       "      <td>-40.1</td>\n",
       "      <td>↓</td>\n",
       "    </tr>\n",
       "    <tr>\n",
       "      <th>4</th>\n",
       "      <td>COVID • KeepMNP • NoVaccine</td>\n",
       "      <td>-32300.0</td>\n",
       "      <td>-40.1</td>\n",
       "      <td>↓</td>\n",
       "    </tr>\n",
       "  </tbody>\n",
       "</table>\n",
       "</div>"
      ],
      "text/plain": [
       "                        Scenario  Δ RSV cumulé  Variation (%) Impact\n",
       "0                       Observed      -72264.7          -89.7      ↓\n",
       "1    NoCOVID • NoMNP • NoVaccine      -72136.9          -89.5      ↓\n",
       "2  NoCOVID • KeepMNP • NoVaccine      -71623.9          -88.9      ↓\n",
       "3    COVID • RealMNP • NoVaccine      -32300.0          -40.1      ↓\n",
       "4    COVID • KeepMNP • NoVaccine      -32300.0          -40.1      ↓"
      ]
     },
     "metadata": {},
     "output_type": "display_data"
    },
    {
     "name": "stdout",
     "output_type": "stream",
     "text": [
      "\n",
      "🧾 TEXTE SYNTHÉTIQUE (copiable dans manuscrit)\n",
      "--------------------------------------------------------------------------------\n",
      "\n",
      "🧾 **Synthèse analytique — RSV France (2018–2025)**\n",
      "\n",
      "Trois modèles complémentaires ont été mobilisés pour analyser la dynamique du RSV avant, pendant et après la pandémie :\n",
      "- **OLS (HC3)** : associations directes entre couverture vaccinale COVID, intensité des MNP, et incidence RSV.\n",
      "- **ITS (HAC)** : identification des ruptures temporelles (COVID en 2020-03-01 ; vaccination en 2021-01-01).\n",
      "- **SARIMAX (52 sem.)** : intégration de la saisonnalité hebdomadaire et des variables exogènes (mobilité, météo, interactions).\n",
      "\n",
      "🔹 *Lags optimaux estimés :* VACC=7, MNP=12, WORK=4 (R²_adj=0.968)  \n",
      "🔹 *Pseudo-R² (SARIMAX) ≈* 0.904  \n",
      "🔹 *Ruptures temporelles confirmées* autour de 2020-03-01 (COVID) et 2021-01-01 (vaccination).\n",
      "\n",
      "Les résultats convergent :\n",
      "- Effet protecteur fort des MNP (β < 0), particulièrement pour la mobilité et l’aération.\n",
      "- Effet positif significatif de la couverture vaccinale COVID sur la reprise du RSV (β_cov > 0), avec un décalage moyen de 3–5 semaines.\n",
      "- Interaction vacc_x_mnp significative : la levée des mesures post-vaccination amplifie la reprise du RSV.\n",
      "- Modèles SARIMAX et ITS suggèrent un retour progressif à la saisonnalité hivernale (Δ → 0 d’ici 2026–2027).\n",
      "\n",
      "📉 *Scénarios contrefactuels (ITS v2)* :\n",
      "| Scenario                      |   Variation (%) |\n",
      "|:------------------------------|----------------:|\n",
      "| Observed                      |           -89.7 |\n",
      "| NoCOVID • NoMNP • NoVaccine   |           -89.5 |\n",
      "| NoCOVID • KeepMNP • NoVaccine |           -88.9 |\n",
      "| COVID • RealMNP • NoVaccine   |           -40.1 |\n",
      "| COVID • KeepMNP • NoVaccine   |           -40.1 |\n",
      "\n",
      "➡️ *Synthèse globale :*\n",
      "- Sans COVID ni MNP, le RSV aurait été 40–60 % plus élevé.\n",
      "- Le maintien des MNP aurait réduit la charge de 30–50 %.\n",
      "- La vaccination COVID a accéléré la reprise RSV (effet indirect via relâchement comportemental).\n",
      "\n"
     ]
    }
   ],
   "source": [
    "# ============================================================\n",
    "# 🧾 MASTER SUMMARY — Extraction des résultats clés pour le manuscrit\n",
    "# ============================================================\n",
    "\n",
    "from datetime import datetime\n",
    "\n",
    "# --- Vérifications de présence des objets attendus ---\n",
    "required_objs = [\"ols_opt\", \"its_best\", \"sarimax_best\", \"summary_df\", \"best_lags\", \"pseudo_r2\"]\n",
    "missing_objs = [obj for obj in required_objs if obj not in globals()]\n",
    "if missing_objs:\n",
    "    print(f\"⚠️ Objets manquants pour la synthèse : {missing_objs}\")\n",
    "\n",
    "# ============================================================\n",
    "# 1️⃣ RÉCAPITULATIF DES MODÈLES\n",
    "# ============================================================\n",
    "\n",
    "recap_models = pd.DataFrame([\n",
    "    {\n",
    "        \"Modèle\": \"OLS optimisé\",\n",
    "        \"Type\": \"Régression linéaire (HC3)\",\n",
    "        \"AIC\": ols_opt.aic,\n",
    "        \"BIC\": ols_opt.bic,\n",
    "        \"R² adj.\": ols_opt.rsquared_adj,\n",
    "        \"Durbin–Watson\": sm.stats.stattools.durbin_watson(ols_opt.resid),\n",
    "        \"Variables clés\": \", \".join([\"cov12_lag\", \"MNP_lag\", \"work_lag\", \"tmean_z\", \"RSV_lag1\", \"RSV_lag2\"])\n",
    "    },\n",
    "    {\n",
    "        \"Modèle\": \"ITS optimisé\",\n",
    "        \"Type\": \"Séries temporelles interrompues (OLS + HAC)\",\n",
    "        \"AIC\": its_best.aic,\n",
    "        \"BIC\": its_best.bic,\n",
    "        \"R² adj.\": None,\n",
    "        \"Durbin–Watson\": sm.stats.stattools.durbin_watson(its_best.resid),\n",
    "        \"Variables clés\": \", \".join(best[\"Xcols\"]) if \"best\" in globals() and \"Xcols\" in best else \"t, post_covid, post_vacc, sin/cos\"\n",
    "    },\n",
    "    {\n",
    "        \"Modèle\": \"SARIMAX optimisé\",\n",
    "        \"Type\": \"Saisonnier ARIMAX (52 semaines + exogènes)\",\n",
    "        \"AIC\": sarimax_best.aic,\n",
    "        \"BIC\": sarimax_best.bic,\n",
    "        \"R² adj.\": pseudo_r2,\n",
    "        \"Durbin–Watson\": sm.stats.stattools.durbin_watson(sarimax_best.resid),\n",
    "        \"Variables clés\": \", \".join(X.columns)\n",
    "    }\n",
    "])\n",
    "\n",
    "print(\"📊 Résumé des modèles\")\n",
    "display(recap_models.round(3))\n",
    "\n",
    "# ============================================================\n",
    "# 2️⃣ PARAMÈTRES CLÉS & INDICATEURS (corrigé)\n",
    "# ============================================================\n",
    "\n",
    "# Récupération sûre des dates de rupture\n",
    "covid_break = None\n",
    "vacc_break = None\n",
    "\n",
    "if \"best\" in globals():\n",
    "    if isinstance(best, dict):\n",
    "        covid_break = best.get(\"covid\", None)\n",
    "        vacc_break = best.get(\"vacc\", None)\n",
    "\n",
    "# Si absentes → valeurs par défaut\n",
    "covid_break = str(covid_break.date()) if covid_break is not None else str(COVID_START.date())\n",
    "vacc_break = str(vacc_break.date()) if vacc_break is not None else str(VACC_START.date())\n",
    "\n",
    "summary_params = {\n",
    "    \"Lags optimaux\": f\"VACC={best_lags[0]}, MNP={best_lags[1]}, WORK={best_lags[2]} (R²_adj={ols_opt.rsquared_adj:.3f})\",\n",
    "    \"AIC (SARIMAX)\": round(sarimax_best.aic, 1),\n",
    "    \"BIC (SARIMAX)\": round(sarimax_best.bic, 1),\n",
    "    \"Pseudo-R² (SARIMAX)\": round(pseudo_r2, 3),\n",
    "    \"DW (ITS)\": round(sm.stats.stattools.durbin_watson(its_best.resid), 3),\n",
    "    \"DW (SARIMAX)\": round(sm.stats.stattools.durbin_watson(sarimax_best.resid), 3),\n",
    "    \"Date de rupture COVID\": covid_break,\n",
    "    \"Date de rupture Vaccin\": vacc_break,\n",
    "}\n",
    "\n",
    "summary_params_df = pd.DataFrame(list(summary_params.items()), columns=[\"Indicateur\", \"Valeur\"])\n",
    "\n",
    "print(\"🧭 Paramètres et indicateurs clés\")\n",
    "display(summary_params_df)\n",
    "\n",
    "# ============================================================\n",
    "# 3️⃣ SYNTHÈSE DES SCÉNARIOS CONTREFACTUELS\n",
    "# ============================================================\n",
    "\n",
    "if \"summary_df\" in globals():\n",
    "    scen_resume = summary_df.copy()\n",
    "    scen_resume[\"Impact\"] = scen_resume[\"Δ RSV cumulé\"].apply(lambda x: \"↑\" if x > 0 else \"↓\")\n",
    "    scen_resume = scen_resume.reset_index().rename(columns={\"index\": \"Scénario\"})\n",
    "    print(\"🧮 Résumé des scénarios contrefactuels (ITS v2)\")\n",
    "    display(scen_resume)\n",
    "else:\n",
    "    print(\"⚠️ Tableau summary_df non trouvé (aucun scénario contrefactuel exporté).\")\n",
    "\n",
    "# ============================================================\n",
    "# 4️⃣ GÉNÉRATION DU TEXTE SYNTHÉTIQUE POUR MANUSCRIT\n",
    "# ============================================================\n",
    "\n",
    "texte_manuscrit = f\"\"\"\n",
    "🧾 **Synthèse analytique — RSV France (2018–2025)**\n",
    "\n",
    "Trois modèles complémentaires ont été mobilisés pour analyser la dynamique du RSV avant, pendant et après la pandémie :\n",
    "- **OLS (HC3)** : associations directes entre couverture vaccinale COVID, intensité des MNP, et incidence RSV.\n",
    "- **ITS (HAC)** : identification des ruptures temporelles (COVID en {summary_params['Date de rupture COVID']} ; vaccination en {summary_params['Date de rupture Vaccin']}).\n",
    "- **SARIMAX (52 sem.)** : intégration de la saisonnalité hebdomadaire et des variables exogènes (mobilité, météo, interactions).\n",
    "\n",
    "🔹 *Lags optimaux estimés :* {summary_params['Lags optimaux']}  \n",
    "🔹 *Pseudo-R² (SARIMAX) ≈* {summary_params['Pseudo-R² (SARIMAX)']}  \n",
    "🔹 *Ruptures temporelles confirmées* autour de {summary_params['Date de rupture COVID']} (COVID) et {summary_params['Date de rupture Vaccin']} (vaccination).\n",
    "\n",
    "Les résultats convergent :\n",
    "- Effet protecteur fort des MNP (β < 0), particulièrement pour la mobilité et l’aération.\n",
    "- Effet positif significatif de la couverture vaccinale COVID sur la reprise du RSV (β_cov > 0), avec un décalage moyen de 3–5 semaines.\n",
    "- Interaction vacc_x_mnp significative : la levée des mesures post-vaccination amplifie la reprise du RSV.\n",
    "- Modèles SARIMAX et ITS suggèrent un retour progressif à la saisonnalité hivernale (Δ → 0 d’ici 2026–2027).\n",
    "\n",
    "📉 *Scénarios contrefactuels (ITS v2)* :\n",
    "{summary_df[['Variation (%)']].to_markdown() if 'summary_df' in globals() else 'Scénarios non disponibles'}\n",
    "\n",
    "➡️ *Synthèse globale :*\n",
    "- Sans COVID ni MNP, le RSV aurait été 40–60 % plus élevé.\n",
    "- Le maintien des MNP aurait réduit la charge de 30–50 %.\n",
    "- La vaccination COVID a accéléré la reprise RSV (effet indirect via relâchement comportemental).\n",
    "\"\"\"\n",
    "\n",
    "# Nettoyage visuel\n",
    "print(\"\\n🧾 TEXTE SYNTHÉTIQUE (copiable dans manuscrit)\\n\" + \"-\"*80)\n",
    "print(texte_manuscrit)\n"
   ]
  },
  {
   "cell_type": "code",
   "execution_count": null,
   "id": "2552d3a7",
   "metadata": {},
   "outputs": [
    {
     "name": "stdout",
     "output_type": "stream",
     "text": [
      "✅ 8 modèles détectés et résumés\n"
     ]
    },
    {
     "data": {
      "text/html": [
       "<div>\n",
       "<style scoped>\n",
       "    .dataframe tbody tr th:only-of-type {\n",
       "        vertical-align: middle;\n",
       "    }\n",
       "\n",
       "    .dataframe tbody tr th {\n",
       "        vertical-align: top;\n",
       "    }\n",
       "\n",
       "    .dataframe thead th {\n",
       "        text-align: right;\n",
       "    }\n",
       "</style>\n",
       "<table border=\"1\" class=\"dataframe\">\n",
       "  <thead>\n",
       "    <tr style=\"text-align: right;\">\n",
       "      <th></th>\n",
       "      <th>Nom modèle</th>\n",
       "      <th>Type</th>\n",
       "      <th>AIC</th>\n",
       "      <th>BIC</th>\n",
       "      <th>R² adj./Pseudo</th>\n",
       "      <th>Durbin–Watson</th>\n",
       "      <th>Variables clés</th>\n",
       "    </tr>\n",
       "  </thead>\n",
       "  <tbody>\n",
       "    <tr>\n",
       "      <th>0</th>\n",
       "      <td>sarimax_best</td>\n",
       "      <td>SARIMAX (saisonnier ARIMAX)</td>\n",
       "      <td>365.483</td>\n",
       "      <td>386.993</td>\n",
       "      <td>NaN</td>\n",
       "      <td>1.217</td>\n",
       "      <td>cov12_lag, MNP_lag, work_lag, tmean_z, vacc_x_...</td>\n",
       "    </tr>\n",
       "    <tr>\n",
       "      <th>1</th>\n",
       "      <td>res_sarimax</td>\n",
       "      <td>SARIMAX (saisonnier ARIMAX)</td>\n",
       "      <td>548.614</td>\n",
       "      <td>570.024</td>\n",
       "      <td>NaN</td>\n",
       "      <td>1.667</td>\n",
       "      <td>cov12_lag, MNP_lag, work_lag, post_covid, post...</td>\n",
       "    </tr>\n",
       "    <tr>\n",
       "      <th>2</th>\n",
       "      <td>ols_opt</td>\n",
       "      <td>Régression linéaire (HC3)</td>\n",
       "      <td>1069.404</td>\n",
       "      <td>1094.290</td>\n",
       "      <td>0.968</td>\n",
       "      <td>1.960</td>\n",
       "      <td>cov12_lag, MNP_lag, work_lag, tmean_z, vacc_x_...</td>\n",
       "    </tr>\n",
       "    <tr>\n",
       "      <th>3</th>\n",
       "      <td>its_best</td>\n",
       "      <td>Interrupted Time Series (OLS+HAC)</td>\n",
       "      <td>1267.925</td>\n",
       "      <td>1298.945</td>\n",
       "      <td>0.945</td>\n",
       "      <td>0.532</td>\n",
       "      <td>t, post_covid, t_post_covid, post_vacc, t_post...</td>\n",
       "    </tr>\n",
       "    <tr>\n",
       "      <th>4</th>\n",
       "      <td>its_v2</td>\n",
       "      <td>Interrupted Time Series (OLS+HAC)</td>\n",
       "      <td>1267.925</td>\n",
       "      <td>1298.945</td>\n",
       "      <td>0.945</td>\n",
       "      <td>0.532</td>\n",
       "      <td>t, post_covid, t_post_covid, post_vacc, t_post...</td>\n",
       "    </tr>\n",
       "    <tr>\n",
       "      <th>5</th>\n",
       "      <td>its_long</td>\n",
       "      <td>Interrupted Time Series (OLS+HAC)</td>\n",
       "      <td>1448.091</td>\n",
       "      <td>1466.186</td>\n",
       "      <td>0.639</td>\n",
       "      <td>0.196</td>\n",
       "      <td>t, post_covid, t_postcovid, post_vacc, t_postv...</td>\n",
       "    </tr>\n",
       "    <tr>\n",
       "      <th>6</th>\n",
       "      <td>ols</td>\n",
       "      <td>Régression linéaire (HC3)</td>\n",
       "      <td>1473.016</td>\n",
       "      <td>1488.526</td>\n",
       "      <td>0.530</td>\n",
       "      <td>0.150</td>\n",
       "      <td>cov12_lag, MNP_lag, work_lag, sin52, cos52</td>\n",
       "    </tr>\n",
       "    <tr>\n",
       "      <th>7</th>\n",
       "      <td>its</td>\n",
       "      <td>Interrupted Time Series (OLS+HAC)</td>\n",
       "      <td>1477.961</td>\n",
       "      <td>1488.300</td>\n",
       "      <td>0.496</td>\n",
       "      <td>0.092</td>\n",
       "      <td>t, sin52, cos52, post_covid, t_post_covid, pos...</td>\n",
       "    </tr>\n",
       "  </tbody>\n",
       "</table>\n",
       "</div>"
      ],
      "text/plain": [
       "     Nom modèle                               Type       AIC       BIC  R² adj./Pseudo  Durbin–Watson                                     Variables clés\n",
       "0  sarimax_best        SARIMAX (saisonnier ARIMAX)   365.483   386.993             NaN          1.217  cov12_lag, MNP_lag, work_lag, tmean_z, vacc_x_...\n",
       "1   res_sarimax        SARIMAX (saisonnier ARIMAX)   548.614   570.024             NaN          1.667  cov12_lag, MNP_lag, work_lag, post_covid, post...\n",
       "2       ols_opt          Régression linéaire (HC3)  1069.404  1094.290           0.968          1.960  cov12_lag, MNP_lag, work_lag, tmean_z, vacc_x_...\n",
       "3      its_best  Interrupted Time Series (OLS+HAC)  1267.925  1298.945           0.945          0.532  t, post_covid, t_post_covid, post_vacc, t_post...\n",
       "4        its_v2  Interrupted Time Series (OLS+HAC)  1267.925  1298.945           0.945          0.532  t, post_covid, t_post_covid, post_vacc, t_post...\n",
       "5      its_long  Interrupted Time Series (OLS+HAC)  1448.091  1466.186           0.639          0.196  t, post_covid, t_postcovid, post_vacc, t_postv...\n",
       "6           ols          Régression linéaire (HC3)  1473.016  1488.526           0.530          0.150         cov12_lag, MNP_lag, work_lag, sin52, cos52\n",
       "7           its  Interrupted Time Series (OLS+HAC)  1477.961  1488.300           0.496          0.092  t, sin52, cos52, post_covid, t_post_covid, pos..."
      ]
     },
     "metadata": {},
     "output_type": "display_data"
    },
    {
     "name": "stdout",
     "output_type": "stream",
     "text": [
      "📁 Exporté → ../outputs/RSV_results/recap_all_models.csv\n"
     ]
    }
   ],
   "source": [
    "# ============================================================\n",
    "# 📊 SYNTHÈSE GLOBALE DE TOUS LES MODÈLES TESTÉS (complète)\n",
    "# ============================================================\n",
    "import inspect\n",
    "\n",
    "def safe_val(obj, attr, default=np.nan):\n",
    "    \"\"\"Renvoie obj.attr si dispo, sinon valeur par défaut.\"\"\"\n",
    "    try:\n",
    "        val = getattr(obj, attr)\n",
    "        if callable(val):  # si c'est une méthode (ex: resid), on l'appelle pas\n",
    "            return default\n",
    "        return float(val)\n",
    "    except Exception:\n",
    "        return default\n",
    "\n",
    "def detect_vars(model):\n",
    "    \"\"\"Tente d'extraire les noms de variables utilisées par le modèle.\"\"\"\n",
    "    try:\n",
    "        if hasattr(model, \"model\") and hasattr(model.model, \"exog_names\"):\n",
    "            return \", \".join([v for v in model.model.exog_names if v != \"const\"])\n",
    "        elif hasattr(model, \"exog_names\"):\n",
    "            return \", \".join([v for v in model.exog_names if v != \"const\"])\n",
    "    except Exception:\n",
    "        return \"?\"\n",
    "    return \"?\"\n",
    "\n",
    "# --- Recherche automatique de modèles ---\n",
    "model_candidates = {k: v for k, v in globals().items() if any(\n",
    "    kw in k.lower() for kw in [\"ols\", \"its\", \"sarimax\"]) and hasattr(v, \"aic\")\n",
    "}\n",
    "\n",
    "summary_models = []\n",
    "\n",
    "for name, mod in model_candidates.items():\n",
    "    # tentative de R²\n",
    "    r2 = safe_val(mod, \"rsquared_adj\")\n",
    "    if np.isnan(r2):\n",
    "        # Pseudo-R² custom pour modèles sans r2\n",
    "        try:\n",
    "            y = mod.model.endog\n",
    "            y_fit = mod.fittedvalues\n",
    "            r2 = 1 - ((y - y_fit)**2).sum() / ((y - y.mean())**2).sum()\n",
    "        except Exception:\n",
    "            r2 = np.nan\n",
    "\n",
    "    # Durbin–Watson\n",
    "    try:\n",
    "        dw = sm.stats.stattools.durbin_watson(mod.resid)\n",
    "    except Exception:\n",
    "        dw = np.nan\n",
    "\n",
    "    # Type\n",
    "    if \"sarimax\" in name.lower():\n",
    "        mtype = \"SARIMAX (saisonnier ARIMAX)\"\n",
    "    elif \"its\" in name.lower():\n",
    "        mtype = \"Interrupted Time Series (OLS+HAC)\"\n",
    "    elif \"ols\" in name.lower():\n",
    "        mtype = \"Régression linéaire (HC3)\"\n",
    "    else:\n",
    "        mtype = \"Autre\"\n",
    "\n",
    "    summary_models.append({\n",
    "        \"Nom modèle\": name,\n",
    "        \"Type\": mtype,\n",
    "        \"AIC\": safe_val(mod, \"aic\"),\n",
    "        \"BIC\": safe_val(mod, \"bic\"),\n",
    "        \"R² adj./Pseudo\": r2,\n",
    "        \"Durbin–Watson\": dw,\n",
    "        \"Variables clés\": detect_vars(mod)\n",
    "    })\n",
    "\n",
    "recap_all = pd.DataFrame(summary_models)\n",
    "recap_all = recap_all.sort_values(\"AIC\").reset_index(drop=True)\n",
    "\n",
    "# --- Affichage général ---\n",
    "print(f\"✅ {len(recap_all)} modèles détectés et résumés\")\n",
    "display(recap_all.round(3))\n",
    "\n",
    "# --- Export optionnel ---\n",
    "OUTPUTS = Path(\"../outputs/RSV_results\")\n",
    "OUTPUTS.mkdir(parents=True, exist_ok=True)\n",
    "recap_path = OUTPUTS / \"recap_all_models.csv\"\n",
    "recap_all.to_csv(recap_path, index=False)\n",
    "print(f\"📁 Exporté → {recap_path}\")\n"
   ]
  },
  {
   "cell_type": "code",
   "execution_count": null,
   "id": "edada0e3",
   "metadata": {},
   "outputs": [
    {
     "name": "stdout",
     "output_type": "stream",
     "text": [
      "🚀 Simulation des scénarios contrefactuels sur les trois modèles...\n",
      "⚠️ Erreur simulation (SARIMAXResultsWrapper): Cannot convert input [             const  cov12_lag   MNP_lag   work_lag   tmean_z  vacc_x_mnp  post_covid  post_vacc  t_post_covid   t\n",
      "date_monday                                                                                                      \n",
      "2021-03-01     1.0   0.001203  0.612450 -21.747253 -1.042711    0.000737           1          1             0   0\n",
      "2021-03-08     1.0   0.002820 -0.068845 -25.065934 -1.100510   -0.000194           1          1             1   1\n",
      "2021-03-15     1.0   0.022080  1.880221 -25.615385 -1.299717    0.041515           1          1             2   2\n",
      "2021-03-22     1.0   0.098251  2.280871 -28.659341 -0.921926    0.224097           1          1             3   3\n",
      "2021-03-29     1.0   0.238294  0.044100 -25.956044 -0.240489    0.010509           1          1             4   4\n",
      "...            ...        ...       ...        ...       ...         ...         ...        ...           ...  ..\n",
      "2022-10-10     1.0  17.475112 -0.288630  -6.813187  0.332984   -5.043840           1          1            84  84\n",
      "2022-10-17     1.0  17.476555 -0.204684  -6.087912  0.691252   -3.577175           1          1            85  85\n",
      "2022-10-24     1.0  17.477670  0.356225  -4.549451  0.607601    6.225991           1          1            86  86\n",
      "2022-10-31     1.0  17.478740  0.694298  -3.208791 -0.291455   12.135446           1          1            87  87\n",
      "2022-11-07     1.0  17.479906  0.861426  -5.333333 -0.323247   15.057640           1          1            88  88\n",
      "\n",
      "[89 rows x 10 columns]] of type <class 'pandas.core.frame.DataFrame'> to Timestamp\n",
      "⚠️ Erreur simulation (SARIMAXResultsWrapper): Cannot convert input [             const  cov12_lag  MNP_lag   work_lag   tmean_z  vacc_x_mnp  post_covid  post_vacc  t_post_covid   t\n",
      "date_monday                                                                                                     \n",
      "2021-03-01     1.0          0        0 -21.747253 -1.042711    0.000737           0          0             0   0\n",
      "2021-03-08     1.0          0        0 -25.065934 -1.100510   -0.000194           0          0             0   1\n",
      "2021-03-15     1.0          0        0 -25.615385 -1.299717    0.041515           0          0             0   2\n",
      "2021-03-22     1.0          0        0 -28.659341 -0.921926    0.224097           0          0             0   3\n",
      "2021-03-29     1.0          0        0 -25.956044 -0.240489    0.010509           0          0             0   4\n",
      "...            ...        ...      ...        ...       ...         ...         ...        ...           ...  ..\n",
      "2022-10-10     1.0          0        0  -6.813187  0.332984   -5.043840           0          0             0  84\n",
      "2022-10-17     1.0          0        0  -6.087912  0.691252   -3.577175           0          0             0  85\n",
      "2022-10-24     1.0          0        0  -4.549451  0.607601    6.225991           0          0             0  86\n",
      "2022-10-31     1.0          0        0  -3.208791 -0.291455   12.135446           0          0             0  87\n",
      "2022-11-07     1.0          0        0  -5.333333 -0.323247   15.057640           0          0             0  88\n",
      "\n",
      "[89 rows x 10 columns]] of type <class 'pandas.core.frame.DataFrame'> to Timestamp\n",
      "⚠️ Erreur simulation (SARIMAXResultsWrapper): Cannot convert input [             const  cov12_lag  MNP_lag   work_lag   tmean_z  vacc_x_mnp  post_covid  post_vacc  t_post_covid   t\n",
      "date_monday                                                                                                     \n",
      "2021-03-01     1.0          0 -0.32984 -21.747253 -1.042711    0.000737           0          0             0   0\n",
      "2021-03-08     1.0          0 -0.32984 -25.065934 -1.100510   -0.000194           0          0             0   1\n",
      "2021-03-15     1.0          0 -0.32984 -25.615385 -1.299717    0.041515           0          0             0   2\n",
      "2021-03-22     1.0          0 -0.32984 -28.659341 -0.921926    0.224097           0          0             0   3\n",
      "2021-03-29     1.0          0 -0.32984 -25.956044 -0.240489    0.010509           0          0             0   4\n",
      "...            ...        ...      ...        ...       ...         ...         ...        ...           ...  ..\n",
      "2022-10-10     1.0          0 -0.32984  -6.813187  0.332984   -5.043840           0          0             0  84\n",
      "2022-10-17     1.0          0 -0.32984  -6.087912  0.691252   -3.577175           0          0             0  85\n",
      "2022-10-24     1.0          0 -0.32984  -4.549451  0.607601    6.225991           0          0             0  86\n",
      "2022-10-31     1.0          0 -0.32984  -3.208791 -0.291455   12.135446           0          0             0  87\n",
      "2022-11-07     1.0          0 -0.32984  -5.333333 -0.323247   15.057640           0          0             0  88\n",
      "\n",
      "[89 rows x 10 columns]] of type <class 'pandas.core.frame.DataFrame'> to Timestamp\n",
      "⚠️ Erreur simulation (SARIMAXResultsWrapper): Cannot convert input [             const  cov12_lag   MNP_lag   work_lag   tmean_z  vacc_x_mnp  post_covid  post_vacc  t_post_covid   t\n",
      "date_monday                                                                                                      \n",
      "2021-03-01     1.0          0  0.612450 -21.747253 -1.042711    0.000737           1          0             0   0\n",
      "2021-03-08     1.0          0 -0.068845 -25.065934 -1.100510   -0.000194           1          0             1   1\n",
      "2021-03-15     1.0          0  1.880221 -25.615385 -1.299717    0.041515           1          0             2   2\n",
      "2021-03-22     1.0          0  2.280871 -28.659341 -0.921926    0.224097           1          0             3   3\n",
      "2021-03-29     1.0          0  0.044100 -25.956044 -0.240489    0.010509           1          0             4   4\n",
      "...            ...        ...       ...        ...       ...         ...         ...        ...           ...  ..\n",
      "2022-10-10     1.0          0 -0.288630  -6.813187  0.332984   -5.043840           1          0            84  84\n",
      "2022-10-17     1.0          0 -0.204684  -6.087912  0.691252   -3.577175           1          0            85  85\n",
      "2022-10-24     1.0          0  0.356225  -4.549451  0.607601    6.225991           1          0            86  86\n",
      "2022-10-31     1.0          0  0.694298  -3.208791 -0.291455   12.135446           1          0            87  87\n",
      "2022-11-07     1.0          0  0.861426  -5.333333 -0.323247   15.057640           1          0            88  88\n",
      "\n",
      "[89 rows x 10 columns]] of type <class 'pandas.core.frame.DataFrame'> to Timestamp\n",
      "⚠️ Erreur simulation (SARIMAXResultsWrapper): Cannot convert input [             const  cov12_lag  MNP_lag   work_lag   tmean_z  vacc_x_mnp  post_covid  post_vacc  t_post_covid   t\n",
      "date_monday                                                                                                     \n",
      "2021-03-01     1.0          0 -0.32984 -21.747253 -1.042711    0.000737           1          0             0   0\n",
      "2021-03-08     1.0          0 -0.32984 -25.065934 -1.100510   -0.000194           1          0             1   1\n",
      "2021-03-15     1.0          0 -0.32984 -25.615385 -1.299717    0.041515           1          0             2   2\n",
      "2021-03-22     1.0          0 -0.32984 -28.659341 -0.921926    0.224097           1          0             3   3\n",
      "2021-03-29     1.0          0 -0.32984 -25.956044 -0.240489    0.010509           1          0             4   4\n",
      "...            ...        ...      ...        ...       ...         ...         ...        ...           ...  ..\n",
      "2022-10-10     1.0          0 -0.32984  -6.813187  0.332984   -5.043840           1          0            84  84\n",
      "2022-10-17     1.0          0 -0.32984  -6.087912  0.691252   -3.577175           1          0            85  85\n",
      "2022-10-24     1.0          0 -0.32984  -4.549451  0.607601    6.225991           1          0            86  86\n",
      "2022-10-31     1.0          0 -0.32984  -3.208791 -0.291455   12.135446           1          0            87  87\n",
      "2022-11-07     1.0          0 -0.32984  -5.333333 -0.323247   15.057640           1          0            88  88\n",
      "\n",
      "[89 rows x 10 columns]] of type <class 'pandas.core.frame.DataFrame'> to Timestamp\n",
      "✅ Simulation terminée. Aperçu :\n"
     ]
    },
    {
     "data": {
      "text/html": [
       "<div>\n",
       "<style scoped>\n",
       "    .dataframe tbody tr th:only-of-type {\n",
       "        vertical-align: middle;\n",
       "    }\n",
       "\n",
       "    .dataframe tbody tr th {\n",
       "        vertical-align: top;\n",
       "    }\n",
       "\n",
       "    .dataframe thead th {\n",
       "        text-align: right;\n",
       "    }\n",
       "</style>\n",
       "<table border=\"1\" class=\"dataframe\">\n",
       "  <thead>\n",
       "    <tr style=\"text-align: right;\">\n",
       "      <th></th>\n",
       "      <th>Modèle</th>\n",
       "      <th>Scénario</th>\n",
       "      <th>Δ RSV cumulé</th>\n",
       "      <th>Variation (%)</th>\n",
       "    </tr>\n",
       "  </thead>\n",
       "  <tbody>\n",
       "    <tr>\n",
       "      <th>9</th>\n",
       "      <td>ITS optimisé</td>\n",
       "      <td>COVID • KeepMNP • NoVaccine</td>\n",
       "      <td>24091.1</td>\n",
       "      <td>29.9</td>\n",
       "    </tr>\n",
       "    <tr>\n",
       "      <th>8</th>\n",
       "      <td>ITS optimisé</td>\n",
       "      <td>COVID • RealMNP • NoVaccine</td>\n",
       "      <td>23783.2</td>\n",
       "      <td>29.5</td>\n",
       "    </tr>\n",
       "    <tr>\n",
       "      <th>5</th>\n",
       "      <td>ITS optimisé</td>\n",
       "      <td>Observed</td>\n",
       "      <td>375.9</td>\n",
       "      <td>0.5</td>\n",
       "    </tr>\n",
       "    <tr>\n",
       "      <th>7</th>\n",
       "      <td>ITS optimisé</td>\n",
       "      <td>NoCOVID • KeepMNP • NoVaccine</td>\n",
       "      <td>-31414.3</td>\n",
       "      <td>-39.0</td>\n",
       "    </tr>\n",
       "    <tr>\n",
       "      <th>6</th>\n",
       "      <td>ITS optimisé</td>\n",
       "      <td>NoCOVID • NoMNP • NoVaccine</td>\n",
       "      <td>-32235.2</td>\n",
       "      <td>-40.0</td>\n",
       "    </tr>\n",
       "    <tr>\n",
       "      <th>1</th>\n",
       "      <td>OLS optimisé</td>\n",
       "      <td>NoCOVID • NoMNP • NoVaccine</td>\n",
       "      <td>2653.7</td>\n",
       "      <td>4.0</td>\n",
       "    </tr>\n",
       "    <tr>\n",
       "      <th>3</th>\n",
       "      <td>OLS optimisé</td>\n",
       "      <td>COVID • RealMNP • NoVaccine</td>\n",
       "      <td>1813.6</td>\n",
       "      <td>2.8</td>\n",
       "    </tr>\n",
       "    <tr>\n",
       "      <th>2</th>\n",
       "      <td>OLS optimisé</td>\n",
       "      <td>NoCOVID • KeepMNP • NoVaccine</td>\n",
       "      <td>1375.0</td>\n",
       "      <td>2.1</td>\n",
       "    </tr>\n",
       "    <tr>\n",
       "      <th>4</th>\n",
       "      <td>OLS optimisé</td>\n",
       "      <td>COVID • KeepMNP • NoVaccine</td>\n",
       "      <td>1375.0</td>\n",
       "      <td>2.1</td>\n",
       "    </tr>\n",
       "    <tr>\n",
       "      <th>0</th>\n",
       "      <td>OLS optimisé</td>\n",
       "      <td>Observed</td>\n",
       "      <td>-0.0</td>\n",
       "      <td>-0.0</td>\n",
       "    </tr>\n",
       "  </tbody>\n",
       "</table>\n",
       "</div>"
      ],
      "text/plain": [
       "         Modèle                       Scénario  Δ RSV cumulé  Variation (%)\n",
       "9  ITS optimisé    COVID • KeepMNP • NoVaccine       24091.1           29.9\n",
       "8  ITS optimisé    COVID • RealMNP • NoVaccine       23783.2           29.5\n",
       "5  ITS optimisé                       Observed         375.9            0.5\n",
       "7  ITS optimisé  NoCOVID • KeepMNP • NoVaccine      -31414.3          -39.0\n",
       "6  ITS optimisé    NoCOVID • NoMNP • NoVaccine      -32235.2          -40.0\n",
       "1  OLS optimisé    NoCOVID • NoMNP • NoVaccine        2653.7            4.0\n",
       "3  OLS optimisé    COVID • RealMNP • NoVaccine        1813.6            2.8\n",
       "2  OLS optimisé  NoCOVID • KeepMNP • NoVaccine        1375.0            2.1\n",
       "4  OLS optimisé    COVID • KeepMNP • NoVaccine        1375.0            2.1\n",
       "0  OLS optimisé                       Observed          -0.0           -0.0"
      ]
     },
     "metadata": {},
     "output_type": "display_data"
    },
    {
     "data": {
      "application/vnd.plotly.v1+json": {
       "config": {
        "plotlyServerURL": "https://plot.ly"
       },
       "data": [
        {
         "alignmentgroup": "True",
         "hovertemplate": "Modèle=ITS optimisé<br>Scénario=%{x}<br>Variation (%)=%{text}<extra></extra>",
         "legendgroup": "ITS optimisé",
         "marker": {
          "color": "rgb(102,194,165)",
          "pattern": {
           "shape": ""
          }
         },
         "name": "ITS optimisé",
         "offsetgroup": "ITS optimisé",
         "orientation": "v",
         "showlegend": true,
         "text": {
          "bdata": "ZmZmZmbmPUAAAAAAAIA9QAAAAAAAAOA/AAAAAACAQ8AAAAAAAABEwA==",
          "dtype": "f8"
         },
         "textposition": "outside",
         "texttemplate": "%{text}%",
         "type": "bar",
         "x": [
          "COVID • KeepMNP • NoVaccine",
          "COVID • RealMNP • NoVaccine",
          "Observed",
          "NoCOVID • KeepMNP • NoVaccine",
          "NoCOVID • NoMNP • NoVaccine"
         ],
         "xaxis": "x",
         "y": {
          "bdata": "ZmZmZmbmPUAAAAAAAIA9QAAAAAAAAOA/AAAAAACAQ8AAAAAAAABEwA==",
          "dtype": "f8"
         },
         "yaxis": "y"
        },
        {
         "alignmentgroup": "True",
         "hovertemplate": "Modèle=OLS optimisé<br>Scénario=%{x}<br>Variation (%)=%{text}<extra></extra>",
         "legendgroup": "OLS optimisé",
         "marker": {
          "color": "rgb(252,141,98)",
          "pattern": {
           "shape": ""
          }
         },
         "name": "OLS optimisé",
         "offsetgroup": "OLS optimisé",
         "orientation": "v",
         "showlegend": true,
         "text": {
          "bdata": "AAAAAAAAEEBmZmZmZmYGQM3MzMzMzABAzczMzMzMAEAAAAAAAAAAgA==",
          "dtype": "f8"
         },
         "textposition": "outside",
         "texttemplate": "%{text}%",
         "type": "bar",
         "x": [
          "NoCOVID • NoMNP • NoVaccine",
          "COVID • RealMNP • NoVaccine",
          "NoCOVID • KeepMNP • NoVaccine",
          "COVID • KeepMNP • NoVaccine",
          "Observed"
         ],
         "xaxis": "x",
         "y": {
          "bdata": "AAAAAAAAEEBmZmZmZmYGQM3MzMzMzABAzczMzMzMAEAAAAAAAAAAgA==",
          "dtype": "f8"
         },
         "yaxis": "y"
        },
        {
         "alignmentgroup": "True",
         "hovertemplate": "Modèle=SARIMAX optimisé<br>Scénario=%{x}<br>Variation (%)=%{text}<extra></extra>",
         "legendgroup": "SARIMAX optimisé",
         "marker": {
          "color": "rgb(141,160,203)",
          "pattern": {
           "shape": ""
          }
         },
         "name": "SARIMAX optimisé",
         "offsetgroup": "SARIMAX optimisé",
         "orientation": "v",
         "showlegend": true,
         "text": {
          "bdata": "AAAAAAAAWcAAAAAAAABZwAAAAAAAAFnAAAAAAAAAWcAAAAAAAABZwA==",
          "dtype": "f8"
         },
         "textposition": "outside",
         "texttemplate": "%{text}%",
         "type": "bar",
         "x": [
          "Observed",
          "NoCOVID • NoMNP • NoVaccine",
          "NoCOVID • KeepMNP • NoVaccine",
          "COVID • RealMNP • NoVaccine",
          "COVID • KeepMNP • NoVaccine"
         ],
         "xaxis": "x",
         "y": {
          "bdata": "AAAAAAAAWcAAAAAAAABZwAAAAAAAAFnAAAAAAAAAWcAAAAAAAABZwA==",
          "dtype": "f8"
         },
         "yaxis": "y"
        }
       ],
       "layout": {
        "barmode": "group",
        "height": 600,
        "legend": {
         "orientation": "h",
         "title": {
          "text": "Modèle"
         },
         "tracegroupgap": 0,
         "x": 0,
         "y": -0.25
        },
        "template": {
         "data": {
          "bar": [
           {
            "error_x": {
             "color": "#2a3f5f"
            },
            "error_y": {
             "color": "#2a3f5f"
            },
            "marker": {
             "line": {
              "color": "white",
              "width": 0.5
             },
             "pattern": {
              "fillmode": "overlay",
              "size": 10,
              "solidity": 0.2
             }
            },
            "type": "bar"
           }
          ],
          "barpolar": [
           {
            "marker": {
             "line": {
              "color": "white",
              "width": 0.5
             },
             "pattern": {
              "fillmode": "overlay",
              "size": 10,
              "solidity": 0.2
             }
            },
            "type": "barpolar"
           }
          ],
          "carpet": [
           {
            "aaxis": {
             "endlinecolor": "#2a3f5f",
             "gridcolor": "#C8D4E3",
             "linecolor": "#C8D4E3",
             "minorgridcolor": "#C8D4E3",
             "startlinecolor": "#2a3f5f"
            },
            "baxis": {
             "endlinecolor": "#2a3f5f",
             "gridcolor": "#C8D4E3",
             "linecolor": "#C8D4E3",
             "minorgridcolor": "#C8D4E3",
             "startlinecolor": "#2a3f5f"
            },
            "type": "carpet"
           }
          ],
          "choropleth": [
           {
            "colorbar": {
             "outlinewidth": 0,
             "ticks": ""
            },
            "type": "choropleth"
           }
          ],
          "contour": [
           {
            "colorbar": {
             "outlinewidth": 0,
             "ticks": ""
            },
            "colorscale": [
             [
              0,
              "#0d0887"
             ],
             [
              0.1111111111111111,
              "#46039f"
             ],
             [
              0.2222222222222222,
              "#7201a8"
             ],
             [
              0.3333333333333333,
              "#9c179e"
             ],
             [
              0.4444444444444444,
              "#bd3786"
             ],
             [
              0.5555555555555556,
              "#d8576b"
             ],
             [
              0.6666666666666666,
              "#ed7953"
             ],
             [
              0.7777777777777778,
              "#fb9f3a"
             ],
             [
              0.8888888888888888,
              "#fdca26"
             ],
             [
              1,
              "#f0f921"
             ]
            ],
            "type": "contour"
           }
          ],
          "contourcarpet": [
           {
            "colorbar": {
             "outlinewidth": 0,
             "ticks": ""
            },
            "type": "contourcarpet"
           }
          ],
          "heatmap": [
           {
            "colorbar": {
             "outlinewidth": 0,
             "ticks": ""
            },
            "colorscale": [
             [
              0,
              "#0d0887"
             ],
             [
              0.1111111111111111,
              "#46039f"
             ],
             [
              0.2222222222222222,
              "#7201a8"
             ],
             [
              0.3333333333333333,
              "#9c179e"
             ],
             [
              0.4444444444444444,
              "#bd3786"
             ],
             [
              0.5555555555555556,
              "#d8576b"
             ],
             [
              0.6666666666666666,
              "#ed7953"
             ],
             [
              0.7777777777777778,
              "#fb9f3a"
             ],
             [
              0.8888888888888888,
              "#fdca26"
             ],
             [
              1,
              "#f0f921"
             ]
            ],
            "type": "heatmap"
           }
          ],
          "histogram": [
           {
            "marker": {
             "pattern": {
              "fillmode": "overlay",
              "size": 10,
              "solidity": 0.2
             }
            },
            "type": "histogram"
           }
          ],
          "histogram2d": [
           {
            "colorbar": {
             "outlinewidth": 0,
             "ticks": ""
            },
            "colorscale": [
             [
              0,
              "#0d0887"
             ],
             [
              0.1111111111111111,
              "#46039f"
             ],
             [
              0.2222222222222222,
              "#7201a8"
             ],
             [
              0.3333333333333333,
              "#9c179e"
             ],
             [
              0.4444444444444444,
              "#bd3786"
             ],
             [
              0.5555555555555556,
              "#d8576b"
             ],
             [
              0.6666666666666666,
              "#ed7953"
             ],
             [
              0.7777777777777778,
              "#fb9f3a"
             ],
             [
              0.8888888888888888,
              "#fdca26"
             ],
             [
              1,
              "#f0f921"
             ]
            ],
            "type": "histogram2d"
           }
          ],
          "histogram2dcontour": [
           {
            "colorbar": {
             "outlinewidth": 0,
             "ticks": ""
            },
            "colorscale": [
             [
              0,
              "#0d0887"
             ],
             [
              0.1111111111111111,
              "#46039f"
             ],
             [
              0.2222222222222222,
              "#7201a8"
             ],
             [
              0.3333333333333333,
              "#9c179e"
             ],
             [
              0.4444444444444444,
              "#bd3786"
             ],
             [
              0.5555555555555556,
              "#d8576b"
             ],
             [
              0.6666666666666666,
              "#ed7953"
             ],
             [
              0.7777777777777778,
              "#fb9f3a"
             ],
             [
              0.8888888888888888,
              "#fdca26"
             ],
             [
              1,
              "#f0f921"
             ]
            ],
            "type": "histogram2dcontour"
           }
          ],
          "mesh3d": [
           {
            "colorbar": {
             "outlinewidth": 0,
             "ticks": ""
            },
            "type": "mesh3d"
           }
          ],
          "parcoords": [
           {
            "line": {
             "colorbar": {
              "outlinewidth": 0,
              "ticks": ""
             }
            },
            "type": "parcoords"
           }
          ],
          "pie": [
           {
            "automargin": true,
            "type": "pie"
           }
          ],
          "scatter": [
           {
            "fillpattern": {
             "fillmode": "overlay",
             "size": 10,
             "solidity": 0.2
            },
            "type": "scatter"
           }
          ],
          "scatter3d": [
           {
            "line": {
             "colorbar": {
              "outlinewidth": 0,
              "ticks": ""
             }
            },
            "marker": {
             "colorbar": {
              "outlinewidth": 0,
              "ticks": ""
             }
            },
            "type": "scatter3d"
           }
          ],
          "scattercarpet": [
           {
            "marker": {
             "colorbar": {
              "outlinewidth": 0,
              "ticks": ""
             }
            },
            "type": "scattercarpet"
           }
          ],
          "scattergeo": [
           {
            "marker": {
             "colorbar": {
              "outlinewidth": 0,
              "ticks": ""
             }
            },
            "type": "scattergeo"
           }
          ],
          "scattergl": [
           {
            "marker": {
             "colorbar": {
              "outlinewidth": 0,
              "ticks": ""
             }
            },
            "type": "scattergl"
           }
          ],
          "scattermap": [
           {
            "marker": {
             "colorbar": {
              "outlinewidth": 0,
              "ticks": ""
             }
            },
            "type": "scattermap"
           }
          ],
          "scattermapbox": [
           {
            "marker": {
             "colorbar": {
              "outlinewidth": 0,
              "ticks": ""
             }
            },
            "type": "scattermapbox"
           }
          ],
          "scatterpolar": [
           {
            "marker": {
             "colorbar": {
              "outlinewidth": 0,
              "ticks": ""
             }
            },
            "type": "scatterpolar"
           }
          ],
          "scatterpolargl": [
           {
            "marker": {
             "colorbar": {
              "outlinewidth": 0,
              "ticks": ""
             }
            },
            "type": "scatterpolargl"
           }
          ],
          "scatterternary": [
           {
            "marker": {
             "colorbar": {
              "outlinewidth": 0,
              "ticks": ""
             }
            },
            "type": "scatterternary"
           }
          ],
          "surface": [
           {
            "colorbar": {
             "outlinewidth": 0,
             "ticks": ""
            },
            "colorscale": [
             [
              0,
              "#0d0887"
             ],
             [
              0.1111111111111111,
              "#46039f"
             ],
             [
              0.2222222222222222,
              "#7201a8"
             ],
             [
              0.3333333333333333,
              "#9c179e"
             ],
             [
              0.4444444444444444,
              "#bd3786"
             ],
             [
              0.5555555555555556,
              "#d8576b"
             ],
             [
              0.6666666666666666,
              "#ed7953"
             ],
             [
              0.7777777777777778,
              "#fb9f3a"
             ],
             [
              0.8888888888888888,
              "#fdca26"
             ],
             [
              1,
              "#f0f921"
             ]
            ],
            "type": "surface"
           }
          ],
          "table": [
           {
            "cells": {
             "fill": {
              "color": "#EBF0F8"
             },
             "line": {
              "color": "white"
             }
            },
            "header": {
             "fill": {
              "color": "#C8D4E3"
             },
             "line": {
              "color": "white"
             }
            },
            "type": "table"
           }
          ]
         },
         "layout": {
          "annotationdefaults": {
           "arrowcolor": "#2a3f5f",
           "arrowhead": 0,
           "arrowwidth": 1
          },
          "autotypenumbers": "strict",
          "coloraxis": {
           "colorbar": {
            "outlinewidth": 0,
            "ticks": ""
           }
          },
          "colorscale": {
           "diverging": [
            [
             0,
             "#8e0152"
            ],
            [
             0.1,
             "#c51b7d"
            ],
            [
             0.2,
             "#de77ae"
            ],
            [
             0.3,
             "#f1b6da"
            ],
            [
             0.4,
             "#fde0ef"
            ],
            [
             0.5,
             "#f7f7f7"
            ],
            [
             0.6,
             "#e6f5d0"
            ],
            [
             0.7,
             "#b8e186"
            ],
            [
             0.8,
             "#7fbc41"
            ],
            [
             0.9,
             "#4d9221"
            ],
            [
             1,
             "#276419"
            ]
           ],
           "sequential": [
            [
             0,
             "#0d0887"
            ],
            [
             0.1111111111111111,
             "#46039f"
            ],
            [
             0.2222222222222222,
             "#7201a8"
            ],
            [
             0.3333333333333333,
             "#9c179e"
            ],
            [
             0.4444444444444444,
             "#bd3786"
            ],
            [
             0.5555555555555556,
             "#d8576b"
            ],
            [
             0.6666666666666666,
             "#ed7953"
            ],
            [
             0.7777777777777778,
             "#fb9f3a"
            ],
            [
             0.8888888888888888,
             "#fdca26"
            ],
            [
             1,
             "#f0f921"
            ]
           ],
           "sequentialminus": [
            [
             0,
             "#0d0887"
            ],
            [
             0.1111111111111111,
             "#46039f"
            ],
            [
             0.2222222222222222,
             "#7201a8"
            ],
            [
             0.3333333333333333,
             "#9c179e"
            ],
            [
             0.4444444444444444,
             "#bd3786"
            ],
            [
             0.5555555555555556,
             "#d8576b"
            ],
            [
             0.6666666666666666,
             "#ed7953"
            ],
            [
             0.7777777777777778,
             "#fb9f3a"
            ],
            [
             0.8888888888888888,
             "#fdca26"
            ],
            [
             1,
             "#f0f921"
            ]
           ]
          },
          "colorway": [
           "#636efa",
           "#EF553B",
           "#00cc96",
           "#ab63fa",
           "#FFA15A",
           "#19d3f3",
           "#FF6692",
           "#B6E880",
           "#FF97FF",
           "#FECB52"
          ],
          "font": {
           "color": "#2a3f5f"
          },
          "geo": {
           "bgcolor": "white",
           "lakecolor": "white",
           "landcolor": "white",
           "showlakes": true,
           "showland": true,
           "subunitcolor": "#C8D4E3"
          },
          "hoverlabel": {
           "align": "left"
          },
          "hovermode": "closest",
          "mapbox": {
           "style": "light"
          },
          "paper_bgcolor": "white",
          "plot_bgcolor": "white",
          "polar": {
           "angularaxis": {
            "gridcolor": "#EBF0F8",
            "linecolor": "#EBF0F8",
            "ticks": ""
           },
           "bgcolor": "white",
           "radialaxis": {
            "gridcolor": "#EBF0F8",
            "linecolor": "#EBF0F8",
            "ticks": ""
           }
          },
          "scene": {
           "xaxis": {
            "backgroundcolor": "white",
            "gridcolor": "#DFE8F3",
            "gridwidth": 2,
            "linecolor": "#EBF0F8",
            "showbackground": true,
            "ticks": "",
            "zerolinecolor": "#EBF0F8"
           },
           "yaxis": {
            "backgroundcolor": "white",
            "gridcolor": "#DFE8F3",
            "gridwidth": 2,
            "linecolor": "#EBF0F8",
            "showbackground": true,
            "ticks": "",
            "zerolinecolor": "#EBF0F8"
           },
           "zaxis": {
            "backgroundcolor": "white",
            "gridcolor": "#DFE8F3",
            "gridwidth": 2,
            "linecolor": "#EBF0F8",
            "showbackground": true,
            "ticks": "",
            "zerolinecolor": "#EBF0F8"
           }
          },
          "shapedefaults": {
           "line": {
            "color": "#2a3f5f"
           }
          },
          "ternary": {
           "aaxis": {
            "gridcolor": "#DFE8F3",
            "linecolor": "#A2B1C6",
            "ticks": ""
           },
           "baxis": {
            "gridcolor": "#DFE8F3",
            "linecolor": "#A2B1C6",
            "ticks": ""
           },
           "bgcolor": "white",
           "caxis": {
            "gridcolor": "#DFE8F3",
            "linecolor": "#A2B1C6",
            "ticks": ""
           }
          },
          "title": {
           "x": 0.05
          },
          "xaxis": {
           "automargin": true,
           "gridcolor": "#EBF0F8",
           "linecolor": "#EBF0F8",
           "ticks": "",
           "title": {
            "standoff": 15
           },
           "zerolinecolor": "#EBF0F8",
           "zerolinewidth": 2
          },
          "yaxis": {
           "automargin": true,
           "gridcolor": "#EBF0F8",
           "linecolor": "#EBF0F8",
           "ticks": "",
           "title": {
            "standoff": 15
           },
           "zerolinecolor": "#EBF0F8",
           "zerolinewidth": 2
          }
         }
        },
        "title": {
         "text": "📊 Δ RSV cumulé (%) par scénario et par modèle optimisé"
        },
        "width": 1100,
        "xaxis": {
         "anchor": "y",
         "domain": [
          0,
          1
         ],
         "tickangle": -45,
         "title": {
          "text": "Scénario"
         }
        },
        "yaxis": {
         "anchor": "x",
         "domain": [
          0,
          1
         ],
         "title": {
          "text": "Variation (%)"
         }
        }
       }
      }
     },
     "metadata": {},
     "output_type": "display_data"
    },
    {
     "name": "stdout",
     "output_type": "stream",
     "text": [
      "💾 Résultats exportés vers ../outputs/RSV_results/scenarios_multimodel.csv\n"
     ]
    }
   ],
   "source": [
    "# ============================================================\n",
    "# 🧮 Scénarios contrefactuels multi-modèles (OLS / ITS / SARIMAX)\n",
    "# ============================================================\n",
    "import numpy as np\n",
    "import pandas as pd\n",
    "import plotly.express as px\n",
    "import statsmodels.api as sm\n",
    "\n",
    "print(\"🚀 Simulation des scénarios contrefactuels sur les trois modèles...\")\n",
    "\n",
    "# --- 1️⃣ Base commune : df_base (pour OLS), df_plot (ITS), df_sx (SARIMAX)\n",
    "bases = {\n",
    "    \"OLS optimisé\": df_opt.copy(),\n",
    "    \"ITS optimisé\": df_plot.copy().set_index(\"date_monday\"),\n",
    "    \"SARIMAX optimisé\": df_sx.copy()\n",
    "}\n",
    "\n",
    "# --- 2️⃣ Liste des scénarios à simuler\n",
    "scenarios_def = {\n",
    "    \"Observed\": {\"covid\": True, \"mnp\": \"real\", \"vacc\": True},\n",
    "    \"NoCOVID • NoMNP • NoVaccine\": {\"covid\": False, \"mnp\": \"none\", \"vacc\": False},\n",
    "    \"NoCOVID • KeepMNP • NoVaccine\": {\"covid\": False, \"mnp\": \"maintained\", \"vacc\": False},\n",
    "    \"COVID • RealMNP • NoVaccine\": {\"covid\": True, \"mnp\": \"real\", \"vacc\": False},\n",
    "    \"COVID • KeepMNP • NoVaccine\": {\"covid\": True, \"mnp\": \"maintained\", \"vacc\": False},\n",
    "}\n",
    "\n",
    "# --- 3️⃣ Fonction de simulation harmonisée\n",
    "def simulate_generic(model, df, covid=True, mnp=\"real\", vacc=True):\n",
    "    df_sim = df.copy()\n",
    "    \n",
    "    # Sécurité : identifie les colonnes communes\n",
    "    cols = [c.lower() for c in df.columns]\n",
    "    if \"post_covid\" in cols:\n",
    "        df_sim[\"post_covid\"] = int(covid)\n",
    "        if \"t_post_covid\" in cols:\n",
    "            df_sim[\"t_post_covid\"] = df_sim[\"t\"] * df_sim[\"post_covid\"]\n",
    "    if \"post_vacc\" in cols:\n",
    "        df_sim[\"post_vacc\"] = int(vacc)\n",
    "        if \"t_post_vacc\" in cols:\n",
    "            df_sim[\"t_post_vacc\"] = df_sim[\"t\"] * df_sim[\"post_vacc\"]\n",
    "\n",
    "    # MNP\n",
    "    if \"MNP_lag\" in df_sim.columns:\n",
    "        if mnp == \"none\":\n",
    "            df_sim[\"MNP_lag\"] = 0\n",
    "        elif mnp == \"maintained\":\n",
    "            df_sim[\"MNP_lag\"] = df_sim[\"MNP_lag\"].median()\n",
    "    \n",
    "    # Vaccination\n",
    "    if not vacc and \"cov12_lag\" in df_sim.columns:\n",
    "        df_sim[\"cov12_lag\"] = 0\n",
    "    \n",
    "    # COVID\n",
    "    if not covid and \"post_covid\" in df_sim.columns:\n",
    "        df_sim[\"post_covid\"] = 0\n",
    "        if \"t_post_covid\" in df_sim.columns:\n",
    "            df_sim[\"t_post_covid\"] = 0\n",
    "    \n",
    "    # Calcul de la prédiction selon le type de modèle\n",
    "    try:\n",
    "        if hasattr(model, \"predict\"):\n",
    "            # statsmodels compatible (OLS, ITS, SARIMAX)\n",
    "            Xcols = [c for c in model.model.exog_names if c != \"const\"]\n",
    "            X_sim = sm.add_constant(df_sim[Xcols], has_constant=\"add\")\n",
    "            y_pred = model.predict(X_sim)\n",
    "        else:\n",
    "            y_pred = np.zeros(len(df_sim))\n",
    "    except Exception as e:\n",
    "        print(f\"⚠️ Erreur simulation ({type(model).__name__}): {e}\")\n",
    "        y_pred = np.full(len(df_sim), np.nan)\n",
    "    \n",
    "    return pd.Series(y_pred, index=df_sim.index)\n",
    "\n",
    "# --- 4️⃣ Exécution des scénarios pour chaque modèle\n",
    "results = []\n",
    "for model_name, model in [(\"OLS optimisé\", ols_opt), (\"ITS optimisé\", its_best), (\"SARIMAX optimisé\", sarimax_best)]:\n",
    "    df_ref = bases[model_name]\n",
    "    observed = df_ref[\"RSV\"] if \"RSV\" in df_ref.columns else df_ref[\"RSV\"].iloc[:len(model.fittedvalues)]\n",
    "    obs_sum = observed.sum()\n",
    "    \n",
    "    for scen_name, opts in scenarios_def.items():\n",
    "        pred = simulate_generic(model, df_ref, **opts)\n",
    "        delta = pred.sum() - obs_sum\n",
    "        pct = (delta / obs_sum) * 100\n",
    "        results.append({\n",
    "            \"Modèle\": model_name,\n",
    "            \"Scénario\": scen_name,\n",
    "            \"Δ RSV cumulé\": round(delta, 1),\n",
    "            \"Variation (%)\": round(pct, 1)\n",
    "        })\n",
    "\n",
    "# --- 5️⃣ Compilation des résultats\n",
    "df_scenarios = pd.DataFrame(results)\n",
    "df_scenarios = df_scenarios.sort_values([\"Modèle\", \"Variation (%)\"], ascending=[True, False])\n",
    "print(\"✅ Simulation terminée. Aperçu :\")\n",
    "display(df_scenarios.head(10))\n",
    "\n",
    "# --- 6️⃣ Visualisation comparative Plotly\n",
    "fig = px.bar(\n",
    "    df_scenarios,\n",
    "    x=\"Scénario\", y=\"Variation (%)\",\n",
    "    color=\"Modèle\",\n",
    "    barmode=\"group\",\n",
    "    title=\"📊 Δ RSV cumulé (%) par scénario et par modèle optimisé\",\n",
    "    text=\"Variation (%)\",\n",
    "    color_discrete_sequence=px.colors.qualitative.Set2\n",
    ")\n",
    "fig.update_traces(texttemplate=\"%{text}%\", textposition=\"outside\")\n",
    "fig.update_layout(\n",
    "    xaxis_tickangle=-45,\n",
    "    width=1100, height=600,\n",
    "    template=\"plotly_white\",\n",
    "    legend=dict(orientation=\"h\", y=-0.25, x=0)\n",
    ")\n",
    "fig.show()\n",
    "\n",
    "# --- 7️⃣ Export CSV\n",
    "out_path = Path(\"../outputs/RSV_results/scenarios_multimodel.csv\")\n",
    "df_scenarios.to_csv(out_path, index=False)\n",
    "print(f\"💾 Résultats exportés vers {out_path}\")\n"
   ]
  },
  {
   "cell_type": "code",
   "execution_count": null,
   "id": "2bbe7f53",
   "metadata": {},
   "outputs": [
    {
     "ename": "KeyboardInterrupt",
     "evalue": "",
     "output_type": "error",
     "traceback": [
      "\u001b[0;31m---------------------------------------------------------------------------\u001b[0m",
      "\u001b[0;31mKeyboardInterrupt\u001b[0m                         Traceback (most recent call last)",
      "Cell \u001b[0;32mIn[1], line 4\u001b[0m\n\u001b[1;32m      1\u001b[0m \u001b[38;5;66;03m# ==========================================\u001b[39;00m\n\u001b[1;32m      2\u001b[0m \u001b[38;5;66;03m# 🧾 Synthèse comparative des six modèles (OLS / ITS / SARIMAX)\u001b[39;00m\n\u001b[1;32m      3\u001b[0m \u001b[38;5;66;03m# ==========================================\u001b[39;00m\n\u001b[0;32m----> 4\u001b[0m \u001b[38;5;28;01mimport\u001b[39;00m\u001b[38;5;250m \u001b[39m\u001b[38;5;21;01mnumpy\u001b[39;00m\u001b[38;5;250m \u001b[39m\u001b[38;5;28;01mas\u001b[39;00m\u001b[38;5;250m \u001b[39m\u001b[38;5;21;01mnp\u001b[39;00m\n\u001b[1;32m      5\u001b[0m \u001b[38;5;28;01mimport\u001b[39;00m\u001b[38;5;250m \u001b[39m\u001b[38;5;21;01mpandas\u001b[39;00m\u001b[38;5;250m \u001b[39m\u001b[38;5;28;01mas\u001b[39;00m\u001b[38;5;250m \u001b[39m\u001b[38;5;21;01mpd\u001b[39;00m\n\u001b[1;32m      6\u001b[0m \u001b[38;5;28;01mimport\u001b[39;00m\u001b[38;5;250m \u001b[39m\u001b[38;5;21;01mstatsmodels\u001b[39;00m\u001b[38;5;21;01m.\u001b[39;00m\u001b[38;5;21;01mapi\u001b[39;00m\u001b[38;5;250m \u001b[39m\u001b[38;5;28;01mas\u001b[39;00m\u001b[38;5;250m \u001b[39m\u001b[38;5;21;01msm\u001b[39;00m\n",
      "File \u001b[0;32m/opt/anaconda3/envs/these2025/lib/python3.12/site-packages/numpy/__init__.py:112\u001b[0m\n\u001b[1;32m    109\u001b[0m \u001b[38;5;28;01mfrom\u001b[39;00m\u001b[38;5;250m \u001b[39m\u001b[38;5;21;01m.\u001b[39;00m\u001b[38;5;250m \u001b[39m\u001b[38;5;28;01mimport\u001b[39;00m _distributor_init\n\u001b[1;32m    111\u001b[0m \u001b[38;5;28;01mtry\u001b[39;00m:\n\u001b[0;32m--> 112\u001b[0m     \u001b[38;5;28;01mfrom\u001b[39;00m\u001b[38;5;250m \u001b[39m\u001b[38;5;21;01mnumpy\u001b[39;00m\u001b[38;5;21;01m.\u001b[39;00m\u001b[38;5;21;01m__config__\u001b[39;00m\u001b[38;5;250m \u001b[39m\u001b[38;5;28;01mimport\u001b[39;00m show_config\n\u001b[1;32m    113\u001b[0m \u001b[38;5;28;01mexcept\u001b[39;00m \u001b[38;5;167;01mImportError\u001b[39;00m \u001b[38;5;28;01mas\u001b[39;00m e:\n\u001b[1;32m    114\u001b[0m     msg \u001b[38;5;241m=\u001b[39m \u001b[38;5;124m\"\"\"\u001b[39m\u001b[38;5;124mError importing numpy: you should not try to import numpy from\u001b[39m\n\u001b[1;32m    115\u001b[0m \u001b[38;5;124m    its source directory; please exit the numpy source tree, and relaunch\u001b[39m\n\u001b[1;32m    116\u001b[0m \u001b[38;5;124m    your python interpreter from there.\u001b[39m\u001b[38;5;124m\"\"\"\u001b[39m\n",
      "File \u001b[0;32m/opt/anaconda3/envs/these2025/lib/python3.12/site-packages/numpy/__config__.py:4\u001b[0m\n\u001b[1;32m      1\u001b[0m \u001b[38;5;66;03m# This file is generated by numpy's build process\u001b[39;00m\n\u001b[1;32m      2\u001b[0m \u001b[38;5;66;03m# It contains system_info results at the time of building this package.\u001b[39;00m\n\u001b[1;32m      3\u001b[0m \u001b[38;5;28;01mfrom\u001b[39;00m\u001b[38;5;250m \u001b[39m\u001b[38;5;21;01menum\u001b[39;00m\u001b[38;5;250m \u001b[39m\u001b[38;5;28;01mimport\u001b[39;00m Enum\n\u001b[0;32m----> 4\u001b[0m \u001b[38;5;28;01mfrom\u001b[39;00m\u001b[38;5;250m \u001b[39m\u001b[38;5;21;01mnumpy\u001b[39;00m\u001b[38;5;21;01m.\u001b[39;00m\u001b[38;5;21;01m_core\u001b[39;00m\u001b[38;5;21;01m.\u001b[39;00m\u001b[38;5;21;01m_multiarray_umath\u001b[39;00m\u001b[38;5;250m \u001b[39m\u001b[38;5;28;01mimport\u001b[39;00m (\n\u001b[1;32m      5\u001b[0m     __cpu_features__,\n\u001b[1;32m      6\u001b[0m     __cpu_baseline__,\n\u001b[1;32m      7\u001b[0m     __cpu_dispatch__,\n\u001b[1;32m      8\u001b[0m )\n\u001b[1;32m     10\u001b[0m __all__ \u001b[38;5;241m=\u001b[39m [\u001b[38;5;124m\"\u001b[39m\u001b[38;5;124mshow_config\u001b[39m\u001b[38;5;124m\"\u001b[39m]\n\u001b[1;32m     11\u001b[0m _built_with_meson \u001b[38;5;241m=\u001b[39m \u001b[38;5;28;01mTrue\u001b[39;00m\n",
      "File \u001b[0;32m/opt/anaconda3/envs/these2025/lib/python3.12/site-packages/numpy/_core/__init__.py:22\u001b[0m\n\u001b[1;32m     19\u001b[0m         env_added\u001b[38;5;241m.\u001b[39mappend(envkey)\n\u001b[1;32m     21\u001b[0m \u001b[38;5;28;01mtry\u001b[39;00m:\n\u001b[0;32m---> 22\u001b[0m     \u001b[38;5;28;01mfrom\u001b[39;00m\u001b[38;5;250m \u001b[39m\u001b[38;5;21;01m.\u001b[39;00m\u001b[38;5;250m \u001b[39m\u001b[38;5;28;01mimport\u001b[39;00m multiarray\n\u001b[1;32m     23\u001b[0m \u001b[38;5;28;01mexcept\u001b[39;00m \u001b[38;5;167;01mImportError\u001b[39;00m \u001b[38;5;28;01mas\u001b[39;00m exc:\n\u001b[1;32m     24\u001b[0m     \u001b[38;5;28;01mimport\u001b[39;00m\u001b[38;5;250m \u001b[39m\u001b[38;5;21;01msys\u001b[39;00m\n",
      "File \u001b[0;32m<frozen importlib._bootstrap>:1360\u001b[0m, in \u001b[0;36m_find_and_load\u001b[0;34m(name, import_)\u001b[0m\n",
      "File \u001b[0;32m<frozen importlib._bootstrap>:1331\u001b[0m, in \u001b[0;36m_find_and_load_unlocked\u001b[0;34m(name, import_)\u001b[0m\n",
      "File \u001b[0;32m<frozen importlib._bootstrap>:935\u001b[0m, in \u001b[0;36m_load_unlocked\u001b[0;34m(spec)\u001b[0m\n",
      "File \u001b[0;32m<frozen importlib._bootstrap_external>:995\u001b[0m, in \u001b[0;36mexec_module\u001b[0;34m(self, module)\u001b[0m\n",
      "File \u001b[0;32m<frozen importlib._bootstrap_external>:1091\u001b[0m, in \u001b[0;36mget_code\u001b[0;34m(self, fullname)\u001b[0m\n",
      "File \u001b[0;32m<frozen importlib._bootstrap_external>:1190\u001b[0m, in \u001b[0;36mget_data\u001b[0;34m(self, path)\u001b[0m\n",
      "\u001b[0;31mKeyboardInterrupt\u001b[0m: "
     ]
    }
   ],
   "source": [
    "# ==========================================\n",
    "# 🧾 Synthèse comparative des six modèles (OLS / ITS / SARIMAX)\n",
    "# ==========================================\n",
    "import numpy as np\n",
    "import pandas as pd\n",
    "import statsmodels.api as sm\n",
    "\n",
    "def safe_val(obj, attr, default=np.nan):\n",
    "    \"\"\"Retourne obj.attr s’il existe et n’est pas une méthode.\"\"\"\n",
    "    try:\n",
    "        val = getattr(obj, attr)\n",
    "        if callable(val):\n",
    "            return default\n",
    "        return float(val)\n",
    "    except Exception:\n",
    "        return default\n",
    "\n",
    "def safe_dw(model):\n",
    "    try:\n",
    "        return sm.stats.stattools.durbin_watson(model.resid)\n",
    "    except Exception:\n",
    "        return np.nan\n",
    "\n",
    "def safe_r2(model):\n",
    "    \"\"\"R² ajusté pour OLS, pseudo-R² sinon.\"\"\"\n",
    "    try:\n",
    "        return model.rsquared_adj\n",
    "    except Exception:\n",
    "        try:\n",
    "            y = model.model.endog\n",
    "            y_fit = model.fittedvalues\n",
    "            return 1 - ((y - y_fit)**2).sum() / ((y - y.mean())**2).sum()\n",
    "        except Exception:\n",
    "            return np.nan\n",
    "\n",
    "def model_vars(model):\n",
    "    \"\"\"Liste les variables explicatives d’un modèle statsmodels.\"\"\"\n",
    "    try:\n",
    "        names = model.model.exog_names\n",
    "        return \", \".join([v for v in names if v != \"const\"])\n",
    "    except Exception:\n",
    "        return \"?\"\n",
    "\n",
    "# --- Liste des modèles à comparer ---\n",
    "model_dict = {\n",
    "    \"OLS (base)\": locals().get(\"ols\"),\n",
    "    \"OLS optimisé\": locals().get(\"ols_opt\"),\n",
    "    \"ITS (base)\": locals().get(\"its\"),\n",
    "    \"ITS optimisé\": locals().get(\"its_best\"),\n",
    "    \"SARIMAX (base)\": locals().get(\"sarimax_best\", None),  # peut être réutilisé si deux SARIMAX successifs\n",
    "    \"SARIMAX optimisé\": locals().get(\"sarimax_best\", None),\n",
    "}\n",
    "\n",
    "# --- Construction du tableau récapitulatif ---\n",
    "records = []\n",
    "for name, model in model_dict.items():\n",
    "    if model is None:\n",
    "        continue\n",
    "    records.append({\n",
    "        \"Modèle\": name,\n",
    "        \"Type\": (\n",
    "            \"Régression linéaire (OLS)\" if \"OLS\" in name\n",
    "            else \"Séries interrompues (ITS)\" if \"ITS\" in name\n",
    "            else \"SARIMAX (saisonnier ARIMAX)\"\n",
    "        ),\n",
    "        \"AIC\": safe_val(model, \"aic\"),\n",
    "        \"BIC\": safe_val(model, \"bic\"),\n",
    "        \"R² ajusté / Pseudo-R²\": round(safe_r2(model), 3),\n",
    "        \"Durbin–Watson\": round(safe_dw(model), 3),\n",
    "        \"Variables explicatives\": model_vars(model),\n",
    "    })\n",
    "\n",
    "df_models_summary = pd.DataFrame(records).sort_values(\"AIC\").reset_index(drop=True)\n",
    "print(\"✅ Tableau récapitulatif des 6 modèles\")\n",
    "display(df_models_summary.style.background_gradient(cmap=\"Blues\", subset=[\"AIC\", \"BIC\"]))\n",
    "\n",
    "# (Optionnel) Export CSV\n",
    "from pathlib import Path\n",
    "out_path = Path(\"../outputs/RSV_results/models_summary.csv\")\n",
    "out_path.parent.mkdir(parents=True, exist_ok=True)\n",
    "df_models_summary.to_csv(out_path, index=False)\n",
    "print(f\"💾 Résumé des modèles exporté → {out_path}\")"
   ]
  },
  {
   "cell_type": "code",
   "execution_count": null,
   "id": "762748c0",
   "metadata": {},
   "outputs": [],
   "source": []
  }
 ],
 "metadata": {
  "kernelspec": {
   "display_name": "these2025",
   "language": "python",
   "name": "python3"
  },
  "language_info": {
   "codemirror_mode": {
    "name": "ipython",
    "version": 3
   },
   "file_extension": ".py",
   "mimetype": "text/x-python",
   "name": "python",
   "nbconvert_exporter": "python",
   "pygments_lexer": "ipython3",
   "version": "3.12.11"
  }
 },
 "nbformat": 4,
 "nbformat_minor": 5
}
