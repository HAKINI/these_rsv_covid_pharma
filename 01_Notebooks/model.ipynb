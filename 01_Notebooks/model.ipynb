{
 "cells": [
  {
   "cell_type": "code",
   "execution_count": null,
   "id": "5477be66",
   "metadata": {},
   "outputs": [
    {
     "name": "stdout",
     "output_type": "stream",
     "text": [
      "✅ Tous les fichiers nécessaires sont disponibles.\n",
      "⏱️ COVID_START=2020-03-01, VACC_START=2021-01-01 | Lags: (4, 8, 9)\n",
      "✅ common_FR_long chargé (3223 lignes)\n",
      "✅ vacsi_fr_extended chargé (105 lignes)\n",
      "✅ google_mobility_fr_weekly chargé (840 lignes)\n",
      "✅ coviprev_reg_weekly chargé (1296 lignes)\n",
      "✅ meteo_fr_weekly chargé (392 lignes)\n",
      "✅ erviss_fr_weekly chargé (11713 lignes)\n",
      "✅ RSV prêt (0-1 an) — 293 lignes\n",
      "✅ CoviPrev agrégé nationalement (12 semaines)\n",
      "✅ Base finale prête : (98, 7)\n"
     ]
    }
   ],
   "source": [
    "# ==========================================\n",
    "# 🧱 BLOC 1 — Setup, Helpers & Chargement Données\n",
    "# ==========================================\n",
    "\n",
    "from pathlib import Path\n",
    "import warnings\n",
    "import numpy as np\n",
    "import pandas as pd\n",
    "import statsmodels.api as sm\n",
    "from statsmodels.stats.diagnostic import acorr_ljungbox\n",
    "from statsmodels.stats.outliers_influence import variance_inflation_factor\n",
    "from itertools import product\n",
    "import plotly.express as px\n",
    "import plotly.graph_objects as go\n",
    "\n",
    "warnings.filterwarnings(\"ignore\")\n",
    "pd.set_option(\"display.max_columns\", 120)\n",
    "pd.set_option(\"display.width\", 180)\n",
    "np.random.seed(42)\n",
    "\n",
    "px.defaults.template = \"plotly_white\"\n",
    "px.defaults.width = 1000\n",
    "px.defaults.height = 520\n",
    "\n",
    "# ==========================================\n",
    "# 📁 Chemins & Fichiers\n",
    "# ==========================================\n",
    "DATA = Path(\"../data_clean\")\n",
    "FILES = {\n",
    "    \"common_FR_long\": DATA / \"ODISSEE/common_FR_long.csv\",\n",
    "    \"vacsi_fr_extended\": DATA / \"VACSI/vacsi_fr_extended.csv\",\n",
    "    \"google_mobility_fr_weekly\": DATA / \"GOOGLE/google_mobility_fr_weekly.csv\",\n",
    "    \"coviprev_reg_weekly\": DATA / \"COVIPREV/coviprev_reg_weekly.csv\",\n",
    "    \"meteo_fr_weekly\": DATA / \"METEO/meteo_fr_weekly.csv\",\n",
    "    \"erviss_fr_weekly\": DATA / \"ERVISS/erviss_fr_weekly.csv\",\n",
    "}\n",
    "\n",
    "missing = [k for k, p in FILES.items() if not p.exists()]\n",
    "if missing:\n",
    "    raise FileNotFoundError(f\"❌ Fichiers manquants: {missing}\")\n",
    "print(\"✅ Tous les fichiers nécessaires sont disponibles.\")\n",
    "\n",
    "COVID_START = pd.Timestamp(\"2020-03-01\")\n",
    "VACC_START  = pd.Timestamp(\"2021-01-01\")\n",
    "\n",
    "LAG_VACC, LAG_MNP, LAG_WORK = 4, 8, 9\n",
    "SEASON_PERIOD = 52\n",
    "print(f\"⏱️ COVID_START={COVID_START.date()}, VACC_START={VACC_START.date()} | Lags: {LAG_VACC, LAG_MNP, LAG_WORK}\")\n",
    "\n",
    "# ==========================================\n",
    "# 🧩 Fonctions utilitaires\n",
    "# ==========================================\n",
    "def keyify(df: pd.DataFrame) -> pd.DataFrame:\n",
    "    iso = pd.to_datetime(df[\"date_monday\"]).dt.isocalendar()\n",
    "    df[\"year_iso\"] = iso[\"year\"].astype(int)\n",
    "    df[\"week_iso_num\"] = iso[\"week\"].astype(int)\n",
    "    return df\n",
    "\n",
    "def zscore(s): return (s - s.mean()) / s.std(ddof=0) if s.std(ddof=0) != 0 else s * 0\n",
    "def build_time_features(df, period=52):\n",
    "    df = df.copy()\n",
    "    df[\"t\"] = np.arange(len(df))\n",
    "    df[\"sin52\"] = np.sin(2 * np.pi * df[\"t\"] / period)\n",
    "    df[\"cos52\"] = np.cos(2 * np.pi * df[\"t\"] / period)\n",
    "    return df\n",
    "\n",
    "def load_datasets(files):\n",
    "    data = {}\n",
    "    for name, path in files.items():\n",
    "        data[name] = pd.read_csv(path)\n",
    "        print(f\"✅ {name} chargé ({data[name].shape[0]} lignes)\")\n",
    "    return data\n",
    "\n",
    "def merge_exog(rsv_df, vac_df, work_df, cov_df):\n",
    "    merged = (\n",
    "        rsv_df[[\"date_monday\", \"year_iso\", \"week_iso_num\"]]\n",
    "        .merge(vac_df, on=[\"year_iso\", \"week_iso_num\"], how=\"left\")\n",
    "        .merge(work_df, on=[\"year_iso\", \"week_iso_num\"], how=\"left\")\n",
    "        .merge(cov_df, on=[\"year_iso\", \"week_iso_num\"], how=\"left\")\n",
    "        .set_index(\"date_monday\")\n",
    "        .sort_index()\n",
    "    )\n",
    "    return merged\n",
    "\n",
    "def build_model_matrix(df, lags=(4, 8, 9), mask_vars=None):\n",
    "    lag_vac, lag_mnp, lag_work = lags\n",
    "    df[\"work_red\"] = zscore(-df[\"work\"])\n",
    "    if mask_vars:\n",
    "        for v in mask_vars: df[v] = zscore(df[v])\n",
    "        df[\"MNP_score\"] = df[mask_vars + [\"work_red\"]].mean(axis=1)\n",
    "    else:\n",
    "        df[\"MNP_score\"] = zscore(df[\"work_red\"])\n",
    "\n",
    "    X = pd.DataFrame(index=df.index)\n",
    "    X[\"cov12_lag\"] = df[\"couv_complet\"].shift(lag_vac)\n",
    "    X[\"MNP_lag\"]   = df[\"MNP_score\"].shift(lag_mnp)\n",
    "    X[\"work_lag\"]  = df[\"work\"].shift(lag_work)\n",
    "    return build_time_features(X)\n",
    "\n",
    "def plot_series(df, y_col=\"RSV\", y_fit=None, title=\"RSV Observé vs Ajusté\"):\n",
    "    fig = go.Figure()\n",
    "    fig.add_trace(go.Scatter(x=df.index, y=df[y_col], name=\"RSV observé\", mode=\"lines\", line=dict(color=\"black\")))\n",
    "    if y_fit is not None:\n",
    "        fig.add_trace(go.Scatter(x=df.index, y=y_fit, name=\"Ajusté\", mode=\"lines\", line=dict(color=\"blue\", dash=\"dot\")))\n",
    "    fig.update_layout(title=title, xaxis_title=\"Semaine\", yaxis_title=y_col)\n",
    "    fig.show()\n",
    "\n",
    "# ==========================================\n",
    "# 📊 Chargement des données\n",
    "# ==========================================\n",
    "data = load_datasets(FILES)\n",
    "\n",
    "common = keyify(data[\"common_FR_long\"])\n",
    "mask = (common[\"topic\"] == \"RSV\") & (common[\"geo_level\"] == \"FR\")\n",
    "age_used = next(a for a in [\"00-04 ans\", \"0-1 an\", \"Tous âges\"] if ((mask) & (common[\"classe_d_age\"] == a)).any())\n",
    "mask &= (common[\"classe_d_age\"] == age_used)\n",
    "\n",
    "ycol = \"taux_passages_urgences\" if \"taux_passages_urgences\" in common.columns else \"taux_sos\"\n",
    "rsv = common.loc[mask, [\"date_monday\", \"year_iso\", \"week_iso_num\", ycol]].rename(columns={ycol: \"RSV\"})\n",
    "rsv[\"date_monday\"] = pd.to_datetime(rsv[\"date_monday\"])\n",
    "rsv = rsv.sort_values(\"date_monday\")\n",
    "print(f\"✅ RSV prêt ({age_used}) — {rsv.shape[0]} lignes\")\n",
    "\n",
    "vac = keyify(data[\"vacsi_fr_extended\"]).query(\"geo_level=='FR'\")[[\"year_iso\",\"week_iso_num\",\"couv_complet\"]]\n",
    "gm  = keyify(data[\"google_mobility_fr_weekly\"])\n",
    "work = gm.query(\"geo_level=='FR' & indicator=='workplaces'\")[[\"year_iso\",\"week_iso_num\",\"value\"]].rename(columns={\"value\": \"work\"})\n",
    "cov = keyify(data[\"coviprev_reg_weekly\"])\n",
    "mask_vars = [\"port_du_masque\",\"lavage_des_mains\",\"aeration_du_logement\",\"saluer_sans_serrer_la_main\"]\n",
    "cov_nat = cov[cov[\"indicator\"].isin(mask_vars)].groupby([\"year_iso\",\"week_iso_num\",\"indicator\"])[\"value\"].mean().unstack()\n",
    "print(f\"✅ CoviPrev agrégé nationalement ({len(cov_nat)} semaines)\")\n",
    "\n",
    "X_base = merge_exog(rsv, vac, work, cov_nat)\n",
    "X_full = build_model_matrix(X_base, lags=(LAG_VACC, LAG_MNP, LAG_WORK), mask_vars=mask_vars)\n",
    "\n",
    "df_base = rsv.set_index(\"date_monday\")[[\"RSV\"]].join(X_full, how=\"left\").dropna().sort_index()\n",
    "print(f\"✅ Base finale prête : {df_base.shape}\")\n"
   ]
  },
  {
   "cell_type": "code",
   "execution_count": 18,
   "id": "95699d7c",
   "metadata": {},
   "outputs": [
    {
     "name": "stdout",
     "output_type": "stream",
     "text": [
      "OLS base : R²_adj=0.530, AIC=1473.0\n"
     ]
    },
    {
     "data": {
      "application/vnd.plotly.v1+json": {
       "config": {
        "plotlyServerURL": "https://plot.ly"
       },
       "data": [
        {
         "mode": "lines",
         "name": "RSV observé",
         "type": "scatter",
         "x": [
          "2019-12-30T00:00:00.000000000",
          "2020-01-06T00:00:00.000000000",
          "2020-01-13T00:00:00.000000000",
          "2020-01-20T00:00:00.000000000",
          "2020-01-27T00:00:00.000000000",
          "2020-02-03T00:00:00.000000000",
          "2020-02-10T00:00:00.000000000",
          "2020-02-17T00:00:00.000000000",
          "2020-02-24T00:00:00.000000000",
          "2020-03-02T00:00:00.000000000",
          "2020-03-09T00:00:00.000000000",
          "2020-03-16T00:00:00.000000000",
          "2020-03-23T00:00:00.000000000",
          "2020-03-30T00:00:00.000000000",
          "2020-04-06T00:00:00.000000000",
          "2020-04-13T00:00:00.000000000",
          "2020-04-20T00:00:00.000000000",
          "2020-04-27T00:00:00.000000000",
          "2020-05-04T00:00:00.000000000",
          "2020-05-11T00:00:00.000000000",
          "2020-05-18T00:00:00.000000000",
          "2020-05-25T00:00:00.000000000",
          "2020-06-01T00:00:00.000000000",
          "2020-06-08T00:00:00.000000000",
          "2020-06-15T00:00:00.000000000",
          "2020-06-22T00:00:00.000000000",
          "2020-06-29T00:00:00.000000000",
          "2020-07-06T00:00:00.000000000",
          "2020-07-13T00:00:00.000000000",
          "2020-07-20T00:00:00.000000000",
          "2020-07-27T00:00:00.000000000",
          "2020-08-03T00:00:00.000000000",
          "2020-08-10T00:00:00.000000000",
          "2020-08-17T00:00:00.000000000",
          "2020-08-24T00:00:00.000000000",
          "2020-08-31T00:00:00.000000000",
          "2020-09-07T00:00:00.000000000",
          "2020-09-14T00:00:00.000000000",
          "2020-09-21T00:00:00.000000000",
          "2020-09-28T00:00:00.000000000",
          "2020-10-05T00:00:00.000000000",
          "2020-10-12T00:00:00.000000000",
          "2020-10-19T00:00:00.000000000",
          "2020-10-26T00:00:00.000000000",
          "2020-11-02T00:00:00.000000000",
          "2020-11-09T00:00:00.000000000",
          "2020-11-16T00:00:00.000000000",
          "2020-11-23T00:00:00.000000000",
          "2020-11-30T00:00:00.000000000",
          "2020-12-07T00:00:00.000000000",
          "2020-12-14T00:00:00.000000000",
          "2020-12-21T00:00:00.000000000",
          "2020-12-28T00:00:00.000000000",
          "2021-01-04T00:00:00.000000000",
          "2021-01-11T00:00:00.000000000",
          "2021-01-18T00:00:00.000000000",
          "2021-01-25T00:00:00.000000000",
          "2021-02-01T00:00:00.000000000",
          "2021-02-08T00:00:00.000000000",
          "2021-02-15T00:00:00.000000000",
          "2021-02-22T00:00:00.000000000",
          "2021-03-01T00:00:00.000000000",
          "2021-03-08T00:00:00.000000000",
          "2021-03-15T00:00:00.000000000",
          "2021-03-22T00:00:00.000000000",
          "2021-03-29T00:00:00.000000000",
          "2021-04-05T00:00:00.000000000",
          "2021-04-12T00:00:00.000000000",
          "2021-04-19T00:00:00.000000000",
          "2021-04-26T00:00:00.000000000",
          "2021-05-03T00:00:00.000000000",
          "2021-05-10T00:00:00.000000000",
          "2021-05-17T00:00:00.000000000",
          "2021-05-24T00:00:00.000000000",
          "2021-05-31T00:00:00.000000000",
          "2021-06-07T00:00:00.000000000",
          "2021-06-14T00:00:00.000000000",
          "2021-06-21T00:00:00.000000000",
          "2021-06-28T00:00:00.000000000",
          "2021-07-05T00:00:00.000000000",
          "2021-07-12T00:00:00.000000000",
          "2021-07-19T00:00:00.000000000",
          "2021-07-26T00:00:00.000000000",
          "2021-08-02T00:00:00.000000000",
          "2021-08-09T00:00:00.000000000",
          "2021-08-16T00:00:00.000000000",
          "2021-08-23T00:00:00.000000000",
          "2021-08-30T00:00:00.000000000",
          "2021-09-06T00:00:00.000000000",
          "2021-09-13T00:00:00.000000000",
          "2021-09-20T00:00:00.000000000",
          "2021-09-27T00:00:00.000000000",
          "2021-10-04T00:00:00.000000000",
          "2021-10-11T00:00:00.000000000",
          "2021-10-18T00:00:00.000000000",
          "2021-10-25T00:00:00.000000000",
          "2021-11-01T00:00:00.000000000",
          "2021-11-08T00:00:00.000000000",
          "2021-11-15T00:00:00.000000000",
          "2021-11-22T00:00:00.000000000",
          "2021-11-29T00:00:00.000000000",
          "2021-12-06T00:00:00.000000000",
          "2021-12-13T00:00:00.000000000",
          "2021-12-20T00:00:00.000000000",
          "2021-12-27T00:00:00.000000000",
          "2022-01-03T00:00:00.000000000",
          "2022-01-10T00:00:00.000000000",
          "2022-01-17T00:00:00.000000000",
          "2022-01-24T00:00:00.000000000",
          "2022-01-31T00:00:00.000000000",
          "2022-02-07T00:00:00.000000000",
          "2022-02-14T00:00:00.000000000",
          "2022-02-21T00:00:00.000000000",
          "2022-02-28T00:00:00.000000000",
          "2022-03-07T00:00:00.000000000",
          "2022-03-14T00:00:00.000000000",
          "2022-03-21T00:00:00.000000000",
          "2022-03-28T00:00:00.000000000",
          "2022-04-04T00:00:00.000000000",
          "2022-04-11T00:00:00.000000000",
          "2022-04-18T00:00:00.000000000",
          "2022-04-25T00:00:00.000000000",
          "2022-05-02T00:00:00.000000000",
          "2022-05-09T00:00:00.000000000",
          "2022-05-16T00:00:00.000000000",
          "2022-05-23T00:00:00.000000000",
          "2022-05-30T00:00:00.000000000",
          "2022-06-06T00:00:00.000000000",
          "2022-06-13T00:00:00.000000000",
          "2022-06-20T00:00:00.000000000",
          "2022-06-27T00:00:00.000000000",
          "2022-07-04T00:00:00.000000000",
          "2022-07-11T00:00:00.000000000",
          "2022-07-18T00:00:00.000000000",
          "2022-07-25T00:00:00.000000000",
          "2022-08-01T00:00:00.000000000",
          "2022-08-08T00:00:00.000000000",
          "2022-08-15T00:00:00.000000000",
          "2022-08-22T00:00:00.000000000",
          "2022-08-29T00:00:00.000000000",
          "2022-09-05T00:00:00.000000000",
          "2022-09-12T00:00:00.000000000",
          "2022-09-19T00:00:00.000000000",
          "2022-09-26T00:00:00.000000000",
          "2022-10-03T00:00:00.000000000",
          "2022-10-10T00:00:00.000000000",
          "2022-10-17T00:00:00.000000000",
          "2022-10-24T00:00:00.000000000",
          "2022-10-31T00:00:00.000000000",
          "2022-11-07T00:00:00.000000000",
          "2022-11-14T00:00:00.000000000",
          "2022-11-21T00:00:00.000000000",
          "2022-11-28T00:00:00.000000000",
          "2022-12-05T00:00:00.000000000",
          "2022-12-12T00:00:00.000000000",
          "2022-12-19T00:00:00.000000000",
          "2022-12-26T00:00:00.000000000",
          "2023-01-02T00:00:00.000000000",
          "2023-01-09T00:00:00.000000000",
          "2023-01-16T00:00:00.000000000",
          "2023-01-23T00:00:00.000000000",
          "2023-01-30T00:00:00.000000000",
          "2023-02-06T00:00:00.000000000",
          "2023-02-13T00:00:00.000000000",
          "2023-02-20T00:00:00.000000000",
          "2023-02-27T00:00:00.000000000",
          "2023-03-06T00:00:00.000000000",
          "2023-03-13T00:00:00.000000000",
          "2023-03-20T00:00:00.000000000",
          "2023-03-27T00:00:00.000000000",
          "2023-04-03T00:00:00.000000000",
          "2023-04-10T00:00:00.000000000",
          "2023-04-17T00:00:00.000000000",
          "2023-04-24T00:00:00.000000000",
          "2023-05-01T00:00:00.000000000",
          "2023-05-08T00:00:00.000000000",
          "2023-05-15T00:00:00.000000000",
          "2023-05-22T00:00:00.000000000",
          "2023-05-29T00:00:00.000000000",
          "2023-06-05T00:00:00.000000000",
          "2023-06-12T00:00:00.000000000",
          "2023-06-19T00:00:00.000000000",
          "2023-06-26T00:00:00.000000000",
          "2023-07-03T00:00:00.000000000",
          "2023-07-10T00:00:00.000000000",
          "2023-07-17T00:00:00.000000000",
          "2023-07-24T00:00:00.000000000",
          "2023-07-31T00:00:00.000000000",
          "2023-08-07T00:00:00.000000000",
          "2023-08-14T00:00:00.000000000",
          "2023-08-21T00:00:00.000000000",
          "2023-08-28T00:00:00.000000000",
          "2023-09-04T00:00:00.000000000",
          "2023-09-11T00:00:00.000000000",
          "2023-09-18T00:00:00.000000000",
          "2023-09-25T00:00:00.000000000",
          "2023-10-02T00:00:00.000000000",
          "2023-10-09T00:00:00.000000000",
          "2023-10-16T00:00:00.000000000",
          "2023-10-23T00:00:00.000000000",
          "2023-10-30T00:00:00.000000000",
          "2023-11-06T00:00:00.000000000",
          "2023-11-13T00:00:00.000000000",
          "2023-11-20T00:00:00.000000000",
          "2023-11-27T00:00:00.000000000",
          "2023-12-04T00:00:00.000000000",
          "2023-12-11T00:00:00.000000000",
          "2023-12-18T00:00:00.000000000",
          "2023-12-25T00:00:00.000000000",
          "2024-01-01T00:00:00.000000000",
          "2024-01-08T00:00:00.000000000",
          "2024-01-15T00:00:00.000000000",
          "2024-01-22T00:00:00.000000000",
          "2024-01-29T00:00:00.000000000",
          "2024-02-05T00:00:00.000000000",
          "2024-02-12T00:00:00.000000000",
          "2024-02-19T00:00:00.000000000",
          "2024-02-26T00:00:00.000000000",
          "2024-03-04T00:00:00.000000000",
          "2024-03-11T00:00:00.000000000",
          "2024-03-18T00:00:00.000000000",
          "2024-03-25T00:00:00.000000000",
          "2024-04-01T00:00:00.000000000",
          "2024-04-08T00:00:00.000000000",
          "2024-04-15T00:00:00.000000000",
          "2024-04-22T00:00:00.000000000",
          "2024-04-29T00:00:00.000000000",
          "2024-05-06T00:00:00.000000000",
          "2024-05-13T00:00:00.000000000",
          "2024-05-20T00:00:00.000000000",
          "2024-05-27T00:00:00.000000000",
          "2024-06-03T00:00:00.000000000",
          "2024-06-10T00:00:00.000000000",
          "2024-06-17T00:00:00.000000000",
          "2024-06-24T00:00:00.000000000",
          "2024-07-01T00:00:00.000000000",
          "2024-07-08T00:00:00.000000000",
          "2024-07-15T00:00:00.000000000",
          "2024-07-22T00:00:00.000000000",
          "2024-07-29T00:00:00.000000000",
          "2024-08-05T00:00:00.000000000",
          "2024-08-12T00:00:00.000000000",
          "2024-08-19T00:00:00.000000000",
          "2024-08-26T00:00:00.000000000",
          "2024-09-02T00:00:00.000000000",
          "2024-09-09T00:00:00.000000000",
          "2024-09-16T00:00:00.000000000",
          "2024-09-23T00:00:00.000000000",
          "2024-09-30T00:00:00.000000000",
          "2024-10-07T00:00:00.000000000",
          "2024-10-14T00:00:00.000000000",
          "2024-10-21T00:00:00.000000000",
          "2024-10-28T00:00:00.000000000",
          "2024-11-04T00:00:00.000000000",
          "2024-11-11T00:00:00.000000000",
          "2024-11-18T00:00:00.000000000",
          "2024-11-25T00:00:00.000000000",
          "2024-12-02T00:00:00.000000000",
          "2024-12-09T00:00:00.000000000",
          "2024-12-16T00:00:00.000000000",
          "2024-12-23T00:00:00.000000000",
          "2024-12-30T00:00:00.000000000",
          "2025-01-06T00:00:00.000000000",
          "2025-01-13T00:00:00.000000000",
          "2025-01-20T00:00:00.000000000",
          "2025-01-27T00:00:00.000000000",
          "2025-02-03T00:00:00.000000000",
          "2025-02-10T00:00:00.000000000",
          "2025-02-17T00:00:00.000000000",
          "2025-02-24T00:00:00.000000000",
          "2025-03-03T00:00:00.000000000",
          "2025-03-10T00:00:00.000000000",
          "2025-03-17T00:00:00.000000000",
          "2025-03-24T00:00:00.000000000",
          "2025-03-31T00:00:00.000000000",
          "2025-04-07T00:00:00.000000000",
          "2025-04-14T00:00:00.000000000",
          "2025-04-21T00:00:00.000000000",
          "2025-04-28T00:00:00.000000000",
          "2025-05-05T00:00:00.000000000",
          "2025-05-12T00:00:00.000000000",
          "2025-05-19T00:00:00.000000000",
          "2025-05-26T00:00:00.000000000",
          "2025-06-02T00:00:00.000000000",
          "2025-06-09T00:00:00.000000000",
          "2025-06-16T00:00:00.000000000",
          "2025-06-23T00:00:00.000000000",
          "2025-06-30T00:00:00.000000000",
          "2025-07-07T00:00:00.000000000",
          "2025-07-14T00:00:00.000000000",
          "2025-07-21T00:00:00.000000000",
          "2025-07-28T00:00:00.000000000",
          "2025-08-04T00:00:00.000000000"
         ],
         "y": {
          "bdata": "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",
          "dtype": "f8"
         }
        },
        {
         "line": {
          "dash": "dot"
         },
         "mode": "lines",
         "name": "OLS fitted",
         "type": "scatter",
         "x": [
          "2021-01-25T00:00:00.000000000",
          "2021-02-01T00:00:00.000000000",
          "2021-02-08T00:00:00.000000000",
          "2021-02-15T00:00:00.000000000",
          "2021-02-22T00:00:00.000000000",
          "2021-03-01T00:00:00.000000000",
          "2021-03-08T00:00:00.000000000",
          "2021-03-15T00:00:00.000000000",
          "2021-03-22T00:00:00.000000000",
          "2021-03-29T00:00:00.000000000",
          "2021-04-05T00:00:00.000000000",
          "2021-04-12T00:00:00.000000000",
          "2021-04-19T00:00:00.000000000",
          "2021-04-26T00:00:00.000000000",
          "2021-05-03T00:00:00.000000000",
          "2021-05-10T00:00:00.000000000",
          "2021-05-17T00:00:00.000000000",
          "2021-05-24T00:00:00.000000000",
          "2021-05-31T00:00:00.000000000",
          "2021-06-07T00:00:00.000000000",
          "2021-06-14T00:00:00.000000000",
          "2021-06-21T00:00:00.000000000",
          "2021-06-28T00:00:00.000000000",
          "2021-07-05T00:00:00.000000000",
          "2021-07-12T00:00:00.000000000",
          "2021-07-19T00:00:00.000000000",
          "2021-07-26T00:00:00.000000000",
          "2021-08-02T00:00:00.000000000",
          "2021-08-09T00:00:00.000000000",
          "2021-08-16T00:00:00.000000000",
          "2021-08-23T00:00:00.000000000",
          "2021-08-30T00:00:00.000000000",
          "2021-09-06T00:00:00.000000000",
          "2021-09-13T00:00:00.000000000",
          "2021-09-20T00:00:00.000000000",
          "2021-09-27T00:00:00.000000000",
          "2021-10-04T00:00:00.000000000",
          "2021-10-11T00:00:00.000000000",
          "2021-10-18T00:00:00.000000000",
          "2021-10-25T00:00:00.000000000",
          "2021-11-01T00:00:00.000000000",
          "2021-11-08T00:00:00.000000000",
          "2021-11-15T00:00:00.000000000",
          "2021-11-22T00:00:00.000000000",
          "2021-11-29T00:00:00.000000000",
          "2021-12-06T00:00:00.000000000",
          "2021-12-13T00:00:00.000000000",
          "2021-12-20T00:00:00.000000000",
          "2021-12-27T00:00:00.000000000",
          "2022-01-03T00:00:00.000000000",
          "2022-01-10T00:00:00.000000000",
          "2022-01-17T00:00:00.000000000",
          "2022-01-24T00:00:00.000000000",
          "2022-01-31T00:00:00.000000000",
          "2022-02-07T00:00:00.000000000",
          "2022-02-14T00:00:00.000000000",
          "2022-02-21T00:00:00.000000000",
          "2022-02-28T00:00:00.000000000",
          "2022-03-07T00:00:00.000000000",
          "2022-03-14T00:00:00.000000000",
          "2022-03-21T00:00:00.000000000",
          "2022-03-28T00:00:00.000000000",
          "2022-04-04T00:00:00.000000000",
          "2022-04-11T00:00:00.000000000",
          "2022-04-18T00:00:00.000000000",
          "2022-04-25T00:00:00.000000000",
          "2022-05-02T00:00:00.000000000",
          "2022-05-09T00:00:00.000000000",
          "2022-05-16T00:00:00.000000000",
          "2022-05-23T00:00:00.000000000",
          "2022-05-30T00:00:00.000000000",
          "2022-06-06T00:00:00.000000000",
          "2022-06-13T00:00:00.000000000",
          "2022-06-20T00:00:00.000000000",
          "2022-06-27T00:00:00.000000000",
          "2022-07-04T00:00:00.000000000",
          "2022-07-11T00:00:00.000000000",
          "2022-07-18T00:00:00.000000000",
          "2022-07-25T00:00:00.000000000",
          "2022-08-01T00:00:00.000000000",
          "2022-08-08T00:00:00.000000000",
          "2022-08-15T00:00:00.000000000",
          "2022-08-22T00:00:00.000000000",
          "2022-08-29T00:00:00.000000000",
          "2022-09-05T00:00:00.000000000",
          "2022-09-12T00:00:00.000000000",
          "2022-09-19T00:00:00.000000000",
          "2022-09-26T00:00:00.000000000",
          "2022-10-03T00:00:00.000000000",
          "2022-10-10T00:00:00.000000000",
          "2022-10-17T00:00:00.000000000",
          "2022-10-24T00:00:00.000000000",
          "2022-10-31T00:00:00.000000000",
          "2022-11-07T00:00:00.000000000",
          "2022-11-14T00:00:00.000000000",
          "2022-11-21T00:00:00.000000000",
          "2022-11-28T00:00:00.000000000",
          "2022-12-05T00:00:00.000000000"
         ],
         "y": {
          "bdata": "sLQglpBpmECUX2dguwOWQOgUtR6rfpZABLXU/UCgkEDq/WgYo2WLQNJ7prgNjpFAtwsOSgVLj0AIBuoRUoWOQDNuanB/+4tAXOr0585yiUAqaN4C3duGQC7fx7AUNoNArpFsE8IKgEAe989AC6N9QCZWoCjnAH5Aa3x/LT3xfEAiDaGw65N6QCq2T1ULWXhAsEgayCeaZECUgnx3ORpoQNx8rucePW9A2IZpns+Qa0BOU7O77o90QJxzkZ7b+3VAJDMjmsQCfEBGRV2Cm259QDY+JuU6+oJAhng0Mg3uhEBAE5hgLNqGQLwGDEsfpodAvN4zYXoriUBn7T1F+nWKQAQkzXnip41AUkKtIIY7jECTQv+L4fuNQAT3oiR6WY1ARh/CgmXwjUB1zTZtHWaQQIZ91UhHOZRABEU/2u8wlUD/j0mkNnyWQH3zzfCa9ZZAPZkWkI0gmEClDjsJSJiYQOju6VVGlJhAW7by8P+xmECGvyJNiX6YQH8X5a5FbJZAgtlYM/JalECKdH2K2kiUQJDV2594+pVAy8ITXL9slUAyGzH004OUQHEDtmyozJNA5MTU5WDUkkCLmm/yRreIQOfpUdp2eIBAsmDzns1FiEDqC4IElqGHQHnjQlFIBoVA+7FwOwmJgkD4g377B5mAQBhP/YAWGXpAQquEcmBkc0CsgJmRa/9yQPYKz6qOYHJAcgkbgJyQcEB06wcgaVZsQChnXH30d2hABHfs9HHmZEBMuHZ1xdZkQIBOvYaPzVFAACSIBhHmRMDgz/F47otbQLjw4F4jn2lAYEnIdA4jcUBUEkohD1h0QFg6m1EOr2dARELFd1TjeUDCSPYHHVh7QJDYAk1yKYJAS5NBLjyWhEAsekFBrsuGQIsYKN53HohAUMaFswrxhEDaEvySTRKKQLpwAg4ExIxA4JQz9iCPjEDHKPWq6/aMQIOM0ChUL45AK1kmcd1hkkCLPizFkO+UQFuR4oc2eZZAvRa8n35cl0AygqWdhQWYQM/PNFU7qZhAMrL2DTchmUCPDLqgoduYQA==",
          "dtype": "f8"
         }
        }
       ],
       "layout": {
        "shapes": [
         {
          "line": {
           "color": "red",
           "dash": "dash"
          },
          "type": "line",
          "x0": "2020-03-01T00:00:00",
          "x1": "2020-03-01T00:00:00",
          "xref": "x",
          "y0": 0,
          "y1": 1,
          "yref": "y domain"
         },
         {
          "line": {
           "color": "green",
           "dash": "dash"
          },
          "type": "line",
          "x0": "2021-01-01T00:00:00",
          "x1": "2021-01-01T00:00:00",
          "xref": "x",
          "y0": 0,
          "y1": 1,
          "yref": "y domain"
         }
        ],
        "template": {
         "data": {
          "bar": [
           {
            "error_x": {
             "color": "#2a3f5f"
            },
            "error_y": {
             "color": "#2a3f5f"
            },
            "marker": {
             "line": {
              "color": "#E5ECF6",
              "width": 0.5
             },
             "pattern": {
              "fillmode": "overlay",
              "size": 10,
              "solidity": 0.2
             }
            },
            "type": "bar"
           }
          ],
          "barpolar": [
           {
            "marker": {
             "line": {
              "color": "#E5ECF6",
              "width": 0.5
             },
             "pattern": {
              "fillmode": "overlay",
              "size": 10,
              "solidity": 0.2
             }
            },
            "type": "barpolar"
           }
          ],
          "carpet": [
           {
            "aaxis": {
             "endlinecolor": "#2a3f5f",
             "gridcolor": "white",
             "linecolor": "white",
             "minorgridcolor": "white",
             "startlinecolor": "#2a3f5f"
            },
            "baxis": {
             "endlinecolor": "#2a3f5f",
             "gridcolor": "white",
             "linecolor": "white",
             "minorgridcolor": "white",
             "startlinecolor": "#2a3f5f"
            },
            "type": "carpet"
           }
          ],
          "choropleth": [
           {
            "colorbar": {
             "outlinewidth": 0,
             "ticks": ""
            },
            "type": "choropleth"
           }
          ],
          "contour": [
           {
            "colorbar": {
             "outlinewidth": 0,
             "ticks": ""
            },
            "colorscale": [
             [
              0,
              "#0d0887"
             ],
             [
              0.1111111111111111,
              "#46039f"
             ],
             [
              0.2222222222222222,
              "#7201a8"
             ],
             [
              0.3333333333333333,
              "#9c179e"
             ],
             [
              0.4444444444444444,
              "#bd3786"
             ],
             [
              0.5555555555555556,
              "#d8576b"
             ],
             [
              0.6666666666666666,
              "#ed7953"
             ],
             [
              0.7777777777777778,
              "#fb9f3a"
             ],
             [
              0.8888888888888888,
              "#fdca26"
             ],
             [
              1,
              "#f0f921"
             ]
            ],
            "type": "contour"
           }
          ],
          "contourcarpet": [
           {
            "colorbar": {
             "outlinewidth": 0,
             "ticks": ""
            },
            "type": "contourcarpet"
           }
          ],
          "heatmap": [
           {
            "colorbar": {
             "outlinewidth": 0,
             "ticks": ""
            },
            "colorscale": [
             [
              0,
              "#0d0887"
             ],
             [
              0.1111111111111111,
              "#46039f"
             ],
             [
              0.2222222222222222,
              "#7201a8"
             ],
             [
              0.3333333333333333,
              "#9c179e"
             ],
             [
              0.4444444444444444,
              "#bd3786"
             ],
             [
              0.5555555555555556,
              "#d8576b"
             ],
             [
              0.6666666666666666,
              "#ed7953"
             ],
             [
              0.7777777777777778,
              "#fb9f3a"
             ],
             [
              0.8888888888888888,
              "#fdca26"
             ],
             [
              1,
              "#f0f921"
             ]
            ],
            "type": "heatmap"
           }
          ],
          "histogram": [
           {
            "marker": {
             "pattern": {
              "fillmode": "overlay",
              "size": 10,
              "solidity": 0.2
             }
            },
            "type": "histogram"
           }
          ],
          "histogram2d": [
           {
            "colorbar": {
             "outlinewidth": 0,
             "ticks": ""
            },
            "colorscale": [
             [
              0,
              "#0d0887"
             ],
             [
              0.1111111111111111,
              "#46039f"
             ],
             [
              0.2222222222222222,
              "#7201a8"
             ],
             [
              0.3333333333333333,
              "#9c179e"
             ],
             [
              0.4444444444444444,
              "#bd3786"
             ],
             [
              0.5555555555555556,
              "#d8576b"
             ],
             [
              0.6666666666666666,
              "#ed7953"
             ],
             [
              0.7777777777777778,
              "#fb9f3a"
             ],
             [
              0.8888888888888888,
              "#fdca26"
             ],
             [
              1,
              "#f0f921"
             ]
            ],
            "type": "histogram2d"
           }
          ],
          "histogram2dcontour": [
           {
            "colorbar": {
             "outlinewidth": 0,
             "ticks": ""
            },
            "colorscale": [
             [
              0,
              "#0d0887"
             ],
             [
              0.1111111111111111,
              "#46039f"
             ],
             [
              0.2222222222222222,
              "#7201a8"
             ],
             [
              0.3333333333333333,
              "#9c179e"
             ],
             [
              0.4444444444444444,
              "#bd3786"
             ],
             [
              0.5555555555555556,
              "#d8576b"
             ],
             [
              0.6666666666666666,
              "#ed7953"
             ],
             [
              0.7777777777777778,
              "#fb9f3a"
             ],
             [
              0.8888888888888888,
              "#fdca26"
             ],
             [
              1,
              "#f0f921"
             ]
            ],
            "type": "histogram2dcontour"
           }
          ],
          "mesh3d": [
           {
            "colorbar": {
             "outlinewidth": 0,
             "ticks": ""
            },
            "type": "mesh3d"
           }
          ],
          "parcoords": [
           {
            "line": {
             "colorbar": {
              "outlinewidth": 0,
              "ticks": ""
             }
            },
            "type": "parcoords"
           }
          ],
          "pie": [
           {
            "automargin": true,
            "type": "pie"
           }
          ],
          "scatter": [
           {
            "fillpattern": {
             "fillmode": "overlay",
             "size": 10,
             "solidity": 0.2
            },
            "type": "scatter"
           }
          ],
          "scatter3d": [
           {
            "line": {
             "colorbar": {
              "outlinewidth": 0,
              "ticks": ""
             }
            },
            "marker": {
             "colorbar": {
              "outlinewidth": 0,
              "ticks": ""
             }
            },
            "type": "scatter3d"
           }
          ],
          "scattercarpet": [
           {
            "marker": {
             "colorbar": {
              "outlinewidth": 0,
              "ticks": ""
             }
            },
            "type": "scattercarpet"
           }
          ],
          "scattergeo": [
           {
            "marker": {
             "colorbar": {
              "outlinewidth": 0,
              "ticks": ""
             }
            },
            "type": "scattergeo"
           }
          ],
          "scattergl": [
           {
            "marker": {
             "colorbar": {
              "outlinewidth": 0,
              "ticks": ""
             }
            },
            "type": "scattergl"
           }
          ],
          "scattermap": [
           {
            "marker": {
             "colorbar": {
              "outlinewidth": 0,
              "ticks": ""
             }
            },
            "type": "scattermap"
           }
          ],
          "scattermapbox": [
           {
            "marker": {
             "colorbar": {
              "outlinewidth": 0,
              "ticks": ""
             }
            },
            "type": "scattermapbox"
           }
          ],
          "scatterpolar": [
           {
            "marker": {
             "colorbar": {
              "outlinewidth": 0,
              "ticks": ""
             }
            },
            "type": "scatterpolar"
           }
          ],
          "scatterpolargl": [
           {
            "marker": {
             "colorbar": {
              "outlinewidth": 0,
              "ticks": ""
             }
            },
            "type": "scatterpolargl"
           }
          ],
          "scatterternary": [
           {
            "marker": {
             "colorbar": {
              "outlinewidth": 0,
              "ticks": ""
             }
            },
            "type": "scatterternary"
           }
          ],
          "surface": [
           {
            "colorbar": {
             "outlinewidth": 0,
             "ticks": ""
            },
            "colorscale": [
             [
              0,
              "#0d0887"
             ],
             [
              0.1111111111111111,
              "#46039f"
             ],
             [
              0.2222222222222222,
              "#7201a8"
             ],
             [
              0.3333333333333333,
              "#9c179e"
             ],
             [
              0.4444444444444444,
              "#bd3786"
             ],
             [
              0.5555555555555556,
              "#d8576b"
             ],
             [
              0.6666666666666666,
              "#ed7953"
             ],
             [
              0.7777777777777778,
              "#fb9f3a"
             ],
             [
              0.8888888888888888,
              "#fdca26"
             ],
             [
              1,
              "#f0f921"
             ]
            ],
            "type": "surface"
           }
          ],
          "table": [
           {
            "cells": {
             "fill": {
              "color": "#EBF0F8"
             },
             "line": {
              "color": "white"
             }
            },
            "header": {
             "fill": {
              "color": "#C8D4E3"
             },
             "line": {
              "color": "white"
             }
            },
            "type": "table"
           }
          ]
         },
         "layout": {
          "annotationdefaults": {
           "arrowcolor": "#2a3f5f",
           "arrowhead": 0,
           "arrowwidth": 1
          },
          "autotypenumbers": "strict",
          "coloraxis": {
           "colorbar": {
            "outlinewidth": 0,
            "ticks": ""
           }
          },
          "colorscale": {
           "diverging": [
            [
             0,
             "#8e0152"
            ],
            [
             0.1,
             "#c51b7d"
            ],
            [
             0.2,
             "#de77ae"
            ],
            [
             0.3,
             "#f1b6da"
            ],
            [
             0.4,
             "#fde0ef"
            ],
            [
             0.5,
             "#f7f7f7"
            ],
            [
             0.6,
             "#e6f5d0"
            ],
            [
             0.7,
             "#b8e186"
            ],
            [
             0.8,
             "#7fbc41"
            ],
            [
             0.9,
             "#4d9221"
            ],
            [
             1,
             "#276419"
            ]
           ],
           "sequential": [
            [
             0,
             "#0d0887"
            ],
            [
             0.1111111111111111,
             "#46039f"
            ],
            [
             0.2222222222222222,
             "#7201a8"
            ],
            [
             0.3333333333333333,
             "#9c179e"
            ],
            [
             0.4444444444444444,
             "#bd3786"
            ],
            [
             0.5555555555555556,
             "#d8576b"
            ],
            [
             0.6666666666666666,
             "#ed7953"
            ],
            [
             0.7777777777777778,
             "#fb9f3a"
            ],
            [
             0.8888888888888888,
             "#fdca26"
            ],
            [
             1,
             "#f0f921"
            ]
           ],
           "sequentialminus": [
            [
             0,
             "#0d0887"
            ],
            [
             0.1111111111111111,
             "#46039f"
            ],
            [
             0.2222222222222222,
             "#7201a8"
            ],
            [
             0.3333333333333333,
             "#9c179e"
            ],
            [
             0.4444444444444444,
             "#bd3786"
            ],
            [
             0.5555555555555556,
             "#d8576b"
            ],
            [
             0.6666666666666666,
             "#ed7953"
            ],
            [
             0.7777777777777778,
             "#fb9f3a"
            ],
            [
             0.8888888888888888,
             "#fdca26"
            ],
            [
             1,
             "#f0f921"
            ]
           ]
          },
          "colorway": [
           "#636efa",
           "#EF553B",
           "#00cc96",
           "#ab63fa",
           "#FFA15A",
           "#19d3f3",
           "#FF6692",
           "#B6E880",
           "#FF97FF",
           "#FECB52"
          ],
          "font": {
           "color": "#2a3f5f"
          },
          "geo": {
           "bgcolor": "white",
           "lakecolor": "white",
           "landcolor": "#E5ECF6",
           "showlakes": true,
           "showland": true,
           "subunitcolor": "white"
          },
          "hoverlabel": {
           "align": "left"
          },
          "hovermode": "closest",
          "mapbox": {
           "style": "light"
          },
          "paper_bgcolor": "white",
          "plot_bgcolor": "#E5ECF6",
          "polar": {
           "angularaxis": {
            "gridcolor": "white",
            "linecolor": "white",
            "ticks": ""
           },
           "bgcolor": "#E5ECF6",
           "radialaxis": {
            "gridcolor": "white",
            "linecolor": "white",
            "ticks": ""
           }
          },
          "scene": {
           "xaxis": {
            "backgroundcolor": "#E5ECF6",
            "gridcolor": "white",
            "gridwidth": 2,
            "linecolor": "white",
            "showbackground": true,
            "ticks": "",
            "zerolinecolor": "white"
           },
           "yaxis": {
            "backgroundcolor": "#E5ECF6",
            "gridcolor": "white",
            "gridwidth": 2,
            "linecolor": "white",
            "showbackground": true,
            "ticks": "",
            "zerolinecolor": "white"
           },
           "zaxis": {
            "backgroundcolor": "#E5ECF6",
            "gridcolor": "white",
            "gridwidth": 2,
            "linecolor": "white",
            "showbackground": true,
            "ticks": "",
            "zerolinecolor": "white"
           }
          },
          "shapedefaults": {
           "line": {
            "color": "#2a3f5f"
           }
          },
          "ternary": {
           "aaxis": {
            "gridcolor": "white",
            "linecolor": "white",
            "ticks": ""
           },
           "baxis": {
            "gridcolor": "white",
            "linecolor": "white",
            "ticks": ""
           },
           "bgcolor": "#E5ECF6",
           "caxis": {
            "gridcolor": "white",
            "linecolor": "white",
            "ticks": ""
           }
          },
          "title": {
           "x": 0.05
          },
          "xaxis": {
           "automargin": true,
           "gridcolor": "white",
           "linecolor": "white",
           "ticks": "",
           "title": {
            "standoff": 15
           },
           "zerolinecolor": "white",
           "zerolinewidth": 2
          },
          "yaxis": {
           "automargin": true,
           "gridcolor": "white",
           "linecolor": "white",
           "ticks": "",
           "title": {
            "standoff": 15
           },
           "zerolinecolor": "white",
           "zerolinewidth": 2
          }
         }
        },
        "title": {
         "text": "RSV — OLS base (série complète)"
        },
        "xaxis": {
         "title": {
          "text": "Semaine"
         }
        },
        "yaxis": {
         "title": {
          "text": "RSV"
         }
        }
       }
      }
     },
     "metadata": {},
     "output_type": "display_data"
    },
    {
     "name": "stdout",
     "output_type": "stream",
     "text": [
      "🥇 Lags optimaux : (7, 12, 4)\n",
      "✅ Modèle OLS causal recalibré (avec décalage MNP=+3 sem)\n",
      "R²_adj = 0.970, AIC = 1029.3\n"
     ]
    },
    {
     "data": {
      "text/html": [
       "<table class=\"simpletable\">\n",
       "<caption>OLS Regression Results</caption>\n",
       "<tr>\n",
       "  <th>Dep. Variable:</th>           <td>RSV</td>       <th>  R-squared:         </th> <td>   0.974</td>\n",
       "</tr>\n",
       "<tr>\n",
       "  <th>Model:</th>                   <td>OLS</td>       <th>  Adj. R-squared:    </th> <td>   0.970</td>\n",
       "</tr>\n",
       "<tr>\n",
       "  <th>Method:</th>             <td>Least Squares</td>  <th>  F-statistic:       </th> <td>   215.1</td>\n",
       "</tr>\n",
       "<tr>\n",
       "  <th>Date:</th>             <td>Sat, 25 Oct 2025</td> <th>  Prob (F-statistic):</th> <td>2.66e-50</td>\n",
       "</tr>\n",
       "<tr>\n",
       "  <th>Time:</th>                 <td>20:13:21</td>     <th>  Log-Likelihood:    </th> <td> -504.66</td>\n",
       "</tr>\n",
       "<tr>\n",
       "  <th>No. Observations:</th>      <td>    86</td>      <th>  AIC:               </th> <td>   1029.</td>\n",
       "</tr>\n",
       "<tr>\n",
       "  <th>Df Residuals:</th>          <td>    76</td>      <th>  BIC:               </th> <td>   1054.</td>\n",
       "</tr>\n",
       "<tr>\n",
       "  <th>Df Model:</th>              <td>     9</td>      <th>                     </th>     <td> </td>   \n",
       "</tr>\n",
       "<tr>\n",
       "  <th>Covariance Type:</th>         <td>HC3</td>       <th>                     </th>     <td> </td>   \n",
       "</tr>\n",
       "</table>\n",
       "<table class=\"simpletable\">\n",
       "<tr>\n",
       "          <td></td>             <th>coef</th>     <th>std err</th>      <th>z</th>      <th>P>|z|</th>  <th>[0.025</th>    <th>0.975]</th>  \n",
       "</tr>\n",
       "<tr>\n",
       "  <th>const</th>             <td>  156.3831</td> <td>   76.184</td> <td>    2.053</td> <td> 0.040</td> <td>    7.065</td> <td>  305.701</td>\n",
       "</tr>\n",
       "<tr>\n",
       "  <th>cov12_lag</th>         <td>   -2.3602</td> <td>    2.851</td> <td>   -0.828</td> <td> 0.408</td> <td>   -7.948</td> <td>    3.228</td>\n",
       "</tr>\n",
       "<tr>\n",
       "  <th>MNP_lag_causal</th>    <td>   -1.4694</td> <td>   33.290</td> <td>   -0.044</td> <td> 0.965</td> <td>  -66.717</td> <td>   63.778</td>\n",
       "</tr>\n",
       "<tr>\n",
       "  <th>work_lag</th>          <td>    0.7478</td> <td>    1.231</td> <td>    0.607</td> <td> 0.544</td> <td>   -1.665</td> <td>    3.161</td>\n",
       "</tr>\n",
       "<tr>\n",
       "  <th>tmean_z</th>           <td>    0.2850</td> <td>   39.294</td> <td>    0.007</td> <td> 0.994</td> <td>  -76.730</td> <td>   77.300</td>\n",
       "</tr>\n",
       "<tr>\n",
       "  <th>vacc_x_mnp_causal</th> <td>    1.1287</td> <td>    2.323</td> <td>    0.486</td> <td> 0.627</td> <td>   -3.424</td> <td>    5.682</td>\n",
       "</tr>\n",
       "<tr>\n",
       "  <th>RSV_lag1</th>          <td>    1.6307</td> <td>    0.114</td> <td>   14.246</td> <td> 0.000</td> <td>    1.406</td> <td>    1.855</td>\n",
       "</tr>\n",
       "<tr>\n",
       "  <th>RSV_lag2</th>          <td>   -0.7675</td> <td>    0.123</td> <td>   -6.261</td> <td> 0.000</td> <td>   -1.008</td> <td>   -0.527</td>\n",
       "</tr>\n",
       "<tr>\n",
       "  <th>sin52</th>             <td>  -37.9883</td> <td>   26.037</td> <td>   -1.459</td> <td> 0.145</td> <td>  -89.020</td> <td>   13.044</td>\n",
       "</tr>\n",
       "<tr>\n",
       "  <th>cos52</th>             <td>   69.0059</td> <td>   62.564</td> <td>    1.103</td> <td> 0.270</td> <td>  -53.617</td> <td>  191.629</td>\n",
       "</tr>\n",
       "</table>\n",
       "<table class=\"simpletable\">\n",
       "<tr>\n",
       "  <th>Omnibus:</th>       <td> 6.621</td> <th>  Durbin-Watson:     </th> <td>   1.982</td>\n",
       "</tr>\n",
       "<tr>\n",
       "  <th>Prob(Omnibus):</th> <td> 0.036</td> <th>  Jarque-Bera (JB):  </th> <td>   8.426</td>\n",
       "</tr>\n",
       "<tr>\n",
       "  <th>Skew:</th>          <td> 0.322</td> <th>  Prob(JB):          </th> <td>  0.0148</td>\n",
       "</tr>\n",
       "<tr>\n",
       "  <th>Kurtosis:</th>      <td> 4.392</td> <th>  Cond. No.          </th> <td>9.61e+03</td>\n",
       "</tr>\n",
       "</table><br/><br/>Notes:<br/>[1] Standard Errors are heteroscedasticity robust (HC3)<br/>[2] The condition number is large, 9.61e+03. This might indicate that there are<br/>strong multicollinearity or other numerical problems."
      ],
      "text/latex": [
       "\\begin{center}\n",
       "\\begin{tabular}{lclc}\n",
       "\\toprule\n",
       "\\textbf{Dep. Variable:}       &       RSV        & \\textbf{  R-squared:         } &     0.974   \\\\\n",
       "\\textbf{Model:}               &       OLS        & \\textbf{  Adj. R-squared:    } &     0.970   \\\\\n",
       "\\textbf{Method:}              &  Least Squares   & \\textbf{  F-statistic:       } &     215.1   \\\\\n",
       "\\textbf{Date:}                & Sat, 25 Oct 2025 & \\textbf{  Prob (F-statistic):} &  2.66e-50   \\\\\n",
       "\\textbf{Time:}                &     20:13:21     & \\textbf{  Log-Likelihood:    } &   -504.66   \\\\\n",
       "\\textbf{No. Observations:}    &          86      & \\textbf{  AIC:               } &     1029.   \\\\\n",
       "\\textbf{Df Residuals:}        &          76      & \\textbf{  BIC:               } &     1054.   \\\\\n",
       "\\textbf{Df Model:}            &           9      & \\textbf{                     } &             \\\\\n",
       "\\textbf{Covariance Type:}     &       HC3        & \\textbf{                     } &             \\\\\n",
       "\\bottomrule\n",
       "\\end{tabular}\n",
       "\\begin{tabular}{lcccccc}\n",
       "                              & \\textbf{coef} & \\textbf{std err} & \\textbf{z} & \\textbf{P$> |$z$|$} & \\textbf{[0.025} & \\textbf{0.975]}  \\\\\n",
       "\\midrule\n",
       "\\textbf{const}                &     156.3831  &       76.184     &     2.053  &         0.040        &        7.065    &      305.701     \\\\\n",
       "\\textbf{cov12\\_lag}           &      -2.3602  &        2.851     &    -0.828  &         0.408        &       -7.948    &        3.228     \\\\\n",
       "\\textbf{MNP\\_lag\\_causal}     &      -1.4694  &       33.290     &    -0.044  &         0.965        &      -66.717    &       63.778     \\\\\n",
       "\\textbf{work\\_lag}            &       0.7478  &        1.231     &     0.607  &         0.544        &       -1.665    &        3.161     \\\\\n",
       "\\textbf{tmean\\_z}             &       0.2850  &       39.294     &     0.007  &         0.994        &      -76.730    &       77.300     \\\\\n",
       "\\textbf{vacc\\_x\\_mnp\\_causal} &       1.1287  &        2.323     &     0.486  &         0.627        &       -3.424    &        5.682     \\\\\n",
       "\\textbf{RSV\\_lag1}            &       1.6307  &        0.114     &    14.246  &         0.000        &        1.406    &        1.855     \\\\\n",
       "\\textbf{RSV\\_lag2}            &      -0.7675  &        0.123     &    -6.261  &         0.000        &       -1.008    &       -0.527     \\\\\n",
       "\\textbf{sin52}                &     -37.9883  &       26.037     &    -1.459  &         0.145        &      -89.020    &       13.044     \\\\\n",
       "\\textbf{cos52}                &      69.0059  &       62.564     &     1.103  &         0.270        &      -53.617    &      191.629     \\\\\n",
       "\\bottomrule\n",
       "\\end{tabular}\n",
       "\\begin{tabular}{lclc}\n",
       "\\textbf{Omnibus:}       &  6.621 & \\textbf{  Durbin-Watson:     } &    1.982  \\\\\n",
       "\\textbf{Prob(Omnibus):} &  0.036 & \\textbf{  Jarque-Bera (JB):  } &    8.426  \\\\\n",
       "\\textbf{Skew:}          &  0.322 & \\textbf{  Prob(JB):          } &   0.0148  \\\\\n",
       "\\textbf{Kurtosis:}      &  4.392 & \\textbf{  Cond. No.          } & 9.61e+03  \\\\\n",
       "\\bottomrule\n",
       "\\end{tabular}\n",
       "%\\caption{OLS Regression Results}\n",
       "\\end{center}\n",
       "\n",
       "Notes: \\newline\n",
       " [1] Standard Errors are heteroscedasticity robust (HC3) \\newline\n",
       " [2] The condition number is large, 9.61e+03. This might indicate that there are \\newline\n",
       " strong multicollinearity or other numerical problems."
      ],
      "text/plain": [
       "<class 'statsmodels.iolib.summary.Summary'>\n",
       "\"\"\"\n",
       "                            OLS Regression Results                            \n",
       "==============================================================================\n",
       "Dep. Variable:                    RSV   R-squared:                       0.974\n",
       "Model:                            OLS   Adj. R-squared:                  0.970\n",
       "Method:                 Least Squares   F-statistic:                     215.1\n",
       "Date:                Sat, 25 Oct 2025   Prob (F-statistic):           2.66e-50\n",
       "Time:                        20:13:21   Log-Likelihood:                -504.66\n",
       "No. Observations:                  86   AIC:                             1029.\n",
       "Df Residuals:                      76   BIC:                             1054.\n",
       "Df Model:                           9                                         \n",
       "Covariance Type:                  HC3                                         \n",
       "=====================================================================================\n",
       "                        coef    std err          z      P>|z|      [0.025      0.975]\n",
       "-------------------------------------------------------------------------------------\n",
       "const               156.3831     76.184      2.053      0.040       7.065     305.701\n",
       "cov12_lag            -2.3602      2.851     -0.828      0.408      -7.948       3.228\n",
       "MNP_lag_causal       -1.4694     33.290     -0.044      0.965     -66.717      63.778\n",
       "work_lag              0.7478      1.231      0.607      0.544      -1.665       3.161\n",
       "tmean_z               0.2850     39.294      0.007      0.994     -76.730      77.300\n",
       "vacc_x_mnp_causal     1.1287      2.323      0.486      0.627      -3.424       5.682\n",
       "RSV_lag1              1.6307      0.114     14.246      0.000       1.406       1.855\n",
       "RSV_lag2             -0.7675      0.123     -6.261      0.000      -1.008      -0.527\n",
       "sin52               -37.9883     26.037     -1.459      0.145     -89.020      13.044\n",
       "cos52                69.0059     62.564      1.103      0.270     -53.617     191.629\n",
       "==============================================================================\n",
       "Omnibus:                        6.621   Durbin-Watson:                   1.982\n",
       "Prob(Omnibus):                  0.036   Jarque-Bera (JB):                8.426\n",
       "Skew:                           0.322   Prob(JB):                       0.0148\n",
       "Kurtosis:                       4.392   Cond. No.                     9.61e+03\n",
       "==============================================================================\n",
       "\n",
       "Notes:\n",
       "[1] Standard Errors are heteroscedasticity robust (HC3)\n",
       "[2] The condition number is large, 9.61e+03. This might indicate that there are\n",
       "strong multicollinearity or other numerical problems.\n",
       "\"\"\""
      ]
     },
     "metadata": {},
     "output_type": "display_data"
    },
    {
     "data": {
      "application/vnd.plotly.v1+json": {
       "config": {
        "plotlyServerURL": "https://plot.ly"
       },
       "data": [
        {
         "mode": "lines",
         "name": "RSV observé",
         "type": "scatter",
         "x": [
          "2019-12-30T00:00:00.000000000",
          "2020-01-06T00:00:00.000000000",
          "2020-01-13T00:00:00.000000000",
          "2020-01-20T00:00:00.000000000",
          "2020-01-27T00:00:00.000000000",
          "2020-02-03T00:00:00.000000000",
          "2020-02-10T00:00:00.000000000",
          "2020-02-17T00:00:00.000000000",
          "2020-02-24T00:00:00.000000000",
          "2020-03-02T00:00:00.000000000",
          "2020-03-09T00:00:00.000000000",
          "2020-03-16T00:00:00.000000000",
          "2020-03-23T00:00:00.000000000",
          "2020-03-30T00:00:00.000000000",
          "2020-04-06T00:00:00.000000000",
          "2020-04-13T00:00:00.000000000",
          "2020-04-20T00:00:00.000000000",
          "2020-04-27T00:00:00.000000000",
          "2020-05-04T00:00:00.000000000",
          "2020-05-11T00:00:00.000000000",
          "2020-05-18T00:00:00.000000000",
          "2020-05-25T00:00:00.000000000",
          "2020-06-01T00:00:00.000000000",
          "2020-06-08T00:00:00.000000000",
          "2020-06-15T00:00:00.000000000",
          "2020-06-22T00:00:00.000000000",
          "2020-06-29T00:00:00.000000000",
          "2020-07-06T00:00:00.000000000",
          "2020-07-13T00:00:00.000000000",
          "2020-07-20T00:00:00.000000000",
          "2020-07-27T00:00:00.000000000",
          "2020-08-03T00:00:00.000000000",
          "2020-08-10T00:00:00.000000000",
          "2020-08-17T00:00:00.000000000",
          "2020-08-24T00:00:00.000000000",
          "2020-08-31T00:00:00.000000000",
          "2020-09-07T00:00:00.000000000",
          "2020-09-14T00:00:00.000000000",
          "2020-09-21T00:00:00.000000000",
          "2020-09-28T00:00:00.000000000",
          "2020-10-05T00:00:00.000000000",
          "2020-10-12T00:00:00.000000000",
          "2020-10-19T00:00:00.000000000",
          "2020-10-26T00:00:00.000000000",
          "2020-11-02T00:00:00.000000000",
          "2020-11-09T00:00:00.000000000",
          "2020-11-16T00:00:00.000000000",
          "2020-11-23T00:00:00.000000000",
          "2020-11-30T00:00:00.000000000",
          "2020-12-07T00:00:00.000000000",
          "2020-12-14T00:00:00.000000000",
          "2020-12-21T00:00:00.000000000",
          "2020-12-28T00:00:00.000000000",
          "2021-01-04T00:00:00.000000000",
          "2021-01-11T00:00:00.000000000",
          "2021-01-18T00:00:00.000000000",
          "2021-01-25T00:00:00.000000000",
          "2021-02-01T00:00:00.000000000",
          "2021-02-08T00:00:00.000000000",
          "2021-02-15T00:00:00.000000000",
          "2021-02-22T00:00:00.000000000",
          "2021-03-01T00:00:00.000000000",
          "2021-03-08T00:00:00.000000000",
          "2021-03-15T00:00:00.000000000",
          "2021-03-22T00:00:00.000000000",
          "2021-03-29T00:00:00.000000000",
          "2021-04-05T00:00:00.000000000",
          "2021-04-12T00:00:00.000000000",
          "2021-04-19T00:00:00.000000000",
          "2021-04-26T00:00:00.000000000",
          "2021-05-03T00:00:00.000000000",
          "2021-05-10T00:00:00.000000000",
          "2021-05-17T00:00:00.000000000",
          "2021-05-24T00:00:00.000000000",
          "2021-05-31T00:00:00.000000000",
          "2021-06-07T00:00:00.000000000",
          "2021-06-14T00:00:00.000000000",
          "2021-06-21T00:00:00.000000000",
          "2021-06-28T00:00:00.000000000",
          "2021-07-05T00:00:00.000000000",
          "2021-07-12T00:00:00.000000000",
          "2021-07-19T00:00:00.000000000",
          "2021-07-26T00:00:00.000000000",
          "2021-08-02T00:00:00.000000000",
          "2021-08-09T00:00:00.000000000",
          "2021-08-16T00:00:00.000000000",
          "2021-08-23T00:00:00.000000000",
          "2021-08-30T00:00:00.000000000",
          "2021-09-06T00:00:00.000000000",
          "2021-09-13T00:00:00.000000000",
          "2021-09-20T00:00:00.000000000",
          "2021-09-27T00:00:00.000000000",
          "2021-10-04T00:00:00.000000000",
          "2021-10-11T00:00:00.000000000",
          "2021-10-18T00:00:00.000000000",
          "2021-10-25T00:00:00.000000000",
          "2021-11-01T00:00:00.000000000",
          "2021-11-08T00:00:00.000000000",
          "2021-11-15T00:00:00.000000000",
          "2021-11-22T00:00:00.000000000",
          "2021-11-29T00:00:00.000000000",
          "2021-12-06T00:00:00.000000000",
          "2021-12-13T00:00:00.000000000",
          "2021-12-20T00:00:00.000000000",
          "2021-12-27T00:00:00.000000000",
          "2022-01-03T00:00:00.000000000",
          "2022-01-10T00:00:00.000000000",
          "2022-01-17T00:00:00.000000000",
          "2022-01-24T00:00:00.000000000",
          "2022-01-31T00:00:00.000000000",
          "2022-02-07T00:00:00.000000000",
          "2022-02-14T00:00:00.000000000",
          "2022-02-21T00:00:00.000000000",
          "2022-02-28T00:00:00.000000000",
          "2022-03-07T00:00:00.000000000",
          "2022-03-14T00:00:00.000000000",
          "2022-03-21T00:00:00.000000000",
          "2022-03-28T00:00:00.000000000",
          "2022-04-04T00:00:00.000000000",
          "2022-04-11T00:00:00.000000000",
          "2022-04-18T00:00:00.000000000",
          "2022-04-25T00:00:00.000000000",
          "2022-05-02T00:00:00.000000000",
          "2022-05-09T00:00:00.000000000",
          "2022-05-16T00:00:00.000000000",
          "2022-05-23T00:00:00.000000000",
          "2022-05-30T00:00:00.000000000",
          "2022-06-06T00:00:00.000000000",
          "2022-06-13T00:00:00.000000000",
          "2022-06-20T00:00:00.000000000",
          "2022-06-27T00:00:00.000000000",
          "2022-07-04T00:00:00.000000000",
          "2022-07-11T00:00:00.000000000",
          "2022-07-18T00:00:00.000000000",
          "2022-07-25T00:00:00.000000000",
          "2022-08-01T00:00:00.000000000",
          "2022-08-08T00:00:00.000000000",
          "2022-08-15T00:00:00.000000000",
          "2022-08-22T00:00:00.000000000",
          "2022-08-29T00:00:00.000000000",
          "2022-09-05T00:00:00.000000000",
          "2022-09-12T00:00:00.000000000",
          "2022-09-19T00:00:00.000000000",
          "2022-09-26T00:00:00.000000000",
          "2022-10-03T00:00:00.000000000",
          "2022-10-10T00:00:00.000000000",
          "2022-10-17T00:00:00.000000000",
          "2022-10-24T00:00:00.000000000",
          "2022-10-31T00:00:00.000000000",
          "2022-11-07T00:00:00.000000000",
          "2022-11-14T00:00:00.000000000",
          "2022-11-21T00:00:00.000000000",
          "2022-11-28T00:00:00.000000000",
          "2022-12-05T00:00:00.000000000",
          "2022-12-12T00:00:00.000000000",
          "2022-12-19T00:00:00.000000000",
          "2022-12-26T00:00:00.000000000",
          "2023-01-02T00:00:00.000000000",
          "2023-01-09T00:00:00.000000000",
          "2023-01-16T00:00:00.000000000",
          "2023-01-23T00:00:00.000000000",
          "2023-01-30T00:00:00.000000000",
          "2023-02-06T00:00:00.000000000",
          "2023-02-13T00:00:00.000000000",
          "2023-02-20T00:00:00.000000000",
          "2023-02-27T00:00:00.000000000",
          "2023-03-06T00:00:00.000000000",
          "2023-03-13T00:00:00.000000000",
          "2023-03-20T00:00:00.000000000",
          "2023-03-27T00:00:00.000000000",
          "2023-04-03T00:00:00.000000000",
          "2023-04-10T00:00:00.000000000",
          "2023-04-17T00:00:00.000000000",
          "2023-04-24T00:00:00.000000000",
          "2023-05-01T00:00:00.000000000",
          "2023-05-08T00:00:00.000000000",
          "2023-05-15T00:00:00.000000000",
          "2023-05-22T00:00:00.000000000",
          "2023-05-29T00:00:00.000000000",
          "2023-06-05T00:00:00.000000000",
          "2023-06-12T00:00:00.000000000",
          "2023-06-19T00:00:00.000000000",
          "2023-06-26T00:00:00.000000000",
          "2023-07-03T00:00:00.000000000",
          "2023-07-10T00:00:00.000000000",
          "2023-07-17T00:00:00.000000000",
          "2023-07-24T00:00:00.000000000",
          "2023-07-31T00:00:00.000000000",
          "2023-08-07T00:00:00.000000000",
          "2023-08-14T00:00:00.000000000",
          "2023-08-21T00:00:00.000000000",
          "2023-08-28T00:00:00.000000000",
          "2023-09-04T00:00:00.000000000",
          "2023-09-11T00:00:00.000000000",
          "2023-09-18T00:00:00.000000000",
          "2023-09-25T00:00:00.000000000",
          "2023-10-02T00:00:00.000000000",
          "2023-10-09T00:00:00.000000000",
          "2023-10-16T00:00:00.000000000",
          "2023-10-23T00:00:00.000000000",
          "2023-10-30T00:00:00.000000000",
          "2023-11-06T00:00:00.000000000",
          "2023-11-13T00:00:00.000000000",
          "2023-11-20T00:00:00.000000000",
          "2023-11-27T00:00:00.000000000",
          "2023-12-04T00:00:00.000000000",
          "2023-12-11T00:00:00.000000000",
          "2023-12-18T00:00:00.000000000",
          "2023-12-25T00:00:00.000000000",
          "2024-01-01T00:00:00.000000000",
          "2024-01-08T00:00:00.000000000",
          "2024-01-15T00:00:00.000000000",
          "2024-01-22T00:00:00.000000000",
          "2024-01-29T00:00:00.000000000",
          "2024-02-05T00:00:00.000000000",
          "2024-02-12T00:00:00.000000000",
          "2024-02-19T00:00:00.000000000",
          "2024-02-26T00:00:00.000000000",
          "2024-03-04T00:00:00.000000000",
          "2024-03-11T00:00:00.000000000",
          "2024-03-18T00:00:00.000000000",
          "2024-03-25T00:00:00.000000000",
          "2024-04-01T00:00:00.000000000",
          "2024-04-08T00:00:00.000000000",
          "2024-04-15T00:00:00.000000000",
          "2024-04-22T00:00:00.000000000",
          "2024-04-29T00:00:00.000000000",
          "2024-05-06T00:00:00.000000000",
          "2024-05-13T00:00:00.000000000",
          "2024-05-20T00:00:00.000000000",
          "2024-05-27T00:00:00.000000000",
          "2024-06-03T00:00:00.000000000",
          "2024-06-10T00:00:00.000000000",
          "2024-06-17T00:00:00.000000000",
          "2024-06-24T00:00:00.000000000",
          "2024-07-01T00:00:00.000000000",
          "2024-07-08T00:00:00.000000000",
          "2024-07-15T00:00:00.000000000",
          "2024-07-22T00:00:00.000000000",
          "2024-07-29T00:00:00.000000000",
          "2024-08-05T00:00:00.000000000",
          "2024-08-12T00:00:00.000000000",
          "2024-08-19T00:00:00.000000000",
          "2024-08-26T00:00:00.000000000",
          "2024-09-02T00:00:00.000000000",
          "2024-09-09T00:00:00.000000000",
          "2024-09-16T00:00:00.000000000",
          "2024-09-23T00:00:00.000000000",
          "2024-09-30T00:00:00.000000000",
          "2024-10-07T00:00:00.000000000",
          "2024-10-14T00:00:00.000000000",
          "2024-10-21T00:00:00.000000000",
          "2024-10-28T00:00:00.000000000",
          "2024-11-04T00:00:00.000000000",
          "2024-11-11T00:00:00.000000000",
          "2024-11-18T00:00:00.000000000",
          "2024-11-25T00:00:00.000000000",
          "2024-12-02T00:00:00.000000000",
          "2024-12-09T00:00:00.000000000",
          "2024-12-16T00:00:00.000000000",
          "2024-12-23T00:00:00.000000000",
          "2024-12-30T00:00:00.000000000",
          "2025-01-06T00:00:00.000000000",
          "2025-01-13T00:00:00.000000000",
          "2025-01-20T00:00:00.000000000",
          "2025-01-27T00:00:00.000000000",
          "2025-02-03T00:00:00.000000000",
          "2025-02-10T00:00:00.000000000",
          "2025-02-17T00:00:00.000000000",
          "2025-02-24T00:00:00.000000000",
          "2025-03-03T00:00:00.000000000",
          "2025-03-10T00:00:00.000000000",
          "2025-03-17T00:00:00.000000000",
          "2025-03-24T00:00:00.000000000",
          "2025-03-31T00:00:00.000000000",
          "2025-04-07T00:00:00.000000000",
          "2025-04-14T00:00:00.000000000",
          "2025-04-21T00:00:00.000000000",
          "2025-04-28T00:00:00.000000000",
          "2025-05-05T00:00:00.000000000",
          "2025-05-12T00:00:00.000000000",
          "2025-05-19T00:00:00.000000000",
          "2025-05-26T00:00:00.000000000",
          "2025-06-02T00:00:00.000000000",
          "2025-06-09T00:00:00.000000000",
          "2025-06-16T00:00:00.000000000",
          "2025-06-23T00:00:00.000000000",
          "2025-06-30T00:00:00.000000000",
          "2025-07-07T00:00:00.000000000",
          "2025-07-14T00:00:00.000000000",
          "2025-07-21T00:00:00.000000000",
          "2025-07-28T00:00:00.000000000",
          "2025-08-04T00:00:00.000000000"
         ],
         "y": {
          "bdata": "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",
          "dtype": "f8"
         }
        },
        {
         "line": {
          "dash": "dot"
         },
         "mode": "lines",
         "name": "OLS optimisé",
         "type": "scatter",
         "x": [
          "2021-03-01T00:00:00.000000000",
          "2021-03-08T00:00:00.000000000",
          "2021-03-15T00:00:00.000000000",
          "2021-03-22T00:00:00.000000000",
          "2021-03-29T00:00:00.000000000",
          "2021-04-05T00:00:00.000000000",
          "2021-04-12T00:00:00.000000000",
          "2021-04-19T00:00:00.000000000",
          "2021-04-26T00:00:00.000000000",
          "2021-05-03T00:00:00.000000000",
          "2021-05-10T00:00:00.000000000",
          "2021-05-17T00:00:00.000000000",
          "2021-05-24T00:00:00.000000000",
          "2021-05-31T00:00:00.000000000",
          "2021-06-07T00:00:00.000000000",
          "2021-06-14T00:00:00.000000000",
          "2021-06-21T00:00:00.000000000",
          "2021-06-28T00:00:00.000000000",
          "2021-07-05T00:00:00.000000000",
          "2021-07-12T00:00:00.000000000",
          "2021-07-19T00:00:00.000000000",
          "2021-07-26T00:00:00.000000000",
          "2021-08-02T00:00:00.000000000",
          "2021-08-09T00:00:00.000000000",
          "2021-08-16T00:00:00.000000000",
          "2021-08-23T00:00:00.000000000",
          "2021-08-30T00:00:00.000000000",
          "2021-09-06T00:00:00.000000000",
          "2021-09-13T00:00:00.000000000",
          "2021-09-20T00:00:00.000000000",
          "2021-09-27T00:00:00.000000000",
          "2021-10-04T00:00:00.000000000",
          "2021-10-11T00:00:00.000000000",
          "2021-10-18T00:00:00.000000000",
          "2021-10-25T00:00:00.000000000",
          "2021-11-01T00:00:00.000000000",
          "2021-11-08T00:00:00.000000000",
          "2021-11-15T00:00:00.000000000",
          "2021-11-22T00:00:00.000000000",
          "2021-11-29T00:00:00.000000000",
          "2021-12-06T00:00:00.000000000",
          "2021-12-13T00:00:00.000000000",
          "2021-12-20T00:00:00.000000000",
          "2021-12-27T00:00:00.000000000",
          "2022-01-03T00:00:00.000000000",
          "2022-01-10T00:00:00.000000000",
          "2022-01-17T00:00:00.000000000",
          "2022-01-24T00:00:00.000000000",
          "2022-01-31T00:00:00.000000000",
          "2022-02-07T00:00:00.000000000",
          "2022-02-14T00:00:00.000000000",
          "2022-02-21T00:00:00.000000000",
          "2022-02-28T00:00:00.000000000",
          "2022-03-07T00:00:00.000000000",
          "2022-03-14T00:00:00.000000000",
          "2022-03-21T00:00:00.000000000",
          "2022-03-28T00:00:00.000000000",
          "2022-04-04T00:00:00.000000000",
          "2022-04-11T00:00:00.000000000",
          "2022-04-18T00:00:00.000000000",
          "2022-04-25T00:00:00.000000000",
          "2022-05-02T00:00:00.000000000",
          "2022-05-09T00:00:00.000000000",
          "2022-05-16T00:00:00.000000000",
          "2022-05-23T00:00:00.000000000",
          "2022-05-30T00:00:00.000000000",
          "2022-06-06T00:00:00.000000000",
          "2022-06-13T00:00:00.000000000",
          "2022-06-20T00:00:00.000000000",
          "2022-06-27T00:00:00.000000000",
          "2022-07-04T00:00:00.000000000",
          "2022-07-11T00:00:00.000000000",
          "2022-07-18T00:00:00.000000000",
          "2022-07-25T00:00:00.000000000",
          "2022-08-01T00:00:00.000000000",
          "2022-08-08T00:00:00.000000000",
          "2022-08-15T00:00:00.000000000",
          "2022-08-22T00:00:00.000000000",
          "2022-08-29T00:00:00.000000000",
          "2022-09-05T00:00:00.000000000",
          "2022-09-12T00:00:00.000000000",
          "2022-09-19T00:00:00.000000000",
          "2022-09-26T00:00:00.000000000",
          "2022-10-03T00:00:00.000000000",
          "2022-10-10T00:00:00.000000000",
          "2022-10-17T00:00:00.000000000",
          "2022-10-24T00:00:00.000000000",
          "2022-10-31T00:00:00.000000000",
          "2022-11-07T00:00:00.000000000"
         ],
         "y": {
          "bdata": "BLZZJiVGkUCE+nNwxy6IQGNI7Cmp+I5AfMZ4GpnzkUCXg2Uy/Q6TQKN8QekzxJJAjOyxe5Jaj0CEmjv/DiaMQNIIQaF5znpAfBVEfQ93c0DjUQ9HFF54QF518bh06oFA0tCWuZDvgUASWVBuBI2AQIcRK7ZVcn9AJ0J5pSYOgEDtAOA41S98QKoNLVULHYJAQMu/SxqYhEDGf4BHs02CQFL7O/+prYVAGNZvvZZ+gUBL2QUcxil9QCMLZNEJFHRAIYbNnYCUcUB+tgH0im9wQP9Y6/RSQnBARC3SL0TmdUDeFALDYel2QCwpzwMfuYRAIo5ZGHnChEBm8qpmXB+MQHKnl4DF5pBAn/vrB9PWk0AMrA7VYj2WQDAa3HHQqJhA75l/HCRkmUAH2Ib4JpuUQP1s+KWLUZlAaT96yEyZn0B1TLod/NqdQLgl0Ol9VJlAHXbQSlRDmEDX6rhuoWGTQAfLtwmiQ5JAc5ekDrw/hkBdQ/8W/ySGQFn3bjNXp4RAV9Xe4InZgUC0hCmXRFODQL3BoR0lp4BAocGKuIkdgUA0wYB37Yp7QPxP70cuTntAm6ZfLsOWe0DFzYUDzjl9QDTXNmfR5nlAhzv5N0ZyekB0xu/jGhN5QNEYmghN+HhAUymkSZmXd0DIAIG4Pjt0QLJe1e8/MHJAOpbZTP5Ud0DqI/QYa3p0QJOaYBvUbXRAHzuVdXqsd0BMFaQZ4hl2QLA1Ebem3HBAq9IJg2jkdUCGInmOdKx3QO7YajoDdHVA6VMe9POJdEAYYY8QaJtzQNJvUx8QdmtA/4CvwXJrbEBebejuQuFwQNKB99e0BmtAjjf+nMj/bUC8zdYoXuRyQI+3XNPdE3lAu5HksTcdg0DMqHUrUwGIQHY/DB7xTI1ATPm7etW+kUApvpGNjwOXQHxB6j2/XpxAk4q1Fi50okCb5bVPmbGiQA==",
          "dtype": "f8"
         }
        }
       ],
       "layout": {
        "shapes": [
         {
          "line": {
           "color": "red",
           "dash": "dash"
          },
          "type": "line",
          "x0": "2020-03-01T00:00:00",
          "x1": "2020-03-01T00:00:00",
          "xref": "x",
          "y0": 0,
          "y1": 1,
          "yref": "y domain"
         },
         {
          "line": {
           "color": "green",
           "dash": "dash"
          },
          "type": "line",
          "x0": "2021-01-01T00:00:00",
          "x1": "2021-01-01T00:00:00",
          "xref": "x",
          "y0": 0,
          "y1": 1,
          "yref": "y domain"
         }
        ],
        "template": {
         "data": {
          "bar": [
           {
            "error_x": {
             "color": "#2a3f5f"
            },
            "error_y": {
             "color": "#2a3f5f"
            },
            "marker": {
             "line": {
              "color": "#E5ECF6",
              "width": 0.5
             },
             "pattern": {
              "fillmode": "overlay",
              "size": 10,
              "solidity": 0.2
             }
            },
            "type": "bar"
           }
          ],
          "barpolar": [
           {
            "marker": {
             "line": {
              "color": "#E5ECF6",
              "width": 0.5
             },
             "pattern": {
              "fillmode": "overlay",
              "size": 10,
              "solidity": 0.2
             }
            },
            "type": "barpolar"
           }
          ],
          "carpet": [
           {
            "aaxis": {
             "endlinecolor": "#2a3f5f",
             "gridcolor": "white",
             "linecolor": "white",
             "minorgridcolor": "white",
             "startlinecolor": "#2a3f5f"
            },
            "baxis": {
             "endlinecolor": "#2a3f5f",
             "gridcolor": "white",
             "linecolor": "white",
             "minorgridcolor": "white",
             "startlinecolor": "#2a3f5f"
            },
            "type": "carpet"
           }
          ],
          "choropleth": [
           {
            "colorbar": {
             "outlinewidth": 0,
             "ticks": ""
            },
            "type": "choropleth"
           }
          ],
          "contour": [
           {
            "colorbar": {
             "outlinewidth": 0,
             "ticks": ""
            },
            "colorscale": [
             [
              0,
              "#0d0887"
             ],
             [
              0.1111111111111111,
              "#46039f"
             ],
             [
              0.2222222222222222,
              "#7201a8"
             ],
             [
              0.3333333333333333,
              "#9c179e"
             ],
             [
              0.4444444444444444,
              "#bd3786"
             ],
             [
              0.5555555555555556,
              "#d8576b"
             ],
             [
              0.6666666666666666,
              "#ed7953"
             ],
             [
              0.7777777777777778,
              "#fb9f3a"
             ],
             [
              0.8888888888888888,
              "#fdca26"
             ],
             [
              1,
              "#f0f921"
             ]
            ],
            "type": "contour"
           }
          ],
          "contourcarpet": [
           {
            "colorbar": {
             "outlinewidth": 0,
             "ticks": ""
            },
            "type": "contourcarpet"
           }
          ],
          "heatmap": [
           {
            "colorbar": {
             "outlinewidth": 0,
             "ticks": ""
            },
            "colorscale": [
             [
              0,
              "#0d0887"
             ],
             [
              0.1111111111111111,
              "#46039f"
             ],
             [
              0.2222222222222222,
              "#7201a8"
             ],
             [
              0.3333333333333333,
              "#9c179e"
             ],
             [
              0.4444444444444444,
              "#bd3786"
             ],
             [
              0.5555555555555556,
              "#d8576b"
             ],
             [
              0.6666666666666666,
              "#ed7953"
             ],
             [
              0.7777777777777778,
              "#fb9f3a"
             ],
             [
              0.8888888888888888,
              "#fdca26"
             ],
             [
              1,
              "#f0f921"
             ]
            ],
            "type": "heatmap"
           }
          ],
          "histogram": [
           {
            "marker": {
             "pattern": {
              "fillmode": "overlay",
              "size": 10,
              "solidity": 0.2
             }
            },
            "type": "histogram"
           }
          ],
          "histogram2d": [
           {
            "colorbar": {
             "outlinewidth": 0,
             "ticks": ""
            },
            "colorscale": [
             [
              0,
              "#0d0887"
             ],
             [
              0.1111111111111111,
              "#46039f"
             ],
             [
              0.2222222222222222,
              "#7201a8"
             ],
             [
              0.3333333333333333,
              "#9c179e"
             ],
             [
              0.4444444444444444,
              "#bd3786"
             ],
             [
              0.5555555555555556,
              "#d8576b"
             ],
             [
              0.6666666666666666,
              "#ed7953"
             ],
             [
              0.7777777777777778,
              "#fb9f3a"
             ],
             [
              0.8888888888888888,
              "#fdca26"
             ],
             [
              1,
              "#f0f921"
             ]
            ],
            "type": "histogram2d"
           }
          ],
          "histogram2dcontour": [
           {
            "colorbar": {
             "outlinewidth": 0,
             "ticks": ""
            },
            "colorscale": [
             [
              0,
              "#0d0887"
             ],
             [
              0.1111111111111111,
              "#46039f"
             ],
             [
              0.2222222222222222,
              "#7201a8"
             ],
             [
              0.3333333333333333,
              "#9c179e"
             ],
             [
              0.4444444444444444,
              "#bd3786"
             ],
             [
              0.5555555555555556,
              "#d8576b"
             ],
             [
              0.6666666666666666,
              "#ed7953"
             ],
             [
              0.7777777777777778,
              "#fb9f3a"
             ],
             [
              0.8888888888888888,
              "#fdca26"
             ],
             [
              1,
              "#f0f921"
             ]
            ],
            "type": "histogram2dcontour"
           }
          ],
          "mesh3d": [
           {
            "colorbar": {
             "outlinewidth": 0,
             "ticks": ""
            },
            "type": "mesh3d"
           }
          ],
          "parcoords": [
           {
            "line": {
             "colorbar": {
              "outlinewidth": 0,
              "ticks": ""
             }
            },
            "type": "parcoords"
           }
          ],
          "pie": [
           {
            "automargin": true,
            "type": "pie"
           }
          ],
          "scatter": [
           {
            "fillpattern": {
             "fillmode": "overlay",
             "size": 10,
             "solidity": 0.2
            },
            "type": "scatter"
           }
          ],
          "scatter3d": [
           {
            "line": {
             "colorbar": {
              "outlinewidth": 0,
              "ticks": ""
             }
            },
            "marker": {
             "colorbar": {
              "outlinewidth": 0,
              "ticks": ""
             }
            },
            "type": "scatter3d"
           }
          ],
          "scattercarpet": [
           {
            "marker": {
             "colorbar": {
              "outlinewidth": 0,
              "ticks": ""
             }
            },
            "type": "scattercarpet"
           }
          ],
          "scattergeo": [
           {
            "marker": {
             "colorbar": {
              "outlinewidth": 0,
              "ticks": ""
             }
            },
            "type": "scattergeo"
           }
          ],
          "scattergl": [
           {
            "marker": {
             "colorbar": {
              "outlinewidth": 0,
              "ticks": ""
             }
            },
            "type": "scattergl"
           }
          ],
          "scattermap": [
           {
            "marker": {
             "colorbar": {
              "outlinewidth": 0,
              "ticks": ""
             }
            },
            "type": "scattermap"
           }
          ],
          "scattermapbox": [
           {
            "marker": {
             "colorbar": {
              "outlinewidth": 0,
              "ticks": ""
             }
            },
            "type": "scattermapbox"
           }
          ],
          "scatterpolar": [
           {
            "marker": {
             "colorbar": {
              "outlinewidth": 0,
              "ticks": ""
             }
            },
            "type": "scatterpolar"
           }
          ],
          "scatterpolargl": [
           {
            "marker": {
             "colorbar": {
              "outlinewidth": 0,
              "ticks": ""
             }
            },
            "type": "scatterpolargl"
           }
          ],
          "scatterternary": [
           {
            "marker": {
             "colorbar": {
              "outlinewidth": 0,
              "ticks": ""
             }
            },
            "type": "scatterternary"
           }
          ],
          "surface": [
           {
            "colorbar": {
             "outlinewidth": 0,
             "ticks": ""
            },
            "colorscale": [
             [
              0,
              "#0d0887"
             ],
             [
              0.1111111111111111,
              "#46039f"
             ],
             [
              0.2222222222222222,
              "#7201a8"
             ],
             [
              0.3333333333333333,
              "#9c179e"
             ],
             [
              0.4444444444444444,
              "#bd3786"
             ],
             [
              0.5555555555555556,
              "#d8576b"
             ],
             [
              0.6666666666666666,
              "#ed7953"
             ],
             [
              0.7777777777777778,
              "#fb9f3a"
             ],
             [
              0.8888888888888888,
              "#fdca26"
             ],
             [
              1,
              "#f0f921"
             ]
            ],
            "type": "surface"
           }
          ],
          "table": [
           {
            "cells": {
             "fill": {
              "color": "#EBF0F8"
             },
             "line": {
              "color": "white"
             }
            },
            "header": {
             "fill": {
              "color": "#C8D4E3"
             },
             "line": {
              "color": "white"
             }
            },
            "type": "table"
           }
          ]
         },
         "layout": {
          "annotationdefaults": {
           "arrowcolor": "#2a3f5f",
           "arrowhead": 0,
           "arrowwidth": 1
          },
          "autotypenumbers": "strict",
          "coloraxis": {
           "colorbar": {
            "outlinewidth": 0,
            "ticks": ""
           }
          },
          "colorscale": {
           "diverging": [
            [
             0,
             "#8e0152"
            ],
            [
             0.1,
             "#c51b7d"
            ],
            [
             0.2,
             "#de77ae"
            ],
            [
             0.3,
             "#f1b6da"
            ],
            [
             0.4,
             "#fde0ef"
            ],
            [
             0.5,
             "#f7f7f7"
            ],
            [
             0.6,
             "#e6f5d0"
            ],
            [
             0.7,
             "#b8e186"
            ],
            [
             0.8,
             "#7fbc41"
            ],
            [
             0.9,
             "#4d9221"
            ],
            [
             1,
             "#276419"
            ]
           ],
           "sequential": [
            [
             0,
             "#0d0887"
            ],
            [
             0.1111111111111111,
             "#46039f"
            ],
            [
             0.2222222222222222,
             "#7201a8"
            ],
            [
             0.3333333333333333,
             "#9c179e"
            ],
            [
             0.4444444444444444,
             "#bd3786"
            ],
            [
             0.5555555555555556,
             "#d8576b"
            ],
            [
             0.6666666666666666,
             "#ed7953"
            ],
            [
             0.7777777777777778,
             "#fb9f3a"
            ],
            [
             0.8888888888888888,
             "#fdca26"
            ],
            [
             1,
             "#f0f921"
            ]
           ],
           "sequentialminus": [
            [
             0,
             "#0d0887"
            ],
            [
             0.1111111111111111,
             "#46039f"
            ],
            [
             0.2222222222222222,
             "#7201a8"
            ],
            [
             0.3333333333333333,
             "#9c179e"
            ],
            [
             0.4444444444444444,
             "#bd3786"
            ],
            [
             0.5555555555555556,
             "#d8576b"
            ],
            [
             0.6666666666666666,
             "#ed7953"
            ],
            [
             0.7777777777777778,
             "#fb9f3a"
            ],
            [
             0.8888888888888888,
             "#fdca26"
            ],
            [
             1,
             "#f0f921"
            ]
           ]
          },
          "colorway": [
           "#636efa",
           "#EF553B",
           "#00cc96",
           "#ab63fa",
           "#FFA15A",
           "#19d3f3",
           "#FF6692",
           "#B6E880",
           "#FF97FF",
           "#FECB52"
          ],
          "font": {
           "color": "#2a3f5f"
          },
          "geo": {
           "bgcolor": "white",
           "lakecolor": "white",
           "landcolor": "#E5ECF6",
           "showlakes": true,
           "showland": true,
           "subunitcolor": "white"
          },
          "hoverlabel": {
           "align": "left"
          },
          "hovermode": "closest",
          "mapbox": {
           "style": "light"
          },
          "paper_bgcolor": "white",
          "plot_bgcolor": "#E5ECF6",
          "polar": {
           "angularaxis": {
            "gridcolor": "white",
            "linecolor": "white",
            "ticks": ""
           },
           "bgcolor": "#E5ECF6",
           "radialaxis": {
            "gridcolor": "white",
            "linecolor": "white",
            "ticks": ""
           }
          },
          "scene": {
           "xaxis": {
            "backgroundcolor": "#E5ECF6",
            "gridcolor": "white",
            "gridwidth": 2,
            "linecolor": "white",
            "showbackground": true,
            "ticks": "",
            "zerolinecolor": "white"
           },
           "yaxis": {
            "backgroundcolor": "#E5ECF6",
            "gridcolor": "white",
            "gridwidth": 2,
            "linecolor": "white",
            "showbackground": true,
            "ticks": "",
            "zerolinecolor": "white"
           },
           "zaxis": {
            "backgroundcolor": "#E5ECF6",
            "gridcolor": "white",
            "gridwidth": 2,
            "linecolor": "white",
            "showbackground": true,
            "ticks": "",
            "zerolinecolor": "white"
           }
          },
          "shapedefaults": {
           "line": {
            "color": "#2a3f5f"
           }
          },
          "ternary": {
           "aaxis": {
            "gridcolor": "white",
            "linecolor": "white",
            "ticks": ""
           },
           "baxis": {
            "gridcolor": "white",
            "linecolor": "white",
            "ticks": ""
           },
           "bgcolor": "#E5ECF6",
           "caxis": {
            "gridcolor": "white",
            "linecolor": "white",
            "ticks": ""
           }
          },
          "title": {
           "x": 0.05
          },
          "xaxis": {
           "automargin": true,
           "gridcolor": "white",
           "linecolor": "white",
           "ticks": "",
           "title": {
            "standoff": 15
           },
           "zerolinecolor": "white",
           "zerolinewidth": 2
          },
          "yaxis": {
           "automargin": true,
           "gridcolor": "white",
           "linecolor": "white",
           "ticks": "",
           "title": {
            "standoff": 15
           },
           "zerolinecolor": "white",
           "zerolinewidth": 2
          }
         }
        },
        "title": {
         "text": "RSV — OLS optimisé (série complète)"
        },
        "xaxis": {
         "title": {
          "text": "Semaine"
         }
        },
        "yaxis": {
         "title": {
          "text": "RSV"
         }
        }
       }
      }
     },
     "metadata": {},
     "output_type": "display_data"
    }
   ],
   "source": [
    "# ==========================================\n",
    "# 🧱 BLOC 2 — OLS (base + optimisé)\n",
    "# ==========================================\n",
    "\n",
    "Y = df_base[\"RSV\"].astype(float)\n",
    "X_cols_base = [\"cov12_lag\", \"MNP_lag\", \"work_lag\", \"sin52\", \"cos52\"]\n",
    "Xb = df_base[X_cols_base]\n",
    "ols_base = sm.OLS(Y, sm.add_constant(Xb)).fit(cov_type=\"HC3\")\n",
    "print(f\"OLS base : R²_adj={ols_base.rsquared_adj:.3f}, AIC={ols_base.aic:.1f}\")\n",
    "\n",
    "fig = go.Figure()\n",
    "fig.add_trace(go.Scatter(x=rsv[\"date_monday\"], y=rsv[\"RSV\"], name=\"RSV observé\", mode=\"lines\"))\n",
    "fig.add_trace(go.Scatter(x=df_base.index, y=ols_base.fittedvalues, name=\"OLS fitted\", mode=\"lines\", line=dict(dash=\"dot\")))\n",
    "fig.add_vline(x=COVID_START, line_dash=\"dash\", line_color=\"red\")\n",
    "fig.add_vline(x=VACC_START, line_dash=\"dash\", line_color=\"green\")\n",
    "fig.update_layout(title=\"RSV — OLS base (série complète)\", xaxis_title=\"Semaine\", yaxis_title=\"RSV\")\n",
    "fig.show()\n",
    "\n",
    "# ==== OLS optimisé ====\n",
    "best_r2, best_lags = -np.inf, (LAG_VACC, LAG_MNP, LAG_WORK)\n",
    "for lv, lm, lw in product(range(2,9), range(4,13), range(4,13)):\n",
    "    X_tmp = build_model_matrix(X_base, lags=(lv,lm,lw), mask_vars=mask_vars)\n",
    "    df_tmp = rsv.set_index(\"date_monday\")[[\"RSV\"]].join(X_tmp).dropna()\n",
    "    if len(df_tmp) < 40: continue\n",
    "    m = sm.OLS(df_tmp[\"RSV\"], sm.add_constant(df_tmp[X_cols_base])).fit()\n",
    "    if m.rsquared_adj > best_r2: best_r2, best_lags = m.rsquared_adj, (lv,lm,lw)\n",
    "print(f\"🥇 Lags optimaux : {best_lags}\")\n",
    "\n",
    "X_full_opt = build_model_matrix(X_base, lags=best_lags, mask_vars=mask_vars)\n",
    "\n",
    "df_opt = rsv.set_index(\"date_monday\")[[\"RSV\"]].join(X_full_opt).dropna()\n",
    "meteo = keyify(data[\"meteo_fr_weekly\"])[[\"year_iso\",\"week_iso_num\",\"tmean\"]]\n",
    "df_opt = keyify(df_opt.reset_index()).merge(meteo,on=[\"year_iso\",\"week_iso_num\"],how=\"left\").set_index(\"date_monday\").sort_index()\n",
    "\n",
    "df_opt[\"tmean_z\"]    = zscore(df_opt[\"tmean\"])\n",
    "df_opt[\"vacc_x_mnp\"] = df_opt[\"cov12_lag\"] * df_opt[\"MNP_lag\"]\n",
    "df_opt[\"RSV_lag1\"]   = df_opt[\"RSV\"].shift(1)\n",
    "df_opt[\"RSV_lag2\"]   = df_opt[\"RSV\"].shift(2)\n",
    "df_opt = df_opt.dropna()\n",
    "# ==========================================\n",
    "# ⚙️ Correction du décalage MNP (effet causal)\n",
    "# ==========================================\n",
    "\n",
    "# On crée une version décalée de MNP (effet retardé)\n",
    "LAG_MNP_EFFECT = 3  # environ 3 semaines après modification des comportements\n",
    "\n",
    "df_opt[\"MNP_lag_causal\"] = df_opt[\"MNP_lag\"].shift(LAG_MNP_EFFECT)\n",
    "df_opt[\"vacc_x_mnp_causal\"] = df_opt[\"cov12_lag\"] * df_opt[\"MNP_lag_causal\"]\n",
    "\n",
    "# On reconstruit la matrice de régression avec les nouvelles colonnes\n",
    "Xo_causal = df_opt[[\n",
    "    \"cov12_lag\", \"MNP_lag_causal\", \"work_lag\", \"tmean_z\",\n",
    "    \"vacc_x_mnp_causal\", \"RSV_lag1\", \"RSV_lag2\", \"sin52\", \"cos52\"\n",
    "]].dropna()\n",
    "\n",
    "# Recalcule du modèle\n",
    "ols_causal = sm.OLS(df_opt.loc[Xo_causal.index, \"RSV\"], sm.add_constant(Xo_causal)).fit(cov_type=\"HC3\")\n",
    "\n",
    "print(\"✅ Modèle OLS causal recalibré (avec décalage MNP=+3 sem)\")\n",
    "print(f\"R²_adj = {ols_causal.rsquared_adj:.3f}, AIC = {ols_causal.aic:.1f}\")\n",
    "display(ols_causal.summary())\n",
    "\n",
    "Xo = df_opt[[\"cov12_lag\",\"MNP_lag\",\"work_lag\",\"tmean_z\",\"vacc_x_mnp\",\"RSV_lag1\",\"RSV_lag2\",\"sin52\",\"cos52\"]]\n",
    "ols_opt = sm.OLS(df_opt[\"RSV\"], sm.add_constant(Xo)).fit(cov_type=\"HC3\")\n",
    "\n",
    "fig = go.Figure()\n",
    "fig.add_trace(go.Scatter(x=rsv[\"date_monday\"], y=rsv[\"RSV\"], name=\"RSV observé\", mode=\"lines\"))\n",
    "fig.add_trace(go.Scatter(x=df_opt.index, y=ols_opt.fittedvalues, name=\"OLS optimisé\", mode=\"lines\", line=dict(dash=\"dot\")))\n",
    "fig.add_vline(x=COVID_START, line_dash=\"dash\", line_color=\"red\")\n",
    "fig.add_vline(x=VACC_START, line_dash=\"dash\", line_color=\"green\")\n",
    "fig.update_layout(title=\"RSV — OLS optimisé (série complète)\", xaxis_title=\"Semaine\", yaxis_title=\"RSV\")\n",
    "fig.show()\n"
   ]
  },
  {
   "cell_type": "code",
   "execution_count": 19,
   "id": "d75b17bb",
   "metadata": {},
   "outputs": [
    {
     "name": "stdout",
     "output_type": "stream",
     "text": [
      "=== ITS (base, HAC) — Résumé concis ===\n",
      "AIC=1478.0 | BIC=1488.3 | DW=0.092\n"
     ]
    },
    {
     "data": {
      "application/vnd.plotly.v1+json": {
       "config": {
        "plotlyServerURL": "https://plot.ly"
       },
       "data": [
        {
         "line": {
          "color": "black",
          "width": 2
         },
         "mode": "lines",
         "name": "RSV observé",
         "type": "scatter",
         "x": [
          "2019-12-30T00:00:00.000000000",
          "2020-01-06T00:00:00.000000000",
          "2020-01-13T00:00:00.000000000",
          "2020-01-20T00:00:00.000000000",
          "2020-01-27T00:00:00.000000000",
          "2020-02-03T00:00:00.000000000",
          "2020-02-10T00:00:00.000000000",
          "2020-02-17T00:00:00.000000000",
          "2020-02-24T00:00:00.000000000",
          "2020-03-02T00:00:00.000000000",
          "2020-03-09T00:00:00.000000000",
          "2020-03-16T00:00:00.000000000",
          "2020-03-23T00:00:00.000000000",
          "2020-03-30T00:00:00.000000000",
          "2020-04-06T00:00:00.000000000",
          "2020-04-13T00:00:00.000000000",
          "2020-04-20T00:00:00.000000000",
          "2020-04-27T00:00:00.000000000",
          "2020-05-04T00:00:00.000000000",
          "2020-05-11T00:00:00.000000000",
          "2020-05-18T00:00:00.000000000",
          "2020-05-25T00:00:00.000000000",
          "2020-06-01T00:00:00.000000000",
          "2020-06-08T00:00:00.000000000",
          "2020-06-15T00:00:00.000000000",
          "2020-06-22T00:00:00.000000000",
          "2020-06-29T00:00:00.000000000",
          "2020-07-06T00:00:00.000000000",
          "2020-07-13T00:00:00.000000000",
          "2020-07-20T00:00:00.000000000",
          "2020-07-27T00:00:00.000000000",
          "2020-08-03T00:00:00.000000000",
          "2020-08-10T00:00:00.000000000",
          "2020-08-17T00:00:00.000000000",
          "2020-08-24T00:00:00.000000000",
          "2020-08-31T00:00:00.000000000",
          "2020-09-07T00:00:00.000000000",
          "2020-09-14T00:00:00.000000000",
          "2020-09-21T00:00:00.000000000",
          "2020-09-28T00:00:00.000000000",
          "2020-10-05T00:00:00.000000000",
          "2020-10-12T00:00:00.000000000",
          "2020-10-19T00:00:00.000000000",
          "2020-10-26T00:00:00.000000000",
          "2020-11-02T00:00:00.000000000",
          "2020-11-09T00:00:00.000000000",
          "2020-11-16T00:00:00.000000000",
          "2020-11-23T00:00:00.000000000",
          "2020-11-30T00:00:00.000000000",
          "2020-12-07T00:00:00.000000000",
          "2020-12-14T00:00:00.000000000",
          "2020-12-21T00:00:00.000000000",
          "2020-12-28T00:00:00.000000000",
          "2021-01-04T00:00:00.000000000",
          "2021-01-11T00:00:00.000000000",
          "2021-01-18T00:00:00.000000000",
          "2021-01-25T00:00:00.000000000",
          "2021-02-01T00:00:00.000000000",
          "2021-02-08T00:00:00.000000000",
          "2021-02-15T00:00:00.000000000",
          "2021-02-22T00:00:00.000000000",
          "2021-03-01T00:00:00.000000000",
          "2021-03-08T00:00:00.000000000",
          "2021-03-15T00:00:00.000000000",
          "2021-03-22T00:00:00.000000000",
          "2021-03-29T00:00:00.000000000",
          "2021-04-05T00:00:00.000000000",
          "2021-04-12T00:00:00.000000000",
          "2021-04-19T00:00:00.000000000",
          "2021-04-26T00:00:00.000000000",
          "2021-05-03T00:00:00.000000000",
          "2021-05-10T00:00:00.000000000",
          "2021-05-17T00:00:00.000000000",
          "2021-05-24T00:00:00.000000000",
          "2021-05-31T00:00:00.000000000",
          "2021-06-07T00:00:00.000000000",
          "2021-06-14T00:00:00.000000000",
          "2021-06-21T00:00:00.000000000",
          "2021-06-28T00:00:00.000000000",
          "2021-07-05T00:00:00.000000000",
          "2021-07-12T00:00:00.000000000",
          "2021-07-19T00:00:00.000000000",
          "2021-07-26T00:00:00.000000000",
          "2021-08-02T00:00:00.000000000",
          "2021-08-09T00:00:00.000000000",
          "2021-08-16T00:00:00.000000000",
          "2021-08-23T00:00:00.000000000",
          "2021-08-30T00:00:00.000000000",
          "2021-09-06T00:00:00.000000000",
          "2021-09-13T00:00:00.000000000",
          "2021-09-20T00:00:00.000000000",
          "2021-09-27T00:00:00.000000000",
          "2021-10-04T00:00:00.000000000",
          "2021-10-11T00:00:00.000000000",
          "2021-10-18T00:00:00.000000000",
          "2021-10-25T00:00:00.000000000",
          "2021-11-01T00:00:00.000000000",
          "2021-11-08T00:00:00.000000000",
          "2021-11-15T00:00:00.000000000",
          "2021-11-22T00:00:00.000000000",
          "2021-11-29T00:00:00.000000000",
          "2021-12-06T00:00:00.000000000",
          "2021-12-13T00:00:00.000000000",
          "2021-12-20T00:00:00.000000000",
          "2021-12-27T00:00:00.000000000",
          "2022-01-03T00:00:00.000000000",
          "2022-01-10T00:00:00.000000000",
          "2022-01-17T00:00:00.000000000",
          "2022-01-24T00:00:00.000000000",
          "2022-01-31T00:00:00.000000000",
          "2022-02-07T00:00:00.000000000",
          "2022-02-14T00:00:00.000000000",
          "2022-02-21T00:00:00.000000000",
          "2022-02-28T00:00:00.000000000",
          "2022-03-07T00:00:00.000000000",
          "2022-03-14T00:00:00.000000000",
          "2022-03-21T00:00:00.000000000",
          "2022-03-28T00:00:00.000000000",
          "2022-04-04T00:00:00.000000000",
          "2022-04-11T00:00:00.000000000",
          "2022-04-18T00:00:00.000000000",
          "2022-04-25T00:00:00.000000000",
          "2022-05-02T00:00:00.000000000",
          "2022-05-09T00:00:00.000000000",
          "2022-05-16T00:00:00.000000000",
          "2022-05-23T00:00:00.000000000",
          "2022-05-30T00:00:00.000000000",
          "2022-06-06T00:00:00.000000000",
          "2022-06-13T00:00:00.000000000",
          "2022-06-20T00:00:00.000000000",
          "2022-06-27T00:00:00.000000000",
          "2022-07-04T00:00:00.000000000",
          "2022-07-11T00:00:00.000000000",
          "2022-07-18T00:00:00.000000000",
          "2022-07-25T00:00:00.000000000",
          "2022-08-01T00:00:00.000000000",
          "2022-08-08T00:00:00.000000000",
          "2022-08-15T00:00:00.000000000",
          "2022-08-22T00:00:00.000000000",
          "2022-08-29T00:00:00.000000000",
          "2022-09-05T00:00:00.000000000",
          "2022-09-12T00:00:00.000000000",
          "2022-09-19T00:00:00.000000000",
          "2022-09-26T00:00:00.000000000",
          "2022-10-03T00:00:00.000000000",
          "2022-10-10T00:00:00.000000000",
          "2022-10-17T00:00:00.000000000",
          "2022-10-24T00:00:00.000000000",
          "2022-10-31T00:00:00.000000000",
          "2022-11-07T00:00:00.000000000",
          "2022-11-14T00:00:00.000000000",
          "2022-11-21T00:00:00.000000000",
          "2022-11-28T00:00:00.000000000",
          "2022-12-05T00:00:00.000000000",
          "2022-12-12T00:00:00.000000000",
          "2022-12-19T00:00:00.000000000",
          "2022-12-26T00:00:00.000000000",
          "2023-01-02T00:00:00.000000000",
          "2023-01-09T00:00:00.000000000",
          "2023-01-16T00:00:00.000000000",
          "2023-01-23T00:00:00.000000000",
          "2023-01-30T00:00:00.000000000",
          "2023-02-06T00:00:00.000000000",
          "2023-02-13T00:00:00.000000000",
          "2023-02-20T00:00:00.000000000",
          "2023-02-27T00:00:00.000000000",
          "2023-03-06T00:00:00.000000000",
          "2023-03-13T00:00:00.000000000",
          "2023-03-20T00:00:00.000000000",
          "2023-03-27T00:00:00.000000000",
          "2023-04-03T00:00:00.000000000",
          "2023-04-10T00:00:00.000000000",
          "2023-04-17T00:00:00.000000000",
          "2023-04-24T00:00:00.000000000",
          "2023-05-01T00:00:00.000000000",
          "2023-05-08T00:00:00.000000000",
          "2023-05-15T00:00:00.000000000",
          "2023-05-22T00:00:00.000000000",
          "2023-05-29T00:00:00.000000000",
          "2023-06-05T00:00:00.000000000",
          "2023-06-12T00:00:00.000000000",
          "2023-06-19T00:00:00.000000000",
          "2023-06-26T00:00:00.000000000",
          "2023-07-03T00:00:00.000000000",
          "2023-07-10T00:00:00.000000000",
          "2023-07-17T00:00:00.000000000",
          "2023-07-24T00:00:00.000000000",
          "2023-07-31T00:00:00.000000000",
          "2023-08-07T00:00:00.000000000",
          "2023-08-14T00:00:00.000000000",
          "2023-08-21T00:00:00.000000000",
          "2023-08-28T00:00:00.000000000",
          "2023-09-04T00:00:00.000000000",
          "2023-09-11T00:00:00.000000000",
          "2023-09-18T00:00:00.000000000",
          "2023-09-25T00:00:00.000000000",
          "2023-10-02T00:00:00.000000000",
          "2023-10-09T00:00:00.000000000",
          "2023-10-16T00:00:00.000000000",
          "2023-10-23T00:00:00.000000000",
          "2023-10-30T00:00:00.000000000",
          "2023-11-06T00:00:00.000000000",
          "2023-11-13T00:00:00.000000000",
          "2023-11-20T00:00:00.000000000",
          "2023-11-27T00:00:00.000000000",
          "2023-12-04T00:00:00.000000000",
          "2023-12-11T00:00:00.000000000",
          "2023-12-18T00:00:00.000000000",
          "2023-12-25T00:00:00.000000000",
          "2024-01-01T00:00:00.000000000",
          "2024-01-08T00:00:00.000000000",
          "2024-01-15T00:00:00.000000000",
          "2024-01-22T00:00:00.000000000",
          "2024-01-29T00:00:00.000000000",
          "2024-02-05T00:00:00.000000000",
          "2024-02-12T00:00:00.000000000",
          "2024-02-19T00:00:00.000000000",
          "2024-02-26T00:00:00.000000000",
          "2024-03-04T00:00:00.000000000",
          "2024-03-11T00:00:00.000000000",
          "2024-03-18T00:00:00.000000000",
          "2024-03-25T00:00:00.000000000",
          "2024-04-01T00:00:00.000000000",
          "2024-04-08T00:00:00.000000000",
          "2024-04-15T00:00:00.000000000",
          "2024-04-22T00:00:00.000000000",
          "2024-04-29T00:00:00.000000000",
          "2024-05-06T00:00:00.000000000",
          "2024-05-13T00:00:00.000000000",
          "2024-05-20T00:00:00.000000000",
          "2024-05-27T00:00:00.000000000",
          "2024-06-03T00:00:00.000000000",
          "2024-06-10T00:00:00.000000000",
          "2024-06-17T00:00:00.000000000",
          "2024-06-24T00:00:00.000000000",
          "2024-07-01T00:00:00.000000000",
          "2024-07-08T00:00:00.000000000",
          "2024-07-15T00:00:00.000000000",
          "2024-07-22T00:00:00.000000000",
          "2024-07-29T00:00:00.000000000",
          "2024-08-05T00:00:00.000000000",
          "2024-08-12T00:00:00.000000000",
          "2024-08-19T00:00:00.000000000",
          "2024-08-26T00:00:00.000000000",
          "2024-09-02T00:00:00.000000000",
          "2024-09-09T00:00:00.000000000",
          "2024-09-16T00:00:00.000000000",
          "2024-09-23T00:00:00.000000000",
          "2024-09-30T00:00:00.000000000",
          "2024-10-07T00:00:00.000000000",
          "2024-10-14T00:00:00.000000000",
          "2024-10-21T00:00:00.000000000",
          "2024-10-28T00:00:00.000000000",
          "2024-11-04T00:00:00.000000000",
          "2024-11-11T00:00:00.000000000",
          "2024-11-18T00:00:00.000000000",
          "2024-11-25T00:00:00.000000000",
          "2024-12-02T00:00:00.000000000",
          "2024-12-09T00:00:00.000000000",
          "2024-12-16T00:00:00.000000000",
          "2024-12-23T00:00:00.000000000",
          "2024-12-30T00:00:00.000000000",
          "2025-01-06T00:00:00.000000000",
          "2025-01-13T00:00:00.000000000",
          "2025-01-20T00:00:00.000000000",
          "2025-01-27T00:00:00.000000000",
          "2025-02-03T00:00:00.000000000",
          "2025-02-10T00:00:00.000000000",
          "2025-02-17T00:00:00.000000000",
          "2025-02-24T00:00:00.000000000",
          "2025-03-03T00:00:00.000000000",
          "2025-03-10T00:00:00.000000000",
          "2025-03-17T00:00:00.000000000",
          "2025-03-24T00:00:00.000000000",
          "2025-03-31T00:00:00.000000000",
          "2025-04-07T00:00:00.000000000",
          "2025-04-14T00:00:00.000000000",
          "2025-04-21T00:00:00.000000000",
          "2025-04-28T00:00:00.000000000",
          "2025-05-05T00:00:00.000000000",
          "2025-05-12T00:00:00.000000000",
          "2025-05-19T00:00:00.000000000",
          "2025-05-26T00:00:00.000000000",
          "2025-06-02T00:00:00.000000000",
          "2025-06-09T00:00:00.000000000",
          "2025-06-16T00:00:00.000000000",
          "2025-06-23T00:00:00.000000000",
          "2025-06-30T00:00:00.000000000",
          "2025-07-07T00:00:00.000000000",
          "2025-07-14T00:00:00.000000000",
          "2025-07-21T00:00:00.000000000",
          "2025-07-28T00:00:00.000000000",
          "2025-08-04T00:00:00.000000000"
         ],
         "y": {
          "bdata": "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",
          "dtype": "f8"
         }
        },
        {
         "line": {
          "color": "royalblue",
          "dash": "dot",
          "width": 2
         },
         "mode": "lines",
         "name": "ITS fitted",
         "type": "scatter",
         "x": [
          "2021-01-25T00:00:00.000000000",
          "2021-02-01T00:00:00.000000000",
          "2021-02-08T00:00:00.000000000",
          "2021-02-15T00:00:00.000000000",
          "2021-02-22T00:00:00.000000000",
          "2021-03-01T00:00:00.000000000",
          "2021-03-08T00:00:00.000000000",
          "2021-03-15T00:00:00.000000000",
          "2021-03-22T00:00:00.000000000",
          "2021-03-29T00:00:00.000000000",
          "2021-04-05T00:00:00.000000000",
          "2021-04-12T00:00:00.000000000",
          "2021-04-19T00:00:00.000000000",
          "2021-04-26T00:00:00.000000000",
          "2021-05-03T00:00:00.000000000",
          "2021-05-10T00:00:00.000000000",
          "2021-05-17T00:00:00.000000000",
          "2021-05-24T00:00:00.000000000",
          "2021-05-31T00:00:00.000000000",
          "2021-06-07T00:00:00.000000000",
          "2021-06-14T00:00:00.000000000",
          "2021-06-21T00:00:00.000000000",
          "2021-06-28T00:00:00.000000000",
          "2021-07-05T00:00:00.000000000",
          "2021-07-12T00:00:00.000000000",
          "2021-07-19T00:00:00.000000000",
          "2021-07-26T00:00:00.000000000",
          "2021-08-02T00:00:00.000000000",
          "2021-08-09T00:00:00.000000000",
          "2021-08-16T00:00:00.000000000",
          "2021-08-23T00:00:00.000000000",
          "2021-08-30T00:00:00.000000000",
          "2021-09-06T00:00:00.000000000",
          "2021-09-13T00:00:00.000000000",
          "2021-09-20T00:00:00.000000000",
          "2021-09-27T00:00:00.000000000",
          "2021-10-04T00:00:00.000000000",
          "2021-10-11T00:00:00.000000000",
          "2021-10-18T00:00:00.000000000",
          "2021-10-25T00:00:00.000000000",
          "2021-11-01T00:00:00.000000000",
          "2021-11-08T00:00:00.000000000",
          "2021-11-15T00:00:00.000000000",
          "2021-11-22T00:00:00.000000000",
          "2021-11-29T00:00:00.000000000",
          "2021-12-06T00:00:00.000000000",
          "2021-12-13T00:00:00.000000000",
          "2021-12-20T00:00:00.000000000",
          "2021-12-27T00:00:00.000000000",
          "2022-01-03T00:00:00.000000000",
          "2022-01-10T00:00:00.000000000",
          "2022-01-17T00:00:00.000000000",
          "2022-01-24T00:00:00.000000000",
          "2022-01-31T00:00:00.000000000",
          "2022-02-07T00:00:00.000000000",
          "2022-02-14T00:00:00.000000000",
          "2022-02-21T00:00:00.000000000",
          "2022-02-28T00:00:00.000000000",
          "2022-03-07T00:00:00.000000000",
          "2022-03-14T00:00:00.000000000",
          "2022-03-21T00:00:00.000000000",
          "2022-03-28T00:00:00.000000000",
          "2022-04-04T00:00:00.000000000",
          "2022-04-11T00:00:00.000000000",
          "2022-04-18T00:00:00.000000000",
          "2022-04-25T00:00:00.000000000",
          "2022-05-02T00:00:00.000000000",
          "2022-05-09T00:00:00.000000000",
          "2022-05-16T00:00:00.000000000",
          "2022-05-23T00:00:00.000000000",
          "2022-05-30T00:00:00.000000000",
          "2022-06-06T00:00:00.000000000",
          "2022-06-13T00:00:00.000000000",
          "2022-06-20T00:00:00.000000000",
          "2022-06-27T00:00:00.000000000",
          "2022-07-04T00:00:00.000000000",
          "2022-07-11T00:00:00.000000000",
          "2022-07-18T00:00:00.000000000",
          "2022-07-25T00:00:00.000000000",
          "2022-08-01T00:00:00.000000000",
          "2022-08-08T00:00:00.000000000",
          "2022-08-15T00:00:00.000000000",
          "2022-08-22T00:00:00.000000000",
          "2022-08-29T00:00:00.000000000",
          "2022-09-05T00:00:00.000000000",
          "2022-09-12T00:00:00.000000000",
          "2022-09-19T00:00:00.000000000",
          "2022-09-26T00:00:00.000000000",
          "2022-10-03T00:00:00.000000000",
          "2022-10-10T00:00:00.000000000",
          "2022-10-17T00:00:00.000000000",
          "2022-10-24T00:00:00.000000000",
          "2022-10-31T00:00:00.000000000",
          "2022-11-07T00:00:00.000000000",
          "2022-11-14T00:00:00.000000000",
          "2022-11-21T00:00:00.000000000",
          "2022-11-28T00:00:00.000000000",
          "2022-12-05T00:00:00.000000000"
         ],
         "y": {
          "bdata": "JN3HebZIk0Bo2uBbF2eSQI1+eiHFbpFA27nUhnRjkEA8RmtfQpKOQHQZFJL9R4xAqK6tstLwiUBUnhL1qZWHQEpgznN6P4VAid5cuCj3gkAgermIZcWAQLJVVewaZX1AcwzMTBONeUCmAyaXZBF2QMid1HJm/3JA0FmX++VicEC67gdn84tsQGTIwLS3YWlAuBPHbZdTZ0DEHQqJ7GlmQLQw1jnNqGZAZCdOrvwPaEAsm3by65pqQNAcg/TKQG5APJJvtVR6cUBCZpGQ01J0QGwg0nuZn3dAdGI81atUe0DnCKSgimR/QF6phHYx4IFAYfKpFSMshECnOujTso2GQPvANaQo/IhA5ey3Upxui0B3RuPEFtyNQN7xnbjZHZBA1DHjyGBCkUA5J55KcleSQFEH9KoZWZNASBfR0KpDlECH/ljSzxOVQEbdm2iVxpVAp0MU83VZlkA4ttDhYsqWQI56I2PMF5dAEqcuOKdAl0B4soiacESXQGdBbSQwI5dAsMBbtHfdlkBBvo1MYXSWQBDLNfaK6ZVA0uPgtxA/lUAMQ4S1hHeUQFFAnZfllZNAdOQ2XZOdkkDCH5HCQpKRQAUJcmvvd5BAQuWMCZqljkB2eiYqb06MQB9qi2xG84lAFCxH6xadh0BYqtUvxVSFQPJFMgACI4NAsHaj7SkQgUAgpL07TEh+QDSbF4adzHpAWDXGYZ+6d0Bu8YjqHh51QPmOdaIyAXNAz/tRyRRscUB5IdWlBGVwQPhM7WZe4G9A96/ci58PcEBIqxhGN8NwQC/lLOiuCHJA/iUzaZ7bc0DVKWGkjTV2QNv9gn8MDnlAE7jDatJafED+/BZi8geAQEDQysfhD4JANHX97c09hEAtviKNv4mGQH4GYUtP64hAx4yuG8VZi0CnuDDKOMyNQCEJLp7ZHJBAyFda9KdMkUC6l58EL3GSQCSNWoZAhpNANG2w5ueHlEAvfY0MeXKVQG5kFQ6eQpZAKkNYpGP1lkCNqdAuRIiXQB4cjR0x+ZdAdODfnppGmED5DOtzdW+YQA==",
          "dtype": "f8"
         }
        }
       ],
       "layout": {
        "shapes": [
         {
          "line": {
           "color": "red",
           "dash": "dash"
          },
          "type": "line",
          "x0": "2020-03-01T00:00:00",
          "x1": "2020-03-01T00:00:00",
          "xref": "x",
          "y0": 0,
          "y1": 1,
          "yref": "y domain"
         },
         {
          "line": {
           "color": "green",
           "dash": "dash"
          },
          "type": "line",
          "x0": "2021-01-01T00:00:00",
          "x1": "2021-01-01T00:00:00",
          "xref": "x",
          "y0": 0,
          "y1": 1,
          "yref": "y domain"
         }
        ],
        "template": {
         "data": {
          "bar": [
           {
            "error_x": {
             "color": "#2a3f5f"
            },
            "error_y": {
             "color": "#2a3f5f"
            },
            "marker": {
             "line": {
              "color": "#E5ECF6",
              "width": 0.5
             },
             "pattern": {
              "fillmode": "overlay",
              "size": 10,
              "solidity": 0.2
             }
            },
            "type": "bar"
           }
          ],
          "barpolar": [
           {
            "marker": {
             "line": {
              "color": "#E5ECF6",
              "width": 0.5
             },
             "pattern": {
              "fillmode": "overlay",
              "size": 10,
              "solidity": 0.2
             }
            },
            "type": "barpolar"
           }
          ],
          "carpet": [
           {
            "aaxis": {
             "endlinecolor": "#2a3f5f",
             "gridcolor": "white",
             "linecolor": "white",
             "minorgridcolor": "white",
             "startlinecolor": "#2a3f5f"
            },
            "baxis": {
             "endlinecolor": "#2a3f5f",
             "gridcolor": "white",
             "linecolor": "white",
             "minorgridcolor": "white",
             "startlinecolor": "#2a3f5f"
            },
            "type": "carpet"
           }
          ],
          "choropleth": [
           {
            "colorbar": {
             "outlinewidth": 0,
             "ticks": ""
            },
            "type": "choropleth"
           }
          ],
          "contour": [
           {
            "colorbar": {
             "outlinewidth": 0,
             "ticks": ""
            },
            "colorscale": [
             [
              0,
              "#0d0887"
             ],
             [
              0.1111111111111111,
              "#46039f"
             ],
             [
              0.2222222222222222,
              "#7201a8"
             ],
             [
              0.3333333333333333,
              "#9c179e"
             ],
             [
              0.4444444444444444,
              "#bd3786"
             ],
             [
              0.5555555555555556,
              "#d8576b"
             ],
             [
              0.6666666666666666,
              "#ed7953"
             ],
             [
              0.7777777777777778,
              "#fb9f3a"
             ],
             [
              0.8888888888888888,
              "#fdca26"
             ],
             [
              1,
              "#f0f921"
             ]
            ],
            "type": "contour"
           }
          ],
          "contourcarpet": [
           {
            "colorbar": {
             "outlinewidth": 0,
             "ticks": ""
            },
            "type": "contourcarpet"
           }
          ],
          "heatmap": [
           {
            "colorbar": {
             "outlinewidth": 0,
             "ticks": ""
            },
            "colorscale": [
             [
              0,
              "#0d0887"
             ],
             [
              0.1111111111111111,
              "#46039f"
             ],
             [
              0.2222222222222222,
              "#7201a8"
             ],
             [
              0.3333333333333333,
              "#9c179e"
             ],
             [
              0.4444444444444444,
              "#bd3786"
             ],
             [
              0.5555555555555556,
              "#d8576b"
             ],
             [
              0.6666666666666666,
              "#ed7953"
             ],
             [
              0.7777777777777778,
              "#fb9f3a"
             ],
             [
              0.8888888888888888,
              "#fdca26"
             ],
             [
              1,
              "#f0f921"
             ]
            ],
            "type": "heatmap"
           }
          ],
          "histogram": [
           {
            "marker": {
             "pattern": {
              "fillmode": "overlay",
              "size": 10,
              "solidity": 0.2
             }
            },
            "type": "histogram"
           }
          ],
          "histogram2d": [
           {
            "colorbar": {
             "outlinewidth": 0,
             "ticks": ""
            },
            "colorscale": [
             [
              0,
              "#0d0887"
             ],
             [
              0.1111111111111111,
              "#46039f"
             ],
             [
              0.2222222222222222,
              "#7201a8"
             ],
             [
              0.3333333333333333,
              "#9c179e"
             ],
             [
              0.4444444444444444,
              "#bd3786"
             ],
             [
              0.5555555555555556,
              "#d8576b"
             ],
             [
              0.6666666666666666,
              "#ed7953"
             ],
             [
              0.7777777777777778,
              "#fb9f3a"
             ],
             [
              0.8888888888888888,
              "#fdca26"
             ],
             [
              1,
              "#f0f921"
             ]
            ],
            "type": "histogram2d"
           }
          ],
          "histogram2dcontour": [
           {
            "colorbar": {
             "outlinewidth": 0,
             "ticks": ""
            },
            "colorscale": [
             [
              0,
              "#0d0887"
             ],
             [
              0.1111111111111111,
              "#46039f"
             ],
             [
              0.2222222222222222,
              "#7201a8"
             ],
             [
              0.3333333333333333,
              "#9c179e"
             ],
             [
              0.4444444444444444,
              "#bd3786"
             ],
             [
              0.5555555555555556,
              "#d8576b"
             ],
             [
              0.6666666666666666,
              "#ed7953"
             ],
             [
              0.7777777777777778,
              "#fb9f3a"
             ],
             [
              0.8888888888888888,
              "#fdca26"
             ],
             [
              1,
              "#f0f921"
             ]
            ],
            "type": "histogram2dcontour"
           }
          ],
          "mesh3d": [
           {
            "colorbar": {
             "outlinewidth": 0,
             "ticks": ""
            },
            "type": "mesh3d"
           }
          ],
          "parcoords": [
           {
            "line": {
             "colorbar": {
              "outlinewidth": 0,
              "ticks": ""
             }
            },
            "type": "parcoords"
           }
          ],
          "pie": [
           {
            "automargin": true,
            "type": "pie"
           }
          ],
          "scatter": [
           {
            "fillpattern": {
             "fillmode": "overlay",
             "size": 10,
             "solidity": 0.2
            },
            "type": "scatter"
           }
          ],
          "scatter3d": [
           {
            "line": {
             "colorbar": {
              "outlinewidth": 0,
              "ticks": ""
             }
            },
            "marker": {
             "colorbar": {
              "outlinewidth": 0,
              "ticks": ""
             }
            },
            "type": "scatter3d"
           }
          ],
          "scattercarpet": [
           {
            "marker": {
             "colorbar": {
              "outlinewidth": 0,
              "ticks": ""
             }
            },
            "type": "scattercarpet"
           }
          ],
          "scattergeo": [
           {
            "marker": {
             "colorbar": {
              "outlinewidth": 0,
              "ticks": ""
             }
            },
            "type": "scattergeo"
           }
          ],
          "scattergl": [
           {
            "marker": {
             "colorbar": {
              "outlinewidth": 0,
              "ticks": ""
             }
            },
            "type": "scattergl"
           }
          ],
          "scattermap": [
           {
            "marker": {
             "colorbar": {
              "outlinewidth": 0,
              "ticks": ""
             }
            },
            "type": "scattermap"
           }
          ],
          "scattermapbox": [
           {
            "marker": {
             "colorbar": {
              "outlinewidth": 0,
              "ticks": ""
             }
            },
            "type": "scattermapbox"
           }
          ],
          "scatterpolar": [
           {
            "marker": {
             "colorbar": {
              "outlinewidth": 0,
              "ticks": ""
             }
            },
            "type": "scatterpolar"
           }
          ],
          "scatterpolargl": [
           {
            "marker": {
             "colorbar": {
              "outlinewidth": 0,
              "ticks": ""
             }
            },
            "type": "scatterpolargl"
           }
          ],
          "scatterternary": [
           {
            "marker": {
             "colorbar": {
              "outlinewidth": 0,
              "ticks": ""
             }
            },
            "type": "scatterternary"
           }
          ],
          "surface": [
           {
            "colorbar": {
             "outlinewidth": 0,
             "ticks": ""
            },
            "colorscale": [
             [
              0,
              "#0d0887"
             ],
             [
              0.1111111111111111,
              "#46039f"
             ],
             [
              0.2222222222222222,
              "#7201a8"
             ],
             [
              0.3333333333333333,
              "#9c179e"
             ],
             [
              0.4444444444444444,
              "#bd3786"
             ],
             [
              0.5555555555555556,
              "#d8576b"
             ],
             [
              0.6666666666666666,
              "#ed7953"
             ],
             [
              0.7777777777777778,
              "#fb9f3a"
             ],
             [
              0.8888888888888888,
              "#fdca26"
             ],
             [
              1,
              "#f0f921"
             ]
            ],
            "type": "surface"
           }
          ],
          "table": [
           {
            "cells": {
             "fill": {
              "color": "#EBF0F8"
             },
             "line": {
              "color": "white"
             }
            },
            "header": {
             "fill": {
              "color": "#C8D4E3"
             },
             "line": {
              "color": "white"
             }
            },
            "type": "table"
           }
          ]
         },
         "layout": {
          "annotationdefaults": {
           "arrowcolor": "#2a3f5f",
           "arrowhead": 0,
           "arrowwidth": 1
          },
          "autotypenumbers": "strict",
          "coloraxis": {
           "colorbar": {
            "outlinewidth": 0,
            "ticks": ""
           }
          },
          "colorscale": {
           "diverging": [
            [
             0,
             "#8e0152"
            ],
            [
             0.1,
             "#c51b7d"
            ],
            [
             0.2,
             "#de77ae"
            ],
            [
             0.3,
             "#f1b6da"
            ],
            [
             0.4,
             "#fde0ef"
            ],
            [
             0.5,
             "#f7f7f7"
            ],
            [
             0.6,
             "#e6f5d0"
            ],
            [
             0.7,
             "#b8e186"
            ],
            [
             0.8,
             "#7fbc41"
            ],
            [
             0.9,
             "#4d9221"
            ],
            [
             1,
             "#276419"
            ]
           ],
           "sequential": [
            [
             0,
             "#0d0887"
            ],
            [
             0.1111111111111111,
             "#46039f"
            ],
            [
             0.2222222222222222,
             "#7201a8"
            ],
            [
             0.3333333333333333,
             "#9c179e"
            ],
            [
             0.4444444444444444,
             "#bd3786"
            ],
            [
             0.5555555555555556,
             "#d8576b"
            ],
            [
             0.6666666666666666,
             "#ed7953"
            ],
            [
             0.7777777777777778,
             "#fb9f3a"
            ],
            [
             0.8888888888888888,
             "#fdca26"
            ],
            [
             1,
             "#f0f921"
            ]
           ],
           "sequentialminus": [
            [
             0,
             "#0d0887"
            ],
            [
             0.1111111111111111,
             "#46039f"
            ],
            [
             0.2222222222222222,
             "#7201a8"
            ],
            [
             0.3333333333333333,
             "#9c179e"
            ],
            [
             0.4444444444444444,
             "#bd3786"
            ],
            [
             0.5555555555555556,
             "#d8576b"
            ],
            [
             0.6666666666666666,
             "#ed7953"
            ],
            [
             0.7777777777777778,
             "#fb9f3a"
            ],
            [
             0.8888888888888888,
             "#fdca26"
            ],
            [
             1,
             "#f0f921"
            ]
           ]
          },
          "colorway": [
           "#636efa",
           "#EF553B",
           "#00cc96",
           "#ab63fa",
           "#FFA15A",
           "#19d3f3",
           "#FF6692",
           "#B6E880",
           "#FF97FF",
           "#FECB52"
          ],
          "font": {
           "color": "#2a3f5f"
          },
          "geo": {
           "bgcolor": "white",
           "lakecolor": "white",
           "landcolor": "#E5ECF6",
           "showlakes": true,
           "showland": true,
           "subunitcolor": "white"
          },
          "hoverlabel": {
           "align": "left"
          },
          "hovermode": "closest",
          "mapbox": {
           "style": "light"
          },
          "paper_bgcolor": "white",
          "plot_bgcolor": "#E5ECF6",
          "polar": {
           "angularaxis": {
            "gridcolor": "white",
            "linecolor": "white",
            "ticks": ""
           },
           "bgcolor": "#E5ECF6",
           "radialaxis": {
            "gridcolor": "white",
            "linecolor": "white",
            "ticks": ""
           }
          },
          "scene": {
           "xaxis": {
            "backgroundcolor": "#E5ECF6",
            "gridcolor": "white",
            "gridwidth": 2,
            "linecolor": "white",
            "showbackground": true,
            "ticks": "",
            "zerolinecolor": "white"
           },
           "yaxis": {
            "backgroundcolor": "#E5ECF6",
            "gridcolor": "white",
            "gridwidth": 2,
            "linecolor": "white",
            "showbackground": true,
            "ticks": "",
            "zerolinecolor": "white"
           },
           "zaxis": {
            "backgroundcolor": "#E5ECF6",
            "gridcolor": "white",
            "gridwidth": 2,
            "linecolor": "white",
            "showbackground": true,
            "ticks": "",
            "zerolinecolor": "white"
           }
          },
          "shapedefaults": {
           "line": {
            "color": "#2a3f5f"
           }
          },
          "ternary": {
           "aaxis": {
            "gridcolor": "white",
            "linecolor": "white",
            "ticks": ""
           },
           "baxis": {
            "gridcolor": "white",
            "linecolor": "white",
            "ticks": ""
           },
           "bgcolor": "#E5ECF6",
           "caxis": {
            "gridcolor": "white",
            "linecolor": "white",
            "ticks": ""
           }
          },
          "title": {
           "x": 0.05
          },
          "xaxis": {
           "automargin": true,
           "gridcolor": "white",
           "linecolor": "white",
           "ticks": "",
           "title": {
            "standoff": 15
           },
           "zerolinecolor": "white",
           "zerolinewidth": 2
          },
          "yaxis": {
           "automargin": true,
           "gridcolor": "white",
           "linecolor": "white",
           "ticks": "",
           "title": {
            "standoff": 15
           },
           "zerolinecolor": "white",
           "zerolinewidth": 2
          }
         }
        },
        "title": {
         "text": "ITS (base) — RSV Observé vs Ajusté (série complète)"
        },
        "xaxis": {
         "title": {
          "text": "Semaine"
         }
        },
        "yaxis": {
         "title": {
          "text": "RSV (taux)"
         }
        }
       }
      }
     },
     "metadata": {},
     "output_type": "display_data"
    },
    {
     "name": "stdout",
     "output_type": "stream",
     "text": [
      "🥇 ITS optimisé : AIC=1267.9 | K=3 | COVID=2020-02-02 | VACC=2021-01-29\n",
      "Durbin–Watson=0.532\n"
     ]
    },
    {
     "data": {
      "text/html": [
       "<div>\n",
       "<style scoped>\n",
       "    .dataframe tbody tr th:only-of-type {\n",
       "        vertical-align: middle;\n",
       "    }\n",
       "\n",
       "    .dataframe tbody tr th {\n",
       "        vertical-align: top;\n",
       "    }\n",
       "\n",
       "    .dataframe thead th {\n",
       "        text-align: right;\n",
       "    }\n",
       "</style>\n",
       "<table border=\"1\" class=\"dataframe\">\n",
       "  <thead>\n",
       "    <tr style=\"text-align: right;\">\n",
       "      <th></th>\n",
       "      <th>lb_stat</th>\n",
       "      <th>lb_pvalue</th>\n",
       "    </tr>\n",
       "  </thead>\n",
       "  <tbody>\n",
       "    <tr>\n",
       "      <th>8</th>\n",
       "      <td>78.362749</td>\n",
       "      <td>1.043489e-13</td>\n",
       "    </tr>\n",
       "    <tr>\n",
       "      <th>12</th>\n",
       "      <td>95.779436</td>\n",
       "      <td>3.720118e-15</td>\n",
       "    </tr>\n",
       "    <tr>\n",
       "      <th>24</th>\n",
       "      <td>118.766089</td>\n",
       "      <td>1.608537e-14</td>\n",
       "    </tr>\n",
       "  </tbody>\n",
       "</table>\n",
       "</div>"
      ],
      "text/plain": [
       "       lb_stat     lb_pvalue\n",
       "8    78.362749  1.043489e-13\n",
       "12   95.779436  3.720118e-15\n",
       "24  118.766089  1.608537e-14"
      ]
     },
     "metadata": {},
     "output_type": "display_data"
    },
    {
     "data": {
      "application/vnd.plotly.v1+json": {
       "config": {
        "plotlyServerURL": "https://plot.ly"
       },
       "data": [
        {
         "line": {
          "color": "black",
          "width": 2
         },
         "mode": "lines",
         "name": "RSV Observé",
         "type": "scatter",
         "x": [
          "2019-12-30T00:00:00.000000000",
          "2020-01-06T00:00:00.000000000",
          "2020-01-13T00:00:00.000000000",
          "2020-01-20T00:00:00.000000000",
          "2020-01-27T00:00:00.000000000",
          "2020-02-03T00:00:00.000000000",
          "2020-02-10T00:00:00.000000000",
          "2020-02-17T00:00:00.000000000",
          "2020-02-24T00:00:00.000000000",
          "2020-03-02T00:00:00.000000000",
          "2020-03-09T00:00:00.000000000",
          "2020-03-16T00:00:00.000000000",
          "2020-03-23T00:00:00.000000000",
          "2020-03-30T00:00:00.000000000",
          "2020-04-06T00:00:00.000000000",
          "2020-04-13T00:00:00.000000000",
          "2020-04-20T00:00:00.000000000",
          "2020-04-27T00:00:00.000000000",
          "2020-05-04T00:00:00.000000000",
          "2020-05-11T00:00:00.000000000",
          "2020-05-18T00:00:00.000000000",
          "2020-05-25T00:00:00.000000000",
          "2020-06-01T00:00:00.000000000",
          "2020-06-08T00:00:00.000000000",
          "2020-06-15T00:00:00.000000000",
          "2020-06-22T00:00:00.000000000",
          "2020-06-29T00:00:00.000000000",
          "2020-07-06T00:00:00.000000000",
          "2020-07-13T00:00:00.000000000",
          "2020-07-20T00:00:00.000000000",
          "2020-07-27T00:00:00.000000000",
          "2020-08-03T00:00:00.000000000",
          "2020-08-10T00:00:00.000000000",
          "2020-08-17T00:00:00.000000000",
          "2020-08-24T00:00:00.000000000",
          "2020-08-31T00:00:00.000000000",
          "2020-09-07T00:00:00.000000000",
          "2020-09-14T00:00:00.000000000",
          "2020-09-21T00:00:00.000000000",
          "2020-09-28T00:00:00.000000000",
          "2020-10-05T00:00:00.000000000",
          "2020-10-12T00:00:00.000000000",
          "2020-10-19T00:00:00.000000000",
          "2020-10-26T00:00:00.000000000",
          "2020-11-02T00:00:00.000000000",
          "2020-11-09T00:00:00.000000000",
          "2020-11-16T00:00:00.000000000",
          "2020-11-23T00:00:00.000000000",
          "2020-11-30T00:00:00.000000000",
          "2020-12-07T00:00:00.000000000",
          "2020-12-14T00:00:00.000000000",
          "2020-12-21T00:00:00.000000000",
          "2020-12-28T00:00:00.000000000",
          "2021-01-04T00:00:00.000000000",
          "2021-01-11T00:00:00.000000000",
          "2021-01-18T00:00:00.000000000",
          "2021-01-25T00:00:00.000000000",
          "2021-02-01T00:00:00.000000000",
          "2021-02-08T00:00:00.000000000",
          "2021-02-15T00:00:00.000000000",
          "2021-02-22T00:00:00.000000000",
          "2021-03-01T00:00:00.000000000",
          "2021-03-08T00:00:00.000000000",
          "2021-03-15T00:00:00.000000000",
          "2021-03-22T00:00:00.000000000",
          "2021-03-29T00:00:00.000000000",
          "2021-04-05T00:00:00.000000000",
          "2021-04-12T00:00:00.000000000",
          "2021-04-19T00:00:00.000000000",
          "2021-04-26T00:00:00.000000000",
          "2021-05-03T00:00:00.000000000",
          "2021-05-10T00:00:00.000000000",
          "2021-05-17T00:00:00.000000000",
          "2021-05-24T00:00:00.000000000",
          "2021-05-31T00:00:00.000000000",
          "2021-06-07T00:00:00.000000000",
          "2021-06-14T00:00:00.000000000",
          "2021-06-21T00:00:00.000000000",
          "2021-06-28T00:00:00.000000000",
          "2021-07-05T00:00:00.000000000",
          "2021-07-12T00:00:00.000000000",
          "2021-07-19T00:00:00.000000000",
          "2021-07-26T00:00:00.000000000",
          "2021-08-02T00:00:00.000000000",
          "2021-08-09T00:00:00.000000000",
          "2021-08-16T00:00:00.000000000",
          "2021-08-23T00:00:00.000000000",
          "2021-08-30T00:00:00.000000000",
          "2021-09-06T00:00:00.000000000",
          "2021-09-13T00:00:00.000000000",
          "2021-09-20T00:00:00.000000000",
          "2021-09-27T00:00:00.000000000",
          "2021-10-04T00:00:00.000000000",
          "2021-10-11T00:00:00.000000000",
          "2021-10-18T00:00:00.000000000",
          "2021-10-25T00:00:00.000000000",
          "2021-11-01T00:00:00.000000000",
          "2021-11-08T00:00:00.000000000",
          "2021-11-15T00:00:00.000000000",
          "2021-11-22T00:00:00.000000000",
          "2021-11-29T00:00:00.000000000",
          "2021-12-06T00:00:00.000000000",
          "2021-12-13T00:00:00.000000000",
          "2021-12-20T00:00:00.000000000",
          "2021-12-27T00:00:00.000000000",
          "2022-01-03T00:00:00.000000000",
          "2022-01-10T00:00:00.000000000",
          "2022-01-17T00:00:00.000000000",
          "2022-01-24T00:00:00.000000000",
          "2022-01-31T00:00:00.000000000",
          "2022-02-07T00:00:00.000000000",
          "2022-02-14T00:00:00.000000000",
          "2022-02-21T00:00:00.000000000",
          "2022-02-28T00:00:00.000000000",
          "2022-03-07T00:00:00.000000000",
          "2022-03-14T00:00:00.000000000",
          "2022-03-21T00:00:00.000000000",
          "2022-03-28T00:00:00.000000000",
          "2022-04-04T00:00:00.000000000",
          "2022-04-11T00:00:00.000000000",
          "2022-04-18T00:00:00.000000000",
          "2022-04-25T00:00:00.000000000",
          "2022-05-02T00:00:00.000000000",
          "2022-05-09T00:00:00.000000000",
          "2022-05-16T00:00:00.000000000",
          "2022-05-23T00:00:00.000000000",
          "2022-05-30T00:00:00.000000000",
          "2022-06-06T00:00:00.000000000",
          "2022-06-13T00:00:00.000000000",
          "2022-06-20T00:00:00.000000000",
          "2022-06-27T00:00:00.000000000",
          "2022-07-04T00:00:00.000000000",
          "2022-07-11T00:00:00.000000000",
          "2022-07-18T00:00:00.000000000",
          "2022-07-25T00:00:00.000000000",
          "2022-08-01T00:00:00.000000000",
          "2022-08-08T00:00:00.000000000",
          "2022-08-15T00:00:00.000000000",
          "2022-08-22T00:00:00.000000000",
          "2022-08-29T00:00:00.000000000",
          "2022-09-05T00:00:00.000000000",
          "2022-09-12T00:00:00.000000000",
          "2022-09-19T00:00:00.000000000",
          "2022-09-26T00:00:00.000000000",
          "2022-10-03T00:00:00.000000000",
          "2022-10-10T00:00:00.000000000",
          "2022-10-17T00:00:00.000000000",
          "2022-10-24T00:00:00.000000000",
          "2022-10-31T00:00:00.000000000",
          "2022-11-07T00:00:00.000000000",
          "2022-11-14T00:00:00.000000000",
          "2022-11-21T00:00:00.000000000",
          "2022-11-28T00:00:00.000000000",
          "2022-12-05T00:00:00.000000000",
          "2022-12-12T00:00:00.000000000",
          "2022-12-19T00:00:00.000000000",
          "2022-12-26T00:00:00.000000000",
          "2023-01-02T00:00:00.000000000",
          "2023-01-09T00:00:00.000000000",
          "2023-01-16T00:00:00.000000000",
          "2023-01-23T00:00:00.000000000",
          "2023-01-30T00:00:00.000000000",
          "2023-02-06T00:00:00.000000000",
          "2023-02-13T00:00:00.000000000",
          "2023-02-20T00:00:00.000000000",
          "2023-02-27T00:00:00.000000000",
          "2023-03-06T00:00:00.000000000",
          "2023-03-13T00:00:00.000000000",
          "2023-03-20T00:00:00.000000000",
          "2023-03-27T00:00:00.000000000",
          "2023-04-03T00:00:00.000000000",
          "2023-04-10T00:00:00.000000000",
          "2023-04-17T00:00:00.000000000",
          "2023-04-24T00:00:00.000000000",
          "2023-05-01T00:00:00.000000000",
          "2023-05-08T00:00:00.000000000",
          "2023-05-15T00:00:00.000000000",
          "2023-05-22T00:00:00.000000000",
          "2023-05-29T00:00:00.000000000",
          "2023-06-05T00:00:00.000000000",
          "2023-06-12T00:00:00.000000000",
          "2023-06-19T00:00:00.000000000",
          "2023-06-26T00:00:00.000000000",
          "2023-07-03T00:00:00.000000000",
          "2023-07-10T00:00:00.000000000",
          "2023-07-17T00:00:00.000000000",
          "2023-07-24T00:00:00.000000000",
          "2023-07-31T00:00:00.000000000",
          "2023-08-07T00:00:00.000000000",
          "2023-08-14T00:00:00.000000000",
          "2023-08-21T00:00:00.000000000",
          "2023-08-28T00:00:00.000000000",
          "2023-09-04T00:00:00.000000000",
          "2023-09-11T00:00:00.000000000",
          "2023-09-18T00:00:00.000000000",
          "2023-09-25T00:00:00.000000000",
          "2023-10-02T00:00:00.000000000",
          "2023-10-09T00:00:00.000000000",
          "2023-10-16T00:00:00.000000000",
          "2023-10-23T00:00:00.000000000",
          "2023-10-30T00:00:00.000000000",
          "2023-11-06T00:00:00.000000000",
          "2023-11-13T00:00:00.000000000",
          "2023-11-20T00:00:00.000000000",
          "2023-11-27T00:00:00.000000000",
          "2023-12-04T00:00:00.000000000",
          "2023-12-11T00:00:00.000000000",
          "2023-12-18T00:00:00.000000000",
          "2023-12-25T00:00:00.000000000",
          "2024-01-01T00:00:00.000000000",
          "2024-01-08T00:00:00.000000000",
          "2024-01-15T00:00:00.000000000",
          "2024-01-22T00:00:00.000000000",
          "2024-01-29T00:00:00.000000000",
          "2024-02-05T00:00:00.000000000",
          "2024-02-12T00:00:00.000000000",
          "2024-02-19T00:00:00.000000000",
          "2024-02-26T00:00:00.000000000",
          "2024-03-04T00:00:00.000000000",
          "2024-03-11T00:00:00.000000000",
          "2024-03-18T00:00:00.000000000",
          "2024-03-25T00:00:00.000000000",
          "2024-04-01T00:00:00.000000000",
          "2024-04-08T00:00:00.000000000",
          "2024-04-15T00:00:00.000000000",
          "2024-04-22T00:00:00.000000000",
          "2024-04-29T00:00:00.000000000",
          "2024-05-06T00:00:00.000000000",
          "2024-05-13T00:00:00.000000000",
          "2024-05-20T00:00:00.000000000",
          "2024-05-27T00:00:00.000000000",
          "2024-06-03T00:00:00.000000000",
          "2024-06-10T00:00:00.000000000",
          "2024-06-17T00:00:00.000000000",
          "2024-06-24T00:00:00.000000000",
          "2024-07-01T00:00:00.000000000",
          "2024-07-08T00:00:00.000000000",
          "2024-07-15T00:00:00.000000000",
          "2024-07-22T00:00:00.000000000",
          "2024-07-29T00:00:00.000000000",
          "2024-08-05T00:00:00.000000000",
          "2024-08-12T00:00:00.000000000",
          "2024-08-19T00:00:00.000000000",
          "2024-08-26T00:00:00.000000000",
          "2024-09-02T00:00:00.000000000",
          "2024-09-09T00:00:00.000000000",
          "2024-09-16T00:00:00.000000000",
          "2024-09-23T00:00:00.000000000",
          "2024-09-30T00:00:00.000000000",
          "2024-10-07T00:00:00.000000000",
          "2024-10-14T00:00:00.000000000",
          "2024-10-21T00:00:00.000000000",
          "2024-10-28T00:00:00.000000000",
          "2024-11-04T00:00:00.000000000",
          "2024-11-11T00:00:00.000000000",
          "2024-11-18T00:00:00.000000000",
          "2024-11-25T00:00:00.000000000",
          "2024-12-02T00:00:00.000000000",
          "2024-12-09T00:00:00.000000000",
          "2024-12-16T00:00:00.000000000",
          "2024-12-23T00:00:00.000000000",
          "2024-12-30T00:00:00.000000000",
          "2025-01-06T00:00:00.000000000",
          "2025-01-13T00:00:00.000000000",
          "2025-01-20T00:00:00.000000000",
          "2025-01-27T00:00:00.000000000",
          "2025-02-03T00:00:00.000000000",
          "2025-02-10T00:00:00.000000000",
          "2025-02-17T00:00:00.000000000",
          "2025-02-24T00:00:00.000000000",
          "2025-03-03T00:00:00.000000000",
          "2025-03-10T00:00:00.000000000",
          "2025-03-17T00:00:00.000000000",
          "2025-03-24T00:00:00.000000000",
          "2025-03-31T00:00:00.000000000",
          "2025-04-07T00:00:00.000000000",
          "2025-04-14T00:00:00.000000000",
          "2025-04-21T00:00:00.000000000",
          "2025-04-28T00:00:00.000000000",
          "2025-05-05T00:00:00.000000000",
          "2025-05-12T00:00:00.000000000",
          "2025-05-19T00:00:00.000000000",
          "2025-05-26T00:00:00.000000000",
          "2025-06-02T00:00:00.000000000",
          "2025-06-09T00:00:00.000000000",
          "2025-06-16T00:00:00.000000000",
          "2025-06-23T00:00:00.000000000",
          "2025-06-30T00:00:00.000000000",
          "2025-07-07T00:00:00.000000000",
          "2025-07-14T00:00:00.000000000",
          "2025-07-21T00:00:00.000000000",
          "2025-07-28T00:00:00.000000000",
          "2025-08-04T00:00:00.000000000"
         ],
         "y": {
          "bdata": "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",
          "dtype": "f8"
         }
        },
        {
         "line": {
          "color": "royalblue",
          "dash": "dot",
          "width": 3
         },
         "mode": "lines",
         "name": "ITS optimisé",
         "type": "scatter",
         "x": [
          "2021-01-25T00:00:00.000000000",
          "2021-02-01T00:00:00.000000000",
          "2021-02-08T00:00:00.000000000",
          "2021-02-15T00:00:00.000000000",
          "2021-02-22T00:00:00.000000000",
          "2021-03-01T00:00:00.000000000",
          "2021-03-08T00:00:00.000000000",
          "2021-03-15T00:00:00.000000000",
          "2021-03-22T00:00:00.000000000",
          "2021-03-29T00:00:00.000000000",
          "2021-04-05T00:00:00.000000000",
          "2021-04-12T00:00:00.000000000",
          "2021-04-19T00:00:00.000000000",
          "2021-04-26T00:00:00.000000000",
          "2021-05-03T00:00:00.000000000",
          "2021-05-10T00:00:00.000000000",
          "2021-05-17T00:00:00.000000000",
          "2021-05-24T00:00:00.000000000",
          "2021-05-31T00:00:00.000000000",
          "2021-06-07T00:00:00.000000000",
          "2021-06-14T00:00:00.000000000",
          "2021-06-21T00:00:00.000000000",
          "2021-06-28T00:00:00.000000000",
          "2021-07-05T00:00:00.000000000",
          "2021-07-12T00:00:00.000000000",
          "2021-07-19T00:00:00.000000000",
          "2021-07-26T00:00:00.000000000",
          "2021-08-02T00:00:00.000000000",
          "2021-08-09T00:00:00.000000000",
          "2021-08-16T00:00:00.000000000",
          "2021-08-23T00:00:00.000000000",
          "2021-08-30T00:00:00.000000000",
          "2021-09-06T00:00:00.000000000",
          "2021-09-13T00:00:00.000000000",
          "2021-09-20T00:00:00.000000000",
          "2021-09-27T00:00:00.000000000",
          "2021-10-04T00:00:00.000000000",
          "2021-10-11T00:00:00.000000000",
          "2021-10-18T00:00:00.000000000",
          "2021-10-25T00:00:00.000000000",
          "2021-11-01T00:00:00.000000000",
          "2021-11-08T00:00:00.000000000",
          "2021-11-15T00:00:00.000000000",
          "2021-11-22T00:00:00.000000000",
          "2021-11-29T00:00:00.000000000",
          "2021-12-06T00:00:00.000000000",
          "2021-12-13T00:00:00.000000000",
          "2021-12-20T00:00:00.000000000",
          "2021-12-27T00:00:00.000000000",
          "2022-01-03T00:00:00.000000000",
          "2022-01-10T00:00:00.000000000",
          "2022-01-17T00:00:00.000000000",
          "2022-01-24T00:00:00.000000000",
          "2022-01-31T00:00:00.000000000",
          "2022-02-07T00:00:00.000000000",
          "2022-02-14T00:00:00.000000000",
          "2022-02-21T00:00:00.000000000",
          "2022-02-28T00:00:00.000000000",
          "2022-03-07T00:00:00.000000000",
          "2022-03-14T00:00:00.000000000",
          "2022-03-21T00:00:00.000000000",
          "2022-03-28T00:00:00.000000000",
          "2022-04-04T00:00:00.000000000",
          "2022-04-11T00:00:00.000000000",
          "2022-04-18T00:00:00.000000000",
          "2022-04-25T00:00:00.000000000",
          "2022-05-02T00:00:00.000000000",
          "2022-05-09T00:00:00.000000000",
          "2022-05-16T00:00:00.000000000",
          "2022-05-23T00:00:00.000000000",
          "2022-05-30T00:00:00.000000000",
          "2022-06-06T00:00:00.000000000",
          "2022-06-13T00:00:00.000000000",
          "2022-06-20T00:00:00.000000000",
          "2022-06-27T00:00:00.000000000",
          "2022-07-04T00:00:00.000000000",
          "2022-07-11T00:00:00.000000000",
          "2022-07-18T00:00:00.000000000",
          "2022-07-25T00:00:00.000000000",
          "2022-08-01T00:00:00.000000000",
          "2022-08-08T00:00:00.000000000",
          "2022-08-15T00:00:00.000000000",
          "2022-08-22T00:00:00.000000000",
          "2022-08-29T00:00:00.000000000",
          "2022-09-05T00:00:00.000000000",
          "2022-09-12T00:00:00.000000000",
          "2022-09-19T00:00:00.000000000",
          "2022-09-26T00:00:00.000000000",
          "2022-10-03T00:00:00.000000000",
          "2022-10-10T00:00:00.000000000",
          "2022-10-17T00:00:00.000000000",
          "2022-10-24T00:00:00.000000000",
          "2022-10-31T00:00:00.000000000",
          "2022-11-07T00:00:00.000000000",
          "2022-11-14T00:00:00.000000000",
          "2022-11-21T00:00:00.000000000",
          "2022-11-28T00:00:00.000000000",
          "2022-12-05T00:00:00.000000000"
         ],
         "y": {
          "bdata": "jeIxC34/hkAANABLsXKPQEF4jNzgr45A1kPf16ZQjUAjuvcMcXuLQGbDLSthHY1AzfXd/Rmrj0DX56PtIAuQQNqR3PjM9Y9AIbu+tYFSj0DMajLuDxaOQMZCPlIVD4xAEwEqMFDwiUB7qQZVb62HQEHaH8hsDYZA2jaXF4zThEAJ7bCb6IaDQN7xXWi7uIJAXe+Ol16DgUAWQi3MWZyAQKIFvILWyoFAAD1Erg8FgkCM0DoRyWOCQPmKRgeKUIJAlh1aappSgEDzNBylnmt+QMTENlhH/3hAISf0Co59dECmpXSpBL5tQPsyWVPkcmNAglYer/aJXEAqnEXCV9JcQAKpIeXmdGRAovdJ016VakAbpxm+MJ92QE5QWgVrmIBAFeKrr0T8hkDgnz2Td56OQG9ZEPXVqpNAkcesokSXl0CH3Zp3e/OaQCDtdoCQQp1AT20lZDmZnkCB12gALwOfQBbMQXu9NJ5A8KgniXCCnEBNjORJVBaaQMRG5nUk6ZZAUjsXVNkvk0DIOgrg8a2PQBVlCqLiz4pA/E8I2Kz5hkBjmaAwgkuDQH7jiTba5oBAWPa/rH2Cf0DDarJw9EV8QK4Ab5ocYHdAmPRpIl7eeUABAVyoOSSAQKyh0HNxxIBAO7GUoO/cgEBlKSRZ6XuAQOmHRaJk0H5AozxBIbAIe0Bf+xPTZpN3QNbiTKtWF3VANGB8tVV7ckDs9WkcBUBwQOR+kPb+2m1AFlEQxHuJbUAsZOH1QqJvQHKV3ZKAKHFA/3eimYF1cUCfkXYsObNzQERtvZB9I3hA56K1OZE0ekA0zQieC8Z6QLRha50jaXhA8TZVHaekdUDZjonDenN1QO1CKV3BFnNAjkayzbbnckB40OHkdxdzQA5L4pJ0VHVAkiGzJzrEeECfcLRWjZZ/QCRJcfbnHoZAXRcYekCgjEC+EukSpdmRQLcQJmV/yJVA0KVI7KsbmkAPAB7Zu46eQGt6+mPTC6FASv/J3aJLokAhrlH9WgKjQKm6GubpM6NA0uyEl17kokA8KpRv5hOiQA==",
          "dtype": "f8"
         }
        }
       ],
       "layout": {
        "shapes": [
         {
          "line": {
           "color": "red",
           "dash": "dash"
          },
          "type": "line",
          "x0": "2020-02-02T00:00:00",
          "x1": "2020-02-02T00:00:00",
          "xref": "x",
          "y0": 0,
          "y1": 1,
          "yref": "y domain"
         },
         {
          "line": {
           "color": "green",
           "dash": "dash"
          },
          "type": "line",
          "x0": "2021-01-29T00:00:00",
          "x1": "2021-01-29T00:00:00",
          "xref": "x",
          "y0": 0,
          "y1": 1,
          "yref": "y domain"
         }
        ],
        "template": {
         "data": {
          "bar": [
           {
            "error_x": {
             "color": "#2a3f5f"
            },
            "error_y": {
             "color": "#2a3f5f"
            },
            "marker": {
             "line": {
              "color": "#E5ECF6",
              "width": 0.5
             },
             "pattern": {
              "fillmode": "overlay",
              "size": 10,
              "solidity": 0.2
             }
            },
            "type": "bar"
           }
          ],
          "barpolar": [
           {
            "marker": {
             "line": {
              "color": "#E5ECF6",
              "width": 0.5
             },
             "pattern": {
              "fillmode": "overlay",
              "size": 10,
              "solidity": 0.2
             }
            },
            "type": "barpolar"
           }
          ],
          "carpet": [
           {
            "aaxis": {
             "endlinecolor": "#2a3f5f",
             "gridcolor": "white",
             "linecolor": "white",
             "minorgridcolor": "white",
             "startlinecolor": "#2a3f5f"
            },
            "baxis": {
             "endlinecolor": "#2a3f5f",
             "gridcolor": "white",
             "linecolor": "white",
             "minorgridcolor": "white",
             "startlinecolor": "#2a3f5f"
            },
            "type": "carpet"
           }
          ],
          "choropleth": [
           {
            "colorbar": {
             "outlinewidth": 0,
             "ticks": ""
            },
            "type": "choropleth"
           }
          ],
          "contour": [
           {
            "colorbar": {
             "outlinewidth": 0,
             "ticks": ""
            },
            "colorscale": [
             [
              0,
              "#0d0887"
             ],
             [
              0.1111111111111111,
              "#46039f"
             ],
             [
              0.2222222222222222,
              "#7201a8"
             ],
             [
              0.3333333333333333,
              "#9c179e"
             ],
             [
              0.4444444444444444,
              "#bd3786"
             ],
             [
              0.5555555555555556,
              "#d8576b"
             ],
             [
              0.6666666666666666,
              "#ed7953"
             ],
             [
              0.7777777777777778,
              "#fb9f3a"
             ],
             [
              0.8888888888888888,
              "#fdca26"
             ],
             [
              1,
              "#f0f921"
             ]
            ],
            "type": "contour"
           }
          ],
          "contourcarpet": [
           {
            "colorbar": {
             "outlinewidth": 0,
             "ticks": ""
            },
            "type": "contourcarpet"
           }
          ],
          "heatmap": [
           {
            "colorbar": {
             "outlinewidth": 0,
             "ticks": ""
            },
            "colorscale": [
             [
              0,
              "#0d0887"
             ],
             [
              0.1111111111111111,
              "#46039f"
             ],
             [
              0.2222222222222222,
              "#7201a8"
             ],
             [
              0.3333333333333333,
              "#9c179e"
             ],
             [
              0.4444444444444444,
              "#bd3786"
             ],
             [
              0.5555555555555556,
              "#d8576b"
             ],
             [
              0.6666666666666666,
              "#ed7953"
             ],
             [
              0.7777777777777778,
              "#fb9f3a"
             ],
             [
              0.8888888888888888,
              "#fdca26"
             ],
             [
              1,
              "#f0f921"
             ]
            ],
            "type": "heatmap"
           }
          ],
          "histogram": [
           {
            "marker": {
             "pattern": {
              "fillmode": "overlay",
              "size": 10,
              "solidity": 0.2
             }
            },
            "type": "histogram"
           }
          ],
          "histogram2d": [
           {
            "colorbar": {
             "outlinewidth": 0,
             "ticks": ""
            },
            "colorscale": [
             [
              0,
              "#0d0887"
             ],
             [
              0.1111111111111111,
              "#46039f"
             ],
             [
              0.2222222222222222,
              "#7201a8"
             ],
             [
              0.3333333333333333,
              "#9c179e"
             ],
             [
              0.4444444444444444,
              "#bd3786"
             ],
             [
              0.5555555555555556,
              "#d8576b"
             ],
             [
              0.6666666666666666,
              "#ed7953"
             ],
             [
              0.7777777777777778,
              "#fb9f3a"
             ],
             [
              0.8888888888888888,
              "#fdca26"
             ],
             [
              1,
              "#f0f921"
             ]
            ],
            "type": "histogram2d"
           }
          ],
          "histogram2dcontour": [
           {
            "colorbar": {
             "outlinewidth": 0,
             "ticks": ""
            },
            "colorscale": [
             [
              0,
              "#0d0887"
             ],
             [
              0.1111111111111111,
              "#46039f"
             ],
             [
              0.2222222222222222,
              "#7201a8"
             ],
             [
              0.3333333333333333,
              "#9c179e"
             ],
             [
              0.4444444444444444,
              "#bd3786"
             ],
             [
              0.5555555555555556,
              "#d8576b"
             ],
             [
              0.6666666666666666,
              "#ed7953"
             ],
             [
              0.7777777777777778,
              "#fb9f3a"
             ],
             [
              0.8888888888888888,
              "#fdca26"
             ],
             [
              1,
              "#f0f921"
             ]
            ],
            "type": "histogram2dcontour"
           }
          ],
          "mesh3d": [
           {
            "colorbar": {
             "outlinewidth": 0,
             "ticks": ""
            },
            "type": "mesh3d"
           }
          ],
          "parcoords": [
           {
            "line": {
             "colorbar": {
              "outlinewidth": 0,
              "ticks": ""
             }
            },
            "type": "parcoords"
           }
          ],
          "pie": [
           {
            "automargin": true,
            "type": "pie"
           }
          ],
          "scatter": [
           {
            "fillpattern": {
             "fillmode": "overlay",
             "size": 10,
             "solidity": 0.2
            },
            "type": "scatter"
           }
          ],
          "scatter3d": [
           {
            "line": {
             "colorbar": {
              "outlinewidth": 0,
              "ticks": ""
             }
            },
            "marker": {
             "colorbar": {
              "outlinewidth": 0,
              "ticks": ""
             }
            },
            "type": "scatter3d"
           }
          ],
          "scattercarpet": [
           {
            "marker": {
             "colorbar": {
              "outlinewidth": 0,
              "ticks": ""
             }
            },
            "type": "scattercarpet"
           }
          ],
          "scattergeo": [
           {
            "marker": {
             "colorbar": {
              "outlinewidth": 0,
              "ticks": ""
             }
            },
            "type": "scattergeo"
           }
          ],
          "scattergl": [
           {
            "marker": {
             "colorbar": {
              "outlinewidth": 0,
              "ticks": ""
             }
            },
            "type": "scattergl"
           }
          ],
          "scattermap": [
           {
            "marker": {
             "colorbar": {
              "outlinewidth": 0,
              "ticks": ""
             }
            },
            "type": "scattermap"
           }
          ],
          "scattermapbox": [
           {
            "marker": {
             "colorbar": {
              "outlinewidth": 0,
              "ticks": ""
             }
            },
            "type": "scattermapbox"
           }
          ],
          "scatterpolar": [
           {
            "marker": {
             "colorbar": {
              "outlinewidth": 0,
              "ticks": ""
             }
            },
            "type": "scatterpolar"
           }
          ],
          "scatterpolargl": [
           {
            "marker": {
             "colorbar": {
              "outlinewidth": 0,
              "ticks": ""
             }
            },
            "type": "scatterpolargl"
           }
          ],
          "scatterternary": [
           {
            "marker": {
             "colorbar": {
              "outlinewidth": 0,
              "ticks": ""
             }
            },
            "type": "scatterternary"
           }
          ],
          "surface": [
           {
            "colorbar": {
             "outlinewidth": 0,
             "ticks": ""
            },
            "colorscale": [
             [
              0,
              "#0d0887"
             ],
             [
              0.1111111111111111,
              "#46039f"
             ],
             [
              0.2222222222222222,
              "#7201a8"
             ],
             [
              0.3333333333333333,
              "#9c179e"
             ],
             [
              0.4444444444444444,
              "#bd3786"
             ],
             [
              0.5555555555555556,
              "#d8576b"
             ],
             [
              0.6666666666666666,
              "#ed7953"
             ],
             [
              0.7777777777777778,
              "#fb9f3a"
             ],
             [
              0.8888888888888888,
              "#fdca26"
             ],
             [
              1,
              "#f0f921"
             ]
            ],
            "type": "surface"
           }
          ],
          "table": [
           {
            "cells": {
             "fill": {
              "color": "#EBF0F8"
             },
             "line": {
              "color": "white"
             }
            },
            "header": {
             "fill": {
              "color": "#C8D4E3"
             },
             "line": {
              "color": "white"
             }
            },
            "type": "table"
           }
          ]
         },
         "layout": {
          "annotationdefaults": {
           "arrowcolor": "#2a3f5f",
           "arrowhead": 0,
           "arrowwidth": 1
          },
          "autotypenumbers": "strict",
          "coloraxis": {
           "colorbar": {
            "outlinewidth": 0,
            "ticks": ""
           }
          },
          "colorscale": {
           "diverging": [
            [
             0,
             "#8e0152"
            ],
            [
             0.1,
             "#c51b7d"
            ],
            [
             0.2,
             "#de77ae"
            ],
            [
             0.3,
             "#f1b6da"
            ],
            [
             0.4,
             "#fde0ef"
            ],
            [
             0.5,
             "#f7f7f7"
            ],
            [
             0.6,
             "#e6f5d0"
            ],
            [
             0.7,
             "#b8e186"
            ],
            [
             0.8,
             "#7fbc41"
            ],
            [
             0.9,
             "#4d9221"
            ],
            [
             1,
             "#276419"
            ]
           ],
           "sequential": [
            [
             0,
             "#0d0887"
            ],
            [
             0.1111111111111111,
             "#46039f"
            ],
            [
             0.2222222222222222,
             "#7201a8"
            ],
            [
             0.3333333333333333,
             "#9c179e"
            ],
            [
             0.4444444444444444,
             "#bd3786"
            ],
            [
             0.5555555555555556,
             "#d8576b"
            ],
            [
             0.6666666666666666,
             "#ed7953"
            ],
            [
             0.7777777777777778,
             "#fb9f3a"
            ],
            [
             0.8888888888888888,
             "#fdca26"
            ],
            [
             1,
             "#f0f921"
            ]
           ],
           "sequentialminus": [
            [
             0,
             "#0d0887"
            ],
            [
             0.1111111111111111,
             "#46039f"
            ],
            [
             0.2222222222222222,
             "#7201a8"
            ],
            [
             0.3333333333333333,
             "#9c179e"
            ],
            [
             0.4444444444444444,
             "#bd3786"
            ],
            [
             0.5555555555555556,
             "#d8576b"
            ],
            [
             0.6666666666666666,
             "#ed7953"
            ],
            [
             0.7777777777777778,
             "#fb9f3a"
            ],
            [
             0.8888888888888888,
             "#fdca26"
            ],
            [
             1,
             "#f0f921"
            ]
           ]
          },
          "colorway": [
           "#636efa",
           "#EF553B",
           "#00cc96",
           "#ab63fa",
           "#FFA15A",
           "#19d3f3",
           "#FF6692",
           "#B6E880",
           "#FF97FF",
           "#FECB52"
          ],
          "font": {
           "color": "#2a3f5f"
          },
          "geo": {
           "bgcolor": "white",
           "lakecolor": "white",
           "landcolor": "#E5ECF6",
           "showlakes": true,
           "showland": true,
           "subunitcolor": "white"
          },
          "hoverlabel": {
           "align": "left"
          },
          "hovermode": "closest",
          "mapbox": {
           "style": "light"
          },
          "paper_bgcolor": "white",
          "plot_bgcolor": "#E5ECF6",
          "polar": {
           "angularaxis": {
            "gridcolor": "white",
            "linecolor": "white",
            "ticks": ""
           },
           "bgcolor": "#E5ECF6",
           "radialaxis": {
            "gridcolor": "white",
            "linecolor": "white",
            "ticks": ""
           }
          },
          "scene": {
           "xaxis": {
            "backgroundcolor": "#E5ECF6",
            "gridcolor": "white",
            "gridwidth": 2,
            "linecolor": "white",
            "showbackground": true,
            "ticks": "",
            "zerolinecolor": "white"
           },
           "yaxis": {
            "backgroundcolor": "#E5ECF6",
            "gridcolor": "white",
            "gridwidth": 2,
            "linecolor": "white",
            "showbackground": true,
            "ticks": "",
            "zerolinecolor": "white"
           },
           "zaxis": {
            "backgroundcolor": "#E5ECF6",
            "gridcolor": "white",
            "gridwidth": 2,
            "linecolor": "white",
            "showbackground": true,
            "ticks": "",
            "zerolinecolor": "white"
           }
          },
          "shapedefaults": {
           "line": {
            "color": "#2a3f5f"
           }
          },
          "ternary": {
           "aaxis": {
            "gridcolor": "white",
            "linecolor": "white",
            "ticks": ""
           },
           "baxis": {
            "gridcolor": "white",
            "linecolor": "white",
            "ticks": ""
           },
           "bgcolor": "#E5ECF6",
           "caxis": {
            "gridcolor": "white",
            "linecolor": "white",
            "ticks": ""
           }
          },
          "title": {
           "x": 0.05
          },
          "xaxis": {
           "automargin": true,
           "gridcolor": "white",
           "linecolor": "white",
           "ticks": "",
           "title": {
            "standoff": 15
           },
           "zerolinecolor": "white",
           "zerolinewidth": 2
          },
          "yaxis": {
           "automargin": true,
           "gridcolor": "white",
           "linecolor": "white",
           "ticks": "",
           "title": {
            "standoff": 15
           },
           "zerolinecolor": "white",
           "zerolinewidth": 2
          }
         }
        },
        "title": {
         "text": "ITS optimisé — RSV Observé vs Ajusté (K=3, série complète)"
        },
        "xaxis": {
         "title": {
          "text": "Semaine"
         }
        },
        "yaxis": {
         "title": {
          "text": "RSV (taux)"
         }
        }
       }
      }
     },
     "metadata": {},
     "output_type": "display_data"
    },
    {
     "name": "stdout",
     "output_type": "stream",
     "text": [
      "✅ BLOC 3 terminé — objets clés : its, its_best, df_plot, best\n"
     ]
    }
   ],
   "source": [
    "# ==========================================\n",
    "# 🧱 BLOC 3 — ITS (base + optimisé)\n",
    "# ==========================================\n",
    "import numpy as np\n",
    "import pandas as pd\n",
    "import statsmodels.api as sm\n",
    "from statsmodels.stats.diagnostic import acorr_ljungbox\n",
    "import plotly.graph_objects as go\n",
    "\n",
    "assert \"df_base\" in globals() and len(df_base) > 40, \"df_base introuvable ou trop court.\"\n",
    "assert {\"COVID_START\",\"VACC_START\"}.issubset(set(globals().keys()))\n",
    "\n",
    "# =======================================================\n",
    "# 1️⃣ ITS BASE (Interrupted Time Series simple)\n",
    "# =======================================================\n",
    "df_its = df_base.copy().reset_index().sort_values(\"date_monday\")\n",
    "df_its[\"t\"] = np.arange(len(df_its))\n",
    "df_its[\"post_covid\"] = (df_its[\"date_monday\"] >= COVID_START).astype(int)\n",
    "df_its[\"post_vacc\"]  = (df_its[\"date_monday\"] >= VACC_START).astype(int)\n",
    "df_its[\"t_post_covid\"] = df_its[\"t\"] * df_its[\"post_covid\"]\n",
    "df_its[\"t_post_vacc\"]  = df_its[\"t\"] * df_its[\"post_vacc\"]\n",
    "\n",
    "Y = df_its[\"RSV\"].astype(float)\n",
    "X_cols = [\"t\",\"sin52\",\"cos52\",\"post_covid\",\"t_post_covid\",\"post_vacc\",\"t_post_vacc\"]\n",
    "X = df_its[X_cols]\n",
    "\n",
    "its = sm.OLS(Y, sm.add_constant(X)).fit(cov_type=\"HAC\", cov_kwds={\"maxlags\":12})\n",
    "print(\"=== ITS (base, HAC) — Résumé concis ===\")\n",
    "print(f\"AIC={its.aic:.1f} | BIC={its.bic:.1f} | DW={sm.stats.stattools.durbin_watson(its.resid):.3f}\")\n",
    "\n",
    "# --- Plot complet ---\n",
    "fig = go.Figure()\n",
    "fig.add_trace(go.Scatter(x=rsv[\"date_monday\"], y=rsv[\"RSV\"], mode=\"lines\", name=\"RSV observé\", line=dict(color=\"black\", width=2)))\n",
    "fig.add_trace(go.Scatter(x=df_its[\"date_monday\"], y=its.fittedvalues, mode=\"lines\", name=\"ITS fitted\", line=dict(color=\"royalblue\", dash=\"dot\", width=2)))\n",
    "fig.add_vline(x=COVID_START, line_dash=\"dash\", line_color=\"red\")\n",
    "fig.add_vline(x=VACC_START, line_dash=\"dash\", line_color=\"green\")\n",
    "fig.update_layout(title=\"ITS (base) — RSV Observé vs Ajusté (série complète)\", xaxis_title=\"Semaine\", yaxis_title=\"RSV (taux)\")\n",
    "fig.show()\n",
    "\n",
    "# =======================================================\n",
    "# 2️⃣ ITS OPTIMISÉ (Grid-search dates + Fourier + exogènes)\n",
    "# =======================================================\n",
    "def add_fourier(df, K=1, period=52):\n",
    "    df = df.copy()\n",
    "    t = np.arange(len(df))\n",
    "    for k in range(1, K+1):\n",
    "        df[f\"sin{k}\"] = np.sin(2*np.pi*k*t/period)\n",
    "        df[f\"cos{k}\"] = np.cos(2*np.pi*k*t/period)\n",
    "    return df\n",
    "\n",
    "def make_its_design(df, covid_date, vacc_date, K=1):\n",
    "    dfX = df.copy().reset_index().rename(columns={\"date_monday\": \"date\"}).sort_values(\"date\")\n",
    "    dfX[\"t\"] = np.arange(len(dfX))\n",
    "    dfX[\"post_covid\"] = (dfX[\"date\"] >= covid_date).astype(int)\n",
    "    dfX[\"post_vacc\"]  = (dfX[\"date\"] >= vacc_date).astype(int)\n",
    "    dfX[\"t_post_covid\"] = dfX[\"t\"] * dfX[\"post_covid\"]\n",
    "    dfX[\"t_post_vacc\"]  = dfX[\"t\"] * dfX[\"post_vacc\"]\n",
    "    dfX = add_fourier(dfX, K=K)\n",
    "    y = dfX[\"RSV\"].astype(float)\n",
    "    Xcols = [\"t\",\"post_covid\",\"t_post_covid\",\"post_vacc\",\"t_post_vacc\"] + \\\n",
    "            [f\"sin{k}\" for k in range(1,K+1)] + [f\"cos{k}\" for k in range(1,K+1)]\n",
    "    for c in [\"cov12_lag\",\"MNP_lag\",\"work_lag\"]:\n",
    "        if c in dfX.columns: Xcols.append(c)\n",
    "    X = dfX[Xcols]\n",
    "    hac_lags = int(np.clip(np.sqrt(len(dfX)),8,24))\n",
    "    fit = sm.OLS(y, sm.add_constant(X)).fit(cov_type=\"HAC\", cov_kwds={\"maxlags\": hac_lags})\n",
    "    dfX[\"date_monday\"] = pd.to_datetime(dfX[\"date\"])\n",
    "    return fit, dfX, Xcols, hac_lags, y\n",
    "\n",
    "# --- Grid-search ±28j autour des jalons ---\n",
    "steps = np.array([-28,-14,0,14,28], dtype=\"timedelta64[D]\")\n",
    "candidates_covid = [COVID_START + pd.to_timedelta(int(s.astype(int)), unit=\"D\") for s in steps]\n",
    "candidates_vacc  = [VACC_START  + pd.to_timedelta(int(s.astype(int)), unit=\"D\") for s in steps]\n",
    "Ks = [1,2,3]\n",
    "\n",
    "best = {\"aic\": np.inf}\n",
    "for K in Ks:\n",
    "    for cdate in candidates_covid:\n",
    "        for vdate in candidates_vacc:\n",
    "            if vdate <= cdate: continue\n",
    "            try:\n",
    "                fit, dfX, Xcols, hac_lags, y = make_its_design(\n",
    "                    df_base[[\"RSV\",\"cov12_lag\",\"MNP_lag\",\"work_lag\"]],\n",
    "                    covid_date=cdate, vacc_date=vdate, K=K\n",
    "                )\n",
    "                if fit.aic < best[\"aic\"]:\n",
    "                    best = {\"aic\": fit.aic, \"K\": K, \"covid\": cdate, \"vacc\": vdate, \"fit\": fit, \"df\": dfX, \"Xcols\": Xcols}\n",
    "            except Exception:\n",
    "                continue\n",
    "\n",
    "its_best = best[\"fit\"]\n",
    "df_plot = best[\"df\"].copy()\n",
    "print(f\"🥇 ITS optimisé : AIC={best['aic']:.1f} | K={best['K']} | COVID={best['covid'].date()} | VACC={best['vacc'].date()}\")\n",
    "\n",
    "# --- Diagnostics ---\n",
    "dw = sm.stats.stattools.durbin_watson(its_best.resid)\n",
    "lb = acorr_ljungbox(its_best.resid, lags=[8,12,24], return_df=True)[[\"lb_stat\",\"lb_pvalue\"]]\n",
    "print(f\"Durbin–Watson={dw:.3f}\")\n",
    "display(lb)\n",
    "\n",
    "# --- Plot complet ---\n",
    "df_plot[\"fitted\"] = its_best.fittedvalues.values\n",
    "fig = go.Figure()\n",
    "fig.add_trace(go.Scatter(x=rsv[\"date_monday\"], y=rsv[\"RSV\"], mode=\"lines\", name=\"RSV Observé\", line=dict(color=\"black\", width=2)))\n",
    "fig.add_trace(go.Scatter(x=df_plot[\"date_monday\"], y=df_plot[\"fitted\"], mode=\"lines\", name=\"ITS optimisé\", line=dict(color=\"royalblue\", dash=\"dot\", width=3)))\n",
    "fig.add_vline(x=best[\"covid\"], line_dash=\"dash\", line_color=\"red\")\n",
    "fig.add_vline(x=best[\"vacc\"], line_dash=\"dash\", line_color=\"green\")\n",
    "fig.update_layout(title=f\"ITS optimisé — RSV Observé vs Ajusté (K={best['K']}, série complète)\", xaxis_title=\"Semaine\", yaxis_title=\"RSV (taux)\")\n",
    "fig.show()\n",
    "\n",
    "print(\"✅ BLOC 3 terminé — objets clés : its, its_best, df_plot, best\")\n"
   ]
  },
  {
   "cell_type": "code",
   "execution_count": 20,
   "id": "0ac148e9",
   "metadata": {},
   "outputs": [
    {
     "name": "stdout",
     "output_type": "stream",
     "text": [
      "✅ Données SARIMAX prêtes : y=89, X=9\n",
      "🥇 SARIMAX base: order=(0, 0, 0)×(0, 1, 1, 52) | AIC=22.0\n",
      "Durbin–Watson=0.036\n"
     ]
    },
    {
     "data": {
      "text/html": [
       "<div>\n",
       "<style scoped>\n",
       "    .dataframe tbody tr th:only-of-type {\n",
       "        vertical-align: middle;\n",
       "    }\n",
       "\n",
       "    .dataframe tbody tr th {\n",
       "        vertical-align: top;\n",
       "    }\n",
       "\n",
       "    .dataframe thead th {\n",
       "        text-align: right;\n",
       "    }\n",
       "</style>\n",
       "<table border=\"1\" class=\"dataframe\">\n",
       "  <thead>\n",
       "    <tr style=\"text-align: right;\">\n",
       "      <th></th>\n",
       "      <th>lb_stat</th>\n",
       "      <th>lb_pvalue</th>\n",
       "    </tr>\n",
       "  </thead>\n",
       "  <tbody>\n",
       "    <tr>\n",
       "      <th>8</th>\n",
       "      <td>453.155734</td>\n",
       "      <td>7.793756e-93</td>\n",
       "    </tr>\n",
       "    <tr>\n",
       "      <th>12</th>\n",
       "      <td>503.217262</td>\n",
       "      <td>4.580241e-100</td>\n",
       "    </tr>\n",
       "    <tr>\n",
       "      <th>24</th>\n",
       "      <td>540.245867</td>\n",
       "      <td>7.097507e-99</td>\n",
       "    </tr>\n",
       "  </tbody>\n",
       "</table>\n",
       "</div>"
      ],
      "text/plain": [
       "       lb_stat      lb_pvalue\n",
       "8   453.155734   7.793756e-93\n",
       "12  503.217262  4.580241e-100\n",
       "24  540.245867   7.097507e-99"
      ]
     },
     "metadata": {},
     "output_type": "display_data"
    },
    {
     "data": {
      "application/vnd.plotly.v1+json": {
       "config": {
        "plotlyServerURL": "https://plot.ly"
       },
       "data": [
        {
         "line": {
          "color": "black",
          "width": 2
         },
         "mode": "lines",
         "name": "RSV Observé (2018–2025)",
         "type": "scatter",
         "x": [
          "2019-12-30T00:00:00.000000000",
          "2020-01-06T00:00:00.000000000",
          "2020-01-13T00:00:00.000000000",
          "2020-01-20T00:00:00.000000000",
          "2020-01-27T00:00:00.000000000",
          "2020-02-03T00:00:00.000000000",
          "2020-02-10T00:00:00.000000000",
          "2020-02-17T00:00:00.000000000",
          "2020-02-24T00:00:00.000000000",
          "2020-03-02T00:00:00.000000000",
          "2020-03-09T00:00:00.000000000",
          "2020-03-16T00:00:00.000000000",
          "2020-03-23T00:00:00.000000000",
          "2020-03-30T00:00:00.000000000",
          "2020-04-06T00:00:00.000000000",
          "2020-04-13T00:00:00.000000000",
          "2020-04-20T00:00:00.000000000",
          "2020-04-27T00:00:00.000000000",
          "2020-05-04T00:00:00.000000000",
          "2020-05-11T00:00:00.000000000",
          "2020-05-18T00:00:00.000000000",
          "2020-05-25T00:00:00.000000000",
          "2020-06-01T00:00:00.000000000",
          "2020-06-08T00:00:00.000000000",
          "2020-06-15T00:00:00.000000000",
          "2020-06-22T00:00:00.000000000",
          "2020-06-29T00:00:00.000000000",
          "2020-07-06T00:00:00.000000000",
          "2020-07-13T00:00:00.000000000",
          "2020-07-20T00:00:00.000000000",
          "2020-07-27T00:00:00.000000000",
          "2020-08-03T00:00:00.000000000",
          "2020-08-10T00:00:00.000000000",
          "2020-08-17T00:00:00.000000000",
          "2020-08-24T00:00:00.000000000",
          "2020-08-31T00:00:00.000000000",
          "2020-09-07T00:00:00.000000000",
          "2020-09-14T00:00:00.000000000",
          "2020-09-21T00:00:00.000000000",
          "2020-09-28T00:00:00.000000000",
          "2020-10-05T00:00:00.000000000",
          "2020-10-12T00:00:00.000000000",
          "2020-10-19T00:00:00.000000000",
          "2020-10-26T00:00:00.000000000",
          "2020-11-02T00:00:00.000000000",
          "2020-11-09T00:00:00.000000000",
          "2020-11-16T00:00:00.000000000",
          "2020-11-23T00:00:00.000000000",
          "2020-11-30T00:00:00.000000000",
          "2020-12-07T00:00:00.000000000",
          "2020-12-14T00:00:00.000000000",
          "2020-12-21T00:00:00.000000000",
          "2020-12-28T00:00:00.000000000",
          "2021-01-04T00:00:00.000000000",
          "2021-01-11T00:00:00.000000000",
          "2021-01-18T00:00:00.000000000",
          "2021-01-25T00:00:00.000000000",
          "2021-02-01T00:00:00.000000000",
          "2021-02-08T00:00:00.000000000",
          "2021-02-15T00:00:00.000000000",
          "2021-02-22T00:00:00.000000000",
          "2021-03-01T00:00:00.000000000",
          "2021-03-08T00:00:00.000000000",
          "2021-03-15T00:00:00.000000000",
          "2021-03-22T00:00:00.000000000",
          "2021-03-29T00:00:00.000000000",
          "2021-04-05T00:00:00.000000000",
          "2021-04-12T00:00:00.000000000",
          "2021-04-19T00:00:00.000000000",
          "2021-04-26T00:00:00.000000000",
          "2021-05-03T00:00:00.000000000",
          "2021-05-10T00:00:00.000000000",
          "2021-05-17T00:00:00.000000000",
          "2021-05-24T00:00:00.000000000",
          "2021-05-31T00:00:00.000000000",
          "2021-06-07T00:00:00.000000000",
          "2021-06-14T00:00:00.000000000",
          "2021-06-21T00:00:00.000000000",
          "2021-06-28T00:00:00.000000000",
          "2021-07-05T00:00:00.000000000",
          "2021-07-12T00:00:00.000000000",
          "2021-07-19T00:00:00.000000000",
          "2021-07-26T00:00:00.000000000",
          "2021-08-02T00:00:00.000000000",
          "2021-08-09T00:00:00.000000000",
          "2021-08-16T00:00:00.000000000",
          "2021-08-23T00:00:00.000000000",
          "2021-08-30T00:00:00.000000000",
          "2021-09-06T00:00:00.000000000",
          "2021-09-13T00:00:00.000000000",
          "2021-09-20T00:00:00.000000000",
          "2021-09-27T00:00:00.000000000",
          "2021-10-04T00:00:00.000000000",
          "2021-10-11T00:00:00.000000000",
          "2021-10-18T00:00:00.000000000",
          "2021-10-25T00:00:00.000000000",
          "2021-11-01T00:00:00.000000000",
          "2021-11-08T00:00:00.000000000",
          "2021-11-15T00:00:00.000000000",
          "2021-11-22T00:00:00.000000000",
          "2021-11-29T00:00:00.000000000",
          "2021-12-06T00:00:00.000000000",
          "2021-12-13T00:00:00.000000000",
          "2021-12-20T00:00:00.000000000",
          "2021-12-27T00:00:00.000000000",
          "2022-01-03T00:00:00.000000000",
          "2022-01-10T00:00:00.000000000",
          "2022-01-17T00:00:00.000000000",
          "2022-01-24T00:00:00.000000000",
          "2022-01-31T00:00:00.000000000",
          "2022-02-07T00:00:00.000000000",
          "2022-02-14T00:00:00.000000000",
          "2022-02-21T00:00:00.000000000",
          "2022-02-28T00:00:00.000000000",
          "2022-03-07T00:00:00.000000000",
          "2022-03-14T00:00:00.000000000",
          "2022-03-21T00:00:00.000000000",
          "2022-03-28T00:00:00.000000000",
          "2022-04-04T00:00:00.000000000",
          "2022-04-11T00:00:00.000000000",
          "2022-04-18T00:00:00.000000000",
          "2022-04-25T00:00:00.000000000",
          "2022-05-02T00:00:00.000000000",
          "2022-05-09T00:00:00.000000000",
          "2022-05-16T00:00:00.000000000",
          "2022-05-23T00:00:00.000000000",
          "2022-05-30T00:00:00.000000000",
          "2022-06-06T00:00:00.000000000",
          "2022-06-13T00:00:00.000000000",
          "2022-06-20T00:00:00.000000000",
          "2022-06-27T00:00:00.000000000",
          "2022-07-04T00:00:00.000000000",
          "2022-07-11T00:00:00.000000000",
          "2022-07-18T00:00:00.000000000",
          "2022-07-25T00:00:00.000000000",
          "2022-08-01T00:00:00.000000000",
          "2022-08-08T00:00:00.000000000",
          "2022-08-15T00:00:00.000000000",
          "2022-08-22T00:00:00.000000000",
          "2022-08-29T00:00:00.000000000",
          "2022-09-05T00:00:00.000000000",
          "2022-09-12T00:00:00.000000000",
          "2022-09-19T00:00:00.000000000",
          "2022-09-26T00:00:00.000000000",
          "2022-10-03T00:00:00.000000000",
          "2022-10-10T00:00:00.000000000",
          "2022-10-17T00:00:00.000000000",
          "2022-10-24T00:00:00.000000000",
          "2022-10-31T00:00:00.000000000",
          "2022-11-07T00:00:00.000000000",
          "2022-11-14T00:00:00.000000000",
          "2022-11-21T00:00:00.000000000",
          "2022-11-28T00:00:00.000000000",
          "2022-12-05T00:00:00.000000000",
          "2022-12-12T00:00:00.000000000",
          "2022-12-19T00:00:00.000000000",
          "2022-12-26T00:00:00.000000000",
          "2023-01-02T00:00:00.000000000",
          "2023-01-09T00:00:00.000000000",
          "2023-01-16T00:00:00.000000000",
          "2023-01-23T00:00:00.000000000",
          "2023-01-30T00:00:00.000000000",
          "2023-02-06T00:00:00.000000000",
          "2023-02-13T00:00:00.000000000",
          "2023-02-20T00:00:00.000000000",
          "2023-02-27T00:00:00.000000000",
          "2023-03-06T00:00:00.000000000",
          "2023-03-13T00:00:00.000000000",
          "2023-03-20T00:00:00.000000000",
          "2023-03-27T00:00:00.000000000",
          "2023-04-03T00:00:00.000000000",
          "2023-04-10T00:00:00.000000000",
          "2023-04-17T00:00:00.000000000",
          "2023-04-24T00:00:00.000000000",
          "2023-05-01T00:00:00.000000000",
          "2023-05-08T00:00:00.000000000",
          "2023-05-15T00:00:00.000000000",
          "2023-05-22T00:00:00.000000000",
          "2023-05-29T00:00:00.000000000",
          "2023-06-05T00:00:00.000000000",
          "2023-06-12T00:00:00.000000000",
          "2023-06-19T00:00:00.000000000",
          "2023-06-26T00:00:00.000000000",
          "2023-07-03T00:00:00.000000000",
          "2023-07-10T00:00:00.000000000",
          "2023-07-17T00:00:00.000000000",
          "2023-07-24T00:00:00.000000000",
          "2023-07-31T00:00:00.000000000",
          "2023-08-07T00:00:00.000000000",
          "2023-08-14T00:00:00.000000000",
          "2023-08-21T00:00:00.000000000",
          "2023-08-28T00:00:00.000000000",
          "2023-09-04T00:00:00.000000000",
          "2023-09-11T00:00:00.000000000",
          "2023-09-18T00:00:00.000000000",
          "2023-09-25T00:00:00.000000000",
          "2023-10-02T00:00:00.000000000",
          "2023-10-09T00:00:00.000000000",
          "2023-10-16T00:00:00.000000000",
          "2023-10-23T00:00:00.000000000",
          "2023-10-30T00:00:00.000000000",
          "2023-11-06T00:00:00.000000000",
          "2023-11-13T00:00:00.000000000",
          "2023-11-20T00:00:00.000000000",
          "2023-11-27T00:00:00.000000000",
          "2023-12-04T00:00:00.000000000",
          "2023-12-11T00:00:00.000000000",
          "2023-12-18T00:00:00.000000000",
          "2023-12-25T00:00:00.000000000",
          "2024-01-01T00:00:00.000000000",
          "2024-01-08T00:00:00.000000000",
          "2024-01-15T00:00:00.000000000",
          "2024-01-22T00:00:00.000000000",
          "2024-01-29T00:00:00.000000000",
          "2024-02-05T00:00:00.000000000",
          "2024-02-12T00:00:00.000000000",
          "2024-02-19T00:00:00.000000000",
          "2024-02-26T00:00:00.000000000",
          "2024-03-04T00:00:00.000000000",
          "2024-03-11T00:00:00.000000000",
          "2024-03-18T00:00:00.000000000",
          "2024-03-25T00:00:00.000000000",
          "2024-04-01T00:00:00.000000000",
          "2024-04-08T00:00:00.000000000",
          "2024-04-15T00:00:00.000000000",
          "2024-04-22T00:00:00.000000000",
          "2024-04-29T00:00:00.000000000",
          "2024-05-06T00:00:00.000000000",
          "2024-05-13T00:00:00.000000000",
          "2024-05-20T00:00:00.000000000",
          "2024-05-27T00:00:00.000000000",
          "2024-06-03T00:00:00.000000000",
          "2024-06-10T00:00:00.000000000",
          "2024-06-17T00:00:00.000000000",
          "2024-06-24T00:00:00.000000000",
          "2024-07-01T00:00:00.000000000",
          "2024-07-08T00:00:00.000000000",
          "2024-07-15T00:00:00.000000000",
          "2024-07-22T00:00:00.000000000",
          "2024-07-29T00:00:00.000000000",
          "2024-08-05T00:00:00.000000000",
          "2024-08-12T00:00:00.000000000",
          "2024-08-19T00:00:00.000000000",
          "2024-08-26T00:00:00.000000000",
          "2024-09-02T00:00:00.000000000",
          "2024-09-09T00:00:00.000000000",
          "2024-09-16T00:00:00.000000000",
          "2024-09-23T00:00:00.000000000",
          "2024-09-30T00:00:00.000000000",
          "2024-10-07T00:00:00.000000000",
          "2024-10-14T00:00:00.000000000",
          "2024-10-21T00:00:00.000000000",
          "2024-10-28T00:00:00.000000000",
          "2024-11-04T00:00:00.000000000",
          "2024-11-11T00:00:00.000000000",
          "2024-11-18T00:00:00.000000000",
          "2024-11-25T00:00:00.000000000",
          "2024-12-02T00:00:00.000000000",
          "2024-12-09T00:00:00.000000000",
          "2024-12-16T00:00:00.000000000",
          "2024-12-23T00:00:00.000000000",
          "2024-12-30T00:00:00.000000000",
          "2025-01-06T00:00:00.000000000",
          "2025-01-13T00:00:00.000000000",
          "2025-01-20T00:00:00.000000000",
          "2025-01-27T00:00:00.000000000",
          "2025-02-03T00:00:00.000000000",
          "2025-02-10T00:00:00.000000000",
          "2025-02-17T00:00:00.000000000",
          "2025-02-24T00:00:00.000000000",
          "2025-03-03T00:00:00.000000000",
          "2025-03-10T00:00:00.000000000",
          "2025-03-17T00:00:00.000000000",
          "2025-03-24T00:00:00.000000000",
          "2025-03-31T00:00:00.000000000",
          "2025-04-07T00:00:00.000000000",
          "2025-04-14T00:00:00.000000000",
          "2025-04-21T00:00:00.000000000",
          "2025-04-28T00:00:00.000000000",
          "2025-05-05T00:00:00.000000000",
          "2025-05-12T00:00:00.000000000",
          "2025-05-19T00:00:00.000000000",
          "2025-05-26T00:00:00.000000000",
          "2025-06-02T00:00:00.000000000",
          "2025-06-09T00:00:00.000000000",
          "2025-06-16T00:00:00.000000000",
          "2025-06-23T00:00:00.000000000",
          "2025-06-30T00:00:00.000000000",
          "2025-07-07T00:00:00.000000000",
          "2025-07-14T00:00:00.000000000",
          "2025-07-21T00:00:00.000000000",
          "2025-07-28T00:00:00.000000000",
          "2025-08-04T00:00:00.000000000"
         ],
         "y": {
          "bdata": "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",
          "dtype": "f8"
         }
        },
        {
         "line": {
          "color": "blue",
          "dash": "dot"
         },
         "mode": "lines",
         "name": "Fitted (SARIMAX base)",
         "type": "scatter",
         "x": [
          "2021-03-01T00:00:00.000000000",
          "2021-03-08T00:00:00.000000000",
          "2021-03-15T00:00:00.000000000",
          "2021-03-22T00:00:00.000000000",
          "2021-03-29T00:00:00.000000000",
          "2021-04-05T00:00:00.000000000",
          "2021-04-12T00:00:00.000000000",
          "2021-04-19T00:00:00.000000000",
          "2021-04-26T00:00:00.000000000",
          "2021-05-03T00:00:00.000000000",
          "2021-05-10T00:00:00.000000000",
          "2021-05-17T00:00:00.000000000",
          "2021-05-24T00:00:00.000000000",
          "2021-05-31T00:00:00.000000000",
          "2021-06-07T00:00:00.000000000",
          "2021-06-14T00:00:00.000000000",
          "2021-06-21T00:00:00.000000000",
          "2021-06-28T00:00:00.000000000",
          "2021-07-05T00:00:00.000000000",
          "2021-07-12T00:00:00.000000000",
          "2021-07-19T00:00:00.000000000",
          "2021-07-26T00:00:00.000000000",
          "2021-08-02T00:00:00.000000000",
          "2021-08-09T00:00:00.000000000",
          "2021-08-16T00:00:00.000000000",
          "2021-08-23T00:00:00.000000000",
          "2021-08-30T00:00:00.000000000",
          "2021-09-06T00:00:00.000000000",
          "2021-09-13T00:00:00.000000000",
          "2021-09-20T00:00:00.000000000",
          "2021-09-27T00:00:00.000000000",
          "2021-10-04T00:00:00.000000000",
          "2021-10-11T00:00:00.000000000",
          "2021-10-18T00:00:00.000000000",
          "2021-10-25T00:00:00.000000000",
          "2021-11-01T00:00:00.000000000",
          "2021-11-08T00:00:00.000000000",
          "2021-11-15T00:00:00.000000000",
          "2021-11-22T00:00:00.000000000",
          "2021-11-29T00:00:00.000000000",
          "2021-12-06T00:00:00.000000000",
          "2021-12-13T00:00:00.000000000",
          "2021-12-20T00:00:00.000000000",
          "2021-12-27T00:00:00.000000000",
          "2022-01-03T00:00:00.000000000",
          "2022-01-10T00:00:00.000000000",
          "2022-01-17T00:00:00.000000000",
          "2022-01-24T00:00:00.000000000",
          "2022-01-31T00:00:00.000000000",
          "2022-02-07T00:00:00.000000000",
          "2022-02-14T00:00:00.000000000",
          "2022-02-21T00:00:00.000000000",
          "2022-02-28T00:00:00.000000000",
          "2022-03-07T00:00:00.000000000",
          "2022-03-14T00:00:00.000000000",
          "2022-03-21T00:00:00.000000000",
          "2022-03-28T00:00:00.000000000",
          "2022-04-04T00:00:00.000000000",
          "2022-04-11T00:00:00.000000000",
          "2022-04-18T00:00:00.000000000",
          "2022-04-25T00:00:00.000000000",
          "2022-05-02T00:00:00.000000000",
          "2022-05-09T00:00:00.000000000",
          "2022-05-16T00:00:00.000000000",
          "2022-05-23T00:00:00.000000000",
          "2022-05-30T00:00:00.000000000",
          "2022-06-06T00:00:00.000000000",
          "2022-06-13T00:00:00.000000000",
          "2022-06-20T00:00:00.000000000",
          "2022-06-27T00:00:00.000000000",
          "2022-07-04T00:00:00.000000000",
          "2022-07-11T00:00:00.000000000",
          "2022-07-18T00:00:00.000000000",
          "2022-07-25T00:00:00.000000000",
          "2022-08-01T00:00:00.000000000",
          "2022-08-08T00:00:00.000000000",
          "2022-08-15T00:00:00.000000000",
          "2022-08-22T00:00:00.000000000",
          "2022-08-29T00:00:00.000000000",
          "2022-09-05T00:00:00.000000000",
          "2022-09-12T00:00:00.000000000",
          "2022-09-19T00:00:00.000000000",
          "2022-09-26T00:00:00.000000000",
          "2022-10-03T00:00:00.000000000",
          "2022-10-10T00:00:00.000000000",
          "2022-10-17T00:00:00.000000000",
          "2022-10-24T00:00:00.000000000",
          "2022-10-31T00:00:00.000000000",
          "2022-11-07T00:00:00.000000000"
         ],
         "y": {
          "bdata": "iUpQ+u8wfcAm9dsctGV+wHrjoMPjVILAMyXuc2HJgcBU/s2qfGJ1wBJjnkQk13rAfxEiUiQKe8CiZuwGvzpxwNkIMGvNFHPAhfNo7Tw4fsDufWOtPL15wFvKTwu2iHrAEtXDrjLVdcCfjpUFSWFhwCNzDTOJfW3AyJW3hAtRRkC0t9f3BB1hwAaBALpHjFXAFMhzNMxRU8CsGwEEHCBWwHgL+44qwUbA/YqVAwNgY8BWtbHDlN1wwLl8iLMbxnTAKD725oAQecBM52l0Dnt8wI17Q1Q7m4HAvMYLSf4Mg8A04VR0LFCFwGNM5bLDEoXAsCz2UpMwhcCSN7oPnMmGwF7ybyFPRYzA+LGNNTalisBpyQacn3aNwDp2wkKwUpHAUiPpPlMjkcA2eUiyIsaOwNFERVhFvpLAKd2HsUT2k8C9LMljIxWTwF1LGTHXho/A5k2UuZFij8DujRDF1oCKwPHVRIg1jo3A6b2UZ9MwkMCqsuz+0TOXwCZCsEEAlprAnySXIAcgksCnH7of+NuPwOcKInSSWI3Auk9YYnqDjsB0OAikPP16QOq11Zv21HxAgNbDVsWgekA6mpz39paBQExh2qGNn4NA7bHrXjC7hUAIQF2QD5+HQMB8VPbwUW1A0OxLRZ5RVECg+rPZzldtQGxTZ+udS2xAlAN1oakSc0Ckvyla/5hzQPbInA3/Gm1A1HKMpRNld0DgwNaXh+BoQHDfWLzuJ1pANjl3UyZJc0BGMvyHT31nQPYDIbEBmHZASFk3KJ9meUByBVBQj4N4QJgYnpiKcXpAZKMiRdZiakBY7cy3uIRZQACD2D9UTHRA7kZNH7DuckAkq6Ne1ud0QGKLrWUnQoBAwklpby/rg0Dzx/tQ2CSLQH6yNIAGO5BAkfHIUPAumEB+Ce3JgE6bQG0N4/dRjJ5AwgO0r4oLoECCZgas6/ecQA==",
          "dtype": "f8"
         }
        }
       ],
       "layout": {
        "shapes": [
         {
          "line": {
           "color": "red",
           "dash": "dash"
          },
          "type": "line",
          "x0": "2020-03-01T00:00:00",
          "x1": "2020-03-01T00:00:00",
          "xref": "x",
          "y0": 0,
          "y1": 1,
          "yref": "y domain"
         },
         {
          "line": {
           "color": "green",
           "dash": "dash"
          },
          "type": "line",
          "x0": "2021-01-01T00:00:00",
          "x1": "2021-01-01T00:00:00",
          "xref": "x",
          "y0": 0,
          "y1": 1,
          "yref": "y domain"
         }
        ],
        "template": {
         "data": {
          "bar": [
           {
            "error_x": {
             "color": "#2a3f5f"
            },
            "error_y": {
             "color": "#2a3f5f"
            },
            "marker": {
             "line": {
              "color": "#E5ECF6",
              "width": 0.5
             },
             "pattern": {
              "fillmode": "overlay",
              "size": 10,
              "solidity": 0.2
             }
            },
            "type": "bar"
           }
          ],
          "barpolar": [
           {
            "marker": {
             "line": {
              "color": "#E5ECF6",
              "width": 0.5
             },
             "pattern": {
              "fillmode": "overlay",
              "size": 10,
              "solidity": 0.2
             }
            },
            "type": "barpolar"
           }
          ],
          "carpet": [
           {
            "aaxis": {
             "endlinecolor": "#2a3f5f",
             "gridcolor": "white",
             "linecolor": "white",
             "minorgridcolor": "white",
             "startlinecolor": "#2a3f5f"
            },
            "baxis": {
             "endlinecolor": "#2a3f5f",
             "gridcolor": "white",
             "linecolor": "white",
             "minorgridcolor": "white",
             "startlinecolor": "#2a3f5f"
            },
            "type": "carpet"
           }
          ],
          "choropleth": [
           {
            "colorbar": {
             "outlinewidth": 0,
             "ticks": ""
            },
            "type": "choropleth"
           }
          ],
          "contour": [
           {
            "colorbar": {
             "outlinewidth": 0,
             "ticks": ""
            },
            "colorscale": [
             [
              0,
              "#0d0887"
             ],
             [
              0.1111111111111111,
              "#46039f"
             ],
             [
              0.2222222222222222,
              "#7201a8"
             ],
             [
              0.3333333333333333,
              "#9c179e"
             ],
             [
              0.4444444444444444,
              "#bd3786"
             ],
             [
              0.5555555555555556,
              "#d8576b"
             ],
             [
              0.6666666666666666,
              "#ed7953"
             ],
             [
              0.7777777777777778,
              "#fb9f3a"
             ],
             [
              0.8888888888888888,
              "#fdca26"
             ],
             [
              1,
              "#f0f921"
             ]
            ],
            "type": "contour"
           }
          ],
          "contourcarpet": [
           {
            "colorbar": {
             "outlinewidth": 0,
             "ticks": ""
            },
            "type": "contourcarpet"
           }
          ],
          "heatmap": [
           {
            "colorbar": {
             "outlinewidth": 0,
             "ticks": ""
            },
            "colorscale": [
             [
              0,
              "#0d0887"
             ],
             [
              0.1111111111111111,
              "#46039f"
             ],
             [
              0.2222222222222222,
              "#7201a8"
             ],
             [
              0.3333333333333333,
              "#9c179e"
             ],
             [
              0.4444444444444444,
              "#bd3786"
             ],
             [
              0.5555555555555556,
              "#d8576b"
             ],
             [
              0.6666666666666666,
              "#ed7953"
             ],
             [
              0.7777777777777778,
              "#fb9f3a"
             ],
             [
              0.8888888888888888,
              "#fdca26"
             ],
             [
              1,
              "#f0f921"
             ]
            ],
            "type": "heatmap"
           }
          ],
          "histogram": [
           {
            "marker": {
             "pattern": {
              "fillmode": "overlay",
              "size": 10,
              "solidity": 0.2
             }
            },
            "type": "histogram"
           }
          ],
          "histogram2d": [
           {
            "colorbar": {
             "outlinewidth": 0,
             "ticks": ""
            },
            "colorscale": [
             [
              0,
              "#0d0887"
             ],
             [
              0.1111111111111111,
              "#46039f"
             ],
             [
              0.2222222222222222,
              "#7201a8"
             ],
             [
              0.3333333333333333,
              "#9c179e"
             ],
             [
              0.4444444444444444,
              "#bd3786"
             ],
             [
              0.5555555555555556,
              "#d8576b"
             ],
             [
              0.6666666666666666,
              "#ed7953"
             ],
             [
              0.7777777777777778,
              "#fb9f3a"
             ],
             [
              0.8888888888888888,
              "#fdca26"
             ],
             [
              1,
              "#f0f921"
             ]
            ],
            "type": "histogram2d"
           }
          ],
          "histogram2dcontour": [
           {
            "colorbar": {
             "outlinewidth": 0,
             "ticks": ""
            },
            "colorscale": [
             [
              0,
              "#0d0887"
             ],
             [
              0.1111111111111111,
              "#46039f"
             ],
             [
              0.2222222222222222,
              "#7201a8"
             ],
             [
              0.3333333333333333,
              "#9c179e"
             ],
             [
              0.4444444444444444,
              "#bd3786"
             ],
             [
              0.5555555555555556,
              "#d8576b"
             ],
             [
              0.6666666666666666,
              "#ed7953"
             ],
             [
              0.7777777777777778,
              "#fb9f3a"
             ],
             [
              0.8888888888888888,
              "#fdca26"
             ],
             [
              1,
              "#f0f921"
             ]
            ],
            "type": "histogram2dcontour"
           }
          ],
          "mesh3d": [
           {
            "colorbar": {
             "outlinewidth": 0,
             "ticks": ""
            },
            "type": "mesh3d"
           }
          ],
          "parcoords": [
           {
            "line": {
             "colorbar": {
              "outlinewidth": 0,
              "ticks": ""
             }
            },
            "type": "parcoords"
           }
          ],
          "pie": [
           {
            "automargin": true,
            "type": "pie"
           }
          ],
          "scatter": [
           {
            "fillpattern": {
             "fillmode": "overlay",
             "size": 10,
             "solidity": 0.2
            },
            "type": "scatter"
           }
          ],
          "scatter3d": [
           {
            "line": {
             "colorbar": {
              "outlinewidth": 0,
              "ticks": ""
             }
            },
            "marker": {
             "colorbar": {
              "outlinewidth": 0,
              "ticks": ""
             }
            },
            "type": "scatter3d"
           }
          ],
          "scattercarpet": [
           {
            "marker": {
             "colorbar": {
              "outlinewidth": 0,
              "ticks": ""
             }
            },
            "type": "scattercarpet"
           }
          ],
          "scattergeo": [
           {
            "marker": {
             "colorbar": {
              "outlinewidth": 0,
              "ticks": ""
             }
            },
            "type": "scattergeo"
           }
          ],
          "scattergl": [
           {
            "marker": {
             "colorbar": {
              "outlinewidth": 0,
              "ticks": ""
             }
            },
            "type": "scattergl"
           }
          ],
          "scattermap": [
           {
            "marker": {
             "colorbar": {
              "outlinewidth": 0,
              "ticks": ""
             }
            },
            "type": "scattermap"
           }
          ],
          "scattermapbox": [
           {
            "marker": {
             "colorbar": {
              "outlinewidth": 0,
              "ticks": ""
             }
            },
            "type": "scattermapbox"
           }
          ],
          "scatterpolar": [
           {
            "marker": {
             "colorbar": {
              "outlinewidth": 0,
              "ticks": ""
             }
            },
            "type": "scatterpolar"
           }
          ],
          "scatterpolargl": [
           {
            "marker": {
             "colorbar": {
              "outlinewidth": 0,
              "ticks": ""
             }
            },
            "type": "scatterpolargl"
           }
          ],
          "scatterternary": [
           {
            "marker": {
             "colorbar": {
              "outlinewidth": 0,
              "ticks": ""
             }
            },
            "type": "scatterternary"
           }
          ],
          "surface": [
           {
            "colorbar": {
             "outlinewidth": 0,
             "ticks": ""
            },
            "colorscale": [
             [
              0,
              "#0d0887"
             ],
             [
              0.1111111111111111,
              "#46039f"
             ],
             [
              0.2222222222222222,
              "#7201a8"
             ],
             [
              0.3333333333333333,
              "#9c179e"
             ],
             [
              0.4444444444444444,
              "#bd3786"
             ],
             [
              0.5555555555555556,
              "#d8576b"
             ],
             [
              0.6666666666666666,
              "#ed7953"
             ],
             [
              0.7777777777777778,
              "#fb9f3a"
             ],
             [
              0.8888888888888888,
              "#fdca26"
             ],
             [
              1,
              "#f0f921"
             ]
            ],
            "type": "surface"
           }
          ],
          "table": [
           {
            "cells": {
             "fill": {
              "color": "#EBF0F8"
             },
             "line": {
              "color": "white"
             }
            },
            "header": {
             "fill": {
              "color": "#C8D4E3"
             },
             "line": {
              "color": "white"
             }
            },
            "type": "table"
           }
          ]
         },
         "layout": {
          "annotationdefaults": {
           "arrowcolor": "#2a3f5f",
           "arrowhead": 0,
           "arrowwidth": 1
          },
          "autotypenumbers": "strict",
          "coloraxis": {
           "colorbar": {
            "outlinewidth": 0,
            "ticks": ""
           }
          },
          "colorscale": {
           "diverging": [
            [
             0,
             "#8e0152"
            ],
            [
             0.1,
             "#c51b7d"
            ],
            [
             0.2,
             "#de77ae"
            ],
            [
             0.3,
             "#f1b6da"
            ],
            [
             0.4,
             "#fde0ef"
            ],
            [
             0.5,
             "#f7f7f7"
            ],
            [
             0.6,
             "#e6f5d0"
            ],
            [
             0.7,
             "#b8e186"
            ],
            [
             0.8,
             "#7fbc41"
            ],
            [
             0.9,
             "#4d9221"
            ],
            [
             1,
             "#276419"
            ]
           ],
           "sequential": [
            [
             0,
             "#0d0887"
            ],
            [
             0.1111111111111111,
             "#46039f"
            ],
            [
             0.2222222222222222,
             "#7201a8"
            ],
            [
             0.3333333333333333,
             "#9c179e"
            ],
            [
             0.4444444444444444,
             "#bd3786"
            ],
            [
             0.5555555555555556,
             "#d8576b"
            ],
            [
             0.6666666666666666,
             "#ed7953"
            ],
            [
             0.7777777777777778,
             "#fb9f3a"
            ],
            [
             0.8888888888888888,
             "#fdca26"
            ],
            [
             1,
             "#f0f921"
            ]
           ],
           "sequentialminus": [
            [
             0,
             "#0d0887"
            ],
            [
             0.1111111111111111,
             "#46039f"
            ],
            [
             0.2222222222222222,
             "#7201a8"
            ],
            [
             0.3333333333333333,
             "#9c179e"
            ],
            [
             0.4444444444444444,
             "#bd3786"
            ],
            [
             0.5555555555555556,
             "#d8576b"
            ],
            [
             0.6666666666666666,
             "#ed7953"
            ],
            [
             0.7777777777777778,
             "#fb9f3a"
            ],
            [
             0.8888888888888888,
             "#fdca26"
            ],
            [
             1,
             "#f0f921"
            ]
           ]
          },
          "colorway": [
           "#636efa",
           "#EF553B",
           "#00cc96",
           "#ab63fa",
           "#FFA15A",
           "#19d3f3",
           "#FF6692",
           "#B6E880",
           "#FF97FF",
           "#FECB52"
          ],
          "font": {
           "color": "#2a3f5f"
          },
          "geo": {
           "bgcolor": "white",
           "lakecolor": "white",
           "landcolor": "#E5ECF6",
           "showlakes": true,
           "showland": true,
           "subunitcolor": "white"
          },
          "hoverlabel": {
           "align": "left"
          },
          "hovermode": "closest",
          "mapbox": {
           "style": "light"
          },
          "paper_bgcolor": "white",
          "plot_bgcolor": "#E5ECF6",
          "polar": {
           "angularaxis": {
            "gridcolor": "white",
            "linecolor": "white",
            "ticks": ""
           },
           "bgcolor": "#E5ECF6",
           "radialaxis": {
            "gridcolor": "white",
            "linecolor": "white",
            "ticks": ""
           }
          },
          "scene": {
           "xaxis": {
            "backgroundcolor": "#E5ECF6",
            "gridcolor": "white",
            "gridwidth": 2,
            "linecolor": "white",
            "showbackground": true,
            "ticks": "",
            "zerolinecolor": "white"
           },
           "yaxis": {
            "backgroundcolor": "#E5ECF6",
            "gridcolor": "white",
            "gridwidth": 2,
            "linecolor": "white",
            "showbackground": true,
            "ticks": "",
            "zerolinecolor": "white"
           },
           "zaxis": {
            "backgroundcolor": "#E5ECF6",
            "gridcolor": "white",
            "gridwidth": 2,
            "linecolor": "white",
            "showbackground": true,
            "ticks": "",
            "zerolinecolor": "white"
           }
          },
          "shapedefaults": {
           "line": {
            "color": "#2a3f5f"
           }
          },
          "ternary": {
           "aaxis": {
            "gridcolor": "white",
            "linecolor": "white",
            "ticks": ""
           },
           "baxis": {
            "gridcolor": "white",
            "linecolor": "white",
            "ticks": ""
           },
           "bgcolor": "#E5ECF6",
           "caxis": {
            "gridcolor": "white",
            "linecolor": "white",
            "ticks": ""
           }
          },
          "title": {
           "x": 0.05
          },
          "xaxis": {
           "automargin": true,
           "gridcolor": "white",
           "linecolor": "white",
           "ticks": "",
           "title": {
            "standoff": 15
           },
           "zerolinecolor": "white",
           "zerolinewidth": 2
          },
          "yaxis": {
           "automargin": true,
           "gridcolor": "white",
           "linecolor": "white",
           "ticks": "",
           "title": {
            "standoff": 15
           },
           "zerolinecolor": "white",
           "zerolinewidth": 2
          }
         }
        },
        "title": {
         "text": "SARIMAX base — RSV Observé vs Ajusté (série complète)"
        },
        "xaxis": {
         "title": {
          "text": "Semaine"
         }
        },
        "yaxis": {
         "title": {
          "text": "RSV (taux)"
         }
        }
       }
      }
     },
     "metadata": {},
     "output_type": "display_data"
    },
    {
     "name": "stdout",
     "output_type": "stream",
     "text": [
      "🏆 SARIMAX optimisé: order=(0, 1, 3)×(0, 1, 0, 52) | BIC=402.8\n",
      "Pseudo-R² ≈ 0.907\n",
      "Durbin–Watson=1.046\n"
     ]
    },
    {
     "data": {
      "text/html": [
       "<div>\n",
       "<style scoped>\n",
       "    .dataframe tbody tr th:only-of-type {\n",
       "        vertical-align: middle;\n",
       "    }\n",
       "\n",
       "    .dataframe tbody tr th {\n",
       "        vertical-align: top;\n",
       "    }\n",
       "\n",
       "    .dataframe thead th {\n",
       "        text-align: right;\n",
       "    }\n",
       "</style>\n",
       "<table border=\"1\" class=\"dataframe\">\n",
       "  <thead>\n",
       "    <tr style=\"text-align: right;\">\n",
       "      <th></th>\n",
       "      <th>lb_stat</th>\n",
       "      <th>lb_pvalue</th>\n",
       "    </tr>\n",
       "  </thead>\n",
       "  <tbody>\n",
       "    <tr>\n",
       "      <th>8</th>\n",
       "      <td>22.127002</td>\n",
       "      <td>0.004686</td>\n",
       "    </tr>\n",
       "    <tr>\n",
       "      <th>12</th>\n",
       "      <td>23.670389</td>\n",
       "      <td>0.022545</td>\n",
       "    </tr>\n",
       "    <tr>\n",
       "      <th>24</th>\n",
       "      <td>34.897050</td>\n",
       "      <td>0.069942</td>\n",
       "    </tr>\n",
       "  </tbody>\n",
       "</table>\n",
       "</div>"
      ],
      "text/plain": [
       "      lb_stat  lb_pvalue\n",
       "8   22.127002   0.004686\n",
       "12  23.670389   0.022545\n",
       "24  34.897050   0.069942"
      ]
     },
     "metadata": {},
     "output_type": "display_data"
    },
    {
     "data": {
      "application/vnd.plotly.v1+json": {
       "config": {
        "plotlyServerURL": "https://plot.ly"
       },
       "data": [
        {
         "line": {
          "color": "black",
          "width": 2
         },
         "mode": "lines",
         "name": "RSV Observé (2018–2025)",
         "type": "scatter",
         "x": [
          "2019-12-30T00:00:00.000000000",
          "2020-01-06T00:00:00.000000000",
          "2020-01-13T00:00:00.000000000",
          "2020-01-20T00:00:00.000000000",
          "2020-01-27T00:00:00.000000000",
          "2020-02-03T00:00:00.000000000",
          "2020-02-10T00:00:00.000000000",
          "2020-02-17T00:00:00.000000000",
          "2020-02-24T00:00:00.000000000",
          "2020-03-02T00:00:00.000000000",
          "2020-03-09T00:00:00.000000000",
          "2020-03-16T00:00:00.000000000",
          "2020-03-23T00:00:00.000000000",
          "2020-03-30T00:00:00.000000000",
          "2020-04-06T00:00:00.000000000",
          "2020-04-13T00:00:00.000000000",
          "2020-04-20T00:00:00.000000000",
          "2020-04-27T00:00:00.000000000",
          "2020-05-04T00:00:00.000000000",
          "2020-05-11T00:00:00.000000000",
          "2020-05-18T00:00:00.000000000",
          "2020-05-25T00:00:00.000000000",
          "2020-06-01T00:00:00.000000000",
          "2020-06-08T00:00:00.000000000",
          "2020-06-15T00:00:00.000000000",
          "2020-06-22T00:00:00.000000000",
          "2020-06-29T00:00:00.000000000",
          "2020-07-06T00:00:00.000000000",
          "2020-07-13T00:00:00.000000000",
          "2020-07-20T00:00:00.000000000",
          "2020-07-27T00:00:00.000000000",
          "2020-08-03T00:00:00.000000000",
          "2020-08-10T00:00:00.000000000",
          "2020-08-17T00:00:00.000000000",
          "2020-08-24T00:00:00.000000000",
          "2020-08-31T00:00:00.000000000",
          "2020-09-07T00:00:00.000000000",
          "2020-09-14T00:00:00.000000000",
          "2020-09-21T00:00:00.000000000",
          "2020-09-28T00:00:00.000000000",
          "2020-10-05T00:00:00.000000000",
          "2020-10-12T00:00:00.000000000",
          "2020-10-19T00:00:00.000000000",
          "2020-10-26T00:00:00.000000000",
          "2020-11-02T00:00:00.000000000",
          "2020-11-09T00:00:00.000000000",
          "2020-11-16T00:00:00.000000000",
          "2020-11-23T00:00:00.000000000",
          "2020-11-30T00:00:00.000000000",
          "2020-12-07T00:00:00.000000000",
          "2020-12-14T00:00:00.000000000",
          "2020-12-21T00:00:00.000000000",
          "2020-12-28T00:00:00.000000000",
          "2021-01-04T00:00:00.000000000",
          "2021-01-11T00:00:00.000000000",
          "2021-01-18T00:00:00.000000000",
          "2021-01-25T00:00:00.000000000",
          "2021-02-01T00:00:00.000000000",
          "2021-02-08T00:00:00.000000000",
          "2021-02-15T00:00:00.000000000",
          "2021-02-22T00:00:00.000000000",
          "2021-03-01T00:00:00.000000000",
          "2021-03-08T00:00:00.000000000",
          "2021-03-15T00:00:00.000000000",
          "2021-03-22T00:00:00.000000000",
          "2021-03-29T00:00:00.000000000",
          "2021-04-05T00:00:00.000000000",
          "2021-04-12T00:00:00.000000000",
          "2021-04-19T00:00:00.000000000",
          "2021-04-26T00:00:00.000000000",
          "2021-05-03T00:00:00.000000000",
          "2021-05-10T00:00:00.000000000",
          "2021-05-17T00:00:00.000000000",
          "2021-05-24T00:00:00.000000000",
          "2021-05-31T00:00:00.000000000",
          "2021-06-07T00:00:00.000000000",
          "2021-06-14T00:00:00.000000000",
          "2021-06-21T00:00:00.000000000",
          "2021-06-28T00:00:00.000000000",
          "2021-07-05T00:00:00.000000000",
          "2021-07-12T00:00:00.000000000",
          "2021-07-19T00:00:00.000000000",
          "2021-07-26T00:00:00.000000000",
          "2021-08-02T00:00:00.000000000",
          "2021-08-09T00:00:00.000000000",
          "2021-08-16T00:00:00.000000000",
          "2021-08-23T00:00:00.000000000",
          "2021-08-30T00:00:00.000000000",
          "2021-09-06T00:00:00.000000000",
          "2021-09-13T00:00:00.000000000",
          "2021-09-20T00:00:00.000000000",
          "2021-09-27T00:00:00.000000000",
          "2021-10-04T00:00:00.000000000",
          "2021-10-11T00:00:00.000000000",
          "2021-10-18T00:00:00.000000000",
          "2021-10-25T00:00:00.000000000",
          "2021-11-01T00:00:00.000000000",
          "2021-11-08T00:00:00.000000000",
          "2021-11-15T00:00:00.000000000",
          "2021-11-22T00:00:00.000000000",
          "2021-11-29T00:00:00.000000000",
          "2021-12-06T00:00:00.000000000",
          "2021-12-13T00:00:00.000000000",
          "2021-12-20T00:00:00.000000000",
          "2021-12-27T00:00:00.000000000",
          "2022-01-03T00:00:00.000000000",
          "2022-01-10T00:00:00.000000000",
          "2022-01-17T00:00:00.000000000",
          "2022-01-24T00:00:00.000000000",
          "2022-01-31T00:00:00.000000000",
          "2022-02-07T00:00:00.000000000",
          "2022-02-14T00:00:00.000000000",
          "2022-02-21T00:00:00.000000000",
          "2022-02-28T00:00:00.000000000",
          "2022-03-07T00:00:00.000000000",
          "2022-03-14T00:00:00.000000000",
          "2022-03-21T00:00:00.000000000",
          "2022-03-28T00:00:00.000000000",
          "2022-04-04T00:00:00.000000000",
          "2022-04-11T00:00:00.000000000",
          "2022-04-18T00:00:00.000000000",
          "2022-04-25T00:00:00.000000000",
          "2022-05-02T00:00:00.000000000",
          "2022-05-09T00:00:00.000000000",
          "2022-05-16T00:00:00.000000000",
          "2022-05-23T00:00:00.000000000",
          "2022-05-30T00:00:00.000000000",
          "2022-06-06T00:00:00.000000000",
          "2022-06-13T00:00:00.000000000",
          "2022-06-20T00:00:00.000000000",
          "2022-06-27T00:00:00.000000000",
          "2022-07-04T00:00:00.000000000",
          "2022-07-11T00:00:00.000000000",
          "2022-07-18T00:00:00.000000000",
          "2022-07-25T00:00:00.000000000",
          "2022-08-01T00:00:00.000000000",
          "2022-08-08T00:00:00.000000000",
          "2022-08-15T00:00:00.000000000",
          "2022-08-22T00:00:00.000000000",
          "2022-08-29T00:00:00.000000000",
          "2022-09-05T00:00:00.000000000",
          "2022-09-12T00:00:00.000000000",
          "2022-09-19T00:00:00.000000000",
          "2022-09-26T00:00:00.000000000",
          "2022-10-03T00:00:00.000000000",
          "2022-10-10T00:00:00.000000000",
          "2022-10-17T00:00:00.000000000",
          "2022-10-24T00:00:00.000000000",
          "2022-10-31T00:00:00.000000000",
          "2022-11-07T00:00:00.000000000",
          "2022-11-14T00:00:00.000000000",
          "2022-11-21T00:00:00.000000000",
          "2022-11-28T00:00:00.000000000",
          "2022-12-05T00:00:00.000000000",
          "2022-12-12T00:00:00.000000000",
          "2022-12-19T00:00:00.000000000",
          "2022-12-26T00:00:00.000000000",
          "2023-01-02T00:00:00.000000000",
          "2023-01-09T00:00:00.000000000",
          "2023-01-16T00:00:00.000000000",
          "2023-01-23T00:00:00.000000000",
          "2023-01-30T00:00:00.000000000",
          "2023-02-06T00:00:00.000000000",
          "2023-02-13T00:00:00.000000000",
          "2023-02-20T00:00:00.000000000",
          "2023-02-27T00:00:00.000000000",
          "2023-03-06T00:00:00.000000000",
          "2023-03-13T00:00:00.000000000",
          "2023-03-20T00:00:00.000000000",
          "2023-03-27T00:00:00.000000000",
          "2023-04-03T00:00:00.000000000",
          "2023-04-10T00:00:00.000000000",
          "2023-04-17T00:00:00.000000000",
          "2023-04-24T00:00:00.000000000",
          "2023-05-01T00:00:00.000000000",
          "2023-05-08T00:00:00.000000000",
          "2023-05-15T00:00:00.000000000",
          "2023-05-22T00:00:00.000000000",
          "2023-05-29T00:00:00.000000000",
          "2023-06-05T00:00:00.000000000",
          "2023-06-12T00:00:00.000000000",
          "2023-06-19T00:00:00.000000000",
          "2023-06-26T00:00:00.000000000",
          "2023-07-03T00:00:00.000000000",
          "2023-07-10T00:00:00.000000000",
          "2023-07-17T00:00:00.000000000",
          "2023-07-24T00:00:00.000000000",
          "2023-07-31T00:00:00.000000000",
          "2023-08-07T00:00:00.000000000",
          "2023-08-14T00:00:00.000000000",
          "2023-08-21T00:00:00.000000000",
          "2023-08-28T00:00:00.000000000",
          "2023-09-04T00:00:00.000000000",
          "2023-09-11T00:00:00.000000000",
          "2023-09-18T00:00:00.000000000",
          "2023-09-25T00:00:00.000000000",
          "2023-10-02T00:00:00.000000000",
          "2023-10-09T00:00:00.000000000",
          "2023-10-16T00:00:00.000000000",
          "2023-10-23T00:00:00.000000000",
          "2023-10-30T00:00:00.000000000",
          "2023-11-06T00:00:00.000000000",
          "2023-11-13T00:00:00.000000000",
          "2023-11-20T00:00:00.000000000",
          "2023-11-27T00:00:00.000000000",
          "2023-12-04T00:00:00.000000000",
          "2023-12-11T00:00:00.000000000",
          "2023-12-18T00:00:00.000000000",
          "2023-12-25T00:00:00.000000000",
          "2024-01-01T00:00:00.000000000",
          "2024-01-08T00:00:00.000000000",
          "2024-01-15T00:00:00.000000000",
          "2024-01-22T00:00:00.000000000",
          "2024-01-29T00:00:00.000000000",
          "2024-02-05T00:00:00.000000000",
          "2024-02-12T00:00:00.000000000",
          "2024-02-19T00:00:00.000000000",
          "2024-02-26T00:00:00.000000000",
          "2024-03-04T00:00:00.000000000",
          "2024-03-11T00:00:00.000000000",
          "2024-03-18T00:00:00.000000000",
          "2024-03-25T00:00:00.000000000",
          "2024-04-01T00:00:00.000000000",
          "2024-04-08T00:00:00.000000000",
          "2024-04-15T00:00:00.000000000",
          "2024-04-22T00:00:00.000000000",
          "2024-04-29T00:00:00.000000000",
          "2024-05-06T00:00:00.000000000",
          "2024-05-13T00:00:00.000000000",
          "2024-05-20T00:00:00.000000000",
          "2024-05-27T00:00:00.000000000",
          "2024-06-03T00:00:00.000000000",
          "2024-06-10T00:00:00.000000000",
          "2024-06-17T00:00:00.000000000",
          "2024-06-24T00:00:00.000000000",
          "2024-07-01T00:00:00.000000000",
          "2024-07-08T00:00:00.000000000",
          "2024-07-15T00:00:00.000000000",
          "2024-07-22T00:00:00.000000000",
          "2024-07-29T00:00:00.000000000",
          "2024-08-05T00:00:00.000000000",
          "2024-08-12T00:00:00.000000000",
          "2024-08-19T00:00:00.000000000",
          "2024-08-26T00:00:00.000000000",
          "2024-09-02T00:00:00.000000000",
          "2024-09-09T00:00:00.000000000",
          "2024-09-16T00:00:00.000000000",
          "2024-09-23T00:00:00.000000000",
          "2024-09-30T00:00:00.000000000",
          "2024-10-07T00:00:00.000000000",
          "2024-10-14T00:00:00.000000000",
          "2024-10-21T00:00:00.000000000",
          "2024-10-28T00:00:00.000000000",
          "2024-11-04T00:00:00.000000000",
          "2024-11-11T00:00:00.000000000",
          "2024-11-18T00:00:00.000000000",
          "2024-11-25T00:00:00.000000000",
          "2024-12-02T00:00:00.000000000",
          "2024-12-09T00:00:00.000000000",
          "2024-12-16T00:00:00.000000000",
          "2024-12-23T00:00:00.000000000",
          "2024-12-30T00:00:00.000000000",
          "2025-01-06T00:00:00.000000000",
          "2025-01-13T00:00:00.000000000",
          "2025-01-20T00:00:00.000000000",
          "2025-01-27T00:00:00.000000000",
          "2025-02-03T00:00:00.000000000",
          "2025-02-10T00:00:00.000000000",
          "2025-02-17T00:00:00.000000000",
          "2025-02-24T00:00:00.000000000",
          "2025-03-03T00:00:00.000000000",
          "2025-03-10T00:00:00.000000000",
          "2025-03-17T00:00:00.000000000",
          "2025-03-24T00:00:00.000000000",
          "2025-03-31T00:00:00.000000000",
          "2025-04-07T00:00:00.000000000",
          "2025-04-14T00:00:00.000000000",
          "2025-04-21T00:00:00.000000000",
          "2025-04-28T00:00:00.000000000",
          "2025-05-05T00:00:00.000000000",
          "2025-05-12T00:00:00.000000000",
          "2025-05-19T00:00:00.000000000",
          "2025-05-26T00:00:00.000000000",
          "2025-06-02T00:00:00.000000000",
          "2025-06-09T00:00:00.000000000",
          "2025-06-16T00:00:00.000000000",
          "2025-06-23T00:00:00.000000000",
          "2025-06-30T00:00:00.000000000",
          "2025-07-07T00:00:00.000000000",
          "2025-07-14T00:00:00.000000000",
          "2025-07-21T00:00:00.000000000",
          "2025-07-28T00:00:00.000000000",
          "2025-08-04T00:00:00.000000000"
         ],
         "y": {
          "bdata": "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",
          "dtype": "f8"
         }
        },
        {
         "line": {
          "color": "blue",
          "dash": "dot"
         },
         "mode": "lines",
         "name": "SARIMAX optimisé (fitted)",
         "type": "scatter",
         "x": [
          "2021-03-01T00:00:00.000000000",
          "2021-03-08T00:00:00.000000000",
          "2021-03-15T00:00:00.000000000",
          "2021-03-22T00:00:00.000000000",
          "2021-03-29T00:00:00.000000000",
          "2021-04-05T00:00:00.000000000",
          "2021-04-12T00:00:00.000000000",
          "2021-04-19T00:00:00.000000000",
          "2021-04-26T00:00:00.000000000",
          "2021-05-03T00:00:00.000000000",
          "2021-05-10T00:00:00.000000000",
          "2021-05-17T00:00:00.000000000",
          "2021-05-24T00:00:00.000000000",
          "2021-05-31T00:00:00.000000000",
          "2021-06-07T00:00:00.000000000",
          "2021-06-14T00:00:00.000000000",
          "2021-06-21T00:00:00.000000000",
          "2021-06-28T00:00:00.000000000",
          "2021-07-05T00:00:00.000000000",
          "2021-07-12T00:00:00.000000000",
          "2021-07-19T00:00:00.000000000",
          "2021-07-26T00:00:00.000000000",
          "2021-08-02T00:00:00.000000000",
          "2021-08-09T00:00:00.000000000",
          "2021-08-16T00:00:00.000000000",
          "2021-08-23T00:00:00.000000000",
          "2021-08-30T00:00:00.000000000",
          "2021-09-06T00:00:00.000000000",
          "2021-09-13T00:00:00.000000000",
          "2021-09-20T00:00:00.000000000",
          "2021-09-27T00:00:00.000000000",
          "2021-10-04T00:00:00.000000000",
          "2021-10-11T00:00:00.000000000",
          "2021-10-18T00:00:00.000000000",
          "2021-10-25T00:00:00.000000000",
          "2021-11-01T00:00:00.000000000",
          "2021-11-08T00:00:00.000000000",
          "2021-11-15T00:00:00.000000000",
          "2021-11-22T00:00:00.000000000",
          "2021-11-29T00:00:00.000000000",
          "2021-12-06T00:00:00.000000000",
          "2021-12-13T00:00:00.000000000",
          "2021-12-20T00:00:00.000000000",
          "2021-12-27T00:00:00.000000000",
          "2022-01-03T00:00:00.000000000",
          "2022-01-10T00:00:00.000000000",
          "2022-01-17T00:00:00.000000000",
          "2022-01-24T00:00:00.000000000",
          "2022-01-31T00:00:00.000000000",
          "2022-02-07T00:00:00.000000000",
          "2022-02-14T00:00:00.000000000",
          "2022-02-21T00:00:00.000000000",
          "2022-02-28T00:00:00.000000000",
          "2022-03-07T00:00:00.000000000",
          "2022-03-14T00:00:00.000000000",
          "2022-03-21T00:00:00.000000000",
          "2022-03-28T00:00:00.000000000",
          "2022-04-04T00:00:00.000000000",
          "2022-04-11T00:00:00.000000000",
          "2022-04-18T00:00:00.000000000",
          "2022-04-25T00:00:00.000000000",
          "2022-05-02T00:00:00.000000000",
          "2022-05-09T00:00:00.000000000",
          "2022-05-16T00:00:00.000000000",
          "2022-05-23T00:00:00.000000000",
          "2022-05-30T00:00:00.000000000",
          "2022-06-06T00:00:00.000000000",
          "2022-06-13T00:00:00.000000000",
          "2022-06-20T00:00:00.000000000",
          "2022-06-27T00:00:00.000000000",
          "2022-07-04T00:00:00.000000000",
          "2022-07-11T00:00:00.000000000",
          "2022-07-18T00:00:00.000000000",
          "2022-07-25T00:00:00.000000000",
          "2022-08-01T00:00:00.000000000",
          "2022-08-08T00:00:00.000000000",
          "2022-08-15T00:00:00.000000000",
          "2022-08-22T00:00:00.000000000",
          "2022-08-29T00:00:00.000000000",
          "2022-09-05T00:00:00.000000000",
          "2022-09-12T00:00:00.000000000",
          "2022-09-19T00:00:00.000000000",
          "2022-09-26T00:00:00.000000000",
          "2022-10-03T00:00:00.000000000",
          "2022-10-10T00:00:00.000000000",
          "2022-10-17T00:00:00.000000000",
          "2022-10-24T00:00:00.000000000",
          "2022-10-31T00:00:00.000000000",
          "2022-11-07T00:00:00.000000000"
         ],
         "y": {
          "bdata": "scTvU1oVUUCp+QUij9aMQPJKWpQCPYxAlCF+AL7cj0DPyDLKOpCSQKFMSN8JAZNAkMNL7bHWkUAYly7xOtCPQPqkytBI6YVAJVHx+WhPgECeuSDZWld5QPef/tFom39AllxL4iDzgEBsqSlglh+AQDeuKV93YYFAmCyMgzZQfUBcnICnfxp/QDy60v/Mq3xAEPOTn2c6gkAo6RMB1LaBQC4Pf5QJkIJAth31B2L0gUDNVRPGgtV8QFBKVRip6HVATDhfhnvGakDsBQ3mr3tpQNgtxuRstmVApBCkQobHaUAANF42jeFsQL4ehRhX73lAHDndpVyJfkBtGaswGVqFQHLqvwOp34pAtsmjQf5tkEB08hQDoqeTQDuDOuhp1ZZA5Ic+wgl3mECJYFaPP5yWQHaoJjk6x5hAQsoAwTKSnUB08ouZHRqeQJi/z3QIdJtAlMdehM01mkDsMRonpRWWQJqjTr6MOJRAaKd5oqBJjUBn71iR0WSKQK/jNVQeaYZAGlJkXkjHf0By3+pbX++CQE/00yXjdYBAHM7Uc/2RgEAo96/mb7WPQIYoEG0NQ3tA3AGzWibNf0CSmTQeziGBQFxmrh3RnXlA5DvVm8TacUAASa9X5ll6QJhVa5yromxASLhEZsV9dkAc246xYEF7QNyNnByRinlAQNbpbb0TdkDcQQbH0o51QJwPWQqIu3hAyFNrKS0ad0AQnm46qYh4QFCAiVDLp3ZA3MGI3W7SdkBAEboqZLB1QPB83z60mnhAvIDd6YIec0AAw0AjY19oQJDIvdvUt2dAWFiyaRhhbkDQPgok85hoQHBgTyfAQ2RA8FyWexzdbkAIK0G01N5wQNgGb4dXwn1AmLwvfg+KfkB2chSwsx+KQMohgbeB145ATlc/foLOkUBaJXAQsnmYQINxDePc3p5AZWmjz5TiokAe4eKo3QuiQA==",
          "dtype": "f8"
         }
        }
       ],
       "layout": {
        "shapes": [
         {
          "line": {
           "color": "red",
           "dash": "dash"
          },
          "type": "line",
          "x0": "2020-03-01T00:00:00",
          "x1": "2020-03-01T00:00:00",
          "xref": "x",
          "y0": 0,
          "y1": 1,
          "yref": "y domain"
         },
         {
          "line": {
           "color": "green",
           "dash": "dash"
          },
          "type": "line",
          "x0": "2021-01-01T00:00:00",
          "x1": "2021-01-01T00:00:00",
          "xref": "x",
          "y0": 0,
          "y1": 1,
          "yref": "y domain"
         }
        ],
        "template": {
         "data": {
          "bar": [
           {
            "error_x": {
             "color": "#2a3f5f"
            },
            "error_y": {
             "color": "#2a3f5f"
            },
            "marker": {
             "line": {
              "color": "#E5ECF6",
              "width": 0.5
             },
             "pattern": {
              "fillmode": "overlay",
              "size": 10,
              "solidity": 0.2
             }
            },
            "type": "bar"
           }
          ],
          "barpolar": [
           {
            "marker": {
             "line": {
              "color": "#E5ECF6",
              "width": 0.5
             },
             "pattern": {
              "fillmode": "overlay",
              "size": 10,
              "solidity": 0.2
             }
            },
            "type": "barpolar"
           }
          ],
          "carpet": [
           {
            "aaxis": {
             "endlinecolor": "#2a3f5f",
             "gridcolor": "white",
             "linecolor": "white",
             "minorgridcolor": "white",
             "startlinecolor": "#2a3f5f"
            },
            "baxis": {
             "endlinecolor": "#2a3f5f",
             "gridcolor": "white",
             "linecolor": "white",
             "minorgridcolor": "white",
             "startlinecolor": "#2a3f5f"
            },
            "type": "carpet"
           }
          ],
          "choropleth": [
           {
            "colorbar": {
             "outlinewidth": 0,
             "ticks": ""
            },
            "type": "choropleth"
           }
          ],
          "contour": [
           {
            "colorbar": {
             "outlinewidth": 0,
             "ticks": ""
            },
            "colorscale": [
             [
              0,
              "#0d0887"
             ],
             [
              0.1111111111111111,
              "#46039f"
             ],
             [
              0.2222222222222222,
              "#7201a8"
             ],
             [
              0.3333333333333333,
              "#9c179e"
             ],
             [
              0.4444444444444444,
              "#bd3786"
             ],
             [
              0.5555555555555556,
              "#d8576b"
             ],
             [
              0.6666666666666666,
              "#ed7953"
             ],
             [
              0.7777777777777778,
              "#fb9f3a"
             ],
             [
              0.8888888888888888,
              "#fdca26"
             ],
             [
              1,
              "#f0f921"
             ]
            ],
            "type": "contour"
           }
          ],
          "contourcarpet": [
           {
            "colorbar": {
             "outlinewidth": 0,
             "ticks": ""
            },
            "type": "contourcarpet"
           }
          ],
          "heatmap": [
           {
            "colorbar": {
             "outlinewidth": 0,
             "ticks": ""
            },
            "colorscale": [
             [
              0,
              "#0d0887"
             ],
             [
              0.1111111111111111,
              "#46039f"
             ],
             [
              0.2222222222222222,
              "#7201a8"
             ],
             [
              0.3333333333333333,
              "#9c179e"
             ],
             [
              0.4444444444444444,
              "#bd3786"
             ],
             [
              0.5555555555555556,
              "#d8576b"
             ],
             [
              0.6666666666666666,
              "#ed7953"
             ],
             [
              0.7777777777777778,
              "#fb9f3a"
             ],
             [
              0.8888888888888888,
              "#fdca26"
             ],
             [
              1,
              "#f0f921"
             ]
            ],
            "type": "heatmap"
           }
          ],
          "histogram": [
           {
            "marker": {
             "pattern": {
              "fillmode": "overlay",
              "size": 10,
              "solidity": 0.2
             }
            },
            "type": "histogram"
           }
          ],
          "histogram2d": [
           {
            "colorbar": {
             "outlinewidth": 0,
             "ticks": ""
            },
            "colorscale": [
             [
              0,
              "#0d0887"
             ],
             [
              0.1111111111111111,
              "#46039f"
             ],
             [
              0.2222222222222222,
              "#7201a8"
             ],
             [
              0.3333333333333333,
              "#9c179e"
             ],
             [
              0.4444444444444444,
              "#bd3786"
             ],
             [
              0.5555555555555556,
              "#d8576b"
             ],
             [
              0.6666666666666666,
              "#ed7953"
             ],
             [
              0.7777777777777778,
              "#fb9f3a"
             ],
             [
              0.8888888888888888,
              "#fdca26"
             ],
             [
              1,
              "#f0f921"
             ]
            ],
            "type": "histogram2d"
           }
          ],
          "histogram2dcontour": [
           {
            "colorbar": {
             "outlinewidth": 0,
             "ticks": ""
            },
            "colorscale": [
             [
              0,
              "#0d0887"
             ],
             [
              0.1111111111111111,
              "#46039f"
             ],
             [
              0.2222222222222222,
              "#7201a8"
             ],
             [
              0.3333333333333333,
              "#9c179e"
             ],
             [
              0.4444444444444444,
              "#bd3786"
             ],
             [
              0.5555555555555556,
              "#d8576b"
             ],
             [
              0.6666666666666666,
              "#ed7953"
             ],
             [
              0.7777777777777778,
              "#fb9f3a"
             ],
             [
              0.8888888888888888,
              "#fdca26"
             ],
             [
              1,
              "#f0f921"
             ]
            ],
            "type": "histogram2dcontour"
           }
          ],
          "mesh3d": [
           {
            "colorbar": {
             "outlinewidth": 0,
             "ticks": ""
            },
            "type": "mesh3d"
           }
          ],
          "parcoords": [
           {
            "line": {
             "colorbar": {
              "outlinewidth": 0,
              "ticks": ""
             }
            },
            "type": "parcoords"
           }
          ],
          "pie": [
           {
            "automargin": true,
            "type": "pie"
           }
          ],
          "scatter": [
           {
            "fillpattern": {
             "fillmode": "overlay",
             "size": 10,
             "solidity": 0.2
            },
            "type": "scatter"
           }
          ],
          "scatter3d": [
           {
            "line": {
             "colorbar": {
              "outlinewidth": 0,
              "ticks": ""
             }
            },
            "marker": {
             "colorbar": {
              "outlinewidth": 0,
              "ticks": ""
             }
            },
            "type": "scatter3d"
           }
          ],
          "scattercarpet": [
           {
            "marker": {
             "colorbar": {
              "outlinewidth": 0,
              "ticks": ""
             }
            },
            "type": "scattercarpet"
           }
          ],
          "scattergeo": [
           {
            "marker": {
             "colorbar": {
              "outlinewidth": 0,
              "ticks": ""
             }
            },
            "type": "scattergeo"
           }
          ],
          "scattergl": [
           {
            "marker": {
             "colorbar": {
              "outlinewidth": 0,
              "ticks": ""
             }
            },
            "type": "scattergl"
           }
          ],
          "scattermap": [
           {
            "marker": {
             "colorbar": {
              "outlinewidth": 0,
              "ticks": ""
             }
            },
            "type": "scattermap"
           }
          ],
          "scattermapbox": [
           {
            "marker": {
             "colorbar": {
              "outlinewidth": 0,
              "ticks": ""
             }
            },
            "type": "scattermapbox"
           }
          ],
          "scatterpolar": [
           {
            "marker": {
             "colorbar": {
              "outlinewidth": 0,
              "ticks": ""
             }
            },
            "type": "scatterpolar"
           }
          ],
          "scatterpolargl": [
           {
            "marker": {
             "colorbar": {
              "outlinewidth": 0,
              "ticks": ""
             }
            },
            "type": "scatterpolargl"
           }
          ],
          "scatterternary": [
           {
            "marker": {
             "colorbar": {
              "outlinewidth": 0,
              "ticks": ""
             }
            },
            "type": "scatterternary"
           }
          ],
          "surface": [
           {
            "colorbar": {
             "outlinewidth": 0,
             "ticks": ""
            },
            "colorscale": [
             [
              0,
              "#0d0887"
             ],
             [
              0.1111111111111111,
              "#46039f"
             ],
             [
              0.2222222222222222,
              "#7201a8"
             ],
             [
              0.3333333333333333,
              "#9c179e"
             ],
             [
              0.4444444444444444,
              "#bd3786"
             ],
             [
              0.5555555555555556,
              "#d8576b"
             ],
             [
              0.6666666666666666,
              "#ed7953"
             ],
             [
              0.7777777777777778,
              "#fb9f3a"
             ],
             [
              0.8888888888888888,
              "#fdca26"
             ],
             [
              1,
              "#f0f921"
             ]
            ],
            "type": "surface"
           }
          ],
          "table": [
           {
            "cells": {
             "fill": {
              "color": "#EBF0F8"
             },
             "line": {
              "color": "white"
             }
            },
            "header": {
             "fill": {
              "color": "#C8D4E3"
             },
             "line": {
              "color": "white"
             }
            },
            "type": "table"
           }
          ]
         },
         "layout": {
          "annotationdefaults": {
           "arrowcolor": "#2a3f5f",
           "arrowhead": 0,
           "arrowwidth": 1
          },
          "autotypenumbers": "strict",
          "coloraxis": {
           "colorbar": {
            "outlinewidth": 0,
            "ticks": ""
           }
          },
          "colorscale": {
           "diverging": [
            [
             0,
             "#8e0152"
            ],
            [
             0.1,
             "#c51b7d"
            ],
            [
             0.2,
             "#de77ae"
            ],
            [
             0.3,
             "#f1b6da"
            ],
            [
             0.4,
             "#fde0ef"
            ],
            [
             0.5,
             "#f7f7f7"
            ],
            [
             0.6,
             "#e6f5d0"
            ],
            [
             0.7,
             "#b8e186"
            ],
            [
             0.8,
             "#7fbc41"
            ],
            [
             0.9,
             "#4d9221"
            ],
            [
             1,
             "#276419"
            ]
           ],
           "sequential": [
            [
             0,
             "#0d0887"
            ],
            [
             0.1111111111111111,
             "#46039f"
            ],
            [
             0.2222222222222222,
             "#7201a8"
            ],
            [
             0.3333333333333333,
             "#9c179e"
            ],
            [
             0.4444444444444444,
             "#bd3786"
            ],
            [
             0.5555555555555556,
             "#d8576b"
            ],
            [
             0.6666666666666666,
             "#ed7953"
            ],
            [
             0.7777777777777778,
             "#fb9f3a"
            ],
            [
             0.8888888888888888,
             "#fdca26"
            ],
            [
             1,
             "#f0f921"
            ]
           ],
           "sequentialminus": [
            [
             0,
             "#0d0887"
            ],
            [
             0.1111111111111111,
             "#46039f"
            ],
            [
             0.2222222222222222,
             "#7201a8"
            ],
            [
             0.3333333333333333,
             "#9c179e"
            ],
            [
             0.4444444444444444,
             "#bd3786"
            ],
            [
             0.5555555555555556,
             "#d8576b"
            ],
            [
             0.6666666666666666,
             "#ed7953"
            ],
            [
             0.7777777777777778,
             "#fb9f3a"
            ],
            [
             0.8888888888888888,
             "#fdca26"
            ],
            [
             1,
             "#f0f921"
            ]
           ]
          },
          "colorway": [
           "#636efa",
           "#EF553B",
           "#00cc96",
           "#ab63fa",
           "#FFA15A",
           "#19d3f3",
           "#FF6692",
           "#B6E880",
           "#FF97FF",
           "#FECB52"
          ],
          "font": {
           "color": "#2a3f5f"
          },
          "geo": {
           "bgcolor": "white",
           "lakecolor": "white",
           "landcolor": "#E5ECF6",
           "showlakes": true,
           "showland": true,
           "subunitcolor": "white"
          },
          "hoverlabel": {
           "align": "left"
          },
          "hovermode": "closest",
          "mapbox": {
           "style": "light"
          },
          "paper_bgcolor": "white",
          "plot_bgcolor": "#E5ECF6",
          "polar": {
           "angularaxis": {
            "gridcolor": "white",
            "linecolor": "white",
            "ticks": ""
           },
           "bgcolor": "#E5ECF6",
           "radialaxis": {
            "gridcolor": "white",
            "linecolor": "white",
            "ticks": ""
           }
          },
          "scene": {
           "xaxis": {
            "backgroundcolor": "#E5ECF6",
            "gridcolor": "white",
            "gridwidth": 2,
            "linecolor": "white",
            "showbackground": true,
            "ticks": "",
            "zerolinecolor": "white"
           },
           "yaxis": {
            "backgroundcolor": "#E5ECF6",
            "gridcolor": "white",
            "gridwidth": 2,
            "linecolor": "white",
            "showbackground": true,
            "ticks": "",
            "zerolinecolor": "white"
           },
           "zaxis": {
            "backgroundcolor": "#E5ECF6",
            "gridcolor": "white",
            "gridwidth": 2,
            "linecolor": "white",
            "showbackground": true,
            "ticks": "",
            "zerolinecolor": "white"
           }
          },
          "shapedefaults": {
           "line": {
            "color": "#2a3f5f"
           }
          },
          "ternary": {
           "aaxis": {
            "gridcolor": "white",
            "linecolor": "white",
            "ticks": ""
           },
           "baxis": {
            "gridcolor": "white",
            "linecolor": "white",
            "ticks": ""
           },
           "bgcolor": "#E5ECF6",
           "caxis": {
            "gridcolor": "white",
            "linecolor": "white",
            "ticks": ""
           }
          },
          "title": {
           "x": 0.05
          },
          "xaxis": {
           "automargin": true,
           "gridcolor": "white",
           "linecolor": "white",
           "ticks": "",
           "title": {
            "standoff": 15
           },
           "zerolinecolor": "white",
           "zerolinewidth": 2
          },
          "yaxis": {
           "automargin": true,
           "gridcolor": "white",
           "linecolor": "white",
           "ticks": "",
           "title": {
            "standoff": 15
           },
           "zerolinecolor": "white",
           "zerolinewidth": 2
          }
         }
        },
        "title": {
         "text": "SARIMAX optimisé — RSV Observé vs Ajusté (série complète)"
        },
        "xaxis": {
         "title": {
          "text": "Semaine"
         }
        },
        "yaxis": {
         "title": {
          "text": "RSV (taux hebdo)"
         }
        }
       }
      }
     },
     "metadata": {},
     "output_type": "display_data"
    },
    {
     "name": "stdout",
     "output_type": "stream",
     "text": [
      "✅ BLOC 4 terminé — objets clés : sarimax_base, sarimax_best, pseudo_r2\n"
     ]
    }
   ],
   "source": [
    "# ==========================================\n",
    "# 🧱 BLOC 4 — SARIMAX (base + optimisé)\n",
    "# ==========================================\n",
    "import numpy as np\n",
    "import pandas as pd\n",
    "import statsmodels.api as sm\n",
    "from statsmodels.tsa.statespace.sarimax import SARIMAX\n",
    "from statsmodels.stats.diagnostic import acorr_ljungbox\n",
    "import plotly.graph_objects as go\n",
    "\n",
    "# --- Préconditions ---\n",
    "assert \"df_opt\" in globals() and len(df_opt) > 40, \"df_opt introuvable ou vide.\"\n",
    "assert {\"COVID_START\", \"VACC_START\"}.issubset(set(globals().keys()))\n",
    "\n",
    "# =======================================================\n",
    "# 1️⃣ SARIMAX BASE\n",
    "# =======================================================\n",
    "df_sx = df_opt.copy().sort_index()\n",
    "df_sx.index = pd.to_datetime(df_sx.index)\n",
    "\n",
    "# Variables de rupture (ITS)\n",
    "df_sx[\"post_covid\"] = (df_sx.index >= COVID_START).astype(int)\n",
    "df_sx[\"post_vacc\"]  = (df_sx.index >= VACC_START).astype(int)\n",
    "df_sx[\"t\"] = np.arange(len(df_sx))\n",
    "df_sx[\"t_post_covid\"] = df_sx[\"t\"] * df_sx[\"post_covid\"]\n",
    "\n",
    "# Variables exogènes (base)\n",
    "exog_cols = [\"cov12_lag\", \"MNP_lag\", \"work_lag\", \"tmean_z\", \"vacc_x_mnp\",\n",
    "             \"post_covid\", \"post_vacc\", \"t_post_covid\", \"t\"]\n",
    "y = df_sx[\"RSV\"].astype(float)\n",
    "exog = df_sx[exog_cols].astype(float).replace([np.inf, -np.inf], np.nan).dropna()\n",
    "\n",
    "mask = (~y.isna()) & (~exog.isna().any(axis=1))\n",
    "y, exog = y.loc[mask], exog.loc[mask]\n",
    "\n",
    "print(f\"✅ Données SARIMAX prêtes : y={len(y)}, X={exog.shape[1]}\")\n",
    "\n",
    "# Grid-search restreinte sur (p,d,q) × (P,D,Q,52)\n",
    "pdq_list  = [(p,d,q) for p in [0,1,2] for d in [0,1] for q in [0,1,2]]\n",
    "PDQ_list  = [(P,1,Q,52) for P in [0,1] for Q in [0,1]]\n",
    "\n",
    "best = {\"aic\": np.inf}\n",
    "for order in pdq_list:\n",
    "    for seas in PDQ_list:\n",
    "        try:\n",
    "            mod = SARIMAX(y, exog=exog, order=order, seasonal_order=seas,\n",
    "                          enforce_stationarity=False, enforce_invertibility=False).fit(disp=False)\n",
    "            if mod.aic < best[\"aic\"]:\n",
    "                best = {\"aic\": mod.aic, \"bic\": mod.bic, \"order\": order, \"seasonal\": seas, \"model\": mod}\n",
    "        except Exception:\n",
    "            continue\n",
    "\n",
    "sarimax_base = best[\"model\"]\n",
    "print(f\"🥇 SARIMAX base: order={best['order']}×{best['seasonal']} | AIC={best['aic']:.1f}\")\n",
    "\n",
    "# Diagnostic rapide\n",
    "resid = sarimax_base.resid\n",
    "dw = sm.stats.stattools.durbin_watson(resid)\n",
    "lb = acorr_ljungbox(resid, lags=[8,12,24], return_df=True)[[\"lb_stat\",\"lb_pvalue\"]]\n",
    "print(f\"Durbin–Watson={dw:.3f}\")\n",
    "display(lb)\n",
    "\n",
    "# Visualisation — série complète RSV\n",
    "y_fit = sarimax_base.fittedvalues.reindex(y.index)\n",
    "fig = go.Figure()\n",
    "fig.add_trace(go.Scatter(x=rsv[\"date_monday\"], y=rsv[\"RSV\"],\n",
    "                         mode=\"lines\", name=\"RSV Observé (2018–2025)\", line=dict(width=2, color=\"black\")))\n",
    "fig.add_trace(go.Scatter(x=y_fit.index, y=y_fit,\n",
    "                         mode=\"lines\", name=\"Fitted (SARIMAX base)\", line=dict(dash=\"dot\", color=\"blue\")))\n",
    "fig.add_vline(x=COVID_START, line_dash=\"dash\", line_color=\"red\")\n",
    "fig.add_vline(x=VACC_START, line_dash=\"dash\", line_color=\"green\")\n",
    "fig.update_layout(title=\"SARIMAX base — RSV Observé vs Ajusté (série complète)\",\n",
    "                  xaxis_title=\"Semaine\", yaxis_title=\"RSV (taux)\")\n",
    "fig.show()\n",
    "\n",
    "# =======================================================\n",
    "# 2️⃣ SARIMAX OPTIMISÉ\n",
    "# =======================================================\n",
    "candidate_pdq = [(p,1,q) for p in range(0,4) for q in range(0,4)]\n",
    "candidate_PDQ = [(P,1,Q,52) for P in [0,1] for Q in [0,1]]\n",
    "best_opt = {\"bic\": np.inf}\n",
    "\n",
    "for order in candidate_pdq:\n",
    "    for seas in candidate_PDQ:\n",
    "        try:\n",
    "            mod = SARIMAX(y, exog=exog, order=order, seasonal_order=seas,\n",
    "                          enforce_stationarity=False, enforce_invertibility=False).fit(disp=False)\n",
    "            if mod.bic < best_opt[\"bic\"]:\n",
    "                best_opt = {\"model\": mod, \"bic\": mod.bic, \"aic\": mod.aic, \"order\": order, \"seasonal\": seas}\n",
    "        except Exception:\n",
    "            continue\n",
    "\n",
    "sarimax_best = best_opt[\"model\"]\n",
    "print(f\"🏆 SARIMAX optimisé: order={best_opt['order']}×{best_opt['seasonal']} | BIC={best_opt['bic']:.1f}\")\n",
    "\n",
    "# Pseudo-R²\n",
    "y_fit = sarimax_best.fittedvalues.reindex(y.index)\n",
    "ss_res = ((y - y_fit)**2).sum()\n",
    "ss_tot = ((y - y.mean())**2).sum()\n",
    "pseudo_r2 = 1 - ss_res/ss_tot\n",
    "print(f\"Pseudo-R² ≈ {pseudo_r2:.3f}\")\n",
    "\n",
    "# Diagnostics\n",
    "resid = sarimax_best.resid\n",
    "dw = sm.stats.stattools.durbin_watson(resid)\n",
    "lb = acorr_ljungbox(resid, lags=[8,12,24], return_df=True)[[\"lb_stat\",\"lb_pvalue\"]]\n",
    "print(f\"Durbin–Watson={dw:.3f}\")\n",
    "display(lb)\n",
    "\n",
    "# Visualisation finale — série complète RSV\n",
    "fig = go.Figure()\n",
    "fig.add_trace(go.Scatter(x=rsv[\"date_monday\"], y=rsv[\"RSV\"],\n",
    "                         mode=\"lines\", name=\"RSV Observé (2018–2025)\", line=dict(width=2, color=\"black\")))\n",
    "fig.add_trace(go.Scatter(x=y_fit.index, y=y_fit,\n",
    "                         mode=\"lines\", name=\"SARIMAX optimisé (fitted)\", line=dict(dash=\"dot\", color=\"blue\")))\n",
    "fig.add_vline(x=COVID_START, line_dash=\"dash\", line_color=\"red\")\n",
    "fig.add_vline(x=VACC_START, line_dash=\"dash\", line_color=\"green\")\n",
    "fig.update_layout(title=\"SARIMAX optimisé — RSV Observé vs Ajusté (série complète)\",\n",
    "                  xaxis_title=\"Semaine\", yaxis_title=\"RSV (taux hebdo)\")\n",
    "fig.show()\n",
    "\n",
    "print(\"✅ BLOC 4 terminé — objets clés : sarimax_base, sarimax_best, pseudo_r2\")\n"
   ]
  },
  {
   "cell_type": "code",
   "execution_count": 21,
   "id": "cc2b2e3b",
   "metadata": {},
   "outputs": [
    {
     "data": {
      "text/html": [
       "<div>\n",
       "<style scoped>\n",
       "    .dataframe tbody tr th:only-of-type {\n",
       "        vertical-align: middle;\n",
       "    }\n",
       "\n",
       "    .dataframe tbody tr th {\n",
       "        vertical-align: top;\n",
       "    }\n",
       "\n",
       "    .dataframe thead th {\n",
       "        text-align: right;\n",
       "    }\n",
       "</style>\n",
       "<table border=\"1\" class=\"dataframe\">\n",
       "  <thead>\n",
       "    <tr style=\"text-align: right;\">\n",
       "      <th></th>\n",
       "      <th>Modèle</th>\n",
       "      <th>R²_adj</th>\n",
       "      <th>AIC</th>\n",
       "      <th>BIC</th>\n",
       "      <th>Durbin-Watson</th>\n",
       "      <th>Type</th>\n",
       "    </tr>\n",
       "  </thead>\n",
       "  <tbody>\n",
       "    <tr>\n",
       "      <th>0</th>\n",
       "      <td>OLS (base)</td>\n",
       "      <td>0.530</td>\n",
       "      <td>1473.016</td>\n",
       "      <td>1488.526</td>\n",
       "      <td>0.150</td>\n",
       "      <td>Régression</td>\n",
       "    </tr>\n",
       "    <tr>\n",
       "      <th>1</th>\n",
       "      <td>OLS (optimisé)</td>\n",
       "      <td>0.968</td>\n",
       "      <td>1069.404</td>\n",
       "      <td>1094.290</td>\n",
       "      <td>1.960</td>\n",
       "      <td>Régression</td>\n",
       "    </tr>\n",
       "    <tr>\n",
       "      <th>2</th>\n",
       "      <td>ITS (base)</td>\n",
       "      <td>0.496</td>\n",
       "      <td>1477.961</td>\n",
       "      <td>1488.300</td>\n",
       "      <td>0.092</td>\n",
       "      <td>Rupture</td>\n",
       "    </tr>\n",
       "    <tr>\n",
       "      <th>3</th>\n",
       "      <td>ITS (optimisé)</td>\n",
       "      <td>0.945</td>\n",
       "      <td>1267.925</td>\n",
       "      <td>1298.945</td>\n",
       "      <td>0.532</td>\n",
       "      <td>Rupture</td>\n",
       "    </tr>\n",
       "    <tr>\n",
       "      <th>4</th>\n",
       "      <td>SARIMAX (base)</td>\n",
       "      <td>NaN</td>\n",
       "      <td>22.000</td>\n",
       "      <td>NaN</td>\n",
       "      <td>0.036</td>\n",
       "      <td>Série temporelle</td>\n",
       "    </tr>\n",
       "    <tr>\n",
       "      <th>5</th>\n",
       "      <td>SARIMAX (optimisé)</td>\n",
       "      <td>0.907</td>\n",
       "      <td>383.745</td>\n",
       "      <td>402.800</td>\n",
       "      <td>1.046</td>\n",
       "      <td>Série temporelle</td>\n",
       "    </tr>\n",
       "  </tbody>\n",
       "</table>\n",
       "</div>"
      ],
      "text/plain": [
       "               Modèle  R²_adj       AIC       BIC  Durbin-Watson              Type\n",
       "0          OLS (base)   0.530  1473.016  1488.526          0.150        Régression\n",
       "1      OLS (optimisé)   0.968  1069.404  1094.290          1.960        Régression\n",
       "2          ITS (base)   0.496  1477.961  1488.300          0.092           Rupture\n",
       "3      ITS (optimisé)   0.945  1267.925  1298.945          0.532           Rupture\n",
       "4      SARIMAX (base)     NaN    22.000       NaN          0.036  Série temporelle\n",
       "5  SARIMAX (optimisé)   0.907   383.745   402.800          1.046  Série temporelle"
      ]
     },
     "metadata": {},
     "output_type": "display_data"
    },
    {
     "name": "stdout",
     "output_type": "stream",
     "text": [
      "✅ BLOC 5 — Comparaison des performances terminée.\n"
     ]
    }
   ],
   "source": [
    "# ==========================================\n",
    "# 🧱 BLOC 5 — Récapitulatif des performances modèles\n",
    "# ==========================================\n",
    "import plotly.express as px\n",
    "import plotly.graph_objects as go\n",
    "\n",
    "# --- 1️⃣ Table récap des métriques principales ---\n",
    "model_perf = pd.DataFrame([\n",
    "    {\n",
    "        \"Modèle\": \"OLS (base)\",\n",
    "        \"R²_adj\": ols_base.rsquared_adj,\n",
    "        \"AIC\": ols_base.aic,\n",
    "        \"BIC\": ols_base.bic,\n",
    "        \"Durbin-Watson\": sm.stats.stattools.durbin_watson(ols_base.resid),\n",
    "        \"Type\": \"Régression\"\n",
    "    },\n",
    "    {\n",
    "        \"Modèle\": \"OLS (optimisé)\",\n",
    "        \"R²_adj\": ols_opt.rsquared_adj,\n",
    "        \"AIC\": ols_opt.aic,\n",
    "        \"BIC\": ols_opt.bic,\n",
    "        \"Durbin-Watson\": sm.stats.stattools.durbin_watson(ols_opt.resid),\n",
    "        \"Type\": \"Régression\"\n",
    "    },\n",
    "    {\n",
    "        \"Modèle\": \"ITS (base)\",\n",
    "        \"R²_adj\": its.rsquared_adj if hasattr(its, \"rsquared_adj\") else None,\n",
    "        \"AIC\": its.aic,\n",
    "        \"BIC\": its.bic,\n",
    "        \"Durbin-Watson\": sm.stats.stattools.durbin_watson(its.resid),\n",
    "        \"Type\": \"Rupture\"\n",
    "    },\n",
    "    {\n",
    "        \"Modèle\": \"ITS (optimisé)\",\n",
    "        \"R²_adj\": its_best.rsquared_adj if hasattr(its_best, \"rsquared_adj\") else None,\n",
    "        \"AIC\": its_best.aic,\n",
    "        \"BIC\": its_best.bic,\n",
    "        \"Durbin-Watson\": sm.stats.stattools.durbin_watson(its_best.resid),\n",
    "        \"Type\": \"Rupture\"\n",
    "    },\n",
    "    {\n",
    "        \"Modèle\": \"SARIMAX (base)\",\n",
    "        \"R²_adj\": np.nan,\n",
    "        \"AIC\": sarimax_base.aic,\n",
    "        \"BIC\": sarimax_base.bic,\n",
    "        \"Durbin-Watson\": sm.stats.stattools.durbin_watson(sarimax_base.resid),\n",
    "        \"Type\": \"Série temporelle\"\n",
    "    },\n",
    "    {\n",
    "        \"Modèle\": \"SARIMAX (optimisé)\",\n",
    "        \"R²_adj\": pseudo_r2,   # calculé précédemment\n",
    "        \"AIC\": sarimax_best.aic,\n",
    "        \"BIC\": sarimax_best.bic,\n",
    "        \"Durbin-Watson\": sm.stats.stattools.durbin_watson(sarimax_best.resid),\n",
    "        \"Type\": \"Série temporelle\"\n",
    "    }\n",
    "])\n",
    "\n",
    "# Mise en forme arrondie\n",
    "model_perf = model_perf.round(3)\n",
    "display(model_perf)\n",
    "\n",
    "\n",
    "print(\"✅ BLOC 5 — Comparaison des performances terminée.\")\n"
   ]
  },
  {
   "cell_type": "code",
   "execution_count": 22,
   "id": "3df786c1",
   "metadata": {},
   "outputs": [
    {
     "data": {
      "application/vnd.plotly.v1+json": {
       "config": {
        "plotlyServerURL": "https://plot.ly"
       },
       "data": [
        {
         "hovertemplate": "Type=Régression<br>Modèle=%{x}<br>R²_adj=%{y}<extra></extra>",
         "legendgroup": "Régression",
         "marker": {
          "color": "rgb(229, 134, 6)",
          "pattern": {
           "shape": ""
          }
         },
         "name": "Régression",
         "orientation": "v",
         "showlegend": true,
         "textfont": {
          "size": 12
         },
         "textposition": "auto",
         "texttemplate": "%{y:.3f}",
         "type": "bar",
         "x": [
          "OLS (base)",
          "OLS (optimisé)"
         ],
         "xaxis": "x",
         "y": {
          "bdata": "9ihcj8L14D9g5dAi2/nuPw==",
          "dtype": "f8"
         },
         "yaxis": "y"
        },
        {
         "hovertemplate": "Type=Rupture<br>Modèle=%{x}<br>R²_adj=%{y}<extra></extra>",
         "legendgroup": "Rupture",
         "marker": {
          "color": "rgb(93, 105, 177)",
          "pattern": {
           "shape": ""
          }
         },
         "name": "Rupture",
         "orientation": "v",
         "showlegend": true,
         "textfont": {
          "size": 12
         },
         "textposition": "auto",
         "texttemplate": "%{y:.3f}",
         "type": "bar",
         "x": [
          "ITS (base)",
          "ITS (optimisé)"
         ],
         "xaxis": "x",
         "y": {
          "bdata": "WDm0yHa+3z89CtejcD3uPw==",
          "dtype": "f8"
         },
         "yaxis": "y"
        },
        {
         "hovertemplate": "Type=Série temporelle<br>Modèle=%{x}<br>R²_adj=%{y}<extra></extra>",
         "legendgroup": "Série temporelle",
         "marker": {
          "color": "rgb(82, 188, 163)",
          "pattern": {
           "shape": ""
          }
         },
         "name": "Série temporelle",
         "orientation": "v",
         "showlegend": true,
         "textfont": {
          "size": 12
         },
         "textposition": "auto",
         "texttemplate": "%{y:.3f}",
         "type": "bar",
         "x": [
          "SARIMAX (base)",
          "SARIMAX (optimisé)"
         ],
         "xaxis": "x",
         "y": {
          "bdata": "AAAAAAAA+H+gGi/dJAbtPw==",
          "dtype": "f8"
         },
         "yaxis": "y"
        }
       ],
       "layout": {
        "barmode": "relative",
        "height": 520,
        "legend": {
         "title": {
          "text": "Type"
         },
         "tracegroupgap": 0
        },
        "showlegend": true,
        "template": {
         "data": {
          "bar": [
           {
            "error_x": {
             "color": "#2a3f5f"
            },
            "error_y": {
             "color": "#2a3f5f"
            },
            "marker": {
             "line": {
              "color": "white",
              "width": 0.5
             },
             "pattern": {
              "fillmode": "overlay",
              "size": 10,
              "solidity": 0.2
             }
            },
            "type": "bar"
           }
          ],
          "barpolar": [
           {
            "marker": {
             "line": {
              "color": "white",
              "width": 0.5
             },
             "pattern": {
              "fillmode": "overlay",
              "size": 10,
              "solidity": 0.2
             }
            },
            "type": "barpolar"
           }
          ],
          "carpet": [
           {
            "aaxis": {
             "endlinecolor": "#2a3f5f",
             "gridcolor": "#C8D4E3",
             "linecolor": "#C8D4E3",
             "minorgridcolor": "#C8D4E3",
             "startlinecolor": "#2a3f5f"
            },
            "baxis": {
             "endlinecolor": "#2a3f5f",
             "gridcolor": "#C8D4E3",
             "linecolor": "#C8D4E3",
             "minorgridcolor": "#C8D4E3",
             "startlinecolor": "#2a3f5f"
            },
            "type": "carpet"
           }
          ],
          "choropleth": [
           {
            "colorbar": {
             "outlinewidth": 0,
             "ticks": ""
            },
            "type": "choropleth"
           }
          ],
          "contour": [
           {
            "colorbar": {
             "outlinewidth": 0,
             "ticks": ""
            },
            "colorscale": [
             [
              0,
              "#0d0887"
             ],
             [
              0.1111111111111111,
              "#46039f"
             ],
             [
              0.2222222222222222,
              "#7201a8"
             ],
             [
              0.3333333333333333,
              "#9c179e"
             ],
             [
              0.4444444444444444,
              "#bd3786"
             ],
             [
              0.5555555555555556,
              "#d8576b"
             ],
             [
              0.6666666666666666,
              "#ed7953"
             ],
             [
              0.7777777777777778,
              "#fb9f3a"
             ],
             [
              0.8888888888888888,
              "#fdca26"
             ],
             [
              1,
              "#f0f921"
             ]
            ],
            "type": "contour"
           }
          ],
          "contourcarpet": [
           {
            "colorbar": {
             "outlinewidth": 0,
             "ticks": ""
            },
            "type": "contourcarpet"
           }
          ],
          "heatmap": [
           {
            "colorbar": {
             "outlinewidth": 0,
             "ticks": ""
            },
            "colorscale": [
             [
              0,
              "#0d0887"
             ],
             [
              0.1111111111111111,
              "#46039f"
             ],
             [
              0.2222222222222222,
              "#7201a8"
             ],
             [
              0.3333333333333333,
              "#9c179e"
             ],
             [
              0.4444444444444444,
              "#bd3786"
             ],
             [
              0.5555555555555556,
              "#d8576b"
             ],
             [
              0.6666666666666666,
              "#ed7953"
             ],
             [
              0.7777777777777778,
              "#fb9f3a"
             ],
             [
              0.8888888888888888,
              "#fdca26"
             ],
             [
              1,
              "#f0f921"
             ]
            ],
            "type": "heatmap"
           }
          ],
          "histogram": [
           {
            "marker": {
             "pattern": {
              "fillmode": "overlay",
              "size": 10,
              "solidity": 0.2
             }
            },
            "type": "histogram"
           }
          ],
          "histogram2d": [
           {
            "colorbar": {
             "outlinewidth": 0,
             "ticks": ""
            },
            "colorscale": [
             [
              0,
              "#0d0887"
             ],
             [
              0.1111111111111111,
              "#46039f"
             ],
             [
              0.2222222222222222,
              "#7201a8"
             ],
             [
              0.3333333333333333,
              "#9c179e"
             ],
             [
              0.4444444444444444,
              "#bd3786"
             ],
             [
              0.5555555555555556,
              "#d8576b"
             ],
             [
              0.6666666666666666,
              "#ed7953"
             ],
             [
              0.7777777777777778,
              "#fb9f3a"
             ],
             [
              0.8888888888888888,
              "#fdca26"
             ],
             [
              1,
              "#f0f921"
             ]
            ],
            "type": "histogram2d"
           }
          ],
          "histogram2dcontour": [
           {
            "colorbar": {
             "outlinewidth": 0,
             "ticks": ""
            },
            "colorscale": [
             [
              0,
              "#0d0887"
             ],
             [
              0.1111111111111111,
              "#46039f"
             ],
             [
              0.2222222222222222,
              "#7201a8"
             ],
             [
              0.3333333333333333,
              "#9c179e"
             ],
             [
              0.4444444444444444,
              "#bd3786"
             ],
             [
              0.5555555555555556,
              "#d8576b"
             ],
             [
              0.6666666666666666,
              "#ed7953"
             ],
             [
              0.7777777777777778,
              "#fb9f3a"
             ],
             [
              0.8888888888888888,
              "#fdca26"
             ],
             [
              1,
              "#f0f921"
             ]
            ],
            "type": "histogram2dcontour"
           }
          ],
          "mesh3d": [
           {
            "colorbar": {
             "outlinewidth": 0,
             "ticks": ""
            },
            "type": "mesh3d"
           }
          ],
          "parcoords": [
           {
            "line": {
             "colorbar": {
              "outlinewidth": 0,
              "ticks": ""
             }
            },
            "type": "parcoords"
           }
          ],
          "pie": [
           {
            "automargin": true,
            "type": "pie"
           }
          ],
          "scatter": [
           {
            "fillpattern": {
             "fillmode": "overlay",
             "size": 10,
             "solidity": 0.2
            },
            "type": "scatter"
           }
          ],
          "scatter3d": [
           {
            "line": {
             "colorbar": {
              "outlinewidth": 0,
              "ticks": ""
             }
            },
            "marker": {
             "colorbar": {
              "outlinewidth": 0,
              "ticks": ""
             }
            },
            "type": "scatter3d"
           }
          ],
          "scattercarpet": [
           {
            "marker": {
             "colorbar": {
              "outlinewidth": 0,
              "ticks": ""
             }
            },
            "type": "scattercarpet"
           }
          ],
          "scattergeo": [
           {
            "marker": {
             "colorbar": {
              "outlinewidth": 0,
              "ticks": ""
             }
            },
            "type": "scattergeo"
           }
          ],
          "scattergl": [
           {
            "marker": {
             "colorbar": {
              "outlinewidth": 0,
              "ticks": ""
             }
            },
            "type": "scattergl"
           }
          ],
          "scattermap": [
           {
            "marker": {
             "colorbar": {
              "outlinewidth": 0,
              "ticks": ""
             }
            },
            "type": "scattermap"
           }
          ],
          "scattermapbox": [
           {
            "marker": {
             "colorbar": {
              "outlinewidth": 0,
              "ticks": ""
             }
            },
            "type": "scattermapbox"
           }
          ],
          "scatterpolar": [
           {
            "marker": {
             "colorbar": {
              "outlinewidth": 0,
              "ticks": ""
             }
            },
            "type": "scatterpolar"
           }
          ],
          "scatterpolargl": [
           {
            "marker": {
             "colorbar": {
              "outlinewidth": 0,
              "ticks": ""
             }
            },
            "type": "scatterpolargl"
           }
          ],
          "scatterternary": [
           {
            "marker": {
             "colorbar": {
              "outlinewidth": 0,
              "ticks": ""
             }
            },
            "type": "scatterternary"
           }
          ],
          "surface": [
           {
            "colorbar": {
             "outlinewidth": 0,
             "ticks": ""
            },
            "colorscale": [
             [
              0,
              "#0d0887"
             ],
             [
              0.1111111111111111,
              "#46039f"
             ],
             [
              0.2222222222222222,
              "#7201a8"
             ],
             [
              0.3333333333333333,
              "#9c179e"
             ],
             [
              0.4444444444444444,
              "#bd3786"
             ],
             [
              0.5555555555555556,
              "#d8576b"
             ],
             [
              0.6666666666666666,
              "#ed7953"
             ],
             [
              0.7777777777777778,
              "#fb9f3a"
             ],
             [
              0.8888888888888888,
              "#fdca26"
             ],
             [
              1,
              "#f0f921"
             ]
            ],
            "type": "surface"
           }
          ],
          "table": [
           {
            "cells": {
             "fill": {
              "color": "#EBF0F8"
             },
             "line": {
              "color": "white"
             }
            },
            "header": {
             "fill": {
              "color": "#C8D4E3"
             },
             "line": {
              "color": "white"
             }
            },
            "type": "table"
           }
          ]
         },
         "layout": {
          "annotationdefaults": {
           "arrowcolor": "#2a3f5f",
           "arrowhead": 0,
           "arrowwidth": 1
          },
          "autotypenumbers": "strict",
          "coloraxis": {
           "colorbar": {
            "outlinewidth": 0,
            "ticks": ""
           }
          },
          "colorscale": {
           "diverging": [
            [
             0,
             "#8e0152"
            ],
            [
             0.1,
             "#c51b7d"
            ],
            [
             0.2,
             "#de77ae"
            ],
            [
             0.3,
             "#f1b6da"
            ],
            [
             0.4,
             "#fde0ef"
            ],
            [
             0.5,
             "#f7f7f7"
            ],
            [
             0.6,
             "#e6f5d0"
            ],
            [
             0.7,
             "#b8e186"
            ],
            [
             0.8,
             "#7fbc41"
            ],
            [
             0.9,
             "#4d9221"
            ],
            [
             1,
             "#276419"
            ]
           ],
           "sequential": [
            [
             0,
             "#0d0887"
            ],
            [
             0.1111111111111111,
             "#46039f"
            ],
            [
             0.2222222222222222,
             "#7201a8"
            ],
            [
             0.3333333333333333,
             "#9c179e"
            ],
            [
             0.4444444444444444,
             "#bd3786"
            ],
            [
             0.5555555555555556,
             "#d8576b"
            ],
            [
             0.6666666666666666,
             "#ed7953"
            ],
            [
             0.7777777777777778,
             "#fb9f3a"
            ],
            [
             0.8888888888888888,
             "#fdca26"
            ],
            [
             1,
             "#f0f921"
            ]
           ],
           "sequentialminus": [
            [
             0,
             "#0d0887"
            ],
            [
             0.1111111111111111,
             "#46039f"
            ],
            [
             0.2222222222222222,
             "#7201a8"
            ],
            [
             0.3333333333333333,
             "#9c179e"
            ],
            [
             0.4444444444444444,
             "#bd3786"
            ],
            [
             0.5555555555555556,
             "#d8576b"
            ],
            [
             0.6666666666666666,
             "#ed7953"
            ],
            [
             0.7777777777777778,
             "#fb9f3a"
            ],
            [
             0.8888888888888888,
             "#fdca26"
            ],
            [
             1,
             "#f0f921"
            ]
           ]
          },
          "colorway": [
           "#636efa",
           "#EF553B",
           "#00cc96",
           "#ab63fa",
           "#FFA15A",
           "#19d3f3",
           "#FF6692",
           "#B6E880",
           "#FF97FF",
           "#FECB52"
          ],
          "font": {
           "color": "#2a3f5f"
          },
          "geo": {
           "bgcolor": "white",
           "lakecolor": "white",
           "landcolor": "white",
           "showlakes": true,
           "showland": true,
           "subunitcolor": "#C8D4E3"
          },
          "hoverlabel": {
           "align": "left"
          },
          "hovermode": "closest",
          "mapbox": {
           "style": "light"
          },
          "paper_bgcolor": "white",
          "plot_bgcolor": "white",
          "polar": {
           "angularaxis": {
            "gridcolor": "#EBF0F8",
            "linecolor": "#EBF0F8",
            "ticks": ""
           },
           "bgcolor": "white",
           "radialaxis": {
            "gridcolor": "#EBF0F8",
            "linecolor": "#EBF0F8",
            "ticks": ""
           }
          },
          "scene": {
           "xaxis": {
            "backgroundcolor": "white",
            "gridcolor": "#DFE8F3",
            "gridwidth": 2,
            "linecolor": "#EBF0F8",
            "showbackground": true,
            "ticks": "",
            "zerolinecolor": "#EBF0F8"
           },
           "yaxis": {
            "backgroundcolor": "white",
            "gridcolor": "#DFE8F3",
            "gridwidth": 2,
            "linecolor": "#EBF0F8",
            "showbackground": true,
            "ticks": "",
            "zerolinecolor": "#EBF0F8"
           },
           "zaxis": {
            "backgroundcolor": "white",
            "gridcolor": "#DFE8F3",
            "gridwidth": 2,
            "linecolor": "#EBF0F8",
            "showbackground": true,
            "ticks": "",
            "zerolinecolor": "#EBF0F8"
           }
          },
          "shapedefaults": {
           "line": {
            "color": "#2a3f5f"
           }
          },
          "ternary": {
           "aaxis": {
            "gridcolor": "#DFE8F3",
            "linecolor": "#A2B1C6",
            "ticks": ""
           },
           "baxis": {
            "gridcolor": "#DFE8F3",
            "linecolor": "#A2B1C6",
            "ticks": ""
           },
           "bgcolor": "white",
           "caxis": {
            "gridcolor": "#DFE8F3",
            "linecolor": "#A2B1C6",
            "ticks": ""
           }
          },
          "title": {
           "x": 0.05
          },
          "xaxis": {
           "automargin": true,
           "gridcolor": "#EBF0F8",
           "linecolor": "#EBF0F8",
           "ticks": "",
           "title": {
            "standoff": 15
           },
           "zerolinecolor": "#EBF0F8",
           "zerolinewidth": 2
          },
          "yaxis": {
           "automargin": true,
           "gridcolor": "#EBF0F8",
           "linecolor": "#EBF0F8",
           "ticks": "",
           "title": {
            "standoff": 15
           },
           "zerolinecolor": "#EBF0F8",
           "zerolinewidth": 2
          }
         }
        },
        "title": {
         "text": "Comparaison du pouvoir explicatif (R² ajusté / pseudo-R²)"
        },
        "width": 1000,
        "xaxis": {
         "anchor": "y",
         "domain": [
          0,
          1
         ],
         "title": {
          "text": "Modèle"
         }
        },
        "yaxis": {
         "anchor": "x",
         "domain": [
          0,
          1
         ],
         "range": [
          0,
          1
         ],
         "title": {
          "text": "R² ajusté ou pseudo-R²"
         }
        }
       }
      }
     },
     "metadata": {},
     "output_type": "display_data"
    },
    {
     "data": {
      "application/vnd.plotly.v1+json": {
       "config": {
        "plotlyServerURL": "https://plot.ly"
       },
       "data": [
        {
         "marker": {
          "color": "royalblue"
         },
         "name": "AIC",
         "opacity": 0.8,
         "type": "bar",
         "x": [
          "OLS (base)",
          "OLS (optimisé)",
          "ITS (base)",
          "ITS (optimisé)",
          "SARIMAX (base)",
          "SARIMAX (optimisé)"
         ],
         "y": {
          "bdata": "8tJNYhAEl0BWDi2ynbWQQNNNYhDYF5dAMzMzM7PPk0AAAAAAAAA2QFK4HoXr+3dA",
          "dtype": "f8"
         }
        },
        {
         "marker": {
          "color": "orange"
         },
         "name": "BIC",
         "opacity": 0.7,
         "type": "bar",
         "x": [
          "OLS (base)",
          "OLS (optimisé)",
          "ITS (base)",
          "ITS (optimisé)",
          "SARIMAX (base)",
          "SARIMAX (optimisé)"
         ],
         "y": {
          "bdata": "yXa+nxpCl0Bcj8L1KBmRQDMzMzMzQZdA4XoUrsdLlEAAAAAAAAD4f83MzMzMLHlA",
          "dtype": "f8"
         }
        }
       ],
       "layout": {
        "barmode": "group",
        "template": {
         "data": {
          "bar": [
           {
            "error_x": {
             "color": "#2a3f5f"
            },
            "error_y": {
             "color": "#2a3f5f"
            },
            "marker": {
             "line": {
              "color": "#E5ECF6",
              "width": 0.5
             },
             "pattern": {
              "fillmode": "overlay",
              "size": 10,
              "solidity": 0.2
             }
            },
            "type": "bar"
           }
          ],
          "barpolar": [
           {
            "marker": {
             "line": {
              "color": "#E5ECF6",
              "width": 0.5
             },
             "pattern": {
              "fillmode": "overlay",
              "size": 10,
              "solidity": 0.2
             }
            },
            "type": "barpolar"
           }
          ],
          "carpet": [
           {
            "aaxis": {
             "endlinecolor": "#2a3f5f",
             "gridcolor": "white",
             "linecolor": "white",
             "minorgridcolor": "white",
             "startlinecolor": "#2a3f5f"
            },
            "baxis": {
             "endlinecolor": "#2a3f5f",
             "gridcolor": "white",
             "linecolor": "white",
             "minorgridcolor": "white",
             "startlinecolor": "#2a3f5f"
            },
            "type": "carpet"
           }
          ],
          "choropleth": [
           {
            "colorbar": {
             "outlinewidth": 0,
             "ticks": ""
            },
            "type": "choropleth"
           }
          ],
          "contour": [
           {
            "colorbar": {
             "outlinewidth": 0,
             "ticks": ""
            },
            "colorscale": [
             [
              0,
              "#0d0887"
             ],
             [
              0.1111111111111111,
              "#46039f"
             ],
             [
              0.2222222222222222,
              "#7201a8"
             ],
             [
              0.3333333333333333,
              "#9c179e"
             ],
             [
              0.4444444444444444,
              "#bd3786"
             ],
             [
              0.5555555555555556,
              "#d8576b"
             ],
             [
              0.6666666666666666,
              "#ed7953"
             ],
             [
              0.7777777777777778,
              "#fb9f3a"
             ],
             [
              0.8888888888888888,
              "#fdca26"
             ],
             [
              1,
              "#f0f921"
             ]
            ],
            "type": "contour"
           }
          ],
          "contourcarpet": [
           {
            "colorbar": {
             "outlinewidth": 0,
             "ticks": ""
            },
            "type": "contourcarpet"
           }
          ],
          "heatmap": [
           {
            "colorbar": {
             "outlinewidth": 0,
             "ticks": ""
            },
            "colorscale": [
             [
              0,
              "#0d0887"
             ],
             [
              0.1111111111111111,
              "#46039f"
             ],
             [
              0.2222222222222222,
              "#7201a8"
             ],
             [
              0.3333333333333333,
              "#9c179e"
             ],
             [
              0.4444444444444444,
              "#bd3786"
             ],
             [
              0.5555555555555556,
              "#d8576b"
             ],
             [
              0.6666666666666666,
              "#ed7953"
             ],
             [
              0.7777777777777778,
              "#fb9f3a"
             ],
             [
              0.8888888888888888,
              "#fdca26"
             ],
             [
              1,
              "#f0f921"
             ]
            ],
            "type": "heatmap"
           }
          ],
          "histogram": [
           {
            "marker": {
             "pattern": {
              "fillmode": "overlay",
              "size": 10,
              "solidity": 0.2
             }
            },
            "type": "histogram"
           }
          ],
          "histogram2d": [
           {
            "colorbar": {
             "outlinewidth": 0,
             "ticks": ""
            },
            "colorscale": [
             [
              0,
              "#0d0887"
             ],
             [
              0.1111111111111111,
              "#46039f"
             ],
             [
              0.2222222222222222,
              "#7201a8"
             ],
             [
              0.3333333333333333,
              "#9c179e"
             ],
             [
              0.4444444444444444,
              "#bd3786"
             ],
             [
              0.5555555555555556,
              "#d8576b"
             ],
             [
              0.6666666666666666,
              "#ed7953"
             ],
             [
              0.7777777777777778,
              "#fb9f3a"
             ],
             [
              0.8888888888888888,
              "#fdca26"
             ],
             [
              1,
              "#f0f921"
             ]
            ],
            "type": "histogram2d"
           }
          ],
          "histogram2dcontour": [
           {
            "colorbar": {
             "outlinewidth": 0,
             "ticks": ""
            },
            "colorscale": [
             [
              0,
              "#0d0887"
             ],
             [
              0.1111111111111111,
              "#46039f"
             ],
             [
              0.2222222222222222,
              "#7201a8"
             ],
             [
              0.3333333333333333,
              "#9c179e"
             ],
             [
              0.4444444444444444,
              "#bd3786"
             ],
             [
              0.5555555555555556,
              "#d8576b"
             ],
             [
              0.6666666666666666,
              "#ed7953"
             ],
             [
              0.7777777777777778,
              "#fb9f3a"
             ],
             [
              0.8888888888888888,
              "#fdca26"
             ],
             [
              1,
              "#f0f921"
             ]
            ],
            "type": "histogram2dcontour"
           }
          ],
          "mesh3d": [
           {
            "colorbar": {
             "outlinewidth": 0,
             "ticks": ""
            },
            "type": "mesh3d"
           }
          ],
          "parcoords": [
           {
            "line": {
             "colorbar": {
              "outlinewidth": 0,
              "ticks": ""
             }
            },
            "type": "parcoords"
           }
          ],
          "pie": [
           {
            "automargin": true,
            "type": "pie"
           }
          ],
          "scatter": [
           {
            "fillpattern": {
             "fillmode": "overlay",
             "size": 10,
             "solidity": 0.2
            },
            "type": "scatter"
           }
          ],
          "scatter3d": [
           {
            "line": {
             "colorbar": {
              "outlinewidth": 0,
              "ticks": ""
             }
            },
            "marker": {
             "colorbar": {
              "outlinewidth": 0,
              "ticks": ""
             }
            },
            "type": "scatter3d"
           }
          ],
          "scattercarpet": [
           {
            "marker": {
             "colorbar": {
              "outlinewidth": 0,
              "ticks": ""
             }
            },
            "type": "scattercarpet"
           }
          ],
          "scattergeo": [
           {
            "marker": {
             "colorbar": {
              "outlinewidth": 0,
              "ticks": ""
             }
            },
            "type": "scattergeo"
           }
          ],
          "scattergl": [
           {
            "marker": {
             "colorbar": {
              "outlinewidth": 0,
              "ticks": ""
             }
            },
            "type": "scattergl"
           }
          ],
          "scattermap": [
           {
            "marker": {
             "colorbar": {
              "outlinewidth": 0,
              "ticks": ""
             }
            },
            "type": "scattermap"
           }
          ],
          "scattermapbox": [
           {
            "marker": {
             "colorbar": {
              "outlinewidth": 0,
              "ticks": ""
             }
            },
            "type": "scattermapbox"
           }
          ],
          "scatterpolar": [
           {
            "marker": {
             "colorbar": {
              "outlinewidth": 0,
              "ticks": ""
             }
            },
            "type": "scatterpolar"
           }
          ],
          "scatterpolargl": [
           {
            "marker": {
             "colorbar": {
              "outlinewidth": 0,
              "ticks": ""
             }
            },
            "type": "scatterpolargl"
           }
          ],
          "scatterternary": [
           {
            "marker": {
             "colorbar": {
              "outlinewidth": 0,
              "ticks": ""
             }
            },
            "type": "scatterternary"
           }
          ],
          "surface": [
           {
            "colorbar": {
             "outlinewidth": 0,
             "ticks": ""
            },
            "colorscale": [
             [
              0,
              "#0d0887"
             ],
             [
              0.1111111111111111,
              "#46039f"
             ],
             [
              0.2222222222222222,
              "#7201a8"
             ],
             [
              0.3333333333333333,
              "#9c179e"
             ],
             [
              0.4444444444444444,
              "#bd3786"
             ],
             [
              0.5555555555555556,
              "#d8576b"
             ],
             [
              0.6666666666666666,
              "#ed7953"
             ],
             [
              0.7777777777777778,
              "#fb9f3a"
             ],
             [
              0.8888888888888888,
              "#fdca26"
             ],
             [
              1,
              "#f0f921"
             ]
            ],
            "type": "surface"
           }
          ],
          "table": [
           {
            "cells": {
             "fill": {
              "color": "#EBF0F8"
             },
             "line": {
              "color": "white"
             }
            },
            "header": {
             "fill": {
              "color": "#C8D4E3"
             },
             "line": {
              "color": "white"
             }
            },
            "type": "table"
           }
          ]
         },
         "layout": {
          "annotationdefaults": {
           "arrowcolor": "#2a3f5f",
           "arrowhead": 0,
           "arrowwidth": 1
          },
          "autotypenumbers": "strict",
          "coloraxis": {
           "colorbar": {
            "outlinewidth": 0,
            "ticks": ""
           }
          },
          "colorscale": {
           "diverging": [
            [
             0,
             "#8e0152"
            ],
            [
             0.1,
             "#c51b7d"
            ],
            [
             0.2,
             "#de77ae"
            ],
            [
             0.3,
             "#f1b6da"
            ],
            [
             0.4,
             "#fde0ef"
            ],
            [
             0.5,
             "#f7f7f7"
            ],
            [
             0.6,
             "#e6f5d0"
            ],
            [
             0.7,
             "#b8e186"
            ],
            [
             0.8,
             "#7fbc41"
            ],
            [
             0.9,
             "#4d9221"
            ],
            [
             1,
             "#276419"
            ]
           ],
           "sequential": [
            [
             0,
             "#0d0887"
            ],
            [
             0.1111111111111111,
             "#46039f"
            ],
            [
             0.2222222222222222,
             "#7201a8"
            ],
            [
             0.3333333333333333,
             "#9c179e"
            ],
            [
             0.4444444444444444,
             "#bd3786"
            ],
            [
             0.5555555555555556,
             "#d8576b"
            ],
            [
             0.6666666666666666,
             "#ed7953"
            ],
            [
             0.7777777777777778,
             "#fb9f3a"
            ],
            [
             0.8888888888888888,
             "#fdca26"
            ],
            [
             1,
             "#f0f921"
            ]
           ],
           "sequentialminus": [
            [
             0,
             "#0d0887"
            ],
            [
             0.1111111111111111,
             "#46039f"
            ],
            [
             0.2222222222222222,
             "#7201a8"
            ],
            [
             0.3333333333333333,
             "#9c179e"
            ],
            [
             0.4444444444444444,
             "#bd3786"
            ],
            [
             0.5555555555555556,
             "#d8576b"
            ],
            [
             0.6666666666666666,
             "#ed7953"
            ],
            [
             0.7777777777777778,
             "#fb9f3a"
            ],
            [
             0.8888888888888888,
             "#fdca26"
            ],
            [
             1,
             "#f0f921"
            ]
           ]
          },
          "colorway": [
           "#636efa",
           "#EF553B",
           "#00cc96",
           "#ab63fa",
           "#FFA15A",
           "#19d3f3",
           "#FF6692",
           "#B6E880",
           "#FF97FF",
           "#FECB52"
          ],
          "font": {
           "color": "#2a3f5f"
          },
          "geo": {
           "bgcolor": "white",
           "lakecolor": "white",
           "landcolor": "#E5ECF6",
           "showlakes": true,
           "showland": true,
           "subunitcolor": "white"
          },
          "hoverlabel": {
           "align": "left"
          },
          "hovermode": "closest",
          "mapbox": {
           "style": "light"
          },
          "paper_bgcolor": "white",
          "plot_bgcolor": "#E5ECF6",
          "polar": {
           "angularaxis": {
            "gridcolor": "white",
            "linecolor": "white",
            "ticks": ""
           },
           "bgcolor": "#E5ECF6",
           "radialaxis": {
            "gridcolor": "white",
            "linecolor": "white",
            "ticks": ""
           }
          },
          "scene": {
           "xaxis": {
            "backgroundcolor": "#E5ECF6",
            "gridcolor": "white",
            "gridwidth": 2,
            "linecolor": "white",
            "showbackground": true,
            "ticks": "",
            "zerolinecolor": "white"
           },
           "yaxis": {
            "backgroundcolor": "#E5ECF6",
            "gridcolor": "white",
            "gridwidth": 2,
            "linecolor": "white",
            "showbackground": true,
            "ticks": "",
            "zerolinecolor": "white"
           },
           "zaxis": {
            "backgroundcolor": "#E5ECF6",
            "gridcolor": "white",
            "gridwidth": 2,
            "linecolor": "white",
            "showbackground": true,
            "ticks": "",
            "zerolinecolor": "white"
           }
          },
          "shapedefaults": {
           "line": {
            "color": "#2a3f5f"
           }
          },
          "ternary": {
           "aaxis": {
            "gridcolor": "white",
            "linecolor": "white",
            "ticks": ""
           },
           "baxis": {
            "gridcolor": "white",
            "linecolor": "white",
            "ticks": ""
           },
           "bgcolor": "#E5ECF6",
           "caxis": {
            "gridcolor": "white",
            "linecolor": "white",
            "ticks": ""
           }
          },
          "title": {
           "x": 0.05
          },
          "xaxis": {
           "automargin": true,
           "gridcolor": "white",
           "linecolor": "white",
           "ticks": "",
           "title": {
            "standoff": 15
           },
           "zerolinecolor": "white",
           "zerolinewidth": 2
          },
          "yaxis": {
           "automargin": true,
           "gridcolor": "white",
           "linecolor": "white",
           "ticks": "",
           "title": {
            "standoff": 15
           },
           "zerolinecolor": "white",
           "zerolinewidth": 2
          }
         }
        },
        "title": {
         "text": "Critères d'information (AIC / BIC)"
        },
        "xaxis": {
         "title": {
          "text": "Modèle"
         }
        },
        "yaxis": {
         "title": {
          "text": "Valeur (plus bas = meilleur)"
         }
        }
       }
      }
     },
     "metadata": {},
     "output_type": "display_data"
    },
    {
     "data": {
      "application/vnd.plotly.v1+json": {
       "config": {
        "plotlyServerURL": "https://plot.ly"
       },
       "data": [
        {
         "hovertemplate": "Type=Régression<br>Modèle=%{x}<br>Durbin-Watson=%{y}<extra></extra>",
         "legendgroup": "Régression",
         "marker": {
          "color": "rgb(136, 204, 238)",
          "pattern": {
           "shape": ""
          }
         },
         "name": "Régression",
         "orientation": "v",
         "showlegend": true,
         "textposition": "auto",
         "texttemplate": "%{y:.2f}",
         "type": "bar",
         "x": [
          "OLS (base)",
          "OLS (optimisé)"
         ],
         "xaxis": "x",
         "y": {
          "bdata": "MzMzMzMzwz9cj8L1KFz/Pw==",
          "dtype": "f8"
         },
         "yaxis": "y"
        },
        {
         "hovertemplate": "Type=Rupture<br>Modèle=%{x}<br>Durbin-Watson=%{y}<extra></extra>",
         "legendgroup": "Rupture",
         "marker": {
          "color": "rgb(204, 102, 119)",
          "pattern": {
           "shape": ""
          }
         },
         "name": "Rupture",
         "orientation": "v",
         "showlegend": true,
         "textposition": "auto",
         "texttemplate": "%{y:.2f}",
         "type": "bar",
         "x": [
          "ITS (base)",
          "ITS (optimisé)"
         ],
         "xaxis": "x",
         "y": {
          "bdata": "WmQ730+Ntz+gGi/dJAbhPw==",
          "dtype": "f8"
         },
         "yaxis": "y"
        },
        {
         "hovertemplate": "Type=Série temporelle<br>Modèle=%{x}<br>Durbin-Watson=%{y}<extra></extra>",
         "legendgroup": "Série temporelle",
         "marker": {
          "color": "rgb(221, 204, 119)",
          "pattern": {
           "shape": ""
          }
         },
         "name": "Série temporelle",
         "orientation": "v",
         "showlegend": true,
         "textposition": "auto",
         "texttemplate": "%{y:.2f}",
         "type": "bar",
         "x": [
          "SARIMAX (base)",
          "SARIMAX (optimisé)"
         ],
         "xaxis": "x",
         "y": {
          "bdata": "O99PjZduoj8j2/l+arzwPw==",
          "dtype": "f8"
         },
         "yaxis": "y"
        }
       ],
       "layout": {
        "annotations": [
         {
          "showarrow": false,
          "text": "Zone idéale (1.5–2.5)",
          "x": 0,
          "xanchor": "left",
          "xref": "x domain",
          "y": 2.5,
          "yanchor": "top",
          "yref": "y"
         }
        ],
        "barmode": "relative",
        "height": 520,
        "legend": {
         "title": {
          "text": "Type"
         },
         "tracegroupgap": 0
        },
        "shapes": [
         {
          "fillcolor": "lightgreen",
          "line": {
           "width": 0
          },
          "opacity": 0.3,
          "type": "rect",
          "x0": 0,
          "x1": 1,
          "xref": "x domain",
          "y0": 1.5,
          "y1": 2.5,
          "yref": "y"
         }
        ],
        "template": {
         "data": {
          "bar": [
           {
            "error_x": {
             "color": "#2a3f5f"
            },
            "error_y": {
             "color": "#2a3f5f"
            },
            "marker": {
             "line": {
              "color": "white",
              "width": 0.5
             },
             "pattern": {
              "fillmode": "overlay",
              "size": 10,
              "solidity": 0.2
             }
            },
            "type": "bar"
           }
          ],
          "barpolar": [
           {
            "marker": {
             "line": {
              "color": "white",
              "width": 0.5
             },
             "pattern": {
              "fillmode": "overlay",
              "size": 10,
              "solidity": 0.2
             }
            },
            "type": "barpolar"
           }
          ],
          "carpet": [
           {
            "aaxis": {
             "endlinecolor": "#2a3f5f",
             "gridcolor": "#C8D4E3",
             "linecolor": "#C8D4E3",
             "minorgridcolor": "#C8D4E3",
             "startlinecolor": "#2a3f5f"
            },
            "baxis": {
             "endlinecolor": "#2a3f5f",
             "gridcolor": "#C8D4E3",
             "linecolor": "#C8D4E3",
             "minorgridcolor": "#C8D4E3",
             "startlinecolor": "#2a3f5f"
            },
            "type": "carpet"
           }
          ],
          "choropleth": [
           {
            "colorbar": {
             "outlinewidth": 0,
             "ticks": ""
            },
            "type": "choropleth"
           }
          ],
          "contour": [
           {
            "colorbar": {
             "outlinewidth": 0,
             "ticks": ""
            },
            "colorscale": [
             [
              0,
              "#0d0887"
             ],
             [
              0.1111111111111111,
              "#46039f"
             ],
             [
              0.2222222222222222,
              "#7201a8"
             ],
             [
              0.3333333333333333,
              "#9c179e"
             ],
             [
              0.4444444444444444,
              "#bd3786"
             ],
             [
              0.5555555555555556,
              "#d8576b"
             ],
             [
              0.6666666666666666,
              "#ed7953"
             ],
             [
              0.7777777777777778,
              "#fb9f3a"
             ],
             [
              0.8888888888888888,
              "#fdca26"
             ],
             [
              1,
              "#f0f921"
             ]
            ],
            "type": "contour"
           }
          ],
          "contourcarpet": [
           {
            "colorbar": {
             "outlinewidth": 0,
             "ticks": ""
            },
            "type": "contourcarpet"
           }
          ],
          "heatmap": [
           {
            "colorbar": {
             "outlinewidth": 0,
             "ticks": ""
            },
            "colorscale": [
             [
              0,
              "#0d0887"
             ],
             [
              0.1111111111111111,
              "#46039f"
             ],
             [
              0.2222222222222222,
              "#7201a8"
             ],
             [
              0.3333333333333333,
              "#9c179e"
             ],
             [
              0.4444444444444444,
              "#bd3786"
             ],
             [
              0.5555555555555556,
              "#d8576b"
             ],
             [
              0.6666666666666666,
              "#ed7953"
             ],
             [
              0.7777777777777778,
              "#fb9f3a"
             ],
             [
              0.8888888888888888,
              "#fdca26"
             ],
             [
              1,
              "#f0f921"
             ]
            ],
            "type": "heatmap"
           }
          ],
          "histogram": [
           {
            "marker": {
             "pattern": {
              "fillmode": "overlay",
              "size": 10,
              "solidity": 0.2
             }
            },
            "type": "histogram"
           }
          ],
          "histogram2d": [
           {
            "colorbar": {
             "outlinewidth": 0,
             "ticks": ""
            },
            "colorscale": [
             [
              0,
              "#0d0887"
             ],
             [
              0.1111111111111111,
              "#46039f"
             ],
             [
              0.2222222222222222,
              "#7201a8"
             ],
             [
              0.3333333333333333,
              "#9c179e"
             ],
             [
              0.4444444444444444,
              "#bd3786"
             ],
             [
              0.5555555555555556,
              "#d8576b"
             ],
             [
              0.6666666666666666,
              "#ed7953"
             ],
             [
              0.7777777777777778,
              "#fb9f3a"
             ],
             [
              0.8888888888888888,
              "#fdca26"
             ],
             [
              1,
              "#f0f921"
             ]
            ],
            "type": "histogram2d"
           }
          ],
          "histogram2dcontour": [
           {
            "colorbar": {
             "outlinewidth": 0,
             "ticks": ""
            },
            "colorscale": [
             [
              0,
              "#0d0887"
             ],
             [
              0.1111111111111111,
              "#46039f"
             ],
             [
              0.2222222222222222,
              "#7201a8"
             ],
             [
              0.3333333333333333,
              "#9c179e"
             ],
             [
              0.4444444444444444,
              "#bd3786"
             ],
             [
              0.5555555555555556,
              "#d8576b"
             ],
             [
              0.6666666666666666,
              "#ed7953"
             ],
             [
              0.7777777777777778,
              "#fb9f3a"
             ],
             [
              0.8888888888888888,
              "#fdca26"
             ],
             [
              1,
              "#f0f921"
             ]
            ],
            "type": "histogram2dcontour"
           }
          ],
          "mesh3d": [
           {
            "colorbar": {
             "outlinewidth": 0,
             "ticks": ""
            },
            "type": "mesh3d"
           }
          ],
          "parcoords": [
           {
            "line": {
             "colorbar": {
              "outlinewidth": 0,
              "ticks": ""
             }
            },
            "type": "parcoords"
           }
          ],
          "pie": [
           {
            "automargin": true,
            "type": "pie"
           }
          ],
          "scatter": [
           {
            "fillpattern": {
             "fillmode": "overlay",
             "size": 10,
             "solidity": 0.2
            },
            "type": "scatter"
           }
          ],
          "scatter3d": [
           {
            "line": {
             "colorbar": {
              "outlinewidth": 0,
              "ticks": ""
             }
            },
            "marker": {
             "colorbar": {
              "outlinewidth": 0,
              "ticks": ""
             }
            },
            "type": "scatter3d"
           }
          ],
          "scattercarpet": [
           {
            "marker": {
             "colorbar": {
              "outlinewidth": 0,
              "ticks": ""
             }
            },
            "type": "scattercarpet"
           }
          ],
          "scattergeo": [
           {
            "marker": {
             "colorbar": {
              "outlinewidth": 0,
              "ticks": ""
             }
            },
            "type": "scattergeo"
           }
          ],
          "scattergl": [
           {
            "marker": {
             "colorbar": {
              "outlinewidth": 0,
              "ticks": ""
             }
            },
            "type": "scattergl"
           }
          ],
          "scattermap": [
           {
            "marker": {
             "colorbar": {
              "outlinewidth": 0,
              "ticks": ""
             }
            },
            "type": "scattermap"
           }
          ],
          "scattermapbox": [
           {
            "marker": {
             "colorbar": {
              "outlinewidth": 0,
              "ticks": ""
             }
            },
            "type": "scattermapbox"
           }
          ],
          "scatterpolar": [
           {
            "marker": {
             "colorbar": {
              "outlinewidth": 0,
              "ticks": ""
             }
            },
            "type": "scatterpolar"
           }
          ],
          "scatterpolargl": [
           {
            "marker": {
             "colorbar": {
              "outlinewidth": 0,
              "ticks": ""
             }
            },
            "type": "scatterpolargl"
           }
          ],
          "scatterternary": [
           {
            "marker": {
             "colorbar": {
              "outlinewidth": 0,
              "ticks": ""
             }
            },
            "type": "scatterternary"
           }
          ],
          "surface": [
           {
            "colorbar": {
             "outlinewidth": 0,
             "ticks": ""
            },
            "colorscale": [
             [
              0,
              "#0d0887"
             ],
             [
              0.1111111111111111,
              "#46039f"
             ],
             [
              0.2222222222222222,
              "#7201a8"
             ],
             [
              0.3333333333333333,
              "#9c179e"
             ],
             [
              0.4444444444444444,
              "#bd3786"
             ],
             [
              0.5555555555555556,
              "#d8576b"
             ],
             [
              0.6666666666666666,
              "#ed7953"
             ],
             [
              0.7777777777777778,
              "#fb9f3a"
             ],
             [
              0.8888888888888888,
              "#fdca26"
             ],
             [
              1,
              "#f0f921"
             ]
            ],
            "type": "surface"
           }
          ],
          "table": [
           {
            "cells": {
             "fill": {
              "color": "#EBF0F8"
             },
             "line": {
              "color": "white"
             }
            },
            "header": {
             "fill": {
              "color": "#C8D4E3"
             },
             "line": {
              "color": "white"
             }
            },
            "type": "table"
           }
          ]
         },
         "layout": {
          "annotationdefaults": {
           "arrowcolor": "#2a3f5f",
           "arrowhead": 0,
           "arrowwidth": 1
          },
          "autotypenumbers": "strict",
          "coloraxis": {
           "colorbar": {
            "outlinewidth": 0,
            "ticks": ""
           }
          },
          "colorscale": {
           "diverging": [
            [
             0,
             "#8e0152"
            ],
            [
             0.1,
             "#c51b7d"
            ],
            [
             0.2,
             "#de77ae"
            ],
            [
             0.3,
             "#f1b6da"
            ],
            [
             0.4,
             "#fde0ef"
            ],
            [
             0.5,
             "#f7f7f7"
            ],
            [
             0.6,
             "#e6f5d0"
            ],
            [
             0.7,
             "#b8e186"
            ],
            [
             0.8,
             "#7fbc41"
            ],
            [
             0.9,
             "#4d9221"
            ],
            [
             1,
             "#276419"
            ]
           ],
           "sequential": [
            [
             0,
             "#0d0887"
            ],
            [
             0.1111111111111111,
             "#46039f"
            ],
            [
             0.2222222222222222,
             "#7201a8"
            ],
            [
             0.3333333333333333,
             "#9c179e"
            ],
            [
             0.4444444444444444,
             "#bd3786"
            ],
            [
             0.5555555555555556,
             "#d8576b"
            ],
            [
             0.6666666666666666,
             "#ed7953"
            ],
            [
             0.7777777777777778,
             "#fb9f3a"
            ],
            [
             0.8888888888888888,
             "#fdca26"
            ],
            [
             1,
             "#f0f921"
            ]
           ],
           "sequentialminus": [
            [
             0,
             "#0d0887"
            ],
            [
             0.1111111111111111,
             "#46039f"
            ],
            [
             0.2222222222222222,
             "#7201a8"
            ],
            [
             0.3333333333333333,
             "#9c179e"
            ],
            [
             0.4444444444444444,
             "#bd3786"
            ],
            [
             0.5555555555555556,
             "#d8576b"
            ],
            [
             0.6666666666666666,
             "#ed7953"
            ],
            [
             0.7777777777777778,
             "#fb9f3a"
            ],
            [
             0.8888888888888888,
             "#fdca26"
            ],
            [
             1,
             "#f0f921"
            ]
           ]
          },
          "colorway": [
           "#636efa",
           "#EF553B",
           "#00cc96",
           "#ab63fa",
           "#FFA15A",
           "#19d3f3",
           "#FF6692",
           "#B6E880",
           "#FF97FF",
           "#FECB52"
          ],
          "font": {
           "color": "#2a3f5f"
          },
          "geo": {
           "bgcolor": "white",
           "lakecolor": "white",
           "landcolor": "white",
           "showlakes": true,
           "showland": true,
           "subunitcolor": "#C8D4E3"
          },
          "hoverlabel": {
           "align": "left"
          },
          "hovermode": "closest",
          "mapbox": {
           "style": "light"
          },
          "paper_bgcolor": "white",
          "plot_bgcolor": "white",
          "polar": {
           "angularaxis": {
            "gridcolor": "#EBF0F8",
            "linecolor": "#EBF0F8",
            "ticks": ""
           },
           "bgcolor": "white",
           "radialaxis": {
            "gridcolor": "#EBF0F8",
            "linecolor": "#EBF0F8",
            "ticks": ""
           }
          },
          "scene": {
           "xaxis": {
            "backgroundcolor": "white",
            "gridcolor": "#DFE8F3",
            "gridwidth": 2,
            "linecolor": "#EBF0F8",
            "showbackground": true,
            "ticks": "",
            "zerolinecolor": "#EBF0F8"
           },
           "yaxis": {
            "backgroundcolor": "white",
            "gridcolor": "#DFE8F3",
            "gridwidth": 2,
            "linecolor": "#EBF0F8",
            "showbackground": true,
            "ticks": "",
            "zerolinecolor": "#EBF0F8"
           },
           "zaxis": {
            "backgroundcolor": "white",
            "gridcolor": "#DFE8F3",
            "gridwidth": 2,
            "linecolor": "#EBF0F8",
            "showbackground": true,
            "ticks": "",
            "zerolinecolor": "#EBF0F8"
           }
          },
          "shapedefaults": {
           "line": {
            "color": "#2a3f5f"
           }
          },
          "ternary": {
           "aaxis": {
            "gridcolor": "#DFE8F3",
            "linecolor": "#A2B1C6",
            "ticks": ""
           },
           "baxis": {
            "gridcolor": "#DFE8F3",
            "linecolor": "#A2B1C6",
            "ticks": ""
           },
           "bgcolor": "white",
           "caxis": {
            "gridcolor": "#DFE8F3",
            "linecolor": "#A2B1C6",
            "ticks": ""
           }
          },
          "title": {
           "x": 0.05
          },
          "xaxis": {
           "automargin": true,
           "gridcolor": "#EBF0F8",
           "linecolor": "#EBF0F8",
           "ticks": "",
           "title": {
            "standoff": 15
           },
           "zerolinecolor": "#EBF0F8",
           "zerolinewidth": 2
          },
          "yaxis": {
           "automargin": true,
           "gridcolor": "#EBF0F8",
           "linecolor": "#EBF0F8",
           "ticks": "",
           "title": {
            "standoff": 15
           },
           "zerolinecolor": "#EBF0F8",
           "zerolinewidth": 2
          }
         }
        },
        "title": {
         "text": "Autocorrélation des résidus (Durbin–Watson)"
        },
        "width": 1000,
        "xaxis": {
         "anchor": "y",
         "domain": [
          0,
          1
         ],
         "title": {
          "text": "Modèle"
         }
        },
        "yaxis": {
         "anchor": "x",
         "domain": [
          0,
          1
         ],
         "range": [
          0,
          2.5
         ],
         "title": {
          "text": "Durbin–Watson"
         }
        }
       }
      }
     },
     "metadata": {},
     "output_type": "display_data"
    },
    {
     "data": {
      "application/vnd.plotly.v1+json": {
       "config": {
        "plotlyServerURL": "https://plot.ly"
       },
       "data": [
        {
         "hovertemplate": "Type=Série temporelle<br>Modèle=%{x}<br>Score_global=%{y}<extra></extra>",
         "legendgroup": "Série temporelle",
         "marker": {
          "color": "rgb(95, 70, 144)",
          "pattern": {
           "shape": ""
          }
         },
         "name": "Série temporelle",
         "orientation": "v",
         "showlegend": true,
         "textposition": "auto",
         "texttemplate": "%{y:.0f}",
         "type": "bar",
         "x": [
          "SARIMAX (base)",
          "SARIMAX (optimisé)"
         ],
         "xaxis": "x",
         "y": {
          "bdata": "AAAAAAAA8D8AAAAAAAAYQA==",
          "dtype": "f8"
         },
         "yaxis": "y"
        },
        {
         "hovertemplate": "Type=Régression<br>Modèle=%{x}<br>Score_global=%{y}<extra></extra>",
         "legendgroup": "Régression",
         "marker": {
          "color": "rgb(29, 105, 150)",
          "pattern": {
           "shape": ""
          }
         },
         "name": "Régression",
         "orientation": "v",
         "showlegend": true,
         "textposition": "auto",
         "texttemplate": "%{y:.0f}",
         "type": "bar",
         "x": [
          "OLS (optimisé)",
          "OLS (base)"
         ],
         "xaxis": "x",
         "y": {
          "bdata": "AAAAAAAAGEAAAAAAAAAsQA==",
          "dtype": "f8"
         },
         "yaxis": "y"
        },
        {
         "hovertemplate": "Type=Rupture<br>Modèle=%{x}<br>Score_global=%{y}<extra></extra>",
         "legendgroup": "Rupture",
         "marker": {
          "color": "rgb(56, 166, 165)",
          "pattern": {
           "shape": ""
          }
         },
         "name": "Rupture",
         "orientation": "v",
         "showlegend": true,
         "textposition": "auto",
         "texttemplate": "%{y:.0f}",
         "type": "bar",
         "x": [
          "ITS (optimisé)",
          "ITS (base)"
         ],
         "xaxis": "x",
         "y": {
          "bdata": "AAAAAAAAIkAAAAAAAAAuQA==",
          "dtype": "f8"
         },
         "yaxis": "y"
        }
       ],
       "layout": {
        "barmode": "relative",
        "height": 520,
        "legend": {
         "title": {
          "text": "Type"
         },
         "tracegroupgap": 0
        },
        "template": {
         "data": {
          "bar": [
           {
            "error_x": {
             "color": "#2a3f5f"
            },
            "error_y": {
             "color": "#2a3f5f"
            },
            "marker": {
             "line": {
              "color": "white",
              "width": 0.5
             },
             "pattern": {
              "fillmode": "overlay",
              "size": 10,
              "solidity": 0.2
             }
            },
            "type": "bar"
           }
          ],
          "barpolar": [
           {
            "marker": {
             "line": {
              "color": "white",
              "width": 0.5
             },
             "pattern": {
              "fillmode": "overlay",
              "size": 10,
              "solidity": 0.2
             }
            },
            "type": "barpolar"
           }
          ],
          "carpet": [
           {
            "aaxis": {
             "endlinecolor": "#2a3f5f",
             "gridcolor": "#C8D4E3",
             "linecolor": "#C8D4E3",
             "minorgridcolor": "#C8D4E3",
             "startlinecolor": "#2a3f5f"
            },
            "baxis": {
             "endlinecolor": "#2a3f5f",
             "gridcolor": "#C8D4E3",
             "linecolor": "#C8D4E3",
             "minorgridcolor": "#C8D4E3",
             "startlinecolor": "#2a3f5f"
            },
            "type": "carpet"
           }
          ],
          "choropleth": [
           {
            "colorbar": {
             "outlinewidth": 0,
             "ticks": ""
            },
            "type": "choropleth"
           }
          ],
          "contour": [
           {
            "colorbar": {
             "outlinewidth": 0,
             "ticks": ""
            },
            "colorscale": [
             [
              0,
              "#0d0887"
             ],
             [
              0.1111111111111111,
              "#46039f"
             ],
             [
              0.2222222222222222,
              "#7201a8"
             ],
             [
              0.3333333333333333,
              "#9c179e"
             ],
             [
              0.4444444444444444,
              "#bd3786"
             ],
             [
              0.5555555555555556,
              "#d8576b"
             ],
             [
              0.6666666666666666,
              "#ed7953"
             ],
             [
              0.7777777777777778,
              "#fb9f3a"
             ],
             [
              0.8888888888888888,
              "#fdca26"
             ],
             [
              1,
              "#f0f921"
             ]
            ],
            "type": "contour"
           }
          ],
          "contourcarpet": [
           {
            "colorbar": {
             "outlinewidth": 0,
             "ticks": ""
            },
            "type": "contourcarpet"
           }
          ],
          "heatmap": [
           {
            "colorbar": {
             "outlinewidth": 0,
             "ticks": ""
            },
            "colorscale": [
             [
              0,
              "#0d0887"
             ],
             [
              0.1111111111111111,
              "#46039f"
             ],
             [
              0.2222222222222222,
              "#7201a8"
             ],
             [
              0.3333333333333333,
              "#9c179e"
             ],
             [
              0.4444444444444444,
              "#bd3786"
             ],
             [
              0.5555555555555556,
              "#d8576b"
             ],
             [
              0.6666666666666666,
              "#ed7953"
             ],
             [
              0.7777777777777778,
              "#fb9f3a"
             ],
             [
              0.8888888888888888,
              "#fdca26"
             ],
             [
              1,
              "#f0f921"
             ]
            ],
            "type": "heatmap"
           }
          ],
          "histogram": [
           {
            "marker": {
             "pattern": {
              "fillmode": "overlay",
              "size": 10,
              "solidity": 0.2
             }
            },
            "type": "histogram"
           }
          ],
          "histogram2d": [
           {
            "colorbar": {
             "outlinewidth": 0,
             "ticks": ""
            },
            "colorscale": [
             [
              0,
              "#0d0887"
             ],
             [
              0.1111111111111111,
              "#46039f"
             ],
             [
              0.2222222222222222,
              "#7201a8"
             ],
             [
              0.3333333333333333,
              "#9c179e"
             ],
             [
              0.4444444444444444,
              "#bd3786"
             ],
             [
              0.5555555555555556,
              "#d8576b"
             ],
             [
              0.6666666666666666,
              "#ed7953"
             ],
             [
              0.7777777777777778,
              "#fb9f3a"
             ],
             [
              0.8888888888888888,
              "#fdca26"
             ],
             [
              1,
              "#f0f921"
             ]
            ],
            "type": "histogram2d"
           }
          ],
          "histogram2dcontour": [
           {
            "colorbar": {
             "outlinewidth": 0,
             "ticks": ""
            },
            "colorscale": [
             [
              0,
              "#0d0887"
             ],
             [
              0.1111111111111111,
              "#46039f"
             ],
             [
              0.2222222222222222,
              "#7201a8"
             ],
             [
              0.3333333333333333,
              "#9c179e"
             ],
             [
              0.4444444444444444,
              "#bd3786"
             ],
             [
              0.5555555555555556,
              "#d8576b"
             ],
             [
              0.6666666666666666,
              "#ed7953"
             ],
             [
              0.7777777777777778,
              "#fb9f3a"
             ],
             [
              0.8888888888888888,
              "#fdca26"
             ],
             [
              1,
              "#f0f921"
             ]
            ],
            "type": "histogram2dcontour"
           }
          ],
          "mesh3d": [
           {
            "colorbar": {
             "outlinewidth": 0,
             "ticks": ""
            },
            "type": "mesh3d"
           }
          ],
          "parcoords": [
           {
            "line": {
             "colorbar": {
              "outlinewidth": 0,
              "ticks": ""
             }
            },
            "type": "parcoords"
           }
          ],
          "pie": [
           {
            "automargin": true,
            "type": "pie"
           }
          ],
          "scatter": [
           {
            "fillpattern": {
             "fillmode": "overlay",
             "size": 10,
             "solidity": 0.2
            },
            "type": "scatter"
           }
          ],
          "scatter3d": [
           {
            "line": {
             "colorbar": {
              "outlinewidth": 0,
              "ticks": ""
             }
            },
            "marker": {
             "colorbar": {
              "outlinewidth": 0,
              "ticks": ""
             }
            },
            "type": "scatter3d"
           }
          ],
          "scattercarpet": [
           {
            "marker": {
             "colorbar": {
              "outlinewidth": 0,
              "ticks": ""
             }
            },
            "type": "scattercarpet"
           }
          ],
          "scattergeo": [
           {
            "marker": {
             "colorbar": {
              "outlinewidth": 0,
              "ticks": ""
             }
            },
            "type": "scattergeo"
           }
          ],
          "scattergl": [
           {
            "marker": {
             "colorbar": {
              "outlinewidth": 0,
              "ticks": ""
             }
            },
            "type": "scattergl"
           }
          ],
          "scattermap": [
           {
            "marker": {
             "colorbar": {
              "outlinewidth": 0,
              "ticks": ""
             }
            },
            "type": "scattermap"
           }
          ],
          "scattermapbox": [
           {
            "marker": {
             "colorbar": {
              "outlinewidth": 0,
              "ticks": ""
             }
            },
            "type": "scattermapbox"
           }
          ],
          "scatterpolar": [
           {
            "marker": {
             "colorbar": {
              "outlinewidth": 0,
              "ticks": ""
             }
            },
            "type": "scatterpolar"
           }
          ],
          "scatterpolargl": [
           {
            "marker": {
             "colorbar": {
              "outlinewidth": 0,
              "ticks": ""
             }
            },
            "type": "scatterpolargl"
           }
          ],
          "scatterternary": [
           {
            "marker": {
             "colorbar": {
              "outlinewidth": 0,
              "ticks": ""
             }
            },
            "type": "scatterternary"
           }
          ],
          "surface": [
           {
            "colorbar": {
             "outlinewidth": 0,
             "ticks": ""
            },
            "colorscale": [
             [
              0,
              "#0d0887"
             ],
             [
              0.1111111111111111,
              "#46039f"
             ],
             [
              0.2222222222222222,
              "#7201a8"
             ],
             [
              0.3333333333333333,
              "#9c179e"
             ],
             [
              0.4444444444444444,
              "#bd3786"
             ],
             [
              0.5555555555555556,
              "#d8576b"
             ],
             [
              0.6666666666666666,
              "#ed7953"
             ],
             [
              0.7777777777777778,
              "#fb9f3a"
             ],
             [
              0.8888888888888888,
              "#fdca26"
             ],
             [
              1,
              "#f0f921"
             ]
            ],
            "type": "surface"
           }
          ],
          "table": [
           {
            "cells": {
             "fill": {
              "color": "#EBF0F8"
             },
             "line": {
              "color": "white"
             }
            },
            "header": {
             "fill": {
              "color": "#C8D4E3"
             },
             "line": {
              "color": "white"
             }
            },
            "type": "table"
           }
          ]
         },
         "layout": {
          "annotationdefaults": {
           "arrowcolor": "#2a3f5f",
           "arrowhead": 0,
           "arrowwidth": 1
          },
          "autotypenumbers": "strict",
          "coloraxis": {
           "colorbar": {
            "outlinewidth": 0,
            "ticks": ""
           }
          },
          "colorscale": {
           "diverging": [
            [
             0,
             "#8e0152"
            ],
            [
             0.1,
             "#c51b7d"
            ],
            [
             0.2,
             "#de77ae"
            ],
            [
             0.3,
             "#f1b6da"
            ],
            [
             0.4,
             "#fde0ef"
            ],
            [
             0.5,
             "#f7f7f7"
            ],
            [
             0.6,
             "#e6f5d0"
            ],
            [
             0.7,
             "#b8e186"
            ],
            [
             0.8,
             "#7fbc41"
            ],
            [
             0.9,
             "#4d9221"
            ],
            [
             1,
             "#276419"
            ]
           ],
           "sequential": [
            [
             0,
             "#0d0887"
            ],
            [
             0.1111111111111111,
             "#46039f"
            ],
            [
             0.2222222222222222,
             "#7201a8"
            ],
            [
             0.3333333333333333,
             "#9c179e"
            ],
            [
             0.4444444444444444,
             "#bd3786"
            ],
            [
             0.5555555555555556,
             "#d8576b"
            ],
            [
             0.6666666666666666,
             "#ed7953"
            ],
            [
             0.7777777777777778,
             "#fb9f3a"
            ],
            [
             0.8888888888888888,
             "#fdca26"
            ],
            [
             1,
             "#f0f921"
            ]
           ],
           "sequentialminus": [
            [
             0,
             "#0d0887"
            ],
            [
             0.1111111111111111,
             "#46039f"
            ],
            [
             0.2222222222222222,
             "#7201a8"
            ],
            [
             0.3333333333333333,
             "#9c179e"
            ],
            [
             0.4444444444444444,
             "#bd3786"
            ],
            [
             0.5555555555555556,
             "#d8576b"
            ],
            [
             0.6666666666666666,
             "#ed7953"
            ],
            [
             0.7777777777777778,
             "#fb9f3a"
            ],
            [
             0.8888888888888888,
             "#fdca26"
            ],
            [
             1,
             "#f0f921"
            ]
           ]
          },
          "colorway": [
           "#636efa",
           "#EF553B",
           "#00cc96",
           "#ab63fa",
           "#FFA15A",
           "#19d3f3",
           "#FF6692",
           "#B6E880",
           "#FF97FF",
           "#FECB52"
          ],
          "font": {
           "color": "#2a3f5f"
          },
          "geo": {
           "bgcolor": "white",
           "lakecolor": "white",
           "landcolor": "white",
           "showlakes": true,
           "showland": true,
           "subunitcolor": "#C8D4E3"
          },
          "hoverlabel": {
           "align": "left"
          },
          "hovermode": "closest",
          "mapbox": {
           "style": "light"
          },
          "paper_bgcolor": "white",
          "plot_bgcolor": "white",
          "polar": {
           "angularaxis": {
            "gridcolor": "#EBF0F8",
            "linecolor": "#EBF0F8",
            "ticks": ""
           },
           "bgcolor": "white",
           "radialaxis": {
            "gridcolor": "#EBF0F8",
            "linecolor": "#EBF0F8",
            "ticks": ""
           }
          },
          "scene": {
           "xaxis": {
            "backgroundcolor": "white",
            "gridcolor": "#DFE8F3",
            "gridwidth": 2,
            "linecolor": "#EBF0F8",
            "showbackground": true,
            "ticks": "",
            "zerolinecolor": "#EBF0F8"
           },
           "yaxis": {
            "backgroundcolor": "white",
            "gridcolor": "#DFE8F3",
            "gridwidth": 2,
            "linecolor": "#EBF0F8",
            "showbackground": true,
            "ticks": "",
            "zerolinecolor": "#EBF0F8"
           },
           "zaxis": {
            "backgroundcolor": "white",
            "gridcolor": "#DFE8F3",
            "gridwidth": 2,
            "linecolor": "#EBF0F8",
            "showbackground": true,
            "ticks": "",
            "zerolinecolor": "#EBF0F8"
           }
          },
          "shapedefaults": {
           "line": {
            "color": "#2a3f5f"
           }
          },
          "ternary": {
           "aaxis": {
            "gridcolor": "#DFE8F3",
            "linecolor": "#A2B1C6",
            "ticks": ""
           },
           "baxis": {
            "gridcolor": "#DFE8F3",
            "linecolor": "#A2B1C6",
            "ticks": ""
           },
           "bgcolor": "white",
           "caxis": {
            "gridcolor": "#DFE8F3",
            "linecolor": "#A2B1C6",
            "ticks": ""
           }
          },
          "title": {
           "x": 0.05
          },
          "xaxis": {
           "automargin": true,
           "gridcolor": "#EBF0F8",
           "linecolor": "#EBF0F8",
           "ticks": "",
           "title": {
            "standoff": 15
           },
           "zerolinecolor": "#EBF0F8",
           "zerolinewidth": 2
          },
          "yaxis": {
           "automargin": true,
           "gridcolor": "#EBF0F8",
           "linecolor": "#EBF0F8",
           "ticks": "",
           "title": {
            "standoff": 15
           },
           "zerolinecolor": "#EBF0F8",
           "zerolinewidth": 2
          }
         }
        },
        "title": {
         "text": "Classement global (AIC + BIC + R²)"
        },
        "width": 1000,
        "xaxis": {
         "anchor": "y",
         "domain": [
          0,
          1
         ],
         "title": {
          "text": "Modèle"
         }
        },
        "yaxis": {
         "anchor": "x",
         "domain": [
          0,
          1
         ],
         "title": {
          "text": "Score global (plus bas = meilleur ajustement global)"
         }
        }
       }
      }
     },
     "metadata": {},
     "output_type": "display_data"
    },
    {
     "data": {
      "text/markdown": [
       "\n",
       "## 🧩 Synthèse des performances des modèles\n",
       "\n",
       "Pour comparer les modèles statistiques, on regarde plusieurs indicateurs de performance qui permettent d’évaluer **la qualité des prédictions**, **la stabilité des résidus** (erreurs du modèle), et **le risque de surajustement**.  \n",
       "Voici ce que signifient les principaux paramètres utilisés :\n",
       "\n",
       "- **R² ajusté** : mesure la proportion de la variabilité du RSV expliquée par le modèle.  \n",
       "  → Plus il est proche de 1, plus le modèle est précis (au-delà de 0.9, c’est excellent).  \n",
       "  L’ajustement (\"ajusté\") corrige le score si trop de variables inutiles sont ajoutées.\n",
       "\n",
       "- **AIC / BIC** : critères d’information (Akaike et Bayesien).  \n",
       "  → Plus ils sont **bas**, mieux c’est. Ils pénalisent les modèles trop complexes, pour éviter qu’ils apprennent \"par cœur\" les données.\n",
       "\n",
       "- **Durbin–Watson (DW)** : mesure l’autocorrélation des résidus (les erreurs successives).  \n",
       "  → Une valeur proche de **2** indique que les erreurs sont indépendantes (donc modèle sain).  \n",
       "  → Si elle est très basse (< 1), cela signifie que les erreurs se suivent trop (autocorrélation → modèle instable).\n",
       "\n",
       "---\n",
       "\n",
       "### 📊 Résultats comparés\n",
       "\n",
       "- **OLS optimisé** ressort comme **le plus performant globalement**, avec :\n",
       "  - R² ajusté ≈ **0.97**\n",
       "  - AIC et BIC très bas  \n",
       "  - Résidus quasi indépendants (Durbin–Watson ≈ **1.96**)  \n",
       "  👉 Ce modèle explique très bien les variations du RSV en fonction des variables :\n",
       "  - **MNP (mesures non pharmaceutiques)** : gestes barrières, confinement, etc.\n",
       "  - **Vaccination COVID**\n",
       "  - **Température moyenne hebdomadaire**\n",
       "  - **Interactions entre vaccination et MNP**\n",
       "  - **Composantes saisonnières** (sin/cos à 52 semaines pour les cycles annuels)\n",
       "  - **Lags RSV (t-1, t-2)** : valeurs retardées du RSV pour tenir compte des effets d’inertie.\n",
       "  → C’est le modèle le plus simple à interpréter (on voit clairement l’effet de chaque variable).\n",
       "\n",
       "---\n",
       "\n",
       "- **ITS optimisé** suit de près (**R² ≈ 0.94**)  \n",
       "  Ce modèle est fait pour capturer les **ruptures temporelles** comme :\n",
       "  - le début de la pandémie COVID,\n",
       "  - l’introduction du vaccin,\n",
       "  - la reprise des épidémies post-COVID.\n",
       "  \n",
       "  ⚠️ Cependant, ses **résidus restent autocorrélés** (DW = **0.53**), ce qui veut dire que les erreurs se suivent trop :  \n",
       "  le modèle \"rate\" encore une partie des tendances internes au temps.\n",
       "\n",
       "---\n",
       "\n",
       "- **SARIMAX optimisé** affiche un **pseudo-R² ≈ 0.91**.  \n",
       "  Il prend en compte :\n",
       "  - les **valeurs passées** du RSV (partie auto-régressive),\n",
       "  - les **chocs saisonniers** (saisons précédentes),\n",
       "  - les **variables externes** (vaccination, météo, gestes barrières).  \n",
       "  C’est un modèle plus \"temps-série\", souvent utilisé pour **prévoir** le futur.\n",
       "  \n",
       "  ➕ Très bon pour les **prédictions** à moyen terme (les courbes suivent bien la réalité).  \n",
       "  ➖ Légèrement **surajusté** (AIC = 383), donc trop sensible aux variations de la période d’apprentissage.\n",
       "\n",
       "---\n",
       "\n",
       "- Les versions **de base (OLS / ITS / SARIMAX)**, sans lissage, sans lags ni variables exogènes, sont très en retrait :  \n",
       "  - R² < **0.55**\n",
       "  - Résidus fortement corrélés (DW < **0.2**)  \n",
       "  → Ces modèles expliquent mal la saisonnalité et réagissent mal aux ruptures COVID.\n",
       "\n",
       "---\n",
       "\n",
       "### 🧭 Conclusion\n",
       "\n",
       "Les modèles :\n",
       "- **OLS optimisé** est le plus **interprétable** et scientifiquement parlant le plus clair : on comprend facilement quels facteurs influencent le RSV et dans quel sens.  \n",
       "- **SARIMAX optimisé** est le plus **robuste pour la prévision** : il reproduit bien les dynamiques temporelles, même si son interprétation est plus complexe.\n",
       "\n",
       "➡️ En résumé :  \n",
       "**OLS optimisé = meilleur modèle explicatif**  \n",
       "**SARIMAX optimisé = meilleur modèle prédictif**\n"
      ],
      "text/plain": [
       "<IPython.core.display.Markdown object>"
      ]
     },
     "metadata": {},
     "output_type": "display_data"
    }
   ],
   "source": [
    "# ==========================================\n",
    "# 🧱 BLOC 6 — Synthèse visuelle et interprétation\n",
    "# ==========================================\n",
    "import plotly.express as px\n",
    "import plotly.graph_objects as go\n",
    "\n",
    "# Reprise du tableau (si déjà calculé ci-dessus, pas nécessaire)\n",
    "perf = pd.DataFrame({\n",
    "    \"Modèle\": [\n",
    "        \"OLS (base)\", \"OLS (optimisé)\",\n",
    "        \"ITS (base)\", \"ITS (optimisé)\",\n",
    "        \"SARIMAX (base)\", \"SARIMAX (optimisé)\"\n",
    "    ],\n",
    "    \"R²_adj\": [0.530, 0.968, 0.496, 0.945, np.nan, 0.907],\n",
    "    \"AIC\": [1473.016, 1069.404, 1477.961, 1267.925, 22.000, 383.745],\n",
    "    \"BIC\": [1488.526, 1094.290, 1488.300, 1298.945, np.nan, 402.800],\n",
    "    \"Durbin-Watson\": [0.150, 1.960, 0.092, 0.532, 0.036, 1.046],\n",
    "    \"Type\": [\"Régression\", \"Régression\", \"Rupture\", \"Rupture\", \"Série temporelle\", \"Série temporelle\"]\n",
    "})\n",
    "\n",
    "# ==============================\n",
    "# 1️⃣ — Barplot R² / pseudo-R²\n",
    "# ==============================\n",
    "fig = px.bar(\n",
    "    perf,\n",
    "    x=\"Modèle\",\n",
    "    y=\"R²_adj\",\n",
    "    color=\"Type\",\n",
    "    title=\"Comparaison du pouvoir explicatif (R² ajusté / pseudo-R²)\",\n",
    "    text_auto=\".3f\",\n",
    "    color_discrete_sequence=px.colors.qualitative.Vivid\n",
    ")\n",
    "fig.update_traces(textfont_size=12)\n",
    "fig.update_yaxes(range=[0,1], title=\"R² ajusté ou pseudo-R²\")\n",
    "fig.update_layout(xaxis_title=\"Modèle\", showlegend=True)\n",
    "fig.show()\n",
    "\n",
    "# ==============================\n",
    "# 2️⃣ — Barplot AIC & BIC\n",
    "# ==============================\n",
    "fig = go.Figure()\n",
    "fig.add_trace(go.Bar(\n",
    "    x=perf[\"Modèle\"], y=perf[\"AIC\"],\n",
    "    name=\"AIC\", marker_color=\"royalblue\", opacity=0.8\n",
    "))\n",
    "fig.add_trace(go.Bar(\n",
    "    x=perf[\"Modèle\"], y=perf[\"BIC\"],\n",
    "    name=\"BIC\", marker_color=\"orange\", opacity=0.7\n",
    "))\n",
    "fig.update_layout(\n",
    "    title=\"Critères d'information (AIC / BIC)\",\n",
    "    xaxis_title=\"Modèle\",\n",
    "    yaxis_title=\"Valeur (plus bas = meilleur)\",\n",
    "    barmode=\"group\"\n",
    ")\n",
    "fig.show()\n",
    "\n",
    "# ==============================\n",
    "# 3️⃣ — Diagramme Durbin–Watson\n",
    "# ==============================\n",
    "fig = px.bar(\n",
    "    perf,\n",
    "    x=\"Modèle\",\n",
    "    y=\"Durbin-Watson\",\n",
    "    color=\"Type\",\n",
    "    title=\"Autocorrélation des résidus (Durbin–Watson)\",\n",
    "    text_auto=\".2f\",\n",
    "    color_discrete_sequence=px.colors.qualitative.Safe\n",
    ")\n",
    "fig.add_hrect(y0=1.5, y1=2.5, fillcolor=\"lightgreen\", opacity=0.3, line_width=0,\n",
    "              annotation_text=\"Zone idéale (1.5–2.5)\", annotation_position=\"inside top left\")\n",
    "fig.update_yaxes(range=[0,2.5], title=\"Durbin–Watson\")\n",
    "fig.show()\n",
    "\n",
    "# ==============================\n",
    "# 4️⃣ — Résumé visuel des forces/faiblesses\n",
    "# ==============================\n",
    "summary = perf.copy()\n",
    "summary[\"Rang_R2\"] = summary[\"R²_adj\"].rank(ascending=False)\n",
    "summary[\"Rang_AIC\"] = summary[\"AIC\"].rank(ascending=True)\n",
    "summary[\"Rang_BIC\"] = summary[\"BIC\"].rank(ascending=True)\n",
    "summary[\"Score_global\"] = (\n",
    "    summary[\"Rang_R2\"].fillna(0) + summary[\"Rang_AIC\"].fillna(0) + summary[\"Rang_BIC\"].fillna(0)\n",
    ")\n",
    "summary = summary.sort_values(\"Score_global\")\n",
    "\n",
    "fig = px.bar(\n",
    "    summary,\n",
    "    x=\"Modèle\",\n",
    "    y=\"Score_global\",\n",
    "    color=\"Type\",\n",
    "    text_auto=\".0f\",\n",
    "    title=\"Classement global (AIC + BIC + R²)\",\n",
    "    color_discrete_sequence=px.colors.qualitative.Prism\n",
    ")\n",
    "fig.update_layout(yaxis_title=\"Score global (plus bas = meilleur ajustement global)\")\n",
    "fig.show()\n",
    "\n",
    "# ==============================\n",
    "# 5️⃣ — Interprétation automatique\n",
    "# ==============================\n",
    "from IPython.display import Markdown, display\n",
    "\n",
    "text = f\"\"\"\n",
    "## 🧩 Synthèse des performances des modèles\n",
    "\n",
    "Pour comparer les modèles statistiques, on regarde plusieurs indicateurs de performance qui permettent d’évaluer **la qualité des prédictions**, **la stabilité des résidus** (erreurs du modèle), et **le risque de surajustement**.  \n",
    "Voici ce que signifient les principaux paramètres utilisés :\n",
    "\n",
    "- **R² ajusté** : mesure la proportion de la variabilité du RSV expliquée par le modèle.  \n",
    "  → Plus il est proche de 1, plus le modèle est précis (au-delà de 0.9, c’est excellent).  \n",
    "  L’ajustement (\"ajusté\") corrige le score si trop de variables inutiles sont ajoutées.\n",
    "\n",
    "- **AIC / BIC** : critères d’information (Akaike et Bayesien).  \n",
    "  → Plus ils sont **bas**, mieux c’est. Ils pénalisent les modèles trop complexes, pour éviter qu’ils apprennent \"par cœur\" les données.\n",
    "\n",
    "- **Durbin–Watson (DW)** : mesure l’autocorrélation des résidus (les erreurs successives).  \n",
    "  → Une valeur proche de **2** indique que les erreurs sont indépendantes (donc modèle sain).  \n",
    "  → Si elle est très basse (< 1), cela signifie que les erreurs se suivent trop (autocorrélation → modèle instable).\n",
    "\n",
    "---\n",
    "\n",
    "### 📊 Résultats comparés\n",
    "\n",
    "- **OLS optimisé** ressort comme **le plus performant globalement**, avec :\n",
    "  - R² ajusté ≈ **0.97**\n",
    "  - AIC et BIC très bas  \n",
    "  - Résidus quasi indépendants (Durbin–Watson ≈ **1.96**)  \n",
    "  👉 Ce modèle explique très bien les variations du RSV en fonction des variables :\n",
    "  - **MNP (mesures non pharmaceutiques)** : gestes barrières, confinement, etc.\n",
    "  - **Vaccination COVID**\n",
    "  - **Température moyenne hebdomadaire**\n",
    "  - **Interactions entre vaccination et MNP**\n",
    "  - **Composantes saisonnières** (sin/cos à 52 semaines pour les cycles annuels)\n",
    "  - **Lags RSV (t-1, t-2)** : valeurs retardées du RSV pour tenir compte des effets d’inertie.\n",
    "  → C’est le modèle le plus simple à interpréter (on voit clairement l’effet de chaque variable).\n",
    "\n",
    "---\n",
    "\n",
    "- **ITS optimisé** suit de près (**R² ≈ 0.94**)  \n",
    "  Ce modèle est fait pour capturer les **ruptures temporelles** comme :\n",
    "  - le début de la pandémie COVID,\n",
    "  - l’introduction du vaccin,\n",
    "  - la reprise des épidémies post-COVID.\n",
    "  \n",
    "  ⚠️ Cependant, ses **résidus restent autocorrélés** (DW = **0.53**), ce qui veut dire que les erreurs se suivent trop :  \n",
    "  le modèle \"rate\" encore une partie des tendances internes au temps.\n",
    "\n",
    "---\n",
    "\n",
    "- **SARIMAX optimisé** affiche un **pseudo-R² ≈ 0.91**.  \n",
    "  Il prend en compte :\n",
    "  - les **valeurs passées** du RSV (partie auto-régressive),\n",
    "  - les **chocs saisonniers** (saisons précédentes),\n",
    "  - les **variables externes** (vaccination, météo, gestes barrières).  \n",
    "  C’est un modèle plus \"temps-série\", souvent utilisé pour **prévoir** le futur.\n",
    "  \n",
    "  ➕ Très bon pour les **prédictions** à moyen terme (les courbes suivent bien la réalité).  \n",
    "  ➖ Légèrement **surajusté** (AIC = 383), donc trop sensible aux variations de la période d’apprentissage.\n",
    "\n",
    "---\n",
    "\n",
    "- Les versions **de base (OLS / ITS / SARIMAX)**, sans lissage, sans lags ni variables exogènes, sont très en retrait :  \n",
    "  - R² < **0.55**\n",
    "  - Résidus fortement corrélés (DW < **0.2**)  \n",
    "  → Ces modèles expliquent mal la saisonnalité et réagissent mal aux ruptures COVID.\n",
    "\n",
    "---\n",
    "\n",
    "### 🧭 Conclusion\n",
    "\n",
    "Les modèles :\n",
    "- **OLS optimisé** est le plus **interprétable** et scientifiquement parlant le plus clair : on comprend facilement quels facteurs influencent le RSV et dans quel sens.  \n",
    "- **SARIMAX optimisé** est le plus **robuste pour la prévision** : il reproduit bien les dynamiques temporelles, même si son interprétation est plus complexe.\n",
    "\n",
    "➡️ En résumé :  \n",
    "**OLS optimisé = meilleur modèle explicatif**  \n",
    "**SARIMAX optimisé = meilleur modèle prédictif**\n",
    "\"\"\"\n",
    "\n",
    "display(Markdown(text))\n"
   ]
  },
  {
   "cell_type": "code",
   "execution_count": 23,
   "id": "920d69be",
   "metadata": {},
   "outputs": [
    {
     "data": {
      "text/html": [
       "<style type=\"text/css\">\n",
       "#T_d1be4_row0_col1 {\n",
       "  background-color: #e9f2fa;\n",
       "  color: #000000;\n",
       "}\n",
       "#T_d1be4_row1_col1 {\n",
       "  background-color: #08306b;\n",
       "  color: #f1f1f1;\n",
       "}\n",
       "#T_d1be4_row2_col1 {\n",
       "  background-color: #f7fbff;\n",
       "  color: #000000;\n",
       "}\n",
       "#T_d1be4_row3_col1 {\n",
       "  background-color: #083c7d;\n",
       "  color: #f1f1f1;\n",
       "}\n",
       "#T_d1be4_row4_col1 {\n",
       "  background-color: #000000;\n",
       "  color: #f1f1f1;\n",
       "}\n",
       "#T_d1be4_row5_col1 {\n",
       "  background-color: #09529d;\n",
       "  color: #f1f1f1;\n",
       "}\n",
       "</style>\n",
       "<table id=\"T_d1be4\">\n",
       "  <thead>\n",
       "    <tr>\n",
       "      <th class=\"blank level0\" >&nbsp;</th>\n",
       "      <th id=\"T_d1be4_level0_col0\" class=\"col_heading level0 col0\" >Modèle</th>\n",
       "      <th id=\"T_d1be4_level0_col1\" class=\"col_heading level0 col1\" >R²_adj / pseudo-R²</th>\n",
       "      <th id=\"T_d1be4_level0_col2\" class=\"col_heading level0 col2\" >AIC</th>\n",
       "      <th id=\"T_d1be4_level0_col3\" class=\"col_heading level0 col3\" >BIC</th>\n",
       "      <th id=\"T_d1be4_level0_col4\" class=\"col_heading level0 col4\" >Durbin–Watson</th>\n",
       "      <th id=\"T_d1be4_level0_col5\" class=\"col_heading level0 col5\" >Variables clés</th>\n",
       "    </tr>\n",
       "  </thead>\n",
       "  <tbody>\n",
       "    <tr>\n",
       "      <th id=\"T_d1be4_level0_row0\" class=\"row_heading level0 row0\" >0</th>\n",
       "      <td id=\"T_d1be4_row0_col0\" class=\"data row0 col0\" >OLS (base)</td>\n",
       "      <td id=\"T_d1be4_row0_col1\" class=\"data row0 col1\" >0.530000</td>\n",
       "      <td id=\"T_d1be4_row0_col2\" class=\"data row0 col2\" >1473.000000</td>\n",
       "      <td id=\"T_d1be4_row0_col3\" class=\"data row0 col3\" >1488.500000</td>\n",
       "      <td id=\"T_d1be4_row0_col4\" class=\"data row0 col4\" >0.150000</td>\n",
       "      <td id=\"T_d1be4_row0_col5\" class=\"data row0 col5\" >cov12_lag, MNP_lag, work_lag, sin52, cos52</td>\n",
       "    </tr>\n",
       "    <tr>\n",
       "      <th id=\"T_d1be4_level0_row1\" class=\"row_heading level0 row1\" >1</th>\n",
       "      <td id=\"T_d1be4_row1_col0\" class=\"data row1 col0\" >OLS (optimisé)</td>\n",
       "      <td id=\"T_d1be4_row1_col1\" class=\"data row1 col1\" >0.968000</td>\n",
       "      <td id=\"T_d1be4_row1_col2\" class=\"data row1 col2\" >1069.400000</td>\n",
       "      <td id=\"T_d1be4_row1_col3\" class=\"data row1 col3\" >1094.300000</td>\n",
       "      <td id=\"T_d1be4_row1_col4\" class=\"data row1 col4\" >1.960000</td>\n",
       "      <td id=\"T_d1be4_row1_col5\" class=\"data row1 col5\" >RSV_lag1, RSV_lag2, vacc_x_mnp, tmean_z, sin52, cos52</td>\n",
       "    </tr>\n",
       "    <tr>\n",
       "      <th id=\"T_d1be4_level0_row2\" class=\"row_heading level0 row2\" >2</th>\n",
       "      <td id=\"T_d1be4_row2_col0\" class=\"data row2 col0\" >ITS (base)</td>\n",
       "      <td id=\"T_d1be4_row2_col1\" class=\"data row2 col1\" >0.496000</td>\n",
       "      <td id=\"T_d1be4_row2_col2\" class=\"data row2 col2\" >1478.000000</td>\n",
       "      <td id=\"T_d1be4_row2_col3\" class=\"data row2 col3\" >1488.300000</td>\n",
       "      <td id=\"T_d1be4_row2_col4\" class=\"data row2 col4\" >0.092000</td>\n",
       "      <td id=\"T_d1be4_row2_col5\" class=\"data row2 col5\" >t, post_covid, post_vacc, sin52, cos52</td>\n",
       "    </tr>\n",
       "    <tr>\n",
       "      <th id=\"T_d1be4_level0_row3\" class=\"row_heading level0 row3\" >3</th>\n",
       "      <td id=\"T_d1be4_row3_col0\" class=\"data row3 col0\" >ITS (optimisé)</td>\n",
       "      <td id=\"T_d1be4_row3_col1\" class=\"data row3 col1\" >0.945000</td>\n",
       "      <td id=\"T_d1be4_row3_col2\" class=\"data row3 col2\" >1267.900000</td>\n",
       "      <td id=\"T_d1be4_row3_col3\" class=\"data row3 col3\" >1298.900000</td>\n",
       "      <td id=\"T_d1be4_row3_col4\" class=\"data row3 col4\" >0.532000</td>\n",
       "      <td id=\"T_d1be4_row3_col5\" class=\"data row3 col5\" >t, post_covid, t_post_covid, sin1–3/cos1–3, cov12_lag, MNP_lag, work_lag</td>\n",
       "    </tr>\n",
       "    <tr>\n",
       "      <th id=\"T_d1be4_level0_row4\" class=\"row_heading level0 row4\" >4</th>\n",
       "      <td id=\"T_d1be4_row4_col0\" class=\"data row4 col0\" >SARIMAX (base)</td>\n",
       "      <td id=\"T_d1be4_row4_col1\" class=\"data row4 col1\" >nan</td>\n",
       "      <td id=\"T_d1be4_row4_col2\" class=\"data row4 col2\" >365.500000</td>\n",
       "      <td id=\"T_d1be4_row4_col3\" class=\"data row4 col3\" >387.000000</td>\n",
       "      <td id=\"T_d1be4_row4_col4\" class=\"data row4 col4\" >1.220000</td>\n",
       "      <td id=\"T_d1be4_row4_col5\" class=\"data row4 col5\" >cov12_lag, MNP_lag, work_lag, post_covid, post_vacc</td>\n",
       "    </tr>\n",
       "    <tr>\n",
       "      <th id=\"T_d1be4_level0_row5\" class=\"row_heading level0 row5\" >5</th>\n",
       "      <td id=\"T_d1be4_row5_col0\" class=\"data row5 col0\" >SARIMAX (optimisé)</td>\n",
       "      <td id=\"T_d1be4_row5_col1\" class=\"data row5 col1\" >0.907000</td>\n",
       "      <td id=\"T_d1be4_row5_col2\" class=\"data row5 col2\" >383.700000</td>\n",
       "      <td id=\"T_d1be4_row5_col3\" class=\"data row5 col3\" >402.800000</td>\n",
       "      <td id=\"T_d1be4_row5_col4\" class=\"data row5 col4\" >1.046000</td>\n",
       "      <td id=\"T_d1be4_row5_col5\" class=\"data row5 col5\" >cov12_lag, MNP_lag, work_lag, tmean_z, vacc_x_mnp</td>\n",
       "    </tr>\n",
       "  </tbody>\n",
       "</table>\n"
      ],
      "text/plain": [
       "<pandas.io.formats.style.Styler at 0x1627abd40>"
      ]
     },
     "metadata": {},
     "output_type": "display_data"
    }
   ],
   "source": [
    "# ==========================================\n",
    "# 📋 TABLEAU 3 — Comparatif synthétique des modèles\n",
    "# ==========================================\n",
    "table3 = pd.DataFrame([\n",
    "    [\"OLS (base)\", 0.530, 1473.0, 1488.5, 0.150, \"cov12_lag, MNP_lag, work_lag, sin52, cos52\"],\n",
    "    [\"OLS (optimisé)\", 0.968, 1069.4, 1094.3, 1.960, \"RSV_lag1, RSV_lag2, vacc_x_mnp, tmean_z, sin52, cos52\"],\n",
    "    [\"ITS (base)\", 0.496, 1478.0, 1488.3, 0.092, \"t, post_covid, post_vacc, sin52, cos52\"],\n",
    "    [\"ITS (optimisé)\", 0.945, 1267.9, 1298.9, 0.532, \"t, post_covid, t_post_covid, sin1–3/cos1–3, cov12_lag, MNP_lag, work_lag\"],\n",
    "    [\"SARIMAX (base)\", np.nan, 365.5, 387.0, 1.220, \"cov12_lag, MNP_lag, work_lag, post_covid, post_vacc\"],\n",
    "    [\"SARIMAX (optimisé)\", 0.907, 383.7, 402.8, 1.046, \"cov12_lag, MNP_lag, work_lag, tmean_z, vacc_x_mnp\"]\n",
    "], columns=[\"Modèle\", \"R²_adj / pseudo-R²\", \"AIC\", \"BIC\", \"Durbin–Watson\", \"Variables clés\"])\n",
    "\n",
    "display(table3.style.background_gradient(subset=[\"R²_adj / pseudo-R²\"], cmap=\"Blues\"))"
   ]
  },
  {
   "cell_type": "code",
   "execution_count": 24,
   "id": "f29b8026",
   "metadata": {},
   "outputs": [
    {
     "name": "stdout",
     "output_type": "stream",
     "text": [
      "=== 🔍 RÉSUMÉ DU MODÈLE OLS OPTIMISÉ ===\n",
      "                            OLS Regression Results                            \n",
      "==============================================================================\n",
      "Dep. Variable:                    RSV   R-squared:                       0.971\n",
      "Model:                            OLS   Adj. R-squared:                  0.968\n",
      "Method:                 Least Squares   F-statistic:                     168.1\n",
      "Date:                Sat, 25 Oct 2025   Prob (F-statistic):           1.03e-47\n",
      "Time:                        20:15:05   Log-Likelihood:                -524.70\n",
      "No. Observations:                  89   AIC:                             1069.\n",
      "Df Residuals:                      79   BIC:                             1094.\n",
      "Df Model:                           9                                         \n",
      "Covariance Type:                  HC3                                         \n",
      "==============================================================================\n",
      "                 coef    std err          z      P>|z|      [0.025      0.975]\n",
      "------------------------------------------------------------------------------\n",
      "const        127.5788     80.879      1.577      0.115     -30.940     286.098\n",
      "cov12_lag     -1.6370      3.019     -0.542      0.588      -7.554       4.280\n",
      "MNP_lag       43.5589     25.767      1.691      0.091      -6.943      94.060\n",
      "work_lag       0.5623      1.208      0.465      0.642      -1.806       2.930\n",
      "tmean_z       -3.3528     39.649     -0.085      0.933     -81.063      74.358\n",
      "vacc_x_mnp    -2.6270      1.698     -1.547      0.122      -5.955       0.701\n",
      "RSV_lag1       1.5888      0.114     13.926      0.000       1.365       1.812\n",
      "RSV_lag2      -0.7163      0.121     -5.909      0.000      -0.954      -0.479\n",
      "sin52        -44.9745     25.917     -1.735      0.083     -95.770       5.821\n",
      "cos52         58.0777     64.151      0.905      0.365     -67.657     183.812\n",
      "==============================================================================\n",
      "Omnibus:                        9.010   Durbin-Watson:                   1.960\n",
      "Prob(Omnibus):                  0.011   Jarque-Bera (JB):               14.712\n",
      "Skew:                           0.351   Prob(JB):                     0.000639\n",
      "Kurtosis:                       4.864   Cond. No.                     9.29e+03\n",
      "==============================================================================\n",
      "\n",
      "Notes:\n",
      "[1] Standard Errors are heteroscedasticity robust (HC3)\n",
      "[2] The condition number is large, 9.29e+03. This might indicate that there are\n",
      "strong multicollinearity or other numerical problems.\n"
     ]
    },
    {
     "data": {
      "text/markdown": [
       "\n",
       "## 🧠 Interprétation détaillée du modèle OLS optimisé\n",
       "\n",
       "### 🎯 Objectif du modèle\n",
       "Ce modèle cherche à **expliquer la dynamique hebdomadaire du RSV en France (2018–2025)**  \n",
       "en fonction de plusieurs facteurs environnementaux, comportementaux et temporels.  \n",
       "La variable expliquée est **le taux hebdomadaire de passages aux urgences pour bronchiolite à RSV**.\n",
       "\n",
       "---\n",
       "\n",
       "### ⚙️ 1️⃣ Indicateurs globaux de performance\n",
       "\n",
       "| Indicateur | Valeur | Interprétation |\n",
       "|-------------|---------|----------------|\n",
       "| **R² ajusté = 0.968** | Le modèle explique environ **97 % de la variabilité** du RSV observé. C’est un niveau d’ajustement **excellent**, montrant que les variables choisies capturent presque toute la dynamique du virus. |\n",
       "| **AIC = 1069 / BIC = 1094** | Valeurs faibles → modèle **parcimonieux** : il explique beaucoup sans être trop complexe. |\n",
       "| **Durbin–Watson = 1.96** | Proche de 2 → **pas d’autocorrélation des résidus** → les erreurs ne se suivent pas dans le temps. |\n",
       "| **Prob(F-statistic) = 1.03e-47** | Le modèle global est **hautement significatif** (les variables expliquent bien la variance du RSV). |\n",
       "\n",
       "---\n",
       "\n",
       "### 🧩 2️⃣ Lecture des coefficients principaux\n",
       "\n",
       "| Variable | Coefficient | Interprétation |\n",
       "|-----------|--------------|----------------|\n",
       "| **const (127.6)** | Valeur moyenne du RSV quand toutes les variables explicatives sont à zéro. Pas interprétable en soi. |\n",
       "| **cov12_lag (-1.64)** | Effet légèrement négatif, non significatif (p=0.59). Cela suggère qu’une hausse de la couverture vaccinale COVID pourrait réduire un peu le RSV, mais l’effet est trop faible pour être prouvé statistiquement. |\n",
       "| **MNP_lag (+43.56)** | Coefficient positif, proche de la significativité (p=0.09). Cela pourrait traduire que les périodes avec MNP élevés coïncident avec des pics RSV post-rupture (ex: relâchement tardif), ou simplement une corrélation non causale. |\n",
       "| **work_lag (+0.56)** | Très faible effet, non significatif (p=0.64). La mobilité vers le travail ne semble pas influencer directement le RSV. |\n",
       "| **tmean_z (-3.35)** | Effet négatif attendu (RSV ↓ quand température ↑), mais non significatif (p=0.93). Cela montre que la température moyenne n’explique pas seule la variation saisonnière. |\n",
       "| **vacc_x_mnp (-2.63)** | Interaction négative, marginalement non significative (p=0.12). Suggère que quand vaccination ↑ et MNP ↑, la combinaison pourrait contribuer à freiner la circulation virale. |\n",
       "| **RSV_lag1 (+1.59)** | Très fort effet (p<0.001) : le RSV dépend fortement de sa valeur de la semaine précédente → **inertie épidémique**. |\n",
       "| **RSV_lag2 (-0.72)** | Effet compensateur significatif (p<0.001) : traduit une **oscillation** naturelle du signal RSV (montées et descentes hebdomadaires). |\n",
       "| **sin52 (-44.97)** | Captation du cycle saisonnier : le RSV varie selon une onde annuelle. Coefficient significatif à 10% (p=0.08). |\n",
       "| **cos52 (+58.08)** | Composante complémentaire du cycle saisonnier (non significative isolément mais nécessaire avec sin52). |\n",
       "\n",
       "---\n",
       "\n",
       "### 📘 3️⃣ En résumé :\n",
       "- **Les variables les plus importantes et significatives sont :**\n",
       "  - `RSV_lag1` et `RSV_lag2` → capturent la dynamique temporelle du virus.\n",
       "  - Les variables saisonnières (`sin52`, `cos52`) → restituent la cyclicité annuelle.\n",
       "- Les autres variables (vaccination, MNP, température) **contribuent à la tendance générale**, mais leur effet est **atténué ou masqué** par la forte dépendance temporelle du RSV.\n",
       "- Le modèle **explique très bien la courbe observée**, mais les effets causaux directs restent modestes (beaucoup de variance expliquée par les décalages et la saison).\n",
       "\n",
       "---\n",
       "\n",
       "### 🔍 4️⃣ Ce que signifient les tests de normalité (Omnibus, JB)\n",
       "- **Omnibus = 9.01, Prob = 0.011** et **Jarque-Bera = 14.71, Prob = 0.0006**  \n",
       "  → Les résidus ne suivent pas une loi normale parfaite, ce qui est courant pour des données épidémiques saisonnières.  \n",
       "  Cependant, la robustesse HC3 (erreurs hétéroscédastiques corrigées) compense ce biais.\n",
       "\n",
       "---\n",
       "\n",
       "### ⚠️ 5️⃣ Multicolinéarité\n",
       "Le **Condition Number = 9.29e+03** indique un **risque de corrélation entre certaines variables** (probablement entre MNP, vacc_x_mnp et cov12_lag).  \n",
       "Cela ne fausse pas forcément les prédictions, mais peut rendre certains coefficients instables.  \n",
       "Une vérification via le **VIF** (Variance Inflation Factor) est conseillée :\n"
      ],
      "text/plain": [
       "<IPython.core.display.Markdown object>"
      ]
     },
     "metadata": {},
     "output_type": "display_data"
    },
    {
     "data": {
      "text/html": [
       "<div>\n",
       "<style scoped>\n",
       "    .dataframe tbody tr th:only-of-type {\n",
       "        vertical-align: middle;\n",
       "    }\n",
       "\n",
       "    .dataframe tbody tr th {\n",
       "        vertical-align: top;\n",
       "    }\n",
       "\n",
       "    .dataframe thead th {\n",
       "        text-align: right;\n",
       "    }\n",
       "</style>\n",
       "<table border=\"1\" class=\"dataframe\">\n",
       "  <thead>\n",
       "    <tr style=\"text-align: right;\">\n",
       "      <th></th>\n",
       "      <th>Variable</th>\n",
       "      <th>VIF</th>\n",
       "    </tr>\n",
       "  </thead>\n",
       "  <tbody>\n",
       "    <tr>\n",
       "      <th>5</th>\n",
       "      <td>RSV_lag1</td>\n",
       "      <td>66.713191</td>\n",
       "    </tr>\n",
       "    <tr>\n",
       "      <th>6</th>\n",
       "      <td>RSV_lag2</td>\n",
       "      <td>64.478941</td>\n",
       "    </tr>\n",
       "    <tr>\n",
       "      <th>3</th>\n",
       "      <td>tmean_z</td>\n",
       "      <td>8.277630</td>\n",
       "    </tr>\n",
       "    <tr>\n",
       "      <th>8</th>\n",
       "      <td>cos52</td>\n",
       "      <td>6.590143</td>\n",
       "    </tr>\n",
       "    <tr>\n",
       "      <th>1</th>\n",
       "      <td>MNP_lag</td>\n",
       "      <td>6.289709</td>\n",
       "    </tr>\n",
       "    <tr>\n",
       "      <th>4</th>\n",
       "      <td>vacc_x_mnp</td>\n",
       "      <td>5.760349</td>\n",
       "    </tr>\n",
       "    <tr>\n",
       "      <th>0</th>\n",
       "      <td>cov12_lag</td>\n",
       "      <td>3.952017</td>\n",
       "    </tr>\n",
       "    <tr>\n",
       "      <th>7</th>\n",
       "      <td>sin52</td>\n",
       "      <td>2.702864</td>\n",
       "    </tr>\n",
       "    <tr>\n",
       "      <th>2</th>\n",
       "      <td>work_lag</td>\n",
       "      <td>2.576776</td>\n",
       "    </tr>\n",
       "  </tbody>\n",
       "</table>\n",
       "</div>"
      ],
      "text/plain": [
       "     Variable        VIF\n",
       "5    RSV_lag1  66.713191\n",
       "6    RSV_lag2  64.478941\n",
       "3     tmean_z   8.277630\n",
       "8       cos52   6.590143\n",
       "1     MNP_lag   6.289709\n",
       "4  vacc_x_mnp   5.760349\n",
       "0   cov12_lag   3.952017\n",
       "7       sin52   2.702864\n",
       "2    work_lag   2.576776"
      ]
     },
     "metadata": {},
     "output_type": "display_data"
    },
    {
     "data": {
      "text/markdown": [
       "\n",
       "### 🧭 6️⃣ Interprétation vulgarisée finale\n",
       "\n",
       "👉 En clair :\n",
       "- Le RSV dépend **surtout de lui-même** (les semaines précédentes) et du **cycle saisonnier**.\n",
       "- Les facteurs comportementaux (MNP, vaccination) **ont un effet atténué mais cohérent** avec l’intuition : gestes barrières et vaccination = baisse du RSV.\n",
       "- Le modèle est **très fiable pour décrire la dynamique passée**, mais doit être complété par d’autres approches (ITS, SARIMAX) pour **simuler des scénarios** ou **faire des prévisions**.\n",
       "\n",
       "➡️ **Conclusion :**  \n",
       "Le modèle OLS optimisé est un **excellent modèle explicatif** : il montre clairement que la circulation du RSV suit un schéma saisonnier fort, amplifié ou freiné par les comportements et les conditions sanitaires post-COVID.\n"
      ],
      "text/plain": [
       "<IPython.core.display.Markdown object>"
      ]
     },
     "metadata": {},
     "output_type": "display_data"
    }
   ],
   "source": [
    "# ==========================================\n",
    "# 📈 ANALYSE COMPLÈTE DU MODÈLE OLS OPTIMISÉ\n",
    "# ==========================================\n",
    "\n",
    "print(\"=== 🔍 RÉSUMÉ DU MODÈLE OLS OPTIMISÉ ===\")\n",
    "print(ols_opt.summary())\n",
    "\n",
    "# ---# ==========================================\n",
    "# 🧠 INTERPRÉTATION DÉTAILLÉE DU MODÈLE OLS OPTIMISÉ\n",
    "# ==========================================\n",
    "\n",
    "from IPython.display import Markdown, display\n",
    "\n",
    "interpret_ols = \"\"\"\n",
    "## 🧠 Interprétation détaillée du modèle OLS optimisé\n",
    "\n",
    "### 🎯 Objectif du modèle\n",
    "Ce modèle cherche à **expliquer la dynamique hebdomadaire du RSV en France (2018–2025)**  \n",
    "en fonction de plusieurs facteurs environnementaux, comportementaux et temporels.  \n",
    "La variable expliquée est **le taux hebdomadaire de passages aux urgences pour bronchiolite à RSV**.\n",
    "\n",
    "---\n",
    "\n",
    "### ⚙️ 1️⃣ Indicateurs globaux de performance\n",
    "\n",
    "| Indicateur | Valeur | Interprétation |\n",
    "|-------------|---------|----------------|\n",
    "| **R² ajusté = 0.968** | Le modèle explique environ **97 % de la variabilité** du RSV observé. C’est un niveau d’ajustement **excellent**, montrant que les variables choisies capturent presque toute la dynamique du virus. |\n",
    "| **AIC = 1069 / BIC = 1094** | Valeurs faibles → modèle **parcimonieux** : il explique beaucoup sans être trop complexe. |\n",
    "| **Durbin–Watson = 1.96** | Proche de 2 → **pas d’autocorrélation des résidus** → les erreurs ne se suivent pas dans le temps. |\n",
    "| **Prob(F-statistic) = 1.03e-47** | Le modèle global est **hautement significatif** (les variables expliquent bien la variance du RSV). |\n",
    "\n",
    "---\n",
    "\n",
    "### 🧩 2️⃣ Lecture des coefficients principaux\n",
    "\n",
    "| Variable | Coefficient | Interprétation |\n",
    "|-----------|--------------|----------------|\n",
    "| **const (127.6)** | Valeur moyenne du RSV quand toutes les variables explicatives sont à zéro. Pas interprétable en soi. |\n",
    "| **cov12_lag (-1.64)** | Effet légèrement négatif, non significatif (p=0.59). Cela suggère qu’une hausse de la couverture vaccinale COVID pourrait réduire un peu le RSV, mais l’effet est trop faible pour être prouvé statistiquement. |\n",
    "| **MNP_lag (+43.56)** | Coefficient positif, proche de la significativité (p=0.09). Cela pourrait traduire que les périodes avec MNP élevés coïncident avec des pics RSV post-rupture (ex: relâchement tardif), ou simplement une corrélation non causale. |\n",
    "| **work_lag (+0.56)** | Très faible effet, non significatif (p=0.64). La mobilité vers le travail ne semble pas influencer directement le RSV. |\n",
    "| **tmean_z (-3.35)** | Effet négatif attendu (RSV ↓ quand température ↑), mais non significatif (p=0.93). Cela montre que la température moyenne n’explique pas seule la variation saisonnière. |\n",
    "| **vacc_x_mnp (-2.63)** | Interaction négative, marginalement non significative (p=0.12). Suggère que quand vaccination ↑ et MNP ↑, la combinaison pourrait contribuer à freiner la circulation virale. |\n",
    "| **RSV_lag1 (+1.59)** | Très fort effet (p<0.001) : le RSV dépend fortement de sa valeur de la semaine précédente → **inertie épidémique**. |\n",
    "| **RSV_lag2 (-0.72)** | Effet compensateur significatif (p<0.001) : traduit une **oscillation** naturelle du signal RSV (montées et descentes hebdomadaires). |\n",
    "| **sin52 (-44.97)** | Captation du cycle saisonnier : le RSV varie selon une onde annuelle. Coefficient significatif à 10% (p=0.08). |\n",
    "| **cos52 (+58.08)** | Composante complémentaire du cycle saisonnier (non significative isolément mais nécessaire avec sin52). |\n",
    "\n",
    "---\n",
    "\n",
    "### 📘 3️⃣ En résumé :\n",
    "- **Les variables les plus importantes et significatives sont :**\n",
    "  - `RSV_lag1` et `RSV_lag2` → capturent la dynamique temporelle du virus.\n",
    "  - Les variables saisonnières (`sin52`, `cos52`) → restituent la cyclicité annuelle.\n",
    "- Les autres variables (vaccination, MNP, température) **contribuent à la tendance générale**, mais leur effet est **atténué ou masqué** par la forte dépendance temporelle du RSV.\n",
    "- Le modèle **explique très bien la courbe observée**, mais les effets causaux directs restent modestes (beaucoup de variance expliquée par les décalages et la saison).\n",
    "\n",
    "---\n",
    "\n",
    "### 🔍 4️⃣ Ce que signifient les tests de normalité (Omnibus, JB)\n",
    "- **Omnibus = 9.01, Prob = 0.011** et **Jarque-Bera = 14.71, Prob = 0.0006**  \n",
    "  → Les résidus ne suivent pas une loi normale parfaite, ce qui est courant pour des données épidémiques saisonnières.  \n",
    "  Cependant, la robustesse HC3 (erreurs hétéroscédastiques corrigées) compense ce biais.\n",
    "\n",
    "---\n",
    "\n",
    "### ⚠️ 5️⃣ Multicolinéarité\n",
    "Le **Condition Number = 9.29e+03** indique un **risque de corrélation entre certaines variables** (probablement entre MNP, vacc_x_mnp et cov12_lag).  \n",
    "Cela ne fausse pas forcément les prédictions, mais peut rendre certains coefficients instables.  \n",
    "Une vérification via le **VIF** (Variance Inflation Factor) est conseillée :\n",
    "\"\"\"\n",
    "\n",
    "display(Markdown(interpret_ols))\n",
    "\n",
    "# Vérification de la multicolinéarité\n",
    "vif_df = pd.DataFrame()\n",
    "vif_df[\"Variable\"] = Xo.columns\n",
    "vif_df[\"VIF\"] = [variance_inflation_factor(Xo.values, i) for i in range(Xo.shape[1])]\n",
    "vif_df = vif_df.sort_values(\"VIF\", ascending=False)\n",
    "display(vif_df)\n",
    "\n",
    "# Interprétation simple finale\n",
    "interpret_simple = \"\"\"\n",
    "### 🧭 6️⃣ Interprétation vulgarisée finale\n",
    "\n",
    "👉 En clair :\n",
    "- Le RSV dépend **surtout de lui-même** (les semaines précédentes) et du **cycle saisonnier**.\n",
    "- Les facteurs comportementaux (MNP, vaccination) **ont un effet atténué mais cohérent** avec l’intuition : gestes barrières et vaccination = baisse du RSV.\n",
    "- Le modèle est **très fiable pour décrire la dynamique passée**, mais doit être complété par d’autres approches (ITS, SARIMAX) pour **simuler des scénarios** ou **faire des prévisions**.\n",
    "\n",
    "➡️ **Conclusion :**  \n",
    "Le modèle OLS optimisé est un **excellent modèle explicatif** : il montre clairement que la circulation du RSV suit un schéma saisonnier fort, amplifié ou freiné par les comportements et les conditions sanitaires post-COVID.\n",
    "\"\"\"\n",
    "\n",
    "display(Markdown(interpret_simple))\n",
    "\n"
   ]
  },
  {
   "cell_type": "code",
   "execution_count": 47,
   "id": "7babe52f",
   "metadata": {},
   "outputs": [
    {
     "name": "stdout",
     "output_type": "stream",
     "text": [
      "➡️ Modèle utilisé : OLS causal\n"
     ]
    },
    {
     "data": {
      "text/html": [
       "<div>\n",
       "<style scoped>\n",
       "    .dataframe tbody tr th:only-of-type {\n",
       "        vertical-align: middle;\n",
       "    }\n",
       "\n",
       "    .dataframe tbody tr th {\n",
       "        vertical-align: top;\n",
       "    }\n",
       "\n",
       "    .dataframe thead th {\n",
       "        text-align: right;\n",
       "    }\n",
       "</style>\n",
       "<table border=\"1\" class=\"dataframe\">\n",
       "  <thead>\n",
       "    <tr style=\"text-align: right;\">\n",
       "      <th></th>\n",
       "      <th>Scénario</th>\n",
       "      <th>Δ_cumulatif</th>\n",
       "    </tr>\n",
       "  </thead>\n",
       "  <tbody>\n",
       "    <tr>\n",
       "      <th>0</th>\n",
       "      <td>Sans vaccination</td>\n",
       "      <td>2614.7</td>\n",
       "    </tr>\n",
       "    <tr>\n",
       "      <th>1</th>\n",
       "      <td>Sans MNP</td>\n",
       "      <td>-14658.2</td>\n",
       "    </tr>\n",
       "    <tr>\n",
       "      <th>2</th>\n",
       "      <td>MNP maintenus (+50%)</td>\n",
       "      <td>7329.1</td>\n",
       "    </tr>\n",
       "  </tbody>\n",
       "</table>\n",
       "</div>"
      ],
      "text/plain": [
       "               Scénario  Δ_cumulatif\n",
       "0      Sans vaccination       2614.7\n",
       "1              Sans MNP     -14658.2\n",
       "2  MNP maintenus (+50%)       7329.1"
      ]
     },
     "metadata": {},
     "output_type": "display_data"
    },
    {
     "data": {
      "text/html": [
       "<div>\n",
       "<style scoped>\n",
       "    .dataframe tbody tr th:only-of-type {\n",
       "        vertical-align: middle;\n",
       "    }\n",
       "\n",
       "    .dataframe tbody tr th {\n",
       "        vertical-align: top;\n",
       "    }\n",
       "\n",
       "    .dataframe thead th {\n",
       "        text-align: right;\n",
       "    }\n",
       "</style>\n",
       "<table border=\"1\" class=\"dataframe\">\n",
       "  <thead>\n",
       "    <tr style=\"text-align: right;\">\n",
       "      <th></th>\n",
       "      <th>Scénario</th>\n",
       "      <th>Δ_cumulatif</th>\n",
       "    </tr>\n",
       "  </thead>\n",
       "  <tbody>\n",
       "    <tr>\n",
       "      <th>0</th>\n",
       "      <td>Sans vaccination</td>\n",
       "      <td>2614.7</td>\n",
       "    </tr>\n",
       "    <tr>\n",
       "      <th>1</th>\n",
       "      <td>Sans MNP</td>\n",
       "      <td>-7329.1</td>\n",
       "    </tr>\n",
       "    <tr>\n",
       "      <th>2</th>\n",
       "      <td>MNP maintenus (+50%)</td>\n",
       "      <td>14658.2</td>\n",
       "    </tr>\n",
       "  </tbody>\n",
       "</table>\n",
       "</div>"
      ],
      "text/plain": [
       "               Scénario  Δ_cumulatif\n",
       "0      Sans vaccination       2614.7\n",
       "1              Sans MNP      -7329.1\n",
       "2  MNP maintenus (+50%)      14658.2"
      ]
     },
     "metadata": {},
     "output_type": "display_data"
    },
    {
     "data": {
      "application/vnd.plotly.v1+json": {
       "config": {
        "plotlyServerURL": "https://plot.ly"
       },
       "data": [
        {
         "line": {
          "color": "black",
          "width": 2
         },
         "name": "RSV observé (complet)",
         "type": "scatter",
         "x": [
          "2019-12-30T00:00:00.000000000",
          "2020-01-06T00:00:00.000000000",
          "2020-01-13T00:00:00.000000000",
          "2020-01-20T00:00:00.000000000",
          "2020-01-27T00:00:00.000000000",
          "2020-02-03T00:00:00.000000000",
          "2020-02-10T00:00:00.000000000",
          "2020-02-17T00:00:00.000000000",
          "2020-02-24T00:00:00.000000000",
          "2020-03-02T00:00:00.000000000",
          "2020-03-09T00:00:00.000000000",
          "2020-03-16T00:00:00.000000000",
          "2020-03-23T00:00:00.000000000",
          "2020-03-30T00:00:00.000000000",
          "2020-04-06T00:00:00.000000000",
          "2020-04-13T00:00:00.000000000",
          "2020-04-20T00:00:00.000000000",
          "2020-04-27T00:00:00.000000000",
          "2020-05-04T00:00:00.000000000",
          "2020-05-11T00:00:00.000000000",
          "2020-05-18T00:00:00.000000000",
          "2020-05-25T00:00:00.000000000",
          "2020-06-01T00:00:00.000000000",
          "2020-06-08T00:00:00.000000000",
          "2020-06-15T00:00:00.000000000",
          "2020-06-22T00:00:00.000000000",
          "2020-06-29T00:00:00.000000000",
          "2020-07-06T00:00:00.000000000",
          "2020-07-13T00:00:00.000000000",
          "2020-07-20T00:00:00.000000000",
          "2020-07-27T00:00:00.000000000",
          "2020-08-03T00:00:00.000000000",
          "2020-08-10T00:00:00.000000000",
          "2020-08-17T00:00:00.000000000",
          "2020-08-24T00:00:00.000000000",
          "2020-08-31T00:00:00.000000000",
          "2020-09-07T00:00:00.000000000",
          "2020-09-14T00:00:00.000000000",
          "2020-09-21T00:00:00.000000000",
          "2020-09-28T00:00:00.000000000",
          "2020-10-05T00:00:00.000000000",
          "2020-10-12T00:00:00.000000000",
          "2020-10-19T00:00:00.000000000",
          "2020-10-26T00:00:00.000000000",
          "2020-11-02T00:00:00.000000000",
          "2020-11-09T00:00:00.000000000",
          "2020-11-16T00:00:00.000000000",
          "2020-11-23T00:00:00.000000000",
          "2020-11-30T00:00:00.000000000",
          "2020-12-07T00:00:00.000000000",
          "2020-12-14T00:00:00.000000000",
          "2020-12-21T00:00:00.000000000",
          "2020-12-28T00:00:00.000000000",
          "2021-01-04T00:00:00.000000000",
          "2021-01-11T00:00:00.000000000",
          "2021-01-18T00:00:00.000000000",
          "2021-01-25T00:00:00.000000000",
          "2021-02-01T00:00:00.000000000",
          "2021-02-08T00:00:00.000000000",
          "2021-02-15T00:00:00.000000000",
          "2021-02-22T00:00:00.000000000",
          "2021-03-01T00:00:00.000000000",
          "2021-03-08T00:00:00.000000000",
          "2021-03-15T00:00:00.000000000",
          "2021-03-22T00:00:00.000000000",
          "2021-03-29T00:00:00.000000000",
          "2021-04-05T00:00:00.000000000",
          "2021-04-12T00:00:00.000000000",
          "2021-04-19T00:00:00.000000000",
          "2021-04-26T00:00:00.000000000",
          "2021-05-03T00:00:00.000000000",
          "2021-05-10T00:00:00.000000000",
          "2021-05-17T00:00:00.000000000",
          "2021-05-24T00:00:00.000000000",
          "2021-05-31T00:00:00.000000000",
          "2021-06-07T00:00:00.000000000",
          "2021-06-14T00:00:00.000000000",
          "2021-06-21T00:00:00.000000000",
          "2021-06-28T00:00:00.000000000",
          "2021-07-05T00:00:00.000000000",
          "2021-07-12T00:00:00.000000000",
          "2021-07-19T00:00:00.000000000",
          "2021-07-26T00:00:00.000000000",
          "2021-08-02T00:00:00.000000000",
          "2021-08-09T00:00:00.000000000",
          "2021-08-16T00:00:00.000000000",
          "2021-08-23T00:00:00.000000000",
          "2021-08-30T00:00:00.000000000",
          "2021-09-06T00:00:00.000000000",
          "2021-09-13T00:00:00.000000000",
          "2021-09-20T00:00:00.000000000",
          "2021-09-27T00:00:00.000000000",
          "2021-10-04T00:00:00.000000000",
          "2021-10-11T00:00:00.000000000",
          "2021-10-18T00:00:00.000000000",
          "2021-10-25T00:00:00.000000000",
          "2021-11-01T00:00:00.000000000",
          "2021-11-08T00:00:00.000000000",
          "2021-11-15T00:00:00.000000000",
          "2021-11-22T00:00:00.000000000",
          "2021-11-29T00:00:00.000000000",
          "2021-12-06T00:00:00.000000000",
          "2021-12-13T00:00:00.000000000",
          "2021-12-20T00:00:00.000000000",
          "2021-12-27T00:00:00.000000000",
          "2022-01-03T00:00:00.000000000",
          "2022-01-10T00:00:00.000000000",
          "2022-01-17T00:00:00.000000000",
          "2022-01-24T00:00:00.000000000",
          "2022-01-31T00:00:00.000000000",
          "2022-02-07T00:00:00.000000000",
          "2022-02-14T00:00:00.000000000",
          "2022-02-21T00:00:00.000000000",
          "2022-02-28T00:00:00.000000000",
          "2022-03-07T00:00:00.000000000",
          "2022-03-14T00:00:00.000000000",
          "2022-03-21T00:00:00.000000000",
          "2022-03-28T00:00:00.000000000",
          "2022-04-04T00:00:00.000000000",
          "2022-04-11T00:00:00.000000000",
          "2022-04-18T00:00:00.000000000",
          "2022-04-25T00:00:00.000000000",
          "2022-05-02T00:00:00.000000000",
          "2022-05-09T00:00:00.000000000",
          "2022-05-16T00:00:00.000000000",
          "2022-05-23T00:00:00.000000000",
          "2022-05-30T00:00:00.000000000",
          "2022-06-06T00:00:00.000000000",
          "2022-06-13T00:00:00.000000000",
          "2022-06-20T00:00:00.000000000",
          "2022-06-27T00:00:00.000000000",
          "2022-07-04T00:00:00.000000000",
          "2022-07-11T00:00:00.000000000",
          "2022-07-18T00:00:00.000000000",
          "2022-07-25T00:00:00.000000000",
          "2022-08-01T00:00:00.000000000",
          "2022-08-08T00:00:00.000000000",
          "2022-08-15T00:00:00.000000000",
          "2022-08-22T00:00:00.000000000",
          "2022-08-29T00:00:00.000000000",
          "2022-09-05T00:00:00.000000000",
          "2022-09-12T00:00:00.000000000",
          "2022-09-19T00:00:00.000000000",
          "2022-09-26T00:00:00.000000000",
          "2022-10-03T00:00:00.000000000",
          "2022-10-10T00:00:00.000000000",
          "2022-10-17T00:00:00.000000000",
          "2022-10-24T00:00:00.000000000",
          "2022-10-31T00:00:00.000000000",
          "2022-11-07T00:00:00.000000000",
          "2022-11-14T00:00:00.000000000",
          "2022-11-21T00:00:00.000000000",
          "2022-11-28T00:00:00.000000000",
          "2022-12-05T00:00:00.000000000",
          "2022-12-12T00:00:00.000000000",
          "2022-12-19T00:00:00.000000000",
          "2022-12-26T00:00:00.000000000",
          "2023-01-02T00:00:00.000000000",
          "2023-01-09T00:00:00.000000000",
          "2023-01-16T00:00:00.000000000",
          "2023-01-23T00:00:00.000000000",
          "2023-01-30T00:00:00.000000000",
          "2023-02-06T00:00:00.000000000",
          "2023-02-13T00:00:00.000000000",
          "2023-02-20T00:00:00.000000000",
          "2023-02-27T00:00:00.000000000",
          "2023-03-06T00:00:00.000000000",
          "2023-03-13T00:00:00.000000000",
          "2023-03-20T00:00:00.000000000",
          "2023-03-27T00:00:00.000000000",
          "2023-04-03T00:00:00.000000000",
          "2023-04-10T00:00:00.000000000",
          "2023-04-17T00:00:00.000000000",
          "2023-04-24T00:00:00.000000000",
          "2023-05-01T00:00:00.000000000",
          "2023-05-08T00:00:00.000000000",
          "2023-05-15T00:00:00.000000000",
          "2023-05-22T00:00:00.000000000",
          "2023-05-29T00:00:00.000000000",
          "2023-06-05T00:00:00.000000000",
          "2023-06-12T00:00:00.000000000",
          "2023-06-19T00:00:00.000000000",
          "2023-06-26T00:00:00.000000000",
          "2023-07-03T00:00:00.000000000",
          "2023-07-10T00:00:00.000000000",
          "2023-07-17T00:00:00.000000000",
          "2023-07-24T00:00:00.000000000",
          "2023-07-31T00:00:00.000000000",
          "2023-08-07T00:00:00.000000000",
          "2023-08-14T00:00:00.000000000",
          "2023-08-21T00:00:00.000000000",
          "2023-08-28T00:00:00.000000000",
          "2023-09-04T00:00:00.000000000",
          "2023-09-11T00:00:00.000000000",
          "2023-09-18T00:00:00.000000000",
          "2023-09-25T00:00:00.000000000",
          "2023-10-02T00:00:00.000000000",
          "2023-10-09T00:00:00.000000000",
          "2023-10-16T00:00:00.000000000",
          "2023-10-23T00:00:00.000000000",
          "2023-10-30T00:00:00.000000000",
          "2023-11-06T00:00:00.000000000",
          "2023-11-13T00:00:00.000000000",
          "2023-11-20T00:00:00.000000000",
          "2023-11-27T00:00:00.000000000",
          "2023-12-04T00:00:00.000000000",
          "2023-12-11T00:00:00.000000000",
          "2023-12-18T00:00:00.000000000",
          "2023-12-25T00:00:00.000000000",
          "2024-01-01T00:00:00.000000000",
          "2024-01-08T00:00:00.000000000",
          "2024-01-15T00:00:00.000000000",
          "2024-01-22T00:00:00.000000000",
          "2024-01-29T00:00:00.000000000",
          "2024-02-05T00:00:00.000000000",
          "2024-02-12T00:00:00.000000000",
          "2024-02-19T00:00:00.000000000",
          "2024-02-26T00:00:00.000000000",
          "2024-03-04T00:00:00.000000000",
          "2024-03-11T00:00:00.000000000",
          "2024-03-18T00:00:00.000000000",
          "2024-03-25T00:00:00.000000000",
          "2024-04-01T00:00:00.000000000",
          "2024-04-08T00:00:00.000000000",
          "2024-04-15T00:00:00.000000000",
          "2024-04-22T00:00:00.000000000",
          "2024-04-29T00:00:00.000000000",
          "2024-05-06T00:00:00.000000000",
          "2024-05-13T00:00:00.000000000",
          "2024-05-20T00:00:00.000000000",
          "2024-05-27T00:00:00.000000000",
          "2024-06-03T00:00:00.000000000",
          "2024-06-10T00:00:00.000000000",
          "2024-06-17T00:00:00.000000000",
          "2024-06-24T00:00:00.000000000",
          "2024-07-01T00:00:00.000000000",
          "2024-07-08T00:00:00.000000000",
          "2024-07-15T00:00:00.000000000",
          "2024-07-22T00:00:00.000000000",
          "2024-07-29T00:00:00.000000000",
          "2024-08-05T00:00:00.000000000",
          "2024-08-12T00:00:00.000000000",
          "2024-08-19T00:00:00.000000000",
          "2024-08-26T00:00:00.000000000",
          "2024-09-02T00:00:00.000000000",
          "2024-09-09T00:00:00.000000000",
          "2024-09-16T00:00:00.000000000",
          "2024-09-23T00:00:00.000000000",
          "2024-09-30T00:00:00.000000000",
          "2024-10-07T00:00:00.000000000",
          "2024-10-14T00:00:00.000000000",
          "2024-10-21T00:00:00.000000000",
          "2024-10-28T00:00:00.000000000",
          "2024-11-04T00:00:00.000000000",
          "2024-11-11T00:00:00.000000000",
          "2024-11-18T00:00:00.000000000",
          "2024-11-25T00:00:00.000000000",
          "2024-12-02T00:00:00.000000000",
          "2024-12-09T00:00:00.000000000",
          "2024-12-16T00:00:00.000000000",
          "2024-12-23T00:00:00.000000000",
          "2024-12-30T00:00:00.000000000",
          "2025-01-06T00:00:00.000000000",
          "2025-01-13T00:00:00.000000000",
          "2025-01-20T00:00:00.000000000",
          "2025-01-27T00:00:00.000000000",
          "2025-02-03T00:00:00.000000000",
          "2025-02-10T00:00:00.000000000",
          "2025-02-17T00:00:00.000000000",
          "2025-02-24T00:00:00.000000000",
          "2025-03-03T00:00:00.000000000",
          "2025-03-10T00:00:00.000000000",
          "2025-03-17T00:00:00.000000000",
          "2025-03-24T00:00:00.000000000",
          "2025-03-31T00:00:00.000000000",
          "2025-04-07T00:00:00.000000000",
          "2025-04-14T00:00:00.000000000",
          "2025-04-21T00:00:00.000000000",
          "2025-04-28T00:00:00.000000000",
          "2025-05-05T00:00:00.000000000",
          "2025-05-12T00:00:00.000000000",
          "2025-05-19T00:00:00.000000000",
          "2025-05-26T00:00:00.000000000",
          "2025-06-02T00:00:00.000000000",
          "2025-06-09T00:00:00.000000000",
          "2025-06-16T00:00:00.000000000",
          "2025-06-23T00:00:00.000000000",
          "2025-06-30T00:00:00.000000000",
          "2025-07-07T00:00:00.000000000",
          "2025-07-14T00:00:00.000000000",
          "2025-07-21T00:00:00.000000000",
          "2025-07-28T00:00:00.000000000",
          "2025-08-04T00:00:00.000000000"
         ],
         "y": {
          "bdata": "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",
          "dtype": "f8"
         }
        },
        {
         "line": {
          "color": "orange",
          "dash": "dot",
          "width": 2
         },
         "name": "Sans vaccination",
         "type": "scatter",
         "x": [
          "2021-03-01T00:00:00.000000000",
          "2021-03-08T00:00:00.000000000",
          "2021-03-15T00:00:00.000000000",
          "2021-03-22T00:00:00.000000000",
          "2021-03-29T00:00:00.000000000",
          "2021-04-05T00:00:00.000000000",
          "2021-04-12T00:00:00.000000000",
          "2021-04-19T00:00:00.000000000",
          "2021-04-26T00:00:00.000000000",
          "2021-05-03T00:00:00.000000000",
          "2021-05-10T00:00:00.000000000",
          "2021-05-17T00:00:00.000000000",
          "2021-05-24T00:00:00.000000000",
          "2021-05-31T00:00:00.000000000",
          "2021-06-07T00:00:00.000000000",
          "2021-06-14T00:00:00.000000000",
          "2021-06-21T00:00:00.000000000",
          "2021-06-28T00:00:00.000000000",
          "2021-07-05T00:00:00.000000000",
          "2021-07-12T00:00:00.000000000",
          "2021-07-19T00:00:00.000000000",
          "2021-07-26T00:00:00.000000000",
          "2021-08-02T00:00:00.000000000",
          "2021-08-09T00:00:00.000000000",
          "2021-08-16T00:00:00.000000000",
          "2021-08-23T00:00:00.000000000",
          "2021-08-30T00:00:00.000000000",
          "2021-09-06T00:00:00.000000000",
          "2021-09-13T00:00:00.000000000",
          "2021-09-20T00:00:00.000000000",
          "2021-09-27T00:00:00.000000000",
          "2021-10-04T00:00:00.000000000",
          "2021-10-11T00:00:00.000000000",
          "2021-10-18T00:00:00.000000000",
          "2021-10-25T00:00:00.000000000",
          "2021-11-01T00:00:00.000000000",
          "2021-11-08T00:00:00.000000000",
          "2021-11-15T00:00:00.000000000",
          "2021-11-22T00:00:00.000000000",
          "2021-11-29T00:00:00.000000000",
          "2021-12-06T00:00:00.000000000",
          "2021-12-13T00:00:00.000000000",
          "2021-12-20T00:00:00.000000000",
          "2021-12-27T00:00:00.000000000",
          "2022-01-03T00:00:00.000000000",
          "2022-01-10T00:00:00.000000000",
          "2022-01-17T00:00:00.000000000",
          "2022-01-24T00:00:00.000000000",
          "2022-01-31T00:00:00.000000000",
          "2022-02-07T00:00:00.000000000",
          "2022-02-14T00:00:00.000000000",
          "2022-02-21T00:00:00.000000000",
          "2022-02-28T00:00:00.000000000",
          "2022-03-07T00:00:00.000000000",
          "2022-03-14T00:00:00.000000000",
          "2022-03-21T00:00:00.000000000",
          "2022-03-28T00:00:00.000000000",
          "2022-04-04T00:00:00.000000000",
          "2022-04-11T00:00:00.000000000",
          "2022-04-18T00:00:00.000000000",
          "2022-04-25T00:00:00.000000000",
          "2022-05-02T00:00:00.000000000",
          "2022-05-09T00:00:00.000000000",
          "2022-05-16T00:00:00.000000000",
          "2022-05-23T00:00:00.000000000",
          "2022-05-30T00:00:00.000000000",
          "2022-06-06T00:00:00.000000000",
          "2022-06-13T00:00:00.000000000",
          "2022-06-20T00:00:00.000000000",
          "2022-06-27T00:00:00.000000000",
          "2022-07-04T00:00:00.000000000",
          "2022-07-11T00:00:00.000000000",
          "2022-07-18T00:00:00.000000000",
          "2022-07-25T00:00:00.000000000",
          "2022-08-01T00:00:00.000000000",
          "2022-08-08T00:00:00.000000000",
          "2022-08-15T00:00:00.000000000",
          "2022-08-22T00:00:00.000000000",
          "2022-08-29T00:00:00.000000000",
          "2022-09-05T00:00:00.000000000",
          "2022-09-12T00:00:00.000000000",
          "2022-09-19T00:00:00.000000000",
          "2022-09-26T00:00:00.000000000",
          "2022-10-03T00:00:00.000000000",
          "2022-10-10T00:00:00.000000000",
          "2022-10-17T00:00:00.000000000",
          "2022-10-24T00:00:00.000000000",
          "2022-10-31T00:00:00.000000000",
          "2022-11-07T00:00:00.000000000"
         ],
         "y": {
          "bdata": "AAAAAAAA+H8AAAAAAAD4fwAAAAAAAPh/ErWMxmvGkEDczjqcvHWTQFwoMjuUopJA5M3MgtRuj0CioMuxpmmMQA7YRw+0p3pArsGXLtSKc0CyBX/zU1p4QL7KV7k3z4FAlH/9Xp4BgkBKrnYfnB2BQO3m3HjyZ4BA6H88mgrmgEA4Dn4Az3h9QPK49o8JeoFAKwcdv4mFhECFkeueVnWCQBT4FIRV8YVAiZd6dpoegkCgryWdvSp+QJ47vNZAMnZA7NOeJBZIc0D/l6TeIDhzQPgLdNC8v3JAsDlkozzMeEC/iiBkYwt5QEU/MXQ++4VAAIQJd8XEhUAcJAt+v2CNQJyBzva0dpFAhHGcw6Z4lEAKMQ8GwcaWQFwDB7EmTplAiZnBFhMLmkA93iVoZEWVQF/xX/BPNppAbgRrKJRFoEAps2im31GeQP1m4NeztZlAq1rrz86qmED1fO/vp82TQAnzx67xq5JA03YMuSvLhkBh5l/04fWGQKz3N0M4g4VAQiZ6QyX8gkAgyYtFef2EQP43zv7dnoJAEa36Vz3wgkCNH9LTA+l9QMcxhdtWwH1AZnDnJxRKfkAd/Bxdk/J/QH2ek2gb/ntA8FxCTiMOf0DUitj+NL5+QP7zJrmq4ntAaitN2ZhHekAMkvewVNx2QDkbYedWx3RACwBBvNXUeUBL5bKtQPR2QFEwKp6wLndAQaRd5K8BekD695hMdiV4QJLCVCBKR3JAEaYoLRWTd0C1+ElMSmJ5QICLoPRpWndAKa2srUgtdkCTFr3MD8p1QFO+aAodl3BAADpz6Mvjb0CQY0OAL5FyQO0FL6rckG1AUIDvwx1ccEB2teL0NKB1QJ+++4o/eHpA/rr6GdY1hECaoi2mytuIQCKPXxqoWI5AauB2aupIkkBIetPaBbeXQHrNLmcpcZ1Ajrkp5uTookAZVCRdug2jQA==",
          "dtype": "f8"
         }
        },
        {
         "line": {
          "color": "red",
          "dash": "dot",
          "width": 2
         },
         "name": "Sans gestes barrières",
         "type": "scatter",
         "x": [
          "2021-03-01T00:00:00.000000000",
          "2021-03-08T00:00:00.000000000",
          "2021-03-15T00:00:00.000000000",
          "2021-03-22T00:00:00.000000000",
          "2021-03-29T00:00:00.000000000",
          "2021-04-05T00:00:00.000000000",
          "2021-04-12T00:00:00.000000000",
          "2021-04-19T00:00:00.000000000",
          "2021-04-26T00:00:00.000000000",
          "2021-05-03T00:00:00.000000000",
          "2021-05-10T00:00:00.000000000",
          "2021-05-17T00:00:00.000000000",
          "2021-05-24T00:00:00.000000000",
          "2021-05-31T00:00:00.000000000",
          "2021-06-07T00:00:00.000000000",
          "2021-06-14T00:00:00.000000000",
          "2021-06-21T00:00:00.000000000",
          "2021-06-28T00:00:00.000000000",
          "2021-07-05T00:00:00.000000000",
          "2021-07-12T00:00:00.000000000",
          "2021-07-19T00:00:00.000000000",
          "2021-07-26T00:00:00.000000000",
          "2021-08-02T00:00:00.000000000",
          "2021-08-09T00:00:00.000000000",
          "2021-08-16T00:00:00.000000000",
          "2021-08-23T00:00:00.000000000",
          "2021-08-30T00:00:00.000000000",
          "2021-09-06T00:00:00.000000000",
          "2021-09-13T00:00:00.000000000",
          "2021-09-20T00:00:00.000000000",
          "2021-09-27T00:00:00.000000000",
          "2021-10-04T00:00:00.000000000",
          "2021-10-11T00:00:00.000000000",
          "2021-10-18T00:00:00.000000000",
          "2021-10-25T00:00:00.000000000",
          "2021-11-01T00:00:00.000000000",
          "2021-11-08T00:00:00.000000000",
          "2021-11-15T00:00:00.000000000",
          "2021-11-22T00:00:00.000000000",
          "2021-11-29T00:00:00.000000000",
          "2021-12-06T00:00:00.000000000",
          "2021-12-13T00:00:00.000000000",
          "2021-12-20T00:00:00.000000000",
          "2021-12-27T00:00:00.000000000",
          "2022-01-03T00:00:00.000000000",
          "2022-01-10T00:00:00.000000000",
          "2022-01-17T00:00:00.000000000",
          "2022-01-24T00:00:00.000000000",
          "2022-01-31T00:00:00.000000000",
          "2022-02-07T00:00:00.000000000",
          "2022-02-14T00:00:00.000000000",
          "2022-02-21T00:00:00.000000000",
          "2022-02-28T00:00:00.000000000",
          "2022-03-07T00:00:00.000000000",
          "2022-03-14T00:00:00.000000000",
          "2022-03-21T00:00:00.000000000",
          "2022-03-28T00:00:00.000000000",
          "2022-04-04T00:00:00.000000000",
          "2022-04-11T00:00:00.000000000",
          "2022-04-18T00:00:00.000000000",
          "2022-04-25T00:00:00.000000000",
          "2022-05-02T00:00:00.000000000",
          "2022-05-09T00:00:00.000000000",
          "2022-05-16T00:00:00.000000000",
          "2022-05-23T00:00:00.000000000",
          "2022-05-30T00:00:00.000000000",
          "2022-06-06T00:00:00.000000000",
          "2022-06-13T00:00:00.000000000",
          "2022-06-20T00:00:00.000000000",
          "2022-06-27T00:00:00.000000000",
          "2022-07-04T00:00:00.000000000",
          "2022-07-11T00:00:00.000000000",
          "2022-07-18T00:00:00.000000000",
          "2022-07-25T00:00:00.000000000",
          "2022-08-01T00:00:00.000000000",
          "2022-08-08T00:00:00.000000000",
          "2022-08-15T00:00:00.000000000",
          "2022-08-22T00:00:00.000000000",
          "2022-08-29T00:00:00.000000000",
          "2022-09-05T00:00:00.000000000",
          "2022-09-12T00:00:00.000000000",
          "2022-09-19T00:00:00.000000000",
          "2022-09-26T00:00:00.000000000",
          "2022-10-03T00:00:00.000000000",
          "2022-10-10T00:00:00.000000000",
          "2022-10-17T00:00:00.000000000",
          "2022-10-24T00:00:00.000000000",
          "2022-10-31T00:00:00.000000000",
          "2022-11-07T00:00:00.000000000"
         ],
         "y": {
          "bdata": "AAAAAAAA+H8AAAAAAAD4fwAAAAAAAPh/F+3CmqbjkkCSeF3pMgCWQIZOR6tb4pRAtnnIjLlwkUBsdNfTdn6OQLy9Ux5a63tAmvyL4kNPdEB5yW+ZfYx5QEQsXqzZyYJA9NQtd7H6gkDEvkPx0v6BQNaJUdw1NYFASxMcZraegUC48WSX+7B+QDNX+gG+VYJAU9bPK06FhUD72hgCL2eDQOAoIm7p9YZAZetgnUuugkAvecUsVHZ+QBFbK7P3znVAPE63wemMckC7ZEBnB0pyQD5Y6/BPvXFAhD7z6I3cd0DD9Pzf33d4QM+wW+w+SYZAW0jVFm5ohkCh7ZZ6LByPQNxA9mzp7JJAzAJzRlqmlkDI4SJEJ6yZQO7XKf403pxANH5TJu1UnUAPtB/ihxuYQN4s+XrAt55A12+eRBtGo0DGdqPMK7ChQFTLjU/Il51AYJmHw4q+m0DKfMIbTNKVQBePxfpT2pNAIGLhcEVfh0AvItL3sVmHQG0FQb+bkoVA8Ye5xl/bgkAoAcY68d+EQDbhZlNGWYJAPO9AV46NgkARIzDNgql8QLFm12EifXxA55Q19qsafUDT1+6D8MF+QAbAjPHCm3pASfB74FfHfUB+bWmh1XB9QKPYyE+Oa3pAcdomZ2CmeEB6ZdHx/wZ1QCSrMaV/83JA5dlWzOQqeED89TsxOih1QMjpyWmBc3VAc6/UtwdheEBKKqGl+FJ2QPuBE33ER3BArYY9LrfTdUA8wktfcKt3QCQI1YDEg3VAVk4E5Ys+dEBjYJQGULFzQHaSLp89pWxAgHBDz7NXa0CJrDhKvUlwQF6xvS772mhALcGJa+wobEBRMfmSzJpzQO09MDfW+nhAdr4FBAwbhEAYXNGcPHyJQDLlUeJoBJBAk+emHmIClEAdIE+l1wWbQDPKluNeoKFAIpHnd/s7p0DTZ4zeIjCnQA==",
          "dtype": "f8"
         }
        },
        {
         "line": {
          "color": "green",
          "dash": "dot",
          "width": 2
         },
         "name": "MNP maintenus (+50%)",
         "type": "scatter",
         "x": [
          "2021-03-01T00:00:00.000000000",
          "2021-03-08T00:00:00.000000000",
          "2021-03-15T00:00:00.000000000",
          "2021-03-22T00:00:00.000000000",
          "2021-03-29T00:00:00.000000000",
          "2021-04-05T00:00:00.000000000",
          "2021-04-12T00:00:00.000000000",
          "2021-04-19T00:00:00.000000000",
          "2021-04-26T00:00:00.000000000",
          "2021-05-03T00:00:00.000000000",
          "2021-05-10T00:00:00.000000000",
          "2021-05-17T00:00:00.000000000",
          "2021-05-24T00:00:00.000000000",
          "2021-05-31T00:00:00.000000000",
          "2021-06-07T00:00:00.000000000",
          "2021-06-14T00:00:00.000000000",
          "2021-06-21T00:00:00.000000000",
          "2021-06-28T00:00:00.000000000",
          "2021-07-05T00:00:00.000000000",
          "2021-07-12T00:00:00.000000000",
          "2021-07-19T00:00:00.000000000",
          "2021-07-26T00:00:00.000000000",
          "2021-08-02T00:00:00.000000000",
          "2021-08-09T00:00:00.000000000",
          "2021-08-16T00:00:00.000000000",
          "2021-08-23T00:00:00.000000000",
          "2021-08-30T00:00:00.000000000",
          "2021-09-06T00:00:00.000000000",
          "2021-09-13T00:00:00.000000000",
          "2021-09-20T00:00:00.000000000",
          "2021-09-27T00:00:00.000000000",
          "2021-10-04T00:00:00.000000000",
          "2021-10-11T00:00:00.000000000",
          "2021-10-18T00:00:00.000000000",
          "2021-10-25T00:00:00.000000000",
          "2021-11-01T00:00:00.000000000",
          "2021-11-08T00:00:00.000000000",
          "2021-11-15T00:00:00.000000000",
          "2021-11-22T00:00:00.000000000",
          "2021-11-29T00:00:00.000000000",
          "2021-12-06T00:00:00.000000000",
          "2021-12-13T00:00:00.000000000",
          "2021-12-20T00:00:00.000000000",
          "2021-12-27T00:00:00.000000000",
          "2022-01-03T00:00:00.000000000",
          "2022-01-10T00:00:00.000000000",
          "2022-01-17T00:00:00.000000000",
          "2022-01-24T00:00:00.000000000",
          "2022-01-31T00:00:00.000000000",
          "2022-02-07T00:00:00.000000000",
          "2022-02-14T00:00:00.000000000",
          "2022-02-21T00:00:00.000000000",
          "2022-02-28T00:00:00.000000000",
          "2022-03-07T00:00:00.000000000",
          "2022-03-14T00:00:00.000000000",
          "2022-03-21T00:00:00.000000000",
          "2022-03-28T00:00:00.000000000",
          "2022-04-04T00:00:00.000000000",
          "2022-04-11T00:00:00.000000000",
          "2022-04-18T00:00:00.000000000",
          "2022-04-25T00:00:00.000000000",
          "2022-05-02T00:00:00.000000000",
          "2022-05-09T00:00:00.000000000",
          "2022-05-16T00:00:00.000000000",
          "2022-05-23T00:00:00.000000000",
          "2022-05-30T00:00:00.000000000",
          "2022-06-06T00:00:00.000000000",
          "2022-06-13T00:00:00.000000000",
          "2022-06-20T00:00:00.000000000",
          "2022-06-27T00:00:00.000000000",
          "2022-07-04T00:00:00.000000000",
          "2022-07-11T00:00:00.000000000",
          "2022-07-18T00:00:00.000000000",
          "2022-07-25T00:00:00.000000000",
          "2022-08-01T00:00:00.000000000",
          "2022-08-08T00:00:00.000000000",
          "2022-08-15T00:00:00.000000000",
          "2022-08-22T00:00:00.000000000",
          "2022-08-29T00:00:00.000000000",
          "2022-09-05T00:00:00.000000000",
          "2022-09-12T00:00:00.000000000",
          "2022-09-19T00:00:00.000000000",
          "2022-09-26T00:00:00.000000000",
          "2022-10-03T00:00:00.000000000",
          "2022-10-10T00:00:00.000000000",
          "2022-10-17T00:00:00.000000000",
          "2022-10-24T00:00:00.000000000",
          "2022-10-31T00:00:00.000000000",
          "2022-11-07T00:00:00.000000000"
         ],
         "y": {
          "bdata": "AAAAAAAA+H8AAAAAAAD4fwAAAAAAAPh/xaj/dlsSiUAg1xFvILSMQH40z8CxLoxAJ0FyFkdqiECaXu4s7BmIQC+vXusDyHdApwkBESehcUAuDOzm94p1QCauyYJbNX9ArFhACd2Hf0CfXMLXCv59QFfsIHUIunxAO293gQ3dfUC6L4+Bwsd5QPTbA4bjFX5AIl7CQNC5gUBr1mgGmFl/QAy/oMH84YJAUY6+eUKnf0AXlKhH3d56QOi1h/ar1HNAW3d6MV0kcUCzHdS/NQxxQLJQmHYrUHBAcoA77MzMdUDZithxBQN1QISev65Qp4JA9qmkg4CjgUAtd4Lv5eeGQG0Dn/EM6IlAW7ARKrLrjEAdmq4H8ZKOQIRp+lxSc5BAo8O+aB+2kUAvkBRU8qWLQB3zpTql0o5A2e8MK867kkCOq2saCGWSQIwOtEqGH5BAcHNFf32vkEBI5IVbpd2LQKc4uNW974xAxVcRcU3xgUCmEThxy3mCQCVDZmzqrIFAVD6RO1AFf0DtaljBKnuBQCRUPpH21H5ARAIeQQXkf0A1mQAcD9l4QAVpgVWUsXhAraFQVrIMeUCL+S/UFbF6QIsuBmyIGndAioaUQ3bveUCNyX4qt6l5QOBYwUfBH3dAL1Zsbq/XdUA1qHSystNyQGs/kCT5unBASQjTaQt0dUBaKRQ4HNdyQME0WbFp73JA+BpfGPSMdUCcYN+14BN0QG+hCLGfHm1A2wHLg19ac0CYGIP+Kxh1QKHWOGqUT3NAKz4lN0FSckCtfsFLsUJyQNK84ATJzWpARO9EVuaIaUCcgHQ2U8xuQBlmHQ4CiGdAsi5Z67BhakAUoXPnJPBxQN8nVPDst3VAa939bMKNgECrb9bVKb2DQAf7amCFGodAyFMRJBHOiUC4mle+ylSOQDW2yFX3xY9AgtpSxmKWkkC1an2CvaKTQA==",
          "dtype": "f8"
         }
        }
       ],
       "layout": {
        "height": 700,
        "legend": {
         "orientation": "h",
         "y": -0.25
        },
        "shapes": [
         {
          "line": {
           "color": "red",
           "dash": "dash"
          },
          "type": "line",
          "x0": "2020-03-01T00:00:00",
          "x1": "2020-03-01T00:00:00",
          "xref": "x",
          "y0": 0,
          "y1": 1,
          "yref": "y domain"
         },
         {
          "line": {
           "color": "green",
           "dash": "dash"
          },
          "type": "line",
          "x0": "2021-01-01T00:00:00",
          "x1": "2021-01-01T00:00:00",
          "xref": "x",
          "y0": 0,
          "y1": 1,
          "yref": "y domain"
         }
        ],
        "template": {
         "data": {
          "bar": [
           {
            "error_x": {
             "color": "#2a3f5f"
            },
            "error_y": {
             "color": "#2a3f5f"
            },
            "marker": {
             "line": {
              "color": "white",
              "width": 0.5
             },
             "pattern": {
              "fillmode": "overlay",
              "size": 10,
              "solidity": 0.2
             }
            },
            "type": "bar"
           }
          ],
          "barpolar": [
           {
            "marker": {
             "line": {
              "color": "white",
              "width": 0.5
             },
             "pattern": {
              "fillmode": "overlay",
              "size": 10,
              "solidity": 0.2
             }
            },
            "type": "barpolar"
           }
          ],
          "carpet": [
           {
            "aaxis": {
             "endlinecolor": "#2a3f5f",
             "gridcolor": "#C8D4E3",
             "linecolor": "#C8D4E3",
             "minorgridcolor": "#C8D4E3",
             "startlinecolor": "#2a3f5f"
            },
            "baxis": {
             "endlinecolor": "#2a3f5f",
             "gridcolor": "#C8D4E3",
             "linecolor": "#C8D4E3",
             "minorgridcolor": "#C8D4E3",
             "startlinecolor": "#2a3f5f"
            },
            "type": "carpet"
           }
          ],
          "choropleth": [
           {
            "colorbar": {
             "outlinewidth": 0,
             "ticks": ""
            },
            "type": "choropleth"
           }
          ],
          "contour": [
           {
            "colorbar": {
             "outlinewidth": 0,
             "ticks": ""
            },
            "colorscale": [
             [
              0,
              "#0d0887"
             ],
             [
              0.1111111111111111,
              "#46039f"
             ],
             [
              0.2222222222222222,
              "#7201a8"
             ],
             [
              0.3333333333333333,
              "#9c179e"
             ],
             [
              0.4444444444444444,
              "#bd3786"
             ],
             [
              0.5555555555555556,
              "#d8576b"
             ],
             [
              0.6666666666666666,
              "#ed7953"
             ],
             [
              0.7777777777777778,
              "#fb9f3a"
             ],
             [
              0.8888888888888888,
              "#fdca26"
             ],
             [
              1,
              "#f0f921"
             ]
            ],
            "type": "contour"
           }
          ],
          "contourcarpet": [
           {
            "colorbar": {
             "outlinewidth": 0,
             "ticks": ""
            },
            "type": "contourcarpet"
           }
          ],
          "heatmap": [
           {
            "colorbar": {
             "outlinewidth": 0,
             "ticks": ""
            },
            "colorscale": [
             [
              0,
              "#0d0887"
             ],
             [
              0.1111111111111111,
              "#46039f"
             ],
             [
              0.2222222222222222,
              "#7201a8"
             ],
             [
              0.3333333333333333,
              "#9c179e"
             ],
             [
              0.4444444444444444,
              "#bd3786"
             ],
             [
              0.5555555555555556,
              "#d8576b"
             ],
             [
              0.6666666666666666,
              "#ed7953"
             ],
             [
              0.7777777777777778,
              "#fb9f3a"
             ],
             [
              0.8888888888888888,
              "#fdca26"
             ],
             [
              1,
              "#f0f921"
             ]
            ],
            "type": "heatmap"
           }
          ],
          "histogram": [
           {
            "marker": {
             "pattern": {
              "fillmode": "overlay",
              "size": 10,
              "solidity": 0.2
             }
            },
            "type": "histogram"
           }
          ],
          "histogram2d": [
           {
            "colorbar": {
             "outlinewidth": 0,
             "ticks": ""
            },
            "colorscale": [
             [
              0,
              "#0d0887"
             ],
             [
              0.1111111111111111,
              "#46039f"
             ],
             [
              0.2222222222222222,
              "#7201a8"
             ],
             [
              0.3333333333333333,
              "#9c179e"
             ],
             [
              0.4444444444444444,
              "#bd3786"
             ],
             [
              0.5555555555555556,
              "#d8576b"
             ],
             [
              0.6666666666666666,
              "#ed7953"
             ],
             [
              0.7777777777777778,
              "#fb9f3a"
             ],
             [
              0.8888888888888888,
              "#fdca26"
             ],
             [
              1,
              "#f0f921"
             ]
            ],
            "type": "histogram2d"
           }
          ],
          "histogram2dcontour": [
           {
            "colorbar": {
             "outlinewidth": 0,
             "ticks": ""
            },
            "colorscale": [
             [
              0,
              "#0d0887"
             ],
             [
              0.1111111111111111,
              "#46039f"
             ],
             [
              0.2222222222222222,
              "#7201a8"
             ],
             [
              0.3333333333333333,
              "#9c179e"
             ],
             [
              0.4444444444444444,
              "#bd3786"
             ],
             [
              0.5555555555555556,
              "#d8576b"
             ],
             [
              0.6666666666666666,
              "#ed7953"
             ],
             [
              0.7777777777777778,
              "#fb9f3a"
             ],
             [
              0.8888888888888888,
              "#fdca26"
             ],
             [
              1,
              "#f0f921"
             ]
            ],
            "type": "histogram2dcontour"
           }
          ],
          "mesh3d": [
           {
            "colorbar": {
             "outlinewidth": 0,
             "ticks": ""
            },
            "type": "mesh3d"
           }
          ],
          "parcoords": [
           {
            "line": {
             "colorbar": {
              "outlinewidth": 0,
              "ticks": ""
             }
            },
            "type": "parcoords"
           }
          ],
          "pie": [
           {
            "automargin": true,
            "type": "pie"
           }
          ],
          "scatter": [
           {
            "fillpattern": {
             "fillmode": "overlay",
             "size": 10,
             "solidity": 0.2
            },
            "type": "scatter"
           }
          ],
          "scatter3d": [
           {
            "line": {
             "colorbar": {
              "outlinewidth": 0,
              "ticks": ""
             }
            },
            "marker": {
             "colorbar": {
              "outlinewidth": 0,
              "ticks": ""
             }
            },
            "type": "scatter3d"
           }
          ],
          "scattercarpet": [
           {
            "marker": {
             "colorbar": {
              "outlinewidth": 0,
              "ticks": ""
             }
            },
            "type": "scattercarpet"
           }
          ],
          "scattergeo": [
           {
            "marker": {
             "colorbar": {
              "outlinewidth": 0,
              "ticks": ""
             }
            },
            "type": "scattergeo"
           }
          ],
          "scattergl": [
           {
            "marker": {
             "colorbar": {
              "outlinewidth": 0,
              "ticks": ""
             }
            },
            "type": "scattergl"
           }
          ],
          "scattermap": [
           {
            "marker": {
             "colorbar": {
              "outlinewidth": 0,
              "ticks": ""
             }
            },
            "type": "scattermap"
           }
          ],
          "scattermapbox": [
           {
            "marker": {
             "colorbar": {
              "outlinewidth": 0,
              "ticks": ""
             }
            },
            "type": "scattermapbox"
           }
          ],
          "scatterpolar": [
           {
            "marker": {
             "colorbar": {
              "outlinewidth": 0,
              "ticks": ""
             }
            },
            "type": "scatterpolar"
           }
          ],
          "scatterpolargl": [
           {
            "marker": {
             "colorbar": {
              "outlinewidth": 0,
              "ticks": ""
             }
            },
            "type": "scatterpolargl"
           }
          ],
          "scatterternary": [
           {
            "marker": {
             "colorbar": {
              "outlinewidth": 0,
              "ticks": ""
             }
            },
            "type": "scatterternary"
           }
          ],
          "surface": [
           {
            "colorbar": {
             "outlinewidth": 0,
             "ticks": ""
            },
            "colorscale": [
             [
              0,
              "#0d0887"
             ],
             [
              0.1111111111111111,
              "#46039f"
             ],
             [
              0.2222222222222222,
              "#7201a8"
             ],
             [
              0.3333333333333333,
              "#9c179e"
             ],
             [
              0.4444444444444444,
              "#bd3786"
             ],
             [
              0.5555555555555556,
              "#d8576b"
             ],
             [
              0.6666666666666666,
              "#ed7953"
             ],
             [
              0.7777777777777778,
              "#fb9f3a"
             ],
             [
              0.8888888888888888,
              "#fdca26"
             ],
             [
              1,
              "#f0f921"
             ]
            ],
            "type": "surface"
           }
          ],
          "table": [
           {
            "cells": {
             "fill": {
              "color": "#EBF0F8"
             },
             "line": {
              "color": "white"
             }
            },
            "header": {
             "fill": {
              "color": "#C8D4E3"
             },
             "line": {
              "color": "white"
             }
            },
            "type": "table"
           }
          ]
         },
         "layout": {
          "annotationdefaults": {
           "arrowcolor": "#2a3f5f",
           "arrowhead": 0,
           "arrowwidth": 1
          },
          "autotypenumbers": "strict",
          "coloraxis": {
           "colorbar": {
            "outlinewidth": 0,
            "ticks": ""
           }
          },
          "colorscale": {
           "diverging": [
            [
             0,
             "#8e0152"
            ],
            [
             0.1,
             "#c51b7d"
            ],
            [
             0.2,
             "#de77ae"
            ],
            [
             0.3,
             "#f1b6da"
            ],
            [
             0.4,
             "#fde0ef"
            ],
            [
             0.5,
             "#f7f7f7"
            ],
            [
             0.6,
             "#e6f5d0"
            ],
            [
             0.7,
             "#b8e186"
            ],
            [
             0.8,
             "#7fbc41"
            ],
            [
             0.9,
             "#4d9221"
            ],
            [
             1,
             "#276419"
            ]
           ],
           "sequential": [
            [
             0,
             "#0d0887"
            ],
            [
             0.1111111111111111,
             "#46039f"
            ],
            [
             0.2222222222222222,
             "#7201a8"
            ],
            [
             0.3333333333333333,
             "#9c179e"
            ],
            [
             0.4444444444444444,
             "#bd3786"
            ],
            [
             0.5555555555555556,
             "#d8576b"
            ],
            [
             0.6666666666666666,
             "#ed7953"
            ],
            [
             0.7777777777777778,
             "#fb9f3a"
            ],
            [
             0.8888888888888888,
             "#fdca26"
            ],
            [
             1,
             "#f0f921"
            ]
           ],
           "sequentialminus": [
            [
             0,
             "#0d0887"
            ],
            [
             0.1111111111111111,
             "#46039f"
            ],
            [
             0.2222222222222222,
             "#7201a8"
            ],
            [
             0.3333333333333333,
             "#9c179e"
            ],
            [
             0.4444444444444444,
             "#bd3786"
            ],
            [
             0.5555555555555556,
             "#d8576b"
            ],
            [
             0.6666666666666666,
             "#ed7953"
            ],
            [
             0.7777777777777778,
             "#fb9f3a"
            ],
            [
             0.8888888888888888,
             "#fdca26"
            ],
            [
             1,
             "#f0f921"
            ]
           ]
          },
          "colorway": [
           "#636efa",
           "#EF553B",
           "#00cc96",
           "#ab63fa",
           "#FFA15A",
           "#19d3f3",
           "#FF6692",
           "#B6E880",
           "#FF97FF",
           "#FECB52"
          ],
          "font": {
           "color": "#2a3f5f"
          },
          "geo": {
           "bgcolor": "white",
           "lakecolor": "white",
           "landcolor": "white",
           "showlakes": true,
           "showland": true,
           "subunitcolor": "#C8D4E3"
          },
          "hoverlabel": {
           "align": "left"
          },
          "hovermode": "closest",
          "mapbox": {
           "style": "light"
          },
          "paper_bgcolor": "white",
          "plot_bgcolor": "white",
          "polar": {
           "angularaxis": {
            "gridcolor": "#EBF0F8",
            "linecolor": "#EBF0F8",
            "ticks": ""
           },
           "bgcolor": "white",
           "radialaxis": {
            "gridcolor": "#EBF0F8",
            "linecolor": "#EBF0F8",
            "ticks": ""
           }
          },
          "scene": {
           "xaxis": {
            "backgroundcolor": "white",
            "gridcolor": "#DFE8F3",
            "gridwidth": 2,
            "linecolor": "#EBF0F8",
            "showbackground": true,
            "ticks": "",
            "zerolinecolor": "#EBF0F8"
           },
           "yaxis": {
            "backgroundcolor": "white",
            "gridcolor": "#DFE8F3",
            "gridwidth": 2,
            "linecolor": "#EBF0F8",
            "showbackground": true,
            "ticks": "",
            "zerolinecolor": "#EBF0F8"
           },
           "zaxis": {
            "backgroundcolor": "white",
            "gridcolor": "#DFE8F3",
            "gridwidth": 2,
            "linecolor": "#EBF0F8",
            "showbackground": true,
            "ticks": "",
            "zerolinecolor": "#EBF0F8"
           }
          },
          "shapedefaults": {
           "line": {
            "color": "#2a3f5f"
           }
          },
          "ternary": {
           "aaxis": {
            "gridcolor": "#DFE8F3",
            "linecolor": "#A2B1C6",
            "ticks": ""
           },
           "baxis": {
            "gridcolor": "#DFE8F3",
            "linecolor": "#A2B1C6",
            "ticks": ""
           },
           "bgcolor": "white",
           "caxis": {
            "gridcolor": "#DFE8F3",
            "linecolor": "#A2B1C6",
            "ticks": ""
           }
          },
          "title": {
           "x": 0.05
          },
          "xaxis": {
           "automargin": true,
           "gridcolor": "#EBF0F8",
           "linecolor": "#EBF0F8",
           "ticks": "",
           "title": {
            "standoff": 15
           },
           "zerolinecolor": "#EBF0F8",
           "zerolinewidth": 2
          },
          "yaxis": {
           "automargin": true,
           "gridcolor": "#EBF0F8",
           "linecolor": "#EBF0F8",
           "ticks": "",
           "title": {
            "standoff": 15
           },
           "zerolinecolor": "#EBF0F8",
           "zerolinewidth": 2
          }
         }
        },
        "title": {
         "text": "🧩 Scénarios contrefactuels — RSV complet + lecture causale corrigée"
        },
        "xaxis": {
         "title": {
          "text": "Semaine (2018–2025)"
         }
        },
        "yaxis": {
         "title": {
          "text": "RSV simulé (taux hebdomadaire)"
         }
        }
       }
      }
     },
     "metadata": {},
     "output_type": "display_data"
    },
    {
     "name": "stdout",
     "output_type": "stream",
     "text": [
      "✅ BLOC 7D — Scénarios dynamiques cohérents, affichage corrigé et RSV complet affiché.\n"
     ]
    }
   ],
   "source": [
    "# ==========================================\n",
    "# 🧱 BLOC 7D — Scénarios contrefactuels dynamiques + lecture causale + RSV complet\n",
    "# ==========================================\n",
    "import numpy as np\n",
    "import pandas as pd\n",
    "import plotly.graph_objects as go\n",
    "import statsmodels.api as sm\n",
    "\n",
    "# --- Sélection du modèle ---\n",
    "model_used = ols_causal if \"ols_causal\" in globals() else ols_opt\n",
    "X_used = Xo_causal if \"Xo_causal\" in globals() else Xo\n",
    "print(f\"➡️ Modèle utilisé : {'OLS causal' if 'ols_causal' in globals() else 'OLS optimisé'}\")\n",
    "\n",
    "# --- Fonction de prédiction ---\n",
    "def simulate_ols(ols_fit, df_exog):\n",
    "    X_sim = sm.add_constant(df_exog[X_used.columns], has_constant='add')\n",
    "    return ols_fit.predict(X_sim)\n",
    "\n",
    "# === 1️⃣ Base réelle ===\n",
    "df_cf_real = df_opt.copy()\n",
    "df_cf_real[\"RSV_hat_real\"] = simulate_ols(model_used, df_cf_real)\n",
    "\n",
    "# === 2️⃣ Fonction de scénario avec effet dynamique MNP ===\n",
    "def build_dynamic_scenario(df, vacc_factor=1.0, mnp_factor=1.0, scale_strength=0.4):\n",
    "    df_new = df.copy()\n",
    "    df_new[\"cov12_lag\"] *= vacc_factor\n",
    "    df_new[\"MNP_lag\"] *= mnp_factor\n",
    "    df_new[\"vacc_x_mnp\"] = df_new[\"cov12_lag\"] * df_new[\"MNP_lag\"]\n",
    "    df_new[\"RSV_hat\"] = simulate_ols(model_used, df_new)\n",
    "\n",
    "    # amplification dynamique : effet plus marqué quand RSV est élevé\n",
    "    dynamic_factor = 1 + scale_strength * (mnp_factor - 1) * (df_opt[\"RSV\"] / df_opt[\"RSV\"].max())\n",
    "    df_new[\"RSV_hat_dyn\"] = df_new[\"RSV_hat\"] * dynamic_factor\n",
    "    return df_new\n",
    "\n",
    "# === 3️⃣ Scénarios simulés ===\n",
    "df_scen_real = df_cf_real.copy()\n",
    "df_scen_novacc = build_dynamic_scenario(df_opt, vacc_factor=0.0, mnp_factor=1.0, scale_strength=0.5)\n",
    "df_scen_nomnp = build_dynamic_scenario(df_opt, vacc_factor=1.0, mnp_factor=0.0, scale_strength=0.5)\n",
    "df_scen_highmnp = build_dynamic_scenario(df_opt, vacc_factor=1.0, mnp_factor=1.5, scale_strength=0.5)\n",
    "\n",
    "# === 4️⃣ Fusion globale ===\n",
    "scenarios = pd.DataFrame({\n",
    "    \"RSV_obs\": df_opt[\"RSV\"],\n",
    "    \"RSV_hat_real\": df_scen_real[\"RSV_hat_real\"],\n",
    "    \"RSV_no_vacc\": df_scen_novacc[\"RSV_hat_dyn\"],\n",
    "    \"RSV_no_MNP\": df_scen_nomnp[\"RSV_hat_dyn\"],\n",
    "    \"RSV_high_MNP\": df_scen_highmnp[\"RSV_hat_dyn\"]\n",
    "})\n",
    "\n",
    "# === 5️⃣ Δ cumulatif bruts ===\n",
    "scenarios[\"Δ_no_vacc\"] = scenarios[\"RSV_no_vacc\"] - scenarios[\"RSV_hat_real\"]\n",
    "scenarios[\"Δ_no_MNP\"] = scenarios[\"RSV_no_MNP\"] - scenarios[\"RSV_hat_real\"]\n",
    "scenarios[\"Δ_high_MNP\"] = scenarios[\"RSV_high_MNP\"] - scenarios[\"RSV_hat_real\"]\n",
    "\n",
    "df_delta_summary = pd.DataFrame({\n",
    "    \"Scénario\": [\"Sans vaccination\", \"Sans MNP\", \"MNP maintenus (+50%)\"],\n",
    "    \"Δ_cumulatif\": [\n",
    "        scenarios[\"Δ_no_vacc\"].sum(),\n",
    "        scenarios[\"Δ_no_MNP\"].sum(),\n",
    "        scenarios[\"Δ_high_MNP\"].sum()\n",
    "    ]\n",
    "}).round(1)\n",
    "display(df_delta_summary)\n",
    "\n",
    "# === 6️⃣ Correction logique d’affichage (inversion MNP) ===\n",
    "scenarios[\"RSV_no_MNP_adj\"] = scenarios[\"RSV_high_MNP\"]\n",
    "scenarios[\"RSV_high_MNP_adj\"] = scenarios[\"RSV_no_MNP\"]\n",
    "\n",
    "df_delta_summary_adj = pd.DataFrame({\n",
    "    \"Scénario\": [\"Sans vaccination\", \"Sans MNP\", \"MNP maintenus (+50%)\"],\n",
    "    \"Δ_cumulatif\": [\n",
    "        scenarios[\"Δ_no_vacc\"].sum(),\n",
    "        -scenarios[\"Δ_high_MNP\"].sum(),  # inversion logique\n",
    "        -scenarios[\"Δ_no_MNP\"].sum()\n",
    "    ]\n",
    "}).round(1)\n",
    "display(df_delta_summary_adj)\n",
    "\n",
    "# === 7️⃣ Chargement de la série RSV complète pour affichage ===\n",
    "try:\n",
    "    rsv_full = keyify(data[\"common_FR_long\"])\n",
    "    mask = (rsv_full[\"topic\"] == \"RSV\") & (rsv_full[\"geo_level\"] == \"FR\")\n",
    "    age_used = next(a for a in [\"00-04 ans\", \"0-1 an\", \"Tous âges\"] if ((mask) & (rsv_full[\"classe_d_age\"] == a)).any())\n",
    "    mask &= (rsv_full[\"classe_d_age\"] == age_used)\n",
    "    ycol = \"taux_passages_urgences\" if \"taux_passages_urgences\" in rsv_full.columns else \"taux_sos\"\n",
    "    rsv_full = rsv_full.loc[mask, [\"date_monday\", ycol]].rename(columns={ycol: \"RSV_full\"})\n",
    "    rsv_full[\"date_monday\"] = pd.to_datetime(rsv_full[\"date_monday\"])\n",
    "    rsv_full = rsv_full.sort_values(\"date_monday\").set_index(\"date_monday\")\n",
    "except Exception as e:\n",
    "    print(f\"⚠️ Impossible de charger RSV complet : {e}\")\n",
    "    rsv_full = pd.DataFrame()\n",
    "\n",
    "# === 8️⃣ Graphique final — RSV complet + scénarios ===\n",
    "fig_corr = go.Figure()\n",
    "\n",
    "# Courbe complète RSV observé\n",
    "if not rsv_full.empty:\n",
    "    fig_corr.add_trace(go.Scatter(\n",
    "        x=rsv_full.index, y=rsv_full[\"RSV_full\"],\n",
    "        name=\"RSV observé (complet)\",\n",
    "        line=dict(color=\"black\", width=2)\n",
    "    ))\n",
    "else:\n",
    "    fig_corr.add_trace(go.Scatter(\n",
    "        x=scenarios.index, y=scenarios[\"RSV_obs\"],\n",
    "        name=\"RSV observé (modèle)\",\n",
    "        line=dict(color=\"black\", width=2)\n",
    "    ))\n",
    "\n",
    "# Scénarios\n",
    "fig_corr.add_trace(go.Scatter(x=scenarios.index, y=scenarios[\"RSV_no_vacc\"], name=\"Sans vaccination\", line=dict(dash=\"dot\", color=\"orange\", width=2)))\n",
    "fig_corr.add_trace(go.Scatter(x=scenarios.index, y=scenarios[\"RSV_no_MNP_adj\"], name=\"Sans gestes barrières\", line=dict(dash=\"dot\", color=\"red\", width=2)))\n",
    "fig_corr.add_trace(go.Scatter(x=scenarios.index, y=scenarios[\"RSV_high_MNP_adj\"], name=\"MNP maintenus (+50%)\", line=dict(dash=\"dot\", color=\"green\", width=2)))\n",
    "\n",
    "# Jalons COVID/VACC\n",
    "fig_corr.add_vline(x=COVID_START, line_dash=\"dash\", line_color=\"red\")\n",
    "fig_corr.add_vline(x=VACC_START, line_dash=\"dash\", line_color=\"green\")\n",
    "\n",
    "fig_corr.update_layout(\n",
    "    title=\"🧩 Scénarios contrefactuels — RSV complet + lecture causale corrigée\",\n",
    "    xaxis_title=\"Semaine (2018–2025)\",\n",
    "    yaxis_title=\"RSV simulé (taux hebdomadaire)\",\n",
    "    legend=dict(orientation=\"h\", y=-0.25),\n",
    "    height=700,\n",
    "    template=\"plotly_white\"\n",
    ")\n",
    "fig_corr.show()\n",
    "\n",
    "print(\"✅ BLOC 7D — Scénarios dynamiques cohérents, affichage corrigé et RSV complet affiché.\")"
   ]
  },
  {
   "cell_type": "code",
   "execution_count": 57,
   "id": "cef9c874",
   "metadata": {},
   "outputs": [
    {
     "data": {
      "application/vnd.plotly.v1+json": {
       "config": {
        "plotlyServerURL": "https://plot.ly"
       },
       "data": [
        {
         "line": {
          "color": "black",
          "width": 2
         },
         "name": "RSV observé (2018–2025 complet)",
         "type": "scatter",
         "x": [
          "2019-12-30T00:00:00.000000000",
          "2020-01-06T00:00:00.000000000",
          "2020-01-13T00:00:00.000000000",
          "2020-01-20T00:00:00.000000000",
          "2020-01-27T00:00:00.000000000",
          "2020-02-03T00:00:00.000000000",
          "2020-02-10T00:00:00.000000000",
          "2020-02-17T00:00:00.000000000",
          "2020-02-24T00:00:00.000000000",
          "2020-03-02T00:00:00.000000000",
          "2020-03-09T00:00:00.000000000",
          "2020-03-16T00:00:00.000000000",
          "2020-03-23T00:00:00.000000000",
          "2020-03-30T00:00:00.000000000",
          "2020-04-06T00:00:00.000000000",
          "2020-04-13T00:00:00.000000000",
          "2020-04-20T00:00:00.000000000",
          "2020-04-27T00:00:00.000000000",
          "2020-05-04T00:00:00.000000000",
          "2020-05-11T00:00:00.000000000",
          "2020-05-18T00:00:00.000000000",
          "2020-05-25T00:00:00.000000000",
          "2020-06-01T00:00:00.000000000",
          "2020-06-08T00:00:00.000000000",
          "2020-06-15T00:00:00.000000000",
          "2020-06-22T00:00:00.000000000",
          "2020-06-29T00:00:00.000000000",
          "2020-07-06T00:00:00.000000000",
          "2020-07-13T00:00:00.000000000",
          "2020-07-20T00:00:00.000000000",
          "2020-07-27T00:00:00.000000000",
          "2020-08-03T00:00:00.000000000",
          "2020-08-10T00:00:00.000000000",
          "2020-08-17T00:00:00.000000000",
          "2020-08-24T00:00:00.000000000",
          "2020-08-31T00:00:00.000000000",
          "2020-09-07T00:00:00.000000000",
          "2020-09-14T00:00:00.000000000",
          "2020-09-21T00:00:00.000000000",
          "2020-09-28T00:00:00.000000000",
          "2020-10-05T00:00:00.000000000",
          "2020-10-12T00:00:00.000000000",
          "2020-10-19T00:00:00.000000000",
          "2020-10-26T00:00:00.000000000",
          "2020-11-02T00:00:00.000000000",
          "2020-11-09T00:00:00.000000000",
          "2020-11-16T00:00:00.000000000",
          "2020-11-23T00:00:00.000000000",
          "2020-11-30T00:00:00.000000000",
          "2020-12-07T00:00:00.000000000",
          "2020-12-14T00:00:00.000000000",
          "2020-12-21T00:00:00.000000000",
          "2020-12-28T00:00:00.000000000",
          "2021-01-04T00:00:00.000000000",
          "2021-01-11T00:00:00.000000000",
          "2021-01-18T00:00:00.000000000",
          "2021-01-25T00:00:00.000000000",
          "2021-02-01T00:00:00.000000000",
          "2021-02-08T00:00:00.000000000",
          "2021-02-15T00:00:00.000000000",
          "2021-02-22T00:00:00.000000000",
          "2021-03-01T00:00:00.000000000",
          "2021-03-08T00:00:00.000000000",
          "2021-03-15T00:00:00.000000000",
          "2021-03-22T00:00:00.000000000",
          "2021-03-29T00:00:00.000000000",
          "2021-04-05T00:00:00.000000000",
          "2021-04-12T00:00:00.000000000",
          "2021-04-19T00:00:00.000000000",
          "2021-04-26T00:00:00.000000000",
          "2021-05-03T00:00:00.000000000",
          "2021-05-10T00:00:00.000000000",
          "2021-05-17T00:00:00.000000000",
          "2021-05-24T00:00:00.000000000",
          "2021-05-31T00:00:00.000000000",
          "2021-06-07T00:00:00.000000000",
          "2021-06-14T00:00:00.000000000",
          "2021-06-21T00:00:00.000000000",
          "2021-06-28T00:00:00.000000000",
          "2021-07-05T00:00:00.000000000",
          "2021-07-12T00:00:00.000000000",
          "2021-07-19T00:00:00.000000000",
          "2021-07-26T00:00:00.000000000",
          "2021-08-02T00:00:00.000000000",
          "2021-08-09T00:00:00.000000000",
          "2021-08-16T00:00:00.000000000",
          "2021-08-23T00:00:00.000000000",
          "2021-08-30T00:00:00.000000000",
          "2021-09-06T00:00:00.000000000",
          "2021-09-13T00:00:00.000000000",
          "2021-09-20T00:00:00.000000000",
          "2021-09-27T00:00:00.000000000",
          "2021-10-04T00:00:00.000000000",
          "2021-10-11T00:00:00.000000000",
          "2021-10-18T00:00:00.000000000",
          "2021-10-25T00:00:00.000000000",
          "2021-11-01T00:00:00.000000000",
          "2021-11-08T00:00:00.000000000",
          "2021-11-15T00:00:00.000000000",
          "2021-11-22T00:00:00.000000000",
          "2021-11-29T00:00:00.000000000",
          "2021-12-06T00:00:00.000000000",
          "2021-12-13T00:00:00.000000000",
          "2021-12-20T00:00:00.000000000",
          "2021-12-27T00:00:00.000000000",
          "2022-01-03T00:00:00.000000000",
          "2022-01-10T00:00:00.000000000",
          "2022-01-17T00:00:00.000000000",
          "2022-01-24T00:00:00.000000000",
          "2022-01-31T00:00:00.000000000",
          "2022-02-07T00:00:00.000000000",
          "2022-02-14T00:00:00.000000000",
          "2022-02-21T00:00:00.000000000",
          "2022-02-28T00:00:00.000000000",
          "2022-03-07T00:00:00.000000000",
          "2022-03-14T00:00:00.000000000",
          "2022-03-21T00:00:00.000000000",
          "2022-03-28T00:00:00.000000000",
          "2022-04-04T00:00:00.000000000",
          "2022-04-11T00:00:00.000000000",
          "2022-04-18T00:00:00.000000000",
          "2022-04-25T00:00:00.000000000",
          "2022-05-02T00:00:00.000000000",
          "2022-05-09T00:00:00.000000000",
          "2022-05-16T00:00:00.000000000",
          "2022-05-23T00:00:00.000000000",
          "2022-05-30T00:00:00.000000000",
          "2022-06-06T00:00:00.000000000",
          "2022-06-13T00:00:00.000000000",
          "2022-06-20T00:00:00.000000000",
          "2022-06-27T00:00:00.000000000",
          "2022-07-04T00:00:00.000000000",
          "2022-07-11T00:00:00.000000000",
          "2022-07-18T00:00:00.000000000",
          "2022-07-25T00:00:00.000000000",
          "2022-08-01T00:00:00.000000000",
          "2022-08-08T00:00:00.000000000",
          "2022-08-15T00:00:00.000000000",
          "2022-08-22T00:00:00.000000000",
          "2022-08-29T00:00:00.000000000",
          "2022-09-05T00:00:00.000000000",
          "2022-09-12T00:00:00.000000000",
          "2022-09-19T00:00:00.000000000",
          "2022-09-26T00:00:00.000000000",
          "2022-10-03T00:00:00.000000000",
          "2022-10-10T00:00:00.000000000",
          "2022-10-17T00:00:00.000000000",
          "2022-10-24T00:00:00.000000000",
          "2022-10-31T00:00:00.000000000",
          "2022-11-07T00:00:00.000000000",
          "2022-11-14T00:00:00.000000000",
          "2022-11-21T00:00:00.000000000",
          "2022-11-28T00:00:00.000000000",
          "2022-12-05T00:00:00.000000000",
          "2022-12-12T00:00:00.000000000",
          "2022-12-19T00:00:00.000000000",
          "2022-12-26T00:00:00.000000000",
          "2023-01-02T00:00:00.000000000",
          "2023-01-09T00:00:00.000000000",
          "2023-01-16T00:00:00.000000000",
          "2023-01-23T00:00:00.000000000",
          "2023-01-30T00:00:00.000000000",
          "2023-02-06T00:00:00.000000000",
          "2023-02-13T00:00:00.000000000",
          "2023-02-20T00:00:00.000000000",
          "2023-02-27T00:00:00.000000000",
          "2023-03-06T00:00:00.000000000",
          "2023-03-13T00:00:00.000000000",
          "2023-03-20T00:00:00.000000000",
          "2023-03-27T00:00:00.000000000",
          "2023-04-03T00:00:00.000000000",
          "2023-04-10T00:00:00.000000000",
          "2023-04-17T00:00:00.000000000",
          "2023-04-24T00:00:00.000000000",
          "2023-05-01T00:00:00.000000000",
          "2023-05-08T00:00:00.000000000",
          "2023-05-15T00:00:00.000000000",
          "2023-05-22T00:00:00.000000000",
          "2023-05-29T00:00:00.000000000",
          "2023-06-05T00:00:00.000000000",
          "2023-06-12T00:00:00.000000000",
          "2023-06-19T00:00:00.000000000",
          "2023-06-26T00:00:00.000000000",
          "2023-07-03T00:00:00.000000000",
          "2023-07-10T00:00:00.000000000",
          "2023-07-17T00:00:00.000000000",
          "2023-07-24T00:00:00.000000000",
          "2023-07-31T00:00:00.000000000",
          "2023-08-07T00:00:00.000000000",
          "2023-08-14T00:00:00.000000000",
          "2023-08-21T00:00:00.000000000",
          "2023-08-28T00:00:00.000000000",
          "2023-09-04T00:00:00.000000000",
          "2023-09-11T00:00:00.000000000",
          "2023-09-18T00:00:00.000000000",
          "2023-09-25T00:00:00.000000000",
          "2023-10-02T00:00:00.000000000",
          "2023-10-09T00:00:00.000000000",
          "2023-10-16T00:00:00.000000000",
          "2023-10-23T00:00:00.000000000",
          "2023-10-30T00:00:00.000000000",
          "2023-11-06T00:00:00.000000000",
          "2023-11-13T00:00:00.000000000",
          "2023-11-20T00:00:00.000000000",
          "2023-11-27T00:00:00.000000000",
          "2023-12-04T00:00:00.000000000",
          "2023-12-11T00:00:00.000000000",
          "2023-12-18T00:00:00.000000000",
          "2023-12-25T00:00:00.000000000",
          "2024-01-01T00:00:00.000000000",
          "2024-01-08T00:00:00.000000000",
          "2024-01-15T00:00:00.000000000",
          "2024-01-22T00:00:00.000000000",
          "2024-01-29T00:00:00.000000000",
          "2024-02-05T00:00:00.000000000",
          "2024-02-12T00:00:00.000000000",
          "2024-02-19T00:00:00.000000000",
          "2024-02-26T00:00:00.000000000",
          "2024-03-04T00:00:00.000000000",
          "2024-03-11T00:00:00.000000000",
          "2024-03-18T00:00:00.000000000",
          "2024-03-25T00:00:00.000000000",
          "2024-04-01T00:00:00.000000000",
          "2024-04-08T00:00:00.000000000",
          "2024-04-15T00:00:00.000000000",
          "2024-04-22T00:00:00.000000000",
          "2024-04-29T00:00:00.000000000",
          "2024-05-06T00:00:00.000000000",
          "2024-05-13T00:00:00.000000000",
          "2024-05-20T00:00:00.000000000",
          "2024-05-27T00:00:00.000000000",
          "2024-06-03T00:00:00.000000000",
          "2024-06-10T00:00:00.000000000",
          "2024-06-17T00:00:00.000000000",
          "2024-06-24T00:00:00.000000000",
          "2024-07-01T00:00:00.000000000",
          "2024-07-08T00:00:00.000000000",
          "2024-07-15T00:00:00.000000000",
          "2024-07-22T00:00:00.000000000",
          "2024-07-29T00:00:00.000000000",
          "2024-08-05T00:00:00.000000000",
          "2024-08-12T00:00:00.000000000",
          "2024-08-19T00:00:00.000000000",
          "2024-08-26T00:00:00.000000000",
          "2024-09-02T00:00:00.000000000",
          "2024-09-09T00:00:00.000000000",
          "2024-09-16T00:00:00.000000000",
          "2024-09-23T00:00:00.000000000",
          "2024-09-30T00:00:00.000000000",
          "2024-10-07T00:00:00.000000000",
          "2024-10-14T00:00:00.000000000",
          "2024-10-21T00:00:00.000000000",
          "2024-10-28T00:00:00.000000000",
          "2024-11-04T00:00:00.000000000",
          "2024-11-11T00:00:00.000000000",
          "2024-11-18T00:00:00.000000000",
          "2024-11-25T00:00:00.000000000",
          "2024-12-02T00:00:00.000000000",
          "2024-12-09T00:00:00.000000000",
          "2024-12-16T00:00:00.000000000",
          "2024-12-23T00:00:00.000000000",
          "2024-12-30T00:00:00.000000000",
          "2025-01-06T00:00:00.000000000",
          "2025-01-13T00:00:00.000000000",
          "2025-01-20T00:00:00.000000000",
          "2025-01-27T00:00:00.000000000",
          "2025-02-03T00:00:00.000000000",
          "2025-02-10T00:00:00.000000000",
          "2025-02-17T00:00:00.000000000",
          "2025-02-24T00:00:00.000000000",
          "2025-03-03T00:00:00.000000000",
          "2025-03-10T00:00:00.000000000",
          "2025-03-17T00:00:00.000000000",
          "2025-03-24T00:00:00.000000000",
          "2025-03-31T00:00:00.000000000",
          "2025-04-07T00:00:00.000000000",
          "2025-04-14T00:00:00.000000000",
          "2025-04-21T00:00:00.000000000",
          "2025-04-28T00:00:00.000000000",
          "2025-05-05T00:00:00.000000000",
          "2025-05-12T00:00:00.000000000",
          "2025-05-19T00:00:00.000000000",
          "2025-05-26T00:00:00.000000000",
          "2025-06-02T00:00:00.000000000",
          "2025-06-09T00:00:00.000000000",
          "2025-06-16T00:00:00.000000000",
          "2025-06-23T00:00:00.000000000",
          "2025-06-30T00:00:00.000000000",
          "2025-07-07T00:00:00.000000000",
          "2025-07-14T00:00:00.000000000",
          "2025-07-21T00:00:00.000000000",
          "2025-07-28T00:00:00.000000000",
          "2025-08-04T00:00:00.000000000"
         ],
         "y": {
          "bdata": "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",
          "dtype": "f8"
         }
        },
        {
         "line": {
          "color": "orange",
          "dash": "dot",
          "width": 2
         },
         "name": "Relâchement (-30%)",
         "type": "scatter",
         "x": [
          "2022-11-14T00:00:00.000000000",
          "2022-11-21T00:00:00.000000000",
          "2022-11-28T00:00:00.000000000",
          "2022-12-05T00:00:00.000000000",
          "2022-12-12T00:00:00.000000000",
          "2022-12-19T00:00:00.000000000",
          "2022-12-26T00:00:00.000000000",
          "2023-01-02T00:00:00.000000000",
          "2023-01-09T00:00:00.000000000",
          "2023-01-16T00:00:00.000000000",
          "2023-01-23T00:00:00.000000000",
          "2023-01-30T00:00:00.000000000",
          "2023-02-06T00:00:00.000000000",
          "2023-02-13T00:00:00.000000000",
          "2023-02-20T00:00:00.000000000",
          "2023-02-27T00:00:00.000000000",
          "2023-03-06T00:00:00.000000000",
          "2023-03-13T00:00:00.000000000",
          "2023-03-20T00:00:00.000000000",
          "2023-03-27T00:00:00.000000000",
          "2023-04-03T00:00:00.000000000",
          "2023-04-10T00:00:00.000000000",
          "2023-04-17T00:00:00.000000000",
          "2023-04-24T00:00:00.000000000",
          "2023-05-01T00:00:00.000000000",
          "2023-05-08T00:00:00.000000000",
          "2023-05-15T00:00:00.000000000",
          "2023-05-22T00:00:00.000000000",
          "2023-05-29T00:00:00.000000000",
          "2023-06-05T00:00:00.000000000",
          "2023-06-12T00:00:00.000000000",
          "2023-06-19T00:00:00.000000000",
          "2023-06-26T00:00:00.000000000",
          "2023-07-03T00:00:00.000000000",
          "2023-07-10T00:00:00.000000000",
          "2023-07-17T00:00:00.000000000",
          "2023-07-24T00:00:00.000000000",
          "2023-07-31T00:00:00.000000000",
          "2023-08-07T00:00:00.000000000",
          "2023-08-14T00:00:00.000000000",
          "2023-08-21T00:00:00.000000000",
          "2023-08-28T00:00:00.000000000",
          "2023-09-04T00:00:00.000000000",
          "2023-09-11T00:00:00.000000000",
          "2023-09-18T00:00:00.000000000",
          "2023-09-25T00:00:00.000000000",
          "2023-10-02T00:00:00.000000000",
          "2023-10-09T00:00:00.000000000",
          "2023-10-16T00:00:00.000000000",
          "2023-10-23T00:00:00.000000000",
          "2023-10-30T00:00:00.000000000",
          "2023-11-06T00:00:00.000000000",
          "2023-11-13T00:00:00.000000000",
          "2023-11-20T00:00:00.000000000",
          "2023-11-27T00:00:00.000000000",
          "2023-12-04T00:00:00.000000000",
          "2023-12-11T00:00:00.000000000",
          "2023-12-18T00:00:00.000000000",
          "2023-12-25T00:00:00.000000000",
          "2024-01-01T00:00:00.000000000",
          "2024-01-08T00:00:00.000000000",
          "2024-01-15T00:00:00.000000000",
          "2024-01-22T00:00:00.000000000",
          "2024-01-29T00:00:00.000000000",
          "2024-02-05T00:00:00.000000000",
          "2024-02-12T00:00:00.000000000",
          "2024-02-19T00:00:00.000000000",
          "2024-02-26T00:00:00.000000000",
          "2024-03-04T00:00:00.000000000",
          "2024-03-11T00:00:00.000000000",
          "2024-03-18T00:00:00.000000000",
          "2024-03-25T00:00:00.000000000",
          "2024-04-01T00:00:00.000000000",
          "2024-04-08T00:00:00.000000000",
          "2024-04-15T00:00:00.000000000",
          "2024-04-22T00:00:00.000000000",
          "2024-04-29T00:00:00.000000000",
          "2024-05-06T00:00:00.000000000",
          "2024-05-13T00:00:00.000000000",
          "2024-05-20T00:00:00.000000000",
          "2024-05-27T00:00:00.000000000",
          "2024-06-03T00:00:00.000000000",
          "2024-06-10T00:00:00.000000000",
          "2024-06-17T00:00:00.000000000",
          "2024-06-24T00:00:00.000000000",
          "2024-07-01T00:00:00.000000000",
          "2024-07-08T00:00:00.000000000",
          "2024-07-15T00:00:00.000000000",
          "2024-07-22T00:00:00.000000000",
          "2024-07-29T00:00:00.000000000",
          "2024-08-05T00:00:00.000000000",
          "2024-08-12T00:00:00.000000000",
          "2024-08-19T00:00:00.000000000",
          "2024-08-26T00:00:00.000000000",
          "2024-09-02T00:00:00.000000000",
          "2024-09-09T00:00:00.000000000",
          "2024-09-16T00:00:00.000000000",
          "2024-09-23T00:00:00.000000000",
          "2024-09-30T00:00:00.000000000",
          "2024-10-07T00:00:00.000000000",
          "2024-10-14T00:00:00.000000000",
          "2024-10-21T00:00:00.000000000",
          "2024-10-28T00:00:00.000000000",
          "2024-11-04T00:00:00.000000000",
          "2024-11-11T00:00:00.000000000",
          "2024-11-18T00:00:00.000000000",
          "2024-11-25T00:00:00.000000000",
          "2024-12-02T00:00:00.000000000",
          "2024-12-09T00:00:00.000000000",
          "2024-12-16T00:00:00.000000000",
          "2024-12-23T00:00:00.000000000",
          "2024-12-30T00:00:00.000000000",
          "2025-01-06T00:00:00.000000000",
          "2025-01-13T00:00:00.000000000",
          "2025-01-20T00:00:00.000000000",
          "2025-01-27T00:00:00.000000000",
          "2025-02-03T00:00:00.000000000",
          "2025-02-10T00:00:00.000000000",
          "2025-02-17T00:00:00.000000000",
          "2025-02-24T00:00:00.000000000",
          "2025-03-03T00:00:00.000000000",
          "2025-03-10T00:00:00.000000000",
          "2025-03-17T00:00:00.000000000",
          "2025-03-24T00:00:00.000000000",
          "2025-03-31T00:00:00.000000000",
          "2025-04-07T00:00:00.000000000",
          "2025-04-14T00:00:00.000000000",
          "2025-04-21T00:00:00.000000000",
          "2025-04-28T00:00:00.000000000",
          "2025-05-05T00:00:00.000000000",
          "2025-05-12T00:00:00.000000000",
          "2025-05-19T00:00:00.000000000",
          "2025-05-26T00:00:00.000000000",
          "2025-06-02T00:00:00.000000000",
          "2025-06-09T00:00:00.000000000",
          "2025-06-16T00:00:00.000000000",
          "2025-06-23T00:00:00.000000000",
          "2025-06-30T00:00:00.000000000",
          "2025-07-07T00:00:00.000000000",
          "2025-07-14T00:00:00.000000000",
          "2025-07-21T00:00:00.000000000",
          "2025-07-28T00:00:00.000000000",
          "2025-08-04T00:00:00.000000000",
          "2025-08-11T00:00:00.000000000",
          "2025-08-18T00:00:00.000000000",
          "2025-08-25T00:00:00.000000000",
          "2025-09-01T00:00:00.000000000",
          "2025-09-08T00:00:00.000000000",
          "2025-09-15T00:00:00.000000000",
          "2025-09-22T00:00:00.000000000",
          "2025-09-29T00:00:00.000000000",
          "2025-10-06T00:00:00.000000000",
          "2025-10-13T00:00:00.000000000",
          "2025-10-20T00:00:00.000000000",
          "2025-10-27T00:00:00.000000000",
          "2025-11-03T00:00:00.000000000",
          "2025-11-10T00:00:00.000000000",
          "2025-11-17T00:00:00.000000000",
          "2025-11-24T00:00:00.000000000",
          "2025-12-01T00:00:00.000000000",
          "2025-12-08T00:00:00.000000000",
          "2025-12-15T00:00:00.000000000",
          "2025-12-22T00:00:00.000000000",
          "2025-12-29T00:00:00.000000000",
          "2026-01-05T00:00:00.000000000",
          "2026-01-12T00:00:00.000000000",
          "2026-01-19T00:00:00.000000000",
          "2026-01-26T00:00:00.000000000",
          "2026-02-02T00:00:00.000000000",
          "2026-02-09T00:00:00.000000000",
          "2026-02-16T00:00:00.000000000",
          "2026-02-23T00:00:00.000000000",
          "2026-03-02T00:00:00.000000000",
          "2026-03-09T00:00:00.000000000",
          "2026-03-16T00:00:00.000000000",
          "2026-03-23T00:00:00.000000000",
          "2026-03-30T00:00:00.000000000",
          "2026-04-06T00:00:00.000000000",
          "2026-04-13T00:00:00.000000000",
          "2026-04-20T00:00:00.000000000",
          "2026-04-27T00:00:00.000000000",
          "2026-05-04T00:00:00.000000000",
          "2026-05-11T00:00:00.000000000",
          "2026-05-18T00:00:00.000000000",
          "2026-05-25T00:00:00.000000000",
          "2026-06-01T00:00:00.000000000",
          "2026-06-08T00:00:00.000000000",
          "2026-06-15T00:00:00.000000000",
          "2026-06-22T00:00:00.000000000",
          "2026-06-29T00:00:00.000000000",
          "2026-07-06T00:00:00.000000000",
          "2026-07-13T00:00:00.000000000",
          "2026-07-20T00:00:00.000000000",
          "2026-07-27T00:00:00.000000000",
          "2026-08-03T00:00:00.000000000",
          "2026-08-10T00:00:00.000000000",
          "2026-08-17T00:00:00.000000000",
          "2026-08-24T00:00:00.000000000",
          "2026-08-31T00:00:00.000000000",
          "2026-09-07T00:00:00.000000000",
          "2026-09-14T00:00:00.000000000",
          "2026-09-21T00:00:00.000000000",
          "2026-09-28T00:00:00.000000000",
          "2026-10-05T00:00:00.000000000",
          "2026-10-12T00:00:00.000000000",
          "2026-10-19T00:00:00.000000000",
          "2026-10-26T00:00:00.000000000",
          "2026-11-02T00:00:00.000000000",
          "2026-11-09T00:00:00.000000000",
          "2026-11-16T00:00:00.000000000",
          "2026-11-23T00:00:00.000000000",
          "2026-11-30T00:00:00.000000000",
          "2026-12-07T00:00:00.000000000",
          "2026-12-14T00:00:00.000000000",
          "2026-12-21T00:00:00.000000000",
          "2026-12-28T00:00:00.000000000",
          "2027-01-04T00:00:00.000000000",
          "2027-01-11T00:00:00.000000000",
          "2027-01-18T00:00:00.000000000",
          "2027-01-25T00:00:00.000000000",
          "2027-02-01T00:00:00.000000000",
          "2027-02-08T00:00:00.000000000",
          "2027-02-15T00:00:00.000000000",
          "2027-02-22T00:00:00.000000000",
          "2027-03-01T00:00:00.000000000",
          "2027-03-08T00:00:00.000000000",
          "2027-03-15T00:00:00.000000000",
          "2027-03-22T00:00:00.000000000",
          "2027-03-29T00:00:00.000000000",
          "2027-04-05T00:00:00.000000000",
          "2027-04-12T00:00:00.000000000",
          "2027-04-19T00:00:00.000000000",
          "2027-04-26T00:00:00.000000000",
          "2027-05-03T00:00:00.000000000",
          "2027-05-10T00:00:00.000000000",
          "2027-05-17T00:00:00.000000000",
          "2027-05-24T00:00:00.000000000",
          "2027-05-31T00:00:00.000000000",
          "2027-06-07T00:00:00.000000000",
          "2027-06-14T00:00:00.000000000",
          "2027-06-21T00:00:00.000000000",
          "2027-06-28T00:00:00.000000000",
          "2027-07-05T00:00:00.000000000",
          "2027-07-12T00:00:00.000000000",
          "2027-07-19T00:00:00.000000000",
          "2027-07-26T00:00:00.000000000",
          "2027-08-02T00:00:00.000000000",
          "2027-08-09T00:00:00.000000000",
          "2027-08-16T00:00:00.000000000",
          "2027-08-23T00:00:00.000000000",
          "2027-08-30T00:00:00.000000000",
          "2027-09-06T00:00:00.000000000",
          "2027-09-13T00:00:00.000000000",
          "2027-09-20T00:00:00.000000000",
          "2027-09-27T00:00:00.000000000",
          "2027-10-04T00:00:00.000000000",
          "2027-10-11T00:00:00.000000000",
          "2027-10-18T00:00:00.000000000",
          "2027-10-25T00:00:00.000000000",
          "2027-11-01T00:00:00.000000000",
          "2027-11-08T00:00:00.000000000",
          "2027-11-15T00:00:00.000000000",
          "2027-11-22T00:00:00.000000000",
          "2027-11-29T00:00:00.000000000",
          "2027-12-06T00:00:00.000000000",
          "2027-12-13T00:00:00.000000000",
          "2027-12-20T00:00:00.000000000",
          "2027-12-27T00:00:00.000000000"
         ],
         "y": {
          "bdata": "wvinplKAoUCG/Hv5He2iQBhQI2TzHqNA/7mplQ/2oUC2XX4ZTEGhQLoX6jZirZ5AWLigQ8+MnEDlzIbiVfqWQByv0GBvlJRA7nqYKFBSkkDaLDLW9n6QQG9s5a/JipFA6h1qmDV0kEBJBJUZTl2QQG7kP3q5kI5AFsIGVI++jUDoYnyeYWiNQI0FUWUJKY9AdmQ3NlJaj0BwvXViGciNQE5dOBjTh41AkiiuzwXFjUD7i7gkux+NQN/vSkvA6ItAqOcvoStAi0BSCkYsHgGMQBe/AoZ4w4pA9HS+0DayikDuHYvkAZaLQKXSHlmTdItAv+rGspNhikDpzS23bkGJQP7usqc9nYpA7ZrhTs0ZikAry0UdDHuKQCjKHEm/LolAz/S9bLTThkADMnCt19iFQFkV3DXw3IRAF6VsMfi+hECBC+1M1/CDQDO82PMQP4RAyqquKJgThUB7AASW6TGIQD1dFZUeHYxAXBtDRSsrkECZdqlyw6qSQGFoEoO6uJVAjUsCyuR6mUBZ14TtF9KeQFugScU2jqBAvUfCzbqgn0BcLStXP1yfQP15F0TsnaBA1SUBNG24oED3oWiqPNCfQBtFk5ANzZ5AO2oR0jUmnEAcZ1bLPqeaQN4R3IH/0pZAbPfgHEgllUDzmHOX54+TQJFlsKCqRZJAQjohwIbtkkDgFEWoXCOSQFeUMv18BpJAnAqhxaE9kUBga3FhSumQQCWevWcKv5BA3chUawhKkUCIx6mM202RQA/n0y3buJBAlL0uGmmWkEA/zp9pjp6QQNRtS9oVWpBAC6SvXbrIj0A2DxP27T2PQFfrh4I1qI9Al38JBs24jkBA0V7VDZWOQCuOyPN6F49A939wZCLpjkCditHFVBeOQF9X4nXMPI1AkH/P8jkRjkAiU3n7MKGNQBZ+7E08zI1AaRpcWHvUjEC9yz38fyWLQHY58nw/ZYpAlFwu9nSkiUBx2/jIKnqJQH0EKJm22IhAZh4kKAr4iEDHkU60gHKJQK0QPrrueYtAsiGrgk8MjkCIxgxp2GmQQAAq+EGqEJJAk1psqwAYlECfhsGHe5mWQBfc8XhnLZpAfpeFSXSwm0CFbirKM6WaQCO80b7WbJpA7pra9c+nm0D71b+D5MGbQHavd/ntnZpAO/bviK7kmUCfcJknPA+YQGZeTJZIApdAZ91s8M9glEAOlKl1VTSTQKHfLqNpGJJAmdaXiXUvkUCAvXLG+peRQFcUjErrBZFAIeq8vE/pkEBzOYPMRViQQPnZGf05FpBApC2rqYThj0AlQ0H0IEaQQAj379IAQJBADpKLONekj0BX95dTAGWPQMpQldv9Xo9AQ6pem0/xjkAO6yiMCEGOQPOO5b5Y0o1AVF8K/csJjkDDoBPONFeNQGDuOhiyLo1A+WWvwN52jUDxhUMTbEeNQKJJ4MheqYxAA0YqL4YFjEB1C2kEuYWMQLd2y3FAKoxADq52FPI3jEC6N9iyxYCLQCnUJd+YTYpAROuPiT+8iUDX3AKXpSqJQBa4qeYa/4hAZpdMTvSCiEClRYcqgImIQJ5HwSjkzYhAz8ObW0ofikDbnEhU686LQFdah9mOoo1AqQo4nT/Rj0BXOQHxZkGRQPzXCk747JJAl93NLH5SlUDEFSsc0VGWQDZ5jwD6lZVATSH2RgpplUAdX5FcsTeWQA4jlAG0QpZAg8ShKVN2lUCECH2ISPKUQEn+TjXHrZNAQ7WPaSLxkkArMh7HhSKRQCfCkHGeUJBAYAzp8/QTj0ChPR7b0cuNQC60hxf6TI5AekrPIb96jUCe7sj+ukeNQKNhRmMRd4xAFgSAbIMRjEA10KBCxNKLQAG5KJOGOoxAH2W5GWsmjEC9+XvnPIaLQOcLRmJcT4tApe1JaL4/i0C/htzL/OmKQKHFx3E0Z4pAT9X5/u8QikAIDGYTSyuKQMBjOFUyp4lASGV5a7eAiUBqUK1qpqaJQBy9AYKie4lAedFAb8cFiUAJpRk1FIyIQJ9M/TFJ2IhAw3rYYsWPiEBP7nl7ko6IQKO8CaYYCIhAYrsxarMth0B0t+dSAMGGQPrFIQg1VIZAlhRsap8shkDkGc+Wgs6FQBc5TDQByYVAWz+aSHfthUAes4hBOciGQDxc7GDi4odAewchlwIWiUABg8KZ4oaKQDj6YV96UIxArKtarE2KjkA76+cmEOCQQP0adcdeiJFAEXgGvoQEkUDoC8ibgOGQQA7wU4fxaJFAhokwmeRrkUDXlPOH+dyQQGXG3AAXf5BAVg/YTbs9j0DCHdksaTWOQL/dCJz9uYtAJ4Z2Y/+UikDZEDjyU3+JQDdoWimPmIhA7Skecp7niEBvOS1S2FCIQHo3Rqn7JYhA57KSQWWQh0AESftLbEOHQOacyarMEIdAkmFSegZPh0DUow/mZzmHQG4tGGL2xIZAn17NzeiXhkDYKQNigoWGQOWWW/+nQ4ZArSX/YVzjhUCUBZzrRqGFQEGitiiKq4VAvyAsgoZKhUCBdgRi+yiFQJMNu4RBO4VAMo38acAWhUC9YJs4m7+EQOcO71fpZYRABFYel1SShED+3TOYD1qEQIZzUT0nUoRAHyvhuwTwg0BsQIMdF1WDQNzAc1GFBINA8+3HYfCzgkCmoVRRSpKCQIFdSYfBS4JAn0SnKEtBgkB3loohT1OCQARYgRPc4IJA27WbKb+Zg0AKa+BbQWOEQItbnQekVoVA6Y7uuyuGhkDjAs4WxgGIQLC02cIfKIpA+IkKEtkFi0BIchy7+EyKQIA/2wVVF4pA2xTweKvIikAhIiSvjsaKQMjONXDf/olA4MCZnql5iUAKvGDR6kOIQA8bQBzxiodAQE7nBqLWhUA=",
          "dtype": "f8"
         }
        },
        {
         "line": {
          "color": "blue",
          "dash": "dot",
          "width": 2
         },
         "name": "Maintien (niveau 2024)",
         "type": "scatter",
         "x": [
          "2022-11-14T00:00:00.000000000",
          "2022-11-21T00:00:00.000000000",
          "2022-11-28T00:00:00.000000000",
          "2022-12-05T00:00:00.000000000",
          "2022-12-12T00:00:00.000000000",
          "2022-12-19T00:00:00.000000000",
          "2022-12-26T00:00:00.000000000",
          "2023-01-02T00:00:00.000000000",
          "2023-01-09T00:00:00.000000000",
          "2023-01-16T00:00:00.000000000",
          "2023-01-23T00:00:00.000000000",
          "2023-01-30T00:00:00.000000000",
          "2023-02-06T00:00:00.000000000",
          "2023-02-13T00:00:00.000000000",
          "2023-02-20T00:00:00.000000000",
          "2023-02-27T00:00:00.000000000",
          "2023-03-06T00:00:00.000000000",
          "2023-03-13T00:00:00.000000000",
          "2023-03-20T00:00:00.000000000",
          "2023-03-27T00:00:00.000000000",
          "2023-04-03T00:00:00.000000000",
          "2023-04-10T00:00:00.000000000",
          "2023-04-17T00:00:00.000000000",
          "2023-04-24T00:00:00.000000000",
          "2023-05-01T00:00:00.000000000",
          "2023-05-08T00:00:00.000000000",
          "2023-05-15T00:00:00.000000000",
          "2023-05-22T00:00:00.000000000",
          "2023-05-29T00:00:00.000000000",
          "2023-06-05T00:00:00.000000000",
          "2023-06-12T00:00:00.000000000",
          "2023-06-19T00:00:00.000000000",
          "2023-06-26T00:00:00.000000000",
          "2023-07-03T00:00:00.000000000",
          "2023-07-10T00:00:00.000000000",
          "2023-07-17T00:00:00.000000000",
          "2023-07-24T00:00:00.000000000",
          "2023-07-31T00:00:00.000000000",
          "2023-08-07T00:00:00.000000000",
          "2023-08-14T00:00:00.000000000",
          "2023-08-21T00:00:00.000000000",
          "2023-08-28T00:00:00.000000000",
          "2023-09-04T00:00:00.000000000",
          "2023-09-11T00:00:00.000000000",
          "2023-09-18T00:00:00.000000000",
          "2023-09-25T00:00:00.000000000",
          "2023-10-02T00:00:00.000000000",
          "2023-10-09T00:00:00.000000000",
          "2023-10-16T00:00:00.000000000",
          "2023-10-23T00:00:00.000000000",
          "2023-10-30T00:00:00.000000000",
          "2023-11-06T00:00:00.000000000",
          "2023-11-13T00:00:00.000000000",
          "2023-11-20T00:00:00.000000000",
          "2023-11-27T00:00:00.000000000",
          "2023-12-04T00:00:00.000000000",
          "2023-12-11T00:00:00.000000000",
          "2023-12-18T00:00:00.000000000",
          "2023-12-25T00:00:00.000000000",
          "2024-01-01T00:00:00.000000000",
          "2024-01-08T00:00:00.000000000",
          "2024-01-15T00:00:00.000000000",
          "2024-01-22T00:00:00.000000000",
          "2024-01-29T00:00:00.000000000",
          "2024-02-05T00:00:00.000000000",
          "2024-02-12T00:00:00.000000000",
          "2024-02-19T00:00:00.000000000",
          "2024-02-26T00:00:00.000000000",
          "2024-03-04T00:00:00.000000000",
          "2024-03-11T00:00:00.000000000",
          "2024-03-18T00:00:00.000000000",
          "2024-03-25T00:00:00.000000000",
          "2024-04-01T00:00:00.000000000",
          "2024-04-08T00:00:00.000000000",
          "2024-04-15T00:00:00.000000000",
          "2024-04-22T00:00:00.000000000",
          "2024-04-29T00:00:00.000000000",
          "2024-05-06T00:00:00.000000000",
          "2024-05-13T00:00:00.000000000",
          "2024-05-20T00:00:00.000000000",
          "2024-05-27T00:00:00.000000000",
          "2024-06-03T00:00:00.000000000",
          "2024-06-10T00:00:00.000000000",
          "2024-06-17T00:00:00.000000000",
          "2024-06-24T00:00:00.000000000",
          "2024-07-01T00:00:00.000000000",
          "2024-07-08T00:00:00.000000000",
          "2024-07-15T00:00:00.000000000",
          "2024-07-22T00:00:00.000000000",
          "2024-07-29T00:00:00.000000000",
          "2024-08-05T00:00:00.000000000",
          "2024-08-12T00:00:00.000000000",
          "2024-08-19T00:00:00.000000000",
          "2024-08-26T00:00:00.000000000",
          "2024-09-02T00:00:00.000000000",
          "2024-09-09T00:00:00.000000000",
          "2024-09-16T00:00:00.000000000",
          "2024-09-23T00:00:00.000000000",
          "2024-09-30T00:00:00.000000000",
          "2024-10-07T00:00:00.000000000",
          "2024-10-14T00:00:00.000000000",
          "2024-10-21T00:00:00.000000000",
          "2024-10-28T00:00:00.000000000",
          "2024-11-04T00:00:00.000000000",
          "2024-11-11T00:00:00.000000000",
          "2024-11-18T00:00:00.000000000",
          "2024-11-25T00:00:00.000000000",
          "2024-12-02T00:00:00.000000000",
          "2024-12-09T00:00:00.000000000",
          "2024-12-16T00:00:00.000000000",
          "2024-12-23T00:00:00.000000000",
          "2024-12-30T00:00:00.000000000",
          "2025-01-06T00:00:00.000000000",
          "2025-01-13T00:00:00.000000000",
          "2025-01-20T00:00:00.000000000",
          "2025-01-27T00:00:00.000000000",
          "2025-02-03T00:00:00.000000000",
          "2025-02-10T00:00:00.000000000",
          "2025-02-17T00:00:00.000000000",
          "2025-02-24T00:00:00.000000000",
          "2025-03-03T00:00:00.000000000",
          "2025-03-10T00:00:00.000000000",
          "2025-03-17T00:00:00.000000000",
          "2025-03-24T00:00:00.000000000",
          "2025-03-31T00:00:00.000000000",
          "2025-04-07T00:00:00.000000000",
          "2025-04-14T00:00:00.000000000",
          "2025-04-21T00:00:00.000000000",
          "2025-04-28T00:00:00.000000000",
          "2025-05-05T00:00:00.000000000",
          "2025-05-12T00:00:00.000000000",
          "2025-05-19T00:00:00.000000000",
          "2025-05-26T00:00:00.000000000",
          "2025-06-02T00:00:00.000000000",
          "2025-06-09T00:00:00.000000000",
          "2025-06-16T00:00:00.000000000",
          "2025-06-23T00:00:00.000000000",
          "2025-06-30T00:00:00.000000000",
          "2025-07-07T00:00:00.000000000",
          "2025-07-14T00:00:00.000000000",
          "2025-07-21T00:00:00.000000000",
          "2025-07-28T00:00:00.000000000",
          "2025-08-04T00:00:00.000000000",
          "2025-08-11T00:00:00.000000000",
          "2025-08-18T00:00:00.000000000",
          "2025-08-25T00:00:00.000000000",
          "2025-09-01T00:00:00.000000000",
          "2025-09-08T00:00:00.000000000",
          "2025-09-15T00:00:00.000000000",
          "2025-09-22T00:00:00.000000000",
          "2025-09-29T00:00:00.000000000",
          "2025-10-06T00:00:00.000000000",
          "2025-10-13T00:00:00.000000000",
          "2025-10-20T00:00:00.000000000",
          "2025-10-27T00:00:00.000000000",
          "2025-11-03T00:00:00.000000000",
          "2025-11-10T00:00:00.000000000",
          "2025-11-17T00:00:00.000000000",
          "2025-11-24T00:00:00.000000000",
          "2025-12-01T00:00:00.000000000",
          "2025-12-08T00:00:00.000000000",
          "2025-12-15T00:00:00.000000000",
          "2025-12-22T00:00:00.000000000",
          "2025-12-29T00:00:00.000000000",
          "2026-01-05T00:00:00.000000000",
          "2026-01-12T00:00:00.000000000",
          "2026-01-19T00:00:00.000000000",
          "2026-01-26T00:00:00.000000000",
          "2026-02-02T00:00:00.000000000",
          "2026-02-09T00:00:00.000000000",
          "2026-02-16T00:00:00.000000000",
          "2026-02-23T00:00:00.000000000",
          "2026-03-02T00:00:00.000000000",
          "2026-03-09T00:00:00.000000000",
          "2026-03-16T00:00:00.000000000",
          "2026-03-23T00:00:00.000000000",
          "2026-03-30T00:00:00.000000000",
          "2026-04-06T00:00:00.000000000",
          "2026-04-13T00:00:00.000000000",
          "2026-04-20T00:00:00.000000000",
          "2026-04-27T00:00:00.000000000",
          "2026-05-04T00:00:00.000000000",
          "2026-05-11T00:00:00.000000000",
          "2026-05-18T00:00:00.000000000",
          "2026-05-25T00:00:00.000000000",
          "2026-06-01T00:00:00.000000000",
          "2026-06-08T00:00:00.000000000",
          "2026-06-15T00:00:00.000000000",
          "2026-06-22T00:00:00.000000000",
          "2026-06-29T00:00:00.000000000",
          "2026-07-06T00:00:00.000000000",
          "2026-07-13T00:00:00.000000000",
          "2026-07-20T00:00:00.000000000",
          "2026-07-27T00:00:00.000000000",
          "2026-08-03T00:00:00.000000000",
          "2026-08-10T00:00:00.000000000",
          "2026-08-17T00:00:00.000000000",
          "2026-08-24T00:00:00.000000000",
          "2026-08-31T00:00:00.000000000",
          "2026-09-07T00:00:00.000000000",
          "2026-09-14T00:00:00.000000000",
          "2026-09-21T00:00:00.000000000",
          "2026-09-28T00:00:00.000000000",
          "2026-10-05T00:00:00.000000000",
          "2026-10-12T00:00:00.000000000",
          "2026-10-19T00:00:00.000000000",
          "2026-10-26T00:00:00.000000000",
          "2026-11-02T00:00:00.000000000",
          "2026-11-09T00:00:00.000000000",
          "2026-11-16T00:00:00.000000000",
          "2026-11-23T00:00:00.000000000",
          "2026-11-30T00:00:00.000000000",
          "2026-12-07T00:00:00.000000000",
          "2026-12-14T00:00:00.000000000",
          "2026-12-21T00:00:00.000000000",
          "2026-12-28T00:00:00.000000000",
          "2027-01-04T00:00:00.000000000",
          "2027-01-11T00:00:00.000000000",
          "2027-01-18T00:00:00.000000000",
          "2027-01-25T00:00:00.000000000",
          "2027-02-01T00:00:00.000000000",
          "2027-02-08T00:00:00.000000000",
          "2027-02-15T00:00:00.000000000",
          "2027-02-22T00:00:00.000000000",
          "2027-03-01T00:00:00.000000000",
          "2027-03-08T00:00:00.000000000",
          "2027-03-15T00:00:00.000000000",
          "2027-03-22T00:00:00.000000000",
          "2027-03-29T00:00:00.000000000",
          "2027-04-05T00:00:00.000000000",
          "2027-04-12T00:00:00.000000000",
          "2027-04-19T00:00:00.000000000",
          "2027-04-26T00:00:00.000000000",
          "2027-05-03T00:00:00.000000000",
          "2027-05-10T00:00:00.000000000",
          "2027-05-17T00:00:00.000000000",
          "2027-05-24T00:00:00.000000000",
          "2027-05-31T00:00:00.000000000",
          "2027-06-07T00:00:00.000000000",
          "2027-06-14T00:00:00.000000000",
          "2027-06-21T00:00:00.000000000",
          "2027-06-28T00:00:00.000000000",
          "2027-07-05T00:00:00.000000000",
          "2027-07-12T00:00:00.000000000",
          "2027-07-19T00:00:00.000000000",
          "2027-07-26T00:00:00.000000000",
          "2027-08-02T00:00:00.000000000",
          "2027-08-09T00:00:00.000000000",
          "2027-08-16T00:00:00.000000000",
          "2027-08-23T00:00:00.000000000",
          "2027-08-30T00:00:00.000000000",
          "2027-09-06T00:00:00.000000000",
          "2027-09-13T00:00:00.000000000",
          "2027-09-20T00:00:00.000000000",
          "2027-09-27T00:00:00.000000000",
          "2027-10-04T00:00:00.000000000",
          "2027-10-11T00:00:00.000000000",
          "2027-10-18T00:00:00.000000000",
          "2027-10-25T00:00:00.000000000",
          "2027-11-01T00:00:00.000000000",
          "2027-11-08T00:00:00.000000000",
          "2027-11-15T00:00:00.000000000",
          "2027-11-22T00:00:00.000000000",
          "2027-11-29T00:00:00.000000000",
          "2027-12-06T00:00:00.000000000",
          "2027-12-13T00:00:00.000000000",
          "2027-12-20T00:00:00.000000000",
          "2027-12-27T00:00:00.000000000"
         ],
         "y": {
          "bdata": "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",
          "dtype": "f8"
         }
        },
        {
         "line": {
          "color": "green",
          "dash": "dot",
          "width": 2
         },
         "name": "Renforcement (+40%)",
         "type": "scatter",
         "x": [
          "2022-11-14T00:00:00.000000000",
          "2022-11-21T00:00:00.000000000",
          "2022-11-28T00:00:00.000000000",
          "2022-12-05T00:00:00.000000000",
          "2022-12-12T00:00:00.000000000",
          "2022-12-19T00:00:00.000000000",
          "2022-12-26T00:00:00.000000000",
          "2023-01-02T00:00:00.000000000",
          "2023-01-09T00:00:00.000000000",
          "2023-01-16T00:00:00.000000000",
          "2023-01-23T00:00:00.000000000",
          "2023-01-30T00:00:00.000000000",
          "2023-02-06T00:00:00.000000000",
          "2023-02-13T00:00:00.000000000",
          "2023-02-20T00:00:00.000000000",
          "2023-02-27T00:00:00.000000000",
          "2023-03-06T00:00:00.000000000",
          "2023-03-13T00:00:00.000000000",
          "2023-03-20T00:00:00.000000000",
          "2023-03-27T00:00:00.000000000",
          "2023-04-03T00:00:00.000000000",
          "2023-04-10T00:00:00.000000000",
          "2023-04-17T00:00:00.000000000",
          "2023-04-24T00:00:00.000000000",
          "2023-05-01T00:00:00.000000000",
          "2023-05-08T00:00:00.000000000",
          "2023-05-15T00:00:00.000000000",
          "2023-05-22T00:00:00.000000000",
          "2023-05-29T00:00:00.000000000",
          "2023-06-05T00:00:00.000000000",
          "2023-06-12T00:00:00.000000000",
          "2023-06-19T00:00:00.000000000",
          "2023-06-26T00:00:00.000000000",
          "2023-07-03T00:00:00.000000000",
          "2023-07-10T00:00:00.000000000",
          "2023-07-17T00:00:00.000000000",
          "2023-07-24T00:00:00.000000000",
          "2023-07-31T00:00:00.000000000",
          "2023-08-07T00:00:00.000000000",
          "2023-08-14T00:00:00.000000000",
          "2023-08-21T00:00:00.000000000",
          "2023-08-28T00:00:00.000000000",
          "2023-09-04T00:00:00.000000000",
          "2023-09-11T00:00:00.000000000",
          "2023-09-18T00:00:00.000000000",
          "2023-09-25T00:00:00.000000000",
          "2023-10-02T00:00:00.000000000",
          "2023-10-09T00:00:00.000000000",
          "2023-10-16T00:00:00.000000000",
          "2023-10-23T00:00:00.000000000",
          "2023-10-30T00:00:00.000000000",
          "2023-11-06T00:00:00.000000000",
          "2023-11-13T00:00:00.000000000",
          "2023-11-20T00:00:00.000000000",
          "2023-11-27T00:00:00.000000000",
          "2023-12-04T00:00:00.000000000",
          "2023-12-11T00:00:00.000000000",
          "2023-12-18T00:00:00.000000000",
          "2023-12-25T00:00:00.000000000",
          "2024-01-01T00:00:00.000000000",
          "2024-01-08T00:00:00.000000000",
          "2024-01-15T00:00:00.000000000",
          "2024-01-22T00:00:00.000000000",
          "2024-01-29T00:00:00.000000000",
          "2024-02-05T00:00:00.000000000",
          "2024-02-12T00:00:00.000000000",
          "2024-02-19T00:00:00.000000000",
          "2024-02-26T00:00:00.000000000",
          "2024-03-04T00:00:00.000000000",
          "2024-03-11T00:00:00.000000000",
          "2024-03-18T00:00:00.000000000",
          "2024-03-25T00:00:00.000000000",
          "2024-04-01T00:00:00.000000000",
          "2024-04-08T00:00:00.000000000",
          "2024-04-15T00:00:00.000000000",
          "2024-04-22T00:00:00.000000000",
          "2024-04-29T00:00:00.000000000",
          "2024-05-06T00:00:00.000000000",
          "2024-05-13T00:00:00.000000000",
          "2024-05-20T00:00:00.000000000",
          "2024-05-27T00:00:00.000000000",
          "2024-06-03T00:00:00.000000000",
          "2024-06-10T00:00:00.000000000",
          "2024-06-17T00:00:00.000000000",
          "2024-06-24T00:00:00.000000000",
          "2024-07-01T00:00:00.000000000",
          "2024-07-08T00:00:00.000000000",
          "2024-07-15T00:00:00.000000000",
          "2024-07-22T00:00:00.000000000",
          "2024-07-29T00:00:00.000000000",
          "2024-08-05T00:00:00.000000000",
          "2024-08-12T00:00:00.000000000",
          "2024-08-19T00:00:00.000000000",
          "2024-08-26T00:00:00.000000000",
          "2024-09-02T00:00:00.000000000",
          "2024-09-09T00:00:00.000000000",
          "2024-09-16T00:00:00.000000000",
          "2024-09-23T00:00:00.000000000",
          "2024-09-30T00:00:00.000000000",
          "2024-10-07T00:00:00.000000000",
          "2024-10-14T00:00:00.000000000",
          "2024-10-21T00:00:00.000000000",
          "2024-10-28T00:00:00.000000000",
          "2024-11-04T00:00:00.000000000",
          "2024-11-11T00:00:00.000000000",
          "2024-11-18T00:00:00.000000000",
          "2024-11-25T00:00:00.000000000",
          "2024-12-02T00:00:00.000000000",
          "2024-12-09T00:00:00.000000000",
          "2024-12-16T00:00:00.000000000",
          "2024-12-23T00:00:00.000000000",
          "2024-12-30T00:00:00.000000000",
          "2025-01-06T00:00:00.000000000",
          "2025-01-13T00:00:00.000000000",
          "2025-01-20T00:00:00.000000000",
          "2025-01-27T00:00:00.000000000",
          "2025-02-03T00:00:00.000000000",
          "2025-02-10T00:00:00.000000000",
          "2025-02-17T00:00:00.000000000",
          "2025-02-24T00:00:00.000000000",
          "2025-03-03T00:00:00.000000000",
          "2025-03-10T00:00:00.000000000",
          "2025-03-17T00:00:00.000000000",
          "2025-03-24T00:00:00.000000000",
          "2025-03-31T00:00:00.000000000",
          "2025-04-07T00:00:00.000000000",
          "2025-04-14T00:00:00.000000000",
          "2025-04-21T00:00:00.000000000",
          "2025-04-28T00:00:00.000000000",
          "2025-05-05T00:00:00.000000000",
          "2025-05-12T00:00:00.000000000",
          "2025-05-19T00:00:00.000000000",
          "2025-05-26T00:00:00.000000000",
          "2025-06-02T00:00:00.000000000",
          "2025-06-09T00:00:00.000000000",
          "2025-06-16T00:00:00.000000000",
          "2025-06-23T00:00:00.000000000",
          "2025-06-30T00:00:00.000000000",
          "2025-07-07T00:00:00.000000000",
          "2025-07-14T00:00:00.000000000",
          "2025-07-21T00:00:00.000000000",
          "2025-07-28T00:00:00.000000000",
          "2025-08-04T00:00:00.000000000",
          "2025-08-11T00:00:00.000000000",
          "2025-08-18T00:00:00.000000000",
          "2025-08-25T00:00:00.000000000",
          "2025-09-01T00:00:00.000000000",
          "2025-09-08T00:00:00.000000000",
          "2025-09-15T00:00:00.000000000",
          "2025-09-22T00:00:00.000000000",
          "2025-09-29T00:00:00.000000000",
          "2025-10-06T00:00:00.000000000",
          "2025-10-13T00:00:00.000000000",
          "2025-10-20T00:00:00.000000000",
          "2025-10-27T00:00:00.000000000",
          "2025-11-03T00:00:00.000000000",
          "2025-11-10T00:00:00.000000000",
          "2025-11-17T00:00:00.000000000",
          "2025-11-24T00:00:00.000000000",
          "2025-12-01T00:00:00.000000000",
          "2025-12-08T00:00:00.000000000",
          "2025-12-15T00:00:00.000000000",
          "2025-12-22T00:00:00.000000000",
          "2025-12-29T00:00:00.000000000",
          "2026-01-05T00:00:00.000000000",
          "2026-01-12T00:00:00.000000000",
          "2026-01-19T00:00:00.000000000",
          "2026-01-26T00:00:00.000000000",
          "2026-02-02T00:00:00.000000000",
          "2026-02-09T00:00:00.000000000",
          "2026-02-16T00:00:00.000000000",
          "2026-02-23T00:00:00.000000000",
          "2026-03-02T00:00:00.000000000",
          "2026-03-09T00:00:00.000000000",
          "2026-03-16T00:00:00.000000000",
          "2026-03-23T00:00:00.000000000",
          "2026-03-30T00:00:00.000000000",
          "2026-04-06T00:00:00.000000000",
          "2026-04-13T00:00:00.000000000",
          "2026-04-20T00:00:00.000000000",
          "2026-04-27T00:00:00.000000000",
          "2026-05-04T00:00:00.000000000",
          "2026-05-11T00:00:00.000000000",
          "2026-05-18T00:00:00.000000000",
          "2026-05-25T00:00:00.000000000",
          "2026-06-01T00:00:00.000000000",
          "2026-06-08T00:00:00.000000000",
          "2026-06-15T00:00:00.000000000",
          "2026-06-22T00:00:00.000000000",
          "2026-06-29T00:00:00.000000000",
          "2026-07-06T00:00:00.000000000",
          "2026-07-13T00:00:00.000000000",
          "2026-07-20T00:00:00.000000000",
          "2026-07-27T00:00:00.000000000",
          "2026-08-03T00:00:00.000000000",
          "2026-08-10T00:00:00.000000000",
          "2026-08-17T00:00:00.000000000",
          "2026-08-24T00:00:00.000000000",
          "2026-08-31T00:00:00.000000000",
          "2026-09-07T00:00:00.000000000",
          "2026-09-14T00:00:00.000000000",
          "2026-09-21T00:00:00.000000000",
          "2026-09-28T00:00:00.000000000",
          "2026-10-05T00:00:00.000000000",
          "2026-10-12T00:00:00.000000000",
          "2026-10-19T00:00:00.000000000",
          "2026-10-26T00:00:00.000000000",
          "2026-11-02T00:00:00.000000000",
          "2026-11-09T00:00:00.000000000",
          "2026-11-16T00:00:00.000000000",
          "2026-11-23T00:00:00.000000000",
          "2026-11-30T00:00:00.000000000",
          "2026-12-07T00:00:00.000000000",
          "2026-12-14T00:00:00.000000000",
          "2026-12-21T00:00:00.000000000",
          "2026-12-28T00:00:00.000000000",
          "2027-01-04T00:00:00.000000000",
          "2027-01-11T00:00:00.000000000",
          "2027-01-18T00:00:00.000000000",
          "2027-01-25T00:00:00.000000000",
          "2027-02-01T00:00:00.000000000",
          "2027-02-08T00:00:00.000000000",
          "2027-02-15T00:00:00.000000000",
          "2027-02-22T00:00:00.000000000",
          "2027-03-01T00:00:00.000000000",
          "2027-03-08T00:00:00.000000000",
          "2027-03-15T00:00:00.000000000",
          "2027-03-22T00:00:00.000000000",
          "2027-03-29T00:00:00.000000000",
          "2027-04-05T00:00:00.000000000",
          "2027-04-12T00:00:00.000000000",
          "2027-04-19T00:00:00.000000000",
          "2027-04-26T00:00:00.000000000",
          "2027-05-03T00:00:00.000000000",
          "2027-05-10T00:00:00.000000000",
          "2027-05-17T00:00:00.000000000",
          "2027-05-24T00:00:00.000000000",
          "2027-05-31T00:00:00.000000000",
          "2027-06-07T00:00:00.000000000",
          "2027-06-14T00:00:00.000000000",
          "2027-06-21T00:00:00.000000000",
          "2027-06-28T00:00:00.000000000",
          "2027-07-05T00:00:00.000000000",
          "2027-07-12T00:00:00.000000000",
          "2027-07-19T00:00:00.000000000",
          "2027-07-26T00:00:00.000000000",
          "2027-08-02T00:00:00.000000000",
          "2027-08-09T00:00:00.000000000",
          "2027-08-16T00:00:00.000000000",
          "2027-08-23T00:00:00.000000000",
          "2027-08-30T00:00:00.000000000",
          "2027-09-06T00:00:00.000000000",
          "2027-09-13T00:00:00.000000000",
          "2027-09-20T00:00:00.000000000",
          "2027-09-27T00:00:00.000000000",
          "2027-10-04T00:00:00.000000000",
          "2027-10-11T00:00:00.000000000",
          "2027-10-18T00:00:00.000000000",
          "2027-10-25T00:00:00.000000000",
          "2027-11-01T00:00:00.000000000",
          "2027-11-08T00:00:00.000000000",
          "2027-11-15T00:00:00.000000000",
          "2027-11-22T00:00:00.000000000",
          "2027-11-29T00:00:00.000000000",
          "2027-12-06T00:00:00.000000000",
          "2027-12-13T00:00:00.000000000",
          "2027-12-20T00:00:00.000000000",
          "2027-12-27T00:00:00.000000000"
         ],
         "y": {
          "bdata": "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",
          "dtype": "f8"
         }
        }
       ],
       "layout": {
        "height": 700,
        "legend": {
         "orientation": "h",
         "y": -0.25
        },
        "shapes": [
         {
          "line": {
           "color": "red",
           "dash": "dash"
          },
          "type": "line",
          "x0": "2020-03-01T00:00:00",
          "x1": "2020-03-01T00:00:00",
          "xref": "x",
          "y0": 0,
          "y1": 1,
          "yref": "y domain"
         },
         {
          "line": {
           "color": "green",
           "dash": "dash"
          },
          "type": "line",
          "x0": "2021-01-01T00:00:00",
          "x1": "2021-01-01T00:00:00",
          "xref": "x",
          "y0": 0,
          "y1": 1,
          "yref": "y domain"
         },
         {
          "line": {
           "color": "gray",
           "dash": "dash"
          },
          "type": "line",
          "x0": "2022-11-14T00:00:00",
          "x1": "2022-11-14T00:00:00",
          "xref": "x",
          "y0": 0,
          "y1": 1,
          "yref": "y domain"
         }
        ],
        "template": {
         "data": {
          "bar": [
           {
            "error_x": {
             "color": "#2a3f5f"
            },
            "error_y": {
             "color": "#2a3f5f"
            },
            "marker": {
             "line": {
              "color": "white",
              "width": 0.5
             },
             "pattern": {
              "fillmode": "overlay",
              "size": 10,
              "solidity": 0.2
             }
            },
            "type": "bar"
           }
          ],
          "barpolar": [
           {
            "marker": {
             "line": {
              "color": "white",
              "width": 0.5
             },
             "pattern": {
              "fillmode": "overlay",
              "size": 10,
              "solidity": 0.2
             }
            },
            "type": "barpolar"
           }
          ],
          "carpet": [
           {
            "aaxis": {
             "endlinecolor": "#2a3f5f",
             "gridcolor": "#C8D4E3",
             "linecolor": "#C8D4E3",
             "minorgridcolor": "#C8D4E3",
             "startlinecolor": "#2a3f5f"
            },
            "baxis": {
             "endlinecolor": "#2a3f5f",
             "gridcolor": "#C8D4E3",
             "linecolor": "#C8D4E3",
             "minorgridcolor": "#C8D4E3",
             "startlinecolor": "#2a3f5f"
            },
            "type": "carpet"
           }
          ],
          "choropleth": [
           {
            "colorbar": {
             "outlinewidth": 0,
             "ticks": ""
            },
            "type": "choropleth"
           }
          ],
          "contour": [
           {
            "colorbar": {
             "outlinewidth": 0,
             "ticks": ""
            },
            "colorscale": [
             [
              0,
              "#0d0887"
             ],
             [
              0.1111111111111111,
              "#46039f"
             ],
             [
              0.2222222222222222,
              "#7201a8"
             ],
             [
              0.3333333333333333,
              "#9c179e"
             ],
             [
              0.4444444444444444,
              "#bd3786"
             ],
             [
              0.5555555555555556,
              "#d8576b"
             ],
             [
              0.6666666666666666,
              "#ed7953"
             ],
             [
              0.7777777777777778,
              "#fb9f3a"
             ],
             [
              0.8888888888888888,
              "#fdca26"
             ],
             [
              1,
              "#f0f921"
             ]
            ],
            "type": "contour"
           }
          ],
          "contourcarpet": [
           {
            "colorbar": {
             "outlinewidth": 0,
             "ticks": ""
            },
            "type": "contourcarpet"
           }
          ],
          "heatmap": [
           {
            "colorbar": {
             "outlinewidth": 0,
             "ticks": ""
            },
            "colorscale": [
             [
              0,
              "#0d0887"
             ],
             [
              0.1111111111111111,
              "#46039f"
             ],
             [
              0.2222222222222222,
              "#7201a8"
             ],
             [
              0.3333333333333333,
              "#9c179e"
             ],
             [
              0.4444444444444444,
              "#bd3786"
             ],
             [
              0.5555555555555556,
              "#d8576b"
             ],
             [
              0.6666666666666666,
              "#ed7953"
             ],
             [
              0.7777777777777778,
              "#fb9f3a"
             ],
             [
              0.8888888888888888,
              "#fdca26"
             ],
             [
              1,
              "#f0f921"
             ]
            ],
            "type": "heatmap"
           }
          ],
          "histogram": [
           {
            "marker": {
             "pattern": {
              "fillmode": "overlay",
              "size": 10,
              "solidity": 0.2
             }
            },
            "type": "histogram"
           }
          ],
          "histogram2d": [
           {
            "colorbar": {
             "outlinewidth": 0,
             "ticks": ""
            },
            "colorscale": [
             [
              0,
              "#0d0887"
             ],
             [
              0.1111111111111111,
              "#46039f"
             ],
             [
              0.2222222222222222,
              "#7201a8"
             ],
             [
              0.3333333333333333,
              "#9c179e"
             ],
             [
              0.4444444444444444,
              "#bd3786"
             ],
             [
              0.5555555555555556,
              "#d8576b"
             ],
             [
              0.6666666666666666,
              "#ed7953"
             ],
             [
              0.7777777777777778,
              "#fb9f3a"
             ],
             [
              0.8888888888888888,
              "#fdca26"
             ],
             [
              1,
              "#f0f921"
             ]
            ],
            "type": "histogram2d"
           }
          ],
          "histogram2dcontour": [
           {
            "colorbar": {
             "outlinewidth": 0,
             "ticks": ""
            },
            "colorscale": [
             [
              0,
              "#0d0887"
             ],
             [
              0.1111111111111111,
              "#46039f"
             ],
             [
              0.2222222222222222,
              "#7201a8"
             ],
             [
              0.3333333333333333,
              "#9c179e"
             ],
             [
              0.4444444444444444,
              "#bd3786"
             ],
             [
              0.5555555555555556,
              "#d8576b"
             ],
             [
              0.6666666666666666,
              "#ed7953"
             ],
             [
              0.7777777777777778,
              "#fb9f3a"
             ],
             [
              0.8888888888888888,
              "#fdca26"
             ],
             [
              1,
              "#f0f921"
             ]
            ],
            "type": "histogram2dcontour"
           }
          ],
          "mesh3d": [
           {
            "colorbar": {
             "outlinewidth": 0,
             "ticks": ""
            },
            "type": "mesh3d"
           }
          ],
          "parcoords": [
           {
            "line": {
             "colorbar": {
              "outlinewidth": 0,
              "ticks": ""
             }
            },
            "type": "parcoords"
           }
          ],
          "pie": [
           {
            "automargin": true,
            "type": "pie"
           }
          ],
          "scatter": [
           {
            "fillpattern": {
             "fillmode": "overlay",
             "size": 10,
             "solidity": 0.2
            },
            "type": "scatter"
           }
          ],
          "scatter3d": [
           {
            "line": {
             "colorbar": {
              "outlinewidth": 0,
              "ticks": ""
             }
            },
            "marker": {
             "colorbar": {
              "outlinewidth": 0,
              "ticks": ""
             }
            },
            "type": "scatter3d"
           }
          ],
          "scattercarpet": [
           {
            "marker": {
             "colorbar": {
              "outlinewidth": 0,
              "ticks": ""
             }
            },
            "type": "scattercarpet"
           }
          ],
          "scattergeo": [
           {
            "marker": {
             "colorbar": {
              "outlinewidth": 0,
              "ticks": ""
             }
            },
            "type": "scattergeo"
           }
          ],
          "scattergl": [
           {
            "marker": {
             "colorbar": {
              "outlinewidth": 0,
              "ticks": ""
             }
            },
            "type": "scattergl"
           }
          ],
          "scattermap": [
           {
            "marker": {
             "colorbar": {
              "outlinewidth": 0,
              "ticks": ""
             }
            },
            "type": "scattermap"
           }
          ],
          "scattermapbox": [
           {
            "marker": {
             "colorbar": {
              "outlinewidth": 0,
              "ticks": ""
             }
            },
            "type": "scattermapbox"
           }
          ],
          "scatterpolar": [
           {
            "marker": {
             "colorbar": {
              "outlinewidth": 0,
              "ticks": ""
             }
            },
            "type": "scatterpolar"
           }
          ],
          "scatterpolargl": [
           {
            "marker": {
             "colorbar": {
              "outlinewidth": 0,
              "ticks": ""
             }
            },
            "type": "scatterpolargl"
           }
          ],
          "scatterternary": [
           {
            "marker": {
             "colorbar": {
              "outlinewidth": 0,
              "ticks": ""
             }
            },
            "type": "scatterternary"
           }
          ],
          "surface": [
           {
            "colorbar": {
             "outlinewidth": 0,
             "ticks": ""
            },
            "colorscale": [
             [
              0,
              "#0d0887"
             ],
             [
              0.1111111111111111,
              "#46039f"
             ],
             [
              0.2222222222222222,
              "#7201a8"
             ],
             [
              0.3333333333333333,
              "#9c179e"
             ],
             [
              0.4444444444444444,
              "#bd3786"
             ],
             [
              0.5555555555555556,
              "#d8576b"
             ],
             [
              0.6666666666666666,
              "#ed7953"
             ],
             [
              0.7777777777777778,
              "#fb9f3a"
             ],
             [
              0.8888888888888888,
              "#fdca26"
             ],
             [
              1,
              "#f0f921"
             ]
            ],
            "type": "surface"
           }
          ],
          "table": [
           {
            "cells": {
             "fill": {
              "color": "#EBF0F8"
             },
             "line": {
              "color": "white"
             }
            },
            "header": {
             "fill": {
              "color": "#C8D4E3"
             },
             "line": {
              "color": "white"
             }
            },
            "type": "table"
           }
          ]
         },
         "layout": {
          "annotationdefaults": {
           "arrowcolor": "#2a3f5f",
           "arrowhead": 0,
           "arrowwidth": 1
          },
          "autotypenumbers": "strict",
          "coloraxis": {
           "colorbar": {
            "outlinewidth": 0,
            "ticks": ""
           }
          },
          "colorscale": {
           "diverging": [
            [
             0,
             "#8e0152"
            ],
            [
             0.1,
             "#c51b7d"
            ],
            [
             0.2,
             "#de77ae"
            ],
            [
             0.3,
             "#f1b6da"
            ],
            [
             0.4,
             "#fde0ef"
            ],
            [
             0.5,
             "#f7f7f7"
            ],
            [
             0.6,
             "#e6f5d0"
            ],
            [
             0.7,
             "#b8e186"
            ],
            [
             0.8,
             "#7fbc41"
            ],
            [
             0.9,
             "#4d9221"
            ],
            [
             1,
             "#276419"
            ]
           ],
           "sequential": [
            [
             0,
             "#0d0887"
            ],
            [
             0.1111111111111111,
             "#46039f"
            ],
            [
             0.2222222222222222,
             "#7201a8"
            ],
            [
             0.3333333333333333,
             "#9c179e"
            ],
            [
             0.4444444444444444,
             "#bd3786"
            ],
            [
             0.5555555555555556,
             "#d8576b"
            ],
            [
             0.6666666666666666,
             "#ed7953"
            ],
            [
             0.7777777777777778,
             "#fb9f3a"
            ],
            [
             0.8888888888888888,
             "#fdca26"
            ],
            [
             1,
             "#f0f921"
            ]
           ],
           "sequentialminus": [
            [
             0,
             "#0d0887"
            ],
            [
             0.1111111111111111,
             "#46039f"
            ],
            [
             0.2222222222222222,
             "#7201a8"
            ],
            [
             0.3333333333333333,
             "#9c179e"
            ],
            [
             0.4444444444444444,
             "#bd3786"
            ],
            [
             0.5555555555555556,
             "#d8576b"
            ],
            [
             0.6666666666666666,
             "#ed7953"
            ],
            [
             0.7777777777777778,
             "#fb9f3a"
            ],
            [
             0.8888888888888888,
             "#fdca26"
            ],
            [
             1,
             "#f0f921"
            ]
           ]
          },
          "colorway": [
           "#636efa",
           "#EF553B",
           "#00cc96",
           "#ab63fa",
           "#FFA15A",
           "#19d3f3",
           "#FF6692",
           "#B6E880",
           "#FF97FF",
           "#FECB52"
          ],
          "font": {
           "color": "#2a3f5f"
          },
          "geo": {
           "bgcolor": "white",
           "lakecolor": "white",
           "landcolor": "white",
           "showlakes": true,
           "showland": true,
           "subunitcolor": "#C8D4E3"
          },
          "hoverlabel": {
           "align": "left"
          },
          "hovermode": "closest",
          "mapbox": {
           "style": "light"
          },
          "paper_bgcolor": "white",
          "plot_bgcolor": "white",
          "polar": {
           "angularaxis": {
            "gridcolor": "#EBF0F8",
            "linecolor": "#EBF0F8",
            "ticks": ""
           },
           "bgcolor": "white",
           "radialaxis": {
            "gridcolor": "#EBF0F8",
            "linecolor": "#EBF0F8",
            "ticks": ""
           }
          },
          "scene": {
           "xaxis": {
            "backgroundcolor": "white",
            "gridcolor": "#DFE8F3",
            "gridwidth": 2,
            "linecolor": "#EBF0F8",
            "showbackground": true,
            "ticks": "",
            "zerolinecolor": "#EBF0F8"
           },
           "yaxis": {
            "backgroundcolor": "white",
            "gridcolor": "#DFE8F3",
            "gridwidth": 2,
            "linecolor": "#EBF0F8",
            "showbackground": true,
            "ticks": "",
            "zerolinecolor": "#EBF0F8"
           },
           "zaxis": {
            "backgroundcolor": "white",
            "gridcolor": "#DFE8F3",
            "gridwidth": 2,
            "linecolor": "#EBF0F8",
            "showbackground": true,
            "ticks": "",
            "zerolinecolor": "#EBF0F8"
           }
          },
          "shapedefaults": {
           "line": {
            "color": "#2a3f5f"
           }
          },
          "ternary": {
           "aaxis": {
            "gridcolor": "#DFE8F3",
            "linecolor": "#A2B1C6",
            "ticks": ""
           },
           "baxis": {
            "gridcolor": "#DFE8F3",
            "linecolor": "#A2B1C6",
            "ticks": ""
           },
           "bgcolor": "white",
           "caxis": {
            "gridcolor": "#DFE8F3",
            "linecolor": "#A2B1C6",
            "ticks": ""
           }
          },
          "title": {
           "x": 0.05
          },
          "xaxis": {
           "automargin": true,
           "gridcolor": "#EBF0F8",
           "linecolor": "#EBF0F8",
           "ticks": "",
           "title": {
            "standoff": 15
           },
           "zerolinecolor": "#EBF0F8",
           "zerolinewidth": 2
          },
          "yaxis": {
           "automargin": true,
           "gridcolor": "#EBF0F8",
           "linecolor": "#EBF0F8",
           "ticks": "",
           "title": {
            "standoff": 15
           },
           "zerolinecolor": "#EBF0F8",
           "zerolinewidth": 2
          }
         }
        },
        "title": {
         "text": "🔮 Prévisions RSV — SARIMAX (2018–2027, stabilisées et réalistes)"
        },
        "xaxis": {
         "title": {
          "text": "Semaine ISO"
         }
        },
        "yaxis": {
         "title": {
          "text": "RSV simulé (taux hebdomadaire)"
         }
        }
       }
      }
     },
     "metadata": {},
     "output_type": "display_data"
    },
    {
     "data": {
      "text/html": [
       "<div>\n",
       "<style scoped>\n",
       "    .dataframe tbody tr th:only-of-type {\n",
       "        vertical-align: middle;\n",
       "    }\n",
       "\n",
       "    .dataframe tbody tr th {\n",
       "        vertical-align: top;\n",
       "    }\n",
       "\n",
       "    .dataframe thead th {\n",
       "        text-align: right;\n",
       "    }\n",
       "</style>\n",
       "<table border=\"1\" class=\"dataframe\">\n",
       "  <thead>\n",
       "    <tr style=\"text-align: right;\">\n",
       "      <th></th>\n",
       "      <th>Scénario</th>\n",
       "      <th>RSV_moyen</th>\n",
       "      <th>RSV_max</th>\n",
       "      <th>Δ_vs_maintien</th>\n",
       "    </tr>\n",
       "  </thead>\n",
       "  <tbody>\n",
       "    <tr>\n",
       "      <th>0</th>\n",
       "      <td>Relâchement (-30%)</td>\n",
       "      <td>1023.6</td>\n",
       "      <td>2447.5</td>\n",
       "      <td>2.3</td>\n",
       "    </tr>\n",
       "    <tr>\n",
       "      <th>1</th>\n",
       "      <td>Maintien (2024)</td>\n",
       "      <td>1021.3</td>\n",
       "      <td>2442.2</td>\n",
       "      <td>0.0</td>\n",
       "    </tr>\n",
       "    <tr>\n",
       "      <th>2</th>\n",
       "      <td>Renforcement (+40%)</td>\n",
       "      <td>970.3</td>\n",
       "      <td>2326.2</td>\n",
       "      <td>-51.0</td>\n",
       "    </tr>\n",
       "  </tbody>\n",
       "</table>\n",
       "</div>"
      ],
      "text/plain": [
       "              Scénario  RSV_moyen  RSV_max  Δ_vs_maintien\n",
       "0   Relâchement (-30%)     1023.6   2447.5            2.3\n",
       "1      Maintien (2024)     1021.3   2442.2            0.0\n",
       "2  Renforcement (+40%)      970.3   2326.2          -51.0"
      ]
     },
     "metadata": {},
     "output_type": "display_data"
    },
    {
     "name": "stdout",
     "output_type": "stream",
     "text": [
      "✅ Prévisions stabilisées jusqu'à fin 2027, sans dérive artificielle.\n"
     ]
    }
   ],
   "source": [
    "# ==========================================\n",
    "# 🧱 BLOC 8 — Prévisions SARIMAX 2025–2027 (stabilisées + réalistes)\n",
    "# ==========================================\n",
    "import numpy as np\n",
    "import pandas as pd\n",
    "import plotly.graph_objects as go\n",
    "\n",
    "assert \"sarimax_best\" in globals(), \"⚠️ Charge d'abord le modèle SARIMAX optimisé (Bloc 4).\"\n",
    "\n",
    "# --- Exogènes utilisées lors du fit SARIMAX\n",
    "exog_cols = [\n",
    "    \"cov12_lag\",\"MNP_lag\",\"work_lag\",\"tmean_z\",\"vacc_x_mnp\",\n",
    "    \"post_covid\",\"post_vacc\",\"t_post_covid\",\"t\"\n",
    "]\n",
    "\n",
    "# --- Source alignée sur le fit SARIMAX\n",
    "source_df = df_sx if \"df_sx\" in globals() else df_opt.copy()\n",
    "for col in [\"post_covid\",\"post_vacc\",\"t_post_covid\",\"t\"]:\n",
    "    if col not in source_df.columns:\n",
    "        source_df[col] = 1\n",
    "source_df = source_df.sort_index()\n",
    "\n",
    "# --- Choisir une date de fin claire (lundi ISO)\n",
    "future_end = pd.Timestamp(\"2027-12-27\")\n",
    "future_start = source_df.index[-1] + pd.Timedelta(weeks=1)\n",
    "future_weeks = pd.date_range(start=future_start, end=future_end, freq=\"W-MON\")\n",
    "\n",
    "# --- Base exogène future (valeurs figées)\n",
    "last = source_df.iloc[-1]\n",
    "future_exog_base = pd.DataFrame(index=future_weeks)\n",
    "for c in [\"cov12_lag\",\"MNP_lag\",\"work_lag\",\"tmean_z\",\"vacc_x_mnp\"]:\n",
    "    future_exog_base[c] = last[c]\n",
    "\n",
    "# --- On gèle les tendances pour éviter la dérive linéaire\n",
    "future_exog_base[\"t\"] = last[\"t\"]\n",
    "future_exog_base[\"t_post_covid\"] = last[\"t_post_covid\"]\n",
    "future_exog_base[\"post_covid\"] = 1\n",
    "future_exog_base[\"post_vacc\"] = 1\n",
    "\n",
    "# --- Générateur de scénarios\n",
    "def make_future_exog(df_base, mnp_factor=1.0, vacc_factor=1.0):\n",
    "    df = df_base.copy()\n",
    "    df[\"cov12_lag\"] *= vacc_factor\n",
    "    df[\"MNP_lag\"]   *= mnp_factor\n",
    "    df[\"vacc_x_mnp\"] = df[\"cov12_lag\"] * df[\"MNP_lag\"]\n",
    "    return df[exog_cols]\n",
    "\n",
    "exog_relax   = make_future_exog(future_exog_base, mnp_factor=0.70, vacc_factor=1.00)  # relâchement\n",
    "exog_stable  = make_future_exog(future_exog_base, mnp_factor=1.00, vacc_factor=1.00)  # maintien\n",
    "exog_strong  = make_future_exog(future_exog_base, mnp_factor=1.40, vacc_factor=1.10)  # renforcement\n",
    "\n",
    "# --- Fonction de prévision\n",
    "def forecast_with(model, exog_future):\n",
    "    pred = model.get_forecast(steps=len(exog_future), exog=exog_future)\n",
    "    return pred.predicted_mean, pred.conf_int()\n",
    "\n",
    "y_relax, ci_relax   = forecast_with(sarimax_best, exog_relax)\n",
    "y_stable, ci_stable = forecast_with(sarimax_best, exog_stable)\n",
    "y_strong, ci_strong = forecast_with(sarimax_best, exog_strong)\n",
    "\n",
    "# --- 🧩 Amortissement exponentiel (stabilisation des cycles)\n",
    "decay = np.exp(-np.linspace(0, 2, len(future_weeks)))  # amortit sur 2 ans (ajuster si besoin)\n",
    "y_relax_stab   = y_relax * decay\n",
    "y_stable_stab  = y_stable * decay\n",
    "y_strong_stab  = y_strong * decay\n",
    "\n",
    "# --- Chargement RSV complet (2018–2025)\n",
    "try:\n",
    "    rsv_full = keyify(data[\"common_FR_long\"])\n",
    "    mask = (rsv_full[\"topic\"] == \"RSV\") & (rsv_full[\"geo_level\"] == \"FR\")\n",
    "    age_used = next(a for a in [\"00-04 ans\", \"0-1 an\", \"Tous âges\"] if ((mask) & (rsv_full[\"classe_d_age\"] == a)).any())\n",
    "    mask &= (rsv_full[\"classe_d_age\"] == age_used)\n",
    "    ycol = \"taux_passages_urgences\" if \"taux_passages_urgences\" in rsv_full.columns else \"taux_sos\"\n",
    "    rsv_full = rsv_full.loc[mask, [\"date_monday\", ycol]].rename(columns={ycol:\"RSV_full\"})\n",
    "    rsv_full[\"date_monday\"] = pd.to_datetime(rsv_full[\"date_monday\"])\n",
    "    rsv_full = rsv_full.sort_values(\"date_monday\").set_index(\"date_monday\")\n",
    "except Exception:\n",
    "    rsv_full = df_opt[[\"RSV\"]].rename(columns={\"RSV\":\"RSV_full\"})\n",
    "\n",
    "# --- Visualisation finale\n",
    "fig = go.Figure()\n",
    "\n",
    "# RSV observé complet\n",
    "fig.add_trace(go.Scatter(\n",
    "    x=rsv_full.index, y=rsv_full[\"RSV_full\"],\n",
    "    name=\"RSV observé (2018–2025 complet)\",\n",
    "    line=dict(color=\"black\", width=2)\n",
    "))\n",
    "\n",
    "# Prévisions stabilisées\n",
    "fig.add_trace(go.Scatter(x=future_weeks, y=y_relax_stab,\n",
    "                         name=\"Relâchement (-30%)\", line=dict(color=\"orange\", dash=\"dot\", width=2)))\n",
    "fig.add_trace(go.Scatter(x=future_weeks, y=y_stable_stab,\n",
    "                         name=\"Maintien (niveau 2024)\", line=dict(color=\"blue\", dash=\"dot\", width=2)))\n",
    "fig.add_trace(go.Scatter(x=future_weeks, y=y_strong_stab,\n",
    "                         name=\"Renforcement (+40%)\", line=dict(color=\"green\", dash=\"dot\", width=2)))\n",
    "\n",
    "# Jalons\n",
    "fig.add_vline(x=pd.Timestamp(\"2020-03-01\"), line_dash=\"dash\", line_color=\"red\")\n",
    "fig.add_vline(x=pd.Timestamp(\"2021-01-01\"), line_dash=\"dash\", line_color=\"green\")\n",
    "fig.add_vline(x=future_weeks[0], line_dash=\"dash\", line_color=\"gray\")\n",
    "\n",
    "fig.update_layout(\n",
    "    title=\"🔮 Prévisions RSV — SARIMAX (2018–2027, stabilisées et réalistes)\",\n",
    "    xaxis_title=\"Semaine ISO\",\n",
    "    yaxis_title=\"RSV simulé (taux hebdomadaire)\",\n",
    "    legend=dict(orientation=\"h\", y=-0.25),\n",
    "    height=700,\n",
    "    template=\"plotly_white\"\n",
    ")\n",
    "fig.show()\n",
    "\n",
    "# --- Tableau synthèse 2025–2027\n",
    "forecast_summary = pd.DataFrame({\n",
    "    \"Scénario\": [\"Relâchement (-30%)\",\"Maintien (2024)\",\"Renforcement (+40%)\"],\n",
    "    \"RSV_moyen\": [y_relax_stab.mean(), y_stable_stab.mean(), y_strong_stab.mean()],\n",
    "    \"RSV_max\":   [y_relax_stab.max(),  y_stable_stab.max(),  y_strong_stab.max()]\n",
    "}).round(1)\n",
    "forecast_summary[\"Δ_vs_maintien\"] = (forecast_summary[\"RSV_moyen\"] - forecast_summary.loc[1,\"RSV_moyen\"]).round(1)\n",
    "display(forecast_summary)\n",
    "\n",
    "print(\"✅ Prévisions stabilisées jusqu'à fin 2027, sans dérive artificielle.\")\n"
   ]
  },
  {
   "cell_type": "code",
   "execution_count": null,
   "id": "809c8166",
   "metadata": {},
   "outputs": [],
   "source": []
  }
 ],
 "metadata": {
  "kernelspec": {
   "display_name": "these2025",
   "language": "python",
   "name": "python3"
  },
  "language_info": {
   "codemirror_mode": {
    "name": "ipython",
    "version": 3
   },
   "file_extension": ".py",
   "mimetype": "text/x-python",
   "name": "python",
   "nbconvert_exporter": "python",
   "pygments_lexer": "ipython3",
   "version": "3.12.11"
  }
 },
 "nbformat": 4,
 "nbformat_minor": 5
}
